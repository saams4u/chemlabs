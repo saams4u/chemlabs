{
 "cells": [
  {
   "cell_type": "markdown",
   "metadata": {},
   "source": [
    "#### Antibiotic Resistant Bacteria Multiclass-Classification and Drug Discovery\n",
    "#### Corey J Sinnott\n",
    "# Resistance Mechanism Multiclass-Classification\n",
    "\n",
    "## Executive Summary\n",
    "\n",
    "This report was commissioned to determine a robust, fast, and reproducible means of searching for, and developing, new antibiotics, in an effort to combat antibiotic resistance. After in-depth analysis, conclusions and recommendations will be presented.\n",
    "   \n",
    "Data was obtained from the following source:\n",
    "- Comprehensive Antibiotic Resistance Database via CARD CLI interface: \n",
    " - https://card.mcmaster.ca\n",
    "- ChEMBL via Python client library: \n",
    " - https://www.ebi.ac.uk/chembl/ \n",
    "\n",
    "**Full Executive Summary, Conclusion, Recommendations, Data Dictionary and Sources can be found in README.**\n",
    "\n",
    "## Contents:\n",
    "- [Data Import & Cleaning](#Data-Import-&-Cleaning)"
   ]
  },
  {
   "cell_type": "markdown",
   "metadata": {},
   "source": [
    "#### Importing Libraries"
   ]
  },
  {
   "cell_type": "code",
   "execution_count": 15,
   "metadata": {},
   "outputs": [],
   "source": [
    "import matplotlib.pyplot as plt\n",
    "import seaborn as sns\n",
    "import pandas as pd\n",
    "import numpy as np\n",
    "from sklearn.pipeline import make_pipeline\n",
    "import warnings\n",
    "warnings.filterwarnings(\"ignore\")\n",
    "from sklearn import set_config\n",
    "from sklearn.compose import make_column_transformer, make_column_selector\n",
    "#from sklearn.preprocessing import OneHotEncoder\n",
    "from category_encoders import OneHotEncoder\n",
    "from sklearn.impute import SimpleImputer\n",
    "from sklearn.preprocessing import PolynomialFeatures, StandardScaler\n",
    "from sklearn.feature_selection import RFE\n",
    "from sklearn.pipeline import make_pipeline\n",
    "from sklearn.model_selection import GridSearchCV, train_test_split, RandomizedSearchCV\n",
    "from sklearn.svm import SVC\n",
    "from sklearn.ensemble import RandomForestClassifier, AdaBoostClassifier, GradientBoostingClassifier\n",
    "from sklearn.tree import DecisionTreeClassifier\n",
    "from sklearn.ensemble import BaggingClassifier\n",
    "from sklearn.metrics import confusion_matrix, accuracy_score, balanced_accuracy_score,\\\n",
    "                            precision_score, recall_score, roc_auc_score,\\\n",
    "                            plot_confusion_matrix, classification_report, plot_roc_curve\n",
    "from sklearn.preprocessing import LabelBinarizer\n",
    "from lazypredict.Supervised import Classification, Regression"
   ]
  },
  {
   "cell_type": "markdown",
   "metadata": {},
   "source": [
    "# Data Import & Cleaning"
   ]
  },
  {
   "cell_type": "code",
   "execution_count": 3,
   "metadata": {},
   "outputs": [],
   "source": [
    "df = pd.read_csv('./data/trimmed_df_for_classification_v1.csv')"
   ]
  },
  {
   "cell_type": "code",
   "execution_count": 4,
   "metadata": {},
   "outputs": [
    {
     "data": {
      "text/html": [
       "<div>\n",
       "<style scoped>\n",
       "    .dataframe tbody tr th:only-of-type {\n",
       "        vertical-align: middle;\n",
       "    }\n",
       "\n",
       "    .dataframe tbody tr th {\n",
       "        vertical-align: top;\n",
       "    }\n",
       "\n",
       "    .dataframe thead th {\n",
       "        text-align: right;\n",
       "    }\n",
       "</style>\n",
       "<table border=\"1\" class=\"dataframe\">\n",
       "  <thead>\n",
       "    <tr style=\"text-align: right;\">\n",
       "      <th></th>\n",
       "      <th>filename</th>\n",
       "      <th>rgi_main.Drug Class</th>\n",
       "      <th>rgi_main.Resistance Mechanism</th>\n",
       "      <th>rgi_main.CARD_Protein_Sequence</th>\n",
       "      <th>rgi_main.Percentage Length of Reference Sequence</th>\n",
       "      <th>lmat.score</th>\n",
       "      <th>lmat.count</th>\n",
       "      <th>mlst.alleles_1</th>\n",
       "      <th>mlst.alleles_2</th>\n",
       "      <th>mlst.alleles_3</th>\n",
       "      <th>mlst.alleles_4</th>\n",
       "      <th>mlst.alleles_5</th>\n",
       "      <th>mlst.alleles_6</th>\n",
       "      <th>mlst.alleles_7</th>\n",
       "      <th>mlst.alleles_8</th>\n",
       "      <th>mlst.alleles_9</th>\n",
       "      <th>mlst.alleles_10</th>\n",
       "    </tr>\n",
       "  </thead>\n",
       "  <tbody>\n",
       "    <tr>\n",
       "      <th>1959</th>\n",
       "      <td>8a3f84c136a2a0ddd1faabc440a7cf57</td>\n",
       "      <td>fluoroquinolone antibiotic; acridine dye; tric...</td>\n",
       "      <td>antibiotic efflux</td>\n",
       "      <td>MSNVTSFRSELKQLFHLMLPILITQFAQAGFGLIDTIMAGHLSAAD...</td>\n",
       "      <td>100.00</td>\n",
       "      <td>3944.970</td>\n",
       "      <td>5618.0</td>\n",
       "      <td>Pas_cpn60(2)</td>\n",
       "      <td>Pas_fusA(2)</td>\n",
       "      <td>Pas_gltA(2)</td>\n",
       "      <td>Pas_pyrG(2)</td>\n",
       "      <td>Pas_recA(2)</td>\n",
       "      <td>Pas_rplB(2)</td>\n",
       "      <td>Pas_rpoB(2)</td>\n",
       "      <td>NaN</td>\n",
       "      <td>NaN</td>\n",
       "      <td>NaN</td>\n",
       "    </tr>\n",
       "    <tr>\n",
       "      <th>1921</th>\n",
       "      <td>872aa31717b84c6bd5a7aa9befc14bcf</td>\n",
       "      <td>fluoroquinolone antibiotic; acridine dye; tric...</td>\n",
       "      <td>antibiotic efflux</td>\n",
       "      <td>MSNVTSFRSELKQLFHLMLPILITQFAQAGFGLIDTIMAGHLSAAD...</td>\n",
       "      <td>100.00</td>\n",
       "      <td>4412.820</td>\n",
       "      <td>6012.0</td>\n",
       "      <td>Pas_cpn60(2)</td>\n",
       "      <td>Pas_fusA(2)</td>\n",
       "      <td>Pas_gltA(2)</td>\n",
       "      <td>Pas_pyrG(2)</td>\n",
       "      <td>Pas_recA(2)</td>\n",
       "      <td>Pas_rplB(2)</td>\n",
       "      <td>Pas_rpoB(2)</td>\n",
       "      <td>NaN</td>\n",
       "      <td>NaN</td>\n",
       "      <td>NaN</td>\n",
       "    </tr>\n",
       "    <tr>\n",
       "      <th>2340</th>\n",
       "      <td>a2e1d7732cf6f6f2ecb249ed8f15ef4b</td>\n",
       "      <td>NaN</td>\n",
       "      <td>NaN</td>\n",
       "      <td>NaN</td>\n",
       "      <td>NaN</td>\n",
       "      <td>17679.100</td>\n",
       "      <td>10162.0</td>\n",
       "      <td>NaN</td>\n",
       "      <td>NaN</td>\n",
       "      <td>NaN</td>\n",
       "      <td>NaN</td>\n",
       "      <td>NaN</td>\n",
       "      <td>NaN</td>\n",
       "      <td>NaN</td>\n",
       "      <td>NaN</td>\n",
       "      <td>NaN</td>\n",
       "      <td>NaN</td>\n",
       "    </tr>\n",
       "    <tr>\n",
       "      <th>851</th>\n",
       "      <td>3cb91ddcb4572492892a0a26e7d6dd11</td>\n",
       "      <td>fluoroquinolone antibiotic; tetracycline antib...</td>\n",
       "      <td>antibiotic efflux</td>\n",
       "      <td>MFKKIFPLALVSSLRFLGLFIVLPVISLYADSFHSSSPLLVGLAVG...</td>\n",
       "      <td>100.00</td>\n",
       "      <td>13.596</td>\n",
       "      <td>7.0</td>\n",
       "      <td>atpA(~2764)</td>\n",
       "      <td>efp(82)</td>\n",
       "      <td>mutY(~2663)</td>\n",
       "      <td>ppa(~2658)</td>\n",
       "      <td>trpC(~2204)</td>\n",
       "      <td>ureI(~1586)</td>\n",
       "      <td>yphC(~2041)</td>\n",
       "      <td>NaN</td>\n",
       "      <td>NaN</td>\n",
       "      <td>NaN</td>\n",
       "    </tr>\n",
       "    <tr>\n",
       "      <th>1537</th>\n",
       "      <td>6ed1a7efd720f0ec184b17a420c94419</td>\n",
       "      <td>fluoroquinolone antibiotic</td>\n",
       "      <td>antibiotic efflux</td>\n",
       "      <td>MDFEKDVIRTVTFKLIPALVILYLVAYIDRAAVGFAHLHMGADVGI...</td>\n",
       "      <td>44.24</td>\n",
       "      <td>5646.620</td>\n",
       "      <td>7823.0</td>\n",
       "      <td>Pas_cpn60(~3)</td>\n",
       "      <td>Pas_fusA(2)</td>\n",
       "      <td>Pas_gltA(2)</td>\n",
       "      <td>Pas_pyrG(~80)</td>\n",
       "      <td>Pas_recA(~195)</td>\n",
       "      <td>Pas_rplB(~2)</td>\n",
       "      <td>Pas_rpoB(~5)</td>\n",
       "      <td>NaN</td>\n",
       "      <td>NaN</td>\n",
       "      <td>NaN</td>\n",
       "    </tr>\n",
       "  </tbody>\n",
       "</table>\n",
       "</div>"
      ],
      "text/plain": [
       "                              filename  \\\n",
       "1959  8a3f84c136a2a0ddd1faabc440a7cf57   \n",
       "1921  872aa31717b84c6bd5a7aa9befc14bcf   \n",
       "2340  a2e1d7732cf6f6f2ecb249ed8f15ef4b   \n",
       "851   3cb91ddcb4572492892a0a26e7d6dd11   \n",
       "1537  6ed1a7efd720f0ec184b17a420c94419   \n",
       "\n",
       "                                    rgi_main.Drug Class  \\\n",
       "1959  fluoroquinolone antibiotic; acridine dye; tric...   \n",
       "1921  fluoroquinolone antibiotic; acridine dye; tric...   \n",
       "2340                                                NaN   \n",
       "851   fluoroquinolone antibiotic; tetracycline antib...   \n",
       "1537                         fluoroquinolone antibiotic   \n",
       "\n",
       "     rgi_main.Resistance Mechanism  \\\n",
       "1959             antibiotic efflux   \n",
       "1921             antibiotic efflux   \n",
       "2340                           NaN   \n",
       "851              antibiotic efflux   \n",
       "1537             antibiotic efflux   \n",
       "\n",
       "                         rgi_main.CARD_Protein_Sequence  \\\n",
       "1959  MSNVTSFRSELKQLFHLMLPILITQFAQAGFGLIDTIMAGHLSAAD...   \n",
       "1921  MSNVTSFRSELKQLFHLMLPILITQFAQAGFGLIDTIMAGHLSAAD...   \n",
       "2340                                                NaN   \n",
       "851   MFKKIFPLALVSSLRFLGLFIVLPVISLYADSFHSSSPLLVGLAVG...   \n",
       "1537  MDFEKDVIRTVTFKLIPALVILYLVAYIDRAAVGFAHLHMGADVGI...   \n",
       "\n",
       "      rgi_main.Percentage Length of Reference Sequence  lmat.score  \\\n",
       "1959                                            100.00    3944.970   \n",
       "1921                                            100.00    4412.820   \n",
       "2340                                               NaN   17679.100   \n",
       "851                                             100.00      13.596   \n",
       "1537                                             44.24    5646.620   \n",
       "\n",
       "      lmat.count mlst.alleles_1 mlst.alleles_2 mlst.alleles_3 mlst.alleles_4  \\\n",
       "1959      5618.0   Pas_cpn60(2)    Pas_fusA(2)    Pas_gltA(2)    Pas_pyrG(2)   \n",
       "1921      6012.0   Pas_cpn60(2)    Pas_fusA(2)    Pas_gltA(2)    Pas_pyrG(2)   \n",
       "2340     10162.0            NaN            NaN            NaN            NaN   \n",
       "851          7.0    atpA(~2764)        efp(82)    mutY(~2663)     ppa(~2658)   \n",
       "1537      7823.0  Pas_cpn60(~3)    Pas_fusA(2)    Pas_gltA(2)  Pas_pyrG(~80)   \n",
       "\n",
       "      mlst.alleles_5 mlst.alleles_6 mlst.alleles_7 mlst.alleles_8  \\\n",
       "1959     Pas_recA(2)    Pas_rplB(2)    Pas_rpoB(2)            NaN   \n",
       "1921     Pas_recA(2)    Pas_rplB(2)    Pas_rpoB(2)            NaN   \n",
       "2340             NaN            NaN            NaN            NaN   \n",
       "851      trpC(~2204)    ureI(~1586)    yphC(~2041)            NaN   \n",
       "1537  Pas_recA(~195)   Pas_rplB(~2)   Pas_rpoB(~5)            NaN   \n",
       "\n",
       "     mlst.alleles_9 mlst.alleles_10  \n",
       "1959            NaN             NaN  \n",
       "1921            NaN             NaN  \n",
       "2340            NaN             NaN  \n",
       "851             NaN             NaN  \n",
       "1537            NaN             NaN  "
      ]
     },
     "execution_count": 4,
     "metadata": {},
     "output_type": "execute_result"
    }
   ],
   "source": [
    "df.sample(5)"
   ]
  },
  {
   "cell_type": "code",
   "execution_count": 5,
   "metadata": {},
   "outputs": [
    {
     "data": {
      "text/plain": [
       "antibiotic efflux                     1826\n",
       "antibiotic inactivation                636\n",
       "antibiotic target alteration           287\n",
       "antibiotic target replacement           91\n",
       "antibiotic target protection            83\n",
       "reduced permeability to antibiotic      30\n",
       "Name: rgi_main.Resistance Mechanism, dtype: int64"
      ]
     },
     "execution_count": 5,
     "metadata": {},
     "output_type": "execute_result"
    }
   ],
   "source": [
    "df['rgi_main.Resistance Mechanism'].value_counts()"
   ]
  },
  {
   "cell_type": "markdown",
   "metadata": {},
   "source": [
    "Assigning a numeric value to each mechanism of resistance."
   ]
  },
  {
   "cell_type": "code",
   "execution_count": 6,
   "metadata": {},
   "outputs": [],
   "source": [
    "df['rgi_main.Resistance Mechanism'].replace(to_replace = 'antibiotic efflux',\n",
    "                                    value = 0, inplace=True)\n",
    "\n",
    "df['rgi_main.Resistance Mechanism'].replace(to_replace = 'antibiotic inactivation',\n",
    "                                    value = 1, inplace=True)\n",
    "\n",
    "df['rgi_main.Resistance Mechanism'].replace(to_replace = 'antibiotic target alteration',\n",
    "                                    value = 2, inplace=True)\n",
    "\n",
    "df['rgi_main.Resistance Mechanism'].replace(to_replace = 'antibiotic target replacement',\n",
    "                                    value = 3, inplace=True)\n",
    "\n",
    "df['rgi_main.Resistance Mechanism'].replace(to_replace = 'antibiotic target protection',\n",
    "                                    value = 4, inplace=True)\n",
    "\n",
    "df['rgi_main.Resistance Mechanism'].replace(to_replace = 'reduced permeability to antibiotic',\n",
    "                                    value = 5, inplace=True)"
   ]
  },
  {
   "cell_type": "code",
   "execution_count": 7,
   "metadata": {},
   "outputs": [
    {
     "data": {
      "text/plain": [
       "0.0    1826\n",
       "1.0     636\n",
       "2.0     287\n",
       "3.0      91\n",
       "4.0      83\n",
       "5.0      30\n",
       "Name: rgi_main.Resistance Mechanism, dtype: int64"
      ]
     },
     "execution_count": 7,
     "metadata": {},
     "output_type": "execute_result"
    }
   ],
   "source": [
    "df['rgi_main.Resistance Mechanism'].value_counts()"
   ]
  },
  {
   "cell_type": "code",
   "execution_count": 8,
   "metadata": {},
   "outputs": [],
   "source": [
    "df.dropna(subset = ['rgi_main.CARD_Protein_Sequence', 'rgi_main.Resistance Mechanism'], inplace=True)"
   ]
  },
  {
   "cell_type": "code",
   "execution_count": 9,
   "metadata": {},
   "outputs": [],
   "source": [
    "df['rgi_main.Resistance Mechanism'] = df['rgi_main.Resistance Mechanism'].apply(np.int64)"
   ]
  },
  {
   "cell_type": "markdown",
   "metadata": {},
   "source": [
    "Defining variables & encoding"
   ]
  },
  {
   "cell_type": "code",
   "execution_count": 21,
   "metadata": {},
   "outputs": [],
   "source": [
    "#just protein test\n",
    "X = df[['rgi_main.CARD_Protein_Sequence']]\n",
    "y = df['rgi_main.Resistance Mechanism']"
   ]
  },
  {
   "cell_type": "code",
   "execution_count": 11,
   "metadata": {},
   "outputs": [],
   "source": [
    "X_train, X_test, y_train, y_test = train_test_split(X, y, stratify = y)"
   ]
  },
  {
   "cell_type": "code",
   "execution_count": 12,
   "metadata": {},
   "outputs": [],
   "source": [
    "ohe = OneHotEncoder()"
   ]
  },
  {
   "cell_type": "code",
   "execution_count": 13,
   "metadata": {},
   "outputs": [],
   "source": [
    "X_train = ohe.fit_transform(X_train)\n",
    "X_test = ohe.transform(X_test)"
   ]
  },
  {
   "cell_type": "markdown",
   "metadata": {},
   "source": [
    "# Model Testing"
   ]
  },
  {
   "cell_type": "markdown",
   "metadata": {},
   "source": [
    "Lazypredict model search"
   ]
  },
  {
   "cell_type": "code",
   "execution_count": 16,
   "metadata": {},
   "outputs": [],
   "source": [
    "clf = Classification()"
   ]
  },
  {
   "cell_type": "code",
   "execution_count": 17,
   "metadata": {},
   "outputs": [
    {
     "name": "stderr",
     "output_type": "stream",
     "text": [
      "100%|██████████| 29/29 [00:46<00:00,  1.59s/it]\n"
     ]
    }
   ],
   "source": [
    "models, predictions = clf.fit(X_train, X_test, y_train, y_test)"
   ]
  },
  {
   "cell_type": "code",
   "execution_count": 18,
   "metadata": {},
   "outputs": [
    {
     "data": {
      "text/html": [
       "<div>\n",
       "<style scoped>\n",
       "    .dataframe tbody tr th:only-of-type {\n",
       "        vertical-align: middle;\n",
       "    }\n",
       "\n",
       "    .dataframe tbody tr th {\n",
       "        vertical-align: top;\n",
       "    }\n",
       "\n",
       "    .dataframe thead th {\n",
       "        text-align: right;\n",
       "    }\n",
       "</style>\n",
       "<table border=\"1\" class=\"dataframe\">\n",
       "  <thead>\n",
       "    <tr style=\"text-align: right;\">\n",
       "      <th></th>\n",
       "      <th>Accuracy</th>\n",
       "      <th>Balanced Accuracy</th>\n",
       "      <th>ROC AUC</th>\n",
       "      <th>F1 Score</th>\n",
       "      <th>Time Taken</th>\n",
       "    </tr>\n",
       "    <tr>\n",
       "      <th>Model</th>\n",
       "      <th></th>\n",
       "      <th></th>\n",
       "      <th></th>\n",
       "      <th></th>\n",
       "      <th></th>\n",
       "    </tr>\n",
       "  </thead>\n",
       "  <tbody>\n",
       "    <tr>\n",
       "      <th>SGDClassifier</th>\n",
       "      <td>0.96</td>\n",
       "      <td>0.94</td>\n",
       "      <td>None</td>\n",
       "      <td>0.96</td>\n",
       "      <td>0.06</td>\n",
       "    </tr>\n",
       "    <tr>\n",
       "      <th>LabelPropagation</th>\n",
       "      <td>0.96</td>\n",
       "      <td>0.93</td>\n",
       "      <td>None</td>\n",
       "      <td>0.95</td>\n",
       "      <td>0.15</td>\n",
       "    </tr>\n",
       "    <tr>\n",
       "      <th>RidgeClassifier</th>\n",
       "      <td>0.96</td>\n",
       "      <td>0.93</td>\n",
       "      <td>None</td>\n",
       "      <td>0.95</td>\n",
       "      <td>0.04</td>\n",
       "    </tr>\n",
       "    <tr>\n",
       "      <th>RandomForestClassifier</th>\n",
       "      <td>0.96</td>\n",
       "      <td>0.93</td>\n",
       "      <td>None</td>\n",
       "      <td>0.95</td>\n",
       "      <td>0.58</td>\n",
       "    </tr>\n",
       "    <tr>\n",
       "      <th>Perceptron</th>\n",
       "      <td>0.96</td>\n",
       "      <td>0.93</td>\n",
       "      <td>None</td>\n",
       "      <td>0.95</td>\n",
       "      <td>0.07</td>\n",
       "    </tr>\n",
       "    <tr>\n",
       "      <th>PassiveAggressiveClassifier</th>\n",
       "      <td>0.96</td>\n",
       "      <td>0.93</td>\n",
       "      <td>None</td>\n",
       "      <td>0.95</td>\n",
       "      <td>0.09</td>\n",
       "    </tr>\n",
       "    <tr>\n",
       "      <th>NearestCentroid</th>\n",
       "      <td>0.96</td>\n",
       "      <td>0.93</td>\n",
       "      <td>None</td>\n",
       "      <td>0.95</td>\n",
       "      <td>0.04</td>\n",
       "    </tr>\n",
       "    <tr>\n",
       "      <th>LogisticRegression</th>\n",
       "      <td>0.96</td>\n",
       "      <td>0.93</td>\n",
       "      <td>None</td>\n",
       "      <td>0.95</td>\n",
       "      <td>0.09</td>\n",
       "    </tr>\n",
       "    <tr>\n",
       "      <th>LinearSVC</th>\n",
       "      <td>0.96</td>\n",
       "      <td>0.93</td>\n",
       "      <td>None</td>\n",
       "      <td>0.95</td>\n",
       "      <td>7.48</td>\n",
       "    </tr>\n",
       "    <tr>\n",
       "      <th>LabelSpreading</th>\n",
       "      <td>0.96</td>\n",
       "      <td>0.93</td>\n",
       "      <td>None</td>\n",
       "      <td>0.95</td>\n",
       "      <td>0.20</td>\n",
       "    </tr>\n",
       "    <tr>\n",
       "      <th>RidgeClassifierCV</th>\n",
       "      <td>0.96</td>\n",
       "      <td>0.93</td>\n",
       "      <td>None</td>\n",
       "      <td>0.95</td>\n",
       "      <td>0.09</td>\n",
       "    </tr>\n",
       "    <tr>\n",
       "      <th>ExtraTreesClassifier</th>\n",
       "      <td>0.96</td>\n",
       "      <td>0.93</td>\n",
       "      <td>None</td>\n",
       "      <td>0.95</td>\n",
       "      <td>0.66</td>\n",
       "    </tr>\n",
       "    <tr>\n",
       "      <th>ExtraTreeClassifier</th>\n",
       "      <td>0.96</td>\n",
       "      <td>0.93</td>\n",
       "      <td>None</td>\n",
       "      <td>0.95</td>\n",
       "      <td>0.04</td>\n",
       "    </tr>\n",
       "    <tr>\n",
       "      <th>SVC</th>\n",
       "      <td>0.96</td>\n",
       "      <td>0.93</td>\n",
       "      <td>None</td>\n",
       "      <td>0.95</td>\n",
       "      <td>0.69</td>\n",
       "    </tr>\n",
       "    <tr>\n",
       "      <th>DecisionTreeClassifier</th>\n",
       "      <td>0.96</td>\n",
       "      <td>0.93</td>\n",
       "      <td>None</td>\n",
       "      <td>0.95</td>\n",
       "      <td>0.14</td>\n",
       "    </tr>\n",
       "    <tr>\n",
       "      <th>CalibratedClassifierCV</th>\n",
       "      <td>0.96</td>\n",
       "      <td>0.93</td>\n",
       "      <td>None</td>\n",
       "      <td>0.95</td>\n",
       "      <td>31.78</td>\n",
       "    </tr>\n",
       "    <tr>\n",
       "      <th>GaussianNB</th>\n",
       "      <td>0.95</td>\n",
       "      <td>0.93</td>\n",
       "      <td>None</td>\n",
       "      <td>0.97</td>\n",
       "      <td>0.05</td>\n",
       "    </tr>\n",
       "    <tr>\n",
       "      <th>BaggingClassifier</th>\n",
       "      <td>0.95</td>\n",
       "      <td>0.91</td>\n",
       "      <td>None</td>\n",
       "      <td>0.95</td>\n",
       "      <td>0.57</td>\n",
       "    </tr>\n",
       "    <tr>\n",
       "      <th>KNeighborsClassifier</th>\n",
       "      <td>0.92</td>\n",
       "      <td>0.87</td>\n",
       "      <td>None</td>\n",
       "      <td>0.92</td>\n",
       "      <td>0.50</td>\n",
       "    </tr>\n",
       "    <tr>\n",
       "      <th>XGBClassifier</th>\n",
       "      <td>0.91</td>\n",
       "      <td>0.86</td>\n",
       "      <td>None</td>\n",
       "      <td>0.91</td>\n",
       "      <td>1.70</td>\n",
       "    </tr>\n",
       "    <tr>\n",
       "      <th>QuadraticDiscriminantAnalysis</th>\n",
       "      <td>0.95</td>\n",
       "      <td>0.76</td>\n",
       "      <td>None</td>\n",
       "      <td>0.94</td>\n",
       "      <td>0.10</td>\n",
       "    </tr>\n",
       "    <tr>\n",
       "      <th>BernoulliNB</th>\n",
       "      <td>0.89</td>\n",
       "      <td>0.45</td>\n",
       "      <td>None</td>\n",
       "      <td>0.85</td>\n",
       "      <td>0.04</td>\n",
       "    </tr>\n",
       "    <tr>\n",
       "      <th>AdaBoostClassifier</th>\n",
       "      <td>0.66</td>\n",
       "      <td>0.36</td>\n",
       "      <td>None</td>\n",
       "      <td>0.56</td>\n",
       "      <td>0.36</td>\n",
       "    </tr>\n",
       "    <tr>\n",
       "      <th>LGBMClassifier</th>\n",
       "      <td>0.73</td>\n",
       "      <td>0.33</td>\n",
       "      <td>None</td>\n",
       "      <td>0.66</td>\n",
       "      <td>0.31</td>\n",
       "    </tr>\n",
       "    <tr>\n",
       "      <th>LinearDiscriminantAnalysis</th>\n",
       "      <td>0.63</td>\n",
       "      <td>0.25</td>\n",
       "      <td>None</td>\n",
       "      <td>0.50</td>\n",
       "      <td>0.12</td>\n",
       "    </tr>\n",
       "    <tr>\n",
       "      <th>CategoricalNB</th>\n",
       "      <td>0.62</td>\n",
       "      <td>0.17</td>\n",
       "      <td>None</td>\n",
       "      <td>0.47</td>\n",
       "      <td>0.09</td>\n",
       "    </tr>\n",
       "    <tr>\n",
       "      <th>DummyClassifier</th>\n",
       "      <td>0.43</td>\n",
       "      <td>0.16</td>\n",
       "      <td>None</td>\n",
       "      <td>0.43</td>\n",
       "      <td>0.03</td>\n",
       "    </tr>\n",
       "  </tbody>\n",
       "</table>\n",
       "</div>"
      ],
      "text/plain": [
       "                               Accuracy  Balanced Accuracy ROC AUC  F1 Score  \\\n",
       "Model                                                                          \n",
       "SGDClassifier                      0.96               0.94    None      0.96   \n",
       "LabelPropagation                   0.96               0.93    None      0.95   \n",
       "RidgeClassifier                    0.96               0.93    None      0.95   \n",
       "RandomForestClassifier             0.96               0.93    None      0.95   \n",
       "Perceptron                         0.96               0.93    None      0.95   \n",
       "PassiveAggressiveClassifier        0.96               0.93    None      0.95   \n",
       "NearestCentroid                    0.96               0.93    None      0.95   \n",
       "LogisticRegression                 0.96               0.93    None      0.95   \n",
       "LinearSVC                          0.96               0.93    None      0.95   \n",
       "LabelSpreading                     0.96               0.93    None      0.95   \n",
       "RidgeClassifierCV                  0.96               0.93    None      0.95   \n",
       "ExtraTreesClassifier               0.96               0.93    None      0.95   \n",
       "ExtraTreeClassifier                0.96               0.93    None      0.95   \n",
       "SVC                                0.96               0.93    None      0.95   \n",
       "DecisionTreeClassifier             0.96               0.93    None      0.95   \n",
       "CalibratedClassifierCV             0.96               0.93    None      0.95   \n",
       "GaussianNB                         0.95               0.93    None      0.97   \n",
       "BaggingClassifier                  0.95               0.91    None      0.95   \n",
       "KNeighborsClassifier               0.92               0.87    None      0.92   \n",
       "XGBClassifier                      0.91               0.86    None      0.91   \n",
       "QuadraticDiscriminantAnalysis      0.95               0.76    None      0.94   \n",
       "BernoulliNB                        0.89               0.45    None      0.85   \n",
       "AdaBoostClassifier                 0.66               0.36    None      0.56   \n",
       "LGBMClassifier                     0.73               0.33    None      0.66   \n",
       "LinearDiscriminantAnalysis         0.63               0.25    None      0.50   \n",
       "CategoricalNB                      0.62               0.17    None      0.47   \n",
       "DummyClassifier                    0.43               0.16    None      0.43   \n",
       "\n",
       "                               Time Taken  \n",
       "Model                                      \n",
       "SGDClassifier                        0.06  \n",
       "LabelPropagation                     0.15  \n",
       "RidgeClassifier                      0.04  \n",
       "RandomForestClassifier               0.58  \n",
       "Perceptron                           0.07  \n",
       "PassiveAggressiveClassifier          0.09  \n",
       "NearestCentroid                      0.04  \n",
       "LogisticRegression                   0.09  \n",
       "LinearSVC                            7.48  \n",
       "LabelSpreading                       0.20  \n",
       "RidgeClassifierCV                    0.09  \n",
       "ExtraTreesClassifier                 0.66  \n",
       "ExtraTreeClassifier                  0.04  \n",
       "SVC                                  0.69  \n",
       "DecisionTreeClassifier               0.14  \n",
       "CalibratedClassifierCV              31.78  \n",
       "GaussianNB                           0.05  \n",
       "BaggingClassifier                    0.57  \n",
       "KNeighborsClassifier                 0.50  \n",
       "XGBClassifier                        1.70  \n",
       "QuadraticDiscriminantAnalysis        0.10  \n",
       "BernoulliNB                          0.04  \n",
       "AdaBoostClassifier                   0.36  \n",
       "LGBMClassifier                       0.31  \n",
       "LinearDiscriminantAnalysis           0.12  \n",
       "CategoricalNB                        0.09  \n",
       "DummyClassifier                      0.03  "
      ]
     },
     "execution_count": 18,
     "metadata": {},
     "output_type": "execute_result"
    }
   ],
   "source": [
    "models"
   ]
  },
  {
   "cell_type": "markdown",
   "metadata": {},
   "source": [
    "Random Forest"
   ]
  },
  {
   "cell_type": "code",
   "execution_count": 122,
   "metadata": {},
   "outputs": [],
   "source": [
    "from sklearn.metrics import classification_report"
   ]
  },
  {
   "cell_type": "code",
   "execution_count": 125,
   "metadata": {},
   "outputs": [
    {
     "name": "stdout",
     "output_type": "stream",
     "text": [
      "accuracy  = 0.97\n",
      "metrics:               precision    recall  f1-score   support\n",
      "\n",
      "         0.0       0.95      1.00      0.98       457\n",
      "         1.0       1.00      0.92      0.96       159\n",
      "         2.0       1.00      0.92      0.96        72\n",
      "         3.0       1.00      0.87      0.93        23\n",
      "         4.0       1.00      0.95      0.98        21\n",
      "         5.0       1.00      1.00      1.00         7\n",
      "\n",
      "    accuracy                           0.97       739\n",
      "   macro avg       0.99      0.94      0.97       739\n",
      "weighted avg       0.97      0.97      0.97       739\n",
      "\n"
     ]
    }
   ],
   "source": [
    "RF = RandomForestClassifier(n_estimators = 500)\n",
    "RF.fit(X_train, y_train)\n",
    "y_pred = RF.predict(X_test)\n",
    "print(f'accuracy  = {np.round(accuracy_score(y_test, y_pred), 3)}')\n",
    "print(f'metrics: {classification_report(y_test, y_pred)}')"
   ]
  },
  {
   "cell_type": "code",
   "execution_count": 126,
   "metadata": {},
   "outputs": [
    {
     "data": {
      "text/plain": [
       "array([[457,   0,   0,   0,   0,   0],\n",
       "       [ 12, 147,   0,   0,   0,   0],\n",
       "       [  6,   0,  66,   0,   0,   0],\n",
       "       [  3,   0,   0,  20,   0,   0],\n",
       "       [  1,   0,   0,   0,  20,   0],\n",
       "       [  0,   0,   0,   0,   0,   7]])"
      ]
     },
     "execution_count": 126,
     "metadata": {},
     "output_type": "execute_result"
    }
   ],
   "source": [
    "confusion_matrix(y_test, y_pred)\n",
    "#obv biased due to the imbalanced classes"
   ]
  },
  {
   "cell_type": "markdown",
   "metadata": {},
   "source": [
    "SVC"
   ]
  },
  {
   "cell_type": "code",
   "execution_count": 135,
   "metadata": {},
   "outputs": [],
   "source": [
    "svc = SVC()"
   ]
  },
  {
   "cell_type": "code",
   "execution_count": 136,
   "metadata": {},
   "outputs": [
    {
     "data": {
      "text/plain": [
       "SVC()"
      ]
     },
     "execution_count": 136,
     "metadata": {},
     "output_type": "execute_result"
    }
   ],
   "source": [
    "svc.fit(X_train, y_train)"
   ]
  },
  {
   "cell_type": "code",
   "execution_count": 144,
   "metadata": {},
   "outputs": [
    {
     "data": {
      "text/plain": [
       "0.9702300405953992"
      ]
     },
     "execution_count": 144,
     "metadata": {},
     "output_type": "execute_result"
    }
   ],
   "source": [
    "svc.score(X_test, y_test)"
   ]
  },
  {
   "cell_type": "code",
   "execution_count": 137,
   "metadata": {},
   "outputs": [
    {
     "name": "stdout",
     "output_type": "stream",
     "text": [
      "accuracy  = 0.97\n",
      "metrics:               precision    recall  f1-score   support\n",
      "\n",
      "         0.0       0.95      1.00      0.98       457\n",
      "         1.0       1.00      0.92      0.96       159\n",
      "         2.0       1.00      0.92      0.96        72\n",
      "         3.0       1.00      0.87      0.93        23\n",
      "         4.0       1.00      0.95      0.98        21\n",
      "         5.0       1.00      1.00      1.00         7\n",
      "\n",
      "    accuracy                           0.97       739\n",
      "   macro avg       0.99      0.94      0.97       739\n",
      "weighted avg       0.97      0.97      0.97       739\n",
      "\n"
     ]
    }
   ],
   "source": [
    "y_pred = svc.predict(X_test)\n",
    "print(f'accuracy  = {np.round(accuracy_score(y_test, y_pred), 3)}')\n",
    "print(f'metrics: {classification_report(y_test, y_pred)}')"
   ]
  },
  {
   "cell_type": "code",
   "execution_count": 139,
   "metadata": {},
   "outputs": [
    {
     "data": {
      "text/plain": [
       "array([[457,   0,   0,   0,   0,   0],\n",
       "       [ 12, 147,   0,   0,   0,   0],\n",
       "       [  6,   0,  66,   0,   0,   0],\n",
       "       [  3,   0,   0,  20,   0,   0],\n",
       "       [  1,   0,   0,   0,  20,   0],\n",
       "       [  0,   0,   0,   0,   0,   7]])"
      ]
     },
     "execution_count": 139,
     "metadata": {},
     "output_type": "execute_result"
    }
   ],
   "source": [
    "confusion_matrix(y_test, y_pred)"
   ]
  },
  {
   "cell_type": "markdown",
   "metadata": {},
   "source": [
    "# Tuning Model"
   ]
  },
  {
   "cell_type": "code",
   "execution_count": 128,
   "metadata": {},
   "outputs": [],
   "source": [
    "params = {\n",
    "    'n_estimators' : [1000, 2500],\n",
    "    'ccp_alpha' : [0.0, 0.01, 0.001],\n",
    "    'min_samples_leaf' : [0, 1, 3],\n",
    "    'criterion' : ['gini', 'entropy'],\n",
    "    'oob_score' : [True, False]\n",
    "}"
   ]
  },
  {
   "cell_type": "code",
   "execution_count": 132,
   "metadata": {},
   "outputs": [],
   "source": [
    "grid = GridSearchCV(RF, params)"
   ]
  },
  {
   "cell_type": "code",
   "execution_count": 133,
   "metadata": {},
   "outputs": [
    {
     "data": {
      "text/plain": [
       "GridSearchCV(estimator=RandomForestClassifier(n_estimators=500),\n",
       "             param_grid={'ccp_alpha': [0.0, 0.01, 0.001],\n",
       "                         'criterion': ['gini', 'entropy'],\n",
       "                         'min_samples_leaf': [0, 1, 3],\n",
       "                         'n_estimators': [1000, 2500],\n",
       "                         'oob_score': [True, False]})"
      ]
     },
     "execution_count": 133,
     "metadata": {},
     "output_type": "execute_result"
    }
   ],
   "source": [
    "grid.fit(X_train, y_train)"
   ]
  },
  {
   "cell_type": "code",
   "execution_count": 138,
   "metadata": {},
   "outputs": [
    {
     "data": {
      "text/plain": [
       "{'ccp_alpha': 0.0,\n",
       " 'criterion': 'gini',\n",
       " 'min_samples_leaf': 1,\n",
       " 'n_estimators': 1000,\n",
       " 'oob_score': True}"
      ]
     },
     "execution_count": 138,
     "metadata": {},
     "output_type": "execute_result"
    }
   ],
   "source": [
    "grid.best_params_"
   ]
  },
  {
   "cell_type": "code",
   "execution_count": 134,
   "metadata": {},
   "outputs": [
    {
     "name": "stdout",
     "output_type": "stream",
     "text": [
      "accuracy  = 0.97\n",
      "metrics:               precision    recall  f1-score   support\n",
      "\n",
      "         0.0       0.95      1.00      0.98       457\n",
      "         1.0       1.00      0.92      0.96       159\n",
      "         2.0       1.00      0.92      0.96        72\n",
      "         3.0       1.00      0.87      0.93        23\n",
      "         4.0       1.00      0.95      0.98        21\n",
      "         5.0       1.00      1.00      1.00         7\n",
      "\n",
      "    accuracy                           0.97       739\n",
      "   macro avg       0.99      0.94      0.97       739\n",
      "weighted avg       0.97      0.97      0.97       739\n",
      "\n"
     ]
    }
   ],
   "source": [
    "y_pred = grid.predict(X_test)\n",
    "print(f'accuracy  = {np.round(accuracy_score(y_test, y_pred), 3)}')\n",
    "print(f'metrics: {classification_report(y_test, y_pred)}')"
   ]
  },
  {
   "cell_type": "code",
   "execution_count": 143,
   "metadata": {},
   "outputs": [
    {
     "data": {
      "text/plain": [
       "0.9702300405953992"
      ]
     },
     "execution_count": 143,
     "metadata": {},
     "output_type": "execute_result"
    }
   ],
   "source": [
    "grid.score(X_test, y_test)"
   ]
  },
  {
   "cell_type": "markdown",
   "metadata": {},
   "source": [
    "# Final Model & Evaluation"
   ]
  },
  {
   "cell_type": "code",
   "execution_count": 20,
   "metadata": {},
   "outputs": [],
   "source": [
    "def multiclass_classification_and_eval(X, y, model):\n",
    "    \"\"\"\n",
    "    \"\"\"\n",
    "    ohe = OneHotEncoder()\n",
    "    X_train, X_test, y_train, y_test = train_test_split(X, y)\n",
    "    X_train = ohe.fit_transform(X_train)\n",
    "    X_test = ohe.transform(X_test)\n",
    "    model = model\n",
    "    \n",
    "    model.fit(X_train, y_train)\n",
    "    y_pred = model.predict(X_test)\n",
    "    \n",
    "    print(f'null accuracy = {round(max(y_test.mean(), 1 - y_test.mean()), 3)}')\n",
    "    print(f'accuracy  = {np.round(accuracy_score(y_test, y_pred), 3)}')\n",
    "    print(f'metrics: {classification_report(y_test, y_pred)}')\n",
    "    \n",
    "    return model, X_test, y_test, y_pred"
   ]
  },
  {
   "cell_type": "code",
   "execution_count": 24,
   "metadata": {},
   "outputs": [
    {
     "name": "stdout",
     "output_type": "stream",
     "text": [
      "null accuracy = 0.701\n",
      "accuracy  = 0.957\n",
      "metrics:               precision    recall  f1-score   support\n",
      "\n",
      "           0       0.93      1.00      0.97       453\n",
      "           1       1.00      0.87      0.93       159\n",
      "           2       1.00      0.92      0.96        66\n",
      "           3       1.00      0.89      0.94        27\n",
      "           4       1.00      0.88      0.93        24\n",
      "           5       1.00      1.00      1.00        10\n",
      "\n",
      "    accuracy                           0.96       739\n",
      "   macro avg       0.99      0.93      0.96       739\n",
      "weighted avg       0.96      0.96      0.96       739\n",
      "\n"
     ]
    }
   ],
   "source": [
    "mcc_model, X_test, y_test, y_pred = multiclass_classification_and_eval(X, y, \n",
    "                                             RandomForestClassifier(n_jobs = -1,\n",
    "                                                            criterion = 'gini',\n",
    "                                                            min_samples_leaf = 1,\n",
    "                                                            n_estimators = 1000,\n",
    "                                                            #verbose = 1,\n",
    "                                                            oob_score = True\n",
    "                                                            ))"
   ]
  },
  {
   "cell_type": "code",
   "execution_count": 25,
   "metadata": {},
   "outputs": [
    {
     "data": {
      "text/plain": [
       "array([[453,   0,   0,   0,   0,   0],\n",
       "       [ 21, 138,   0,   0,   0,   0],\n",
       "       [  5,   0,  61,   0,   0,   0],\n",
       "       [  3,   0,   0,  24,   0,   0],\n",
       "       [  3,   0,   0,   0,  21,   0],\n",
       "       [  0,   0,   0,   0,   0,  10]])"
      ]
     },
     "execution_count": 25,
     "metadata": {},
     "output_type": "execute_result"
    }
   ],
   "source": [
    "confusion_matrix(y_test, y_pred)"
   ]
  },
  {
   "cell_type": "code",
   "execution_count": 28,
   "metadata": {},
   "outputs": [],
   "source": [
    "feature_import_df = pd.DataFrame(mcc_model.feature_importances_, \n",
    "                                   index =X_test.columns,  \n",
    "                                   columns=['importance']).sort_values('importance', \n",
    "                                                                       ascending=False)"
   ]
  },
  {
   "cell_type": "code",
   "execution_count": 30,
   "metadata": {},
   "outputs": [
    {
     "data": {
      "text/html": [
       "<div>\n",
       "<style scoped>\n",
       "    .dataframe tbody tr th:only-of-type {\n",
       "        vertical-align: middle;\n",
       "    }\n",
       "\n",
       "    .dataframe tbody tr th {\n",
       "        vertical-align: top;\n",
       "    }\n",
       "\n",
       "    .dataframe thead th {\n",
       "        text-align: right;\n",
       "    }\n",
       "</style>\n",
       "<table border=\"1\" class=\"dataframe\">\n",
       "  <thead>\n",
       "    <tr style=\"text-align: right;\">\n",
       "      <th></th>\n",
       "      <th>importance</th>\n",
       "    </tr>\n",
       "  </thead>\n",
       "  <tbody>\n",
       "    <tr>\n",
       "      <th>rgi_main.CARD_Protein_Sequence_22</th>\n",
       "      <td>0.06</td>\n",
       "    </tr>\n",
       "    <tr>\n",
       "      <th>rgi_main.CARD_Protein_Sequence_42</th>\n",
       "      <td>0.03</td>\n",
       "    </tr>\n",
       "    <tr>\n",
       "      <th>rgi_main.CARD_Protein_Sequence_80</th>\n",
       "      <td>0.03</td>\n",
       "    </tr>\n",
       "    <tr>\n",
       "      <th>rgi_main.CARD_Protein_Sequence_2</th>\n",
       "      <td>0.03</td>\n",
       "    </tr>\n",
       "    <tr>\n",
       "      <th>rgi_main.CARD_Protein_Sequence_3</th>\n",
       "      <td>0.03</td>\n",
       "    </tr>\n",
       "    <tr>\n",
       "      <th>rgi_main.CARD_Protein_Sequence_4</th>\n",
       "      <td>0.03</td>\n",
       "    </tr>\n",
       "    <tr>\n",
       "      <th>rgi_main.CARD_Protein_Sequence_67</th>\n",
       "      <td>0.03</td>\n",
       "    </tr>\n",
       "    <tr>\n",
       "      <th>rgi_main.CARD_Protein_Sequence_9</th>\n",
       "      <td>0.02</td>\n",
       "    </tr>\n",
       "  </tbody>\n",
       "</table>\n",
       "</div>"
      ],
      "text/plain": [
       "                                   importance\n",
       "rgi_main.CARD_Protein_Sequence_22        0.06\n",
       "rgi_main.CARD_Protein_Sequence_42        0.03\n",
       "rgi_main.CARD_Protein_Sequence_80        0.03\n",
       "rgi_main.CARD_Protein_Sequence_2         0.03\n",
       "rgi_main.CARD_Protein_Sequence_3         0.03\n",
       "rgi_main.CARD_Protein_Sequence_4         0.03\n",
       "rgi_main.CARD_Protein_Sequence_67        0.03\n",
       "rgi_main.CARD_Protein_Sequence_9         0.02"
      ]
     },
     "execution_count": 30,
     "metadata": {},
     "output_type": "execute_result"
    }
   ],
   "source": [
    "feature_import_df[:8]"
   ]
  },
  {
   "cell_type": "markdown",
   "metadata": {},
   "source": [
    "### Countvectorizing for better feature extraction"
   ]
  },
  {
   "cell_type": "code",
   "execution_count": null,
   "metadata": {},
   "outputs": [],
   "source": []
  },
  {
   "cell_type": "code",
   "execution_count": null,
   "metadata": {},
   "outputs": [],
   "source": []
  }
 ],
 "metadata": {
  "kernelspec": {
   "display_name": "Python 3",
   "language": "python",
   "name": "python3"
  },
  "language_info": {
   "codemirror_mode": {
    "name": "ipython",
    "version": 3
   },
   "file_extension": ".py",
   "mimetype": "text/x-python",
   "name": "python",
   "nbconvert_exporter": "python",
   "pygments_lexer": "ipython3",
   "version": "3.8.2"
  }
 },
 "nbformat": 4,
 "nbformat_minor": 4
}
