{
 "cells": [
  {
   "cell_type": "markdown",
   "metadata": {},
   "source": [
    "#### Antibiotic Drug Discovery\n",
    "#### Corey J Sinnott\n",
    "# Drug Import and Featurization I\n",
    "\n",
    "## Executive Summary\n",
    "\n",
    "This report was commissioned to determine a robust, fast, and reproducible means of searching for, and developing, new antibiotics, in an effort to combat antibiotic resistance. After in-depth analysis, conclusions and recommendations will be presented.\n",
    "   \n",
    "Data was obtained from the following source:\n",
    "- Comprehensive Antibiotic Resistance Database via CARD CLI interface: \n",
    " - https://card.mcmaster.ca\n",
    "- ChEMBL via Python client library: \n",
    " - https://www.ebi.ac.uk/chembl/ \n",
    "\n",
    "**Full Executive Summary, Conclusion, Recommendations, Data Dictionary and Sources can be found in README.**\n",
    "\n",
    "## Contents:\n",
    "- [Data Import & Cleaning](#Data-Import-&-Cleaning)\n",
    "- [Developing Search Pipeline](#Developing-Search-Pipeline)\n",
    "- [Feature Engineering](#Feature-Engineering)"
   ]
  },
  {
   "cell_type": "markdown",
   "metadata": {},
   "source": [
    "#### Importing Libraries"
   ]
  },
  {
   "cell_type": "code",
   "execution_count": 3,
   "metadata": {},
   "outputs": [],
   "source": [
    "import pandas as pd\n",
    "from chembl_webresource_client.new_client import new_client\n",
    "import numpy as np\n",
    "from rdkit import Chem\n",
    "from rdkit.Chem import Descriptors, Lipinski"
   ]
  },
  {
   "cell_type": "code",
   "execution_count": 149,
   "metadata": {},
   "outputs": [],
   "source": [
    "import warnings\n",
    "warnings.filterwarnings(\"ignore\")"
   ]
  },
  {
   "cell_type": "markdown",
   "metadata": {},
   "source": [
    "# Developing Search Pipeline\n",
    "- Using one randomly chosen bacteria: Acinetobacter baumannii "
   ]
  },
  {
   "cell_type": "markdown",
   "metadata": {},
   "source": [
    "Accessing ChEMBL database via web-client:"
   ]
  },
  {
   "cell_type": "code",
   "execution_count": 24,
   "metadata": {},
   "outputs": [],
   "source": [
    "target = new_client.target"
   ]
  },
  {
   "cell_type": "code",
   "execution_count": 25,
   "metadata": {},
   "outputs": [],
   "source": [
    "target_search = target.search('Acinetobacter baumannii')"
   ]
  },
  {
   "cell_type": "code",
   "execution_count": 26,
   "metadata": {},
   "outputs": [],
   "source": [
    "target_df = pd.DataFrame.from_dict(target_search)"
   ]
  },
  {
   "cell_type": "code",
   "execution_count": 27,
   "metadata": {},
   "outputs": [
    {
     "data": {
      "text/html": [
       "<div>\n",
       "<style scoped>\n",
       "    .dataframe tbody tr th:only-of-type {\n",
       "        vertical-align: middle;\n",
       "    }\n",
       "\n",
       "    .dataframe tbody tr th {\n",
       "        vertical-align: top;\n",
       "    }\n",
       "\n",
       "    .dataframe thead th {\n",
       "        text-align: right;\n",
       "    }\n",
       "</style>\n",
       "<table border=\"1\" class=\"dataframe\">\n",
       "  <thead>\n",
       "    <tr style=\"text-align: right;\">\n",
       "      <th></th>\n",
       "      <th>cross_references</th>\n",
       "      <th>organism</th>\n",
       "      <th>pref_name</th>\n",
       "      <th>score</th>\n",
       "      <th>species_group_flag</th>\n",
       "      <th>target_chembl_id</th>\n",
       "      <th>target_components</th>\n",
       "      <th>target_type</th>\n",
       "      <th>tax_id</th>\n",
       "    </tr>\n",
       "  </thead>\n",
       "  <tbody>\n",
       "    <tr>\n",
       "      <th>0</th>\n",
       "      <td>[]</td>\n",
       "      <td>Acinetobacter baumannii</td>\n",
       "      <td>Acinetobacter baumannii</td>\n",
       "      <td>32.0</td>\n",
       "      <td>False</td>\n",
       "      <td>CHEMBL614425</td>\n",
       "      <td>[]</td>\n",
       "      <td>ORGANISM</td>\n",
       "      <td>470</td>\n",
       "    </tr>\n",
       "    <tr>\n",
       "      <th>1</th>\n",
       "      <td>[]</td>\n",
       "      <td>Acinetobacter</td>\n",
       "      <td>Acinetobacter</td>\n",
       "      <td>16.0</td>\n",
       "      <td>False</td>\n",
       "      <td>CHEMBL614424</td>\n",
       "      <td>[]</td>\n",
       "      <td>ORGANISM</td>\n",
       "      <td>469</td>\n",
       "    </tr>\n",
       "    <tr>\n",
       "      <th>2</th>\n",
       "      <td>[]</td>\n",
       "      <td>Acinetobacter calcoaceticus</td>\n",
       "      <td>Acinetobacter calcoaceticus</td>\n",
       "      <td>14.0</td>\n",
       "      <td>False</td>\n",
       "      <td>CHEMBL614426</td>\n",
       "      <td>[]</td>\n",
       "      <td>ORGANISM</td>\n",
       "      <td>471</td>\n",
       "    </tr>\n",
       "    <tr>\n",
       "      <th>3</th>\n",
       "      <td>[]</td>\n",
       "      <td>Acinetobacter sp.</td>\n",
       "      <td>Acinetobacter sp.</td>\n",
       "      <td>14.0</td>\n",
       "      <td>False</td>\n",
       "      <td>CHEMBL614427</td>\n",
       "      <td>[]</td>\n",
       "      <td>ORGANISM</td>\n",
       "      <td>472</td>\n",
       "    </tr>\n",
       "    <tr>\n",
       "      <th>4</th>\n",
       "      <td>[]</td>\n",
       "      <td>Acinetobacter lwoffii</td>\n",
       "      <td>Acinetobacter lwoffii</td>\n",
       "      <td>14.0</td>\n",
       "      <td>False</td>\n",
       "      <td>CHEMBL613778</td>\n",
       "      <td>[]</td>\n",
       "      <td>ORGANISM</td>\n",
       "      <td>28090</td>\n",
       "    </tr>\n",
       "    <tr>\n",
       "      <th>5</th>\n",
       "      <td>[]</td>\n",
       "      <td>Acinetobacter haemolyticus</td>\n",
       "      <td>Acinetobacter haemolyticus</td>\n",
       "      <td>14.0</td>\n",
       "      <td>False</td>\n",
       "      <td>CHEMBL613782</td>\n",
       "      <td>[]</td>\n",
       "      <td>ORGANISM</td>\n",
       "      <td>29430</td>\n",
       "    </tr>\n",
       "    <tr>\n",
       "      <th>6</th>\n",
       "      <td>[]</td>\n",
       "      <td>Acinetobacter radioresistens</td>\n",
       "      <td>Acinetobacter radioresistens</td>\n",
       "      <td>14.0</td>\n",
       "      <td>False</td>\n",
       "      <td>CHEMBL2366968</td>\n",
       "      <td>[]</td>\n",
       "      <td>ORGANISM</td>\n",
       "      <td>40216</td>\n",
       "    </tr>\n",
       "    <tr>\n",
       "      <th>7</th>\n",
       "      <td>[]</td>\n",
       "      <td>Acinetobacter pittii</td>\n",
       "      <td>Acinetobacter pittii</td>\n",
       "      <td>14.0</td>\n",
       "      <td>False</td>\n",
       "      <td>CHEMBL3140321</td>\n",
       "      <td>[]</td>\n",
       "      <td>ORGANISM</td>\n",
       "      <td>48296</td>\n",
       "    </tr>\n",
       "    <tr>\n",
       "      <th>8</th>\n",
       "      <td>[]</td>\n",
       "      <td>Acinetobacter calcoaceticus subsp. anitratus</td>\n",
       "      <td>Acinetobacter calcoaceticus subsp. anitratus</td>\n",
       "      <td>11.0</td>\n",
       "      <td>False</td>\n",
       "      <td>CHEMBL612453</td>\n",
       "      <td>[]</td>\n",
       "      <td>ORGANISM</td>\n",
       "      <td>107673</td>\n",
       "    </tr>\n",
       "    <tr>\n",
       "      <th>9</th>\n",
       "      <td>[{'xref_id': 'Q2TR58', 'xref_name': None, 'xre...</td>\n",
       "      <td>Acinetobacter baumannii</td>\n",
       "      <td>Carbapenem-hydrolyzing oxacillinase OXA-58</td>\n",
       "      <td>11.0</td>\n",
       "      <td>False</td>\n",
       "      <td>CHEMBL5153</td>\n",
       "      <td>[{'accession': 'Q2TR58', 'component_descriptio...</td>\n",
       "      <td>SINGLE PROTEIN</td>\n",
       "      <td>470</td>\n",
       "    </tr>\n",
       "  </tbody>\n",
       "</table>\n",
       "</div>"
      ],
      "text/plain": [
       "                                    cross_references  \\\n",
       "0                                                 []   \n",
       "1                                                 []   \n",
       "2                                                 []   \n",
       "3                                                 []   \n",
       "4                                                 []   \n",
       "5                                                 []   \n",
       "6                                                 []   \n",
       "7                                                 []   \n",
       "8                                                 []   \n",
       "9  [{'xref_id': 'Q2TR58', 'xref_name': None, 'xre...   \n",
       "\n",
       "                                       organism  \\\n",
       "0                       Acinetobacter baumannii   \n",
       "1                                 Acinetobacter   \n",
       "2                   Acinetobacter calcoaceticus   \n",
       "3                             Acinetobacter sp.   \n",
       "4                         Acinetobacter lwoffii   \n",
       "5                    Acinetobacter haemolyticus   \n",
       "6                  Acinetobacter radioresistens   \n",
       "7                          Acinetobacter pittii   \n",
       "8  Acinetobacter calcoaceticus subsp. anitratus   \n",
       "9                       Acinetobacter baumannii   \n",
       "\n",
       "                                      pref_name  score  species_group_flag  \\\n",
       "0                       Acinetobacter baumannii   32.0               False   \n",
       "1                                 Acinetobacter   16.0               False   \n",
       "2                   Acinetobacter calcoaceticus   14.0               False   \n",
       "3                             Acinetobacter sp.   14.0               False   \n",
       "4                         Acinetobacter lwoffii   14.0               False   \n",
       "5                    Acinetobacter haemolyticus   14.0               False   \n",
       "6                  Acinetobacter radioresistens   14.0               False   \n",
       "7                          Acinetobacter pittii   14.0               False   \n",
       "8  Acinetobacter calcoaceticus subsp. anitratus   11.0               False   \n",
       "9    Carbapenem-hydrolyzing oxacillinase OXA-58   11.0               False   \n",
       "\n",
       "  target_chembl_id                                  target_components  \\\n",
       "0     CHEMBL614425                                                 []   \n",
       "1     CHEMBL614424                                                 []   \n",
       "2     CHEMBL614426                                                 []   \n",
       "3     CHEMBL614427                                                 []   \n",
       "4     CHEMBL613778                                                 []   \n",
       "5     CHEMBL613782                                                 []   \n",
       "6    CHEMBL2366968                                                 []   \n",
       "7    CHEMBL3140321                                                 []   \n",
       "8     CHEMBL612453                                                 []   \n",
       "9       CHEMBL5153  [{'accession': 'Q2TR58', 'component_descriptio...   \n",
       "\n",
       "      target_type  tax_id  \n",
       "0        ORGANISM     470  \n",
       "1        ORGANISM     469  \n",
       "2        ORGANISM     471  \n",
       "3        ORGANISM     472  \n",
       "4        ORGANISM   28090  \n",
       "5        ORGANISM   29430  \n",
       "6        ORGANISM   40216  \n",
       "7        ORGANISM   48296  \n",
       "8        ORGANISM  107673  \n",
       "9  SINGLE PROTEIN     470  "
      ]
     },
     "execution_count": 27,
     "metadata": {},
     "output_type": "execute_result"
    }
   ],
   "source": [
    "target_df.head(10)"
   ]
  },
  {
   "cell_type": "code",
   "execution_count": 28,
   "metadata": {},
   "outputs": [],
   "source": [
    "#picking based on visual inspection\n",
    "#choosing a broader term for more results\n",
    "\n",
    "select_target = target_df.target_chembl_id[0]"
   ]
  },
  {
   "cell_type": "code",
   "execution_count": 29,
   "metadata": {},
   "outputs": [
    {
     "data": {
      "text/plain": [
       "'CHEMBL614425'"
      ]
     },
     "execution_count": 29,
     "metadata": {},
     "output_type": "execute_result"
    }
   ],
   "source": [
    "select_target #verifying"
   ]
  },
  {
   "cell_type": "code",
   "execution_count": 30,
   "metadata": {},
   "outputs": [],
   "source": [
    "activity = new_client.activity"
   ]
  },
  {
   "cell_type": "markdown",
   "metadata": {},
   "source": [
    "Filtering for results that have an Minimum Inhibitory Concentration (MIC) value:"
   ]
  },
  {
   "cell_type": "code",
   "execution_count": 31,
   "metadata": {},
   "outputs": [],
   "source": [
    "#trying to filter by MIC occasionally breaks kernel\n",
    "# -> works consistently in app\n",
    "\n",
    "res = activity.filter(target_chembl_id = select_target).filter(standard_type=['MIC'])"
   ]
  },
  {
   "cell_type": "code",
   "execution_count": 164,
   "metadata": {},
   "outputs": [],
   "source": [
    "df_test = pd.DataFrame.from_dict(res)"
   ]
  },
  {
   "cell_type": "code",
   "execution_count": 165,
   "metadata": {},
   "outputs": [
    {
     "data": {
      "text/html": [
       "<div>\n",
       "<style scoped>\n",
       "    .dataframe tbody tr th:only-of-type {\n",
       "        vertical-align: middle;\n",
       "    }\n",
       "\n",
       "    .dataframe tbody tr th {\n",
       "        vertical-align: top;\n",
       "    }\n",
       "\n",
       "    .dataframe thead th {\n",
       "        text-align: right;\n",
       "    }\n",
       "</style>\n",
       "<table border=\"1\" class=\"dataframe\">\n",
       "  <thead>\n",
       "    <tr style=\"text-align: right;\">\n",
       "      <th></th>\n",
       "      <th>activity_comment</th>\n",
       "      <th>activity_id</th>\n",
       "      <th>activity_properties</th>\n",
       "      <th>assay_chembl_id</th>\n",
       "      <th>assay_description</th>\n",
       "      <th>assay_type</th>\n",
       "      <th>assay_variant_accession</th>\n",
       "      <th>assay_variant_mutation</th>\n",
       "      <th>bao_endpoint</th>\n",
       "      <th>bao_format</th>\n",
       "      <th>...</th>\n",
       "      <th>target_organism</th>\n",
       "      <th>target_pref_name</th>\n",
       "      <th>target_tax_id</th>\n",
       "      <th>text_value</th>\n",
       "      <th>toid</th>\n",
       "      <th>type</th>\n",
       "      <th>units</th>\n",
       "      <th>uo_units</th>\n",
       "      <th>upper_value</th>\n",
       "      <th>value</th>\n",
       "    </tr>\n",
       "  </thead>\n",
       "  <tbody>\n",
       "    <tr>\n",
       "      <th>1311</th>\n",
       "      <td>None</td>\n",
       "      <td>3385698</td>\n",
       "      <td>[]</td>\n",
       "      <td>CHEMBL1221120</td>\n",
       "      <td>Antimicrobial activity against Acinetobacter b...</td>\n",
       "      <td>F</td>\n",
       "      <td>None</td>\n",
       "      <td>None</td>\n",
       "      <td>BAO_0002146</td>\n",
       "      <td>BAO_0000218</td>\n",
       "      <td>...</td>\n",
       "      <td>Acinetobacter baumannii</td>\n",
       "      <td>Acinetobacter baumannii</td>\n",
       "      <td>470</td>\n",
       "      <td>None</td>\n",
       "      <td>None</td>\n",
       "      <td>MIC</td>\n",
       "      <td>ug ml-1</td>\n",
       "      <td>UO_0000274</td>\n",
       "      <td>None</td>\n",
       "      <td>32.0</td>\n",
       "    </tr>\n",
       "    <tr>\n",
       "      <th>3396</th>\n",
       "      <td>None</td>\n",
       "      <td>5228199</td>\n",
       "      <td>[]</td>\n",
       "      <td>CHEMBL1680415</td>\n",
       "      <td>Antibacterial activity against Acinetobacter b...</td>\n",
       "      <td>F</td>\n",
       "      <td>None</td>\n",
       "      <td>None</td>\n",
       "      <td>BAO_0002146</td>\n",
       "      <td>BAO_0000218</td>\n",
       "      <td>...</td>\n",
       "      <td>Acinetobacter baumannii</td>\n",
       "      <td>Acinetobacter baumannii</td>\n",
       "      <td>470</td>\n",
       "      <td>None</td>\n",
       "      <td>None</td>\n",
       "      <td>MIC</td>\n",
       "      <td>ug ml-1</td>\n",
       "      <td>UO_0000274</td>\n",
       "      <td>None</td>\n",
       "      <td>256.0</td>\n",
       "    </tr>\n",
       "    <tr>\n",
       "      <th>2259</th>\n",
       "      <td>None</td>\n",
       "      <td>5099099</td>\n",
       "      <td>[]</td>\n",
       "      <td>CHEMBL1638694</td>\n",
       "      <td>Antimicrobial activity against Acinetobacter b...</td>\n",
       "      <td>F</td>\n",
       "      <td>None</td>\n",
       "      <td>None</td>\n",
       "      <td>BAO_0002146</td>\n",
       "      <td>BAO_0000218</td>\n",
       "      <td>...</td>\n",
       "      <td>Acinetobacter baumannii</td>\n",
       "      <td>Acinetobacter baumannii</td>\n",
       "      <td>470</td>\n",
       "      <td>None</td>\n",
       "      <td>None</td>\n",
       "      <td>MIC</td>\n",
       "      <td>ug ml-1</td>\n",
       "      <td>UO_0000274</td>\n",
       "      <td>None</td>\n",
       "      <td>256.0</td>\n",
       "    </tr>\n",
       "    <tr>\n",
       "      <th>8989</th>\n",
       "      <td>Median N= 2; Maxinhib 12.8 Pct</td>\n",
       "      <td>20217065</td>\n",
       "      <td>[]</td>\n",
       "      <td>CHEMBL4296188</td>\n",
       "      <td>Antibacterial activity against Acinetobacter b...</td>\n",
       "      <td>F</td>\n",
       "      <td>None</td>\n",
       "      <td>None</td>\n",
       "      <td>BAO_0002146</td>\n",
       "      <td>BAO_0000218</td>\n",
       "      <td>...</td>\n",
       "      <td>Acinetobacter baumannii</td>\n",
       "      <td>Acinetobacter baumannii</td>\n",
       "      <td>470</td>\n",
       "      <td>None</td>\n",
       "      <td>None</td>\n",
       "      <td>MIC</td>\n",
       "      <td>uM</td>\n",
       "      <td>UO_0000065</td>\n",
       "      <td>None</td>\n",
       "      <td>300.0</td>\n",
       "    </tr>\n",
       "    <tr>\n",
       "      <th>9342</th>\n",
       "      <td>Median N= 2; Maxinhib 24.9 Pct</td>\n",
       "      <td>20241337</td>\n",
       "      <td>[]</td>\n",
       "      <td>CHEMBL4296188</td>\n",
       "      <td>Antibacterial activity against Acinetobacter b...</td>\n",
       "      <td>F</td>\n",
       "      <td>None</td>\n",
       "      <td>None</td>\n",
       "      <td>BAO_0002146</td>\n",
       "      <td>BAO_0000218</td>\n",
       "      <td>...</td>\n",
       "      <td>Acinetobacter baumannii</td>\n",
       "      <td>Acinetobacter baumannii</td>\n",
       "      <td>470</td>\n",
       "      <td>None</td>\n",
       "      <td>None</td>\n",
       "      <td>MIC</td>\n",
       "      <td>uM</td>\n",
       "      <td>UO_0000065</td>\n",
       "      <td>None</td>\n",
       "      <td>20.0</td>\n",
       "    </tr>\n",
       "  </tbody>\n",
       "</table>\n",
       "<p>5 rows × 45 columns</p>\n",
       "</div>"
      ],
      "text/plain": [
       "                    activity_comment  activity_id activity_properties  \\\n",
       "1311                            None      3385698                  []   \n",
       "3396                            None      5228199                  []   \n",
       "2259                            None      5099099                  []   \n",
       "8989  Median N= 2; Maxinhib 12.8 Pct     20217065                  []   \n",
       "9342  Median N= 2; Maxinhib 24.9 Pct     20241337                  []   \n",
       "\n",
       "     assay_chembl_id                                  assay_description  \\\n",
       "1311   CHEMBL1221120  Antimicrobial activity against Acinetobacter b...   \n",
       "3396   CHEMBL1680415  Antibacterial activity against Acinetobacter b...   \n",
       "2259   CHEMBL1638694  Antimicrobial activity against Acinetobacter b...   \n",
       "8989   CHEMBL4296188  Antibacterial activity against Acinetobacter b...   \n",
       "9342   CHEMBL4296188  Antibacterial activity against Acinetobacter b...   \n",
       "\n",
       "     assay_type assay_variant_accession assay_variant_mutation bao_endpoint  \\\n",
       "1311          F                    None                   None  BAO_0002146   \n",
       "3396          F                    None                   None  BAO_0002146   \n",
       "2259          F                    None                   None  BAO_0002146   \n",
       "8989          F                    None                   None  BAO_0002146   \n",
       "9342          F                    None                   None  BAO_0002146   \n",
       "\n",
       "       bao_format  ...          target_organism         target_pref_name  \\\n",
       "1311  BAO_0000218  ...  Acinetobacter baumannii  Acinetobacter baumannii   \n",
       "3396  BAO_0000218  ...  Acinetobacter baumannii  Acinetobacter baumannii   \n",
       "2259  BAO_0000218  ...  Acinetobacter baumannii  Acinetobacter baumannii   \n",
       "8989  BAO_0000218  ...  Acinetobacter baumannii  Acinetobacter baumannii   \n",
       "9342  BAO_0000218  ...  Acinetobacter baumannii  Acinetobacter baumannii   \n",
       "\n",
       "     target_tax_id text_value  toid type    units    uo_units upper_value  \\\n",
       "1311           470       None  None  MIC  ug ml-1  UO_0000274        None   \n",
       "3396           470       None  None  MIC  ug ml-1  UO_0000274        None   \n",
       "2259           470       None  None  MIC  ug ml-1  UO_0000274        None   \n",
       "8989           470       None  None  MIC       uM  UO_0000065        None   \n",
       "9342           470       None  None  MIC       uM  UO_0000065        None   \n",
       "\n",
       "      value  \n",
       "1311   32.0  \n",
       "3396  256.0  \n",
       "2259  256.0  \n",
       "8989  300.0  \n",
       "9342   20.0  \n",
       "\n",
       "[5 rows x 45 columns]"
      ]
     },
     "execution_count": 165,
     "metadata": {},
     "output_type": "execute_result"
    }
   ],
   "source": [
    "df_test.sample(5)"
   ]
  },
  {
   "cell_type": "code",
   "execution_count": 166,
   "metadata": {},
   "outputs": [
    {
     "data": {
      "text/plain": [
       "(9468, 45)"
      ]
     },
     "execution_count": 166,
     "metadata": {},
     "output_type": "execute_result"
    }
   ],
   "source": [
    "df_test.shape"
   ]
  },
  {
   "cell_type": "code",
   "execution_count": 167,
   "metadata": {},
   "outputs": [
    {
     "name": "stdout",
     "output_type": "stream",
     "text": [
      "<class 'pandas.core.frame.DataFrame'>\n",
      "RangeIndex: 9468 entries, 0 to 9467\n",
      "Data columns (total 45 columns):\n",
      " #   Column                     Non-Null Count  Dtype  \n",
      "---  ------                     --------------  -----  \n",
      " 0   activity_comment           1405 non-null   object \n",
      " 1   activity_id                9468 non-null   int64  \n",
      " 2   activity_properties        9468 non-null   object \n",
      " 3   assay_chembl_id            9468 non-null   object \n",
      " 4   assay_description          9468 non-null   object \n",
      " 5   assay_type                 9468 non-null   object \n",
      " 6   assay_variant_accession    0 non-null      object \n",
      " 7   assay_variant_mutation     0 non-null      object \n",
      " 8   bao_endpoint               9468 non-null   object \n",
      " 9   bao_format                 9468 non-null   object \n",
      " 10  bao_label                  9468 non-null   object \n",
      " 11  canonical_smiles           9436 non-null   object \n",
      " 12  data_validity_comment      235 non-null    object \n",
      " 13  data_validity_description  235 non-null    object \n",
      " 14  document_chembl_id         9468 non-null   object \n",
      " 15  document_journal           8371 non-null   object \n",
      " 16  document_year              8371 non-null   float64\n",
      " 17  ligand_efficiency          0 non-null      object \n",
      " 18  molecule_chembl_id         9468 non-null   object \n",
      " 19  molecule_pref_name         3794 non-null   object \n",
      " 20  parent_molecule_chembl_id  9468 non-null   object \n",
      " 21  pchembl_value              0 non-null      object \n",
      " 22  potential_duplicate        9468 non-null   bool   \n",
      " 23  qudt_units                 9160 non-null   object \n",
      " 24  record_id                  9468 non-null   int64  \n",
      " 25  relation                   9160 non-null   object \n",
      " 26  src_id                     9468 non-null   int64  \n",
      " 27  standard_flag              9468 non-null   bool   \n",
      " 28  standard_relation          9160 non-null   object \n",
      " 29  standard_text_value        0 non-null      object \n",
      " 30  standard_type              9468 non-null   object \n",
      " 31  standard_units             9160 non-null   object \n",
      " 32  standard_upper_value       0 non-null      object \n",
      " 33  standard_value             9160 non-null   object \n",
      " 34  target_chembl_id           9468 non-null   object \n",
      " 35  target_organism            9468 non-null   object \n",
      " 36  target_pref_name           9468 non-null   object \n",
      " 37  target_tax_id              9468 non-null   object \n",
      " 38  text_value                 0 non-null      object \n",
      " 39  toid                       0 non-null      object \n",
      " 40  type                       9468 non-null   object \n",
      " 41  units                      9160 non-null   object \n",
      " 42  uo_units                   9160 non-null   object \n",
      " 43  upper_value                185 non-null    object \n",
      " 44  value                      9160 non-null   object \n",
      "dtypes: bool(2), float64(1), int64(3), object(39)\n",
      "memory usage: 3.1+ MB\n"
     ]
    }
   ],
   "source": [
    "df_test.info()"
   ]
  },
  {
   "cell_type": "code",
   "execution_count": 168,
   "metadata": {},
   "outputs": [
    {
     "data": {
      "text/plain": [
       "False    9160\n",
       "True      308\n",
       "Name: standard_value, dtype: int64"
      ]
     },
     "execution_count": 168,
     "metadata": {},
     "output_type": "execute_result"
    }
   ],
   "source": [
    "df_test['standard_value'].isna().value_counts()"
   ]
  },
  {
   "cell_type": "code",
   "execution_count": 169,
   "metadata": {},
   "outputs": [],
   "source": [
    "df_test['standard_value'] = df_test['standard_value'].astype(float)"
   ]
  },
  {
   "cell_type": "code",
   "execution_count": 170,
   "metadata": {},
   "outputs": [],
   "source": [
    "#dropping null standard values\n",
    "df_test = df_test.dropna(subset = ['standard_value'])"
   ]
  },
  {
   "cell_type": "code",
   "execution_count": 171,
   "metadata": {},
   "outputs": [
    {
     "data": {
      "text/plain": [
       "(9160, 45)"
      ]
     },
     "execution_count": 171,
     "metadata": {},
     "output_type": "execute_result"
    }
   ],
   "source": [
    "df_test.shape"
   ]
  },
  {
   "cell_type": "code",
   "execution_count": 114,
   "metadata": {},
   "outputs": [],
   "source": [
    "# ! new ! #\n",
    "\n",
    "# df_test.set_index(keys = 'molecule_chembl_id', inplace = True)"
   ]
  },
  {
   "cell_type": "code",
   "execution_count": 40,
   "metadata": {},
   "outputs": [
    {
     "data": {
      "text/plain": [
       "ug ml-1        6034\n",
       "uM             2419\n",
       "mg/L            372\n",
       "ug.mL-1         214\n",
       "mM               49\n",
       "umol/ml          30\n",
       "mg/ml            27\n",
       "mg l-1            7\n",
       "ug/L              4\n",
       "10'-4 ug/ml       2\n",
       "nM                1\n",
       "uM/ml             1\n",
       "Name: units, dtype: int64"
      ]
     },
     "execution_count": 40,
     "metadata": {},
     "output_type": "execute_result"
    }
   ],
   "source": [
    "# the standard value column accounts for the different units\n",
    "# all converted to nM\n",
    "# https://www.ncbi.nlm.nih.gov/pmc/articles/PMC3965067/\n",
    "df_test['units'].value_counts()"
   ]
  },
  {
   "cell_type": "code",
   "execution_count": 41,
   "metadata": {},
   "outputs": [
    {
     "data": {
      "text/plain": [
       "count    9.160000e+03\n",
       "mean     3.394642e+04\n",
       "std      2.122256e+05\n",
       "min      9.800000e-04\n",
       "25%      7.725000e+00\n",
       "50%      3.200000e+01\n",
       "75%      1.024000e+03\n",
       "max      8.000000e+06\n",
       "Name: standard_value, dtype: float64"
      ]
     },
     "execution_count": 41,
     "metadata": {},
     "output_type": "execute_result"
    }
   ],
   "source": [
    "df_test['standard_value'].describe()"
   ]
  },
  {
   "cell_type": "code",
   "execution_count": 172,
   "metadata": {},
   "outputs": [],
   "source": [
    "df_trim = df_test[['canonical_smiles', 'standard_value']]"
   ]
  },
  {
   "cell_type": "markdown",
   "metadata": {},
   "source": [
    "Classifying results:"
   ]
  },
  {
   "cell_type": "code",
   "execution_count": 175,
   "metadata": {},
   "outputs": [],
   "source": [
    "#separate column for binary classification\n",
    "\n",
    "def binary_bioactivity_rater(col):\n",
    "    \"\"\"\n",
    "    \"\"\"\n",
    "    bio_activity_rate_binary = []\n",
    "    for i in col:\n",
    "        if i <= 33: # need to research; for now tuned to get balanced classes\n",
    "            bio_activity_rate_binary.append('active')\n",
    "        else:\n",
    "            bio_activity_rate_binary.append('inactive')\n",
    "            \n",
    "    bioactivity_binary = pd.Series(bio_activity_rate_binary)\n",
    "    \n",
    "    return bioactivity_binary"
   ]
  },
  {
   "cell_type": "code",
   "execution_count": 173,
   "metadata": {},
   "outputs": [],
   "source": [
    "df_trim['bioactivity_binary'] = np.where(df_trim['standard_value'] < 33, 'active', 'inactive')"
   ]
  },
  {
   "cell_type": "code",
   "execution_count": 174,
   "metadata": {},
   "outputs": [],
   "source": [
    "df_trim['bioactivity_binary_class'] = np.where(df_trim['standard_value'] > 33, 0, 1)"
   ]
  },
  {
   "cell_type": "code",
   "execution_count": 180,
   "metadata": {},
   "outputs": [
    {
     "data": {
      "text/plain": [
       "(9160, 4)"
      ]
     },
     "execution_count": 180,
     "metadata": {},
     "output_type": "execute_result"
    }
   ],
   "source": [
    "df_trim.shape"
   ]
  },
  {
   "cell_type": "code",
   "execution_count": 203,
   "metadata": {},
   "outputs": [],
   "source": [
    "#creating column for multiclass classification\n",
    "\n",
    "def bioactivity_rater(df, col):\n",
    "    \"\"\"\n",
    "    \"\"\"\n",
    "    bio_activity_rate = []\n",
    "    for i in col:\n",
    "        if i <= 25: # need to research; for now tuned to get balanced classes\n",
    "            bio_activity_rate.append('active')\n",
    "        elif i > 500:\n",
    "            bio_activity_rate.append('inactive')\n",
    "#         elif i > 1000 and i < 9000:\n",
    "#             bio_activity_rate.append('intermediate_weak') # too few in this class\n",
    "        else:\n",
    "            bio_activity_rate.append('intermediate')\n",
    "            \n",
    "    bioactivity_multiclass = pd.Series(bio_activity_rate, name = 'bioactivity_multiclass')\n",
    "    df_merge = pd.concat([df.reset_index(), bioactivity_multiclass], axis = 1)\n",
    "    \n",
    "    return df_merge"
   ]
  },
  {
   "cell_type": "code",
   "execution_count": 208,
   "metadata": {},
   "outputs": [],
   "source": [
    "df_trim = bioactivity_rater(df_trim, df_trim['standard_value'])"
   ]
  },
  {
   "cell_type": "code",
   "execution_count": 211,
   "metadata": {},
   "outputs": [
    {
     "data": {
      "text/html": [
       "<div>\n",
       "<style scoped>\n",
       "    .dataframe tbody tr th:only-of-type {\n",
       "        vertical-align: middle;\n",
       "    }\n",
       "\n",
       "    .dataframe tbody tr th {\n",
       "        vertical-align: top;\n",
       "    }\n",
       "\n",
       "    .dataframe thead th {\n",
       "        text-align: right;\n",
       "    }\n",
       "</style>\n",
       "<table border=\"1\" class=\"dataframe\">\n",
       "  <thead>\n",
       "    <tr style=\"text-align: right;\">\n",
       "      <th></th>\n",
       "      <th>index</th>\n",
       "      <th>canonical_smiles</th>\n",
       "      <th>standard_value</th>\n",
       "      <th>bioactivity_binary</th>\n",
       "      <th>bioactivity_binary_class</th>\n",
       "      <th>bioactivity_multiclass</th>\n",
       "    </tr>\n",
       "  </thead>\n",
       "  <tbody>\n",
       "    <tr>\n",
       "      <th>3926</th>\n",
       "      <td>4009</td>\n",
       "      <td>CC(C)C[C@@H]1NC(=O)[C@@H](Cc2ccccc2)NC(=O)[C@H...</td>\n",
       "      <td>2.0</td>\n",
       "      <td>active</td>\n",
       "      <td>1</td>\n",
       "      <td>active</td>\n",
       "    </tr>\n",
       "    <tr>\n",
       "      <th>2473</th>\n",
       "      <td>2517</td>\n",
       "      <td>C[C@H]1[C@H](NC(=O)/C(=N\\OC(C)(C)C(=O)O)c2csc(...</td>\n",
       "      <td>256.0</td>\n",
       "      <td>inactive</td>\n",
       "      <td>0</td>\n",
       "      <td>intermediate</td>\n",
       "    </tr>\n",
       "    <tr>\n",
       "      <th>555</th>\n",
       "      <td>555</td>\n",
       "      <td>CC1(C)S[C@@H]2[C@H](NC(=O)[C@H](N)c3ccc(O)cc3)...</td>\n",
       "      <td>128.0</td>\n",
       "      <td>inactive</td>\n",
       "      <td>0</td>\n",
       "      <td>intermediate</td>\n",
       "    </tr>\n",
       "    <tr>\n",
       "      <th>3790</th>\n",
       "      <td>3870</td>\n",
       "      <td>COc1cccc(N2CCN(Cc3oc(CCl)cc(=O)c3O)CC2)c1</td>\n",
       "      <td>64.0</td>\n",
       "      <td>inactive</td>\n",
       "      <td>0</td>\n",
       "      <td>intermediate</td>\n",
       "    </tr>\n",
       "    <tr>\n",
       "      <th>5925</th>\n",
       "      <td>6111</td>\n",
       "      <td>CN(C)CCNCc1cc2cc3c(cc2n1C)CCCc1c-3[nH]c(=O)c(C...</td>\n",
       "      <td>62.5</td>\n",
       "      <td>inactive</td>\n",
       "      <td>0</td>\n",
       "      <td>intermediate</td>\n",
       "    </tr>\n",
       "  </tbody>\n",
       "</table>\n",
       "</div>"
      ],
      "text/plain": [
       "      index                                   canonical_smiles  \\\n",
       "3926   4009  CC(C)C[C@@H]1NC(=O)[C@@H](Cc2ccccc2)NC(=O)[C@H...   \n",
       "2473   2517  C[C@H]1[C@H](NC(=O)/C(=N\\OC(C)(C)C(=O)O)c2csc(...   \n",
       "555     555  CC1(C)S[C@@H]2[C@H](NC(=O)[C@H](N)c3ccc(O)cc3)...   \n",
       "3790   3870          COc1cccc(N2CCN(Cc3oc(CCl)cc(=O)c3O)CC2)c1   \n",
       "5925   6111  CN(C)CCNCc1cc2cc3c(cc2n1C)CCCc1c-3[nH]c(=O)c(C...   \n",
       "\n",
       "      standard_value bioactivity_binary  bioactivity_binary_class  \\\n",
       "3926             2.0             active                         1   \n",
       "2473           256.0           inactive                         0   \n",
       "555            128.0           inactive                         0   \n",
       "3790            64.0           inactive                         0   \n",
       "5925            62.5           inactive                         0   \n",
       "\n",
       "     bioactivity_multiclass  \n",
       "3926                 active  \n",
       "2473           intermediate  \n",
       "555            intermediate  \n",
       "3790           intermediate  \n",
       "5925           intermediate  "
      ]
     },
     "execution_count": 211,
     "metadata": {},
     "output_type": "execute_result"
    }
   ],
   "source": [
    "df_trim.sample(5)"
   ]
  },
  {
   "cell_type": "code",
   "execution_count": 212,
   "metadata": {},
   "outputs": [
    {
     "data": {
      "text/plain": [
       "active          3633\n",
       "intermediate    2955\n",
       "inactive        2572\n",
       "Name: bioactivity_multiclass, dtype: int64"
      ]
     },
     "execution_count": 212,
     "metadata": {},
     "output_type": "execute_result"
    }
   ],
   "source": [
    "# may need to append a bulk list of other antibiotics\n",
    "# or drop intermediates to get enough separation b/n classes\n",
    "df_trim['bioactivity_multiclass'].value_counts()"
   ]
  },
  {
   "cell_type": "code",
   "execution_count": 207,
   "metadata": {},
   "outputs": [
    {
     "data": {
      "text/plain": [
       "active      4638\n",
       "inactive    4522\n",
       "Name: bioactivity_binary, dtype: int64"
      ]
     },
     "execution_count": 207,
     "metadata": {},
     "output_type": "execute_result"
    }
   ],
   "source": [
    "#convert multiclass column to binary and acheive better separation\n",
    "# by deleting intermediate\n",
    "df_trim['bioactivity_binary'].value_counts()"
   ]
  },
  {
   "cell_type": "code",
   "execution_count": 217,
   "metadata": {},
   "outputs": [],
   "source": [
    "df = df_trim"
   ]
  },
  {
   "cell_type": "code",
   "execution_count": 218,
   "metadata": {},
   "outputs": [
    {
     "data": {
      "text/plain": [
       "(9160, 6)"
      ]
     },
     "execution_count": 218,
     "metadata": {},
     "output_type": "execute_result"
    }
   ],
   "source": [
    "df.shape"
   ]
  },
  {
   "cell_type": "markdown",
   "metadata": {},
   "source": [
    "Exporting results:"
   ]
  },
  {
   "cell_type": "code",
   "execution_count": 220,
   "metadata": {},
   "outputs": [],
   "source": [
    "#df.to_csv('acinetobacter_baumannii_MIC.csv')"
   ]
  },
  {
   "cell_type": "markdown",
   "metadata": {},
   "source": [
    "# Feature Engineering\n",
    "- Adding Lipinski Descriptors via RDKit library\n",
    "    - Molecular weight\n",
    "    - log-p\n",
    "    - Proton donors\n",
    "    - Proton acceptors"
   ]
  },
  {
   "cell_type": "code",
   "execution_count": 221,
   "metadata": {},
   "outputs": [
    {
     "data": {
      "text/plain": [
       "False    9128\n",
       "True       32\n",
       "Name: canonical_smiles, dtype: int64"
      ]
     },
     "execution_count": 221,
     "metadata": {},
     "output_type": "execute_result"
    }
   ],
   "source": [
    "df.canonical_smiles.isna().value_counts()"
   ]
  },
  {
   "cell_type": "code",
   "execution_count": 228,
   "metadata": {},
   "outputs": [],
   "source": [
    "df = df.dropna(subset = ['canonical_smiles']).drop(columns = 'index')"
   ]
  },
  {
   "cell_type": "code",
   "execution_count": 229,
   "metadata": {},
   "outputs": [
    {
     "data": {
      "text/plain": [
       "(9128, 5)"
      ]
     },
     "execution_count": 229,
     "metadata": {},
     "output_type": "execute_result"
    }
   ],
   "source": [
    "df.shape"
   ]
  },
  {
   "cell_type": "code",
   "execution_count": 63,
   "metadata": {},
   "outputs": [
    {
     "name": "stdout",
     "output_type": "stream",
     "text": [
      "CPU times: user 4.41 s, sys: 19.8 ms, total: 4.43 s\n",
      "Wall time: 4.44 s\n"
     ]
    }
   ],
   "source": [
    "%%time\n",
    "#proof of concept for function\n",
    "test = [round(Descriptors.MolWt(Chem.MolFromSmiles(i)), 3) for i in df_use['canonical_smiles']]"
   ]
  },
  {
   "cell_type": "code",
   "execution_count": 241,
   "metadata": {},
   "outputs": [
    {
     "data": {
      "image/png": "[encoded data removed]",
      "text/plain": [
       "<rdkit.Chem.rdchem.Mol at 0x7ff37f23c3a0>"
      ]
     },
     "execution_count": 241,
     "metadata": {},
     "output_type": "execute_result"
    }
   ],
   "source": [
    "Chem.MolFromSmiles(df.canonical_smiles[4])"
   ]
  },
  {
   "cell_type": "code",
   "execution_count": 230,
   "metadata": {},
   "outputs": [
    {
     "data": {
      "text/plain": [
       "'CC[C@H](C)[C@H](NC(=O)[C@H](Cc1ccc(O)cc1)NC(=O)[C@@H](NC(=O)[C@@H]1CCCN1C(=O)[C@H](CCCN=C(N)N)NC(=O)[C@H](CC(N)=O)NC(=O)[C@H](CC(N)=O)NC(=O)CN)C(C)C)C(=O)N1CCC[C@H]1C(=O)N[C@@H](CCC(N)=O)C(=O)N1CCC[C@H]1C(=O)N[C@@H](CCCN=C(N)N)C(=O)N1CCC[C@H]1C(=O)N[C@H](C(=O)N1CCC[C@H]1C(=O)N[C@@H](Cc1c[nH]cn1)C(=O)N1CCC[C@H]1C(=O)N[C@@H](CCCN=C(N)N)C(=O)N[C@@H](CC(C)C)C(=O)O)[C@@H](C)O'"
      ]
     },
     "execution_count": 230,
     "metadata": {},
     "output_type": "execute_result"
    }
   ],
   "source": [
    "df.canonical_smiles[4]"
   ]
  },
  {
   "cell_type": "code",
   "execution_count": 231,
   "metadata": {},
   "outputs": [
    {
     "data": {
      "text/plain": [
       "2209.551"
      ]
     },
     "execution_count": 231,
     "metadata": {},
     "output_type": "execute_result"
    }
   ],
   "source": [
    "test[4]"
   ]
  },
  {
   "cell_type": "code",
   "execution_count": 85,
   "metadata": {
    "jupyter": {
     "source_hidden": true
    }
   },
   "outputs": [],
   "source": [
    "# original version of the following function\n",
    "# v2 is much faster\n",
    "\n",
    "# def add_mol_feats(df, df_col):\n",
    "#     \"\"\"\n",
    "#     Creates a new dataframe with four new molecular descriptors: molecular\n",
    "#     weight, log P, proton donors, and proton acceptors.\n",
    "    \n",
    "#     Args: dataframe column containing SMILES\n",
    "    \n",
    "#     Returns: new dataframe of molecular features\n",
    "#     \"\"\"\n",
    "#     mol_dict = { # aggregating final features\n",
    "#         'mol_wt':           [],\n",
    "#         'log_p'           : [],\n",
    "#         'proton_donors'   : [],\n",
    "#         'proton_acceptors': []\n",
    "#     }\n",
    "    \n",
    "#     mol_list = [] #initial list of descriptors needed\n",
    "    \n",
    "#     for i in df_col: #O(n)\n",
    "#         mol_info = Chem.MolFromSmiles(i)\n",
    "#         mol_list.append(mol_info)\n",
    "    \n",
    "#         for k in mol_list: #O(n)\n",
    "#             mol_dict['mol_wt'].append(Descriptors.MolWt(k))\n",
    "#             mol_dict['log_p'].append(Descriptors.MolLogP(k))\n",
    "#             mol_dict['proton_donors'].append(Lipinski.NumHDonors(k))\n",
    "#             mol_dict['proton_acceptors'].append(Lipinski.NumHAcceptors(k))\n",
    "            \n",
    "#     mol_df = pd.DataFrame(mol_dict)\n",
    "#     df_merged = pd.concat(df, mol_df)\n",
    "    \n",
    "#     return df_merged\n",
    "            "
   ]
  },
  {
   "cell_type": "code",
   "execution_count": null,
   "metadata": {
    "jupyter": {
     "source_hidden": true
    }
   },
   "outputs": [],
   "source": [
    "# %%time\n",
    "# df_feats = add_mol_feats(df_use, df_use['canonical_smiles'])"
   ]
  },
  {
   "cell_type": "code",
   "execution_count": 232,
   "metadata": {},
   "outputs": [],
   "source": [
    "# antibiotics do not necessarily obey the Lipinski rule of 5\n",
    "# therefore not filtering or setting limits\n",
    "# but the extra features may be valuable\n",
    "# ref: https://pubs.acs.org/doi/10.1021/acsinfecdis.5b00044\n",
    "# Inspired by: https://codeocean.com/explore/capsules?query=tag:data-curation\n",
    "\n",
    "def add_mol_feats_v2(df, df_col):\n",
    "    \"\"\"\n",
    "    Creates a new dataframe with four new molecular descriptors: molecular\n",
    "    weight, log P, proton donors, and proton acceptors.\n",
    "    \n",
    "    Args: dataframe column containing SMILES\n",
    "    \n",
    "    Returns: new dataframe of molecular features\n",
    "    \"\"\"\n",
    "    mol_wt   = [round(Descriptors.MolWt(Chem.MolFromSmiles(i)), 3) for i in df_col]\n",
    "    log_p    = [Descriptors.MolLogP(Chem.MolFromSmiles(i)) for i in df_col]\n",
    "    H_donors = [Lipinski.NumHDonors(Chem.MolFromSmiles(i)) for i in df_col]\n",
    "    H_accept = [Lipinski.NumHAcceptors(Chem.MolFromSmiles(i)) for i in df_col]\n",
    "    # can add more features after modeling\n",
    "    \n",
    "    mol_array = np.array([mol_wt,\n",
    "                          log_p,\n",
    "                          H_donors,\n",
    "                          H_accept])\n",
    "    \n",
    "    mol_array_trans = np.transpose(mol_array)\n",
    "    \n",
    "    mol_df = pd.DataFrame(data = mol_array_trans, \n",
    "                          columns = [\n",
    "                            'mol_wt',\n",
    "                            'log_p',\n",
    "                            'proton_donors',\n",
    "                            'proton_acceptors'\n",
    "                                        ])\n",
    "    \n",
    "    df_merge = pd.concat([df.reset_index(), mol_df], axis = 1)\n",
    "    \n",
    "    return df_merge #O(n^4)"
   ]
  },
  {
   "cell_type": "code",
   "execution_count": 236,
   "metadata": {},
   "outputs": [
    {
     "name": "stdout",
     "output_type": "stream",
     "text": [
      "CPU times: user 23.2 s, sys: 68.6 ms, total: 23.3 s\n",
      "Wall time: 23.3 s\n"
     ]
    }
   ],
   "source": [
    "%%time\n",
    "df_feats = add_mol_feats_v2(df, df['canonical_smiles']).drop(columns = ['index'])"
   ]
  },
  {
   "cell_type": "code",
   "execution_count": 237,
   "metadata": {},
   "outputs": [
    {
     "data": {
      "text/plain": [
       "(9128, 5)"
      ]
     },
     "execution_count": 237,
     "metadata": {},
     "output_type": "execute_result"
    }
   ],
   "source": [
    "df.shape"
   ]
  },
  {
   "cell_type": "code",
   "execution_count": 238,
   "metadata": {},
   "outputs": [
    {
     "data": {
      "text/plain": [
       "(9128, 9)"
      ]
     },
     "execution_count": 238,
     "metadata": {},
     "output_type": "execute_result"
    }
   ],
   "source": [
    "df_feats.shape"
   ]
  },
  {
   "cell_type": "code",
   "execution_count": 239,
   "metadata": {},
   "outputs": [
    {
     "data": {
      "text/html": [
       "<div>\n",
       "<style scoped>\n",
       "    .dataframe tbody tr th:only-of-type {\n",
       "        vertical-align: middle;\n",
       "    }\n",
       "\n",
       "    .dataframe tbody tr th {\n",
       "        vertical-align: top;\n",
       "    }\n",
       "\n",
       "    .dataframe thead th {\n",
       "        text-align: right;\n",
       "    }\n",
       "</style>\n",
       "<table border=\"1\" class=\"dataframe\">\n",
       "  <thead>\n",
       "    <tr style=\"text-align: right;\">\n",
       "      <th></th>\n",
       "      <th>canonical_smiles</th>\n",
       "      <th>standard_value</th>\n",
       "      <th>bioactivity_binary</th>\n",
       "      <th>bioactivity_binary_class</th>\n",
       "      <th>bioactivity_multiclass</th>\n",
       "      <th>mol_wt</th>\n",
       "      <th>log_p</th>\n",
       "      <th>proton_donors</th>\n",
       "      <th>proton_acceptors</th>\n",
       "    </tr>\n",
       "  </thead>\n",
       "  <tbody>\n",
       "    <tr>\n",
       "      <th>2761</th>\n",
       "      <td>NC[C@H]1O[C@H](O[C@@H]2[C@@H](N)C[C@@H](N)[C@H...</td>\n",
       "      <td>0.25</td>\n",
       "      <td>active</td>\n",
       "      <td>1</td>\n",
       "      <td>active</td>\n",
       "      <td>467.520</td>\n",
       "      <td>-6.29580</td>\n",
       "      <td>10.0</td>\n",
       "      <td>14.0</td>\n",
       "    </tr>\n",
       "    <tr>\n",
       "      <th>7188</th>\n",
       "      <td>CC(=O)N[C@H](CCCCN)C(=O)N[C@H](CC(C)C)C(=O)N[C...</td>\n",
       "      <td>700.00</td>\n",
       "      <td>inactive</td>\n",
       "      <td>0</td>\n",
       "      <td>inactive</td>\n",
       "      <td>2684.316</td>\n",
       "      <td>-13.59340</td>\n",
       "      <td>41.0</td>\n",
       "      <td>41.0</td>\n",
       "    </tr>\n",
       "    <tr>\n",
       "      <th>1270</th>\n",
       "      <td>CC[C@H](C)[C@H](NC(=O)[C@H](CCCN)NC(=O)[C@H](C...</td>\n",
       "      <td>1.00</td>\n",
       "      <td>active</td>\n",
       "      <td>1</td>\n",
       "      <td>active</td>\n",
       "      <td>2305.768</td>\n",
       "      <td>-7.04589</td>\n",
       "      <td>30.0</td>\n",
       "      <td>30.0</td>\n",
       "    </tr>\n",
       "  </tbody>\n",
       "</table>\n",
       "</div>"
      ],
      "text/plain": [
       "                                       canonical_smiles  standard_value  \\\n",
       "2761  NC[C@H]1O[C@H](O[C@@H]2[C@@H](N)C[C@@H](N)[C@H...            0.25   \n",
       "7188  CC(=O)N[C@H](CCCCN)C(=O)N[C@H](CC(C)C)C(=O)N[C...          700.00   \n",
       "1270  CC[C@H](C)[C@H](NC(=O)[C@H](CCCN)NC(=O)[C@H](C...            1.00   \n",
       "\n",
       "     bioactivity_binary  bioactivity_binary_class bioactivity_multiclass  \\\n",
       "2761             active                         1                 active   \n",
       "7188           inactive                         0               inactive   \n",
       "1270             active                         1                 active   \n",
       "\n",
       "        mol_wt     log_p  proton_donors  proton_acceptors  \n",
       "2761   467.520  -6.29580           10.0              14.0  \n",
       "7188  2684.316 -13.59340           41.0              41.0  \n",
       "1270  2305.768  -7.04589           30.0              30.0  "
      ]
     },
     "execution_count": 239,
     "metadata": {},
     "output_type": "execute_result"
    }
   ],
   "source": [
    "df_feats.sample(3)"
   ]
  },
  {
   "cell_type": "markdown",
   "metadata": {},
   "source": [
    "Exporting results:"
   ]
  },
  {
   "cell_type": "code",
   "execution_count": 240,
   "metadata": {},
   "outputs": [],
   "source": [
    "# df_feats.to_csv('acinetobacter_baumannii_MIC_addFeats.csv')"
   ]
  }
 ],
 "metadata": {
  "kernelspec": {
   "display_name": "Python 3",
   "language": "python",
   "name": "python3"
  },
  "language_info": {
   "codemirror_mode": {
    "name": "ipython",
    "version": 3
   },
   "file_extension": ".py",
   "mimetype": "text/x-python",
   "name": "python",
   "nbconvert_exporter": "python",
   "pygments_lexer": "ipython3",
   "version": "3.8.2"
  }
 },
 "nbformat": 4,
 "nbformat_minor": 4
}
