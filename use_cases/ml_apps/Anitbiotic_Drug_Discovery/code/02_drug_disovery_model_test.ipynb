{
 "cells": [
  {
   "cell_type": "markdown",
   "id": "headed-slovakia",
   "metadata": {},
   "source": [
    "#### Antibiotic Drug Discovery\n",
    "#### Corey J Sinnott\n",
    "# Drug Discovery Model Search\n",
    "\n",
    "## Executive Summary\n",
    "\n",
    "This report was commissioned to determine a robust, fast, and reproducible means of searching for, and developing, new antibiotics, in an effort to combat antibiotic resistance. After in-depth analysis, conclusions and recommendations will be presented.\n",
    "   \n",
    "Data was obtained from the following source:\n",
    "- Comprehensive Antibiotic Resistance Database via CARD CLI interface: \n",
    " - https://card.mcmaster.ca\n",
    "- ChEMBL via Python client library: \n",
    " - https://www.ebi.ac.uk/chembl/ \n",
    "\n",
    "**Full Executive Summary, Conclusion, Recommendations, Data Dictionary and Sources can be found in README.**\n",
    "\n",
    "## Contents:\n",
    "- [Data Import & Cleaning](#Data-Import-&-Cleaning)\n",
    "- [Classification Search](#Classification-Search)\n",
    "- [Regression Search](#Regression-Search)"
   ]
  },
  {
   "cell_type": "markdown",
   "id": "generic-dayton",
   "metadata": {},
   "source": [
    "#### Importing Libraries"
   ]
  },
  {
   "cell_type": "code",
   "execution_count": 1,
   "id": "industrial-representative",
   "metadata": {},
   "outputs": [],
   "source": [
    "import matplotlib.pyplot as plt\n",
    "import seaborn as sns\n",
    "import pandas as pd\n",
    "import numpy as np\n",
    "from sklearn.pipeline import make_pipeline\n",
    "from sklearn.compose import make_column_transformer, make_column_selector\n",
    "import warnings\n",
    "warnings.filterwarnings(\"ignore\")\n",
    "from sklearn.preprocessing import PolynomialFeatures, StandardScaler\n",
    "from sklearn.feature_selection import VarianceThreshold\n",
    "from lazypredict.Supervised import Classification, Regression\n",
    "from rdkit import Chem\n",
    "from rdkit.Chem.Draw import IPythonConsole\n",
    "from rdkit.Chem import Draw\n",
    "from rdkit.Chem import AllChem\n",
    "from rdkit import DataStructs\n",
    "from rdkit.Chem import MACCSkeys\n",
    "from sklearn.ensemble import RandomForestClassifier, RandomForestRegressor, ExtraTreesRegressor\n",
    "from sklearn.linear_model import LinearRegression\n",
    "from sklearn.model_selection import GridSearchCV, train_test_split\n",
    "from sklearn.metrics import confusion_matrix, accuracy_score, balanced_accuracy_score,\\\n",
    "                            precision_score, recall_score, roc_auc_score,\\\n",
    "                            mean_squared_error, mean_absolute_error, r2_score,\\\n",
    "                            plot_confusion_matrix, classification_report, \\\n",
    "                            plot_roc_curve, f1_score"
   ]
  },
  {
   "cell_type": "markdown",
   "id": "internal-romantic",
   "metadata": {},
   "source": [
    "#### Data Import and Cleaning"
   ]
  },
  {
   "cell_type": "code",
   "execution_count": 2,
   "id": "educational-marijuana",
   "metadata": {},
   "outputs": [],
   "source": [
    "df = pd.read_csv('./data/acinetobacter_baumannii_MIC_addFeats_addBits.csv').drop(columns = \n",
    "                        'Unnamed: 0').drop_duplicates(subset = ['canonical_smiles'])"
   ]
  },
  {
   "cell_type": "code",
   "execution_count": 3,
   "id": "applicable-camel",
   "metadata": {},
   "outputs": [
    {
     "data": {
      "text/html": [
       "<div>\n",
       "<style scoped>\n",
       "    .dataframe tbody tr th:only-of-type {\n",
       "        vertical-align: middle;\n",
       "    }\n",
       "\n",
       "    .dataframe tbody tr th {\n",
       "        vertical-align: top;\n",
       "    }\n",
       "\n",
       "    .dataframe thead th {\n",
       "        text-align: right;\n",
       "    }\n",
       "</style>\n",
       "<table border=\"1\" class=\"dataframe\">\n",
       "  <thead>\n",
       "    <tr style=\"text-align: right;\">\n",
       "      <th></th>\n",
       "      <th>canonical_smiles</th>\n",
       "      <th>standard_value</th>\n",
       "      <th>bioactivity_binary</th>\n",
       "      <th>bioactivity_binary_class</th>\n",
       "      <th>bioactivity_multiclass</th>\n",
       "      <th>mol_wt</th>\n",
       "      <th>log_p</th>\n",
       "      <th>proton_donors</th>\n",
       "      <th>proton_acceptors</th>\n",
       "      <th>Bit_0</th>\n",
       "      <th>...</th>\n",
       "      <th>Bit_2038</th>\n",
       "      <th>Bit_2039</th>\n",
       "      <th>Bit_2040</th>\n",
       "      <th>Bit_2041</th>\n",
       "      <th>Bit_2042</th>\n",
       "      <th>Bit_2043</th>\n",
       "      <th>Bit_2044</th>\n",
       "      <th>Bit_2045</th>\n",
       "      <th>Bit_2046</th>\n",
       "      <th>Bit_2047</th>\n",
       "    </tr>\n",
       "  </thead>\n",
       "  <tbody>\n",
       "    <tr>\n",
       "      <th>6651</th>\n",
       "      <td>O=C(Nc1ccc(C2=NCCN2)cc1)c1ccc(C(=O)Nc2ccc(C3=N...</td>\n",
       "      <td>10000.00</td>\n",
       "      <td>inactive</td>\n",
       "      <td>0</td>\n",
       "      <td>inactive</td>\n",
       "      <td>486.96</td>\n",
       "      <td>3.54</td>\n",
       "      <td>4.00</td>\n",
       "      <td>6.00</td>\n",
       "      <td>0</td>\n",
       "      <td>...</td>\n",
       "      <td>0</td>\n",
       "      <td>0</td>\n",
       "      <td>0</td>\n",
       "      <td>1</td>\n",
       "      <td>0</td>\n",
       "      <td>0</td>\n",
       "      <td>0</td>\n",
       "      <td>0</td>\n",
       "      <td>0</td>\n",
       "      <td>0</td>\n",
       "    </tr>\n",
       "    <tr>\n",
       "      <th>7036</th>\n",
       "      <td>CC(=O)N[C@H](CCCCN)C(=O)N[C@H](CC(C)C)C(=O)N[C...</td>\n",
       "      <td>1300.00</td>\n",
       "      <td>inactive</td>\n",
       "      <td>0</td>\n",
       "      <td>inactive</td>\n",
       "      <td>3033.77</td>\n",
       "      <td>-13.75</td>\n",
       "      <td>53.00</td>\n",
       "      <td>41.00</td>\n",
       "      <td>0</td>\n",
       "      <td>...</td>\n",
       "      <td>0</td>\n",
       "      <td>0</td>\n",
       "      <td>0</td>\n",
       "      <td>0</td>\n",
       "      <td>1</td>\n",
       "      <td>0</td>\n",
       "      <td>0</td>\n",
       "      <td>0</td>\n",
       "      <td>0</td>\n",
       "      <td>0</td>\n",
       "    </tr>\n",
       "    <tr>\n",
       "      <th>6312</th>\n",
       "      <td>O=C(O)c1ccc(-n2cc(/C=N/Nc3cccc(F)c3)c(-c3ccc(F...</td>\n",
       "      <td>6.25</td>\n",
       "      <td>active</td>\n",
       "      <td>1</td>\n",
       "      <td>active</td>\n",
       "      <td>436.39</td>\n",
       "      <td>5.10</td>\n",
       "      <td>2.00</td>\n",
       "      <td>5.00</td>\n",
       "      <td>0</td>\n",
       "      <td>...</td>\n",
       "      <td>0</td>\n",
       "      <td>0</td>\n",
       "      <td>0</td>\n",
       "      <td>0</td>\n",
       "      <td>0</td>\n",
       "      <td>0</td>\n",
       "      <td>0</td>\n",
       "      <td>0</td>\n",
       "      <td>0</td>\n",
       "      <td>0</td>\n",
       "    </tr>\n",
       "  </tbody>\n",
       "</table>\n",
       "<p>3 rows × 2057 columns</p>\n",
       "</div>"
      ],
      "text/plain": [
       "                                       canonical_smiles  standard_value  \\\n",
       "6651  O=C(Nc1ccc(C2=NCCN2)cc1)c1ccc(C(=O)Nc2ccc(C3=N...        10000.00   \n",
       "7036  CC(=O)N[C@H](CCCCN)C(=O)N[C@H](CC(C)C)C(=O)N[C...         1300.00   \n",
       "6312  O=C(O)c1ccc(-n2cc(/C=N/Nc3cccc(F)c3)c(-c3ccc(F...            6.25   \n",
       "\n",
       "     bioactivity_binary  bioactivity_binary_class bioactivity_multiclass  \\\n",
       "6651           inactive                         0               inactive   \n",
       "7036           inactive                         0               inactive   \n",
       "6312             active                         1                 active   \n",
       "\n",
       "      mol_wt  log_p  proton_donors  proton_acceptors  Bit_0  ...  Bit_2038  \\\n",
       "6651  486.96   3.54           4.00              6.00      0  ...         0   \n",
       "7036 3033.77 -13.75          53.00             41.00      0  ...         0   \n",
       "6312  436.39   5.10           2.00              5.00      0  ...         0   \n",
       "\n",
       "      Bit_2039  Bit_2040  Bit_2041  Bit_2042  Bit_2043  Bit_2044  Bit_2045  \\\n",
       "6651         0         0         1         0         0         0         0   \n",
       "7036         0         0         0         1         0         0         0   \n",
       "6312         0         0         0         0         0         0         0   \n",
       "\n",
       "      Bit_2046  Bit_2047  \n",
       "6651         0         0  \n",
       "7036         0         0  \n",
       "6312         0         0  \n",
       "\n",
       "[3 rows x 2057 columns]"
      ]
     },
     "execution_count": 3,
     "metadata": {},
     "output_type": "execute_result"
    }
   ],
   "source": [
    "df.sample(3)"
   ]
  },
  {
   "cell_type": "code",
   "execution_count": 4,
   "id": "angry-snake",
   "metadata": {},
   "outputs": [],
   "source": [
    "#first test with subset not containing intermediate efficacy\n",
    "df_small = df[df.bioactivity_multiclass != 'intermediate']"
   ]
  },
  {
   "cell_type": "code",
   "execution_count": 5,
   "id": "brazilian-consolidation",
   "metadata": {},
   "outputs": [
    {
     "data": {
      "text/plain": [
       "inactive    1618\n",
       "active      1092\n",
       "Name: bioactivity_multiclass, dtype: int64"
      ]
     },
     "execution_count": 5,
     "metadata": {},
     "output_type": "execute_result"
    }
   ],
   "source": [
    "df_small.bioactivity_multiclass.value_counts()"
   ]
  },
  {
   "cell_type": "code",
   "execution_count": 6,
   "id": "involved-commission",
   "metadata": {},
   "outputs": [],
   "source": [
    "num_cols = ['mol_wt', 'log_p', 'proton_donors', 'proton_acceptors']"
   ]
  },
  {
   "cell_type": "code",
   "execution_count": 7,
   "id": "piano-buyer",
   "metadata": {},
   "outputs": [],
   "source": [
    "ss = StandardScaler()"
   ]
  },
  {
   "cell_type": "code",
   "execution_count": 8,
   "id": "organized-chest",
   "metadata": {},
   "outputs": [],
   "source": [
    "df_small[num_cols] = ss.fit_transform(df_small[num_cols])\n",
    "df[num_cols] = ss.fit_transform(df[num_cols])"
   ]
  },
  {
   "cell_type": "code",
   "execution_count": 9,
   "id": "subjective-hurricane",
   "metadata": {},
   "outputs": [],
   "source": [
    "X = df_small.drop(columns = ['canonical_smiles','standard_value',\n",
    "                             'bioactivity_binary','bioactivity_binary_class',\n",
    "                             'bioactivity_multiclass'])\n",
    "y = df_small['bioactivity_binary_class']"
   ]
  },
  {
   "cell_type": "code",
   "execution_count": 14,
   "id": "alpha-oliver",
   "metadata": {},
   "outputs": [],
   "source": [
    "X_train, X_test, y_train, y_test = train_test_split(X, y, stratify = y)"
   ]
  },
  {
   "cell_type": "code",
   "execution_count": 15,
   "id": "handmade-small",
   "metadata": {},
   "outputs": [
    {
     "name": "stdout",
     "output_type": "stream",
     "text": [
      "Null model accuracy: 0.6\n"
     ]
    }
   ],
   "source": [
    "print(f'Null model accuracy: {round(max(y_test.mean(), 1 - y_test.mean()), 2)}')"
   ]
  },
  {
   "cell_type": "markdown",
   "id": "collaborative-conservation",
   "metadata": {},
   "source": [
    "# Classification Search"
   ]
  },
  {
   "cell_type": "markdown",
   "id": "infrared-movement",
   "metadata": {},
   "source": [
    "Binary Classification, No intermediate values"
   ]
  },
  {
   "cell_type": "code",
   "execution_count": 16,
   "id": "prescribed-approach",
   "metadata": {},
   "outputs": [],
   "source": [
    "clf = Classification()"
   ]
  },
  {
   "cell_type": "code",
   "execution_count": 17,
   "id": "stable-quantity",
   "metadata": {},
   "outputs": [
    {
     "name": "stderr",
     "output_type": "stream",
     "text": [
      "100%|██████████| 29/29 [01:14<00:00,  2.58s/it]\n"
     ]
    }
   ],
   "source": [
    "models, predictions = clf.fit(X_train, X_test, y_train, y_test)"
   ]
  },
  {
   "cell_type": "code",
   "execution_count": 20,
   "id": "wired-button",
   "metadata": {},
   "outputs": [
    {
     "data": {
      "text/html": [
       "<div>\n",
       "<style scoped>\n",
       "    .dataframe tbody tr th:only-of-type {\n",
       "        vertical-align: middle;\n",
       "    }\n",
       "\n",
       "    .dataframe tbody tr th {\n",
       "        vertical-align: top;\n",
       "    }\n",
       "\n",
       "    .dataframe thead th {\n",
       "        text-align: right;\n",
       "    }\n",
       "</style>\n",
       "<table border=\"1\" class=\"dataframe\">\n",
       "  <thead>\n",
       "    <tr style=\"text-align: right;\">\n",
       "      <th></th>\n",
       "      <th>Accuracy</th>\n",
       "      <th>Balanced Accuracy</th>\n",
       "      <th>ROC AUC</th>\n",
       "      <th>F1 Score</th>\n",
       "      <th>Time Taken</th>\n",
       "    </tr>\n",
       "    <tr>\n",
       "      <th>Model</th>\n",
       "      <th></th>\n",
       "      <th></th>\n",
       "      <th></th>\n",
       "      <th></th>\n",
       "      <th></th>\n",
       "    </tr>\n",
       "  </thead>\n",
       "  <tbody>\n",
       "    <tr>\n",
       "      <th>RandomForestClassifier</th>\n",
       "      <td>0.96</td>\n",
       "      <td>0.95</td>\n",
       "      <td>0.95</td>\n",
       "      <td>0.96</td>\n",
       "      <td>1.08</td>\n",
       "    </tr>\n",
       "    <tr>\n",
       "      <th>ExtraTreesClassifier</th>\n",
       "      <td>0.95</td>\n",
       "      <td>0.95</td>\n",
       "      <td>0.95</td>\n",
       "      <td>0.95</td>\n",
       "      <td>1.30</td>\n",
       "    </tr>\n",
       "    <tr>\n",
       "      <th>LGBMClassifier</th>\n",
       "      <td>0.95</td>\n",
       "      <td>0.95</td>\n",
       "      <td>0.95</td>\n",
       "      <td>0.95</td>\n",
       "      <td>0.77</td>\n",
       "    </tr>\n",
       "    <tr>\n",
       "      <th>XGBClassifier</th>\n",
       "      <td>0.95</td>\n",
       "      <td>0.94</td>\n",
       "      <td>0.94</td>\n",
       "      <td>0.95</td>\n",
       "      <td>3.21</td>\n",
       "    </tr>\n",
       "    <tr>\n",
       "      <th>PassiveAggressiveClassifier</th>\n",
       "      <td>0.94</td>\n",
       "      <td>0.93</td>\n",
       "      <td>0.93</td>\n",
       "      <td>0.94</td>\n",
       "      <td>0.45</td>\n",
       "    </tr>\n",
       "    <tr>\n",
       "      <th>SVC</th>\n",
       "      <td>0.94</td>\n",
       "      <td>0.93</td>\n",
       "      <td>0.93</td>\n",
       "      <td>0.94</td>\n",
       "      <td>12.19</td>\n",
       "    </tr>\n",
       "    <tr>\n",
       "      <th>LinearSVC</th>\n",
       "      <td>0.93</td>\n",
       "      <td>0.93</td>\n",
       "      <td>0.93</td>\n",
       "      <td>0.93</td>\n",
       "      <td>4.64</td>\n",
       "    </tr>\n",
       "    <tr>\n",
       "      <th>BaggingClassifier</th>\n",
       "      <td>0.93</td>\n",
       "      <td>0.93</td>\n",
       "      <td>0.93</td>\n",
       "      <td>0.93</td>\n",
       "      <td>2.45</td>\n",
       "    </tr>\n",
       "    <tr>\n",
       "      <th>CalibratedClassifierCV</th>\n",
       "      <td>0.94</td>\n",
       "      <td>0.93</td>\n",
       "      <td>0.93</td>\n",
       "      <td>0.93</td>\n",
       "      <td>19.04</td>\n",
       "    </tr>\n",
       "    <tr>\n",
       "      <th>SGDClassifier</th>\n",
       "      <td>0.94</td>\n",
       "      <td>0.92</td>\n",
       "      <td>0.92</td>\n",
       "      <td>0.94</td>\n",
       "      <td>0.36</td>\n",
       "    </tr>\n",
       "    <tr>\n",
       "      <th>Perceptron</th>\n",
       "      <td>0.93</td>\n",
       "      <td>0.92</td>\n",
       "      <td>0.92</td>\n",
       "      <td>0.93</td>\n",
       "      <td>0.32</td>\n",
       "    </tr>\n",
       "    <tr>\n",
       "      <th>KNeighborsClassifier</th>\n",
       "      <td>0.93</td>\n",
       "      <td>0.92</td>\n",
       "      <td>0.92</td>\n",
       "      <td>0.93</td>\n",
       "      <td>5.15</td>\n",
       "    </tr>\n",
       "    <tr>\n",
       "      <th>DecisionTreeClassifier</th>\n",
       "      <td>0.90</td>\n",
       "      <td>0.90</td>\n",
       "      <td>0.90</td>\n",
       "      <td>0.90</td>\n",
       "      <td>0.53</td>\n",
       "    </tr>\n",
       "    <tr>\n",
       "      <th>ExtraTreeClassifier</th>\n",
       "      <td>0.90</td>\n",
       "      <td>0.90</td>\n",
       "      <td>0.90</td>\n",
       "      <td>0.90</td>\n",
       "      <td>0.23</td>\n",
       "    </tr>\n",
       "    <tr>\n",
       "      <th>AdaBoostClassifier</th>\n",
       "      <td>0.91</td>\n",
       "      <td>0.90</td>\n",
       "      <td>0.90</td>\n",
       "      <td>0.91</td>\n",
       "      <td>2.16</td>\n",
       "    </tr>\n",
       "    <tr>\n",
       "      <th>NuSVC</th>\n",
       "      <td>0.91</td>\n",
       "      <td>0.89</td>\n",
       "      <td>0.89</td>\n",
       "      <td>0.91</td>\n",
       "      <td>12.00</td>\n",
       "    </tr>\n",
       "    <tr>\n",
       "      <th>RidgeClassifierCV</th>\n",
       "      <td>0.86</td>\n",
       "      <td>0.86</td>\n",
       "      <td>0.86</td>\n",
       "      <td>0.86</td>\n",
       "      <td>1.28</td>\n",
       "    </tr>\n",
       "    <tr>\n",
       "      <th>GaussianNB</th>\n",
       "      <td>0.82</td>\n",
       "      <td>0.83</td>\n",
       "      <td>0.83</td>\n",
       "      <td>0.82</td>\n",
       "      <td>0.31</td>\n",
       "    </tr>\n",
       "    <tr>\n",
       "      <th>BernoulliNB</th>\n",
       "      <td>0.85</td>\n",
       "      <td>0.82</td>\n",
       "      <td>0.82</td>\n",
       "      <td>0.84</td>\n",
       "      <td>0.29</td>\n",
       "    </tr>\n",
       "    <tr>\n",
       "      <th>NearestCentroid</th>\n",
       "      <td>0.84</td>\n",
       "      <td>0.81</td>\n",
       "      <td>0.81</td>\n",
       "      <td>0.83</td>\n",
       "      <td>0.26</td>\n",
       "    </tr>\n",
       "  </tbody>\n",
       "</table>\n",
       "</div>"
      ],
      "text/plain": [
       "                             Accuracy  Balanced Accuracy  ROC AUC  F1 Score  \\\n",
       "Model                                                                         \n",
       "RandomForestClassifier           0.96               0.95     0.95      0.96   \n",
       "ExtraTreesClassifier             0.95               0.95     0.95      0.95   \n",
       "LGBMClassifier                   0.95               0.95     0.95      0.95   \n",
       "XGBClassifier                    0.95               0.94     0.94      0.95   \n",
       "PassiveAggressiveClassifier      0.94               0.93     0.93      0.94   \n",
       "SVC                              0.94               0.93     0.93      0.94   \n",
       "LinearSVC                        0.93               0.93     0.93      0.93   \n",
       "BaggingClassifier                0.93               0.93     0.93      0.93   \n",
       "CalibratedClassifierCV           0.94               0.93     0.93      0.93   \n",
       "SGDClassifier                    0.94               0.92     0.92      0.94   \n",
       "Perceptron                       0.93               0.92     0.92      0.93   \n",
       "KNeighborsClassifier             0.93               0.92     0.92      0.93   \n",
       "DecisionTreeClassifier           0.90               0.90     0.90      0.90   \n",
       "ExtraTreeClassifier              0.90               0.90     0.90      0.90   \n",
       "AdaBoostClassifier               0.91               0.90     0.90      0.91   \n",
       "NuSVC                            0.91               0.89     0.89      0.91   \n",
       "RidgeClassifierCV                0.86               0.86     0.86      0.86   \n",
       "GaussianNB                       0.82               0.83     0.83      0.82   \n",
       "BernoulliNB                      0.85               0.82     0.82      0.84   \n",
       "NearestCentroid                  0.84               0.81     0.81      0.83   \n",
       "\n",
       "                             Time Taken  \n",
       "Model                                    \n",
       "RandomForestClassifier             1.08  \n",
       "ExtraTreesClassifier               1.30  \n",
       "LGBMClassifier                     0.77  \n",
       "XGBClassifier                      3.21  \n",
       "PassiveAggressiveClassifier        0.45  \n",
       "SVC                               12.19  \n",
       "LinearSVC                          4.64  \n",
       "BaggingClassifier                  2.45  \n",
       "CalibratedClassifierCV            19.04  \n",
       "SGDClassifier                      0.36  \n",
       "Perceptron                         0.32  \n",
       "KNeighborsClassifier               5.15  \n",
       "DecisionTreeClassifier             0.53  \n",
       "ExtraTreeClassifier                0.23  \n",
       "AdaBoostClassifier                 2.16  \n",
       "NuSVC                             12.00  \n",
       "RidgeClassifierCV                  1.28  \n",
       "GaussianNB                         0.31  \n",
       "BernoulliNB                        0.29  \n",
       "NearestCentroid                    0.26  "
      ]
     },
     "execution_count": 20,
     "metadata": {},
     "output_type": "execute_result"
    }
   ],
   "source": [
    "models[0:20]"
   ]
  },
  {
   "cell_type": "code",
   "execution_count": 28,
   "id": "residential-effort",
   "metadata": {},
   "outputs": [
    {
     "data": {
      "image/png": "[encoded data removed]",
      "text/plain": [
       "<Figure size 1224x432 with 1 Axes>"
      ]
     },
     "metadata": {
      "needs_background": "light"
     },
     "output_type": "display_data"
    }
   ],
   "source": [
    "plt.figure(figsize=(17,6))\n",
    "sns.barplot(x = models[0:10].index, y = models[0:10].Accuracy);\n",
    "plt.tight_layout()"
   ]
  },
  {
   "cell_type": "markdown",
   "id": "streaming-thermal",
   "metadata": {},
   "source": [
    "Binary Classification with all values"
   ]
  },
  {
   "cell_type": "code",
   "execution_count": 31,
   "id": "august-diving",
   "metadata": {},
   "outputs": [],
   "source": [
    "X = df.drop(columns = ['canonical_smiles','standard_value',\n",
    "                             'bioactivity_binary','bioactivity_binary_class',\n",
    "                             'bioactivity_multiclass'])\n",
    "y = df['bioactivity_binary_class']"
   ]
  },
  {
   "cell_type": "code",
   "execution_count": 32,
   "id": "happy-permit",
   "metadata": {},
   "outputs": [],
   "source": [
    "X_train, X_test, y_train, y_test = train_test_split(X, y, stratify = y)"
   ]
  },
  {
   "cell_type": "code",
   "execution_count": 33,
   "id": "ignored-hardware",
   "metadata": {},
   "outputs": [
    {
     "name": "stdout",
     "output_type": "stream",
     "text": [
      "Null model accuracy: 0.51\n"
     ]
    }
   ],
   "source": [
    "print(f'Null model accuracy: {round(max(y_test.mean(), 1 - y_test.mean()), 2)}')"
   ]
  },
  {
   "cell_type": "code",
   "execution_count": 35,
   "id": "forward-physiology",
   "metadata": {},
   "outputs": [],
   "source": [
    "clf = Classification()"
   ]
  },
  {
   "cell_type": "code",
   "execution_count": 36,
   "id": "liable-pixel",
   "metadata": {},
   "outputs": [
    {
     "name": "stderr",
     "output_type": "stream",
     "text": [
      "100%|██████████| 29/29 [08:06<00:00, 16.78s/it]\n"
     ]
    }
   ],
   "source": [
    "models, predictions = clf.fit(X_train, X_test, y_train, y_test)"
   ]
  },
  {
   "cell_type": "code",
   "execution_count": 37,
   "id": "second-disclaimer",
   "metadata": {},
   "outputs": [
    {
     "data": {
      "text/html": [
       "<div>\n",
       "<style scoped>\n",
       "    .dataframe tbody tr th:only-of-type {\n",
       "        vertical-align: middle;\n",
       "    }\n",
       "\n",
       "    .dataframe tbody tr th {\n",
       "        vertical-align: top;\n",
       "    }\n",
       "\n",
       "    .dataframe thead th {\n",
       "        text-align: right;\n",
       "    }\n",
       "</style>\n",
       "<table border=\"1\" class=\"dataframe\">\n",
       "  <thead>\n",
       "    <tr style=\"text-align: right;\">\n",
       "      <th></th>\n",
       "      <th>Accuracy</th>\n",
       "      <th>Balanced Accuracy</th>\n",
       "      <th>ROC AUC</th>\n",
       "      <th>F1 Score</th>\n",
       "      <th>Time Taken</th>\n",
       "    </tr>\n",
       "    <tr>\n",
       "      <th>Model</th>\n",
       "      <th></th>\n",
       "      <th></th>\n",
       "      <th></th>\n",
       "      <th></th>\n",
       "      <th></th>\n",
       "    </tr>\n",
       "  </thead>\n",
       "  <tbody>\n",
       "    <tr>\n",
       "      <th>ExtraTreesClassifier</th>\n",
       "      <td>0.86</td>\n",
       "      <td>0.86</td>\n",
       "      <td>0.86</td>\n",
       "      <td>0.86</td>\n",
       "      <td>10.10</td>\n",
       "    </tr>\n",
       "    <tr>\n",
       "      <th>RandomForestClassifier</th>\n",
       "      <td>0.86</td>\n",
       "      <td>0.86</td>\n",
       "      <td>0.86</td>\n",
       "      <td>0.86</td>\n",
       "      <td>8.66</td>\n",
       "    </tr>\n",
       "    <tr>\n",
       "      <th>SVC</th>\n",
       "      <td>0.86</td>\n",
       "      <td>0.86</td>\n",
       "      <td>0.86</td>\n",
       "      <td>0.86</td>\n",
       "      <td>98.60</td>\n",
       "    </tr>\n",
       "    <tr>\n",
       "      <th>LGBMClassifier</th>\n",
       "      <td>0.85</td>\n",
       "      <td>0.85</td>\n",
       "      <td>0.85</td>\n",
       "      <td>0.85</td>\n",
       "      <td>2.74</td>\n",
       "    </tr>\n",
       "    <tr>\n",
       "      <th>BaggingClassifier</th>\n",
       "      <td>0.85</td>\n",
       "      <td>0.85</td>\n",
       "      <td>0.85</td>\n",
       "      <td>0.85</td>\n",
       "      <td>11.94</td>\n",
       "    </tr>\n",
       "    <tr>\n",
       "      <th>XGBClassifier</th>\n",
       "      <td>0.85</td>\n",
       "      <td>0.85</td>\n",
       "      <td>0.85</td>\n",
       "      <td>0.85</td>\n",
       "      <td>10.46</td>\n",
       "    </tr>\n",
       "    <tr>\n",
       "      <th>NuSVC</th>\n",
       "      <td>0.85</td>\n",
       "      <td>0.85</td>\n",
       "      <td>0.85</td>\n",
       "      <td>0.85</td>\n",
       "      <td>123.35</td>\n",
       "    </tr>\n",
       "    <tr>\n",
       "      <th>DecisionTreeClassifier</th>\n",
       "      <td>0.84</td>\n",
       "      <td>0.84</td>\n",
       "      <td>0.84</td>\n",
       "      <td>0.84</td>\n",
       "      <td>2.31</td>\n",
       "    </tr>\n",
       "    <tr>\n",
       "      <th>ExtraTreeClassifier</th>\n",
       "      <td>0.83</td>\n",
       "      <td>0.83</td>\n",
       "      <td>0.83</td>\n",
       "      <td>0.83</td>\n",
       "      <td>0.76</td>\n",
       "    </tr>\n",
       "    <tr>\n",
       "      <th>RidgeClassifierCV</th>\n",
       "      <td>0.82</td>\n",
       "      <td>0.82</td>\n",
       "      <td>0.82</td>\n",
       "      <td>0.82</td>\n",
       "      <td>7.92</td>\n",
       "    </tr>\n",
       "    <tr>\n",
       "      <th>CalibratedClassifierCV</th>\n",
       "      <td>0.82</td>\n",
       "      <td>0.82</td>\n",
       "      <td>0.82</td>\n",
       "      <td>0.82</td>\n",
       "      <td>98.64</td>\n",
       "    </tr>\n",
       "    <tr>\n",
       "      <th>KNeighborsClassifier</th>\n",
       "      <td>0.81</td>\n",
       "      <td>0.81</td>\n",
       "      <td>0.81</td>\n",
       "      <td>0.81</td>\n",
       "      <td>41.10</td>\n",
       "    </tr>\n",
       "    <tr>\n",
       "      <th>LinearDiscriminantAnalysis</th>\n",
       "      <td>0.81</td>\n",
       "      <td>0.81</td>\n",
       "      <td>0.81</td>\n",
       "      <td>0.81</td>\n",
       "      <td>7.03</td>\n",
       "    </tr>\n",
       "    <tr>\n",
       "      <th>RidgeClassifier</th>\n",
       "      <td>0.81</td>\n",
       "      <td>0.81</td>\n",
       "      <td>0.81</td>\n",
       "      <td>0.81</td>\n",
       "      <td>1.38</td>\n",
       "    </tr>\n",
       "    <tr>\n",
       "      <th>SGDClassifier</th>\n",
       "      <td>0.81</td>\n",
       "      <td>0.81</td>\n",
       "      <td>0.81</td>\n",
       "      <td>0.81</td>\n",
       "      <td>2.62</td>\n",
       "    </tr>\n",
       "    <tr>\n",
       "      <th>PassiveAggressiveClassifier</th>\n",
       "      <td>0.81</td>\n",
       "      <td>0.81</td>\n",
       "      <td>0.81</td>\n",
       "      <td>0.81</td>\n",
       "      <td>1.45</td>\n",
       "    </tr>\n",
       "    <tr>\n",
       "      <th>GaussianNB</th>\n",
       "      <td>0.80</td>\n",
       "      <td>0.80</td>\n",
       "      <td>0.80</td>\n",
       "      <td>0.80</td>\n",
       "      <td>1.06</td>\n",
       "    </tr>\n",
       "    <tr>\n",
       "      <th>AdaBoostClassifier</th>\n",
       "      <td>0.80</td>\n",
       "      <td>0.80</td>\n",
       "      <td>0.80</td>\n",
       "      <td>0.80</td>\n",
       "      <td>7.14</td>\n",
       "    </tr>\n",
       "    <tr>\n",
       "      <th>LinearSVC</th>\n",
       "      <td>0.79</td>\n",
       "      <td>0.79</td>\n",
       "      <td>0.79</td>\n",
       "      <td>0.79</td>\n",
       "      <td>23.68</td>\n",
       "    </tr>\n",
       "    <tr>\n",
       "      <th>Perceptron</th>\n",
       "      <td>0.78</td>\n",
       "      <td>0.78</td>\n",
       "      <td>0.78</td>\n",
       "      <td>0.78</td>\n",
       "      <td>1.14</td>\n",
       "    </tr>\n",
       "    <tr>\n",
       "      <th>BernoulliNB</th>\n",
       "      <td>0.77</td>\n",
       "      <td>0.77</td>\n",
       "      <td>0.77</td>\n",
       "      <td>0.77</td>\n",
       "      <td>1.04</td>\n",
       "    </tr>\n",
       "    <tr>\n",
       "      <th>NearestCentroid</th>\n",
       "      <td>0.77</td>\n",
       "      <td>0.77</td>\n",
       "      <td>0.77</td>\n",
       "      <td>0.77</td>\n",
       "      <td>0.84</td>\n",
       "    </tr>\n",
       "    <tr>\n",
       "      <th>QuadraticDiscriminantAnalysis</th>\n",
       "      <td>0.77</td>\n",
       "      <td>0.77</td>\n",
       "      <td>0.77</td>\n",
       "      <td>0.77</td>\n",
       "      <td>13.54</td>\n",
       "    </tr>\n",
       "    <tr>\n",
       "      <th>LabelSpreading</th>\n",
       "      <td>0.76</td>\n",
       "      <td>0.76</td>\n",
       "      <td>0.76</td>\n",
       "      <td>0.76</td>\n",
       "      <td>3.19</td>\n",
       "    </tr>\n",
       "    <tr>\n",
       "      <th>LabelPropagation</th>\n",
       "      <td>0.76</td>\n",
       "      <td>0.76</td>\n",
       "      <td>0.76</td>\n",
       "      <td>0.76</td>\n",
       "      <td>2.47</td>\n",
       "    </tr>\n",
       "    <tr>\n",
       "      <th>DummyClassifier</th>\n",
       "      <td>0.50</td>\n",
       "      <td>0.50</td>\n",
       "      <td>0.50</td>\n",
       "      <td>0.50</td>\n",
       "      <td>0.65</td>\n",
       "    </tr>\n",
       "  </tbody>\n",
       "</table>\n",
       "</div>"
      ],
      "text/plain": [
       "                               Accuracy  Balanced Accuracy  ROC AUC  F1 Score  \\\n",
       "Model                                                                           \n",
       "ExtraTreesClassifier               0.86               0.86     0.86      0.86   \n",
       "RandomForestClassifier             0.86               0.86     0.86      0.86   \n",
       "SVC                                0.86               0.86     0.86      0.86   \n",
       "LGBMClassifier                     0.85               0.85     0.85      0.85   \n",
       "BaggingClassifier                  0.85               0.85     0.85      0.85   \n",
       "XGBClassifier                      0.85               0.85     0.85      0.85   \n",
       "NuSVC                              0.85               0.85     0.85      0.85   \n",
       "DecisionTreeClassifier             0.84               0.84     0.84      0.84   \n",
       "ExtraTreeClassifier                0.83               0.83     0.83      0.83   \n",
       "RidgeClassifierCV                  0.82               0.82     0.82      0.82   \n",
       "CalibratedClassifierCV             0.82               0.82     0.82      0.82   \n",
       "KNeighborsClassifier               0.81               0.81     0.81      0.81   \n",
       "LinearDiscriminantAnalysis         0.81               0.81     0.81      0.81   \n",
       "RidgeClassifier                    0.81               0.81     0.81      0.81   \n",
       "SGDClassifier                      0.81               0.81     0.81      0.81   \n",
       "PassiveAggressiveClassifier        0.81               0.81     0.81      0.81   \n",
       "GaussianNB                         0.80               0.80     0.80      0.80   \n",
       "AdaBoostClassifier                 0.80               0.80     0.80      0.80   \n",
       "LinearSVC                          0.79               0.79     0.79      0.79   \n",
       "Perceptron                         0.78               0.78     0.78      0.78   \n",
       "BernoulliNB                        0.77               0.77     0.77      0.77   \n",
       "NearestCentroid                    0.77               0.77     0.77      0.77   \n",
       "QuadraticDiscriminantAnalysis      0.77               0.77     0.77      0.77   \n",
       "LabelSpreading                     0.76               0.76     0.76      0.76   \n",
       "LabelPropagation                   0.76               0.76     0.76      0.76   \n",
       "DummyClassifier                    0.50               0.50     0.50      0.50   \n",
       "\n",
       "                               Time Taken  \n",
       "Model                                      \n",
       "ExtraTreesClassifier                10.10  \n",
       "RandomForestClassifier               8.66  \n",
       "SVC                                 98.60  \n",
       "LGBMClassifier                       2.74  \n",
       "BaggingClassifier                   11.94  \n",
       "XGBClassifier                       10.46  \n",
       "NuSVC                              123.35  \n",
       "DecisionTreeClassifier               2.31  \n",
       "ExtraTreeClassifier                  0.76  \n",
       "RidgeClassifierCV                    7.92  \n",
       "CalibratedClassifierCV              98.64  \n",
       "KNeighborsClassifier                41.10  \n",
       "LinearDiscriminantAnalysis           7.03  \n",
       "RidgeClassifier                      1.38  \n",
       "SGDClassifier                        2.62  \n",
       "PassiveAggressiveClassifier          1.45  \n",
       "GaussianNB                           1.06  \n",
       "AdaBoostClassifier                   7.14  \n",
       "LinearSVC                           23.68  \n",
       "Perceptron                           1.14  \n",
       "BernoulliNB                          1.04  \n",
       "NearestCentroid                      0.84  \n",
       "QuadraticDiscriminantAnalysis       13.54  \n",
       "LabelSpreading                       3.19  \n",
       "LabelPropagation                     2.47  \n",
       "DummyClassifier                      0.65  "
      ]
     },
     "execution_count": 37,
     "metadata": {},
     "output_type": "execute_result"
    }
   ],
   "source": [
    "models[0:8] #performs about the same as without intermediate values\n",
    "       #considering the null value is 8% lower"
   ]
  },
  {
   "cell_type": "markdown",
   "id": "digital-chain",
   "metadata": {},
   "source": [
    "Multiclass Classification with all values"
   ]
  },
  {
   "cell_type": "code",
   "execution_count": 50,
   "id": "extreme-beginning",
   "metadata": {},
   "outputs": [],
   "source": [
    "df['bioactivity_multiclass'].replace(to_replace = 'inactive',\n",
    "                                    value = 0, inplace=True)\n",
    "\n",
    "df['bioactivity_multiclass'].replace(to_replace = 'intermediate',\n",
    "                                    value = 1, inplace=True)\n",
    "\n",
    "df['bioactivity_multiclass'].replace(to_replace = 'active',\n",
    "                                    value = 2, inplace=True)"
   ]
  },
  {
   "cell_type": "code",
   "execution_count": 51,
   "id": "oriental-ticket",
   "metadata": {},
   "outputs": [],
   "source": [
    "X = df.drop(columns = ['canonical_smiles','standard_value',\n",
    "                             'bioactivity_binary','bioactivity_binary_class',\n",
    "                             'bioactivity_multiclass'])\n",
    "y = df['bioactivity_multiclass']"
   ]
  },
  {
   "cell_type": "code",
   "execution_count": 52,
   "id": "determined-flower",
   "metadata": {},
   "outputs": [],
   "source": [
    "X_train, X_test, y_train, y_test = train_test_split(X, y, stratify = y)"
   ]
  },
  {
   "cell_type": "code",
   "execution_count": 53,
   "id": "lasting-disability",
   "metadata": {},
   "outputs": [],
   "source": [
    "clf = Classification()"
   ]
  },
  {
   "cell_type": "code",
   "execution_count": 54,
   "id": "incident-queen",
   "metadata": {},
   "outputs": [
    {
     "name": "stderr",
     "output_type": "stream",
     "text": [
      "100%|██████████| 29/29 [14:04<00:00, 29.14s/it]\n"
     ]
    }
   ],
   "source": [
    "models, predictions = clf.fit(X_train, X_test, y_train, y_test)"
   ]
  },
  {
   "cell_type": "code",
   "execution_count": 56,
   "id": "photographic-admission",
   "metadata": {},
   "outputs": [
    {
     "data": {
      "text/html": [
       "<div>\n",
       "<style scoped>\n",
       "    .dataframe tbody tr th:only-of-type {\n",
       "        vertical-align: middle;\n",
       "    }\n",
       "\n",
       "    .dataframe tbody tr th {\n",
       "        vertical-align: top;\n",
       "    }\n",
       "\n",
       "    .dataframe thead th {\n",
       "        text-align: right;\n",
       "    }\n",
       "</style>\n",
       "<table border=\"1\" class=\"dataframe\">\n",
       "  <thead>\n",
       "    <tr style=\"text-align: right;\">\n",
       "      <th></th>\n",
       "      <th>Accuracy</th>\n",
       "      <th>Balanced Accuracy</th>\n",
       "      <th>ROC AUC</th>\n",
       "      <th>F1 Score</th>\n",
       "      <th>Time Taken</th>\n",
       "    </tr>\n",
       "    <tr>\n",
       "      <th>Model</th>\n",
       "      <th></th>\n",
       "      <th></th>\n",
       "      <th></th>\n",
       "      <th></th>\n",
       "      <th></th>\n",
       "    </tr>\n",
       "  </thead>\n",
       "  <tbody>\n",
       "    <tr>\n",
       "      <th>ExtraTreesClassifier</th>\n",
       "      <td>0.78</td>\n",
       "      <td>0.78</td>\n",
       "      <td>None</td>\n",
       "      <td>0.78</td>\n",
       "      <td>10.97</td>\n",
       "    </tr>\n",
       "    <tr>\n",
       "      <th>RandomForestClassifier</th>\n",
       "      <td>0.78</td>\n",
       "      <td>0.78</td>\n",
       "      <td>None</td>\n",
       "      <td>0.78</td>\n",
       "      <td>9.54</td>\n",
       "    </tr>\n",
       "    <tr>\n",
       "      <th>SVC</th>\n",
       "      <td>0.78</td>\n",
       "      <td>0.78</td>\n",
       "      <td>None</td>\n",
       "      <td>0.78</td>\n",
       "      <td>134.72</td>\n",
       "    </tr>\n",
       "    <tr>\n",
       "      <th>LGBMClassifier</th>\n",
       "      <td>0.77</td>\n",
       "      <td>0.77</td>\n",
       "      <td>None</td>\n",
       "      <td>0.77</td>\n",
       "      <td>5.89</td>\n",
       "    </tr>\n",
       "    <tr>\n",
       "      <th>NuSVC</th>\n",
       "      <td>0.77</td>\n",
       "      <td>0.77</td>\n",
       "      <td>None</td>\n",
       "      <td>0.76</td>\n",
       "      <td>164.16</td>\n",
       "    </tr>\n",
       "  </tbody>\n",
       "</table>\n",
       "</div>"
      ],
      "text/plain": [
       "                        Accuracy  Balanced Accuracy ROC AUC  F1 Score  \\\n",
       "Model                                                                   \n",
       "ExtraTreesClassifier        0.78               0.78    None      0.78   \n",
       "RandomForestClassifier      0.78               0.78    None      0.78   \n",
       "SVC                         0.78               0.78    None      0.78   \n",
       "LGBMClassifier              0.77               0.77    None      0.77   \n",
       "NuSVC                       0.77               0.77    None      0.76   \n",
       "\n",
       "                        Time Taken  \n",
       "Model                               \n",
       "ExtraTreesClassifier         10.97  \n",
       "RandomForestClassifier        9.54  \n",
       "SVC                         134.72  \n",
       "LGBMClassifier                5.89  \n",
       "NuSVC                       164.16  "
      ]
     },
     "execution_count": 56,
     "metadata": {},
     "output_type": "execute_result"
    }
   ],
   "source": [
    "models[0:5] #would need to adjust the classes and create separation"
   ]
  },
  {
   "cell_type": "markdown",
   "id": "hawaiian-garlic",
   "metadata": {},
   "source": [
    "# Regression Search"
   ]
  },
  {
   "cell_type": "markdown",
   "id": "appointed-tragedy",
   "metadata": {},
   "source": [
    "Regression predicting standard value with no intermediate values"
   ]
  },
  {
   "cell_type": "code",
   "execution_count": 64,
   "id": "magnetic-realtor",
   "metadata": {},
   "outputs": [],
   "source": [
    "X = df_small.drop(columns = ['canonical_smiles','standard_value',\n",
    "                             'bioactivity_binary','bioactivity_binary_class',\n",
    "                             'bioactivity_multiclass'])\n",
    "y = df_small['standard_value']"
   ]
  },
  {
   "cell_type": "code",
   "execution_count": 66,
   "id": "statistical-lindsay",
   "metadata": {},
   "outputs": [],
   "source": [
    "X_train, X_test, y_train, y_test = train_test_split(X, y)"
   ]
  },
  {
   "cell_type": "code",
   "execution_count": 70,
   "id": "wrong-offer",
   "metadata": {},
   "outputs": [
    {
     "data": {
      "text/plain": [
       "66680455385.025826"
      ]
     },
     "execution_count": 70,
     "metadata": {},
     "output_type": "execute_result"
    }
   ],
   "source": [
    "null_y = np.full_like(y_train, y.mean())\n",
    "print(f'Null y MSE: {mean_squared_error(y_train, null_y)}'')"
   ]
  },
  {
   "cell_type": "code",
   "execution_count": 71,
   "id": "commercial-sailing",
   "metadata": {},
   "outputs": [],
   "source": [
    "rgr = Regression()"
   ]
  },
  {
   "cell_type": "code",
   "execution_count": 72,
   "id": "convertible-illinois",
   "metadata": {},
   "outputs": [
    {
     "name": "stderr",
     "output_type": "stream",
     "text": [
      "100%|██████████| 42/42 [18:23<00:00, 26.27s/it]\n"
     ]
    }
   ],
   "source": [
    "models, predictions = rgr.fit(X_train, X_test, y_train, y_test)"
   ]
  },
  {
   "cell_type": "code",
   "execution_count": 24,
   "id": "homeless-brief",
   "metadata": {},
   "outputs": [
    {
     "data": {
      "text/html": [
       "<div>\n",
       "<style scoped>\n",
       "    .dataframe tbody tr th:only-of-type {\n",
       "        vertical-align: middle;\n",
       "    }\n",
       "\n",
       "    .dataframe tbody tr th {\n",
       "        vertical-align: top;\n",
       "    }\n",
       "\n",
       "    .dataframe thead th {\n",
       "        text-align: right;\n",
       "    }\n",
       "</style>\n",
       "<table border=\"1\" class=\"dataframe\">\n",
       "  <thead>\n",
       "    <tr style=\"text-align: right;\">\n",
       "      <th></th>\n",
       "      <th>Adjusted R-Squared</th>\n",
       "      <th>R-Squared</th>\n",
       "      <th>RMSE</th>\n",
       "      <th>Time Taken</th>\n",
       "    </tr>\n",
       "    <tr>\n",
       "      <th>Model</th>\n",
       "      <th></th>\n",
       "      <th></th>\n",
       "      <th></th>\n",
       "      <th></th>\n",
       "    </tr>\n",
       "  </thead>\n",
       "  <tbody>\n",
       "    <tr>\n",
       "      <th>ExtraTreeRegressor</th>\n",
       "      <td>-1.32</td>\n",
       "      <td>0.77</td>\n",
       "      <td>110406.47</td>\n",
       "      <td>3.83</td>\n",
       "    </tr>\n",
       "    <tr>\n",
       "      <th>KNeighborsRegressor</th>\n",
       "      <td>-1.84</td>\n",
       "      <td>0.71</td>\n",
       "      <td>122219.33</td>\n",
       "      <td>45.31</td>\n",
       "    </tr>\n",
       "    <tr>\n",
       "      <th>LGBMRegressor</th>\n",
       "      <td>-1.95</td>\n",
       "      <td>0.70</td>\n",
       "      <td>124479.78</td>\n",
       "      <td>2.81</td>\n",
       "    </tr>\n",
       "    <tr>\n",
       "      <th>GradientBoostingRegressor</th>\n",
       "      <td>-1.98</td>\n",
       "      <td>0.70</td>\n",
       "      <td>125171.52</td>\n",
       "      <td>19.73</td>\n",
       "    </tr>\n",
       "    <tr>\n",
       "      <th>HistGradientBoostingRegressor</th>\n",
       "      <td>-2.00</td>\n",
       "      <td>0.70</td>\n",
       "      <td>125603.53</td>\n",
       "      <td>35.54</td>\n",
       "    </tr>\n",
       "    <tr>\n",
       "      <th>ExtraTreesRegressor</th>\n",
       "      <td>-2.36</td>\n",
       "      <td>0.66</td>\n",
       "      <td>132944.09</td>\n",
       "      <td>328.55</td>\n",
       "    </tr>\n",
       "    <tr>\n",
       "      <th>RandomForestRegressor</th>\n",
       "      <td>-2.44</td>\n",
       "      <td>0.65</td>\n",
       "      <td>134402.08</td>\n",
       "      <td>256.70</td>\n",
       "    </tr>\n",
       "    <tr>\n",
       "      <th>LassoCV</th>\n",
       "      <td>-2.76</td>\n",
       "      <td>0.62</td>\n",
       "      <td>140567.89</td>\n",
       "      <td>284.87</td>\n",
       "    </tr>\n",
       "  </tbody>\n",
       "</table>\n",
       "</div>"
      ],
      "text/plain": [
       "                               Adjusted R-Squared  R-Squared      RMSE  \\\n",
       "Model                                                                    \n",
       "ExtraTreeRegressor                          -1.32       0.77 110406.47   \n",
       "KNeighborsRegressor                         -1.84       0.71 122219.33   \n",
       "LGBMRegressor                               -1.95       0.70 124479.78   \n",
       "GradientBoostingRegressor                   -1.98       0.70 125171.52   \n",
       "HistGradientBoostingRegressor               -2.00       0.70 125603.53   \n",
       "ExtraTreesRegressor                         -2.36       0.66 132944.09   \n",
       "RandomForestRegressor                       -2.44       0.65 134402.08   \n",
       "LassoCV                                     -2.76       0.62 140567.89   \n",
       "\n",
       "                               Time Taken  \n",
       "Model                                      \n",
       "ExtraTreeRegressor                   3.83  \n",
       "KNeighborsRegressor                 45.31  \n",
       "LGBMRegressor                        2.81  \n",
       "GradientBoostingRegressor           19.73  \n",
       "HistGradientBoostingRegressor       35.54  \n",
       "ExtraTreesRegressor                328.55  \n",
       "RandomForestRegressor              256.70  \n",
       "LassoCV                            284.87  "
      ]
     },
     "execution_count": 24,
     "metadata": {},
     "output_type": "execute_result"
    }
   ],
   "source": [
    "models[0:8]"
   ]
  },
  {
   "cell_type": "markdown",
   "id": "pointed-vietnamese",
   "metadata": {},
   "source": [
    "Regression search predicting standard value with all values"
   ]
  },
  {
   "cell_type": "code",
   "execution_count": 29,
   "id": "prime-booth",
   "metadata": {},
   "outputs": [],
   "source": [
    "X = df.drop(columns = ['canonical_smiles','standard_value',\n",
    "                             'bioactivity_binary','bioactivity_binary_class',\n",
    "                             'bioactivity_multiclass'])\n",
    "y = df['standard_value']"
   ]
  },
  {
   "cell_type": "code",
   "execution_count": 30,
   "id": "criminal-european",
   "metadata": {},
   "outputs": [],
   "source": [
    "X_train, X_test, y_train, y_test = train_test_split(X, y)"
   ]
  },
  {
   "cell_type": "code",
   "execution_count": 31,
   "id": "acquired-finder",
   "metadata": {},
   "outputs": [
    {
     "name": "stdout",
     "output_type": "stream",
     "text": [
      "Null y MSE: 79338994929.76335\n"
     ]
    }
   ],
   "source": [
    "null_y = np.full_like(y_train, y.mean())\n",
    "print(f'Null y MSE: {mean_squared_error(y_train, null_y)}')"
   ]
  },
  {
   "cell_type": "code",
   "execution_count": 32,
   "id": "early-cream",
   "metadata": {},
   "outputs": [],
   "source": [
    "rgr = Regression()"
   ]
  },
  {
   "cell_type": "code",
   "execution_count": 33,
   "id": "genetic-representation",
   "metadata": {},
   "outputs": [
    {
     "name": "stderr",
     "output_type": "stream",
     "text": [
      "100%|██████████| 42/42 [15:50<00:00, 22.64s/it]\n"
     ]
    }
   ],
   "source": [
    "models, predictions = rgr.fit(X_train, X_test, y_train, y_test)"
   ]
  },
  {
   "cell_type": "code",
   "execution_count": 36,
   "id": "hispanic-glory",
   "metadata": {},
   "outputs": [
    {
     "data": {
      "text/plain": [
       "40"
      ]
     },
     "execution_count": 36,
     "metadata": {},
     "output_type": "execute_result"
    }
   ],
   "source": [
    "len(models)"
   ]
  },
  {
   "cell_type": "code",
   "execution_count": 34,
   "id": "shaped-surrey",
   "metadata": {},
   "outputs": [
    {
     "data": {
      "text/html": [
       "<div>\n",
       "<style scoped>\n",
       "    .dataframe tbody tr th:only-of-type {\n",
       "        vertical-align: middle;\n",
       "    }\n",
       "\n",
       "    .dataframe tbody tr th {\n",
       "        vertical-align: top;\n",
       "    }\n",
       "\n",
       "    .dataframe thead th {\n",
       "        text-align: right;\n",
       "    }\n",
       "</style>\n",
       "<table border=\"1\" class=\"dataframe\">\n",
       "  <thead>\n",
       "    <tr style=\"text-align: right;\">\n",
       "      <th></th>\n",
       "      <th>Adjusted R-Squared</th>\n",
       "      <th>R-Squared</th>\n",
       "      <th>RMSE</th>\n",
       "      <th>Time Taken</th>\n",
       "    </tr>\n",
       "    <tr>\n",
       "      <th>Model</th>\n",
       "      <th></th>\n",
       "      <th></th>\n",
       "      <th></th>\n",
       "      <th></th>\n",
       "    </tr>\n",
       "  </thead>\n",
       "  <tbody>\n",
       "    <tr>\n",
       "      <th>HistGradientBoostingRegressor</th>\n",
       "      <td>1.21</td>\n",
       "      <td>0.80</td>\n",
       "      <td>126459.44</td>\n",
       "      <td>27.45</td>\n",
       "    </tr>\n",
       "    <tr>\n",
       "      <th>LGBMRegressor</th>\n",
       "      <td>1.21</td>\n",
       "      <td>0.79</td>\n",
       "      <td>127250.96</td>\n",
       "      <td>1.11</td>\n",
       "    </tr>\n",
       "    <tr>\n",
       "      <th>RandomForestRegressor</th>\n",
       "      <td>1.21</td>\n",
       "      <td>0.79</td>\n",
       "      <td>127324.58</td>\n",
       "      <td>107.45</td>\n",
       "    </tr>\n",
       "    <tr>\n",
       "      <th>BaggingRegressor</th>\n",
       "      <td>1.22</td>\n",
       "      <td>0.79</td>\n",
       "      <td>129528.08</td>\n",
       "      <td>11.43</td>\n",
       "    </tr>\n",
       "    <tr>\n",
       "      <th>AdaBoostRegressor</th>\n",
       "      <td>1.23</td>\n",
       "      <td>0.78</td>\n",
       "      <td>132420.18</td>\n",
       "      <td>13.12</td>\n",
       "    </tr>\n",
       "    <tr>\n",
       "      <th>KNeighborsRegressor</th>\n",
       "      <td>1.24</td>\n",
       "      <td>0.76</td>\n",
       "      <td>136648.91</td>\n",
       "      <td>10.93</td>\n",
       "    </tr>\n",
       "    <tr>\n",
       "      <th>ExtraTreesRegressor</th>\n",
       "      <td>1.24</td>\n",
       "      <td>0.76</td>\n",
       "      <td>137577.45</td>\n",
       "      <td>133.04</td>\n",
       "    </tr>\n",
       "    <tr>\n",
       "      <th>GradientBoostingRegressor</th>\n",
       "      <td>1.27</td>\n",
       "      <td>0.74</td>\n",
       "      <td>143829.16</td>\n",
       "      <td>8.40</td>\n",
       "    </tr>\n",
       "    <tr>\n",
       "      <th>LassoLars</th>\n",
       "      <td>1.34</td>\n",
       "      <td>0.67</td>\n",
       "      <td>161266.37</td>\n",
       "      <td>1.83</td>\n",
       "    </tr>\n",
       "    <tr>\n",
       "      <th>LassoLarsCV</th>\n",
       "      <td>1.34</td>\n",
       "      <td>0.67</td>\n",
       "      <td>161393.74</td>\n",
       "      <td>10.50</td>\n",
       "    </tr>\n",
       "    <tr>\n",
       "      <th>LassoCV</th>\n",
       "      <td>1.34</td>\n",
       "      <td>0.67</td>\n",
       "      <td>161746.41</td>\n",
       "      <td>209.69</td>\n",
       "    </tr>\n",
       "    <tr>\n",
       "      <th>XGBRegressor</th>\n",
       "      <td>1.34</td>\n",
       "      <td>0.66</td>\n",
       "      <td>162586.70</td>\n",
       "      <td>5.05</td>\n",
       "    </tr>\n",
       "    <tr>\n",
       "      <th>ElasticNet</th>\n",
       "      <td>1.36</td>\n",
       "      <td>0.65</td>\n",
       "      <td>165969.69</td>\n",
       "      <td>7.38</td>\n",
       "    </tr>\n",
       "    <tr>\n",
       "      <th>BayesianRidge</th>\n",
       "      <td>1.36</td>\n",
       "      <td>0.64</td>\n",
       "      <td>167494.32</td>\n",
       "      <td>10.35</td>\n",
       "    </tr>\n",
       "    <tr>\n",
       "      <th>LarsCV</th>\n",
       "      <td>1.37</td>\n",
       "      <td>0.64</td>\n",
       "      <td>169146.40</td>\n",
       "      <td>8.54</td>\n",
       "    </tr>\n",
       "  </tbody>\n",
       "</table>\n",
       "</div>"
      ],
      "text/plain": [
       "                               Adjusted R-Squared  R-Squared      RMSE  \\\n",
       "Model                                                                    \n",
       "HistGradientBoostingRegressor                1.21       0.80 126459.44   \n",
       "LGBMRegressor                                1.21       0.79 127250.96   \n",
       "RandomForestRegressor                        1.21       0.79 127324.58   \n",
       "BaggingRegressor                             1.22       0.79 129528.08   \n",
       "AdaBoostRegressor                            1.23       0.78 132420.18   \n",
       "KNeighborsRegressor                          1.24       0.76 136648.91   \n",
       "ExtraTreesRegressor                          1.24       0.76 137577.45   \n",
       "GradientBoostingRegressor                    1.27       0.74 143829.16   \n",
       "LassoLars                                    1.34       0.67 161266.37   \n",
       "LassoLarsCV                                  1.34       0.67 161393.74   \n",
       "LassoCV                                      1.34       0.67 161746.41   \n",
       "XGBRegressor                                 1.34       0.66 162586.70   \n",
       "ElasticNet                                   1.36       0.65 165969.69   \n",
       "BayesianRidge                                1.36       0.64 167494.32   \n",
       "LarsCV                                       1.37       0.64 169146.40   \n",
       "\n",
       "                               Time Taken  \n",
       "Model                                      \n",
       "HistGradientBoostingRegressor       27.45  \n",
       "LGBMRegressor                        1.11  \n",
       "RandomForestRegressor              107.45  \n",
       "BaggingRegressor                    11.43  \n",
       "AdaBoostRegressor                   13.12  \n",
       "KNeighborsRegressor                 10.93  \n",
       "ExtraTreesRegressor                133.04  \n",
       "GradientBoostingRegressor            8.40  \n",
       "LassoLars                            1.83  \n",
       "LassoLarsCV                         10.50  \n",
       "LassoCV                            209.69  \n",
       "XGBRegressor                         5.05  \n",
       "ElasticNet                           7.38  \n",
       "BayesianRidge                       10.35  \n",
       "LarsCV                               8.54  "
      ]
     },
     "execution_count": 34,
     "metadata": {},
     "output_type": "execute_result"
    }
   ],
   "source": [
    "models.sort_values('R-Squared', ascending = False)[0:15]"
   ]
  },
  {
   "cell_type": "code",
   "execution_count": 41,
   "id": "inclusive-european",
   "metadata": {},
   "outputs": [
    {
     "data": {
      "image/png": "[encoded data removed]",
      "text/plain": [
       "<Figure size 1368x432 with 1 Axes>"
      ]
     },
     "metadata": {
      "needs_background": "light"
     },
     "output_type": "display_data"
    }
   ],
   "source": [
    "plt.figure(figsize=(19,6))\n",
    "sns.barplot(x = models[30:40].index, y = models[30:40]['R-Squared']);\n",
    "plt.tight_layout()"
   ]
  },
  {
   "cell_type": "markdown",
   "id": "incredible-federal",
   "metadata": {},
   "source": [
    "Regression predicting standard value with all values for comparison to search"
   ]
  },
  {
   "cell_type": "code",
   "execution_count": 91,
   "id": "civilian-aging",
   "metadata": {},
   "outputs": [],
   "source": [
    "X = df.drop(columns = ['canonical_smiles','standard_value',\n",
    "                             'bioactivity_binary','bioactivity_binary_class',\n",
    "                             'bioactivity_multiclass'])\n",
    "y = df['standard_value']"
   ]
  },
  {
   "cell_type": "code",
   "execution_count": 92,
   "id": "swiss-soundtrack",
   "metadata": {},
   "outputs": [],
   "source": [
    "X_train, X_test, y_train, y_test = train_test_split(X, y)"
   ]
  },
  {
   "cell_type": "code",
   "execution_count": 93,
   "id": "filled-renaissance",
   "metadata": {},
   "outputs": [
    {
     "name": "stdout",
     "output_type": "stream",
     "text": [
      "Null y MSE: 41189386156.6015\n"
     ]
    }
   ],
   "source": [
    "null_y = np.full_like(y_train, y.mean())\n",
    "print(f'Null y MSE: {mean_squared_error(y_train, null_y)}')"
   ]
  },
  {
   "cell_type": "code",
   "execution_count": 94,
   "id": "leading-investor",
   "metadata": {},
   "outputs": [],
   "source": [
    "rfr = RandomForestRegressor()"
   ]
  },
  {
   "cell_type": "code",
   "execution_count": 95,
   "id": "enormous-serbia",
   "metadata": {},
   "outputs": [
    {
     "data": {
      "text/plain": [
       "RandomForestRegressor()"
      ]
     },
     "execution_count": 95,
     "metadata": {},
     "output_type": "execute_result"
    }
   ],
   "source": [
    "rfr.fit(X_train, y_train)"
   ]
  },
  {
   "cell_type": "code",
   "execution_count": 96,
   "id": "injured-winning",
   "metadata": {},
   "outputs": [],
   "source": [
    "y_pred = rfr.predict(X_test)"
   ]
  },
  {
   "cell_type": "code",
   "execution_count": 43,
   "id": "proved-possession",
   "metadata": {},
   "outputs": [],
   "source": [
    "def regression_eval(y_test, y_pred):\n",
    "    print(f'MSE = {np.round(mean_squared_error(y_test, y_pred), 3)}')\n",
    "    print(f'RMSE = {np.round(mean_squared_error(y_test, y_pred, squared = False), 3)}')\n",
    "    print(f'MAE = {np.round(mean_absolute_error(y_test, y_pred), 3)}')\n",
    "    print(f'r^2  = {np.round(r2_score(y_test, y_pred), 3)}')"
   ]
  },
  {
   "cell_type": "code",
   "execution_count": 98,
   "id": "tight-divorce",
   "metadata": {},
   "outputs": [
    {
     "name": "stdout",
     "output_type": "stream",
     "text": [
      "MSE = 10723083509.396\n",
      "RMSE = 103552.323\n",
      "MAE = 22066.858\n",
      "r^2  = 0.812\n"
     ]
    }
   ],
   "source": [
    "regression_eval(y_test, y_pred)"
   ]
  },
  {
   "cell_type": "markdown",
   "id": "statutory-greek",
   "metadata": {},
   "source": [
    "Standardizing target with log value of y"
   ]
  },
  {
   "cell_type": "code",
   "execution_count": 199,
   "id": "expensive-mapping",
   "metadata": {},
   "outputs": [],
   "source": [
    "X = df.drop(columns = ['canonical_smiles','standard_value',\n",
    "                             'bioactivity_binary','bioactivity_binary_class',\n",
    "                             'bioactivity_multiclass'])\n",
    "y = df['standard_value']"
   ]
  },
  {
   "cell_type": "code",
   "execution_count": 200,
   "id": "extensive-captain",
   "metadata": {},
   "outputs": [],
   "source": [
    "y_std = y.map(lambda x: -np.log10(x * (10**-9)))"
   ]
  },
  {
   "cell_type": "code",
   "execution_count": 201,
   "id": "exceptional-kingdom",
   "metadata": {},
   "outputs": [
    {
     "data": {
      "image/png": "[encoded data removed]",
      "text/plain": [
       "<Figure size 1008x360 with 2 Axes>"
      ]
     },
     "metadata": {},
     "output_type": "display_data"
    }
   ],
   "source": [
    "sns.set(style = 'darkgrid', context = 'notebook')\n",
    "fig, ax = plt.subplots(1, 2, figsize = (14,5))\n",
    "sns.distplot(df.standard_value, ax = ax[0]).set_title('Original distribution'); \n",
    "sns.distplot(y_std, ax = ax[1]).set_title('Scaled distribution');"
   ]
  },
  {
   "cell_type": "code",
   "execution_count": 202,
   "id": "continuing-throw",
   "metadata": {},
   "outputs": [],
   "source": [
    "X_train, X_test, y_train, y_test = train_test_split(X, y_std)"
   ]
  },
  {
   "cell_type": "code",
   "execution_count": 203,
   "id": "proper-communication",
   "metadata": {},
   "outputs": [
    {
     "name": "stdout",
     "output_type": "stream",
     "text": [
      "Null y MSE: 3.0825849129775054\n"
     ]
    }
   ],
   "source": [
    "null_y = np.full_like(y_train, y_std.mean())\n",
    "print(f'Null y MSE: {mean_squared_error(y_train, null_y)}')"
   ]
  },
  {
   "cell_type": "code",
   "execution_count": 204,
   "id": "effective-jenny",
   "metadata": {},
   "outputs": [],
   "source": [
    "rfr = RandomForestRegressor()"
   ]
  },
  {
   "cell_type": "code",
   "execution_count": 205,
   "id": "unique-baseball",
   "metadata": {},
   "outputs": [
    {
     "data": {
      "text/plain": [
       "RandomForestRegressor()"
      ]
     },
     "execution_count": 205,
     "metadata": {},
     "output_type": "execute_result"
    }
   ],
   "source": [
    "rfr.fit(X_train, y_train)"
   ]
  },
  {
   "cell_type": "code",
   "execution_count": 206,
   "id": "civic-government",
   "metadata": {},
   "outputs": [],
   "source": [
    "y_pred = rfr.predict(X_test)"
   ]
  },
  {
   "cell_type": "code",
   "execution_count": 207,
   "id": "welcome-blackjack",
   "metadata": {},
   "outputs": [
    {
     "name": "stdout",
     "output_type": "stream",
     "text": [
      "MSE = 0.884\n",
      "RMSE = 0.94\n",
      "MAE = 0.65\n",
      "r^2  = 0.715\n"
     ]
    }
   ],
   "source": [
    "regression_eval(y_test, y_pred)"
   ]
  },
  {
   "cell_type": "markdown",
   "id": "electoral-usage",
   "metadata": {},
   "source": [
    "Regression with all values and variance threshold"
   ]
  },
  {
   "cell_type": "code",
   "execution_count": null,
   "id": "former-source",
   "metadata": {},
   "outputs": [],
   "source": [
    "#faster and slightly better results, but not sure if it will work with feature extraction"
   ]
  },
  {
   "cell_type": "code",
   "execution_count": 178,
   "id": "visible-navigator",
   "metadata": {},
   "outputs": [],
   "source": [
    "X = df.drop(columns = ['canonical_smiles','standard_value',\n",
    "                             'bioactivity_binary','bioactivity_binary_class',\n",
    "                             'bioactivity_multiclass'])\n",
    "y = df['standard_value']"
   ]
  },
  {
   "cell_type": "code",
   "execution_count": 169,
   "id": "bottom-liberal",
   "metadata": {},
   "outputs": [
    {
     "data": {
      "text/plain": [
       "(9128, 39)"
      ]
     },
     "execution_count": 169,
     "metadata": {},
     "output_type": "execute_result"
    }
   ],
   "source": [
    "selection = VarianceThreshold(threshold=(.8 * (1 - .8)))    \n",
    "X = selection.fit_transform(X)\n",
    "X.shape"
   ]
  },
  {
   "cell_type": "code",
   "execution_count": 179,
   "id": "previous-occupation",
   "metadata": {},
   "outputs": [],
   "source": [
    "X_train, X_test, y_train, y_test = train_test_split(X, y)"
   ]
  },
  {
   "cell_type": "code",
   "execution_count": 180,
   "id": "coordinated-naples",
   "metadata": {},
   "outputs": [
    {
     "name": "stdout",
     "output_type": "stream",
     "text": [
      "Null y MSE: 45136956530.517525\n"
     ]
    }
   ],
   "source": [
    "null_y = np.full_like(y_train, y.mean())\n",
    "print(f'Null y MSE: {mean_squared_error(y_train, null_y)}')"
   ]
  },
  {
   "cell_type": "code",
   "execution_count": 181,
   "id": "incomplete-locator",
   "metadata": {},
   "outputs": [],
   "source": [
    "rfr = RandomForestRegressor()"
   ]
  },
  {
   "cell_type": "code",
   "execution_count": 182,
   "id": "adaptive-breath",
   "metadata": {},
   "outputs": [
    {
     "data": {
      "text/plain": [
       "RandomForestRegressor()"
      ]
     },
     "execution_count": 182,
     "metadata": {},
     "output_type": "execute_result"
    }
   ],
   "source": [
    "rfr.fit(X_train, y_train)"
   ]
  },
  {
   "cell_type": "code",
   "execution_count": 183,
   "id": "organizational-lesson",
   "metadata": {},
   "outputs": [],
   "source": [
    "y_pred = rfr.predict(X_test)"
   ]
  },
  {
   "cell_type": "code",
   "execution_count": 184,
   "id": "phantom-appliance",
   "metadata": {},
   "outputs": [],
   "source": [
    "def regression_eval(y_test, y_pred):\n",
    "    print(f'MSE = {np.round(mean_squared_error(y_test, y_pred), 3)}')\n",
    "    print(f'RMSE = {np.round(mean_squared_error(y_test, y_pred, squared = False), 3)}')\n",
    "    print(f'MAE = {np.round(mean_absolute_error(y_test, y_pred), 3)}')\n",
    "    print(f'r^2  = {np.round(r2_score(y_test, y_pred), 3)}')"
   ]
  },
  {
   "cell_type": "code",
   "execution_count": 185,
   "id": "absent-roberts",
   "metadata": {},
   "outputs": [
    {
     "name": "stdout",
     "output_type": "stream",
     "text": [
      "MSE = 10646541543.079\n",
      "RMSE = 103182.08\n",
      "MAE = 22282.526\n",
      "r^2  = 0.765\n"
     ]
    }
   ],
   "source": [
    "regression_eval(y_test, y_pred)"
   ]
  }
 ],
 "metadata": {
  "kernelspec": {
   "display_name": "Python 3",
   "language": "python",
   "name": "python3"
  },
  "language_info": {
   "codemirror_mode": {
    "name": "ipython",
    "version": 3
   },
   "file_extension": ".py",
   "mimetype": "text/x-python",
   "name": "python",
   "nbconvert_exporter": "python",
   "pygments_lexer": "ipython3",
   "version": "3.8.2"
  }
 },
 "nbformat": 4,
 "nbformat_minor": 5
}
