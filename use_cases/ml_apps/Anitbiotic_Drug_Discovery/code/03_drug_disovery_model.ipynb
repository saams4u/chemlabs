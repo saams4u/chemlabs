{
 "cells": [
  {
   "cell_type": "markdown",
   "id": "appointed-zoning",
   "metadata": {},
   "source": [
    "#### Antibiotic Drug Discovery\n",
    "#### Corey J Sinnott\n",
    "# Drug Discovery Modeling\n",
    "\n",
    "## Executive Summary\n",
    "\n",
    "This report was commissioned to determine a robust, fast, and reproducible means of searching for, and developing, new antibiotics, in an effort to combat antibiotic resistance. After in-depth analysis, conclusions and recommendations will be presented.\n",
    "   \n",
    "Data was obtained from the following source:\n",
    "- Comprehensive Antibiotic Resistance Database via CARD CLI interface: \n",
    " - https://card.mcmaster.ca\n",
    "- ChEMBL via Python client library: \n",
    " - https://www.ebi.ac.uk/chembl/ \n",
    "\n",
    "**Full Executive Summary, Conclusion, Recommendations, Data Dictionary and Sources can be found in README.**\n",
    "\n",
    "## Contents:\n",
    "- [Data Import & Cleaning](#Data-Import-&-Cleaning)\n",
    "- [Hyperparameter Searching](#Hyperparameter-Searching)\n",
    "- [Final Models](#Final-Models)"
   ]
  },
  {
   "cell_type": "markdown",
   "id": "rubber-promise",
   "metadata": {},
   "source": [
    "#### Importing Libraries"
   ]
  },
  {
   "cell_type": "code",
   "execution_count": 3,
   "id": "martial-engineering",
   "metadata": {},
   "outputs": [],
   "source": [
    "import matplotlib.pyplot as plt\n",
    "import seaborn as sns\n",
    "import pandas as pd\n",
    "import numpy as np\n",
    "from sklearn.pipeline import make_pipeline\n",
    "from sklearn.compose import make_column_transformer, make_column_selector\n",
    "import warnings\n",
    "warnings.filterwarnings(\"ignore\")\n",
    "from sklearn.preprocessing import StandardScaler\n",
    "from sklearn.ensemble import RandomForestClassifier, RandomForestRegressor\n",
    "from sklearn.linear_model import LinearRegression\n",
    "from sklearn.model_selection import GridSearchCV, train_test_split\n",
    "from sklearn.metrics import confusion_matrix, accuracy_score, balanced_accuracy_score,\\\n",
    "                            precision_score, recall_score, roc_auc_score,\\\n",
    "                            mean_squared_error, mean_absolute_error, r2_score,\\\n",
    "                            plot_confusion_matrix, classification_report, \\\n",
    "                            plot_roc_curve, f1_score\n",
    "from sklearn.feature_selection import VarianceThreshold\n",
    "from sklearn import set_config\n",
    "from tqdm.notebook import tqdm"
   ]
  },
  {
   "cell_type": "markdown",
   "id": "colonial-approval",
   "metadata": {},
   "source": [
    "#### Data Import and Preparation"
   ]
  },
  {
   "cell_type": "code",
   "execution_count": 88,
   "id": "asian-longer",
   "metadata": {},
   "outputs": [],
   "source": [
    "df = pd.read_csv('./data/acinetobacter_baumannii_MIC_addFeats_addBits.csv').drop(columns = 'Unnamed: 0')"
   ]
  },
  {
   "cell_type": "code",
   "execution_count": 5,
   "id": "extensive-calculation",
   "metadata": {},
   "outputs": [
    {
     "data": {
      "text/html": [
       "<div>\n",
       "<style scoped>\n",
       "    .dataframe tbody tr th:only-of-type {\n",
       "        vertical-align: middle;\n",
       "    }\n",
       "\n",
       "    .dataframe tbody tr th {\n",
       "        vertical-align: top;\n",
       "    }\n",
       "\n",
       "    .dataframe thead th {\n",
       "        text-align: right;\n",
       "    }\n",
       "</style>\n",
       "<table border=\"1\" class=\"dataframe\">\n",
       "  <thead>\n",
       "    <tr style=\"text-align: right;\">\n",
       "      <th></th>\n",
       "      <th>canonical_smiles</th>\n",
       "      <th>standard_value</th>\n",
       "      <th>bioactivity_binary</th>\n",
       "      <th>bioactivity_binary_class</th>\n",
       "      <th>bioactivity_multiclass</th>\n",
       "      <th>mol_wt</th>\n",
       "      <th>log_p</th>\n",
       "      <th>proton_donors</th>\n",
       "      <th>proton_acceptors</th>\n",
       "      <th>Bit_0</th>\n",
       "      <th>...</th>\n",
       "      <th>Bit_2038</th>\n",
       "      <th>Bit_2039</th>\n",
       "      <th>Bit_2040</th>\n",
       "      <th>Bit_2041</th>\n",
       "      <th>Bit_2042</th>\n",
       "      <th>Bit_2043</th>\n",
       "      <th>Bit_2044</th>\n",
       "      <th>Bit_2045</th>\n",
       "      <th>Bit_2046</th>\n",
       "      <th>Bit_2047</th>\n",
       "    </tr>\n",
       "  </thead>\n",
       "  <tbody>\n",
       "    <tr>\n",
       "      <th>7442</th>\n",
       "      <td>Cc1c(CNC2CCCCC2)cc(-c2ccc(C(C)C)cc2)n1-c1ccc(C...</td>\n",
       "      <td>128.00</td>\n",
       "      <td>inactive</td>\n",
       "      <td>0</td>\n",
       "      <td>intermediate</td>\n",
       "      <td>421.03</td>\n",
       "      <td>7.65</td>\n",
       "      <td>1.00</td>\n",
       "      <td>2.00</td>\n",
       "      <td>0</td>\n",
       "      <td>...</td>\n",
       "      <td>0</td>\n",
       "      <td>0</td>\n",
       "      <td>0</td>\n",
       "      <td>0</td>\n",
       "      <td>0</td>\n",
       "      <td>0</td>\n",
       "      <td>0</td>\n",
       "      <td>0</td>\n",
       "      <td>0</td>\n",
       "      <td>0</td>\n",
       "    </tr>\n",
       "    <tr>\n",
       "      <th>3967</th>\n",
       "      <td>CC(C)(O/N=C(\\C(=O)N[C@@H]1C(=O)N(S(=O)(=O)O)[C...</td>\n",
       "      <td>16.00</td>\n",
       "      <td>active</td>\n",
       "      <td>1</td>\n",
       "      <td>active</td>\n",
       "      <td>586.56</td>\n",
       "      <td>-1.35</td>\n",
       "      <td>7.00</td>\n",
       "      <td>13.00</td>\n",
       "      <td>1</td>\n",
       "      <td>...</td>\n",
       "      <td>0</td>\n",
       "      <td>0</td>\n",
       "      <td>0</td>\n",
       "      <td>0</td>\n",
       "      <td>0</td>\n",
       "      <td>0</td>\n",
       "      <td>0</td>\n",
       "      <td>0</td>\n",
       "      <td>0</td>\n",
       "      <td>0</td>\n",
       "    </tr>\n",
       "    <tr>\n",
       "      <th>7666</th>\n",
       "      <td>CO[C@H]1/C=C/O[C@@]2(C)Oc3c(C)c(O)c4c(O)c(c(/C...</td>\n",
       "      <td>0.03</td>\n",
       "      <td>active</td>\n",
       "      <td>1</td>\n",
       "      <td>active</td>\n",
       "      <td>822.95</td>\n",
       "      <td>4.34</td>\n",
       "      <td>6.00</td>\n",
       "      <td>15.00</td>\n",
       "      <td>0</td>\n",
       "      <td>...</td>\n",
       "      <td>0</td>\n",
       "      <td>0</td>\n",
       "      <td>0</td>\n",
       "      <td>0</td>\n",
       "      <td>0</td>\n",
       "      <td>0</td>\n",
       "      <td>0</td>\n",
       "      <td>1</td>\n",
       "      <td>0</td>\n",
       "      <td>0</td>\n",
       "    </tr>\n",
       "  </tbody>\n",
       "</table>\n",
       "<p>3 rows × 2057 columns</p>\n",
       "</div>"
      ],
      "text/plain": [
       "                                       canonical_smiles  standard_value  \\\n",
       "7442  Cc1c(CNC2CCCCC2)cc(-c2ccc(C(C)C)cc2)n1-c1ccc(C...          128.00   \n",
       "3967  CC(C)(O/N=C(\\C(=O)N[C@@H]1C(=O)N(S(=O)(=O)O)[C...           16.00   \n",
       "7666  CO[C@H]1/C=C/O[C@@]2(C)Oc3c(C)c(O)c4c(O)c(c(/C...            0.03   \n",
       "\n",
       "     bioactivity_binary  bioactivity_binary_class bioactivity_multiclass  \\\n",
       "7442           inactive                         0           intermediate   \n",
       "3967             active                         1                 active   \n",
       "7666             active                         1                 active   \n",
       "\n",
       "      mol_wt  log_p  proton_donors  proton_acceptors  Bit_0  ...  Bit_2038  \\\n",
       "7442  421.03   7.65           1.00              2.00      0  ...         0   \n",
       "3967  586.56  -1.35           7.00             13.00      1  ...         0   \n",
       "7666  822.95   4.34           6.00             15.00      0  ...         0   \n",
       "\n",
       "      Bit_2039  Bit_2040  Bit_2041  Bit_2042  Bit_2043  Bit_2044  Bit_2045  \\\n",
       "7442         0         0         0         0         0         0         0   \n",
       "3967         0         0         0         0         0         0         0   \n",
       "7666         0         0         0         0         0         0         1   \n",
       "\n",
       "      Bit_2046  Bit_2047  \n",
       "7442         0         0  \n",
       "3967         0         0  \n",
       "7666         0         0  \n",
       "\n",
       "[3 rows x 2057 columns]"
      ]
     },
     "execution_count": 5,
     "metadata": {},
     "output_type": "execute_result"
    }
   ],
   "source": [
    "df.sample(3)"
   ]
  },
  {
   "cell_type": "markdown",
   "id": "informed-nation",
   "metadata": {},
   "source": [
    "Creating a scaled target"
   ]
  },
  {
   "cell_type": "code",
   "execution_count": 90,
   "id": "apparent-protest",
   "metadata": {},
   "outputs": [],
   "source": [
    "df['pMIC'] = df['standard_value'].map(lambda x: -np.log10(x * (10**-9)))"
   ]
  },
  {
   "cell_type": "code",
   "execution_count": 7,
   "id": "finnish-product",
   "metadata": {},
   "outputs": [],
   "source": [
    "#first test with subset not containing intermediate efficacy\n",
    "df_bin_class = df[df.bioactivity_multiclass != 'intermediate']"
   ]
  },
  {
   "cell_type": "code",
   "execution_count": 8,
   "id": "satisfactory-batman",
   "metadata": {},
   "outputs": [
    {
     "data": {
      "text/plain": [
       "active      3633\n",
       "inactive    2564\n",
       "Name: bioactivity_multiclass, dtype: int64"
      ]
     },
     "execution_count": 8,
     "metadata": {},
     "output_type": "execute_result"
    }
   ],
   "source": [
    "df_bin_class.bioactivity_multiclass.value_counts()"
   ]
  },
  {
   "cell_type": "markdown",
   "id": "persistent-bulgarian",
   "metadata": {},
   "source": [
    "#### Scaling distribution:"
   ]
  },
  {
   "cell_type": "code",
   "execution_count": 9,
   "id": "willing-regression",
   "metadata": {},
   "outputs": [
    {
     "data": {
      "image/png": "[encoded data removed]",
      "text/plain": [
       "<Figure size 1008x360 with 2 Axes>"
      ]
     },
     "metadata": {},
     "output_type": "display_data"
    }
   ],
   "source": [
    "sns.set(style = 'darkgrid', context = 'notebook')\n",
    "fig, ax = plt.subplots(1, 2, figsize = (14,5))\n",
    "sns.distplot(df.standard_value, ax = ax[0]).set_title('Original distribution'); \n",
    "sns.distplot(df.pMIC, ax = ax[1]).set_title('Scaled distribution');"
   ]
  },
  {
   "cell_type": "markdown",
   "id": "mineral-ukraine",
   "metadata": {},
   "source": [
    "Testing progress bar function"
   ]
  },
  {
   "cell_type": "code",
   "execution_count": 2,
   "id": "sudden-eclipse",
   "metadata": {},
   "outputs": [
    {
     "data": {
      "application/vnd.jupyter.widget-view+json": {
       "model_id": "",
       "version_major": 2,
       "version_minor": 0
      },
      "text/plain": [
       "  0%|          | 0/5 [00:00<?, ?it/s]"
      ]
     },
     "metadata": {},
     "output_type": "display_data"
    }
   ],
   "source": [
    "from tqdm.notebook import tqdm_notebook\n",
    "import time\n",
    "example_iter = [1,2,3,4,5]\n",
    "for rec in tqdm_notebook(example_iter):\n",
    "    time.sleep(.1)"
   ]
  },
  {
   "cell_type": "markdown",
   "id": "deadly-sigma",
   "metadata": {},
   "source": [
    "# Hyperparameter Searching"
   ]
  },
  {
   "cell_type": "markdown",
   "id": "bored-sphere",
   "metadata": {},
   "source": [
    "## Regression"
   ]
  },
  {
   "cell_type": "markdown",
   "id": "gross-medicare",
   "metadata": {},
   "source": [
    "*Scaled distribution*"
   ]
  },
  {
   "cell_type": "code",
   "execution_count": 84,
   "id": "proper-committee",
   "metadata": {},
   "outputs": [],
   "source": [
    "def regression_eval(y, y_train, y_test, y_pred):\n",
    "    \"\"\"\n",
    "    \"\"\"\n",
    "    null_y = np.full_like(y_train, y.mean())\n",
    "        \n",
    "    print(' __________________ ')\n",
    "    print(f'|Null MSE = {np.round(mean_squared_error(y_train, null_y), 3)}  |')\n",
    "    print('|------------------|')\n",
    "    print(f'|   MSE   = {np.round(mean_squared_error(y_test, y_pred), 3)}  |')\n",
    "    print('|------------------|')\n",
    "    print(f'|   RMSE  = {np.round(mean_squared_error(y_test, y_pred, squared = False), 3)}  |')\n",
    "    print('|------------------|')\n",
    "    print(f'|   MAE   = {np.round(mean_absolute_error(y_test, y_pred), 3)}  |')\n",
    "    print('|------------------|')\n",
    "    print(f'|   r^2   = {np.round(r2_score(y_test, y_pred), 3)}  |')\n",
    "    print(' ------------------ ')"
   ]
  },
  {
   "cell_type": "code",
   "execution_count": 109,
   "id": "reflected-thumbnail",
   "metadata": {},
   "outputs": [],
   "source": [
    "X = df.drop(columns = ['canonical_smiles','standard_value',\n",
    "                             'bioactivity_binary','bioactivity_binary_class',\n",
    "                             'bioactivity_multiclass', 'pMIC'])\n",
    "y = df['pMIC']"
   ]
  },
  {
   "cell_type": "code",
   "execution_count": 110,
   "id": "aging-thing",
   "metadata": {},
   "outputs": [],
   "source": [
    "ss = StandardScaler()\n",
    "num_cols = ['mol_wt', 'log_p', 'proton_donors', 'proton_acceptors']\n",
    "X[num_cols] = ss.fit_transform(X[num_cols])"
   ]
  },
  {
   "cell_type": "code",
   "execution_count": 111,
   "id": "breathing-local",
   "metadata": {},
   "outputs": [],
   "source": [
    "X_train, X_test, y_train, y_test = train_test_split(X, y)"
   ]
  },
  {
   "cell_type": "markdown",
   "id": "chief-stomach",
   "metadata": {},
   "source": [
    "Testing progress bar function and exploring n_estimators"
   ]
  },
  {
   "cell_type": "code",
   "execution_count": 16,
   "id": "english-starter",
   "metadata": {},
   "outputs": [
    {
     "data": {
      "application/vnd.jupyter.widget-view+json": {
       "model_id": "",
       "version_major": 2,
       "version_minor": 0
      },
      "text/plain": [
       "  0%|          | 0/3 [00:00<?, ?it/s]"
      ]
     },
     "metadata": {},
     "output_type": "display_data"
    },
    {
     "name": "stdout",
     "output_type": "stream",
     "text": [
      " ______________ \n",
      "Null MSE = 3.092 |\n",
      "|--------------|\n",
      "|   MSE  = 0.886 |\n",
      "|--------------|\n",
      "|   RMSE = 0.942 |\n",
      "|--------------|\n",
      "|   MAE  = 0.657 |\n",
      "|--------------|\n",
      "|   r^2  = 0.712 |\n",
      " -------------- \n",
      " ______________ \n",
      "Null MSE = 3.092 |\n",
      "|--------------|\n",
      "|   MSE  = 0.888 |\n",
      "|--------------|\n",
      "|   RMSE = 0.942 |\n",
      "|--------------|\n",
      "|   MAE  = 0.658 |\n",
      "|--------------|\n",
      "|   r^2  = 0.711 |\n",
      " -------------- \n",
      " ______________ \n",
      "Null MSE = 3.092 |\n",
      "|--------------|\n",
      "|   MSE  = 0.887 |\n",
      "|--------------|\n",
      "|   RMSE = 0.942 |\n",
      "|--------------|\n",
      "|   MAE  = 0.657 |\n",
      "|--------------|\n",
      "|   r^2  = 0.712 |\n",
      " -------------- \n"
     ]
    }
   ],
   "source": [
    "parameter_n_estimators = [100,500,1000]\n",
    "\n",
    "for i in tqdm(parameter_n_estimators):\n",
    "  model = RandomForestRegressor(n_estimators=i)\n",
    "  model.fit(X_train, y_train)\n",
    "  y_pred = model.predict(X_test)\n",
    "  regression_eval(y, y_train, y_test, y_pred)"
   ]
  },
  {
   "cell_type": "code",
   "execution_count": 66,
   "id": "pediatric-column",
   "metadata": {},
   "outputs": [],
   "source": [
    "RFR = RandomForestRegressor()\n",
    "#ss = StandardScaler()"
   ]
  },
  {
   "cell_type": "code",
   "execution_count": 67,
   "id": "steady-cannon",
   "metadata": {},
   "outputs": [],
   "source": [
    "#pipe = make_pipeline(ss, RFR)"
   ]
  },
  {
   "cell_type": "code",
   "execution_count": 68,
   "id": "acquired-breeding",
   "metadata": {},
   "outputs": [],
   "source": [
    "RFR_params = {\n",
    "    'ccp_alpha': [0, 0.0001, 3],\n",
    "    #'randomforestregressor__oob_score': [True, False], \n",
    "    'n_estimators': [100] #increasing n_estimators did not benefit\n",
    "}"
   ]
  },
  {
   "cell_type": "code",
   "execution_count": 73,
   "id": "going-administrator",
   "metadata": {},
   "outputs": [],
   "source": [
    "grid_rfr = GridSearchCV(RFR, RFR_params, verbose = 3, n_jobs = -1)"
   ]
  },
  {
   "cell_type": "code",
   "execution_count": 74,
   "id": "catholic-nowhere",
   "metadata": {},
   "outputs": [
    {
     "name": "stdout",
     "output_type": "stream",
     "text": [
      "Fitting 5 folds for each of 3 candidates, totalling 15 fits\n"
     ]
    },
    {
     "name": "stderr",
     "output_type": "stream",
     "text": [
      "[Parallel(n_jobs=-1)]: Using backend LokyBackend with 12 concurrent workers.\n",
      "[Parallel(n_jobs=-1)]: Done   4 out of  15 | elapsed:  4.5min remaining: 12.4min\n",
      "[Parallel(n_jobs=-1)]: Done  10 out of  15 | elapsed:  4.5min remaining:  2.3min\n",
      "[Parallel(n_jobs=-1)]: Done  15 out of  15 | elapsed:  6.3min finished\n"
     ]
    },
    {
     "name": "stdout",
     "output_type": "stream",
     "text": [
      "CPU times: user 1min 53s, sys: 1.47 s, total: 1min 54s\n",
      "Wall time: 8min 13s\n"
     ]
    },
    {
     "data": {
      "text/plain": [
       "GridSearchCV(estimator=RandomForestRegressor(), n_jobs=-1,\n",
       "             param_grid={'ccp_alpha': [0, 0.0001, 3], 'n_estimators': [100]},\n",
       "             verbose=3)"
      ]
     },
     "execution_count": 74,
     "metadata": {},
     "output_type": "execute_result"
    }
   ],
   "source": [
    "%%time\n",
    "grid_rfr.fit(X_train, y_train)"
   ]
  },
  {
   "cell_type": "code",
   "execution_count": 75,
   "id": "further-french",
   "metadata": {},
   "outputs": [],
   "source": [
    "y_pred = grid_rfr.predict(X_test)"
   ]
  },
  {
   "cell_type": "code",
   "execution_count": 85,
   "id": "german-trash",
   "metadata": {},
   "outputs": [
    {
     "name": "stdout",
     "output_type": "stream",
     "text": [
      " __________________ \n",
      "|Null MSE = 3.064  |\n",
      "|------------------|\n",
      "|   MSE   = 0.892  |\n",
      "|------------------|\n",
      "|   RMSE  = 0.944  |\n",
      "|------------------|\n",
      "|   MAE   = 0.644  |\n",
      "|------------------|\n",
      "|   r^2   = 0.718  |\n",
      " ------------------ \n"
     ]
    }
   ],
   "source": [
    "regression_eval(y, y_train, y_test, y_pred)"
   ]
  },
  {
   "cell_type": "code",
   "execution_count": 77,
   "id": "fifteen-circle",
   "metadata": {},
   "outputs": [
    {
     "data": {
      "text/plain": [
       "{'ccp_alpha': 0, 'n_estimators': 100}"
      ]
     },
     "execution_count": 77,
     "metadata": {},
     "output_type": "execute_result"
    }
   ],
   "source": [
    "grid_rfr.best_params_"
   ]
  },
  {
   "cell_type": "markdown",
   "id": "formed-southeast",
   "metadata": {},
   "source": [
    "Percent improvement over null model:"
   ]
  },
  {
   "cell_type": "code",
   "execution_count": 112,
   "id": "addressed-audit",
   "metadata": {},
   "outputs": [
    {
     "name": "stdout",
     "output_type": "stream",
     "text": [
      "Percent improvement = 72.1%\n"
     ]
    }
   ],
   "source": [
    "null_y = np.full_like(y_train, y.mean())\n",
    "\n",
    "null_MSE = np.round(mean_squared_error(y_train, null_y), 3)\n",
    "MSE = np.round(mean_squared_error(y_test, y_pred), 3)\n",
    "\n",
    "print(f'Percent improvement = {(np.abs(np.round(((null_MSE - MSE) / null_MSE), 3)))*100}%')"
   ]
  },
  {
   "cell_type": "markdown",
   "id": "enclosed-religious",
   "metadata": {},
   "source": [
    "*Original distribution*"
   ]
  },
  {
   "cell_type": "code",
   "execution_count": 113,
   "id": "powered-impact",
   "metadata": {},
   "outputs": [],
   "source": [
    "X = df.drop(columns = ['canonical_smiles','standard_value',\n",
    "                             'bioactivity_binary','bioactivity_binary_class',\n",
    "                             'bioactivity_multiclass', 'pMIC'])\n",
    "y = df['standard_value']"
   ]
  },
  {
   "cell_type": "code",
   "execution_count": 114,
   "id": "furnished-penetration",
   "metadata": {},
   "outputs": [],
   "source": [
    "ss = StandardScaler()\n",
    "num_cols = ['mol_wt', 'log_p', 'proton_donors', 'proton_acceptors']\n",
    "X[num_cols] = ss.fit_transform(X[num_cols])"
   ]
  },
  {
   "cell_type": "code",
   "execution_count": 115,
   "id": "similar-charles",
   "metadata": {},
   "outputs": [],
   "source": [
    "X_train, X_test, y_train, y_test = train_test_split(X, y)"
   ]
  },
  {
   "cell_type": "code",
   "execution_count": 94,
   "id": "improving-editor",
   "metadata": {},
   "outputs": [],
   "source": [
    "RFR = RandomForestRegressor()\n",
    "#ss = StandardScaler()"
   ]
  },
  {
   "cell_type": "code",
   "execution_count": 16,
   "id": "featured-silver",
   "metadata": {},
   "outputs": [],
   "source": [
    "#pipe = make_pipeline(ss, RFR)"
   ]
  },
  {
   "cell_type": "code",
   "execution_count": 95,
   "id": "registered-basin",
   "metadata": {},
   "outputs": [],
   "source": [
    "RFR_params = {\n",
    "    'ccp_alpha': [0, 0.001, 2],\n",
    "    #'randomforestregressor__oob_score': [True, False], \n",
    "    'n_estimators': [200]\n",
    "}"
   ]
  },
  {
   "cell_type": "code",
   "execution_count": 96,
   "id": "protected-steam",
   "metadata": {},
   "outputs": [],
   "source": [
    "grid_rfr_2 = GridSearchCV(RFR, RFR_params, verbose = 3, n_jobs = -1)"
   ]
  },
  {
   "cell_type": "code",
   "execution_count": 97,
   "id": "medieval-judgment",
   "metadata": {},
   "outputs": [
    {
     "name": "stdout",
     "output_type": "stream",
     "text": [
      "Fitting 5 folds for each of 3 candidates, totalling 15 fits\n"
     ]
    },
    {
     "name": "stderr",
     "output_type": "stream",
     "text": [
      "[Parallel(n_jobs=-1)]: Using backend LokyBackend with 12 concurrent workers.\n",
      "[Parallel(n_jobs=-1)]: Done   4 out of  15 | elapsed: 13.7min remaining: 37.6min\n",
      "[Parallel(n_jobs=-1)]: Done  10 out of  15 | elapsed: 13.8min remaining:  6.9min\n",
      "[Parallel(n_jobs=-1)]: Done  15 out of  15 | elapsed: 20.6min finished\n"
     ]
    },
    {
     "name": "stdout",
     "output_type": "stream",
     "text": [
      "CPU times: user 8min 25s, sys: 1.51 s, total: 8min 26s\n",
      "Wall time: 29min 5s\n"
     ]
    },
    {
     "data": {
      "text/plain": [
       "GridSearchCV(estimator=RandomForestRegressor(), n_jobs=-1,\n",
       "             param_grid={'ccp_alpha': [0, 0.001, 2], 'n_estimators': [200]},\n",
       "             verbose=3)"
      ]
     },
     "execution_count": 97,
     "metadata": {},
     "output_type": "execute_result"
    }
   ],
   "source": [
    "%%time\n",
    "grid_rfr_2.fit(X_train, y_train)"
   ]
  },
  {
   "cell_type": "code",
   "execution_count": 100,
   "id": "perfect-hydrogen",
   "metadata": {},
   "outputs": [],
   "source": [
    "y_pred_2 = grid_rfr_2.predict(X_test)"
   ]
  },
  {
   "cell_type": "code",
   "execution_count": 101,
   "id": "constant-physiology",
   "metadata": {},
   "outputs": [
    {
     "name": "stdout",
     "output_type": "stream",
     "text": [
      " __________________ \n",
      "|Null MSE = 40964791307.287  |\n",
      "|------------------|\n",
      "|   MSE   = 15990477739.867  |\n",
      "|------------------|\n",
      "|   RMSE  = 126453.461  |\n",
      "|------------------|\n",
      "|   MAE   = 23400.69  |\n",
      "|------------------|\n",
      "|   r^2   = 0.724  |\n",
      " ------------------ \n"
     ]
    }
   ],
   "source": [
    "regression_eval(y, y_train, y_test, y_pred_2)"
   ]
  },
  {
   "cell_type": "markdown",
   "id": "other-appeal",
   "metadata": {},
   "source": [
    "Percent improvement over null model:"
   ]
  },
  {
   "cell_type": "code",
   "execution_count": 117,
   "id": "dedicated-abraham",
   "metadata": {},
   "outputs": [
    {
     "name": "stdout",
     "output_type": "stream",
     "text": [
      "Percent improvement = 69.39999999999999%\n"
     ]
    }
   ],
   "source": [
    "null_y = np.full_like(y_train, y.mean())\n",
    "\n",
    "null_MSE = np.round(mean_squared_error(y_train, null_y), 3)\n",
    "MSE = np.round(mean_squared_error(y_test, y_pred_2), 3)\n",
    "\n",
    "print(f'Percent improvement = {(np.abs(np.round(((null_MSE - MSE) / null_MSE), 3)))*100}%')"
   ]
  },
  {
   "cell_type": "markdown",
   "id": "dimensional-document",
   "metadata": {},
   "source": [
    "Standardized target ~3% lower MSE"
   ]
  },
  {
   "cell_type": "markdown",
   "id": "outside-snapshot",
   "metadata": {},
   "source": [
    "## Classification"
   ]
  },
  {
   "cell_type": "code",
   "execution_count": 45,
   "id": "trained-elephant",
   "metadata": {},
   "outputs": [],
   "source": [
    "def classification_eval(y_test, y_pred):\n",
    "    \"\"\"\n",
    "    \"\"\"\n",
    "    #print(f'null accuracy = {np.round(max(y_test.mean(), 1 - y_test.mean()), 3)}')\n",
    "    print(f'    accuracy  = {np.round(accuracy_score(y_test, y_pred), 3)}')\n",
    "    print(f'    precision = {np.round(precision_score(y_test, y_pred), 3)}')\n",
    "    print(f'    recall    = {np.round(recall_score(y_test, y_pred), 3)}')\n",
    "    print(f'    f1-score  = {np.round(f1_score(y_test, y_pred), 3)}')\n",
    "    print(f'    roc auc   = {np.round(roc_auc_score(y_test, y_pred), 3)}')"
   ]
  },
  {
   "cell_type": "code",
   "execution_count": 49,
   "id": "derived-majority",
   "metadata": {},
   "outputs": [],
   "source": [
    "X = df_bin_class.drop(columns = ['canonical_smiles','standard_value',\n",
    "                             'bioactivity_binary','bioactivity_binary_class',\n",
    "                             'bioactivity_multiclass', 'pMIC'])\n",
    "y = df_bin_class['bioactivity_binary_class']"
   ]
  },
  {
   "cell_type": "code",
   "execution_count": 50,
   "id": "direct-wayne",
   "metadata": {},
   "outputs": [],
   "source": [
    "ss = StandardScaler()\n",
    "num_cols = ['mol_wt', 'log_p', 'proton_donors', 'proton_acceptors']\n",
    "X[num_cols] = ss.fit_transform(X[num_cols])"
   ]
  },
  {
   "cell_type": "code",
   "execution_count": 51,
   "id": "surgical-repair",
   "metadata": {},
   "outputs": [],
   "source": [
    "X_train, X_test, y_train, y_test = train_test_split(X, y)"
   ]
  },
  {
   "cell_type": "code",
   "execution_count": 52,
   "id": "downtown-perfume",
   "metadata": {},
   "outputs": [],
   "source": [
    "RFC_params = {\n",
    "#     'randomforestclassifier__n_estimators' : [100],\n",
    "#     'randomforestclassifier__ccp_alpha' : [0.0, 0.01, 1, 3],\n",
    "#     'randomforestclassifier__min_samples_leaf' : [0, 1, 4],\n",
    "#     'randomforestclassifier__criterion' : ['gini', 'entropy']\n",
    "    'n_estimators' : [100],\n",
    "    'ccp_alpha' : [0.0, 0.01, 1, 3],\n",
    "    'min_samples_leaf' : [0, 1, 4],\n",
    "    'criterion' : ['gini', 'entropy']\n",
    "}"
   ]
  },
  {
   "cell_type": "code",
   "execution_count": 53,
   "id": "sonic-blogger",
   "metadata": {},
   "outputs": [],
   "source": [
    "RFC = RandomForestClassifier()\n",
    "#ss = StandardScaler()"
   ]
  },
  {
   "cell_type": "code",
   "execution_count": 54,
   "id": "confused-station",
   "metadata": {},
   "outputs": [],
   "source": [
    "#pipe_class = make_pipeline(ss, RFC)"
   ]
  },
  {
   "cell_type": "code",
   "execution_count": 55,
   "id": "standard-malta",
   "metadata": {},
   "outputs": [],
   "source": [
    "grid_rfc = GridSearchCV(RFC, RFC_params, verbose = 3)"
   ]
  },
  {
   "cell_type": "code",
   "execution_count": 56,
   "id": "asian-turner",
   "metadata": {
    "collapsed": true,
    "jupyter": {
     "outputs_hidden": true
    }
   },
   "outputs": [
    {
     "name": "stdout",
     "output_type": "stream",
     "text": [
      "Fitting 5 folds for each of 24 candidates, totalling 120 fits\n",
      "[CV] ccp_alpha=0.0, criterion=gini, min_samples_leaf=0, n_estimators=100 \n",
      "[CV]  ccp_alpha=0.0, criterion=gini, min_samples_leaf=0, n_estimators=100, score=nan, total=   0.1s\n",
      "[CV] ccp_alpha=0.0, criterion=gini, min_samples_leaf=0, n_estimators=100 \n"
     ]
    },
    {
     "name": "stderr",
     "output_type": "stream",
     "text": [
      "[Parallel(n_jobs=1)]: Using backend SequentialBackend with 1 concurrent workers.\n",
      "[Parallel(n_jobs=1)]: Done   1 out of   1 | elapsed:    0.1s remaining:    0.0s\n"
     ]
    },
    {
     "name": "stdout",
     "output_type": "stream",
     "text": [
      "[CV]  ccp_alpha=0.0, criterion=gini, min_samples_leaf=0, n_estimators=100, score=nan, total=   0.1s\n",
      "[CV] ccp_alpha=0.0, criterion=gini, min_samples_leaf=0, n_estimators=100 \n",
      "[CV]  ccp_alpha=0.0, criterion=gini, min_samples_leaf=0, n_estimators=100, score=nan, total=   0.1s\n",
      "[CV] ccp_alpha=0.0, criterion=gini, min_samples_leaf=0, n_estimators=100 \n"
     ]
    },
    {
     "name": "stderr",
     "output_type": "stream",
     "text": [
      "[Parallel(n_jobs=1)]: Done   2 out of   2 | elapsed:    0.2s remaining:    0.0s\n"
     ]
    },
    {
     "name": "stdout",
     "output_type": "stream",
     "text": [
      "[CV]  ccp_alpha=0.0, criterion=gini, min_samples_leaf=0, n_estimators=100, score=nan, total=   0.1s\n",
      "[CV] ccp_alpha=0.0, criterion=gini, min_samples_leaf=0, n_estimators=100 \n",
      "[CV]  ccp_alpha=0.0, criterion=gini, min_samples_leaf=0, n_estimators=100, score=nan, total=   0.1s\n",
      "[CV] ccp_alpha=0.0, criterion=gini, min_samples_leaf=1, n_estimators=100 \n",
      "[CV]  ccp_alpha=0.0, criterion=gini, min_samples_leaf=1, n_estimators=100, score=0.949, total=   3.2s\n",
      "[CV] ccp_alpha=0.0, criterion=gini, min_samples_leaf=1, n_estimators=100 \n",
      "[CV]  ccp_alpha=0.0, criterion=gini, min_samples_leaf=1, n_estimators=100, score=0.947, total=   3.2s\n",
      "[CV] ccp_alpha=0.0, criterion=gini, min_samples_leaf=1, n_estimators=100 \n",
      "[CV]  ccp_alpha=0.0, criterion=gini, min_samples_leaf=1, n_estimators=100, score=0.939, total=   3.3s\n",
      "[CV] ccp_alpha=0.0, criterion=gini, min_samples_leaf=1, n_estimators=100 \n",
      "[CV]  ccp_alpha=0.0, criterion=gini, min_samples_leaf=1, n_estimators=100, score=0.944, total=   3.4s\n",
      "[CV] ccp_alpha=0.0, criterion=gini, min_samples_leaf=1, n_estimators=100 \n",
      "[CV]  ccp_alpha=0.0, criterion=gini, min_samples_leaf=1, n_estimators=100, score=0.947, total=   3.2s\n",
      "[CV] ccp_alpha=0.0, criterion=gini, min_samples_leaf=4, n_estimators=100 \n",
      "[CV]  ccp_alpha=0.0, criterion=gini, min_samples_leaf=4, n_estimators=100, score=0.937, total=   2.1s\n",
      "[CV] ccp_alpha=0.0, criterion=gini, min_samples_leaf=4, n_estimators=100 \n",
      "[CV]  ccp_alpha=0.0, criterion=gini, min_samples_leaf=4, n_estimators=100, score=0.932, total=   2.1s\n",
      "[CV] ccp_alpha=0.0, criterion=gini, min_samples_leaf=4, n_estimators=100 \n",
      "[CV]  ccp_alpha=0.0, criterion=gini, min_samples_leaf=4, n_estimators=100, score=0.925, total=   2.0s\n",
      "[CV] ccp_alpha=0.0, criterion=gini, min_samples_leaf=4, n_estimators=100 \n",
      "[CV]  ccp_alpha=0.0, criterion=gini, min_samples_leaf=4, n_estimators=100, score=0.940, total=   2.0s\n",
      "[CV] ccp_alpha=0.0, criterion=gini, min_samples_leaf=4, n_estimators=100 \n",
      "[CV]  ccp_alpha=0.0, criterion=gini, min_samples_leaf=4, n_estimators=100, score=0.942, total=   2.0s\n",
      "[CV] ccp_alpha=0.0, criterion=entropy, min_samples_leaf=0, n_estimators=100 \n",
      "[CV]  ccp_alpha=0.0, criterion=entropy, min_samples_leaf=0, n_estimators=100, score=nan, total=   0.1s\n",
      "[CV] ccp_alpha=0.0, criterion=entropy, min_samples_leaf=0, n_estimators=100 \n",
      "[CV]  ccp_alpha=0.0, criterion=entropy, min_samples_leaf=0, n_estimators=100, score=nan, total=   0.1s\n",
      "[CV] ccp_alpha=0.0, criterion=entropy, min_samples_leaf=0, n_estimators=100 \n",
      "[CV]  ccp_alpha=0.0, criterion=entropy, min_samples_leaf=0, n_estimators=100, score=nan, total=   0.1s\n",
      "[CV] ccp_alpha=0.0, criterion=entropy, min_samples_leaf=0, n_estimators=100 \n",
      "[CV]  ccp_alpha=0.0, criterion=entropy, min_samples_leaf=0, n_estimators=100, score=nan, total=   0.1s\n",
      "[CV] ccp_alpha=0.0, criterion=entropy, min_samples_leaf=0, n_estimators=100 \n",
      "[CV]  ccp_alpha=0.0, criterion=entropy, min_samples_leaf=0, n_estimators=100, score=nan, total=   0.1s\n",
      "[CV] ccp_alpha=0.0, criterion=entropy, min_samples_leaf=1, n_estimators=100 \n",
      "[CV]  ccp_alpha=0.0, criterion=entropy, min_samples_leaf=1, n_estimators=100, score=0.947, total=   3.1s\n",
      "[CV] ccp_alpha=0.0, criterion=entropy, min_samples_leaf=1, n_estimators=100 \n",
      "[CV]  ccp_alpha=0.0, criterion=entropy, min_samples_leaf=1, n_estimators=100, score=0.948, total=   3.1s\n",
      "[CV] ccp_alpha=0.0, criterion=entropy, min_samples_leaf=1, n_estimators=100 \n",
      "[CV]  ccp_alpha=0.0, criterion=entropy, min_samples_leaf=1, n_estimators=100, score=0.940, total=   3.0s\n",
      "[CV] ccp_alpha=0.0, criterion=entropy, min_samples_leaf=1, n_estimators=100 \n",
      "[CV]  ccp_alpha=0.0, criterion=entropy, min_samples_leaf=1, n_estimators=100, score=0.945, total=   3.1s\n",
      "[CV] ccp_alpha=0.0, criterion=entropy, min_samples_leaf=1, n_estimators=100 \n",
      "[CV]  ccp_alpha=0.0, criterion=entropy, min_samples_leaf=1, n_estimators=100, score=0.946, total=   3.1s\n",
      "[CV] ccp_alpha=0.0, criterion=entropy, min_samples_leaf=4, n_estimators=100 \n",
      "[CV]  ccp_alpha=0.0, criterion=entropy, min_samples_leaf=4, n_estimators=100, score=0.933, total=   2.1s\n",
      "[CV] ccp_alpha=0.0, criterion=entropy, min_samples_leaf=4, n_estimators=100 \n",
      "[CV]  ccp_alpha=0.0, criterion=entropy, min_samples_leaf=4, n_estimators=100, score=0.938, total=   2.0s\n",
      "[CV] ccp_alpha=0.0, criterion=entropy, min_samples_leaf=4, n_estimators=100 \n",
      "[CV]  ccp_alpha=0.0, criterion=entropy, min_samples_leaf=4, n_estimators=100, score=0.930, total=   2.0s\n",
      "[CV] ccp_alpha=0.0, criterion=entropy, min_samples_leaf=4, n_estimators=100 \n",
      "[CV]  ccp_alpha=0.0, criterion=entropy, min_samples_leaf=4, n_estimators=100, score=0.936, total=   1.9s\n",
      "[CV] ccp_alpha=0.0, criterion=entropy, min_samples_leaf=4, n_estimators=100 \n",
      "[CV]  ccp_alpha=0.0, criterion=entropy, min_samples_leaf=4, n_estimators=100, score=0.942, total=   1.9s\n",
      "[CV] ccp_alpha=0.01, criterion=gini, min_samples_leaf=0, n_estimators=100 \n",
      "[CV]  ccp_alpha=0.01, criterion=gini, min_samples_leaf=0, n_estimators=100, score=nan, total=   0.1s\n",
      "[CV] ccp_alpha=0.01, criterion=gini, min_samples_leaf=0, n_estimators=100 \n",
      "[CV]  ccp_alpha=0.01, criterion=gini, min_samples_leaf=0, n_estimators=100, score=nan, total=   0.1s\n",
      "[CV] ccp_alpha=0.01, criterion=gini, min_samples_leaf=0, n_estimators=100 \n",
      "[CV]  ccp_alpha=0.01, criterion=gini, min_samples_leaf=0, n_estimators=100, score=nan, total=   0.1s\n",
      "[CV] ccp_alpha=0.01, criterion=gini, min_samples_leaf=0, n_estimators=100 \n",
      "[CV]  ccp_alpha=0.01, criterion=gini, min_samples_leaf=0, n_estimators=100, score=nan, total=   0.1s\n",
      "[CV] ccp_alpha=0.01, criterion=gini, min_samples_leaf=0, n_estimators=100 \n",
      "[CV]  ccp_alpha=0.01, criterion=gini, min_samples_leaf=0, n_estimators=100, score=nan, total=   0.1s\n",
      "[CV] ccp_alpha=0.01, criterion=gini, min_samples_leaf=1, n_estimators=100 \n",
      "[CV]  ccp_alpha=0.01, criterion=gini, min_samples_leaf=1, n_estimators=100, score=0.817, total=   3.3s\n",
      "[CV] ccp_alpha=0.01, criterion=gini, min_samples_leaf=1, n_estimators=100 \n",
      "[CV]  ccp_alpha=0.01, criterion=gini, min_samples_leaf=1, n_estimators=100, score=0.792, total=   3.3s\n",
      "[CV] ccp_alpha=0.01, criterion=gini, min_samples_leaf=1, n_estimators=100 \n",
      "[CV]  ccp_alpha=0.01, criterion=gini, min_samples_leaf=1, n_estimators=100, score=0.793, total=   3.1s\n",
      "[CV] ccp_alpha=0.01, criterion=gini, min_samples_leaf=1, n_estimators=100 \n",
      "[CV]  ccp_alpha=0.01, criterion=gini, min_samples_leaf=1, n_estimators=100, score=0.795, total=   3.0s\n",
      "[CV] ccp_alpha=0.01, criterion=gini, min_samples_leaf=1, n_estimators=100 \n",
      "[CV]  ccp_alpha=0.01, criterion=gini, min_samples_leaf=1, n_estimators=100, score=0.832, total=   3.0s\n",
      "[CV] ccp_alpha=0.01, criterion=gini, min_samples_leaf=4, n_estimators=100 \n",
      "[CV]  ccp_alpha=0.01, criterion=gini, min_samples_leaf=4, n_estimators=100, score=0.829, total=   2.0s\n",
      "[CV] ccp_alpha=0.01, criterion=gini, min_samples_leaf=4, n_estimators=100 \n",
      "[CV]  ccp_alpha=0.01, criterion=gini, min_samples_leaf=4, n_estimators=100, score=0.814, total=   2.0s\n",
      "[CV] ccp_alpha=0.01, criterion=gini, min_samples_leaf=4, n_estimators=100 \n",
      "[CV]  ccp_alpha=0.01, criterion=gini, min_samples_leaf=4, n_estimators=100, score=0.802, total=   2.1s\n",
      "[CV] ccp_alpha=0.01, criterion=gini, min_samples_leaf=4, n_estimators=100 \n",
      "[CV]  ccp_alpha=0.01, criterion=gini, min_samples_leaf=4, n_estimators=100, score=0.797, total=   2.0s\n",
      "[CV] ccp_alpha=0.01, criterion=gini, min_samples_leaf=4, n_estimators=100 \n",
      "[CV]  ccp_alpha=0.01, criterion=gini, min_samples_leaf=4, n_estimators=100, score=0.813, total=   2.1s\n",
      "[CV] ccp_alpha=0.01, criterion=entropy, min_samples_leaf=0, n_estimators=100 \n",
      "[CV]  ccp_alpha=0.01, criterion=entropy, min_samples_leaf=0, n_estimators=100, score=nan, total=   0.1s\n",
      "[CV] ccp_alpha=0.01, criterion=entropy, min_samples_leaf=0, n_estimators=100 \n",
      "[CV]  ccp_alpha=0.01, criterion=entropy, min_samples_leaf=0, n_estimators=100, score=nan, total=   0.1s\n",
      "[CV] ccp_alpha=0.01, criterion=entropy, min_samples_leaf=0, n_estimators=100 \n",
      "[CV]  ccp_alpha=0.01, criterion=entropy, min_samples_leaf=0, n_estimators=100, score=nan, total=   0.1s\n",
      "[CV] ccp_alpha=0.01, criterion=entropy, min_samples_leaf=0, n_estimators=100 \n",
      "[CV]  ccp_alpha=0.01, criterion=entropy, min_samples_leaf=0, n_estimators=100, score=nan, total=   0.1s\n",
      "[CV] ccp_alpha=0.01, criterion=entropy, min_samples_leaf=0, n_estimators=100 \n",
      "[CV]  ccp_alpha=0.01, criterion=entropy, min_samples_leaf=0, n_estimators=100, score=nan, total=   0.1s\n",
      "[CV] ccp_alpha=0.01, criterion=entropy, min_samples_leaf=1, n_estimators=100 \n",
      "[CV]  ccp_alpha=0.01, criterion=entropy, min_samples_leaf=1, n_estimators=100, score=0.871, total=   3.2s\n",
      "[CV] ccp_alpha=0.01, criterion=entropy, min_samples_leaf=1, n_estimators=100 \n",
      "[CV]  ccp_alpha=0.01, criterion=entropy, min_samples_leaf=1, n_estimators=100, score=0.837, total=   3.2s\n",
      "[CV] ccp_alpha=0.01, criterion=entropy, min_samples_leaf=1, n_estimators=100 \n",
      "[CV]  ccp_alpha=0.01, criterion=entropy, min_samples_leaf=1, n_estimators=100, score=0.841, total=   2.9s\n",
      "[CV] ccp_alpha=0.01, criterion=entropy, min_samples_leaf=1, n_estimators=100 \n",
      "[CV]  ccp_alpha=0.01, criterion=entropy, min_samples_leaf=1, n_estimators=100, score=0.842, total=   3.1s\n",
      "[CV] ccp_alpha=0.01, criterion=entropy, min_samples_leaf=1, n_estimators=100 \n",
      "[CV]  ccp_alpha=0.01, criterion=entropy, min_samples_leaf=1, n_estimators=100, score=0.858, total=   3.1s\n",
      "[CV] ccp_alpha=0.01, criterion=entropy, min_samples_leaf=4, n_estimators=100 \n",
      "[CV]  ccp_alpha=0.01, criterion=entropy, min_samples_leaf=4, n_estimators=100, score=0.858, total=   2.0s\n",
      "[CV] ccp_alpha=0.01, criterion=entropy, min_samples_leaf=4, n_estimators=100 \n",
      "[CV]  ccp_alpha=0.01, criterion=entropy, min_samples_leaf=4, n_estimators=100, score=0.833, total=   2.0s\n",
      "[CV] ccp_alpha=0.01, criterion=entropy, min_samples_leaf=4, n_estimators=100 \n",
      "[CV]  ccp_alpha=0.01, criterion=entropy, min_samples_leaf=4, n_estimators=100, score=0.840, total=   2.0s\n",
      "[CV] ccp_alpha=0.01, criterion=entropy, min_samples_leaf=4, n_estimators=100 \n",
      "[CV]  ccp_alpha=0.01, criterion=entropy, min_samples_leaf=4, n_estimators=100, score=0.833, total=   2.0s\n",
      "[CV] ccp_alpha=0.01, criterion=entropy, min_samples_leaf=4, n_estimators=100 \n",
      "[CV]  ccp_alpha=0.01, criterion=entropy, min_samples_leaf=4, n_estimators=100, score=0.869, total=   2.0s\n",
      "[CV] ccp_alpha=1, criterion=gini, min_samples_leaf=0, n_estimators=100 \n",
      "[CV]  ccp_alpha=1, criterion=gini, min_samples_leaf=0, n_estimators=100, score=nan, total=   0.1s\n",
      "[CV] ccp_alpha=1, criterion=gini, min_samples_leaf=0, n_estimators=100 \n",
      "[CV]  ccp_alpha=1, criterion=gini, min_samples_leaf=0, n_estimators=100, score=nan, total=   0.1s\n",
      "[CV] ccp_alpha=1, criterion=gini, min_samples_leaf=0, n_estimators=100 \n",
      "[CV]  ccp_alpha=1, criterion=gini, min_samples_leaf=0, n_estimators=100, score=nan, total=   0.1s\n",
      "[CV] ccp_alpha=1, criterion=gini, min_samples_leaf=0, n_estimators=100 \n",
      "[CV]  ccp_alpha=1, criterion=gini, min_samples_leaf=0, n_estimators=100, score=nan, total=   0.1s\n",
      "[CV] ccp_alpha=1, criterion=gini, min_samples_leaf=0, n_estimators=100 \n",
      "[CV]  ccp_alpha=1, criterion=gini, min_samples_leaf=0, n_estimators=100, score=nan, total=   0.1s\n",
      "[CV] ccp_alpha=1, criterion=gini, min_samples_leaf=1, n_estimators=100 \n",
      "[CV]  ccp_alpha=1, criterion=gini, min_samples_leaf=1, n_estimators=100, score=0.582, total=   3.4s\n",
      "[CV] ccp_alpha=1, criterion=gini, min_samples_leaf=1, n_estimators=100 \n",
      "[CV]  ccp_alpha=1, criterion=gini, min_samples_leaf=1, n_estimators=100, score=0.582, total=   3.5s\n",
      "[CV] ccp_alpha=1, criterion=gini, min_samples_leaf=1, n_estimators=100 \n",
      "[CV]  ccp_alpha=1, criterion=gini, min_samples_leaf=1, n_estimators=100, score=0.582, total=   3.3s\n",
      "[CV] ccp_alpha=1, criterion=gini, min_samples_leaf=1, n_estimators=100 \n",
      "[CV]  ccp_alpha=1, criterion=gini, min_samples_leaf=1, n_estimators=100, score=0.581, total=   3.4s\n",
      "[CV] ccp_alpha=1, criterion=gini, min_samples_leaf=1, n_estimators=100 \n",
      "[CV]  ccp_alpha=1, criterion=gini, min_samples_leaf=1, n_estimators=100, score=0.581, total=   3.2s\n",
      "[CV] ccp_alpha=1, criterion=gini, min_samples_leaf=4, n_estimators=100 \n",
      "[CV]  ccp_alpha=1, criterion=gini, min_samples_leaf=4, n_estimators=100, score=0.582, total=   2.0s\n",
      "[CV] ccp_alpha=1, criterion=gini, min_samples_leaf=4, n_estimators=100 \n",
      "[CV]  ccp_alpha=1, criterion=gini, min_samples_leaf=4, n_estimators=100, score=0.582, total=   2.0s\n",
      "[CV] ccp_alpha=1, criterion=gini, min_samples_leaf=4, n_estimators=100 \n",
      "[CV]  ccp_alpha=1, criterion=gini, min_samples_leaf=4, n_estimators=100, score=0.582, total=   1.9s\n",
      "[CV] ccp_alpha=1, criterion=gini, min_samples_leaf=4, n_estimators=100 \n",
      "[CV]  ccp_alpha=1, criterion=gini, min_samples_leaf=4, n_estimators=100, score=0.581, total=   2.0s\n",
      "[CV] ccp_alpha=1, criterion=gini, min_samples_leaf=4, n_estimators=100 \n",
      "[CV]  ccp_alpha=1, criterion=gini, min_samples_leaf=4, n_estimators=100, score=0.581, total=   1.9s\n",
      "[CV] ccp_alpha=1, criterion=entropy, min_samples_leaf=0, n_estimators=100 \n",
      "[CV]  ccp_alpha=1, criterion=entropy, min_samples_leaf=0, n_estimators=100, score=nan, total=   0.1s\n",
      "[CV] ccp_alpha=1, criterion=entropy, min_samples_leaf=0, n_estimators=100 \n",
      "[CV]  ccp_alpha=1, criterion=entropy, min_samples_leaf=0, n_estimators=100, score=nan, total=   0.1s\n",
      "[CV] ccp_alpha=1, criterion=entropy, min_samples_leaf=0, n_estimators=100 \n",
      "[CV]  ccp_alpha=1, criterion=entropy, min_samples_leaf=0, n_estimators=100, score=nan, total=   0.1s\n",
      "[CV] ccp_alpha=1, criterion=entropy, min_samples_leaf=0, n_estimators=100 \n",
      "[CV]  ccp_alpha=1, criterion=entropy, min_samples_leaf=0, n_estimators=100, score=nan, total=   0.1s\n",
      "[CV] ccp_alpha=1, criterion=entropy, min_samples_leaf=0, n_estimators=100 \n",
      "[CV]  ccp_alpha=1, criterion=entropy, min_samples_leaf=0, n_estimators=100, score=nan, total=   0.1s\n",
      "[CV] ccp_alpha=1, criterion=entropy, min_samples_leaf=1, n_estimators=100 \n",
      "[CV]  ccp_alpha=1, criterion=entropy, min_samples_leaf=1, n_estimators=100, score=0.582, total=   3.1s\n",
      "[CV] ccp_alpha=1, criterion=entropy, min_samples_leaf=1, n_estimators=100 \n",
      "[CV]  ccp_alpha=1, criterion=entropy, min_samples_leaf=1, n_estimators=100, score=0.582, total=   3.1s\n",
      "[CV] ccp_alpha=1, criterion=entropy, min_samples_leaf=1, n_estimators=100 \n",
      "[CV]  ccp_alpha=1, criterion=entropy, min_samples_leaf=1, n_estimators=100, score=0.582, total=   2.9s\n",
      "[CV] ccp_alpha=1, criterion=entropy, min_samples_leaf=1, n_estimators=100 \n",
      "[CV]  ccp_alpha=1, criterion=entropy, min_samples_leaf=1, n_estimators=100, score=0.581, total=   3.0s\n",
      "[CV] ccp_alpha=1, criterion=entropy, min_samples_leaf=1, n_estimators=100 \n",
      "[CV]  ccp_alpha=1, criterion=entropy, min_samples_leaf=1, n_estimators=100, score=0.581, total=   2.9s\n",
      "[CV] ccp_alpha=1, criterion=entropy, min_samples_leaf=4, n_estimators=100 \n",
      "[CV]  ccp_alpha=1, criterion=entropy, min_samples_leaf=4, n_estimators=100, score=0.582, total=   1.9s\n",
      "[CV] ccp_alpha=1, criterion=entropy, min_samples_leaf=4, n_estimators=100 \n",
      "[CV]  ccp_alpha=1, criterion=entropy, min_samples_leaf=4, n_estimators=100, score=0.582, total=   1.9s\n",
      "[CV] ccp_alpha=1, criterion=entropy, min_samples_leaf=4, n_estimators=100 \n",
      "[CV]  ccp_alpha=1, criterion=entropy, min_samples_leaf=4, n_estimators=100, score=0.582, total=   1.9s\n",
      "[CV] ccp_alpha=1, criterion=entropy, min_samples_leaf=4, n_estimators=100 \n",
      "[CV]  ccp_alpha=1, criterion=entropy, min_samples_leaf=4, n_estimators=100, score=0.581, total=   2.0s\n",
      "[CV] ccp_alpha=1, criterion=entropy, min_samples_leaf=4, n_estimators=100 \n",
      "[CV]  ccp_alpha=1, criterion=entropy, min_samples_leaf=4, n_estimators=100, score=0.581, total=   2.0s\n",
      "[CV] ccp_alpha=3, criterion=gini, min_samples_leaf=0, n_estimators=100 \n",
      "[CV]  ccp_alpha=3, criterion=gini, min_samples_leaf=0, n_estimators=100, score=nan, total=   0.1s\n",
      "[CV] ccp_alpha=3, criterion=gini, min_samples_leaf=0, n_estimators=100 \n",
      "[CV]  ccp_alpha=3, criterion=gini, min_samples_leaf=0, n_estimators=100, score=nan, total=   0.1s\n",
      "[CV] ccp_alpha=3, criterion=gini, min_samples_leaf=0, n_estimators=100 \n",
      "[CV]  ccp_alpha=3, criterion=gini, min_samples_leaf=0, n_estimators=100, score=nan, total=   0.1s\n",
      "[CV] ccp_alpha=3, criterion=gini, min_samples_leaf=0, n_estimators=100 \n",
      "[CV]  ccp_alpha=3, criterion=gini, min_samples_leaf=0, n_estimators=100, score=nan, total=   0.1s\n",
      "[CV] ccp_alpha=3, criterion=gini, min_samples_leaf=0, n_estimators=100 \n",
      "[CV]  ccp_alpha=3, criterion=gini, min_samples_leaf=0, n_estimators=100, score=nan, total=   0.1s\n",
      "[CV] ccp_alpha=3, criterion=gini, min_samples_leaf=1, n_estimators=100 \n",
      "[CV]  ccp_alpha=3, criterion=gini, min_samples_leaf=1, n_estimators=100, score=0.582, total=   3.3s\n",
      "[CV] ccp_alpha=3, criterion=gini, min_samples_leaf=1, n_estimators=100 \n",
      "[CV]  ccp_alpha=3, criterion=gini, min_samples_leaf=1, n_estimators=100, score=0.582, total=   3.3s\n",
      "[CV] ccp_alpha=3, criterion=gini, min_samples_leaf=1, n_estimators=100 \n",
      "[CV]  ccp_alpha=3, criterion=gini, min_samples_leaf=1, n_estimators=100, score=0.582, total=   3.1s\n",
      "[CV] ccp_alpha=3, criterion=gini, min_samples_leaf=1, n_estimators=100 \n",
      "[CV]  ccp_alpha=3, criterion=gini, min_samples_leaf=1, n_estimators=100, score=0.581, total=   3.2s\n",
      "[CV] ccp_alpha=3, criterion=gini, min_samples_leaf=1, n_estimators=100 \n",
      "[CV]  ccp_alpha=3, criterion=gini, min_samples_leaf=1, n_estimators=100, score=0.581, total=   3.1s\n",
      "[CV] ccp_alpha=3, criterion=gini, min_samples_leaf=4, n_estimators=100 \n",
      "[CV]  ccp_alpha=3, criterion=gini, min_samples_leaf=4, n_estimators=100, score=0.582, total=   2.1s\n",
      "[CV] ccp_alpha=3, criterion=gini, min_samples_leaf=4, n_estimators=100 \n",
      "[CV]  ccp_alpha=3, criterion=gini, min_samples_leaf=4, n_estimators=100, score=0.582, total=   2.0s\n",
      "[CV] ccp_alpha=3, criterion=gini, min_samples_leaf=4, n_estimators=100 \n",
      "[CV]  ccp_alpha=3, criterion=gini, min_samples_leaf=4, n_estimators=100, score=0.582, total=   2.1s\n",
      "[CV] ccp_alpha=3, criterion=gini, min_samples_leaf=4, n_estimators=100 \n",
      "[CV]  ccp_alpha=3, criterion=gini, min_samples_leaf=4, n_estimators=100, score=0.581, total=   2.2s\n",
      "[CV] ccp_alpha=3, criterion=gini, min_samples_leaf=4, n_estimators=100 \n",
      "[CV]  ccp_alpha=3, criterion=gini, min_samples_leaf=4, n_estimators=100, score=0.581, total=   2.0s\n",
      "[CV] ccp_alpha=3, criterion=entropy, min_samples_leaf=0, n_estimators=100 \n",
      "[CV]  ccp_alpha=3, criterion=entropy, min_samples_leaf=0, n_estimators=100, score=nan, total=   0.1s\n",
      "[CV] ccp_alpha=3, criterion=entropy, min_samples_leaf=0, n_estimators=100 \n",
      "[CV]  ccp_alpha=3, criterion=entropy, min_samples_leaf=0, n_estimators=100, score=nan, total=   0.1s\n",
      "[CV] ccp_alpha=3, criterion=entropy, min_samples_leaf=0, n_estimators=100 \n",
      "[CV]  ccp_alpha=3, criterion=entropy, min_samples_leaf=0, n_estimators=100, score=nan, total=   0.1s\n",
      "[CV] ccp_alpha=3, criterion=entropy, min_samples_leaf=0, n_estimators=100 \n",
      "[CV]  ccp_alpha=3, criterion=entropy, min_samples_leaf=0, n_estimators=100, score=nan, total=   0.1s\n",
      "[CV] ccp_alpha=3, criterion=entropy, min_samples_leaf=0, n_estimators=100 \n",
      "[CV]  ccp_alpha=3, criterion=entropy, min_samples_leaf=0, n_estimators=100, score=nan, total=   0.1s\n",
      "[CV] ccp_alpha=3, criterion=entropy, min_samples_leaf=1, n_estimators=100 \n",
      "[CV]  ccp_alpha=3, criterion=entropy, min_samples_leaf=1, n_estimators=100, score=0.582, total=   3.3s\n",
      "[CV] ccp_alpha=3, criterion=entropy, min_samples_leaf=1, n_estimators=100 \n",
      "[CV]  ccp_alpha=3, criterion=entropy, min_samples_leaf=1, n_estimators=100, score=0.582, total=   3.4s\n",
      "[CV] ccp_alpha=3, criterion=entropy, min_samples_leaf=1, n_estimators=100 \n",
      "[CV]  ccp_alpha=3, criterion=entropy, min_samples_leaf=1, n_estimators=100, score=0.582, total=   3.0s\n",
      "[CV] ccp_alpha=3, criterion=entropy, min_samples_leaf=1, n_estimators=100 \n",
      "[CV]  ccp_alpha=3, criterion=entropy, min_samples_leaf=1, n_estimators=100, score=0.581, total=   3.0s\n",
      "[CV] ccp_alpha=3, criterion=entropy, min_samples_leaf=1, n_estimators=100 \n",
      "[CV]  ccp_alpha=3, criterion=entropy, min_samples_leaf=1, n_estimators=100, score=0.581, total=   3.0s\n",
      "[CV] ccp_alpha=3, criterion=entropy, min_samples_leaf=4, n_estimators=100 \n",
      "[CV]  ccp_alpha=3, criterion=entropy, min_samples_leaf=4, n_estimators=100, score=0.582, total=   1.9s\n",
      "[CV] ccp_alpha=3, criterion=entropy, min_samples_leaf=4, n_estimators=100 \n",
      "[CV]  ccp_alpha=3, criterion=entropy, min_samples_leaf=4, n_estimators=100, score=0.582, total=   2.0s\n",
      "[CV] ccp_alpha=3, criterion=entropy, min_samples_leaf=4, n_estimators=100 \n",
      "[CV]  ccp_alpha=3, criterion=entropy, min_samples_leaf=4, n_estimators=100, score=0.582, total=   2.0s\n",
      "[CV] ccp_alpha=3, criterion=entropy, min_samples_leaf=4, n_estimators=100 \n",
      "[CV]  ccp_alpha=3, criterion=entropy, min_samples_leaf=4, n_estimators=100, score=0.581, total=   2.0s\n",
      "[CV] ccp_alpha=3, criterion=entropy, min_samples_leaf=4, n_estimators=100 \n",
      "[CV]  ccp_alpha=3, criterion=entropy, min_samples_leaf=4, n_estimators=100, score=0.581, total=   2.0s\n"
     ]
    },
    {
     "name": "stderr",
     "output_type": "stream",
     "text": [
      "[Parallel(n_jobs=1)]: Done 120 out of 120 | elapsed:  3.5min finished\n"
     ]
    },
    {
     "name": "stdout",
     "output_type": "stream",
     "text": [
      "CPU times: user 3min 29s, sys: 4.53 s, total: 3min 33s\n",
      "Wall time: 3min 35s\n"
     ]
    },
    {
     "data": {
      "text/plain": [
       "GridSearchCV(estimator=RandomForestClassifier(),\n",
       "             param_grid={'ccp_alpha': [0.0, 0.01, 1, 3],\n",
       "                         'criterion': ['gini', 'entropy'],\n",
       "                         'min_samples_leaf': [0, 1, 4], 'n_estimators': [100]},\n",
       "             verbose=3)"
      ]
     },
     "execution_count": 56,
     "metadata": {},
     "output_type": "execute_result"
    }
   ],
   "source": [
    "%%time\n",
    "grid_rfc.fit(X_train, y_train, n_jobs = -1)"
   ]
  },
  {
   "cell_type": "code",
   "execution_count": 57,
   "id": "federal-program",
   "metadata": {},
   "outputs": [],
   "source": [
    "y_preds = grid_rfc.predict(X_test)"
   ]
  },
  {
   "cell_type": "code",
   "execution_count": 58,
   "id": "criminal-scout",
   "metadata": {},
   "outputs": [
    {
     "data": {
      "text/plain": [
       "(0.9687970733806757, 0.9425806451612904)"
      ]
     },
     "execution_count": 58,
     "metadata": {},
     "output_type": "execute_result"
    }
   ],
   "source": [
    "grid_rfc.score(X_train, y_train), grid_rfc.score(X_test, y_test)"
   ]
  },
  {
   "cell_type": "code",
   "execution_count": 59,
   "id": "arctic-development",
   "metadata": {},
   "outputs": [
    {
     "name": "stdout",
     "output_type": "stream",
     "text": [
      "    accuracy  = 0.943\n",
      "    precision = 0.941\n",
      "    recall    = 0.965\n",
      "    f1-score  = 0.953\n",
      "    roc auc   = 0.937\n"
     ]
    }
   ],
   "source": [
    "classification_eval(y_test, y_preds)"
   ]
  },
  {
   "cell_type": "code",
   "execution_count": 61,
   "id": "nervous-carroll",
   "metadata": {},
   "outputs": [
    {
     "data": {
      "text/plain": [
       "{'ccp_alpha': 0.0,\n",
       " 'criterion': 'entropy',\n",
       " 'min_samples_leaf': 1,\n",
       " 'n_estimators': 100}"
      ]
     },
     "execution_count": 61,
     "metadata": {},
     "output_type": "execute_result"
    }
   ],
   "source": [
    "grid_rfc.best_params_"
   ]
  },
  {
   "cell_type": "markdown",
   "id": "twelve-novelty",
   "metadata": {},
   "source": [
    "# Final Models"
   ]
  },
  {
   "cell_type": "markdown",
   "id": "genuine-encyclopedia",
   "metadata": {},
   "source": [
    "Regression with Standardized Target"
   ]
  },
  {
   "cell_type": "code",
   "execution_count": null,
   "id": "breathing-calcium",
   "metadata": {},
   "outputs": [],
   "source": [
    "def regression_and_eval(X, y, model):\n",
    "    X_train, X_test, y_train, y_test = train_test_split(X, y)\n",
    "    null_y = np.full_like(y_train, y.mean())\n",
    "    model = model\n",
    "    \n",
    "    model.fit(X_train, y_train)\n",
    "    y_pred = model.predict(X_test)\n",
    "    \n",
    "    print(' __________________ ')\n",
    "    print(f'|Null MSE = {np.round(mean_squared_error(y_train, null_y), 3)}  |')\n",
    "    print('|------------------|')\n",
    "    print(f'|   MSE   = {np.round(mean_squared_error(y_test, y_pred), 3)}  |')\n",
    "    print('|------------------|')\n",
    "    print(f'|   RMSE  = {np.round(mean_squared_error(y_test, y_pred, squared = False), 3)}  |')\n",
    "    print('|------------------|')\n",
    "    print(f'|   MAE   = {np.round(mean_absolute_error(y_test, y_pred), 3)}  |')\n",
    "    print('|------------------|')\n",
    "    print(f'|   r^2   = {np.round(r2_score(y_test, y_pred), 3)}  |')\n",
    "    print(' ------------------ ')\n",
    "    \n",
    "    return model"
   ]
  },
  {
   "cell_type": "markdown",
   "id": "ignored-comparison",
   "metadata": {},
   "source": [
    "Binary Classification"
   ]
  },
  {
   "cell_type": "code",
   "execution_count": null,
   "id": "level-eight",
   "metadata": {},
   "outputs": [],
   "source": [
    "def classification_and_eval(X, y, model, params):\n",
    "    X_train, X_test, y_train, y_test = train_test_split(X, y)\n",
    "    model = model\n",
    "    \n",
    "    model.fit(X_train, y_train)\n",
    "    y_pred = model.predict(X_test)\n",
    "    \n",
    "    print(f'null accuracy = {round(max(y_test.mean(), 1 - y_test.mean()), 3)}')\n",
    "    print(f'    accuracy  = {np.round(accuracy_score(y_test, y_pred), 3)}')\n",
    "    print(f'    precision = {np.round(precision_score(y_test, y_pred), 3)}')\n",
    "    print(f'    recall    = {np.round(recall_score(y_test, y_pred), 3)}')\n",
    "    print(f'    f1-score  = {np.round(f1_score(y_test, y_pred), 3)}')\n",
    "    print(f'    roc auc   = {np.round(roc_auc_score(y_test, y_pred), 3)}')\n",
    "    \n",
    "    return model"
   ]
  }
 ],
 "metadata": {
  "kernelspec": {
   "display_name": "Python 3",
   "language": "python",
   "name": "python3"
  },
  "language_info": {
   "codemirror_mode": {
    "name": "ipython",
    "version": 3
   },
   "file_extension": ".py",
   "mimetype": "text/x-python",
   "name": "python",
   "nbconvert_exporter": "python",
   "pygments_lexer": "ipython3",
   "version": "3.8.2"
  }
 },
 "nbformat": 4,
 "nbformat_minor": 5
}
