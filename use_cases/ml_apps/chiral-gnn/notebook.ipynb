{
  "nbformat": 4,
  "nbformat_minor": 0,
  "metadata": {
    "colab": {
      "name": "notebook.ipynb",
      "provenance": [],
      "collapsed_sections": [],
      "machine_shape": "hm"
    },
    "kernelspec": {
      "name": "python3",
      "display_name": "Python 3"
    },
    "language_info": {
      "name": "python"
    },
    "accelerator": "GPU"
  },
  "cells": [
    {
      "cell_type": "markdown",
      "metadata": {
        "id": "y4b4E-6NXgjs"
      },
      "source": [
        "## ChiralGNN: Chirality-aware message passing networks"
      ]
    },
    {
      "cell_type": "code",
      "metadata": {
        "colab": {
          "base_uri": "https://localhost:8080/"
        },
        "id": "lrRBPhxHXb-e",
        "outputId": "4a5aa06b-96b2-4cb9-9666-64ec7d739653"
      },
      "source": [
        "# Clone the repository and cd into directory\n",
        "!git clone https://github.com/PattanaikL/chiral_gnn.git\n",
        "%cd /content/chiral_gnn"
      ],
      "execution_count": null,
      "outputs": [
        {
          "output_type": "stream",
          "text": [
            "Cloning into 'chiral_gnn'...\n",
            "remote: Enumerating objects: 413, done.\u001b[K\n",
            "remote: Counting objects: 100% (413/413), done.\u001b[K\n",
            "remote: Compressing objects: 100% (268/268), done.\u001b[K\n",
            "remote: Total 413 (delta 192), reused 328 (delta 122), pack-reused 0\u001b[K\n",
            "Receiving objects: 100% (413/413), 19.24 MiB | 23.29 MiB/s, done.\n",
            "Resolving deltas: 100% (192/192), done.\n",
            "/content/chiral_gnn\n"
          ],
          "name": "stdout"
        }
      ]
    },
    {
      "cell_type": "code",
      "metadata": {
        "id": "5vapMltiXiGV"
      },
      "source": [
        "# Install dependencies / requirements\n",
        "!pip install torch==1.4.0 torchvision==0.4.0\n",
        "\n",
        "!pip install torch-geometric \\\n",
        "  torch-sparse==latest+cu101 \\\n",
        "  torch-scatter==latest+cu101 \\\n",
        "  torch-cluster==latest+cu101 \\\n",
        "  -f https://pytorch-geometric.com/whl/torch-1.4.0.html \n",
        "  \n",
        "# Install RDKit\n",
        "!pip install rdkit-pypi==2021.3.1.5 wandb"
      ],
      "execution_count": null,
      "outputs": []
    },
    {
      "cell_type": "code",
      "metadata": {
        "id": "ywFLUlMHY4iG"
      },
      "source": [
        "!python train.py --data_path data/d4_docking/d4_docking.csv \\\n",
        "                 --split_path data/d4_docking/full/split0.npy --log_dir ./test_run \\\n",
        "                 --gnn_type dmpnn --message tetra_permute_concat \\\n",
        "                 --global_chiral_features --chiral_features"
      ],
      "execution_count": null,
      "outputs": []
    }
  ]
}