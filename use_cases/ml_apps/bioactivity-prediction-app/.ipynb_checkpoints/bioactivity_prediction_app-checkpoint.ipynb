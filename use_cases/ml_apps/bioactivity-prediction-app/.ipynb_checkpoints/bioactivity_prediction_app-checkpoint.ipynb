{
 "cells": [
  {
   "cell_type": "markdown",
   "metadata": {
    "id": "QQHZHevuXdEy"
   },
   "source": [
    "# **QSAR Model Building of Acetylcholinesterase Inhibitors**\n",
    "\n",
    "Chanin Nantasenamat\n",
    "\n",
    "*Data Professor YouTube channel, http://youtube.com/dataprofessor*"
   ]
  },
  {
   "cell_type": "markdown",
   "metadata": {
    "id": "g1qtHa0zXfWM"
   },
   "source": [
    "# Read in data"
   ]
  },
  {
   "cell_type": "code",
   "execution_count": null,
   "metadata": {
    "id": "9MdfbvFKXtXq"
   },
   "outputs": [],
   "source": [
    "import pandas as pd"
   ]
  },
  {
   "cell_type": "code",
   "execution_count": null,
   "metadata": {
    "colab": {
     "base_uri": "https://localhost:8080/",
     "height": 439
    },
    "id": "nerGP0fCXfgP",
    "outputId": "b639892c-8f7b-4b24-d02c-628c9f1a1460"
   },
   "outputs": [],
   "source": [
    "dataset_url = 'https://github.com/dataprofessor/data/raw/master/acetylcholinesterase_06_bioactivity_data_3class_pIC50_pubchem_fp.csv'\n",
    "dataset = pd.read_csv(dataset_url)\n",
    "dataset"
   ]
  },
  {
   "cell_type": "code",
   "execution_count": null,
   "metadata": {
    "colab": {
     "base_uri": "https://localhost:8080/",
     "height": 439
    },
    "id": "tgFxx8m_YEUy",
    "outputId": "47903560-3aa4-497f-85b4-27b1361b200a"
   },
   "outputs": [],
   "source": [
    "X = dataset.drop(['pIC50'], axis=1)\n",
    "X"
   ]
  },
  {
   "cell_type": "code",
   "execution_count": null,
   "metadata": {
    "colab": {
     "base_uri": "https://localhost:8080/"
    },
    "id": "JDwxgKHqYmD4",
    "outputId": "472cd19d-7dab-4f16-b03d-fab52d3fc782"
   },
   "outputs": [],
   "source": [
    "Y = dataset.iloc[:,-1]\n",
    "Y"
   ]
  },
  {
   "cell_type": "markdown",
   "metadata": {
    "id": "AQ9E0xUY_o_M"
   },
   "source": [
    "# Remove low variance features"
   ]
  },
  {
   "cell_type": "code",
   "execution_count": null,
   "metadata": {
    "colab": {
     "base_uri": "https://localhost:8080/"
    },
    "id": "Qkgj-lsG_wOJ",
    "outputId": "d3d11b21-fdf3-4cfb-e0c8-0f2b5a1d779b"
   },
   "outputs": [],
   "source": [
    "from sklearn.feature_selection import VarianceThreshold\n",
    "\n",
    "def remove_low_variance(input_data, threshold=0.1):\n",
    "    selection = VarianceThreshold(threshold)\n",
    "    selection.fit(input_data)\n",
    "    return input_data[input_data.columns[selection.get_support(indices=True)]]\n",
    "\n",
    "X = remove_low_variance(X, threshold=0.1)\n",
    "X"
   ]
  },
  {
   "cell_type": "code",
   "execution_count": null,
   "metadata": {},
   "outputs": [],
   "source": [
    "X.to_csv('descriptor_list.csv', index = False)"
   ]
  },
  {
   "cell_type": "code",
   "execution_count": null,
   "metadata": {},
   "outputs": [],
   "source": [
    "# In the app, use the following to get this same descriptor list\n",
    "# of 218 variables from the initial set of 881 variables\n",
    "# Xlist = list(pd.read_csv('descriptor_list.csv').columns)\n",
    "# X[Xlist]"
   ]
  },
  {
   "cell_type": "markdown",
   "metadata": {
    "id": "LNohCdqQY5VZ"
   },
   "source": [
    "# Random Forest Regression Model"
   ]
  },
  {
   "cell_type": "code",
   "execution_count": null,
   "metadata": {
    "id": "EanoyG2eX9cV"
   },
   "outputs": [],
   "source": [
    "from sklearn.ensemble import ExtraTreesRegressor\n",
    "from sklearn.metrics import mean_squared_error, r2_score"
   ]
  },
  {
   "cell_type": "code",
   "execution_count": null,
   "metadata": {
    "colab": {
     "base_uri": "https://localhost:8080/"
    },
    "id": "mLQJ2KLLY_9a",
    "outputId": "e0c22032-02af-40ca-c5c9-536982ec8627"
   },
   "outputs": [],
   "source": [
    "model = ExtraTreesRegressor(n_estimators=500, random_state=42)\n",
    "model.fit(X, Y)\n",
    "\n",
    "r2 = model.score(X, Y)\n",
    "r2"
   ]
  },
  {
   "cell_type": "markdown",
   "metadata": {
    "id": "F5f8KGWjZRSc"
   },
   "source": [
    "## Model Prediction"
   ]
  },
  {
   "cell_type": "code",
   "execution_count": null,
   "metadata": {
    "colab": {
     "base_uri": "https://localhost:8080/"
    },
    "id": "MI3c8LB2ZCYW",
    "outputId": "1bc71664-c9f8-434f-a666-7f78a2d34da6"
   },
   "outputs": [],
   "source": [
    "Y_pred = model.predict(X)\n",
    "Y_pred"
   ]
  },
  {
   "cell_type": "markdown",
   "metadata": {
    "id": "fXv7bcolZqa-"
   },
   "source": [
    "## Model Performance"
   ]
  },
  {
   "cell_type": "code",
   "execution_count": null,
   "metadata": {
    "colab": {
     "base_uri": "https://localhost:8080/"
    },
    "id": "6f13gYleZVKy",
    "outputId": "fd565d7f-26e4-45d1-89f7-55b37687746c"
   },
   "outputs": [],
   "source": [
    "print('Mean squared error (MSE): %.2f'\n",
    "      % mean_squared_error(Y, Y_pred))\n",
    "print('Coefficient of determination (R^2): %.2f'\n",
    "      % r2_score(Y, Y_pred))"
   ]
  },
  {
   "cell_type": "markdown",
   "metadata": {
    "id": "uWvxj1iSaL3n"
   },
   "source": [
    "# Data Visualization (Experimental vs Predicted pIC50 for Training Data)"
   ]
  },
  {
   "cell_type": "code",
   "execution_count": null,
   "metadata": {
    "id": "iPcFF0MjZlh8"
   },
   "outputs": [],
   "source": [
    "import matplotlib.pyplot as plt\n",
    "import numpy as np"
   ]
  },
  {
   "cell_type": "code",
   "execution_count": null,
   "metadata": {
    "colab": {
     "base_uri": "https://localhost:8080/",
     "height": 351
    },
    "id": "QRNyIlGAaQQI",
    "outputId": "1cf12d14-4ba5-49d4-e627-902a049fba2e"
   },
   "outputs": [],
   "source": [
    "plt.figure(figsize=(5,5))\n",
    "plt.scatter(x=Y, y=Y_pred, c=\"#7CAE00\", alpha=0.3)\n",
    "\n",
    "# Add trendline\n",
    "# https://stackoverflow.com/questions/26447191/how-to-add-trendline-in-python-matplotlib-dot-scatter-graphs\n",
    "z = np.polyfit(Y, Y_pred, 1)\n",
    "p = np.poly1d(z)\n",
    "\n",
    "plt.plot(Y,p(Y),\"#F8766D\")\n",
    "plt.ylabel('Predicted pIC50')\n",
    "plt.xlabel('Experimental pIC50')"
   ]
  },
  {
   "cell_type": "markdown",
   "metadata": {
    "id": "YzKTmvZrbFVI"
   },
   "source": [
    "# Save Model as Pickle Object"
   ]
  },
  {
   "cell_type": "code",
   "execution_count": null,
   "metadata": {
    "id": "DzjpPyVyb8XO"
   },
   "outputs": [],
   "source": [
    "import pickle"
   ]
  },
  {
   "cell_type": "code",
   "execution_count": null,
   "metadata": {
    "id": "b2K9ajBaaYUk"
   },
   "outputs": [],
   "source": [
    "pickle.dump(model, open('acetylcholinesterase_model.pkl', 'wb'))"
   ]
  },
  {
   "cell_type": "code",
   "execution_count": null,
   "metadata": {
    "id": "ef4fyvrEb-NC"
   },
   "outputs": [],
   "source": []
  }
 ],
 "metadata": {
  "colab": {
   "collapsed_sections": [],
   "name": "QSAR-web-app.ipynb",
   "provenance": []
  },
  "kernelspec": {
   "display_name": "Python 3",
   "language": "python",
   "name": "python3"
  },
  "language_info": {
   "codemirror_mode": {
    "name": "ipython",
    "version": 3
   },
   "file_extension": ".py",
   "mimetype": "text/x-python",
   "name": "python",
   "nbconvert_exporter": "python",
   "pygments_lexer": "ipython3",
   "version": "3.9.5"
  }
 },
 "nbformat": 4,
 "nbformat_minor": 1
}
