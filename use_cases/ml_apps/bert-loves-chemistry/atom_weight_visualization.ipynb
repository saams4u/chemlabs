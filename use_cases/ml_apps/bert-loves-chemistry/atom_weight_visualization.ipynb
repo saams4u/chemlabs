{
 "cells": [
  {
   "cell_type": "code",
   "execution_count": 1,
   "metadata": {},
   "outputs": [
    {
     "name": "stderr",
     "output_type": "stream",
     "text": [
      "Using backend: pytorch\n"
     ]
    }
   ],
   "source": [
    "import copy\n",
    "import dgl\n",
    "import matplotlib\n",
    "import matplotlib.cm as cm\n",
    "import torch\n",
    "\n",
    "from functools import partial\n",
    "from IPython.display import SVG, display\n",
    "from rdkit import Chem\n",
    "from rdkit.Chem import rdDepictor\n",
    "from rdkit.Chem.Draw import rdMolDraw2D\n",
    "\n",
    "from dgllife.data import PubChemBioAssayAromaticity\n",
    "from dgllife.data import Tox21\n",
    "from dgllife.model import load_pretrained\n",
    "from dgllife.utils.featurizers import BaseAtomFeaturizer, ConcatFeaturizer, atom_type_one_hot, \\\n",
    "    atom_degree_one_hot, atom_formal_charge, atom_num_radical_electrons, \\\n",
    "    atom_hybridization_one_hot, atom_total_num_H_one_hot, BaseBondFeaturizer"
   ]
  },
  {
   "cell_type": "markdown",
   "metadata": {},
   "source": [
    "Prepare the model, dataset and the features."
   ]
  },
  {
   "cell_type": "code",
   "execution_count": 2,
   "metadata": {},
   "outputs": [
    {
     "name": "stdout",
     "output_type": "stream",
     "text": [
      "Loading previously saved dgl graphs...\n",
      "Pretrained model loaded\n"
     ]
    }
   ],
   "source": [
    "# Prepare featurization functions for atoms and bonds\n",
    "def chirality(atom):\n",
    "    try:\n",
    "        return one_hot_encoding(atom.GetProp('_CIPCode'), ['R', 'S']) + \\\n",
    "               [atom.HasProp('_ChiralityPossible')]\n",
    "    except:\n",
    "        return [False, False] + [atom.HasProp('_ChiralityPossible')]\n",
    "\n",
    "atom_featurizer = BaseAtomFeaturizer(featurizer_funcs={'hv': ConcatFeaturizer([\n",
    "                                      partial(atom_type_one_hot, \n",
    "                                              allowable_set=['B', 'C', 'N', 'O', 'F', 'Si', 'P', 'S', 'Cl', \n",
    "                                                             'As', 'Se', 'Br', 'Te', 'I', 'At'],\n",
    "                                              encode_unknown=True),\n",
    "                                      partial(atom_degree_one_hot, allowable_set=list(range(6))),\n",
    "                                      atom_formal_charge, atom_num_radical_electrons,\n",
    "                                      partial(atom_hybridization_one_hot, encode_unknown=True),\n",
    "                                      lambda atom: [0], # A placeholder for aromatic information,\n",
    "                                      atom_total_num_H_one_hot, chirality])})\n",
    "bond_featurizer = BaseBondFeaturizer({'he': lambda bond: [0 for _ in range(10)]})\n",
    "\n",
    "#dataset = PubChemBioAssayAromaticity(node_featurizer=atom_featurizer, edge_featurizer=bond_featurizer)\n",
    "dataset = Tox21(node_featurizer=atom_featurizer, edge_featurizer=bond_featurizer)\n",
    "model = load_pretrained('AttentiveFP_Aromaticity').eval()"
   ]
  },
  {
   "cell_type": "code",
   "execution_count": 3,
   "metadata": {},
   "outputs": [],
   "source": [
    "def draw(mol_id, dataset, timestep):\n",
    "    \"\"\"Visualize the learned atom weights in readout.\n",
    "    \n",
    "    Parameters\n",
    "    ----------\n",
    "    mol_id : int\n",
    "        Index for the molecule to visualize in the dataset.\n",
    "    dataset\n",
    "    timestep : int\n",
    "        As the model has multiple rounds of readout, an additional\n",
    "        index is used to specify the round for the weights.\n",
    "    \"\"\"\n",
    "    # Get the weights from the model.\n",
    "    smiles, g, _, _ = dataset[mol_id]\n",
    "    print(smiles)\n",
    "    g = dgl.batch([g])\n",
    "    atom_feats, bond_feats = g.ndata.pop('hv'), g.edata.pop('he')\n",
    "    _, atom_weights = model(g, atom_feats, bond_feats, get_node_weight=True)\n",
    "    \n",
    "    assert timestep < len(atom_weights), 'Unexpected id for the readout round.'\n",
    "    atom_weights = atom_weights[timestep]\n",
    "    min_value = torch.min(atom_weights)\n",
    "    max_value = torch.max(atom_weights)\n",
    "    atom_weights = (atom_weights - min_value) / (max_value - min_value)\n",
    "    \n",
    "    # Conver the weights to atom colors\n",
    "    norm = matplotlib.colors.Normalize(vmin=0, vmax=1.28)\n",
    "    cmap = cm.get_cmap('Oranges')\n",
    "    plt_colors = cm.ScalarMappable(norm=norm, cmap=cmap)\n",
    "    atom_colors = {i: plt_colors.to_rgba(atom_weights[i].data.item()) for i in range(g.number_of_nodes())}\n",
    "\n",
    "    mol = Chem.MolFromSmiles(smiles)\n",
    "    rdDepictor.Compute2DCoords(mol)\n",
    "    drawer = rdMolDraw2D.MolDraw2DSVG(280,280)\n",
    "    drawer.SetFontSize(1)\n",
    "    op = drawer.drawOptions()\n",
    "    \n",
    "    mol = rdMolDraw2D.PrepareMolForDrawing(mol)\n",
    "    drawer.DrawMolecule(mol,highlightAtoms=range(g.number_of_nodes()),highlightBonds=[],\n",
    "    highlightAtomColors=atom_colors)\n",
    "    drawer.FinishDrawing()\n",
    "    svg = drawer.GetDrawingText()\n",
    "    svg = svg.replace('svg:','')\n",
    "    display(SVG(svg))"
   ]
  },
  {
   "cell_type": "code",
   "execution_count": 18,
   "metadata": {},
   "outputs": [
    {
     "name": "stdout",
     "output_type": "stream",
     "text": [
      "CCOc1ccc(N=Nc2ccc(N)cc2N)cc1\n"
     ]
    },
    {
     "data": {
      "image/svg+xml": [
       "<svg baseProfile=\"full\" height=\"280px\" version=\"1.1\" viewBox=\"0 0 280 280\" width=\"280px\" xml:space=\"preserve\" xmlns=\"http://www.w3.org/2000/svg\" xmlns:rdkit=\"http://www.rdkit.org/xml\" xmlns:xlink=\"http://www.w3.org/1999/xlink\">\n",
       "<!-- END OF HEADER -->\n",
       "<rect height=\"280\" style=\"opacity:1.0;fill:#FFFFFF;stroke:none\" width=\"280\" x=\"0\" y=\"0\"> </rect>\n",
       "<ellipse cx=\"17.0697\" cy=\"142.807\" rx=\"4.34247\" ry=\"4.34247\" style=\"fill:#FFF5EB;fill-rule:evenodd;stroke:#FFF5EB;stroke-width:2px;stroke-linecap:butt;stroke-linejoin:miter;stroke-opacity:1\"/>\n",
       "<ellipse cx=\"38.4571\" cy=\"139.064\" rx=\"4.34247\" ry=\"4.34247\" style=\"fill:#FEE7D0;fill-rule:evenodd;stroke:#FEE7D0;stroke-width:2px;stroke-linecap:butt;stroke-linejoin:miter;stroke-opacity:1\"/>\n",
       "<ellipse cx=\"52.3918\" cy=\"155.715\" rx=\"9.5595\" ry=\"10.2353\" style=\"fill:#FFF5EB;fill-rule:evenodd;stroke:#FFF5EB;stroke-width:2px;stroke-linecap:butt;stroke-linejoin:miter;stroke-opacity:1\"/>\n",
       "<ellipse cx=\"73.7792\" cy=\"151.973\" rx=\"4.34247\" ry=\"4.34247\" style=\"fill:#FFF5EB;fill-rule:evenodd;stroke:#FFF5EB;stroke-width:2px;stroke-linecap:butt;stroke-linejoin:miter;stroke-opacity:1\"/>\n",
       "<ellipse cx=\"81.232\" cy=\"131.58\" rx=\"4.34247\" ry=\"4.34247\" style=\"fill:#CB4301;fill-rule:evenodd;stroke:#CB4301;stroke-width:2px;stroke-linecap:butt;stroke-linejoin:miter;stroke-opacity:1\"/>\n",
       "<ellipse cx=\"102.619\" cy=\"127.838\" rx=\"4.34247\" ry=\"4.34247\" style=\"fill:#FEE6CF;fill-rule:evenodd;stroke:#FEE6CF;stroke-width:2px;stroke-linecap:butt;stroke-linejoin:miter;stroke-opacity:1\"/>\n",
       "<ellipse cx=\"116.554\" cy=\"144.488\" rx=\"4.34247\" ry=\"4.34247\" style=\"fill:#FEEDDB;fill-rule:evenodd;stroke:#FEEDDB;stroke-width:2px;stroke-linecap:butt;stroke-linejoin:miter;stroke-opacity:1\"/>\n",
       "<ellipse cx=\"137.941\" cy=\"140.746\" rx=\"8.87141\" ry=\"10.2353\" style=\"fill:#FEE6CE;fill-rule:evenodd;stroke:#FEE6CE;stroke-width:2px;stroke-linecap:butt;stroke-linejoin:miter;stroke-opacity:1\"/>\n",
       "<ellipse cx=\"151.876\" cy=\"157.397\" rx=\"8.87141\" ry=\"10.2353\" style=\"fill:#FEE9D5;fill-rule:evenodd;stroke:#FEE9D5;stroke-width:2px;stroke-linecap:butt;stroke-linejoin:miter;stroke-opacity:1\"/>\n",
       "<ellipse cx=\"173.263\" cy=\"153.655\" rx=\"4.34247\" ry=\"4.34247\" style=\"fill:#FEE6CF;fill-rule:evenodd;stroke:#FEE6CF;stroke-width:2px;stroke-linecap:butt;stroke-linejoin:miter;stroke-opacity:1\"/>\n",
       "<ellipse cx=\"187.198\" cy=\"170.306\" rx=\"4.34247\" ry=\"4.34247\" style=\"fill:#DC4C03;fill-rule:evenodd;stroke:#DC4C03;stroke-width:2px;stroke-linecap:butt;stroke-linejoin:miter;stroke-opacity:1\"/>\n",
       "<ellipse cx=\"208.585\" cy=\"166.563\" rx=\"4.34247\" ry=\"4.34247\" style=\"fill:#FDD3A9;fill-rule:evenodd;stroke:#FDD3A9;stroke-width:2px;stroke-linecap:butt;stroke-linejoin:miter;stroke-opacity:1\"/>\n",
       "<ellipse cx=\"216.038\" cy=\"146.17\" rx=\"4.34247\" ry=\"4.34247\" style=\"fill:#FEEBD7;fill-rule:evenodd;stroke:#FEEBD7;stroke-width:2px;stroke-linecap:butt;stroke-linejoin:miter;stroke-opacity:1\"/>\n",
       "<ellipse cx=\"246.114\" cy=\"142.428\" rx=\"21.1587\" ry=\"11.2588\" style=\"fill:#FEF4EA;fill-rule:evenodd;stroke:#FEF4EA;stroke-width:2px;stroke-linecap:butt;stroke-linejoin:miter;stroke-opacity:1\"/>\n",
       "<ellipse cx=\"202.104\" cy=\"129.519\" rx=\"4.34247\" ry=\"4.34247\" style=\"fill:#FDDAB7;fill-rule:evenodd;stroke:#FDDAB7;stroke-width:2px;stroke-linecap:butt;stroke-linejoin:miter;stroke-opacity:1\"/>\n",
       "<ellipse cx=\"180.716\" cy=\"133.262\" rx=\"4.34247\" ry=\"4.34247\" style=\"fill:#FEE8D2;fill-rule:evenodd;stroke:#FEE8D2;stroke-width:2px;stroke-linecap:butt;stroke-linejoin:miter;stroke-opacity:1\"/>\n",
       "<ellipse cx=\"160.509\" cy=\"116.611\" rx=\"21.1587\" ry=\"11.2588\" style=\"fill:#FFF5EB;fill-rule:evenodd;stroke:#FFF5EB;stroke-width:2px;stroke-linecap:butt;stroke-linejoin:miter;stroke-opacity:1\"/>\n",
       "<ellipse cx=\"109.101\" cy=\"164.882\" rx=\"4.34247\" ry=\"4.34247\" style=\"fill:#FEE8D2;fill-rule:evenodd;stroke:#FEE8D2;stroke-width:2px;stroke-linecap:butt;stroke-linejoin:miter;stroke-opacity:1\"/>\n",
       "<ellipse cx=\"87.7138\" cy=\"168.624\" rx=\"4.34247\" ry=\"4.34247\" style=\"fill:#FDE1C5;fill-rule:evenodd;stroke:#FDE1C5;stroke-width:2px;stroke-linecap:butt;stroke-linejoin:miter;stroke-opacity:1\"/>\n",
       "<path class=\"bond-0\" d=\"M 17.0697,142.807 L 38.4571,139.064\" style=\"fill:none;fill-rule:evenodd;stroke:#000000;stroke-width:2px;stroke-linecap:butt;stroke-linejoin:miter;stroke-opacity:1\"/>\n",
       "<path class=\"bond-1\" d=\"M 38.4571,139.064 L 42.3961,143.771\" style=\"fill:none;fill-rule:evenodd;stroke:#000000;stroke-width:2px;stroke-linecap:butt;stroke-linejoin:miter;stroke-opacity:1\"/>\n",
       "<path class=\"bond-1\" d=\"M 42.3961,143.771 L 46.335,148.478\" style=\"fill:none;fill-rule:evenodd;stroke:#FF0000;stroke-width:2px;stroke-linecap:butt;stroke-linejoin:miter;stroke-opacity:1\"/>\n",
       "<path class=\"bond-2\" d=\"M 59.1513,154.532 L 66.4653,153.253\" style=\"fill:none;fill-rule:evenodd;stroke:#FF0000;stroke-width:2px;stroke-linecap:butt;stroke-linejoin:miter;stroke-opacity:1\"/>\n",
       "<path class=\"bond-2\" d=\"M 66.4653,153.253 L 73.7792,151.973\" style=\"fill:none;fill-rule:evenodd;stroke:#000000;stroke-width:2px;stroke-linecap:butt;stroke-linejoin:miter;stroke-opacity:1\"/>\n",
       "<path class=\"bond-3\" d=\"M 73.7792,151.973 L 81.232,131.58\" style=\"fill:none;fill-rule:evenodd;stroke:#000000;stroke-width:2px;stroke-linecap:butt;stroke-linejoin:miter;stroke-opacity:1\"/>\n",
       "<path class=\"bond-3\" d=\"M 78.9757,150.405 L 84.1927,136.129\" style=\"fill:none;fill-rule:evenodd;stroke:#000000;stroke-width:2px;stroke-linecap:butt;stroke-linejoin:miter;stroke-opacity:1\"/>\n",
       "<path class=\"bond-18\" d=\"M 73.7792,151.973 L 87.7138,168.624\" style=\"fill:none;fill-rule:evenodd;stroke:#000000;stroke-width:2px;stroke-linecap:butt;stroke-linejoin:miter;stroke-opacity:1\"/>\n",
       "<path class=\"bond-4\" d=\"M 81.232,131.58 L 102.619,127.838\" style=\"fill:none;fill-rule:evenodd;stroke:#000000;stroke-width:2px;stroke-linecap:butt;stroke-linejoin:miter;stroke-opacity:1\"/>\n",
       "<path class=\"bond-5\" d=\"M 102.619,127.838 L 116.554,144.488\" style=\"fill:none;fill-rule:evenodd;stroke:#000000;stroke-width:2px;stroke-linecap:butt;stroke-linejoin:miter;stroke-opacity:1\"/>\n",
       "<path class=\"bond-5\" d=\"M 101.379,133.122 L 111.134,144.778\" style=\"fill:none;fill-rule:evenodd;stroke:#000000;stroke-width:2px;stroke-linecap:butt;stroke-linejoin:miter;stroke-opacity:1\"/>\n",
       "<path class=\"bond-6\" d=\"M 116.554,144.488 L 124.111,143.166\" style=\"fill:none;fill-rule:evenodd;stroke:#000000;stroke-width:2px;stroke-linecap:butt;stroke-linejoin:miter;stroke-opacity:1\"/>\n",
       "<path class=\"bond-6\" d=\"M 124.111,143.166 L 131.668,141.844\" style=\"fill:none;fill-rule:evenodd;stroke:#0000FF;stroke-width:2px;stroke-linecap:butt;stroke-linejoin:miter;stroke-opacity:1\"/>\n",
       "<path class=\"bond-16\" d=\"M 116.554,144.488 L 109.101,164.882\" style=\"fill:none;fill-rule:evenodd;stroke:#000000;stroke-width:2px;stroke-linecap:butt;stroke-linejoin:miter;stroke-opacity:1\"/>\n",
       "<path class=\"bond-7\" d=\"M 143.998,147.984 L 145.819,150.16\" style=\"fill:none;fill-rule:evenodd;stroke:#0000FF;stroke-width:2px;stroke-linecap:butt;stroke-linejoin:miter;stroke-opacity:1\"/>\n",
       "<path class=\"bond-7\" d=\"M 140.941,151.097 L 142.216,152.62\" style=\"fill:none;fill-rule:evenodd;stroke:#0000FF;stroke-width:2px;stroke-linecap:butt;stroke-linejoin:miter;stroke-opacity:1\"/>\n",
       "<path class=\"bond-8\" d=\"M 158.149,156.299 L 165.706,154.977\" style=\"fill:none;fill-rule:evenodd;stroke:#0000FF;stroke-width:2px;stroke-linecap:butt;stroke-linejoin:miter;stroke-opacity:1\"/>\n",
       "<path class=\"bond-8\" d=\"M 165.706,154.977 L 173.263,153.655\" style=\"fill:none;fill-rule:evenodd;stroke:#000000;stroke-width:2px;stroke-linecap:butt;stroke-linejoin:miter;stroke-opacity:1\"/>\n",
       "<path class=\"bond-9\" d=\"M 173.263,153.655 L 187.198,170.306\" style=\"fill:none;fill-rule:evenodd;stroke:#000000;stroke-width:2px;stroke-linecap:butt;stroke-linejoin:miter;stroke-opacity:1\"/>\n",
       "<path class=\"bond-9\" d=\"M 178.684,153.365 L 188.438,165.021\" style=\"fill:none;fill-rule:evenodd;stroke:#000000;stroke-width:2px;stroke-linecap:butt;stroke-linejoin:miter;stroke-opacity:1\"/>\n",
       "<path class=\"bond-19\" d=\"M 173.263,153.655 L 180.716,133.262\" style=\"fill:none;fill-rule:evenodd;stroke:#000000;stroke-width:2px;stroke-linecap:butt;stroke-linejoin:miter;stroke-opacity:1\"/>\n",
       "<path class=\"bond-10\" d=\"M 187.198,170.306 L 208.585,166.563\" style=\"fill:none;fill-rule:evenodd;stroke:#000000;stroke-width:2px;stroke-linecap:butt;stroke-linejoin:miter;stroke-opacity:1\"/>\n",
       "<path class=\"bond-11\" d=\"M 208.585,166.563 L 216.038,146.17\" style=\"fill:none;fill-rule:evenodd;stroke:#000000;stroke-width:2px;stroke-linecap:butt;stroke-linejoin:miter;stroke-opacity:1\"/>\n",
       "<path class=\"bond-11\" d=\"M 205.625,162.014 L 210.842,147.739\" style=\"fill:none;fill-rule:evenodd;stroke:#000000;stroke-width:2px;stroke-linecap:butt;stroke-linejoin:miter;stroke-opacity:1\"/>\n",
       "<path class=\"bond-12\" d=\"M 216.038,146.17 L 223.595,144.848\" style=\"fill:none;fill-rule:evenodd;stroke:#000000;stroke-width:2px;stroke-linecap:butt;stroke-linejoin:miter;stroke-opacity:1\"/>\n",
       "<path class=\"bond-12\" d=\"M 223.595,144.848 L 231.153,143.526\" style=\"fill:none;fill-rule:evenodd;stroke:#0000FF;stroke-width:2px;stroke-linecap:butt;stroke-linejoin:miter;stroke-opacity:1\"/>\n",
       "<path class=\"bond-13\" d=\"M 216.038,146.17 L 202.104,129.519\" style=\"fill:none;fill-rule:evenodd;stroke:#000000;stroke-width:2px;stroke-linecap:butt;stroke-linejoin:miter;stroke-opacity:1\"/>\n",
       "<path class=\"bond-14\" d=\"M 202.104,129.519 L 180.716,133.262\" style=\"fill:none;fill-rule:evenodd;stroke:#000000;stroke-width:2px;stroke-linecap:butt;stroke-linejoin:miter;stroke-opacity:1\"/>\n",
       "<path class=\"bond-14\" d=\"M 199.644,134.358 L 184.673,136.978\" style=\"fill:none;fill-rule:evenodd;stroke:#000000;stroke-width:2px;stroke-linecap:butt;stroke-linejoin:miter;stroke-opacity:1\"/>\n",
       "<path class=\"bond-15\" d=\"M 180.716,133.262 L 177.08,128.917\" style=\"fill:none;fill-rule:evenodd;stroke:#000000;stroke-width:2px;stroke-linecap:butt;stroke-linejoin:miter;stroke-opacity:1\"/>\n",
       "<path class=\"bond-15\" d=\"M 177.08,128.917 L 173.444,124.572\" style=\"fill:none;fill-rule:evenodd;stroke:#0000FF;stroke-width:2px;stroke-linecap:butt;stroke-linejoin:miter;stroke-opacity:1\"/>\n",
       "<path class=\"bond-17\" d=\"M 109.101,164.882 L 87.7138,168.624\" style=\"fill:none;fill-rule:evenodd;stroke:#000000;stroke-width:2px;stroke-linecap:butt;stroke-linejoin:miter;stroke-opacity:1\"/>\n",
       "<path class=\"bond-17\" d=\"M 105.145,161.165 L 90.1734,163.785\" style=\"fill:none;fill-rule:evenodd;stroke:#000000;stroke-width:2px;stroke-linecap:butt;stroke-linejoin:miter;stroke-opacity:1\"/>\n",
       "<text dominant-baseline=\"central\" style=\"font-size:14px;font-style:normal;font-weight:normal;fill-opacity:1;stroke:none;font-family:sans-serif;fill:#FF0000\" text-anchor=\"end\" x=\"57.7039\" y=\"157.886\"><tspan>O</tspan></text>\n",
       "<text dominant-baseline=\"central\" style=\"font-size:14px;font-style:normal;font-weight:normal;fill-opacity:1;stroke:none;font-family:sans-serif;fill:#0000FF\" text-anchor=\"start\" x=\"133.116\" y=\"142.917\"><tspan>N</tspan></text>\n",
       "<text dominant-baseline=\"central\" style=\"font-size:14px;font-style:normal;font-weight:normal;fill-opacity:1;stroke:none;font-family:sans-serif;fill:#0000FF\" text-anchor=\"end\" x=\"156.702\" y=\"159.568\"><tspan>N</tspan></text>\n",
       "<text dominant-baseline=\"central\" style=\"font-size:14px;font-style:normal;font-weight:normal;fill-opacity:1;stroke:none;font-family:sans-serif;fill:#0000FF\" text-anchor=\"start\" x=\"232.745\" y=\"144.816\"><tspan>NH</tspan><tspan style=\"baseline-shift:sub;font-size:10.5px;\">2</tspan><tspan/></text>\n",
       "<text dominant-baseline=\"central\" style=\"font-size:14px;font-style:normal;font-weight:normal;fill-opacity:1;stroke:none;font-family:sans-serif;fill:#0000FF\" text-anchor=\"end\" x=\"171.462\" y=\"118.999\"><tspan>H</tspan><tspan style=\"baseline-shift:sub;font-size:10.5px;\">2</tspan><tspan>N</tspan></text>\n",
       "</svg>"
      ],
      "text/plain": [
       "<IPython.core.display.SVG object>"
      ]
     },
     "metadata": {},
     "output_type": "display_data"
    }
   ],
   "source": [
    "draw(978, dataset, 0)"
   ]
  },
  {
   "cell_type": "code",
   "execution_count": null,
   "metadata": {},
   "outputs": [],
   "source": []
  }
 ],
 "metadata": {
  "kernelspec": {
   "display_name": "Python 3",
   "language": "python",
   "name": "python3"
  },
  "language_info": {
   "codemirror_mode": {
    "name": "ipython",
    "version": 3
   },
   "file_extension": ".py",
   "mimetype": "text/x-python",
   "name": "python",
   "nbconvert_exporter": "python",
   "pygments_lexer": "ipython3",
   "version": "3.7.7"
  }
 },
 "nbformat": 4,
 "nbformat_minor": 2
}
