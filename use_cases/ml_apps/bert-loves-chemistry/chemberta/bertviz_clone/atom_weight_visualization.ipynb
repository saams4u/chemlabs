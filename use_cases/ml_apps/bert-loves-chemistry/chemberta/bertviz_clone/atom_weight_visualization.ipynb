{
 "cells": [
  {
   "cell_type": "code",
   "execution_count": 51,
   "metadata": {},
   "outputs": [],
   "source": [
    "import copy\n",
    "import dgl\n",
    "import matplotlib\n",
    "import matplotlib.cm as cm\n",
    "import torch\n",
    "\n",
    "from functools import partial\n",
    "from IPython.display import SVG, display\n",
    "from rdkit import Chem\n",
    "from rdkit.Chem import rdDepictor\n",
    "from rdkit.Chem.Draw import rdMolDraw2D\n",
    "\n",
    "from dgllife.data import PubChemBioAssayAromaticity\n",
    "from dgllife.data import Tox21\n",
    "from dgllife.model import load_pretrained\n",
    "from dgllife.utils.featurizers import BaseAtomFeaturizer, ConcatFeaturizer, atom_type_one_hot, \\\n",
    "    atom_degree_one_hot, atom_formal_charge, atom_num_radical_electrons, \\\n",
    "    atom_hybridization_one_hot, atom_total_num_H_one_hot, BaseBondFeaturizer"
   ]
  },
  {
   "cell_type": "markdown",
   "metadata": {},
   "source": [
    "Prepare the model, dataset and the features."
   ]
  },
  {
   "cell_type": "code",
   "execution_count": 52,
   "metadata": {},
   "outputs": [
    {
     "name": "stdout",
     "output_type": "stream",
     "text": [
      "Loading previously saved dgl graphs...\n",
      "Pretrained model loaded\n"
     ]
    }
   ],
   "source": [
    "# Prepare featurization functions for atoms and bonds\n",
    "def chirality(atom):\n",
    "    try:\n",
    "        return one_hot_encoding(atom.GetProp('_CIPCode'), ['R', 'S']) + \\\n",
    "               [atom.HasProp('_ChiralityPossible')]\n",
    "    except:\n",
    "        return [False, False] + [atom.HasProp('_ChiralityPossible')]\n",
    "\n",
    "atom_featurizer = BaseAtomFeaturizer(featurizer_funcs={'hv': ConcatFeaturizer([\n",
    "                                      partial(atom_type_one_hot, \n",
    "                                              allowable_set=['B', 'C', 'N', 'O', 'F', 'Si', 'P', 'S', 'Cl', \n",
    "                                                             'As', 'Se', 'Br', 'Te', 'I', 'At'],\n",
    "                                              encode_unknown=True),\n",
    "                                      partial(atom_degree_one_hot, allowable_set=list(range(6))),\n",
    "                                      atom_formal_charge, atom_num_radical_electrons,\n",
    "                                      partial(atom_hybridization_one_hot, encode_unknown=True),\n",
    "                                      lambda atom: [0], # A placeholder for aromatic information,\n",
    "                                      atom_total_num_H_one_hot, chirality])})\n",
    "bond_featurizer = BaseBondFeaturizer({'he': lambda bond: [0 for _ in range(10)]})\n",
    "\n",
    "#dataset = PubChemBioAssayAromaticity(node_featurizer=atom_featurizer, edge_featurizer=bond_featurizer)\n",
    "dataset = Tox21(node_featurizer=atom_featurizer, edge_featurizer=bond_featurizer)\n",
    "model = load_pretrained('AttentiveFP_Aromaticity').eval()"
   ]
  },
  {
   "cell_type": "code",
   "execution_count": 53,
   "metadata": {},
   "outputs": [],
   "source": [
    "def draw(mol_id, dataset, timestep):\n",
    "    \"\"\"Visualize the learned atom weights in readout.\n",
    "    \n",
    "    Parameters\n",
    "    ----------\n",
    "    mol_id : int\n",
    "        Index for the molecule to visualize in the dataset.\n",
    "    dataset\n",
    "    timestep : int\n",
    "        As the model has multiple rounds of readout, an additional\n",
    "        index is used to specify the round for the weights.\n",
    "    \"\"\"\n",
    "    # Get the weights from the model.\n",
    "    smiles, g, _, _ = dataset[mol_id]\n",
    "    print(smiles)\n",
    "    g = dgl.batch([g])\n",
    "    atom_feats, bond_feats = g.ndata.pop('hv'), g.edata.pop('he')\n",
    "    _, atom_weights = model(g, atom_feats, bond_feats, get_node_weight=True)\n",
    "    \n",
    "    assert timestep < len(atom_weights), 'Unexpected id for the readout round.'\n",
    "    atom_weights = atom_weights[timestep]\n",
    "    min_value = torch.min(atom_weights)\n",
    "    max_value = torch.max(atom_weights)\n",
    "    atom_weights = (atom_weights - min_value) / (max_value - min_value)\n",
    "    \n",
    "    # Conver the weights to atom colors\n",
    "    norm = matplotlib.colors.Normalize(vmin=0, vmax=1.28)\n",
    "    cmap = cm.get_cmap('Oranges')\n",
    "    plt_colors = cm.ScalarMappable(norm=norm, cmap=cmap)\n",
    "    atom_colors = {i: plt_colors.to_rgba(atom_weights[i].data.item()) for i in range(g.number_of_nodes())}\n",
    "\n",
    "    mol = Chem.MolFromSmiles(smiles)\n",
    "    rdDepictor.Compute2DCoords(mol)\n",
    "    drawer = rdMolDraw2D.MolDraw2DSVG(280,280)\n",
    "    drawer.SetFontSize(1)\n",
    "    op = drawer.drawOptions()\n",
    "    \n",
    "    mol = rdMolDraw2D.PrepareMolForDrawing(mol)\n",
    "    drawer.DrawMolecule(mol,highlightAtoms=range(g.number_of_nodes()),highlightBonds=[],\n",
    "    highlightAtomColors=atom_colors)\n",
    "    drawer.FinishDrawing()\n",
    "    svg = drawer.GetDrawingText()\n",
    "    svg = svg.replace('svg:','')\n",
    "    display(SVG(svg))"
   ]
  },
  {
   "cell_type": "code",
   "execution_count": 54,
   "metadata": {},
   "outputs": [
    {
     "name": "stdout",
     "output_type": "stream",
     "text": [
      "Cn1cc(C(=O)[C@@H]2CCc3[nH]cnc3C2)c2ccccc21\n"
     ]
    },
    {
     "data": {
      "image/svg+xml": [
       "<svg baseProfile=\"full\" height=\"280px\" version=\"1.1\" viewBox=\"0 0 280 280\" width=\"280px\" xml:space=\"preserve\" xmlns=\"http://www.w3.org/2000/svg\" xmlns:rdkit=\"http://www.rdkit.org/xml\" xmlns:xlink=\"http://www.w3.org/1999/xlink\">\n",
       "<!-- END OF HEADER -->\n",
       "<rect height=\"280\" style=\"opacity:1.0;fill:#FFFFFF;stroke:none\" width=\"280\" x=\"0\" y=\"0\"> </rect>\n",
       "<ellipse cx=\"211.399\" cy=\"79.9721\" rx=\"5.78653\" ry=\"5.78653\" style=\"fill:#FEF4EA;fill-rule:evenodd;stroke:#FEF4EA;stroke-width:2px;stroke-linecap:butt;stroke-linejoin:miter;stroke-opacity:1\"/>\n",
       "<ellipse cx=\"202.969\" cy=\"107.649\" rx=\"11.8215\" ry=\"13.639\" style=\"fill:#FB8736;fill-rule:evenodd;stroke:#FB8736;stroke-width:2px;stroke-linecap:butt;stroke-linejoin:miter;stroke-opacity:1\"/>\n",
       "<ellipse cx=\"175.623\" cy=\"117.098\" rx=\"5.78653\" ry=\"5.78653\" style=\"fill:#FEF4E9;fill-rule:evenodd;stroke:#FEF4E9;stroke-width:2px;stroke-linecap:butt;stroke-linejoin:miter;stroke-opacity:1\"/>\n",
       "<ellipse cx=\"176.158\" cy=\"146.026\" rx=\"5.78653\" ry=\"5.78653\" style=\"fill:#FDDCBB;fill-rule:evenodd;stroke:#FDDCBB;stroke-width:2px;stroke-linecap:butt;stroke-linejoin:miter;stroke-opacity:1\"/>\n",
       "<ellipse cx=\"153.07\" cy=\"163.462\" rx=\"5.78653\" ry=\"5.78653\" style=\"fill:#F67824;fill-rule:evenodd;stroke:#F67824;stroke-width:2px;stroke-linecap:butt;stroke-linejoin:miter;stroke-opacity:1\"/>\n",
       "<ellipse cx=\"156.627\" cy=\"192.175\" rx=\"12.7385\" ry=\"13.639\" style=\"fill:#E85C0C;fill-rule:evenodd;stroke:#E85C0C;stroke-width:2px;stroke-linecap:butt;stroke-linejoin:miter;stroke-opacity:1\"/>\n",
       "<ellipse cx=\"126.426\" cy=\"152.186\" rx=\"5.78653\" ry=\"5.78653\" style=\"fill:#FDDCBB;fill-rule:evenodd;stroke:#FDDCBB;stroke-width:2px;stroke-linecap:butt;stroke-linejoin:miter;stroke-opacity:1\"/>\n",
       "<ellipse cx=\"122.869\" cy=\"123.472\" rx=\"5.78653\" ry=\"5.78653\" style=\"fill:#FDC793;fill-rule:evenodd;stroke:#FDC793;stroke-width:2px;stroke-linecap:butt;stroke-linejoin:miter;stroke-opacity:1\"/>\n",
       "<ellipse cx=\"96.2246\" cy=\"112.196\" rx=\"5.78653\" ry=\"5.78653\" style=\"fill:#FEF3E7;fill-rule:evenodd;stroke:#FEF3E7;stroke-width:2px;stroke-linecap:butt;stroke-linejoin:miter;stroke-opacity:1\"/>\n",
       "<ellipse cx=\"73.1364\" cy=\"129.632\" rx=\"5.78653\" ry=\"5.78653\" style=\"fill:#F3701B;fill-rule:evenodd;stroke:#F3701B;stroke-width:2px;stroke-linecap:butt;stroke-linejoin:miter;stroke-opacity:1\"/>\n",
       "<ellipse cx=\"36.3704\" cy=\"124.142\" rx=\"23.6431\" ry=\"13.639\" style=\"fill:#FEE7D0;fill-rule:evenodd;stroke:#FEE7D0;stroke-width:2px;stroke-linecap:butt;stroke-linejoin:miter;stroke-opacity:1\"/>\n",
       "<ellipse cx=\"30.7294\" cy=\"149.462\" rx=\"5.78653\" ry=\"5.78653\" style=\"fill:#FFF5EB;fill-rule:evenodd;stroke:#FFF5EB;stroke-width:2px;stroke-linecap:butt;stroke-linejoin:miter;stroke-opacity:1\"/>\n",
       "<ellipse cx=\"50.4838\" cy=\"170.601\" rx=\"11.8215\" ry=\"13.639\" style=\"fill:#FDBB80;fill-rule:evenodd;stroke:#FDBB80;stroke-width:2px;stroke-linecap:butt;stroke-linejoin:miter;stroke-opacity:1\"/>\n",
       "<ellipse cx=\"76.6928\" cy=\"158.345\" rx=\"5.78653\" ry=\"5.78653\" style=\"fill:#FEF3E7;fill-rule:evenodd;stroke:#FEF3E7;stroke-width:2px;stroke-linecap:butt;stroke-linejoin:miter;stroke-opacity:1\"/>\n",
       "<ellipse cx=\"103.337\" cy=\"169.622\" rx=\"5.78653\" ry=\"5.78653\" style=\"fill:#FDD8B3;fill-rule:evenodd;stroke:#FDD8B3;stroke-width:2px;stroke-linecap:butt;stroke-linejoin:miter;stroke-opacity:1\"/>\n",
       "<ellipse cx=\"203.836\" cy=\"154.455\" rx=\"5.78653\" ry=\"5.78653\" style=\"fill:#FDCA98;fill-rule:evenodd;stroke:#FDCA98;stroke-width:2px;stroke-linecap:butt;stroke-linejoin:miter;stroke-opacity:1\"/>\n",
       "<ellipse cx=\"216.091\" cy=\"180.664\" rx=\"5.78653\" ry=\"5.78653\" style=\"fill:#FFF5EB;fill-rule:evenodd;stroke:#FFF5EB;stroke-width:2px;stroke-linecap:butt;stroke-linejoin:miter;stroke-opacity:1\"/>\n",
       "<ellipse cx=\"244.916\" cy=\"183.156\" rx=\"5.78653\" ry=\"5.78653\" style=\"fill:#FDD7B0;fill-rule:evenodd;stroke:#FDD7B0;stroke-width:2px;stroke-linecap:butt;stroke-linejoin:miter;stroke-opacity:1\"/>\n",
       "<ellipse cx=\"261.486\" cy=\"159.438\" rx=\"5.78653\" ry=\"5.78653\" style=\"fill:#CB4301;fill-rule:evenodd;stroke:#CB4301;stroke-width:2px;stroke-linecap:butt;stroke-linejoin:miter;stroke-opacity:1\"/>\n",
       "<ellipse cx=\"249.231\" cy=\"133.229\" rx=\"5.78653\" ry=\"5.78653\" style=\"fill:#FEF1E4;fill-rule:evenodd;stroke:#FEF1E4;stroke-width:2px;stroke-linecap:butt;stroke-linejoin:miter;stroke-opacity:1\"/>\n",
       "<ellipse cx=\"220.406\" cy=\"130.738\" rx=\"5.78653\" ry=\"5.78653\" style=\"fill:#FDCA98;fill-rule:evenodd;stroke:#FDCA98;stroke-width:2px;stroke-linecap:butt;stroke-linejoin:miter;stroke-opacity:1\"/>\n",
       "<path class=\"bond-0\" d=\"M 211.399,79.9721 L 208.653,88.9887\" style=\"fill:none;fill-rule:evenodd;stroke:#000000;stroke-width:2px;stroke-linecap:butt;stroke-linejoin:miter;stroke-opacity:1\"/>\n",
       "<path class=\"bond-0\" d=\"M 208.653,88.9887 L 205.907,98.0052\" style=\"fill:none;fill-rule:evenodd;stroke:#0000FF;stroke-width:2px;stroke-linecap:butt;stroke-linejoin:miter;stroke-opacity:1\"/>\n",
       "<path class=\"bond-1\" d=\"M 194.61,110.538 L 185.116,113.818\" style=\"fill:none;fill-rule:evenodd;stroke:#0000FF;stroke-width:2px;stroke-linecap:butt;stroke-linejoin:miter;stroke-opacity:1\"/>\n",
       "<path class=\"bond-1\" d=\"M 185.116,113.818 L 175.623,117.098\" style=\"fill:none;fill-rule:evenodd;stroke:#000000;stroke-width:2px;stroke-linecap:butt;stroke-linejoin:miter;stroke-opacity:1\"/>\n",
       "<path class=\"bond-20\" d=\"M 210.253,117.294 L 215.329,124.016\" style=\"fill:none;fill-rule:evenodd;stroke:#0000FF;stroke-width:2px;stroke-linecap:butt;stroke-linejoin:miter;stroke-opacity:1\"/>\n",
       "<path class=\"bond-20\" d=\"M 215.329,124.016 L 220.406,130.738\" style=\"fill:none;fill-rule:evenodd;stroke:#000000;stroke-width:2px;stroke-linecap:butt;stroke-linejoin:miter;stroke-opacity:1\"/>\n",
       "<path class=\"bond-2\" d=\"M 175.623,117.098 L 176.158,146.026\" style=\"fill:none;fill-rule:evenodd;stroke:#000000;stroke-width:2px;stroke-linecap:butt;stroke-linejoin:miter;stroke-opacity:1\"/>\n",
       "<path class=\"bond-2\" d=\"M 181.489,121.33 L 181.864,141.579\" style=\"fill:none;fill-rule:evenodd;stroke:#000000;stroke-width:2px;stroke-linecap:butt;stroke-linejoin:miter;stroke-opacity:1\"/>\n",
       "<path class=\"bond-3\" d=\"M 176.158,146.026 L 153.07,163.462\" style=\"fill:none;fill-rule:evenodd;stroke:#000000;stroke-width:2px;stroke-linecap:butt;stroke-linejoin:miter;stroke-opacity:1\"/>\n",
       "<path class=\"bond-14\" d=\"M 176.158,146.026 L 203.836,154.455\" style=\"fill:none;fill-rule:evenodd;stroke:#000000;stroke-width:2px;stroke-linecap:butt;stroke-linejoin:miter;stroke-opacity:1\"/>\n",
       "<path class=\"bond-4\" d=\"M 150.199,163.818 L 151.38,173.352\" style=\"fill:none;fill-rule:evenodd;stroke:#000000;stroke-width:2px;stroke-linecap:butt;stroke-linejoin:miter;stroke-opacity:1\"/>\n",
       "<path class=\"bond-4\" d=\"M 151.38,173.352 L 152.561,182.887\" style=\"fill:none;fill-rule:evenodd;stroke:#FF0000;stroke-width:2px;stroke-linecap:butt;stroke-linejoin:miter;stroke-opacity:1\"/>\n",
       "<path class=\"bond-4\" d=\"M 155.942,163.107 L 157.122,172.641\" style=\"fill:none;fill-rule:evenodd;stroke:#000000;stroke-width:2px;stroke-linecap:butt;stroke-linejoin:miter;stroke-opacity:1\"/>\n",
       "<path class=\"bond-4\" d=\"M 157.122,172.641 L 158.303,182.176\" style=\"fill:none;fill-rule:evenodd;stroke:#FF0000;stroke-width:2px;stroke-linecap:butt;stroke-linejoin:miter;stroke-opacity:1\"/>\n",
       "<path class=\"bond-5\" d=\"M 126.426,152.186 L 151.943,166.127 L 154.198,160.798 Z\" style=\"fill:#000000;fill-rule:evenodd;fill-opacity=1;stroke:#000000;stroke-width:2px;stroke-linecap:butt;stroke-linejoin:miter;stroke-opacity:1;\"/>\n",
       "<path class=\"bond-6\" d=\"M 126.426,152.186 L 122.869,123.472\" style=\"fill:none;fill-rule:evenodd;stroke:#000000;stroke-width:2px;stroke-linecap:butt;stroke-linejoin:miter;stroke-opacity:1\"/>\n",
       "<path class=\"bond-21\" d=\"M 126.426,152.186 L 103.337,169.622\" style=\"fill:none;fill-rule:evenodd;stroke:#000000;stroke-width:2px;stroke-linecap:butt;stroke-linejoin:miter;stroke-opacity:1\"/>\n",
       "<path class=\"bond-7\" d=\"M 122.869,123.472 L 96.2246,112.196\" style=\"fill:none;fill-rule:evenodd;stroke:#000000;stroke-width:2px;stroke-linecap:butt;stroke-linejoin:miter;stroke-opacity:1\"/>\n",
       "<path class=\"bond-8\" d=\"M 96.2246,112.196 L 73.1364,129.632\" style=\"fill:none;fill-rule:evenodd;stroke:#000000;stroke-width:2px;stroke-linecap:butt;stroke-linejoin:miter;stroke-opacity:1\"/>\n",
       "<path class=\"bond-9\" d=\"M 73.1364,129.632 L 63.1125,127.695\" style=\"fill:none;fill-rule:evenodd;stroke:#000000;stroke-width:2px;stroke-linecap:butt;stroke-linejoin:miter;stroke-opacity:1\"/>\n",
       "<path class=\"bond-9\" d=\"M 63.1125,127.695 L 53.0886,125.757\" style=\"fill:none;fill-rule:evenodd;stroke:#0000FF;stroke-width:2px;stroke-linecap:butt;stroke-linejoin:miter;stroke-opacity:1\"/>\n",
       "<path class=\"bond-23\" d=\"M 73.1364,129.632 L 76.6928,158.345\" style=\"fill:none;fill-rule:evenodd;stroke:#000000;stroke-width:2px;stroke-linecap:butt;stroke-linejoin:miter;stroke-opacity:1\"/>\n",
       "<path class=\"bond-23\" d=\"M 67.9272,134.65 L 70.4167,154.75\" style=\"fill:none;fill-rule:evenodd;stroke:#000000;stroke-width:2px;stroke-linecap:butt;stroke-linejoin:miter;stroke-opacity:1\"/>\n",
       "<path class=\"bond-10\" d=\"M 39.3969,133.786 L 35.0632,141.624\" style=\"fill:none;fill-rule:evenodd;stroke:#0000FF;stroke-width:2px;stroke-linecap:butt;stroke-linejoin:miter;stroke-opacity:1\"/>\n",
       "<path class=\"bond-10\" d=\"M 35.0632,141.624 L 30.7294,149.462\" style=\"fill:none;fill-rule:evenodd;stroke:#000000;stroke-width:2px;stroke-linecap:butt;stroke-linejoin:miter;stroke-opacity:1\"/>\n",
       "<path class=\"bond-11\" d=\"M 30.7294,149.462 L 36.4271,155.559\" style=\"fill:none;fill-rule:evenodd;stroke:#000000;stroke-width:2px;stroke-linecap:butt;stroke-linejoin:miter;stroke-opacity:1\"/>\n",
       "<path class=\"bond-11\" d=\"M 36.4271,155.559 L 42.1248,161.656\" style=\"fill:none;fill-rule:evenodd;stroke:#0000FF;stroke-width:2px;stroke-linecap:butt;stroke-linejoin:miter;stroke-opacity:1\"/>\n",
       "<path class=\"bond-11\" d=\"M 36.6665,147.34 L 40.6549,151.608\" style=\"fill:none;fill-rule:evenodd;stroke:#000000;stroke-width:2px;stroke-linecap:butt;stroke-linejoin:miter;stroke-opacity:1\"/>\n",
       "<path class=\"bond-11\" d=\"M 40.6549,151.608 L 44.6433,155.876\" style=\"fill:none;fill-rule:evenodd;stroke:#0000FF;stroke-width:2px;stroke-linecap:butt;stroke-linejoin:miter;stroke-opacity:1\"/>\n",
       "<path class=\"bond-12\" d=\"M 58.8429,166.692 L 67.7679,162.519\" style=\"fill:none;fill-rule:evenodd;stroke:#0000FF;stroke-width:2px;stroke-linecap:butt;stroke-linejoin:miter;stroke-opacity:1\"/>\n",
       "<path class=\"bond-12\" d=\"M 67.7679,162.519 L 76.6928,158.345\" style=\"fill:none;fill-rule:evenodd;stroke:#000000;stroke-width:2px;stroke-linecap:butt;stroke-linejoin:miter;stroke-opacity:1\"/>\n",
       "<path class=\"bond-13\" d=\"M 76.6928,158.345 L 103.337,169.622\" style=\"fill:none;fill-rule:evenodd;stroke:#000000;stroke-width:2px;stroke-linecap:butt;stroke-linejoin:miter;stroke-opacity:1\"/>\n",
       "<path class=\"bond-15\" d=\"M 203.836,154.455 L 216.091,180.664\" style=\"fill:none;fill-rule:evenodd;stroke:#000000;stroke-width:2px;stroke-linecap:butt;stroke-linejoin:miter;stroke-opacity:1\"/>\n",
       "<path class=\"bond-15\" d=\"M 210.916,155.936 L 219.494,174.282\" style=\"fill:none;fill-rule:evenodd;stroke:#000000;stroke-width:2px;stroke-linecap:butt;stroke-linejoin:miter;stroke-opacity:1\"/>\n",
       "<path class=\"bond-22\" d=\"M 203.836,154.455 L 220.406,130.738\" style=\"fill:none;fill-rule:evenodd;stroke:#000000;stroke-width:2px;stroke-linecap:butt;stroke-linejoin:miter;stroke-opacity:1\"/>\n",
       "<path class=\"bond-16\" d=\"M 216.091,180.664 L 244.916,183.156\" style=\"fill:none;fill-rule:evenodd;stroke:#000000;stroke-width:2px;stroke-linecap:butt;stroke-linejoin:miter;stroke-opacity:1\"/>\n",
       "<path class=\"bond-17\" d=\"M 244.916,183.156 L 261.486,159.438\" style=\"fill:none;fill-rule:evenodd;stroke:#000000;stroke-width:2px;stroke-linecap:butt;stroke-linejoin:miter;stroke-opacity:1\"/>\n",
       "<path class=\"bond-17\" d=\"M 242.658,176.284 L 254.257,159.681\" style=\"fill:none;fill-rule:evenodd;stroke:#000000;stroke-width:2px;stroke-linecap:butt;stroke-linejoin:miter;stroke-opacity:1\"/>\n",
       "<path class=\"bond-18\" d=\"M 261.486,159.438 L 249.231,133.229\" style=\"fill:none;fill-rule:evenodd;stroke:#000000;stroke-width:2px;stroke-linecap:butt;stroke-linejoin:miter;stroke-opacity:1\"/>\n",
       "<path class=\"bond-19\" d=\"M 249.231,133.229 L 220.406,130.738\" style=\"fill:none;fill-rule:evenodd;stroke:#000000;stroke-width:2px;stroke-linecap:butt;stroke-linejoin:miter;stroke-opacity:1\"/>\n",
       "<path class=\"bond-19\" d=\"M 244.409,138.62 L 224.231,136.876\" style=\"fill:none;fill-rule:evenodd;stroke:#000000;stroke-width:2px;stroke-linecap:butt;stroke-linejoin:miter;stroke-opacity:1\"/>\n",
       "<text dominant-baseline=\"central\" style=\"font-size:19px;font-style:normal;font-weight:normal;fill-opacity:1;stroke:none;font-family:sans-serif;fill:#0000FF\" text-anchor=\"middle\" x=\"202.969\" y=\"110.543\"><tspan>N</tspan></text>\n",
       "<text dominant-baseline=\"central\" style=\"font-size:19px;font-style:normal;font-weight:normal;fill-opacity:1;stroke:none;font-family:sans-serif;fill:#FF0000\" text-anchor=\"start\" x=\"149.548\" y=\"195.069\"><tspan>O</tspan></text>\n",
       "<text dominant-baseline=\"central\" style=\"font-size:19px;font-style:normal;font-weight:normal;fill-opacity:1;stroke:none;font-family:sans-serif;fill:#0000FF\" text-anchor=\"end\" x=\"51.1597\" y=\"127.035\"><tspan>HN</tspan></text>\n",
       "<text dominant-baseline=\"central\" style=\"font-size:19px;font-style:normal;font-weight:normal;fill-opacity:1;stroke:none;font-family:sans-serif;fill:#0000FF\" text-anchor=\"middle\" x=\"50.4838\" y=\"173.494\"><tspan>N</tspan></text>\n",
       "</svg>"
      ],
      "text/plain": [
       "<IPython.core.display.SVG object>"
      ]
     },
     "metadata": {},
     "output_type": "display_data"
    }
   ],
   "source": [
    "draw(5834, dataset, 0)"
   ]
  },
  {
   "cell_type": "code",
   "execution_count": null,
   "metadata": {},
   "outputs": [],
   "source": []
  }
 ],
 "metadata": {
  "kernelspec": {
   "display_name": "Python 3",
   "language": "python",
   "name": "python3"
  },
  "language_info": {
   "codemirror_mode": {
    "name": "ipython",
    "version": 3
   },
   "file_extension": ".py",
   "mimetype": "text/x-python",
   "name": "python",
   "nbconvert_exporter": "python",
   "pygments_lexer": "ipython3",
   "version": "3.7.7"
  }
 },
 "nbformat": 4,
 "nbformat_minor": 2
}
