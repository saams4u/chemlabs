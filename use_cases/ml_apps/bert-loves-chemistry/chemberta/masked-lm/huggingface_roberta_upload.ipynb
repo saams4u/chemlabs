{
  "nbformat": 4,
  "nbformat_minor": 0,
  "metadata": {
    "colab": {
      "name": "huggingface_roberta_upload.ipynb",
      "provenance": [],
      "toc_visible": true,
      "mount_file_id": "15bLUrc6G03_YoH5oXfM4pPcEZEbriKJ_",
      "authorship_tag": "ABX9TyPZuGWXyzaoRTWYtfU5KK70",
      "include_colab_link": true
    },
    "kernelspec": {
      "name": "python3",
      "display_name": "Python 3"
    }
  },
  "cells": [
    {
      "cell_type": "markdown",
      "metadata": {
        "id": "view-in-github",
        "colab_type": "text"
      },
      "source": [
        "<a href=\"https://colab.research.google.com/github/seyonechithrananda/bert-loves-chemistry/blob/master/huggingface_roberta_upload.ipynb\" target=\"_parent\"><img src=\"https://colab.research.google.com/assets/colab-badge.svg\" alt=\"Open In Colab\"/></a>"
      ]
    },
    {
      "cell_type": "markdown",
      "metadata": {
        "id": "vuvrNaTeswDc",
        "colab_type": "text"
      },
      "source": [
        "# Uploading Models to HuggingFace"
      ]
    },
    {
      "cell_type": "code",
      "metadata": {
        "id": "6tgcdMiks3Ec",
        "colab_type": "code",
        "colab": {
          "base_uri": "https://localhost:8080/",
          "height": 728
        },
        "outputId": "27d89117-0264-4956-a126-53349a054fcb"
      },
      "source": [
        "!pip uninstall -y tensorflow\n",
        "!pip install transformers"
      ],
      "execution_count": 1,
      "outputs": [
        {
          "output_type": "stream",
          "text": [
            "Uninstalling tensorflow-2.2.0rc2:\n",
            "  Successfully uninstalled tensorflow-2.2.0rc2\n",
            "Collecting transformers\n",
            "\u001b[?25l  Downloading https://files.pythonhosted.org/packages/a3/78/92cedda05552398352ed9784908b834ee32a0bd071a9b32de287327370b7/transformers-2.8.0-py3-none-any.whl (563kB)\n",
            "\u001b[K     |████████████████████████████████| 573kB 2.7MB/s \n",
            "\u001b[?25hCollecting sentencepiece\n",
            "\u001b[?25l  Downloading https://files.pythonhosted.org/packages/74/f4/2d5214cbf13d06e7cb2c20d84115ca25b53ea76fa1f0ade0e3c9749de214/sentencepiece-0.1.85-cp36-cp36m-manylinux1_x86_64.whl (1.0MB)\n",
            "\u001b[K     |████████████████████████████████| 1.0MB 12.2MB/s \n",
            "\u001b[?25hRequirement already satisfied: filelock in /usr/local/lib/python3.6/dist-packages (from transformers) (3.0.12)\n",
            "Requirement already satisfied: requests in /usr/local/lib/python3.6/dist-packages (from transformers) (2.21.0)\n",
            "Requirement already satisfied: tqdm>=4.27 in /usr/local/lib/python3.6/dist-packages (from transformers) (4.38.0)\n",
            "Requirement already satisfied: dataclasses; python_version < \"3.7\" in /usr/local/lib/python3.6/dist-packages (from transformers) (0.7)\n",
            "Collecting sacremoses\n",
            "\u001b[?25l  Downloading https://files.pythonhosted.org/packages/a6/b4/7a41d630547a4afd58143597d5a49e07bfd4c42914d8335b2a5657efc14b/sacremoses-0.0.38.tar.gz (860kB)\n",
            "\u001b[K     |████████████████████████████████| 870kB 19.4MB/s \n",
            "\u001b[?25hRequirement already satisfied: regex!=2019.12.17 in /usr/local/lib/python3.6/dist-packages (from transformers) (2019.12.20)\n",
            "Collecting tokenizers==0.5.2\n",
            "\u001b[?25l  Downloading https://files.pythonhosted.org/packages/d1/3f/73c881ea4723e43c1e9acf317cf407fab3a278daab3a69c98dcac511c04f/tokenizers-0.5.2-cp36-cp36m-manylinux1_x86_64.whl (3.7MB)\n",
            "\u001b[K     |████████████████████████████████| 3.7MB 14.8MB/s \n",
            "\u001b[?25hRequirement already satisfied: boto3 in /usr/local/lib/python3.6/dist-packages (from transformers) (1.12.34)\n",
            "Requirement already satisfied: numpy in /usr/local/lib/python3.6/dist-packages (from transformers) (1.18.2)\n",
            "Requirement already satisfied: chardet<3.1.0,>=3.0.2 in /usr/local/lib/python3.6/dist-packages (from requests->transformers) (3.0.4)\n",
            "Requirement already satisfied: certifi>=2017.4.17 in /usr/local/lib/python3.6/dist-packages (from requests->transformers) (2019.11.28)\n",
            "Requirement already satisfied: urllib3<1.25,>=1.21.1 in /usr/local/lib/python3.6/dist-packages (from requests->transformers) (1.24.3)\n",
            "Requirement already satisfied: idna<2.9,>=2.5 in /usr/local/lib/python3.6/dist-packages (from requests->transformers) (2.8)\n",
            "Requirement already satisfied: six in /usr/local/lib/python3.6/dist-packages (from sacremoses->transformers) (1.12.0)\n",
            "Requirement already satisfied: click in /usr/local/lib/python3.6/dist-packages (from sacremoses->transformers) (7.1.1)\n",
            "Requirement already satisfied: joblib in /usr/local/lib/python3.6/dist-packages (from sacremoses->transformers) (0.14.1)\n",
            "Requirement already satisfied: s3transfer<0.4.0,>=0.3.0 in /usr/local/lib/python3.6/dist-packages (from boto3->transformers) (0.3.3)\n",
            "Requirement already satisfied: jmespath<1.0.0,>=0.7.1 in /usr/local/lib/python3.6/dist-packages (from boto3->transformers) (0.9.5)\n",
            "Requirement already satisfied: botocore<1.16.0,>=1.15.34 in /usr/local/lib/python3.6/dist-packages (from boto3->transformers) (1.15.34)\n",
            "Requirement already satisfied: docutils<0.16,>=0.10 in /usr/local/lib/python3.6/dist-packages (from botocore<1.16.0,>=1.15.34->boto3->transformers) (0.15.2)\n",
            "Requirement already satisfied: python-dateutil<3.0.0,>=2.1 in /usr/local/lib/python3.6/dist-packages (from botocore<1.16.0,>=1.15.34->boto3->transformers) (2.8.1)\n",
            "Building wheels for collected packages: sacremoses\n",
            "  Building wheel for sacremoses (setup.py) ... \u001b[?25l\u001b[?25hdone\n",
            "  Created wheel for sacremoses: filename=sacremoses-0.0.38-cp36-none-any.whl size=884628 sha256=47e4ca54b5592033ed91a58826238b036779090b8083d80c465760db6c4d265f\n",
            "  Stored in directory: /root/.cache/pip/wheels/6d/ec/1a/21b8912e35e02741306f35f66c785f3afe94de754a0eaf1422\n",
            "Successfully built sacremoses\n",
            "Installing collected packages: sentencepiece, sacremoses, tokenizers, transformers\n",
            "Successfully installed sacremoses-0.0.38 sentencepiece-0.1.85 tokenizers-0.5.2 transformers-2.8.0\n"
          ],
          "name": "stdout"
        }
      ]
    },
    {
      "cell_type": "code",
      "metadata": {
        "id": "_oevMqz8sqHD",
        "colab_type": "code",
        "colab": {
          "base_uri": "https://localhost:8080/",
          "height": 86
        },
        "outputId": "41723b56-f336-48bd-d712-4100b38b7273"
      },
      "source": [
        "from transformers import AutoModelWithLMHead, AutoTokenizer\n",
        "import os\n",
        "\n",
        "\n",
        "directory = \"/content/drive/My Drive/Project De Novo/output_dir/checkpoint-34000\"\n",
        "\n",
        "model = AutoModelWithLMHead.from_pretrained(directory)\n",
        "tokenizer = AutoTokenizer.from_pretrained(directory)\n",
        "out = \"ChemBERTa-zinc-base-v1\"\n",
        "os.makedirs(out, exist_ok=True)\n",
        "model.save_pretrained(out)\n",
        "tokenizer.save_pretrained(out)"
      ],
      "execution_count": 3,
      "outputs": [
        {
          "output_type": "execute_result",
          "data": {
            "text/plain": [
              "('ChemBERTa-zinc-base-v1/vocab.json',\n",
              " 'ChemBERTa-zinc-base-v1/merges.txt',\n",
              " 'ChemBERTa-zinc-base-v1/special_tokens_map.json',\n",
              " 'ChemBERTa-zinc-base-v1/added_tokens.json')"
            ]
          },
          "metadata": {
            "tags": []
          },
          "execution_count": 3
        }
      ]
    },
    {
      "cell_type": "code",
      "metadata": {
        "id": "IHHYFF3evcNz",
        "colab_type": "code",
        "colab": {}
      },
      "source": [
        "!transformers-cli login\n"
      ],
      "execution_count": 0,
      "outputs": []
    },
    {
      "cell_type": "code",
      "metadata": {
        "id": "5MhaEdietm2C",
        "colab_type": "code",
        "colab": {
          "base_uri": "https://localhost:8080/",
          "height": 383
        },
        "outputId": "8cd53c91-4f40-4276-a16e-d34e242a51fe"
      },
      "source": [
        "!transformers-cli upload ./ChemBERTa-zinc-base-v1/\n"
      ],
      "execution_count": 6,
      "outputs": [
        {
          "output_type": "stream",
          "text": [
            "About to upload file \u001b[1m/content/ChemBERTa-zinc-base-v1/config.json\u001b[0m to S3 under filename \u001b[1mChemBERTa-zinc-base-v1/config.json\u001b[0m and namespace \u001b[1mseyonec\u001b[0m\n",
            "About to upload file \u001b[1m/content/ChemBERTa-zinc-base-v1/merges.txt\u001b[0m to S3 under filename \u001b[1mChemBERTa-zinc-base-v1/merges.txt\u001b[0m and namespace \u001b[1mseyonec\u001b[0m\n",
            "About to upload file \u001b[1m/content/ChemBERTa-zinc-base-v1/special_tokens_map.json\u001b[0m to S3 under filename \u001b[1mChemBERTa-zinc-base-v1/special_tokens_map.json\u001b[0m and namespace \u001b[1mseyonec\u001b[0m\n",
            "About to upload file \u001b[1m/content/ChemBERTa-zinc-base-v1/vocab.json\u001b[0m to S3 under filename \u001b[1mChemBERTa-zinc-base-v1/vocab.json\u001b[0m and namespace \u001b[1mseyonec\u001b[0m\n",
            "About to upload file \u001b[1m/content/ChemBERTa-zinc-base-v1/tokenizer_config.json\u001b[0m to S3 under filename \u001b[1mChemBERTa-zinc-base-v1/tokenizer_config.json\u001b[0m and namespace \u001b[1mseyonec\u001b[0m\n",
            "About to upload file \u001b[1m/content/ChemBERTa-zinc-base-v1/pytorch_model.bin\u001b[0m to S3 under filename \u001b[1mChemBERTa-zinc-base-v1/pytorch_model.bin\u001b[0m and namespace \u001b[1mseyonec\u001b[0m\n",
            "Proceed? [Y/n] Y\n",
            "\u001b[1mUploading... This might take a while if files are large\u001b[0m\n",
            "Your file now lives at:\n",
            "https://s3.amazonaws.com/models.huggingface.co/bert/seyonec/ChemBERTa-zinc-base-v1/config.json\n",
            "Your file now lives at:\n",
            "https://s3.amazonaws.com/models.huggingface.co/bert/seyonec/ChemBERTa-zinc-base-v1/merges.txt\n",
            "Your file now lives at:\n",
            "https://s3.amazonaws.com/models.huggingface.co/bert/seyonec/ChemBERTa-zinc-base-v1/special_tokens_map.json\n",
            "Your file now lives at:\n",
            "https://s3.amazonaws.com/models.huggingface.co/bert/seyonec/ChemBERTa-zinc-base-v1/vocab.json\n",
            "Your file now lives at:\n",
            "https://s3.amazonaws.com/models.huggingface.co/bert/seyonec/ChemBERTa-zinc-base-v1/tokenizer_config.json\n",
            "Your file now lives at:\n",
            "https://s3.amazonaws.com/models.huggingface.co/bert/seyonec/ChemBERTa-zinc-base-v1/pytorch_model.bin\n"
          ],
          "name": "stdout"
        }
      ]
    }
  ]
}