{
 "cells": [
  {
   "cell_type": "markdown",
   "metadata": {},
   "source": [
    "# QSAR models for 3C-like protease main protease (M<sup>pro</sup>) of SARS-CoV"
   ]
  },
  {
   "cell_type": "markdown",
   "metadata": {},
   "source": [
    "Models in this workflow were built using Morgan fingerprints. They were kept in a separate workflow from SiRMS and Dragon descriptors in case anyone would like to reuse these models."
   ]
  },
  {
   "cell_type": "markdown",
   "metadata": {},
   "source": [
    "## Importing modules and functions"
   ]
  },
  {
   "cell_type": "code",
   "execution_count": 1,
   "metadata": {},
   "outputs": [
    {
     "data": {
      "text/html": [
       "<style>.container { width:90% !important; }</style>"
      ],
      "text/plain": [
       "<IPython.core.display.HTML object>"
      ]
     },
     "metadata": {},
     "output_type": "display_data"
    }
   ],
   "source": [
    "import numpy as np\n",
    "import pandas as pd\n",
    "import seaborn as sns\n",
    "import matplotlib.pyplot as plt\n",
    "import _pickle as cPickle\n",
    "import gzip\n",
    "\n",
    "from BalanceBySim import *\n",
    "from stats import *\n",
    "\n",
    "from collections import Counter\n",
    "\n",
    "from rdkit import Chem\n",
    "from rdkit.Chem import AllChem\n",
    "from rdkit.Chem import Draw\n",
    "from rdkit.Chem import PandasTools\n",
    "from rdkit.Chem.Draw import IPythonConsole\n",
    "\n",
    "from sklearn import metrics\n",
    "from sklearn.ensemble import RandomForestClassifier\n",
    "from sklearn.feature_selection import VarianceThreshold\n",
    "from sklearn.model_selection import train_test_split, cross_validate, GridSearchCV\n",
    "from sklearn.model_selection import permutation_test_score, StratifiedKFold\n",
    "\n",
    "def warn(*args, **kwargs):\n",
    "    pass\n",
    "import warnings\n",
    "warnings.filterwarnings(\"ignore\")\n",
    "warnings.warn = warn\n",
    "\n",
    "from IPython.core.interactiveshell import InteractiveShell\n",
    "InteractiveShell.ast_node_interactivity = \"all\"\n",
    "%matplotlib inline\n",
    "%reload_ext autoreload\n",
    "%autoreload 2\n",
    "Draw.DrawingOptions.atomLabelFontFace = \"DejaVu Sans\"\n",
    "Draw.DrawingOptions.atomLabelFontSize = 18\n",
    "\n",
    "from IPython.core.display import display, HTML\n",
    "display(HTML(\"<style>.container { width:90% !important; }</style>\"))"
   ]
  },
  {
   "cell_type": "markdown",
   "metadata": {},
   "source": [
    "## Load data"
   ]
  },
  {
   "cell_type": "code",
   "execution_count": 2,
   "metadata": {},
   "outputs": [
    {
     "name": "stdout",
     "output_type": "stream",
     "text": [
      "Original data:  (113, 11)\n",
      "Kept data:  (113, 11)\n"
     ]
    },
    {
     "data": {
      "text/html": [
       "<div>\n",
       "<style scoped>\n",
       "    .dataframe tbody tr th:only-of-type {\n",
       "        vertical-align: middle;\n",
       "    }\n",
       "\n",
       "    .dataframe tbody tr th {\n",
       "        vertical-align: top;\n",
       "    }\n",
       "\n",
       "    .dataframe thead th {\n",
       "        text-align: right;\n",
       "    }\n",
       "</style>\n",
       "<table border=\"1\" class=\"dataframe\">\n",
       "  <thead>\n",
       "    <tr style=\"text-align: right;\">\n",
       "      <th></th>\n",
       "      <th>Compound_name</th>\n",
       "      <th>Standard Type</th>\n",
       "      <th>Standard Relation</th>\n",
       "      <th>Standard Value</th>\n",
       "      <th>Standard Units</th>\n",
       "      <th>Outcome</th>\n",
       "      <th>InChIKey</th>\n",
       "      <th>Molecule ChEMBL ID</th>\n",
       "      <th>ID</th>\n",
       "      <th>SMILES</th>\n",
       "      <th>Mol</th>\n",
       "    </tr>\n",
       "  </thead>\n",
       "  <tbody>\n",
       "    <tr>\n",
       "      <th>0</th>\n",
       "      <td></td>\n",
       "      <td>IC50</td>\n",
       "      <td>=</td>\n",
       "      <td>5700.0</td>\n",
       "      <td>nM</td>\n",
       "      <td>Active</td>\n",
       "      <td>AEYIBAPLFDNVGD-UHFFFAOYNA-N</td>\n",
       "      <td></td>\n",
       "      <td></td>\n",
       "      <td>CC(=O)NC(CO)C(=O)NC(C)C(=O)NC(C(=O)NC(CC(C)C)C...</td>\n",
       "      <td><img data-content=\"rdkit/molecule\" src=\"data:image/png;base64,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\" alt=\"Mol\"/></td>\n",
       "    </tr>\n",
       "  </tbody>\n",
       "</table>\n",
       "</div>"
      ],
      "text/plain": [
       "  Compound_name Standard Type Standard Relation Standard Value Standard Units  \\\n",
       "0                        IC50                 =         5700.0             nM   \n",
       "\n",
       "  Outcome                     InChIKey Molecule ChEMBL ID ID  \\\n",
       "0  Active  AEYIBAPLFDNVGD-UHFFFAOYNA-N                         \n",
       "\n",
       "                                              SMILES  \\\n",
       "0  CC(=O)NC(CO)C(=O)NC(C)C(=O)NC(C(=O)NC(CC(C)C)C...   \n",
       "\n",
       "                                                 Mol  \n",
       "0  <img data-content=\"rdkit/molecule\" src=\"data:i...  "
      ]
     },
     "execution_count": 2,
     "metadata": {},
     "output_type": "execute_result"
    }
   ],
   "source": [
    "# Set file path\n",
    "file = 'datasets/curated_data/chembl-pdb-sars-cov-3C-like-proteinase.sdf.gz'\n",
    "sdfInfo = dict(smilesName='SMILES', molColName='ROMol')\n",
    "moldf = PandasTools.LoadSDF(file, **sdfInfo)\n",
    "print('Original data: ', moldf.shape)\n",
    "# Rename ROMol\n",
    "moldf = moldf.rename(columns={'ROMol': 'Mol'})\n",
    "# Remove missing RDKit molecules\n",
    "moldf = moldf[pd.notnull(moldf['Mol'])]\n",
    "if 'StandardizerResult' in moldf.columns:\n",
    "    moldf = moldf.drop(columns='StandardizerResult')\n",
    "# Columns\n",
    "print('Kept data: ', moldf.shape)\n",
    "moldf.head(1)"
   ]
  },
  {
   "cell_type": "markdown",
   "metadata": {},
   "source": [
    "## Data shape"
   ]
  },
  {
   "cell_type": "code",
   "execution_count": 3,
   "metadata": {},
   "outputs": [
    {
     "name": "stdout",
     "output_type": "stream",
     "text": [
      "\u001b[1mTraining set shape:\n",
      "\u001b[0m\n",
      "\t\t Class 1: 40\n",
      "\t\t Class 0: 73\n",
      "\t\t Total number of compounds: 113\n"
     ]
    }
   ],
   "source": [
    "moldf['Outcome'] = moldf['Outcome'].replace('Active', 1)\n",
    "moldf['Outcome'] = moldf['Outcome'].replace('Inactive', 0)\n",
    "\n",
    "classes = Counter(moldf['Outcome'])\n",
    "print('\\033[1m' + 'Training set shape:' + '\\n' + '\\033[0m')\n",
    "for key, value in classes.items():\n",
    "    print('\\t\\t Class %d: %d' % (key, value))\n",
    "print('\\t\\t Total number of compounds: %d' % (len(moldf['Outcome'])))"
   ]
  },
  {
   "cell_type": "markdown",
   "metadata": {},
   "source": [
    "# Calculate Morgan Fingerprints"
   ]
  },
  {
   "cell_type": "code",
   "execution_count": 4,
   "metadata": {},
   "outputs": [
    {
     "data": {
      "text/plain": [
       "(113, 2048)"
      ]
     },
     "execution_count": 4,
     "metadata": {},
     "output_type": "execute_result"
    }
   ],
   "source": [
    "def calcfp(mol,funcFPInfo=dict(radius=3, nBits=2048, useFeatures=False, useChirality=False)):\n",
    "    fp = AllChem.GetMorganFingerprintAsBitVect(mol, **funcFPInfo)\n",
    "    fp = pd.Series(np.asarray(fp))\n",
    "    fp = fp.add_prefix('Bit_')\n",
    "    return fp\n",
    "\n",
    "# Training set\n",
    "desc = moldf.Mol.apply(calcfp)\n",
    "descriptors = desc.columns.difference(moldf.columns).tolist()\n",
    "desc.shape"
   ]
  },
  {
   "cell_type": "code",
   "execution_count": 5,
   "metadata": {},
   "outputs": [
    {
     "name": "stdout",
     "output_type": "stream",
     "text": [
      "Training set shape: Counter({0: 73, 1: 40})\n",
      "External set shape: Counter()\n"
     ]
    }
   ],
   "source": [
    "moldf_desc = pd.concat([moldf,desc], axis=1)\n",
    "balance_data = 'no'\n",
    "\n",
    "if balance_data == 'yes':\n",
    "    # Balance data using 1/2 similarity and 1/2 random\n",
    "    moldf_desc = BalanceBySim(moldf_desc, 'Outcome', 2)\n",
    "    # Print shape\n",
    "    print('Training set shape: %s' % Counter(moldf_desc['Outcome'].loc[moldf_desc['Set'] == 'train']))\n",
    "    print('External set shape: %s' % Counter(moldf_desc['Outcome'].loc[moldf_desc['Set'] == 'ext']))\n",
    "      \n",
    "else:\n",
    "    moldf_desc['Set'] = 'train'\n",
    "    # Print shape\n",
    "    print('Training set shape: %s' % Counter(moldf_desc['Outcome'].loc[moldf_desc['Set'] == 'train']))\n",
    "    print('External set shape: %s' % Counter(moldf_desc['Outcome'].loc[moldf_desc['Set'] == 'ext']))"
   ]
  },
  {
   "cell_type": "code",
   "execution_count": 6,
   "metadata": {},
   "outputs": [
    {
     "data": {
      "text/plain": [
       "(113, 2048)"
      ]
     },
     "execution_count": 6,
     "metadata": {},
     "output_type": "execute_result"
    }
   ],
   "source": [
    "moldf_train = moldf_desc[(moldf_desc['Set'] == 'train')]\n",
    "\n",
    "y_train = moldf_train['Outcome'].to_numpy()\n",
    "X_train = moldf_train[descriptors]\n",
    "X_train.shape"
   ]
  },
  {
   "cell_type": "markdown",
   "metadata": {},
   "source": [
    "## Model building"
   ]
  },
  {
   "cell_type": "markdown",
   "metadata": {},
   "source": [
    "### Modeling data"
   ]
  },
  {
   "cell_type": "markdown",
   "metadata": {},
   "source": [
    "##### Find best parameters"
   ]
  },
  {
   "cell_type": "code",
   "execution_count": 7,
   "metadata": {},
   "outputs": [
    {
     "name": "stdout",
     "output_type": "stream",
     "text": [
      "Fitting 5 folds for each of 200 candidates, totalling 1000 fits\n"
     ]
    },
    {
     "name": "stderr",
     "output_type": "stream",
     "text": [
      "[Parallel(n_jobs=-1)]: Using backend LokyBackend with 12 concurrent workers.\n",
      "[Parallel(n_jobs=-1)]: Done  26 tasks      | elapsed:    2.7s\n",
      "[Parallel(n_jobs=-1)]: Done 176 tasks      | elapsed:   14.3s\n",
      "[Parallel(n_jobs=-1)]: Done 426 tasks      | elapsed:   34.1s\n",
      "[Parallel(n_jobs=-1)]: Done 776 tasks      | elapsed:  1.0min\n",
      "[Parallel(n_jobs=-1)]: Done 1000 out of 1000 | elapsed:  1.3min finished\n"
     ]
    },
    {
     "name": "stdout",
     "output_type": "stream",
     "text": [
      "\n",
      "Best params: {'class_weight': None, 'criterion': 'gini', 'max_features': 'auto', 'n_estimators': 750, 'random_state': 24}\n",
      "Score: 0.82\n",
      "CPU times: user 3.69 s, sys: 121 ms, total: 3.81 s\n",
      "Wall time: 1min 20s\n"
     ]
    }
   ],
   "source": [
    "%%time\n",
    "# Number of trees in random forest\n",
    "n_estimators = [100, 250, 500, 750, 1000]\n",
    "max_features = ['auto', 'sqrt']\n",
    "criterion = ['gini', 'entropy']\n",
    "if balance_data == 'yes':\n",
    "    class_weight = [None]\n",
    "else:\n",
    "    class_weight = [None,'balanced',\n",
    "                    {0:.9, 1:.1}, {0:.8, 1:.2}, {0:.7, 1:.3}, {0:.6, 1:.4},\n",
    "                    {0:.4, 1:.6}, {0:.3, 1:.7}, {0:.2, 1:.8}, {0:.1, 1:.9}]\n",
    "random_state = [24]\n",
    "\n",
    "# Create the random grid\n",
    "param_grid = {'n_estimators': n_estimators,\n",
    "              'max_features': max_features,\n",
    "              'criterion': criterion,\n",
    "              'random_state': random_state,\n",
    "              'class_weight': class_weight}\n",
    "\n",
    "# setup model building\n",
    "rf = GridSearchCV(RandomForestClassifier(), param_grid, n_jobs=-1, cv=5, verbose=1)\n",
    "rf.fit(X_train, y_train)\n",
    "print()\n",
    "print('Best params: %s' % rf.best_params_)\n",
    "print('Score: %.2f' % rf.best_score_)"
   ]
  },
  {
   "cell_type": "markdown",
   "metadata": {},
   "source": [
    "##### Model w/ best parameters"
   ]
  },
  {
   "cell_type": "code",
   "execution_count": 8,
   "metadata": {},
   "outputs": [
    {
     "data": {
      "text/plain": [
       "RandomForestClassifier(bootstrap=True, ccp_alpha=0.0, class_weight=None,\n",
       "                       criterion='gini', max_depth=None, max_features='auto',\n",
       "                       max_leaf_nodes=None, max_samples=None,\n",
       "                       min_impurity_decrease=0.0, min_impurity_split=None,\n",
       "                       min_samples_leaf=1, min_samples_split=2,\n",
       "                       min_weight_fraction_leaf=0.0, n_estimators=750,\n",
       "                       n_jobs=-1, oob_score=False, random_state=24, verbose=0,\n",
       "                       warm_start=False)"
      ]
     },
     "execution_count": 8,
     "metadata": {},
     "output_type": "execute_result"
    }
   ],
   "source": [
    "rf_best = RandomForestClassifier(**rf.best_params_, n_jobs=-1)\n",
    "rf_best.fit(X_train, y_train)"
   ]
  },
  {
   "cell_type": "markdown",
   "metadata": {},
   "source": [
    "##### 5-fold cross-validation"
   ]
  },
  {
   "cell_type": "code",
   "execution_count": 9,
   "metadata": {},
   "outputs": [],
   "source": [
    "# Params\n",
    "pred = []\n",
    "ad = []\n",
    "index = []\n",
    "cross_val = StratifiedKFold(n_splits=5)\n",
    "\n",
    "# Do 5-fold loop\n",
    "for train_index, test_index in cross_val.split(X_train, y_train):\n",
    "    \n",
    "    fold_model = rf_best.fit(X_train.iloc[train_index], y_train[train_index])\n",
    "    fold_pred = rf_best.predict(X_train.iloc[test_index])\n",
    "    fold_ad = rf_best.predict_proba(X_train.iloc[test_index])\n",
    "    pred.append(fold_pred)\n",
    "    ad.append(fold_ad)\n",
    "    index.append(test_index)"
   ]
  },
  {
   "cell_type": "code",
   "execution_count": 10,
   "metadata": {},
   "outputs": [
    {
     "name": "stdout",
     "output_type": "stream",
     "text": [
      "\u001b[1m5-fold External Cross Validation Statistical Characteristcs of QSAR models developed morgan\n",
      "\u001b[0m\n"
     ]
    },
    {
     "data": {
      "text/html": [
       "<div>\n",
       "<style scoped>\n",
       "    .dataframe tbody tr th:only-of-type {\n",
       "        vertical-align: middle;\n",
       "    }\n",
       "\n",
       "    .dataframe tbody tr th {\n",
       "        vertical-align: top;\n",
       "    }\n",
       "\n",
       "    .dataframe thead th {\n",
       "        text-align: right;\n",
       "    }\n",
       "</style>\n",
       "<table border=\"1\" class=\"dataframe\">\n",
       "  <thead>\n",
       "    <tr style=\"text-align: right;\">\n",
       "      <th></th>\n",
       "      <th>Accuracy</th>\n",
       "      <th>AUC</th>\n",
       "      <th>Kappa</th>\n",
       "      <th>CCR</th>\n",
       "      <th>Sensitivity</th>\n",
       "      <th>PPV</th>\n",
       "      <th>Specificity</th>\n",
       "      <th>NPV</th>\n",
       "      <th>Coverage</th>\n",
       "    </tr>\n",
       "  </thead>\n",
       "  <tbody>\n",
       "    <tr>\n",
       "      <th>Morgan</th>\n",
       "      <td>0.8230</td>\n",
       "      <td>0.7839</td>\n",
       "      <td>0.5947</td>\n",
       "      <td>0.7839</td>\n",
       "      <td>0.650</td>\n",
       "      <td>0.8125</td>\n",
       "      <td>0.9178</td>\n",
       "      <td>0.8272</td>\n",
       "      <td>1.00</td>\n",
       "    </tr>\n",
       "    <tr>\n",
       "      <th>Morgan AD</th>\n",
       "      <td>0.8718</td>\n",
       "      <td>0.8032</td>\n",
       "      <td>0.6684</td>\n",
       "      <td>0.8032</td>\n",
       "      <td>0.625</td>\n",
       "      <td>0.9375</td>\n",
       "      <td>0.9815</td>\n",
       "      <td>0.8548</td>\n",
       "      <td>0.69</td>\n",
       "    </tr>\n",
       "  </tbody>\n",
       "</table>\n",
       "</div>"
      ],
      "text/plain": [
       "           Accuracy     AUC   Kappa     CCR  Sensitivity     PPV  Specificity  \\\n",
       "Morgan       0.8230  0.7839  0.5947  0.7839        0.650  0.8125       0.9178   \n",
       "Morgan AD    0.8718  0.8032  0.6684  0.8032        0.625  0.9375       0.9815   \n",
       "\n",
       "              NPV  Coverage  \n",
       "Morgan     0.8272      1.00  \n",
       "Morgan AD  0.8548      0.69  "
      ]
     },
     "execution_count": 10,
     "metadata": {},
     "output_type": "execute_result"
    }
   ],
   "source": [
    "threshold_ad = 0.70\n",
    "\n",
    "# Prepare results to export    \n",
    "fold_index = np.concatenate(index)    \n",
    "fold_pred = np.concatenate(pred)\n",
    "fold_ad = np.concatenate(ad)\n",
    "fold_ad = (np.amax(fold_ad, axis=1) >= threshold_ad).astype(str)\n",
    "five_fold_morgan = pd.DataFrame({'Prediction': fold_pred,'AD': fold_ad}, index=list(fold_index))\n",
    "five_fold_morgan.AD[five_fold_morgan.AD == 'False'] = np.nan\n",
    "five_fold_morgan.AD[five_fold_morgan.AD == 'True'] = five_fold_morgan.Prediction\n",
    "five_fold_morgan.sort_index(inplace=True)\n",
    "five_fold_morgan['y_train'] = pd.DataFrame(y_train)\n",
    "five_fold_ad = five_fold_morgan.dropna().astype(int)\n",
    "coverage_5f = len(five_fold_ad) / len(five_fold_morgan)\n",
    "\n",
    "\n",
    "# morgan stats\n",
    "morgan = pd.DataFrame(stats(five_fold_morgan['y_train'], five_fold_morgan['Prediction']))\n",
    "morgan['Coverage'] = 1.0\n",
    "\n",
    "# morgan AD stats\n",
    "morgan_ad = five_fold_morgan.dropna(subset=['AD']).astype(int)\n",
    "coverage_morgan_ad = len(morgan_ad['AD']) / len(five_fold_morgan['y_train'])\n",
    "morgan_ad = pd.DataFrame(stats(morgan_ad['y_train'], morgan_ad['AD']))\n",
    "morgan_ad['Coverage'] = round(coverage_morgan_ad, 2)\n",
    "\n",
    "# print stats\n",
    "print('\\033[1m' + '5-fold External Cross Validation Statistical Characteristcs of QSAR models developed morgan' + '\\n' + '\\033[0m')\n",
    "morgan_5f_stats = morgan.append(morgan_ad)\n",
    "morgan_5f_stats.set_index([['Morgan', 'Morgan AD']], drop=True, inplace=True)\n",
    "morgan_5f_stats"
   ]
  },
  {
   "cell_type": "markdown",
   "metadata": {},
   "source": [
    "##### Predict external withheld set after balancing"
   ]
  },
  {
   "cell_type": "code",
   "execution_count": 11,
   "metadata": {},
   "outputs": [],
   "source": [
    "moldf_ext = moldf_desc[(moldf_desc['Set'] == 'ext')]\n",
    "descriptor_list = list(X_train.columns.values)\n",
    "\n",
    "if len(moldf_ext) > 0:\n",
    "    y_ext = moldf_ext['Outcome'].to_numpy()\n",
    "    X_ext = moldf_ext[descriptors]\n",
    "    \n",
    "    # Filter out descriptors not present in the model\n",
    "    X_ext = X_ext[descriptor_list]\n",
    "    \n",
    "    # Make predictions\n",
    "    ext_set = rf_best.predict(X_ext)\n",
    "    ext_set_ad = rf_best.predict_proba(X_ext)\n",
    "    ext_set_ad = (np.amax(ext_set_ad, axis=1) >= threshold_ad).astype(str)\n",
    "    \n",
    "    # Prepare data\n",
    "    ext_set = pd.DataFrame({'Prediction': ext_set,'AD': ext_set_ad})\n",
    "    ext_set.AD[ext_set.AD == 'False'] = np.nan\n",
    "    ext_set.AD[ext_set.AD == 'True'] = ext_set.Prediction\n",
    "    ext_set.sort_index(inplace=True)\n",
    "    ext_set['y_ext'] = pd.DataFrame(y_ext)\n",
    "    ext_set_ad = ext_set.dropna().astype(int)\n",
    "    coverage_ext = len(ext_set_ad) / len(ext_set)\n",
    "    \n",
    "    # Print stats\n",
    "    ext_set_stats = pd.DataFrame(stats(ext_set.y_ext, ext_set.Prediction))\n",
    "    ext_set_stats['Coverage'] = 1.0\n",
    "    print('External withheld set: \\n', ext_set_stats.to_string(index=False), '\\n')\n",
    "    ext_set_stats_ad = pd.DataFrame(stats(ext_set_ad.y_ext, ext_set_ad.AD))\n",
    "    ext_set_stats_ad['Coverage'] = round(coverage_ext, 2)\n",
    "    print('External withheld set with AD: \\n', ext_set_stats_ad.to_string(index=False), '\\n')\n",
    "else:\n",
    "    pass"
   ]
  },
  {
   "cell_type": "markdown",
   "metadata": {},
   "source": [
    "##### Y-randomization"
   ]
  },
  {
   "cell_type": "code",
   "execution_count": 12,
   "metadata": {},
   "outputs": [
    {
     "name": "stderr",
     "output_type": "stream",
     "text": [
      "[Parallel(n_jobs=-1)]: Using backend LokyBackend with 12 concurrent workers.\n"
     ]
    },
    {
     "name": "stdout",
     "output_type": "stream",
     "text": [
      "True score =  0.78 \n",
      "Y-randomization =  0.5 \n",
      "p-value =  0.0476\n"
     ]
    },
    {
     "name": "stderr",
     "output_type": "stream",
     "text": [
      "[Parallel(n_jobs=-1)]: Done  18 out of  20 | elapsed:   19.0s remaining:    2.1s\n",
      "[Parallel(n_jobs=-1)]: Done  20 out of  20 | elapsed:   19.1s finished\n"
     ]
    }
   ],
   "source": [
    "permutations = 20\n",
    "score, permutation_scores, pvalue = permutation_test_score(rf_best, X_train, y_train,\n",
    "                                                           cv=5, scoring='balanced_accuracy',\n",
    "                                                           n_permutations=permutations,\n",
    "                                                           n_jobs=-1,\n",
    "                                                           verbose=1,\n",
    "                                                           random_state=24)\n",
    "print('True score = ', score.round(2),\n",
    "      '\\nY-randomization = ', np.mean(permutation_scores).round(2),\n",
    "      '\\np-value = ', pvalue.round(4))"
   ]
  },
  {
   "cell_type": "markdown",
   "metadata": {},
   "source": [
    "##### Save model"
   ]
  },
  {
   "cell_type": "code",
   "execution_count": 13,
   "metadata": {},
   "outputs": [],
   "source": [
    "with gzip.GzipFile('model/sars-cov-3clpro-morgan_RF_ad_balanced.pgz', 'w') as f:\n",
    "    cPickle.dump(rf_best, f)"
   ]
  },
  {
   "cell_type": "markdown",
   "metadata": {},
   "source": [
    "### Export predictions"
   ]
  },
  {
   "cell_type": "code",
   "execution_count": 14,
   "metadata": {},
   "outputs": [],
   "source": [
    "pred_train = moldf_train[moldf_train.columns.difference(descriptor_list)]\n",
    "pred_train.reset_index(inplace=True)\n",
    "five_fold_exp = five_fold_morgan[['Prediction', 'AD']].rename(columns={'Prediction':'morgan', 'AD':'morgan_ad'}, )\n",
    "pred_train = pd.concat([pred_train, five_fold_exp], axis=1)\n",
    "pred_train['Set'] = 'train'\n",
    "\n",
    "if len(moldf_ext) > 0:\n",
    "    pred_ext = moldf_ext[moldf_ext.columns.difference(descriptor_list)]\n",
    "    pred_ext.reset_index(inplace=True)\n",
    "    ext_set_exp = ext_set[['Prediction', 'AD']].rename(columns={'Prediction':'morgan', 'AD':'morgan_ad'}, )\n",
    "    pred_ext = pd.concat([pred_ext, ext_set_exp], axis=1)\n",
    "    pred_ext['Set'] = 'ext'\n",
    "    \n",
    "    pred_morgan = pd.concat([pred_train, pred_ext], axis=0).sort_values(by='index')\n",
    "    pred_morgan.drop(columns=['index', 'Mol', 'ID'], inplace=True)\n",
    "\n",
    "else:\n",
    "    pred_morgan = pred_train.copy()\n",
    "    pred_morgan.drop(columns=['index', 'Mol', 'ID'], inplace=True)\n",
    "    \n",
    "#for col in ['Outcome', 'morgan', 'morgan_ad']:\n",
    "#    pred_morgan[col].replace(0,'Inactive', inplace=True)\n",
    "#    pred_morgan[col].replace(1,'Active', inplace=True)"
   ]
  },
  {
   "cell_type": "code",
   "execution_count": 15,
   "metadata": {},
   "outputs": [],
   "source": [
    "with pd.ExcelWriter('predictions-morgan.xlsx') as writer:\n",
    "    pred_morgan.to_excel(writer, sheet_name='morgan', index=False)"
   ]
  },
  {
   "cell_type": "markdown",
   "metadata": {},
   "source": [
    "### Plot stats"
   ]
  },
  {
   "cell_type": "code",
   "execution_count": 16,
   "metadata": {},
   "outputs": [
    {
     "data": {
      "text/html": [
       "<div>\n",
       "<style scoped>\n",
       "    .dataframe tbody tr th:only-of-type {\n",
       "        vertical-align: middle;\n",
       "    }\n",
       "\n",
       "    .dataframe tbody tr th {\n",
       "        vertical-align: top;\n",
       "    }\n",
       "\n",
       "    .dataframe thead th {\n",
       "        text-align: right;\n",
       "    }\n",
       "</style>\n",
       "<table border=\"1\" class=\"dataframe\">\n",
       "  <thead>\n",
       "    <tr style=\"text-align: right;\">\n",
       "      <th></th>\n",
       "      <th>Accuracy</th>\n",
       "      <th>AUC</th>\n",
       "      <th>Kappa</th>\n",
       "      <th>CCR</th>\n",
       "      <th>Sensitivity</th>\n",
       "      <th>PPV</th>\n",
       "      <th>Specificity</th>\n",
       "      <th>NPV</th>\n",
       "      <th>Coverage</th>\n",
       "    </tr>\n",
       "  </thead>\n",
       "  <tbody>\n",
       "    <tr>\n",
       "      <th>Morgan</th>\n",
       "      <td>0.8230</td>\n",
       "      <td>0.7839</td>\n",
       "      <td>0.5947</td>\n",
       "      <td>0.7839</td>\n",
       "      <td>0.650</td>\n",
       "      <td>0.8125</td>\n",
       "      <td>0.9178</td>\n",
       "      <td>0.8272</td>\n",
       "      <td>1.00</td>\n",
       "    </tr>\n",
       "    <tr>\n",
       "      <th>Morgan AD</th>\n",
       "      <td>0.8718</td>\n",
       "      <td>0.8032</td>\n",
       "      <td>0.6684</td>\n",
       "      <td>0.8032</td>\n",
       "      <td>0.625</td>\n",
       "      <td>0.9375</td>\n",
       "      <td>0.9815</td>\n",
       "      <td>0.8548</td>\n",
       "      <td>0.69</td>\n",
       "    </tr>\n",
       "  </tbody>\n",
       "</table>\n",
       "</div>"
      ],
      "text/plain": [
       "           Accuracy     AUC   Kappa     CCR  Sensitivity     PPV  Specificity  \\\n",
       "Morgan       0.8230  0.7839  0.5947  0.7839        0.650  0.8125       0.9178   \n",
       "Morgan AD    0.8718  0.8032  0.6684  0.8032        0.625  0.9375       0.9815   \n",
       "\n",
       "              NPV  Coverage  \n",
       "Morgan     0.8272      1.00  \n",
       "Morgan AD  0.8548      0.69  "
      ]
     },
     "execution_count": 16,
     "metadata": {},
     "output_type": "execute_result"
    }
   ],
   "source": [
    "# Export stats\n",
    "if len(moldf_ext) > 0:\n",
    "    morgan_stats = pd.concat([morgan, morgan_ad], axis=0)\n",
    "    morgan_stats.set_index([['5-fold CV', 'External withheld set']], drop=True, inplace=True)\n",
    "    morgan_stats\n",
    "else:\n",
    "    morgan_stats = morgan_5f_stats.copy()\n",
    "    morgan_stats"
   ]
  },
  {
   "cell_type": "code",
   "execution_count": 17,
   "metadata": {
    "scrolled": false
   },
   "outputs": [
    {
     "data": {
      "image/png": "[encoded data removed]",
      "text/plain": [
       "<Figure size 720x432 with 1 Axes>"
      ]
     },
     "metadata": {
      "needs_background": "light"
     },
     "output_type": "display_data"
    }
   ],
   "source": [
    "# Transpose stats\n",
    "morgan_stats_t = morgan_stats.T\n",
    "morgan_stats_t = morgan_stats_t.reset_index()\n",
    "morgan_stats_t = morgan_stats_t.rename(columns={'index': 'Stats'})\n",
    "\n",
    "# Make plot\n",
    "plt.style.use('seaborn-colorblind')\n",
    "fig, ax1 = plt.subplots(figsize=(10,6))\n",
    "\n",
    "morgan_stats_t.plot(kind='bar', ax=ax1, width=0.8)\n",
    "ax1.set_xticklabels(labels=morgan_stats_t['Stats'].tolist(), fontsize=14, rotation=0)\n",
    "ax1.axhline(y=.6, color='indianred', ls='dashed')# xmin=0.25, xmax=0.75)\n",
    "ax1.legend_.remove()\n",
    "plt.title('Statistical characteristics', fontsize=16)\n",
    "ax1.set_yticks(np.arange(0, 1.1, 0.1))\n",
    "ax1.tick_params(labelsize=15)\n",
    "\n",
    "handles, labels = ax1.get_legend_handles_labels()\n",
    "ax1.legend(handles, labels, fontsize=16,\n",
    "            loc='upper center', bbox_to_anchor=(0.5, -0.07), fancybox=True,\n",
    "            shadow=True, ncol=2)\n",
    "fig.tight_layout()\n",
    "\n",
    "plt.savefig('statistics-morgan.png', bbox_inches='tight',\n",
    "            transparent=False, format='png', dpi=300)\n",
    "plt.show();"
   ]
  }
 ],
 "metadata": {
  "kernelspec": {
   "display_name": "rdkit-env",
   "language": "python",
   "name": "my-rdkit-env"
  },
  "language_info": {
   "codemirror_mode": {
    "name": "ipython",
    "version": 3
   },
   "file_extension": ".py",
   "mimetype": "text/x-python",
   "name": "python",
   "nbconvert_exporter": "python",
   "pygments_lexer": "ipython3",
   "version": "3.6.10"
  }
 },
 "nbformat": 4,
 "nbformat_minor": 2
}
