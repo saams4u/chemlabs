{
 "cells": [
  {
   "cell_type": "markdown",
   "metadata": {},
   "source": [
    "# QSAR models for 3C-like protease main protease (M<sup>pro</sup>) of SARS-CoV"
   ]
  },
  {
   "cell_type": "markdown",
   "metadata": {},
   "source": [
    "- Models in this workflow were generated using 2D Simplex Representation of Molecular Structure (SiRMS) descriptors ([Muratov et al., 2010](https://www.future-science.com/doi/10.4155/fmc.10.194)) calculated in the HiTQSAR software ([Kuz'min et al., 2008](https://link.springer.com/article/10.1007%2Fs10822-008-9179-6)) and Dragon 7 descriptors ([Kode Chemoinformatics srl - Pisa (Italy)](https://chm.kode-solutions.net/products_dragon.php)) along with Random Forest algorithm ([Breiman, 2001](https://link.springer.com/article/10.1023%2FA%3A1010933404324)).\n",
    "- We collected 329 datapoints for 201 compounds tested in SARS-CoV M<sup>pro</sup> ([CHEMBL3927](https://www.ebi.ac.uk/chembl/target_report_card/CHEMBL3927/)) and aditional 22 compounds found in PDB. The data was carefully curated following the protocols developed by [Fourches <i>et al</i>](). After curation, 113 compounds (40 actives and 73 inactives) were kept for modeling.\n",
    "- Due to the limited size of the data, we validated the models only by 5-fold external cross-validation and applied a threshold of 70% confidence to evaluate the models and to select hits for experimental validation."
   ]
  },
  {
   "cell_type": "markdown",
   "metadata": {},
   "source": [
    "## Importing modules and functions\n",
    "         \n",
    "    "
   ]
  },
  {
   "cell_type": "code",
   "execution_count": 1,
   "metadata": {},
   "outputs": [
    {
     "data": {
      "text/html": [
       "<style>.container { width:90% !important; }</style>"
      ],
      "text/plain": [
       "<IPython.core.display.HTML object>"
      ]
     },
     "metadata": {},
     "output_type": "display_data"
    }
   ],
   "source": [
    "import numpy as np\n",
    "import pandas as pd\n",
    "import seaborn as sns\n",
    "import matplotlib.pyplot as plt\n",
    "import _pickle as cPickle\n",
    "import gzip\n",
    "\n",
    "from BalanceBySim import *\n",
    "from stats import *\n",
    "\n",
    "from collections import Counter\n",
    "\n",
    "from rdkit import Chem\n",
    "from rdkit.Chem import Draw\n",
    "from rdkit.Chem import PandasTools\n",
    "from rdkit.Chem.Draw import IPythonConsole\n",
    "\n",
    "from sklearn import metrics\n",
    "from sklearn.ensemble import RandomForestClassifier\n",
    "from sklearn.feature_selection import VarianceThreshold\n",
    "from sklearn.model_selection import train_test_split, cross_validate, GridSearchCV\n",
    "from sklearn.model_selection import permutation_test_score, StratifiedKFold\n",
    "\n",
    "def warn(*args, **kwargs):\n",
    "    pass\n",
    "import warnings\n",
    "warnings.filterwarnings(\"ignore\")\n",
    "warnings.warn = warn\n",
    "\n",
    "from IPython.core.interactiveshell import InteractiveShell\n",
    "InteractiveShell.ast_node_interactivity = \"all\"\n",
    "%matplotlib inline\n",
    "%reload_ext autoreload\n",
    "%autoreload 2\n",
    "Draw.DrawingOptions.atomLabelFontFace = \"DejaVu Sans\"\n",
    "Draw.DrawingOptions.atomLabelFontSize = 18\n",
    "\n",
    "from IPython.core.display import display, HTML\n",
    "display(HTML(\"<style>.container { width:90% !important; }</style>\"))"
   ]
  },
  {
   "cell_type": "markdown",
   "metadata": {},
   "source": [
    "## Load data"
   ]
  },
  {
   "cell_type": "code",
   "execution_count": 2,
   "metadata": {},
   "outputs": [
    {
     "name": "stdout",
     "output_type": "stream",
     "text": [
      "Original data:  (113, 11)\n",
      "Kept data:  (113, 11)\n"
     ]
    },
    {
     "data": {
      "text/html": [
       "<div>\n",
       "<style scoped>\n",
       "    .dataframe tbody tr th:only-of-type {\n",
       "        vertical-align: middle;\n",
       "    }\n",
       "\n",
       "    .dataframe tbody tr th {\n",
       "        vertical-align: top;\n",
       "    }\n",
       "\n",
       "    .dataframe thead th {\n",
       "        text-align: right;\n",
       "    }\n",
       "</style>\n",
       "<table border=\"1\" class=\"dataframe\">\n",
       "  <thead>\n",
       "    <tr style=\"text-align: right;\">\n",
       "      <th></th>\n",
       "      <th>Compound_name</th>\n",
       "      <th>Standard Type</th>\n",
       "      <th>Standard Relation</th>\n",
       "      <th>Standard Value</th>\n",
       "      <th>Standard Units</th>\n",
       "      <th>Outcome</th>\n",
       "      <th>InChIKey</th>\n",
       "      <th>Molecule ChEMBL ID</th>\n",
       "      <th>ID</th>\n",
       "      <th>SMILES</th>\n",
       "      <th>Mol</th>\n",
       "    </tr>\n",
       "  </thead>\n",
       "  <tbody>\n",
       "    <tr>\n",
       "      <th>0</th>\n",
       "      <td></td>\n",
       "      <td>IC50</td>\n",
       "      <td>=</td>\n",
       "      <td>5700.0</td>\n",
       "      <td>nM</td>\n",
       "      <td>Active</td>\n",
       "      <td>AEYIBAPLFDNVGD-UHFFFAOYNA-N</td>\n",
       "      <td></td>\n",
       "      <td></td>\n",
       "      <td>CC(=O)NC(CO)C(=O)NC(C)C(=O)NC(C(=O)NC(CC(C)C)C...</td>\n",
       "      <td><img data-content=\"rdkit/molecule\" src=\"data:image/png;base64,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\" alt=\"Mol\"/></td>\n",
       "    </tr>\n",
       "  </tbody>\n",
       "</table>\n",
       "</div>"
      ],
      "text/plain": [
       "  Compound_name Standard Type Standard Relation Standard Value Standard Units  \\\n",
       "0                        IC50                 =         5700.0             nM   \n",
       "\n",
       "  Outcome                     InChIKey Molecule ChEMBL ID ID  \\\n",
       "0  Active  AEYIBAPLFDNVGD-UHFFFAOYNA-N                         \n",
       "\n",
       "                                              SMILES  \\\n",
       "0  CC(=O)NC(CO)C(=O)NC(C)C(=O)NC(C(=O)NC(CC(C)C)C...   \n",
       "\n",
       "                                                 Mol  \n",
       "0  <img data-content=\"rdkit/molecule\" src=\"data:i...  "
      ]
     },
     "execution_count": 2,
     "metadata": {},
     "output_type": "execute_result"
    }
   ],
   "source": [
    "# Set file path\n",
    "file = 'datasets/curated_data/chembl-pdb-sars-cov-3C-like-proteinase.sdf.gz'\n",
    "sdfInfo = dict(smilesName='SMILES', molColName='ROMol')\n",
    "moldf = PandasTools.LoadSDF(file, **sdfInfo)\n",
    "print('Original data: ', moldf.shape)\n",
    "# Rename ROMol\n",
    "moldf = moldf.rename(columns={'ROMol': 'Mol'})\n",
    "# Remove missing RDKit molecules\n",
    "moldf = moldf[pd.notnull(moldf['Mol'])]\n",
    "if 'StandardizerResult' in moldf.columns:\n",
    "    moldf = moldf.drop(columns='StandardizerResult')\n",
    "# Columns\n",
    "print('Kept data: ', moldf.shape)\n",
    "moldf.head(1)"
   ]
  },
  {
   "cell_type": "markdown",
   "metadata": {},
   "source": [
    "## Data shape"
   ]
  },
  {
   "cell_type": "code",
   "execution_count": 3,
   "metadata": {},
   "outputs": [
    {
     "name": "stdout",
     "output_type": "stream",
     "text": [
      "\u001b[1mTraining set shape:\n",
      "\u001b[0m\n",
      "\t\t Class 1: 40\n",
      "\t\t Class 0: 73\n",
      "\t\t Total number of compounds: 113\n"
     ]
    }
   ],
   "source": [
    "moldf['Outcome'] = moldf['Outcome'].replace('Active', 1)\n",
    "moldf['Outcome'] = moldf['Outcome'].replace('Inactive', 0)\n",
    "\n",
    "classes = Counter(moldf['Outcome'])\n",
    "print('\\033[1m' + 'Training set shape:' + '\\n' + '\\033[0m')\n",
    "for key, value in classes.items():\n",
    "    print('\\t\\t Class %d: %d' % (key, value))\n",
    "print('\\t\\t Total number of compounds: %d' % (len(moldf['Outcome'])))"
   ]
  },
  {
   "cell_type": "markdown",
   "metadata": {},
   "source": [
    "# SiRMS"
   ]
  },
  {
   "cell_type": "markdown",
   "metadata": {},
   "source": [
    "## Import descriptors\n",
    "\n",
    "Descriptors were calculated externally using HitQSAR. Descriptors with low variance and correlated were removed HiT QSAR using the Methods of Data Analysis module."
   ]
  },
  {
   "cell_type": "code",
   "execution_count": 4,
   "metadata": {
    "scrolled": true
   },
   "outputs": [
    {
     "data": {
      "text/html": [
       "<div>\n",
       "<style scoped>\n",
       "    .dataframe tbody tr th:only-of-type {\n",
       "        vertical-align: middle;\n",
       "    }\n",
       "\n",
       "    .dataframe tbody tr th {\n",
       "        vertical-align: top;\n",
       "    }\n",
       "\n",
       "    .dataframe thead th {\n",
       "        text-align: right;\n",
       "    }\n",
       "</style>\n",
       "<table border=\"1\" class=\"dataframe\">\n",
       "  <thead>\n",
       "    <tr style=\"text-align: right;\">\n",
       "      <th></th>\n",
       "      <th>Fr1(chg)/A</th>\n",
       "      <th>Fr1(chg)/B</th>\n",
       "      <th>Fr1(chg)/C</th>\n",
       "      <th>Fr1(chg)/D</th>\n",
       "      <th>Fr2(chg)/A_A/1_2a/</th>\n",
       "      <th>Fr2(chg)/A_A/1_2s/</th>\n",
       "      <th>Fr2(chg)/A_B/1_2a/</th>\n",
       "      <th>Fr2(chg)/A_B/1_2s/</th>\n",
       "      <th>Fr2(chg)/A_C/1_2a/</th>\n",
       "      <th>Fr2(chg)/A_C/1_2d/</th>\n",
       "      <th>...</th>\n",
       "      <th>S_A(type)/N.AR_N.PL3_O.2_S.O2/2_4s,3_4d/4</th>\n",
       "      <th>S_A(type)/N.AR_O.2_O.2_S.O2/2_4d,3_4d/4</th>\n",
       "      <th>S_A(type)/N.AR_O.2_O.3_S.O2/1_3s,2_4d/3</th>\n",
       "      <th>S_A(type)/N.PL3_O.2_O.2_S.O2/1_4s,2_4d,3_4d/5</th>\n",
       "      <th>S_A(type)/N.PL3_O.2_O.2_S.O2/2_4d,3_4d/4</th>\n",
       "      <th>S_A(type)/N.PL3_O.2_O.3_S.O2/1_4s,2_4d/4</th>\n",
       "      <th>S_A(type)/N.PL3_O.2_S.3_S.O2/1_4s,2_4d/4</th>\n",
       "      <th>S_A(type)/O.2_O.2_O.2_S.O2/2_4d,3_4d/4</th>\n",
       "      <th>S_A(type)/O.2_O.2_O.3_S.O2/1_4d,2_4d/4</th>\n",
       "      <th>S_A(type)/O.2_O.2_S.3_S.O2/1_4d,2_4d/4</th>\n",
       "    </tr>\n",
       "  </thead>\n",
       "  <tbody>\n",
       "    <tr>\n",
       "      <th>0</th>\n",
       "      <td>14</td>\n",
       "      <td>10</td>\n",
       "      <td>36</td>\n",
       "      <td>20</td>\n",
       "      <td>0</td>\n",
       "      <td>0</td>\n",
       "      <td>0</td>\n",
       "      <td>0</td>\n",
       "      <td>2</td>\n",
       "      <td>0</td>\n",
       "      <td>...</td>\n",
       "      <td>0</td>\n",
       "      <td>0</td>\n",
       "      <td>0</td>\n",
       "      <td>0</td>\n",
       "      <td>0</td>\n",
       "      <td>0</td>\n",
       "      <td>0</td>\n",
       "      <td>0</td>\n",
       "      <td>0</td>\n",
       "      <td>0</td>\n",
       "    </tr>\n",
       "    <tr>\n",
       "      <th>1</th>\n",
       "      <td>9</td>\n",
       "      <td>16</td>\n",
       "      <td>37</td>\n",
       "      <td>9</td>\n",
       "      <td>0</td>\n",
       "      <td>0</td>\n",
       "      <td>2</td>\n",
       "      <td>0</td>\n",
       "      <td>2</td>\n",
       "      <td>0</td>\n",
       "      <td>...</td>\n",
       "      <td>0</td>\n",
       "      <td>0</td>\n",
       "      <td>0</td>\n",
       "      <td>0</td>\n",
       "      <td>0</td>\n",
       "      <td>0</td>\n",
       "      <td>0</td>\n",
       "      <td>0</td>\n",
       "      <td>0</td>\n",
       "      <td>0</td>\n",
       "    </tr>\n",
       "    <tr>\n",
       "      <th>2</th>\n",
       "      <td>12</td>\n",
       "      <td>13</td>\n",
       "      <td>34</td>\n",
       "      <td>17</td>\n",
       "      <td>0</td>\n",
       "      <td>0</td>\n",
       "      <td>1</td>\n",
       "      <td>0</td>\n",
       "      <td>0</td>\n",
       "      <td>1</td>\n",
       "      <td>...</td>\n",
       "      <td>0</td>\n",
       "      <td>0</td>\n",
       "      <td>0</td>\n",
       "      <td>0</td>\n",
       "      <td>0</td>\n",
       "      <td>0</td>\n",
       "      <td>0</td>\n",
       "      <td>0</td>\n",
       "      <td>0</td>\n",
       "      <td>0</td>\n",
       "    </tr>\n",
       "    <tr>\n",
       "      <th>3</th>\n",
       "      <td>5</td>\n",
       "      <td>22</td>\n",
       "      <td>26</td>\n",
       "      <td>7</td>\n",
       "      <td>0</td>\n",
       "      <td>0</td>\n",
       "      <td>0</td>\n",
       "      <td>0</td>\n",
       "      <td>0</td>\n",
       "      <td>0</td>\n",
       "      <td>...</td>\n",
       "      <td>0</td>\n",
       "      <td>0</td>\n",
       "      <td>0</td>\n",
       "      <td>0</td>\n",
       "      <td>0</td>\n",
       "      <td>0</td>\n",
       "      <td>0</td>\n",
       "      <td>0</td>\n",
       "      <td>0</td>\n",
       "      <td>0</td>\n",
       "    </tr>\n",
       "    <tr>\n",
       "      <th>4</th>\n",
       "      <td>18</td>\n",
       "      <td>10</td>\n",
       "      <td>30</td>\n",
       "      <td>25</td>\n",
       "      <td>0</td>\n",
       "      <td>0</td>\n",
       "      <td>0</td>\n",
       "      <td>0</td>\n",
       "      <td>0</td>\n",
       "      <td>0</td>\n",
       "      <td>...</td>\n",
       "      <td>0</td>\n",
       "      <td>0</td>\n",
       "      <td>0</td>\n",
       "      <td>0</td>\n",
       "      <td>0</td>\n",
       "      <td>0</td>\n",
       "      <td>0</td>\n",
       "      <td>0</td>\n",
       "      <td>0</td>\n",
       "      <td>0</td>\n",
       "    </tr>\n",
       "  </tbody>\n",
       "</table>\n",
       "<p>5 rows × 9401 columns</p>\n",
       "</div>"
      ],
      "text/plain": [
       "   Fr1(chg)/A  Fr1(chg)/B  Fr1(chg)/C  Fr1(chg)/D  Fr2(chg)/A_A/1_2a/  \\\n",
       "0          14          10          36          20                   0   \n",
       "1           9          16          37           9                   0   \n",
       "2          12          13          34          17                   0   \n",
       "3           5          22          26           7                   0   \n",
       "4          18          10          30          25                   0   \n",
       "\n",
       "   Fr2(chg)/A_A/1_2s/  Fr2(chg)/A_B/1_2a/  Fr2(chg)/A_B/1_2s/  \\\n",
       "0                   0                   0                   0   \n",
       "1                   0                   2                   0   \n",
       "2                   0                   1                   0   \n",
       "3                   0                   0                   0   \n",
       "4                   0                   0                   0   \n",
       "\n",
       "   Fr2(chg)/A_C/1_2a/  Fr2(chg)/A_C/1_2d/  ...  \\\n",
       "0                   2                   0  ...   \n",
       "1                   2                   0  ...   \n",
       "2                   0                   1  ...   \n",
       "3                   0                   0  ...   \n",
       "4                   0                   0  ...   \n",
       "\n",
       "   S_A(type)/N.AR_N.PL3_O.2_S.O2/2_4s,3_4d/4  \\\n",
       "0                                          0   \n",
       "1                                          0   \n",
       "2                                          0   \n",
       "3                                          0   \n",
       "4                                          0   \n",
       "\n",
       "   S_A(type)/N.AR_O.2_O.2_S.O2/2_4d,3_4d/4  \\\n",
       "0                                        0   \n",
       "1                                        0   \n",
       "2                                        0   \n",
       "3                                        0   \n",
       "4                                        0   \n",
       "\n",
       "   S_A(type)/N.AR_O.2_O.3_S.O2/1_3s,2_4d/3  \\\n",
       "0                                        0   \n",
       "1                                        0   \n",
       "2                                        0   \n",
       "3                                        0   \n",
       "4                                        0   \n",
       "\n",
       "   S_A(type)/N.PL3_O.2_O.2_S.O2/1_4s,2_4d,3_4d/5  \\\n",
       "0                                              0   \n",
       "1                                              0   \n",
       "2                                              0   \n",
       "3                                              0   \n",
       "4                                              0   \n",
       "\n",
       "   S_A(type)/N.PL3_O.2_O.2_S.O2/2_4d,3_4d/4  \\\n",
       "0                                         0   \n",
       "1                                         0   \n",
       "2                                         0   \n",
       "3                                         0   \n",
       "4                                         0   \n",
       "\n",
       "   S_A(type)/N.PL3_O.2_O.3_S.O2/1_4s,2_4d/4  \\\n",
       "0                                         0   \n",
       "1                                         0   \n",
       "2                                         0   \n",
       "3                                         0   \n",
       "4                                         0   \n",
       "\n",
       "   S_A(type)/N.PL3_O.2_S.3_S.O2/1_4s,2_4d/4  \\\n",
       "0                                         0   \n",
       "1                                         0   \n",
       "2                                         0   \n",
       "3                                         0   \n",
       "4                                         0   \n",
       "\n",
       "   S_A(type)/O.2_O.2_O.2_S.O2/2_4d,3_4d/4  \\\n",
       "0                                       0   \n",
       "1                                       0   \n",
       "2                                       0   \n",
       "3                                       0   \n",
       "4                                       0   \n",
       "\n",
       "   S_A(type)/O.2_O.2_O.3_S.O2/1_4d,2_4d/4  \\\n",
       "0                                       0   \n",
       "1                                       0   \n",
       "2                                       0   \n",
       "3                                       0   \n",
       "4                                       0   \n",
       "\n",
       "   S_A(type)/O.2_O.2_S.3_S.O2/1_4d,2_4d/4  \n",
       "0                                       0  \n",
       "1                                       0  \n",
       "2                                       0  \n",
       "3                                       0  \n",
       "4                                       0  \n",
       "\n",
       "[5 rows x 9401 columns]"
      ]
     },
     "execution_count": 4,
     "metadata": {},
     "output_type": "execute_result"
    }
   ],
   "source": [
    "desc = pd.read_csv('descriptors/sirms-chembl-pdb-sars-cov-3C-like-proteinase.txt', skiprows=[0,1], sep='\\t')\n",
    "desc.drop(desc.columns[0:2], axis=1,inplace=True)\n",
    "descriptors = desc.columns.difference(moldf.columns).tolist()\n",
    "desc.head()"
   ]
  },
  {
   "cell_type": "code",
   "execution_count": 5,
   "metadata": {},
   "outputs": [
    {
     "name": "stdout",
     "output_type": "stream",
     "text": [
      "Training set shape: Counter({0: 73, 1: 40})\n",
      "External set shape: Counter()\n"
     ]
    }
   ],
   "source": [
    "moldf_desc = pd.concat([moldf,desc], axis=1)\n",
    "balance_data = 'no'\n",
    "\n",
    "if balance_data == 'yes':\n",
    "    # Balance data using 1/2 similarity and 1/2 random\n",
    "    moldf_desc = BalanceBySim(moldf_desc, 'Outcome', 2)\n",
    "    # Print shape\n",
    "    print('Training set shape: %s' % Counter(moldf_desc['Outcome'].loc[moldf_desc['Set'] == 'train']))\n",
    "    print('External set shape: %s' % Counter(moldf_desc['Outcome'].loc[moldf_desc['Set'] == 'ext']))\n",
    "      \n",
    "else:\n",
    "    moldf_desc['Set'] = 'train'\n",
    "    # Print shape\n",
    "    print('Training set shape: %s' % Counter(moldf_desc['Outcome']))\n",
    "    print('External set shape: %s' % Counter(moldf_desc['Outcome'].loc[moldf_desc['Set'] == 'ext']))"
   ]
  },
  {
   "cell_type": "code",
   "execution_count": 6,
   "metadata": {
    "scrolled": true
   },
   "outputs": [
    {
     "data": {
      "text/plain": [
       "(113, 9401)"
      ]
     },
     "execution_count": 6,
     "metadata": {},
     "output_type": "execute_result"
    }
   ],
   "source": [
    "moldf_train = moldf_desc[(moldf_desc['Set'] == 'train')]\n",
    "\n",
    "y_train = moldf_train['Outcome'].to_numpy()\n",
    "X_train = moldf_train[descriptors]\n",
    "X_train.shape"
   ]
  },
  {
   "cell_type": "markdown",
   "metadata": {},
   "source": [
    "##### Remove constant and near constant variables"
   ]
  },
  {
   "cell_type": "code",
   "execution_count": 7,
   "metadata": {},
   "outputs": [],
   "source": [
    "X_train = X_train.select_dtypes(exclude=['object'])\n",
    "X_train = X_train.dropna(axis=1, how='any')\n",
    "X_train = X_train.fillna(0)\n",
    "\n",
    "# Def low variance filter (10% threshold)\n",
    "def variance_filter(data, threshold=0.1):\n",
    "    selector = VarianceThreshold(threshold)\n",
    "    selector.fit(data)\n",
    "    return data[data.columns[selector.get_support(indices=True)]]\n",
    "\n",
    "# Apply filter\n",
    "X_train = variance_filter(X_train)"
   ]
  },
  {
   "cell_type": "markdown",
   "metadata": {},
   "source": [
    "##### Remove correlated variables"
   ]
  },
  {
   "cell_type": "code",
   "execution_count": 8,
   "metadata": {},
   "outputs": [
    {
     "name": "stdout",
     "output_type": "stream",
     "text": [
      "CPU times: user 2min 3s, sys: 40 ms, total: 2min 3s\n",
      "Wall time: 2min 3s\n"
     ]
    },
    {
     "data": {
      "text/plain": [
       "(113, 1262)"
      ]
     },
     "execution_count": 8,
     "metadata": {},
     "output_type": "execute_result"
    }
   ],
   "source": [
    "%%time\n",
    "correlated_features = set()  \n",
    "correlation_matrix = X_train.corr()\n",
    "\n",
    "for i in range(len(correlation_matrix.columns)):  \n",
    "    for j in range(i):\n",
    "        if abs(correlation_matrix.iloc[i, j]) > 0.9:\n",
    "            colname = correlation_matrix.columns[i]\n",
    "            correlated_features.add(colname)\n",
    "\n",
    "X_train.drop(labels=correlated_features, axis=1, inplace=True)\n",
    "\n",
    "X_train.shape"
   ]
  },
  {
   "cell_type": "code",
   "execution_count": 9,
   "metadata": {},
   "outputs": [],
   "source": [
    "X_train.to_csv('descriptors/sirms-chembl-sars-cov-3C-like-proteinase-processed.txt', sep='\\t', index=False)"
   ]
  },
  {
   "cell_type": "markdown",
   "metadata": {},
   "source": [
    "## Model building"
   ]
  },
  {
   "cell_type": "markdown",
   "metadata": {},
   "source": [
    "### Modeling data"
   ]
  },
  {
   "cell_type": "markdown",
   "metadata": {},
   "source": [
    "##### Find best parameters"
   ]
  },
  {
   "cell_type": "code",
   "execution_count": 10,
   "metadata": {},
   "outputs": [
    {
     "name": "stdout",
     "output_type": "stream",
     "text": [
      "Fitting 5 folds for each of 200 candidates, totalling 1000 fits\n"
     ]
    },
    {
     "name": "stderr",
     "output_type": "stream",
     "text": [
      "[Parallel(n_jobs=-1)]: Using backend LokyBackend with 12 concurrent workers.\n",
      "[Parallel(n_jobs=-1)]: Done  26 tasks      | elapsed:    2.7s\n",
      "[Parallel(n_jobs=-1)]: Done 176 tasks      | elapsed:   14.5s\n",
      "[Parallel(n_jobs=-1)]: Done 426 tasks      | elapsed:   35.0s\n",
      "[Parallel(n_jobs=-1)]: Done 776 tasks      | elapsed:  1.1min\n"
     ]
    },
    {
     "name": "stdout",
     "output_type": "stream",
     "text": [
      "\n",
      "Best params: {'class_weight': {0: 0.7, 1: 0.3}, 'criterion': 'gini', 'max_features': 'auto', 'n_estimators': 100, 'random_state': 33}\n",
      "Score: 0.79\n",
      "CPU times: user 2.95 s, sys: 127 ms, total: 3.08 s\n",
      "Wall time: 1min 22s\n"
     ]
    },
    {
     "name": "stderr",
     "output_type": "stream",
     "text": [
      "[Parallel(n_jobs=-1)]: Done 1000 out of 1000 | elapsed:  1.4min finished\n"
     ]
    }
   ],
   "source": [
    "%%time\n",
    "# Number of trees in random forest\n",
    "n_estimators = [100, 250, 500, 750, 1000]\n",
    "max_features = ['auto', 'sqrt']\n",
    "criterion = ['gini', 'entropy']\n",
    "if balance_data == 'yes':\n",
    "    class_weight = [None]\n",
    "else:\n",
    "    class_weight = [None,'balanced',\n",
    "                    {0:.9, 1:.1}, {0:.8, 1:.2}, {0:.7, 1:.3}, {0:.6, 1:.4},\n",
    "                    {0:.4, 1:.6}, {0:.3, 1:.7}, {0:.2, 1:.8}, {0:.1, 1:.9}]\n",
    "random_state = [33]\n",
    "\n",
    "# Create the random grid\n",
    "param_grid = {'n_estimators': n_estimators,\n",
    "              'max_features': max_features,\n",
    "              'criterion': criterion,\n",
    "              'random_state': random_state,\n",
    "              'class_weight': class_weight}\n",
    "\n",
    "# setup model building\n",
    "rf = GridSearchCV(RandomForestClassifier(), param_grid, n_jobs=-1, cv=5, verbose=1)\n",
    "rf.fit(X_train, y_train)\n",
    "print()\n",
    "print('Best params: %s' % rf.best_params_)\n",
    "print('Score: %.2f' % rf.best_score_)"
   ]
  },
  {
   "cell_type": "markdown",
   "metadata": {},
   "source": [
    "##### Model w/ best parameters"
   ]
  },
  {
   "cell_type": "code",
   "execution_count": 11,
   "metadata": {},
   "outputs": [
    {
     "data": {
      "text/plain": [
       "RandomForestClassifier(bootstrap=True, ccp_alpha=0.0,\n",
       "                       class_weight={0: 0.7, 1: 0.3}, criterion='gini',\n",
       "                       max_depth=None, max_features='auto', max_leaf_nodes=None,\n",
       "                       max_samples=None, min_impurity_decrease=0.0,\n",
       "                       min_impurity_split=None, min_samples_leaf=1,\n",
       "                       min_samples_split=2, min_weight_fraction_leaf=0.0,\n",
       "                       n_estimators=100, n_jobs=-1, oob_score=False,\n",
       "                       random_state=33, verbose=0, warm_start=False)"
      ]
     },
     "execution_count": 11,
     "metadata": {},
     "output_type": "execute_result"
    }
   ],
   "source": [
    "rf_best = RandomForestClassifier(**rf.best_params_, n_jobs=-1)\n",
    "rf_best.fit(X_train, y_train)"
   ]
  },
  {
   "cell_type": "markdown",
   "metadata": {},
   "source": [
    "##### 5-fold cross-validation"
   ]
  },
  {
   "cell_type": "code",
   "execution_count": 12,
   "metadata": {},
   "outputs": [],
   "source": [
    "# Params\n",
    "pred = []\n",
    "ad = []\n",
    "index = []\n",
    "cross_val = StratifiedKFold(n_splits=5)\n",
    "\n",
    "# Do 5-fold loop\n",
    "for train_index, test_index in cross_val.split(X_train, y_train):\n",
    "    \n",
    "    fold_model = rf_best.fit(X_train.iloc[train_index], y_train[train_index])\n",
    "    fold_pred = rf_best.predict(X_train.iloc[test_index])\n",
    "    fold_ad = rf_best.predict_proba(X_train.iloc[test_index])\n",
    "    pred.append(fold_pred)\n",
    "    ad.append(fold_ad)\n",
    "    index.append(test_index)"
   ]
  },
  {
   "cell_type": "code",
   "execution_count": 13,
   "metadata": {},
   "outputs": [
    {
     "name": "stdout",
     "output_type": "stream",
     "text": [
      "\u001b[1m5-fold External Cross Validation Statistical Characteristcs of QSAR models developed SiRMS\n",
      "\u001b[0m\n"
     ]
    },
    {
     "data": {
      "text/html": [
       "<div>\n",
       "<style scoped>\n",
       "    .dataframe tbody tr th:only-of-type {\n",
       "        vertical-align: middle;\n",
       "    }\n",
       "\n",
       "    .dataframe tbody tr th {\n",
       "        vertical-align: top;\n",
       "    }\n",
       "\n",
       "    .dataframe thead th {\n",
       "        text-align: right;\n",
       "    }\n",
       "</style>\n",
       "<table border=\"1\" class=\"dataframe\">\n",
       "  <thead>\n",
       "    <tr style=\"text-align: right;\">\n",
       "      <th></th>\n",
       "      <th>Accuracy</th>\n",
       "      <th>AUC</th>\n",
       "      <th>Kappa</th>\n",
       "      <th>CCR</th>\n",
       "      <th>Sensitivity</th>\n",
       "      <th>PPV</th>\n",
       "      <th>Specificity</th>\n",
       "      <th>NPV</th>\n",
       "      <th>Coverage</th>\n",
       "    </tr>\n",
       "  </thead>\n",
       "  <tbody>\n",
       "    <tr>\n",
       "      <th>SiRMS</th>\n",
       "      <td>0.7876</td>\n",
       "      <td>0.7565</td>\n",
       "      <td>0.5249</td>\n",
       "      <td>0.7565</td>\n",
       "      <td>0.65</td>\n",
       "      <td>0.7222</td>\n",
       "      <td>0.8630</td>\n",
       "      <td>0.8182</td>\n",
       "      <td>1.00</td>\n",
       "    </tr>\n",
       "    <tr>\n",
       "      <th>SiRMS AD</th>\n",
       "      <td>0.8551</td>\n",
       "      <td>0.8259</td>\n",
       "      <td>0.6751</td>\n",
       "      <td>0.8259</td>\n",
       "      <td>0.72</td>\n",
       "      <td>0.8571</td>\n",
       "      <td>0.9318</td>\n",
       "      <td>0.8542</td>\n",
       "      <td>0.61</td>\n",
       "    </tr>\n",
       "  </tbody>\n",
       "</table>\n",
       "</div>"
      ],
      "text/plain": [
       "          Accuracy     AUC   Kappa     CCR  Sensitivity     PPV  Specificity  \\\n",
       "SiRMS       0.7876  0.7565  0.5249  0.7565         0.65  0.7222       0.8630   \n",
       "SiRMS AD    0.8551  0.8259  0.6751  0.8259         0.72  0.8571       0.9318   \n",
       "\n",
       "             NPV  Coverage  \n",
       "SiRMS     0.8182      1.00  \n",
       "SiRMS AD  0.8542      0.61  "
      ]
     },
     "execution_count": 13,
     "metadata": {},
     "output_type": "execute_result"
    }
   ],
   "source": [
    "threshold_ad = 0.70\n",
    "\n",
    "# Prepare results to export    \n",
    "fold_index = np.concatenate(index)    \n",
    "fold_pred = np.concatenate(pred)\n",
    "fold_ad = np.concatenate(ad)\n",
    "fold_ad = (np.amax(fold_ad, axis=1) >= threshold_ad).astype(str)\n",
    "five_fold_sirms = pd.DataFrame({'Prediction': fold_pred,'AD': fold_ad}, index=list(fold_index))\n",
    "five_fold_sirms.AD[five_fold_sirms.AD == 'False'] = np.nan\n",
    "five_fold_sirms.AD[five_fold_sirms.AD == 'True'] = five_fold_sirms.Prediction\n",
    "five_fold_sirms.sort_index(inplace=True)\n",
    "five_fold_sirms['y_train'] = pd.DataFrame(y_train)\n",
    "five_fold_sirms_ad = five_fold_sirms.dropna().astype(int)\n",
    "coverage_5f = len(five_fold_sirms_ad) / len(five_fold_sirms)\n",
    "\n",
    "# sirms stats\n",
    "sirms = pd.DataFrame(stats(five_fold_sirms['y_train'], five_fold_sirms['Prediction']))\n",
    "sirms['Coverage'] = 1.0\n",
    "\n",
    "# sirms AD stats\n",
    "sirms_ad = five_fold_sirms.dropna(subset=['AD']).astype(int)\n",
    "coverage_sirms_ad = len(sirms_ad['AD']) / len(five_fold_sirms['y_train'])\n",
    "sirms_ad = pd.DataFrame(stats(sirms_ad['y_train'], sirms_ad['AD']))\n",
    "sirms_ad['Coverage'] = round(coverage_sirms_ad, 2)\n",
    "\n",
    "# print stats\n",
    "print('\\033[1m' + '5-fold External Cross Validation Statistical Characteristcs of QSAR models developed SiRMS' + '\\n' + '\\033[0m')\n",
    "sirms_5f_stats = sirms.append(sirms_ad)\n",
    "sirms_5f_stats.set_index([['SiRMS', 'SiRMS AD']], drop=True, inplace=True)\n",
    "sirms_5f_stats"
   ]
  },
  {
   "cell_type": "markdown",
   "metadata": {},
   "source": [
    "##### Predict external withheld set after balancing"
   ]
  },
  {
   "cell_type": "code",
   "execution_count": 14,
   "metadata": {},
   "outputs": [],
   "source": [
    "moldf_ext = moldf_desc[(moldf_desc['Set'] == 'ext')]\n",
    "descriptor_list = list(X_train.columns.values)\n",
    "\n",
    "if len(moldf_ext) > 0:\n",
    "    y_ext = moldf_ext['Outcome'].to_numpy()\n",
    "    X_ext = moldf_ext[descriptors]\n",
    "    \n",
    "    # Filter out descriptors not present in the model\n",
    "    X_ext = X_ext[descriptor_list]\n",
    "    \n",
    "    # Make predictions\n",
    "    ext_set_sirms = rf_best.predict(X_ext)\n",
    "    ext_set_sirms_ad = rf_best.predict_proba(X_ext)\n",
    "    ext_set_sirms_ad = (np.amax(ext_set_sirms_ad, axis=1) >= threshold_ad).astype(str)\n",
    "    \n",
    "    # Prepare data\n",
    "    ext_set_sirms = pd.DataFrame({'Prediction': ext_set_sirms,'AD': ext_set_sirms_ad})\n",
    "    ext_set_sirms.AD[ext_set_sirms.AD == 'False'] = np.nan\n",
    "    ext_set_sirms.AD[ext_set_sirms.AD == 'True'] = ext_set_sirms.Prediction\n",
    "    ext_set_sirms.sort_index(inplace=True)\n",
    "    ext_set_sirms['y_ext'] = pd.DataFrame(y_ext)\n",
    "    ext_set_sirms_ad = ext_set_sirms.dropna().astype(int)\n",
    "    coverage_ext = len(ext_set_sirms_ad) / len(ext_set_sirms)\n",
    "    \n",
    "    # ext_set_sirms stats\n",
    "    sirms_ext = pd.DataFrame(stats(ext_set_sirms['y_ext'], ext_set_sirms['Prediction']))\n",
    "    sirms_ext['Coverage'] = 1.0\n",
    "    \n",
    "    # ext_set_sirms AD stats\n",
    "    sirms_ext_ad = ext_set_sirms.dropna(subset=['AD']).astype(int)\n",
    "    coverage_sirms_ext_ad = len(sirms_ext_ad['AD']) / len(ext_set_sirms['y_ext'])\n",
    "    sirms_ext_ad = pd.DataFrame(stats(sirms_ext_ad['y_ext'], sirms_ext_ad['AD']))\n",
    "    sirms_ext_ad['Coverage'] = round(coverage_sirms_ext_ad, 2)\n",
    "    \n",
    "    # print stats\n",
    "    print('\\033[1m' + 'Statistical Characteristcs of the Prediction of the External Withheld Set by SiRMS Models' + '\\n' + '\\033[0m')\n",
    "    ext_set_sirms_stats = sirms_ext.append(sirms_ext_ad)\n",
    "    ext_set_sirms_stats.set_index([['SiRMS Ext.', 'SiRMS Ext. AD']], drop=True, inplace=True)\n",
    "    ext_set_sirms_stats\n",
    "else:\n",
    "    pass"
   ]
  },
  {
   "cell_type": "markdown",
   "metadata": {},
   "source": [
    "##### Y-randomization"
   ]
  },
  {
   "cell_type": "code",
   "execution_count": 15,
   "metadata": {},
   "outputs": [
    {
     "name": "stderr",
     "output_type": "stream",
     "text": [
      "[Parallel(n_jobs=-1)]: Using backend LokyBackend with 12 concurrent workers.\n"
     ]
    },
    {
     "name": "stdout",
     "output_type": "stream",
     "text": [
      "True score =  0.76 \n",
      "Y-randomization =  0.49 \n",
      "p-value =  0.0476\n"
     ]
    },
    {
     "name": "stderr",
     "output_type": "stream",
     "text": [
      "[Parallel(n_jobs=-1)]: Done  18 out of  20 | elapsed:    4.0s remaining:    0.4s\n",
      "[Parallel(n_jobs=-1)]: Done  20 out of  20 | elapsed:    4.0s finished\n"
     ]
    }
   ],
   "source": [
    "permutations = 20\n",
    "score, permutation_scores, pvalue = permutation_test_score(rf_best, X_train, y_train,\n",
    "                                                           cv=5, scoring='balanced_accuracy',\n",
    "                                                           n_permutations=permutations,\n",
    "                                                           n_jobs=-1,\n",
    "                                                           verbose=1,\n",
    "                                                           random_state=24)\n",
    "print('True score = ', score.round(2),\n",
    "      '\\nY-randomization = ', np.mean(permutation_scores).round(2),\n",
    "      '\\np-value = ', pvalue.round(4))"
   ]
  },
  {
   "cell_type": "markdown",
   "metadata": {},
   "source": [
    "##### Save model"
   ]
  },
  {
   "cell_type": "code",
   "execution_count": 16,
   "metadata": {},
   "outputs": [],
   "source": [
    "with gzip.GzipFile('model/sars-cov-3clpro-sirms_RF_ad_balanced.pgz', 'w') as f:\n",
    "    cPickle.dump(rf_best, f)"
   ]
  },
  {
   "cell_type": "markdown",
   "metadata": {},
   "source": [
    "### Plot stats"
   ]
  },
  {
   "cell_type": "code",
   "execution_count": 17,
   "metadata": {},
   "outputs": [],
   "source": [
    "# Export stats\n",
    "if len(moldf_ext) > 0:\n",
    "    sirms_stats = pd.concat([sirms_5f_stats, ext_set_sirms_stats], axis=0)\n",
    "    sirms_stats\n",
    "else:\n",
    "    sirms_stats = sirms_5f_stats.copy()"
   ]
  },
  {
   "cell_type": "code",
   "execution_count": 18,
   "metadata": {},
   "outputs": [
    {
     "data": {
      "image/png": "[encoded data removed]",
      "text/plain": [
       "<Figure size 1040x650 with 1 Axes>"
      ]
     },
     "metadata": {
      "needs_background": "light"
     },
     "output_type": "display_data"
    }
   ],
   "source": [
    "# Transpose stats\n",
    "sirms_stats_t = sirms_stats.T\n",
    "sirms_stats_t = sirms_stats_t.reset_index()\n",
    "sirms_stats_t = sirms_stats_t.rename(columns={'index': 'Stats'})\n",
    "\n",
    "# Make plot\n",
    "plt.style.use('seaborn-colorblind')\n",
    "fig, ax1 = plt.subplots(figsize=(8,5), dpi=130)\n",
    "\n",
    "sirms_stats_t.plot(kind='bar', ax=ax1, width=0.8)\n",
    "ax1.set_xticklabels(labels=sirms_stats_t['Stats'].tolist(), fontsize=14, rotation=0)\n",
    "ax1.axhline(y=.6, color='indianred', ls='dashed')\n",
    "ax1.legend_.remove()\n",
    "plt.title('Statistical characteristics', fontsize=16)\n",
    "ax1.set_yticks(np.arange(0, 1.1, 0.1))\n",
    "ax1.tick_params(labelsize=12)\n",
    "\n",
    "handles, labels = ax1.get_legend_handles_labels()\n",
    "ax1.legend(handles, labels, fontsize=12,\n",
    "            loc='upper center', bbox_to_anchor=(0.5, -0.09), ncol=4)\n",
    "fig.tight_layout()\n",
    "\n",
    "plt.savefig('statistics-sirms.png', bbox_inches='tight', transparent=False, format='png', dpi=300)\n",
    "plt.show();"
   ]
  },
  {
   "cell_type": "markdown",
   "metadata": {},
   "source": [
    "# DRAGON"
   ]
  },
  {
   "cell_type": "markdown",
   "metadata": {},
   "source": [
    "## Import descriptors\n",
    "\n",
    "Descriptors were calculated externally using HitQSAR"
   ]
  },
  {
   "cell_type": "code",
   "execution_count": 19,
   "metadata": {},
   "outputs": [
    {
     "data": {
      "text/html": [
       "<div>\n",
       "<style scoped>\n",
       "    .dataframe tbody tr th:only-of-type {\n",
       "        vertical-align: middle;\n",
       "    }\n",
       "\n",
       "    .dataframe tbody tr th {\n",
       "        vertical-align: top;\n",
       "    }\n",
       "\n",
       "    .dataframe thead th {\n",
       "        text-align: right;\n",
       "    }\n",
       "</style>\n",
       "<table border=\"1\" class=\"dataframe\">\n",
       "  <thead>\n",
       "    <tr style=\"text-align: right;\">\n",
       "      <th></th>\n",
       "      <th>MW</th>\n",
       "      <th>AMW</th>\n",
       "      <th>Sv</th>\n",
       "      <th>Se</th>\n",
       "      <th>Sp</th>\n",
       "      <th>Si</th>\n",
       "      <th>Mv</th>\n",
       "      <th>Me</th>\n",
       "      <th>Mp</th>\n",
       "      <th>Mi</th>\n",
       "      <th>...</th>\n",
       "      <th>Psychotic-80</th>\n",
       "      <th>Psychotic-50</th>\n",
       "      <th>Hypertens-80</th>\n",
       "      <th>Hypertens-50</th>\n",
       "      <th>Hypnotic-80</th>\n",
       "      <th>Hypnotic-50</th>\n",
       "      <th>Neoplastic-80</th>\n",
       "      <th>Neoplastic-50</th>\n",
       "      <th>Infective-80</th>\n",
       "      <th>Infective-50</th>\n",
       "    </tr>\n",
       "  </thead>\n",
       "  <tbody>\n",
       "    <tr>\n",
       "      <th>0</th>\n",
       "      <td>551.73</td>\n",
       "      <td>6.897</td>\n",
       "      <td>46.109</td>\n",
       "      <td>81.025</td>\n",
       "      <td>48.165</td>\n",
       "      <td>92.012</td>\n",
       "      <td>0.576</td>\n",
       "      <td>1.013</td>\n",
       "      <td>0.602</td>\n",
       "      <td>1.150</td>\n",
       "      <td>...</td>\n",
       "      <td>0</td>\n",
       "      <td>0</td>\n",
       "      <td>0</td>\n",
       "      <td>0</td>\n",
       "      <td>0</td>\n",
       "      <td>0</td>\n",
       "      <td>0</td>\n",
       "      <td>0</td>\n",
       "      <td>0</td>\n",
       "      <td>0</td>\n",
       "    </tr>\n",
       "    <tr>\n",
       "      <th>1</th>\n",
       "      <td>515.68</td>\n",
       "      <td>7.263</td>\n",
       "      <td>44.143</td>\n",
       "      <td>71.181</td>\n",
       "      <td>46.302</td>\n",
       "      <td>80.514</td>\n",
       "      <td>0.622</td>\n",
       "      <td>1.003</td>\n",
       "      <td>0.652</td>\n",
       "      <td>1.134</td>\n",
       "      <td>...</td>\n",
       "      <td>0</td>\n",
       "      <td>0</td>\n",
       "      <td>0</td>\n",
       "      <td>0</td>\n",
       "      <td>0</td>\n",
       "      <td>0</td>\n",
       "      <td>0</td>\n",
       "      <td>0</td>\n",
       "      <td>0</td>\n",
       "      <td>0</td>\n",
       "    </tr>\n",
       "    <tr>\n",
       "      <th>2</th>\n",
       "      <td>521.70</td>\n",
       "      <td>6.864</td>\n",
       "      <td>43.867</td>\n",
       "      <td>76.814</td>\n",
       "      <td>45.949</td>\n",
       "      <td>87.388</td>\n",
       "      <td>0.577</td>\n",
       "      <td>1.011</td>\n",
       "      <td>0.605</td>\n",
       "      <td>1.150</td>\n",
       "      <td>...</td>\n",
       "      <td>0</td>\n",
       "      <td>0</td>\n",
       "      <td>0</td>\n",
       "      <td>0</td>\n",
       "      <td>0</td>\n",
       "      <td>0</td>\n",
       "      <td>0</td>\n",
       "      <td>0</td>\n",
       "      <td>0</td>\n",
       "      <td>0</td>\n",
       "    </tr>\n",
       "    <tr>\n",
       "      <th>3</th>\n",
       "      <td>428.57</td>\n",
       "      <td>7.143</td>\n",
       "      <td>38.036</td>\n",
       "      <td>59.672</td>\n",
       "      <td>40.273</td>\n",
       "      <td>67.022</td>\n",
       "      <td>0.634</td>\n",
       "      <td>0.995</td>\n",
       "      <td>0.671</td>\n",
       "      <td>1.117</td>\n",
       "      <td>...</td>\n",
       "      <td>1</td>\n",
       "      <td>0</td>\n",
       "      <td>1</td>\n",
       "      <td>0</td>\n",
       "      <td>0</td>\n",
       "      <td>0</td>\n",
       "      <td>1</td>\n",
       "      <td>0</td>\n",
       "      <td>1</td>\n",
       "      <td>0</td>\n",
       "    </tr>\n",
       "    <tr>\n",
       "      <th>4</th>\n",
       "      <td>638.71</td>\n",
       "      <td>7.695</td>\n",
       "      <td>50.135</td>\n",
       "      <td>85.676</td>\n",
       "      <td>50.671</td>\n",
       "      <td>95.146</td>\n",
       "      <td>0.604</td>\n",
       "      <td>1.032</td>\n",
       "      <td>0.610</td>\n",
       "      <td>1.146</td>\n",
       "      <td>...</td>\n",
       "      <td>0</td>\n",
       "      <td>0</td>\n",
       "      <td>0</td>\n",
       "      <td>0</td>\n",
       "      <td>0</td>\n",
       "      <td>0</td>\n",
       "      <td>0</td>\n",
       "      <td>0</td>\n",
       "      <td>0</td>\n",
       "      <td>0</td>\n",
       "    </tr>\n",
       "  </tbody>\n",
       "</table>\n",
       "<p>5 rows × 4567 columns</p>\n",
       "</div>"
      ],
      "text/plain": [
       "       MW    AMW      Sv      Se      Sp      Si     Mv     Me     Mp     Mi  \\\n",
       "0  551.73  6.897  46.109  81.025  48.165  92.012  0.576  1.013  0.602  1.150   \n",
       "1  515.68  7.263  44.143  71.181  46.302  80.514  0.622  1.003  0.652  1.134   \n",
       "2  521.70  6.864  43.867  76.814  45.949  87.388  0.577  1.011  0.605  1.150   \n",
       "3  428.57  7.143  38.036  59.672  40.273  67.022  0.634  0.995  0.671  1.117   \n",
       "4  638.71  7.695  50.135  85.676  50.671  95.146  0.604  1.032  0.610  1.146   \n",
       "\n",
       "   ...  Psychotic-80  Psychotic-50  Hypertens-80  Hypertens-50  Hypnotic-80  \\\n",
       "0  ...             0             0             0             0            0   \n",
       "1  ...             0             0             0             0            0   \n",
       "2  ...             0             0             0             0            0   \n",
       "3  ...             1             0             1             0            0   \n",
       "4  ...             0             0             0             0            0   \n",
       "\n",
       "   Hypnotic-50  Neoplastic-80  Neoplastic-50  Infective-80  Infective-50  \n",
       "0            0              0              0             0             0  \n",
       "1            0              0              0             0             0  \n",
       "2            0              0              0             0             0  \n",
       "3            0              1              0             1             0  \n",
       "4            0              0              0             0             0  \n",
       "\n",
       "[5 rows x 4567 columns]"
      ]
     },
     "execution_count": 19,
     "metadata": {},
     "output_type": "execute_result"
    }
   ],
   "source": [
    "desc = pd.read_csv('descriptors/dragon-chembl-pdb-sars-cov-3C-like-proteinase.txt', sep='\\t')\n",
    "desc.drop(desc.columns[0:1], axis=1,inplace=True)\n",
    "descriptors = desc.columns.difference(moldf.columns).tolist()\n",
    "desc.head()"
   ]
  },
  {
   "cell_type": "code",
   "execution_count": 20,
   "metadata": {},
   "outputs": [
    {
     "name": "stdout",
     "output_type": "stream",
     "text": [
      "Training set shape: Counter({0: 73, 1: 40})\n",
      "External set shape: Counter()\n"
     ]
    }
   ],
   "source": [
    "moldf_desc = pd.concat([moldf,desc], axis=1)\n",
    "balance_data = 'no'\n",
    "\n",
    "if balance_data == 'yes':\n",
    "    # Balance data using 1/2 similarity and 1/2 random\n",
    "    moldf_desc = BalanceBySim(moldf_desc, 'Outcome', 2)\n",
    "    # Print shape\n",
    "    print('Training set shape: %s' % Counter(moldf_desc['Outcome'].loc[moldf_desc['Set'] == 'train']))\n",
    "    print('External set shape: %s' % Counter(moldf_desc['Outcome'].loc[moldf_desc['Set'] == 'ext']))\n",
    "      \n",
    "else:\n",
    "    moldf_desc['Set'] = 'train'\n",
    "    # Print shape\n",
    "    print('Training set shape: %s' % Counter(moldf_desc['Outcome']))\n",
    "    print('External set shape: %s' % Counter(moldf_desc['Outcome'].loc[moldf_desc['Set'] == 'ext']))"
   ]
  },
  {
   "cell_type": "code",
   "execution_count": 21,
   "metadata": {},
   "outputs": [
    {
     "data": {
      "text/plain": [
       "(113, 4567)"
      ]
     },
     "execution_count": 21,
     "metadata": {},
     "output_type": "execute_result"
    }
   ],
   "source": [
    "moldf_train = moldf_desc[(moldf_desc['Set'] == 'train')]\n",
    "\n",
    "y_train = moldf_train['Outcome'].to_numpy()\n",
    "X_train = moldf_train[descriptors]\n",
    "X_train.shape"
   ]
  },
  {
   "cell_type": "markdown",
   "metadata": {},
   "source": [
    "##### Remove constant and near constant variables"
   ]
  },
  {
   "cell_type": "code",
   "execution_count": 22,
   "metadata": {},
   "outputs": [],
   "source": [
    "X_train = X_train.select_dtypes(exclude=['object'])\n",
    "X_train = X_train.dropna(axis=1, how='any')\n",
    "X_train = X_train.fillna(0)\n",
    "\n",
    "# Def low variance filter (10% threshold)\n",
    "def variance_filter(data, threshold=0.1):\n",
    "    selector = VarianceThreshold(threshold)\n",
    "    selector.fit(data)\n",
    "    return data[data.columns[selector.get_support(indices=True)]]\n",
    "\n",
    "# Apply filter\n",
    "X_train = variance_filter(X_train)"
   ]
  },
  {
   "cell_type": "markdown",
   "metadata": {},
   "source": [
    "##### Remove correlated variables"
   ]
  },
  {
   "cell_type": "code",
   "execution_count": 23,
   "metadata": {},
   "outputs": [
    {
     "data": {
      "text/plain": [
       "(113, 378)"
      ]
     },
     "execution_count": 23,
     "metadata": {},
     "output_type": "execute_result"
    }
   ],
   "source": [
    "correlated_features = set()  \n",
    "correlation_matrix = X_train.corr()\n",
    "\n",
    "for i in range(len(correlation_matrix.columns)):  \n",
    "    for j in range(i):\n",
    "        if abs(correlation_matrix.iloc[i, j]) > 0.9:\n",
    "            colname = correlation_matrix.columns[i]\n",
    "            correlated_features.add(colname)\n",
    "\n",
    "X_train.drop(labels=correlated_features, axis=1, inplace=True)\n",
    "\n",
    "X_train.shape"
   ]
  },
  {
   "cell_type": "code",
   "execution_count": 24,
   "metadata": {},
   "outputs": [],
   "source": [
    "X_train.to_csv('descriptors/dragon-chembl-sars-cov-3C-like-proteinase-processed.txt', sep='\\t', index=False)"
   ]
  },
  {
   "cell_type": "markdown",
   "metadata": {},
   "source": [
    "## Model building"
   ]
  },
  {
   "cell_type": "markdown",
   "metadata": {},
   "source": [
    "### Modeling data"
   ]
  },
  {
   "cell_type": "markdown",
   "metadata": {},
   "source": [
    "##### Find best parameters"
   ]
  },
  {
   "cell_type": "code",
   "execution_count": 25,
   "metadata": {},
   "outputs": [
    {
     "name": "stdout",
     "output_type": "stream",
     "text": [
      "Fitting 5 folds for each of 200 candidates, totalling 1000 fits\n"
     ]
    },
    {
     "name": "stderr",
     "output_type": "stream",
     "text": [
      "[Parallel(n_jobs=-1)]: Using backend LokyBackend with 12 concurrent workers.\n",
      "[Parallel(n_jobs=-1)]: Done  30 tasks      | elapsed:    2.3s\n",
      "[Parallel(n_jobs=-1)]: Done 212 tasks      | elapsed:   16.2s\n",
      "[Parallel(n_jobs=-1)]: Done 462 tasks      | elapsed:   36.3s\n",
      "[Parallel(n_jobs=-1)]: Done 812 tasks      | elapsed:  1.1min\n",
      "[Parallel(n_jobs=-1)]: Done 1000 out of 1000 | elapsed:  1.3min finished\n"
     ]
    },
    {
     "name": "stdout",
     "output_type": "stream",
     "text": [
      "\n",
      "Best params: {'class_weight': {0: 0.3, 1: 0.7}, 'criterion': 'gini', 'max_features': 'auto', 'n_estimators': 500, 'random_state': 33}\n",
      "Score: 0.76\n",
      "CPU times: user 3.31 s, sys: 95.5 ms, total: 3.4 s\n",
      "Wall time: 1min 19s\n"
     ]
    }
   ],
   "source": [
    "%%time\n",
    "# Number of trees in random forest\n",
    "n_estimators = [100, 250, 500, 750, 1000]\n",
    "max_features = ['auto', 'sqrt']\n",
    "criterion = ['gini', 'entropy']\n",
    "if balance_data == 'yes':\n",
    "    class_weight = [None]\n",
    "else:\n",
    "    class_weight = [None,'balanced',\n",
    "                    {0:.9, 1:.1}, {0:.8, 1:.2}, {0:.7, 1:.3}, {0:.6, 1:.4},\n",
    "                    {0:.4, 1:.6}, {0:.3, 1:.7}, {0:.2, 1:.8}, {0:.1, 1:.9}]\n",
    "random_state = [33]\n",
    "\n",
    "# Create the random grid\n",
    "param_grid = {'n_estimators': n_estimators,\n",
    "              'max_features': max_features,\n",
    "              'criterion': criterion,\n",
    "              'random_state': random_state,\n",
    "              'class_weight': class_weight}\n",
    "\n",
    "# setup model building\n",
    "rf = GridSearchCV(RandomForestClassifier(), param_grid, n_jobs=-1, cv=5, verbose=1)\n",
    "rf.fit(X_train, y_train)\n",
    "print()\n",
    "print('Best params: %s' % rf.best_params_)\n",
    "print('Score: %.2f' % rf.best_score_)"
   ]
  },
  {
   "cell_type": "markdown",
   "metadata": {},
   "source": [
    "##### Model w/ best parameters"
   ]
  },
  {
   "cell_type": "code",
   "execution_count": 26,
   "metadata": {},
   "outputs": [
    {
     "data": {
      "text/plain": [
       "RandomForestClassifier(bootstrap=True, ccp_alpha=0.0,\n",
       "                       class_weight={0: 0.3, 1: 0.7}, criterion='gini',\n",
       "                       max_depth=None, max_features='auto', max_leaf_nodes=None,\n",
       "                       max_samples=None, min_impurity_decrease=0.0,\n",
       "                       min_impurity_split=None, min_samples_leaf=1,\n",
       "                       min_samples_split=2, min_weight_fraction_leaf=0.0,\n",
       "                       n_estimators=500, n_jobs=-1, oob_score=False,\n",
       "                       random_state=33, verbose=0, warm_start=False)"
      ]
     },
     "execution_count": 26,
     "metadata": {},
     "output_type": "execute_result"
    }
   ],
   "source": [
    "rf_best = RandomForestClassifier(**rf.best_params_, n_jobs=-1)\n",
    "rf_best.fit(X_train, y_train)"
   ]
  },
  {
   "cell_type": "markdown",
   "metadata": {},
   "source": [
    "##### 5-fold cross-validation"
   ]
  },
  {
   "cell_type": "code",
   "execution_count": 27,
   "metadata": {},
   "outputs": [
    {
     "name": "stdout",
     "output_type": "stream",
     "text": [
      "\u001b[1m5-fold External Cross Validation Statistical Characteristcs of QSAR models developed Dragon\n",
      "\u001b[0m\n"
     ]
    },
    {
     "data": {
      "text/html": [
       "<div>\n",
       "<style scoped>\n",
       "    .dataframe tbody tr th:only-of-type {\n",
       "        vertical-align: middle;\n",
       "    }\n",
       "\n",
       "    .dataframe tbody tr th {\n",
       "        vertical-align: top;\n",
       "    }\n",
       "\n",
       "    .dataframe thead th {\n",
       "        text-align: right;\n",
       "    }\n",
       "</style>\n",
       "<table border=\"1\" class=\"dataframe\">\n",
       "  <thead>\n",
       "    <tr style=\"text-align: right;\">\n",
       "      <th></th>\n",
       "      <th>Accuracy</th>\n",
       "      <th>AUC</th>\n",
       "      <th>Kappa</th>\n",
       "      <th>CCR</th>\n",
       "      <th>Sensitivity</th>\n",
       "      <th>PPV</th>\n",
       "      <th>Specificity</th>\n",
       "      <th>NPV</th>\n",
       "      <th>Coverage</th>\n",
       "    </tr>\n",
       "  </thead>\n",
       "  <tbody>\n",
       "    <tr>\n",
       "      <th>Dragon</th>\n",
       "      <td>0.7611</td>\n",
       "      <td>0.7134</td>\n",
       "      <td>0.4496</td>\n",
       "      <td>0.7134</td>\n",
       "      <td>0.5500</td>\n",
       "      <td>0.7097</td>\n",
       "      <td>0.8767</td>\n",
       "      <td>0.7805</td>\n",
       "      <td>1.00</td>\n",
       "    </tr>\n",
       "    <tr>\n",
       "      <th>Dragon AD</th>\n",
       "      <td>0.8852</td>\n",
       "      <td>0.7812</td>\n",
       "      <td>0.6548</td>\n",
       "      <td>0.7812</td>\n",
       "      <td>0.5625</td>\n",
       "      <td>1.0000</td>\n",
       "      <td>1.0000</td>\n",
       "      <td>0.8654</td>\n",
       "      <td>0.54</td>\n",
       "    </tr>\n",
       "  </tbody>\n",
       "</table>\n",
       "</div>"
      ],
      "text/plain": [
       "           Accuracy     AUC   Kappa     CCR  Sensitivity     PPV  Specificity  \\\n",
       "Dragon       0.7611  0.7134  0.4496  0.7134       0.5500  0.7097       0.8767   \n",
       "Dragon AD    0.8852  0.7812  0.6548  0.7812       0.5625  1.0000       1.0000   \n",
       "\n",
       "              NPV  Coverage  \n",
       "Dragon     0.7805      1.00  \n",
       "Dragon AD  0.8654      0.54  "
      ]
     },
     "execution_count": 27,
     "metadata": {},
     "output_type": "execute_result"
    }
   ],
   "source": [
    "# Params\n",
    "pred = []\n",
    "ad = []\n",
    "index = []\n",
    "cross_val = StratifiedKFold(n_splits=5)\n",
    "\n",
    "# Do 5-fold loop\n",
    "for train_index, test_index in cross_val.split(X_train, y_train):\n",
    "    \n",
    "    fold_model = rf_best.fit(X_train.iloc[train_index], y_train[train_index])\n",
    "    fold_pred = rf_best.predict(X_train.iloc[test_index])\n",
    "    fold_ad = rf_best.predict_proba(X_train.iloc[test_index])\n",
    "    pred.append(fold_pred)\n",
    "    ad.append(fold_ad)\n",
    "    index.append(test_index)\n",
    "\n",
    "threshold_ad = 0.70\n",
    "\n",
    "# Prepare results to export    \n",
    "fold_index = np.concatenate(index)    \n",
    "fold_pred = np.concatenate(pred)\n",
    "fold_ad = np.concatenate(ad)\n",
    "fold_ad = (np.amax(fold_ad, axis=1) >= threshold_ad).astype(str)\n",
    "five_fold_dragon = pd.DataFrame({'Prediction': fold_pred,'AD': fold_ad}, index=list(fold_index))\n",
    "five_fold_dragon.AD[five_fold_dragon.AD == 'False'] = np.nan\n",
    "five_fold_dragon.AD[five_fold_dragon.AD == 'True'] = five_fold_dragon.Prediction\n",
    "five_fold_dragon.sort_index(inplace=True)\n",
    "five_fold_dragon['y_train'] = pd.DataFrame(y_train)\n",
    "five_fold_dragon_ad = five_fold_dragon.dropna().astype(int)\n",
    "coverage_5f = len(five_fold_dragon_ad) / len(five_fold_dragon)\n",
    "\n",
    "# dragon stats\n",
    "dragon = pd.DataFrame(stats(five_fold_dragon['y_train'], five_fold_dragon['Prediction']))\n",
    "dragon['Coverage'] = 1.0\n",
    "\n",
    "# dragon AD stats\n",
    "dragon_ad = five_fold_dragon.dropna(subset=['AD']).astype(int)\n",
    "coverage_dragon_ad = len(dragon_ad['AD']) / len(five_fold_dragon['y_train'])\n",
    "dragon_ad = pd.DataFrame(stats(dragon_ad['y_train'], dragon_ad['AD']))\n",
    "dragon_ad['Coverage'] = round(coverage_dragon_ad, 2)\n",
    "\n",
    "# print stats\n",
    "print('\\033[1m' + '5-fold External Cross Validation Statistical Characteristcs of QSAR models developed Dragon' + '\\n' + '\\033[0m')\n",
    "dragon_5f_stats = dragon.append(dragon_ad)\n",
    "dragon_5f_stats.set_index([['Dragon', 'Dragon AD']], drop=True, inplace=True)\n",
    "dragon_5f_stats"
   ]
  },
  {
   "cell_type": "markdown",
   "metadata": {},
   "source": [
    "##### Predict external withheld set after balancing"
   ]
  },
  {
   "cell_type": "code",
   "execution_count": 28,
   "metadata": {},
   "outputs": [],
   "source": [
    "moldf_ext = moldf_desc[(moldf_desc['Set'] == 'ext')]\n",
    "descriptor_list = list(X_train.columns.values)\n",
    "\n",
    "if len(moldf_ext) > 0:\n",
    "    y_ext = moldf_ext['Outcome'].to_numpy()\n",
    "    X_ext = moldf_ext[descriptors]\n",
    "    \n",
    "    # Filter out descriptors not present in the model\n",
    "    X_ext = X_ext[descriptor_list]\n",
    "    \n",
    "    # Make predictions\n",
    "    ext_set_dragon = rf_best.predict(X_ext)\n",
    "    ext_set_dragon_ad = rf_best.predict_proba(X_ext)\n",
    "    ext_set_dragon_ad = (np.amax(ext_set_dragon_ad, axis=1) >= threshold_ad).astype(str)\n",
    "    \n",
    "    # Prepare data\n",
    "    ext_set_dragon = pd.DataFrame({'Prediction': ext_set_dragon,'AD': ext_set_dragon_ad})\n",
    "    ext_set_dragon.AD[ext_set_dragon.AD == 'False'] = np.nan\n",
    "    ext_set_dragon.AD[ext_set_dragon.AD == 'True'] = ext_set_dragon.Prediction\n",
    "    ext_set_dragon.sort_index(inplace=True)\n",
    "    ext_set_dragon['y_ext'] = pd.DataFrame(y_ext)\n",
    "    ext_set_dragon_ad = ext_set_dragon.dropna().astype(int)\n",
    "    coverage_ext = len(ext_set_dragon_ad) / len(ext_set_dragon)\n",
    "    \n",
    "    # ext_set_dragon stats\n",
    "    dragon_ext = pd.DataFrame(stats(ext_set_dragon['y_ext'], ext_set_dragon['Prediction']))\n",
    "    dragon_ext['Coverage'] = 1.0\n",
    "    \n",
    "    # ext_set_dragon AD stats\n",
    "    dragon_ext_ad = ext_set_dragon.dropna(subset=['AD']).astype(int)\n",
    "    coverage_dragon_ext_ad = len(dragon_ext_ad['AD']) / len(ext_set_dragon['y_ext'])\n",
    "    dragon_ext_ad = pd.DataFrame(stats(dragon_ext_ad['y_ext'], dragon_ext_ad['AD']))\n",
    "    dragon_ext_ad['Coverage'] = round(coverage_dragon_ext_ad, 2)\n",
    "    \n",
    "    # print stats\n",
    "    print('\\033[1m' + 'Statistical Characteristcs of the Prediction of the External Withheld Set by Dragon Models' + '\\n' + '\\033[0m')\n",
    "    ext_set_dragon_stats = dragon_ext.append(dragon_ext_ad)\n",
    "    ext_set_dragon_stats.set_index([['Dragon Ext.', 'Dragon Ext. AD']], drop=True, inplace=True)\n",
    "    ext_set_dragon_stats\n",
    "else:\n",
    "    pass"
   ]
  },
  {
   "cell_type": "markdown",
   "metadata": {},
   "source": [
    "##### Y-randomization"
   ]
  },
  {
   "cell_type": "code",
   "execution_count": 29,
   "metadata": {},
   "outputs": [
    {
     "name": "stderr",
     "output_type": "stream",
     "text": [
      "[Parallel(n_jobs=-1)]: Using backend LokyBackend with 12 concurrent workers.\n",
      "[Parallel(n_jobs=-1)]: Done  18 out of  20 | elapsed:   12.6s remaining:    1.4s\n"
     ]
    },
    {
     "name": "stdout",
     "output_type": "stream",
     "text": [
      "True score =  0.71 \n",
      "Y-randomization =  0.51 \n",
      "p-value =  0.0476\n"
     ]
    },
    {
     "name": "stderr",
     "output_type": "stream",
     "text": [
      "[Parallel(n_jobs=-1)]: Done  20 out of  20 | elapsed:   12.9s finished\n"
     ]
    }
   ],
   "source": [
    "permutations = 20\n",
    "score, permutation_scores, pvalue = permutation_test_score(rf_best, X_train, y_train,\n",
    "                                                           cv=5, scoring='balanced_accuracy',\n",
    "                                                           n_permutations=permutations,\n",
    "                                                           n_jobs=-1,\n",
    "                                                           verbose=1,\n",
    "                                                           random_state=24)\n",
    "print('True score = ', score.round(2),\n",
    "      '\\nY-randomization = ', np.mean(permutation_scores).round(2),\n",
    "      '\\np-value = ', pvalue.round(4))"
   ]
  },
  {
   "cell_type": "markdown",
   "metadata": {},
   "source": [
    "##### Save model"
   ]
  },
  {
   "cell_type": "code",
   "execution_count": 30,
   "metadata": {},
   "outputs": [],
   "source": [
    "with gzip.GzipFile('model/sars-cov-3clpro-dragon_RF_ad_balanced.pgz', 'w') as f:\n",
    "    cPickle.dump(rf_best, f)"
   ]
  },
  {
   "cell_type": "markdown",
   "metadata": {},
   "source": [
    "### Plot stats"
   ]
  },
  {
   "cell_type": "code",
   "execution_count": 31,
   "metadata": {},
   "outputs": [
    {
     "data": {
      "text/html": [
       "<div>\n",
       "<style scoped>\n",
       "    .dataframe tbody tr th:only-of-type {\n",
       "        vertical-align: middle;\n",
       "    }\n",
       "\n",
       "    .dataframe tbody tr th {\n",
       "        vertical-align: top;\n",
       "    }\n",
       "\n",
       "    .dataframe thead th {\n",
       "        text-align: right;\n",
       "    }\n",
       "</style>\n",
       "<table border=\"1\" class=\"dataframe\">\n",
       "  <thead>\n",
       "    <tr style=\"text-align: right;\">\n",
       "      <th></th>\n",
       "      <th>Accuracy</th>\n",
       "      <th>AUC</th>\n",
       "      <th>Kappa</th>\n",
       "      <th>CCR</th>\n",
       "      <th>Sensitivity</th>\n",
       "      <th>PPV</th>\n",
       "      <th>Specificity</th>\n",
       "      <th>NPV</th>\n",
       "      <th>Coverage</th>\n",
       "    </tr>\n",
       "  </thead>\n",
       "  <tbody>\n",
       "    <tr>\n",
       "      <th>Dragon</th>\n",
       "      <td>0.7611</td>\n",
       "      <td>0.7134</td>\n",
       "      <td>0.4496</td>\n",
       "      <td>0.7134</td>\n",
       "      <td>0.5500</td>\n",
       "      <td>0.7097</td>\n",
       "      <td>0.8767</td>\n",
       "      <td>0.7805</td>\n",
       "      <td>1.00</td>\n",
       "    </tr>\n",
       "    <tr>\n",
       "      <th>Dragon AD</th>\n",
       "      <td>0.8852</td>\n",
       "      <td>0.7812</td>\n",
       "      <td>0.6548</td>\n",
       "      <td>0.7812</td>\n",
       "      <td>0.5625</td>\n",
       "      <td>1.0000</td>\n",
       "      <td>1.0000</td>\n",
       "      <td>0.8654</td>\n",
       "      <td>0.54</td>\n",
       "    </tr>\n",
       "  </tbody>\n",
       "</table>\n",
       "</div>"
      ],
      "text/plain": [
       "           Accuracy     AUC   Kappa     CCR  Sensitivity     PPV  Specificity  \\\n",
       "Dragon       0.7611  0.7134  0.4496  0.7134       0.5500  0.7097       0.8767   \n",
       "Dragon AD    0.8852  0.7812  0.6548  0.7812       0.5625  1.0000       1.0000   \n",
       "\n",
       "              NPV  Coverage  \n",
       "Dragon     0.7805      1.00  \n",
       "Dragon AD  0.8654      0.54  "
      ]
     },
     "execution_count": 31,
     "metadata": {},
     "output_type": "execute_result"
    }
   ],
   "source": [
    "# Export stats\n",
    "if len(moldf_ext) > 0:\n",
    "    dragon_stats = pd.concat([dragon_5f_stats, ext_set_dragon_stats], axis=0)\n",
    "    dragon_stats\n",
    "else:\n",
    "    dragon_stats = dragon_5f_stats.copy()\n",
    "    dragon_stats"
   ]
  },
  {
   "cell_type": "code",
   "execution_count": 32,
   "metadata": {},
   "outputs": [
    {
     "data": {
      "image/png": "[encoded data removed]",
      "text/plain": [
       "<Figure size 1040x650 with 1 Axes>"
      ]
     },
     "metadata": {
      "needs_background": "light"
     },
     "output_type": "display_data"
    }
   ],
   "source": [
    "# Transpose stats\n",
    "dragon_stats_t = dragon_stats.T\n",
    "dragon_stats_t = dragon_stats_t.reset_index()\n",
    "dragon_stats_t = dragon_stats_t.rename(columns={'index': 'Stats'})\n",
    "\n",
    "# Make plot\n",
    "plt.style.use('seaborn-colorblind')\n",
    "fig, ax1 = plt.subplots(figsize=(8,5), dpi=130)\n",
    "\n",
    "dragon_stats_t.plot(kind='bar', ax=ax1, width=0.8)\n",
    "ax1.set_xticklabels(labels=dragon_stats_t['Stats'].tolist(), fontsize=14, rotation=0)\n",
    "ax1.axhline(y=.6, color='indianred', ls='dashed')\n",
    "ax1.legend_.remove()\n",
    "plt.title('Statistical characteristics', fontsize=16)\n",
    "ax1.set_yticks(np.arange(0, 1.1, 0.1))\n",
    "ax1.tick_params(labelsize=12)\n",
    "\n",
    "handles, labels = ax1.get_legend_handles_labels()\n",
    "ax1.legend(handles, labels, fontsize=12,\n",
    "            loc='upper center', bbox_to_anchor=(0.5, -0.09), ncol=4)\n",
    "fig.tight_layout()\n",
    "\n",
    "plt.savefig('statistics-dragon.png', bbox_inches='tight', transparent=False, format='png', dpi=300)\n",
    "plt.show();"
   ]
  },
  {
   "cell_type": "markdown",
   "metadata": {},
   "source": [
    "# Consensus"
   ]
  },
  {
   "cell_type": "code",
   "execution_count": 33,
   "metadata": {},
   "outputs": [],
   "source": [
    "results_sirms = five_fold_sirms.drop(columns='y_train')\n",
    "results_sirms = five_fold_sirms.rename(columns={'Prediction':'sirms', 'AD':'sirms_ad'})\n",
    "results_dragon = five_fold_dragon.drop(columns='y_train')\n",
    "results_dragon = five_fold_dragon.rename(columns={'Prediction':'dragon', 'AD':'dragon_ad'})"
   ]
  },
  {
   "cell_type": "code",
   "execution_count": 34,
   "metadata": {},
   "outputs": [],
   "source": [
    "var = list(moldf.columns.values)\n",
    "moldf_train = moldf_train[var]\n",
    "predictions = pd.concat([moldf_train.reset_index(drop=True), results_sirms, results_dragon], axis=1)"
   ]
  },
  {
   "cell_type": "markdown",
   "metadata": {},
   "source": [
    "#### Consensus predictions"
   ]
  },
  {
   "cell_type": "code",
   "execution_count": 35,
   "metadata": {},
   "outputs": [],
   "source": [
    "# Consensus\n",
    "predictions['consensus'] = (predictions.sirms + predictions.dragon)/2\n",
    "predictions['consensus'] = np.where(predictions['consensus'] > 0.5, 1, 0)\n",
    "\n",
    "# Consensus AD\n",
    "for i in range(0, predictions.shape[0]):\n",
    "    if all([np.isnan(predictions.sirms_ad[i]) == False, np.isnan(predictions.dragon_ad[i]) == False]):\n",
    "        predictions.loc[i,'consensus_ad'] = (predictions.sirms_ad[i] + predictions.dragon_ad[i])/2\n",
    "        predictions.loc[i,'consensus_ad'] = np.where(predictions.loc[i,'consensus_ad'] > 0.5, 1, 0)\n",
    "    elif all([np.isnan(predictions.sirms_ad[i]) == True, np.isnan(predictions.dragon_ad[i]) == False]):\n",
    "        predictions.loc[i,'consensus_ad'] = predictions.dragon_ad[i]\n",
    "    elif all([np.isnan(predictions.sirms_ad[i]) == False, np.isnan(predictions.dragon_ad[i]) == True]):\n",
    "        predictions.loc[i,'consensus_ad'] = predictions.sirms_ad[i]\n",
    "    else:\n",
    "        predictions.loc[i,'consensus_ad']  = np.nan\n",
    "\n",
    "# Consensus Rigor\n",
    "for i in range(0, predictions.shape[0]):\n",
    "    if all([np.isnan(predictions.sirms_ad[i]) == False, np.isnan(predictions.dragon_ad[i]) == False]):\n",
    "        predictions.loc[i,'consensus_rigor'] = (predictions.sirms_ad[i] + predictions.dragon_ad[i])/2\n",
    "        predictions.loc[i,'consensus_rigor'] = np.where(predictions.loc[i,'consensus_rigor'] > 0.5, 1, 0)\n",
    "    else:\n",
    "        predictions.loc[i,'consensus_rigor']  = np.nan\n",
    "        \n",
    "predictions.drop(columns=['y_train', 'ID'], inplace=True)"
   ]
  },
  {
   "cell_type": "code",
   "execution_count": 36,
   "metadata": {},
   "outputs": [],
   "source": [
    "##### SiRMS\n",
    "\n",
    "# SiRMS stats\n",
    "sirms = pd.DataFrame(stats(predictions.Outcome, predictions.sirms))\n",
    "sirms['Coverage'] = 1.0\n",
    "\n",
    "# SiRMS AD stats\n",
    "sirms_ad = predictions.dropna(subset=['sirms_ad'])\n",
    "coverage_sirms_ad = len(sirms_ad.sirms_ad) / len(predictions.Outcome)\n",
    "sirms_ad = pd.DataFrame(stats(sirms_ad.Outcome, sirms_ad.sirms_ad.astype(int)))\n",
    "sirms_ad['Coverage'] = round(coverage_sirms_ad, 2)\n",
    "\n",
    "##### DRAGON\n",
    "\n",
    "# dragon stats\n",
    "dragon = pd.DataFrame(stats(predictions.Outcome, predictions.dragon))\n",
    "dragon['Coverage'] = 1.0\n",
    "\n",
    "# dragon AD stats\n",
    "dragon_ad = predictions.dropna(subset=['dragon_ad'])\n",
    "coverage_dragon_ad = len(dragon_ad.dragon_ad) / len(predictions.Outcome)\n",
    "dragon_ad = pd.DataFrame(stats(dragon_ad.Outcome, dragon_ad.dragon_ad.astype(int)))\n",
    "dragon_ad['Coverage'] = round(coverage_dragon_ad, 2)\n",
    "\n",
    "##### Consensus\n",
    "\n",
    "# consensus stats\n",
    "consensus = pd.DataFrame(stats(predictions.Outcome, predictions.consensus))\n",
    "consensus['Coverage'] = 1.0\n",
    "\n",
    "# consensus AD stats\n",
    "consensus_ad = predictions.dropna(subset=['consensus_ad'])\n",
    "coverage_consensus_ad = len(consensus_ad.consensus_ad) / len(predictions.Outcome)\n",
    "\n",
    "consensus_ad = pd.DataFrame(stats(consensus_ad.Outcome, consensus_ad.consensus_ad.astype(int)))\n",
    "consensus_ad['Coverage'] = round(coverage_consensus_ad, 2)\n",
    "\n",
    "# consensus rigor stats\n",
    "consensus_rigor = predictions.dropna(subset=['consensus_rigor'])\n",
    "coverage_consensus_rigor = len(consensus_rigor.consensus_rigor) / len(predictions.Outcome)\n",
    "consensus_rigor = pd.DataFrame(stats(consensus_rigor.Outcome, consensus_rigor.consensus_rigor.astype(int)))\n",
    "consensus_rigor['Coverage'] = round(coverage_consensus_rigor, 2)"
   ]
  },
  {
   "cell_type": "markdown",
   "metadata": {},
   "source": [
    "##### Export predictions"
   ]
  },
  {
   "cell_type": "code",
   "execution_count": 37,
   "metadata": {
    "scrolled": false
   },
   "outputs": [],
   "source": [
    "pred_exp = predictions.drop(columns=['Mol'])\n",
    "\n",
    "with pd.ExcelWriter('predictions-sirms-dragon.xlsx') as writer:\n",
    "    pred_exp.to_excel(writer, sheet_name='sirms-dragon', index=False)"
   ]
  },
  {
   "cell_type": "markdown",
   "metadata": {},
   "source": [
    "##### Stats"
   ]
  },
  {
   "cell_type": "code",
   "execution_count": 38,
   "metadata": {},
   "outputs": [
    {
     "data": {
      "text/html": [
       "<div>\n",
       "<style scoped>\n",
       "    .dataframe tbody tr th:only-of-type {\n",
       "        vertical-align: middle;\n",
       "    }\n",
       "\n",
       "    .dataframe tbody tr th {\n",
       "        vertical-align: top;\n",
       "    }\n",
       "\n",
       "    .dataframe thead th {\n",
       "        text-align: right;\n",
       "    }\n",
       "</style>\n",
       "<table border=\"1\" class=\"dataframe\">\n",
       "  <thead>\n",
       "    <tr style=\"text-align: right;\">\n",
       "      <th></th>\n",
       "      <th>Accuracy</th>\n",
       "      <th>AUC</th>\n",
       "      <th>Kappa</th>\n",
       "      <th>CCR</th>\n",
       "      <th>Sensitivity</th>\n",
       "      <th>PPV</th>\n",
       "      <th>Specificity</th>\n",
       "      <th>NPV</th>\n",
       "      <th>Coverage</th>\n",
       "    </tr>\n",
       "  </thead>\n",
       "  <tbody>\n",
       "    <tr>\n",
       "      <th>SiRMS</th>\n",
       "      <td>0.8551</td>\n",
       "      <td>0.8259</td>\n",
       "      <td>0.6751</td>\n",
       "      <td>0.8259</td>\n",
       "      <td>0.7200</td>\n",
       "      <td>0.8571</td>\n",
       "      <td>0.9318</td>\n",
       "      <td>0.8542</td>\n",
       "      <td>0.61</td>\n",
       "    </tr>\n",
       "    <tr>\n",
       "      <th>Dragon</th>\n",
       "      <td>0.8852</td>\n",
       "      <td>0.7812</td>\n",
       "      <td>0.6548</td>\n",
       "      <td>0.7812</td>\n",
       "      <td>0.5625</td>\n",
       "      <td>1.0000</td>\n",
       "      <td>1.0000</td>\n",
       "      <td>0.8654</td>\n",
       "      <td>0.54</td>\n",
       "    </tr>\n",
       "    <tr>\n",
       "      <th>Consensus</th>\n",
       "      <td>0.7788</td>\n",
       "      <td>0.7214</td>\n",
       "      <td>0.4779</td>\n",
       "      <td>0.7214</td>\n",
       "      <td>0.5250</td>\n",
       "      <td>0.7778</td>\n",
       "      <td>0.9178</td>\n",
       "      <td>0.7791</td>\n",
       "      <td>1.00</td>\n",
       "    </tr>\n",
       "    <tr>\n",
       "      <th>Consensus (AD)</th>\n",
       "      <td>0.8375</td>\n",
       "      <td>0.7926</td>\n",
       "      <td>0.6210</td>\n",
       "      <td>0.7926</td>\n",
       "      <td>0.6429</td>\n",
       "      <td>0.8571</td>\n",
       "      <td>0.9423</td>\n",
       "      <td>0.8305</td>\n",
       "      <td>0.71</td>\n",
       "    </tr>\n",
       "    <tr>\n",
       "      <th>Consensus Rigor</th>\n",
       "      <td>0.9200</td>\n",
       "      <td>0.8462</td>\n",
       "      <td>0.7691</td>\n",
       "      <td>0.8462</td>\n",
       "      <td>0.6923</td>\n",
       "      <td>1.0000</td>\n",
       "      <td>1.0000</td>\n",
       "      <td>0.9024</td>\n",
       "      <td>0.44</td>\n",
       "    </tr>\n",
       "  </tbody>\n",
       "</table>\n",
       "</div>"
      ],
      "text/plain": [
       "                 Accuracy     AUC   Kappa     CCR  Sensitivity     PPV  \\\n",
       "SiRMS              0.8551  0.8259  0.6751  0.8259       0.7200  0.8571   \n",
       "Dragon             0.8852  0.7812  0.6548  0.7812       0.5625  1.0000   \n",
       "Consensus          0.7788  0.7214  0.4779  0.7214       0.5250  0.7778   \n",
       "Consensus (AD)     0.8375  0.7926  0.6210  0.7926       0.6429  0.8571   \n",
       "Consensus Rigor    0.9200  0.8462  0.7691  0.8462       0.6923  1.0000   \n",
       "\n",
       "                 Specificity     NPV  Coverage  \n",
       "SiRMS                 0.9318  0.8542      0.61  \n",
       "Dragon                1.0000  0.8654      0.54  \n",
       "Consensus             0.9178  0.7791      1.00  \n",
       "Consensus (AD)        0.9423  0.8305      0.71  \n",
       "Consensus Rigor       1.0000  0.9024      0.44  "
      ]
     },
     "execution_count": 38,
     "metadata": {},
     "output_type": "execute_result"
    }
   ],
   "source": [
    "stats = pd.concat([sirms_ad, dragon_ad, consensus, consensus_ad, consensus_rigor], axis=0)\n",
    "stats.set_index([['SiRMS', 'Dragon', 'Consensus', 'Consensus (AD)', 'Consensus Rigor']], drop=True, inplace=True)\n",
    "\n",
    "stats"
   ]
  },
  {
   "cell_type": "code",
   "execution_count": 39,
   "metadata": {},
   "outputs": [
    {
     "data": {
      "image/png": "[encoded data removed]",
      "text/plain": [
       "<Figure size 1040x650 with 1 Axes>"
      ]
     },
     "metadata": {
      "needs_background": "light"
     },
     "output_type": "display_data"
    }
   ],
   "source": [
    "# Transpose stats\n",
    "stats_t = stats.T\n",
    "stats_t = stats_t.reset_index()\n",
    "stats_t = stats_t.rename(columns={'index': 'Stats'})\n",
    "\n",
    "# Make plot\n",
    "plt.style.use('seaborn-colorblind')\n",
    "fig, ax1 = plt.subplots(figsize=(8,5), dpi=130)\n",
    "\n",
    "stats_t.plot(kind='bar', ax=ax1, width=0.8)\n",
    "ax1.set_xticklabels(labels=stats_t['Stats'].tolist(), fontsize=14, rotation=0)\n",
    "ax1.axhline(y=.6, color='indianred', ls='dashed')\n",
    "ax1.legend_.remove()\n",
    "plt.title('Statistical Characteristics of QSAR ', fontsize=16)\n",
    "ax1.set_yticks(np.arange(0, 1.1, 0.1))\n",
    "ax1.tick_params(labelsize=12)\n",
    "\n",
    "handles, labels = ax1.get_legend_handles_labels()\n",
    "ax1.legend(handles, labels, fontsize=10,\n",
    "            loc='upper center', bbox_to_anchor=(0.5, -0.09), ncol=5)\n",
    "fig.tight_layout()\n",
    "\n",
    "plt.savefig('statistics-sirms-dragon-5f.png', bbox_inches='tight', transparent=False, format='png', dpi=300)\n",
    "plt.show();"
   ]
  }
 ],
 "metadata": {
  "kernelspec": {
   "display_name": "rdkit-env",
   "language": "python",
   "name": "my-rdkit-env"
  },
  "language_info": {
   "codemirror_mode": {
    "name": "ipython",
    "version": 3
   },
   "file_extension": ".py",
   "mimetype": "text/x-python",
   "name": "python",
   "nbconvert_exporter": "python",
   "pygments_lexer": "ipython3",
   "version": "3.6.10"
  }
 },
 "nbformat": 4,
 "nbformat_minor": 2
}
