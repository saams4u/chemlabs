{
 "cells": [
  {
   "cell_type": "markdown",
   "metadata": {},
   "source": [
    "# VS of phenotypic compounds tested in SARS-CoV-2  by (M<sup>pro</sup>) QSAR models of SARS-CoV"
   ]
  },
  {
   "cell_type": "markdown",
   "metadata": {},
   "source": [
    "## Importing modules and functions        \n",
    "    "
   ]
  },
  {
   "cell_type": "code",
   "execution_count": 1,
   "metadata": {},
   "outputs": [
    {
     "data": {
      "text/html": [
       "<style>.container { width:90% !important; }</style>"
      ],
      "text/plain": [
       "<IPython.core.display.HTML object>"
      ]
     },
     "metadata": {},
     "output_type": "display_data"
    }
   ],
   "source": [
    "import numpy as np\n",
    "import pandas as pd\n",
    "import seaborn as sns\n",
    "import matplotlib.pyplot as plt\n",
    "import csv\n",
    "import _pickle as cPickle\n",
    "import gzip\n",
    "\n",
    "from stats import *\n",
    "\n",
    "from collections import Counter\n",
    "\n",
    "from rdkit import Chem\n",
    "from rdkit.Chem import AllChem\n",
    "from rdkit.Chem import Draw\n",
    "from rdkit.Chem import PandasTools\n",
    "from rdkit.Chem.Draw import IPythonConsole\n",
    "\n",
    "from sklearn import metrics\n",
    "from sklearn.ensemble import RandomForestClassifier\n",
    "from sklearn.model_selection import train_test_split, cross_validate, GridSearchCV\n",
    "from sklearn.model_selection import permutation_test_score, StratifiedKFold\n",
    "\n",
    "def warn(*args, **kwargs):\n",
    "    pass\n",
    "import warnings\n",
    "warnings.filterwarnings(\"ignore\")\n",
    "warnings.warn = warn\n",
    "\n",
    "from IPython.core.interactiveshell import InteractiveShell\n",
    "InteractiveShell.ast_node_interactivity = \"all\"\n",
    "%matplotlib inline\n",
    "%reload_ext autoreload\n",
    "%autoreload 2\n",
    "Draw.DrawingOptions.atomLabelFontFace = \"DejaVu Sans\"\n",
    "Draw.DrawingOptions.atomLabelFontSize = 18\n",
    "\n",
    "from IPython.core.display import display, HTML\n",
    "display(HTML(\"<style>.container { width:90% !important; }</style>\"))"
   ]
  },
  {
   "cell_type": "markdown",
   "metadata": {},
   "source": [
    "# Import screening data"
   ]
  },
  {
   "cell_type": "code",
   "execution_count": 2,
   "metadata": {},
   "outputs": [],
   "source": [
    "# Set file path and format\n",
    "file = '../datasets/curated_data/ncats_cpe_final.sdf.gz'\n",
    "\n",
    "# Read SDF\n",
    "sdfInfo = dict(molColName='ROMol')\n",
    "moldf = PandasTools.LoadSDF(file, **sdfInfo);\n",
    "#print('Original data: ', moldf.shape)\n",
    "# Rename ROMol\n",
    "moldf = moldf.rename(columns={'ROMol': 'Mol'})\n",
    "# Remove missing RDKit molecules\n",
    "moldf = moldf[pd.notnull(moldf['Mol'])]\n",
    "if 'StandardizerResult' in moldf.columns:\n",
    "    moldf = moldf.drop(columns='StandardizerResult')"
   ]
  },
  {
   "cell_type": "code",
   "execution_count": 3,
   "metadata": {
    "scrolled": false
   },
   "outputs": [
    {
     "name": "stdout",
     "output_type": "stream",
     "text": [
      "Kept data:  (3957, 15)\n"
     ]
    },
    {
     "data": {
      "text/html": [
       "<div>\n",
       "<style scoped>\n",
       "    .dataframe tbody tr th:only-of-type {\n",
       "        vertical-align: middle;\n",
       "    }\n",
       "\n",
       "    .dataframe tbody tr th {\n",
       "        vertical-align: top;\n",
       "    }\n",
       "\n",
       "    .dataframe thead th {\n",
       "        text-align: right;\n",
       "    }\n",
       "</style>\n",
       "<table border=\"1\" class=\"dataframe\">\n",
       "  <thead>\n",
       "    <tr style=\"text-align: right;\">\n",
       "      <th></th>\n",
       "      <th>SAMPLE_ID</th>\n",
       "      <th>SAMPLE_ID_dup</th>\n",
       "      <th>SAMPLE_NAME</th>\n",
       "      <th>InChIKey</th>\n",
       "      <th>Prim_Assay_Outcome</th>\n",
       "      <th>Prim_Assay_pAC50_Median</th>\n",
       "      <th>Prim_Assay_curve_class</th>\n",
       "      <th>Molecular weight</th>\n",
       "      <th>GENERIC_NAMES</th>\n",
       "      <th>Outcome</th>\n",
       "      <th>ID</th>\n",
       "      <th>Mol</th>\n",
       "      <th>GENERIC_NAME</th>\n",
       "      <th>DRUGBANK_ID</th>\n",
       "      <th>DRUG_GROUPS</th>\n",
       "    </tr>\n",
       "  </thead>\n",
       "  <tbody>\n",
       "    <tr>\n",
       "      <th>0</th>\n",
       "      <td>NCGC00013037-01</td>\n",
       "      <td></td>\n",
       "      <td>Thanite</td>\n",
       "      <td>IXEVGHXRXDBAOB-UHFFFAOYNA-N</td>\n",
       "      <td>Inactive</td>\n",
       "      <td>NaN</td>\n",
       "      <td>4.0</td>\n",
       "      <td>253.36045837402344</td>\n",
       "      <td>(1,7,7-trimethyl-6-bicyclo[2.2.1]heptanyl) 2-t...</td>\n",
       "      <td>Inactive</td>\n",
       "      <td></td>\n",
       "      <td><img data-content=\"rdkit/molecule\" src=\"data:image/png;base64,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\" alt=\"Mol\"/></td>\n",
       "      <td>NaN</td>\n",
       "      <td>NaN</td>\n",
       "      <td>NaN</td>\n",
       "    </tr>\n",
       "  </tbody>\n",
       "</table>\n",
       "</div>"
      ],
      "text/plain": [
       "         SAMPLE_ID SAMPLE_ID_dup SAMPLE_NAME                     InChIKey  \\\n",
       "0  NCGC00013037-01                   Thanite  IXEVGHXRXDBAOB-UHFFFAOYNA-N   \n",
       "\n",
       "  Prim_Assay_Outcome Prim_Assay_pAC50_Median Prim_Assay_curve_class  \\\n",
       "0           Inactive                     NaN                    4.0   \n",
       "\n",
       "     Molecular weight                                      GENERIC_NAMES  \\\n",
       "0  253.36045837402344  (1,7,7-trimethyl-6-bicyclo[2.2.1]heptanyl) 2-t...   \n",
       "\n",
       "    Outcome ID                                                Mol  \\\n",
       "0  Inactive     <img data-content=\"rdkit/molecule\" src=\"data:i...   \n",
       "\n",
       "  GENERIC_NAME DRUGBANK_ID DRUG_GROUPS  \n",
       "0          NaN         NaN         NaN  "
      ]
     },
     "execution_count": 3,
     "metadata": {},
     "output_type": "execute_result"
    },
    {
     "name": "stdout",
     "output_type": "stream",
     "text": [
      "\n",
      " Problematic structures: \n",
      " []\n"
     ]
    }
   ],
   "source": [
    "# Columns\n",
    "print('Kept data: ', moldf.shape)\n",
    "moldf.head(1)\n",
    "from molvs.validate import Validator\n",
    "fmt = '%(asctime)s - %(levelname)s - %(validation)s - %(message)s'\n",
    "validator = Validator(log_format=fmt)\n",
    "print('\\n Problematic structures: \\n', validator.validate(moldf))"
   ]
  },
  {
   "cell_type": "markdown",
   "metadata": {},
   "source": [
    "### Calculate Morgan Fingerprints"
   ]
  },
  {
   "cell_type": "code",
   "execution_count": 4,
   "metadata": {},
   "outputs": [
    {
     "data": {
      "text/plain": [
       "(3957, 2048)"
      ]
     },
     "execution_count": 4,
     "metadata": {},
     "output_type": "execute_result"
    }
   ],
   "source": [
    "def calcfp(mol,funcFPInfo=dict(radius=3, nBits=2048, useFeatures=False, useChirality=False)):\n",
    "    fp = AllChem.GetMorganFingerprintAsBitVect(mol, **funcFPInfo)\n",
    "    fp = pd.Series(np.asarray(fp))\n",
    "    fp = fp.add_prefix('Bit_')\n",
    "    return fp\n",
    "\n",
    "X_vs = moldf.Mol.apply(calcfp)\n",
    "X_vs.shape"
   ]
  },
  {
   "cell_type": "markdown",
   "metadata": {},
   "source": [
    "# Virtual screening Morgan"
   ]
  },
  {
   "cell_type": "markdown",
   "metadata": {},
   "source": [
    "##### Load the model"
   ]
  },
  {
   "cell_type": "code",
   "execution_count": 5,
   "metadata": {
    "scrolled": true
   },
   "outputs": [],
   "source": [
    "with gzip.open('../model/sars-cov-3clpro-morgan_RF_ad_balanced.pgz', 'rb') as f:\n",
    "    model = cPickle.load(f)"
   ]
  },
  {
   "cell_type": "markdown",
   "metadata": {},
   "source": [
    "##### Predict molecules"
   ]
  },
  {
   "cell_type": "code",
   "execution_count": 6,
   "metadata": {},
   "outputs": [
    {
     "name": "stdout",
     "output_type": "stream",
     "text": [
      "CPU times: user 531 ms, sys: 53.8 ms, total: 585 ms\n",
      "Wall time: 433 ms\n"
     ]
    }
   ],
   "source": [
    "%%time\n",
    "ad_threshold = 0.70\n",
    "\n",
    "y_pred = model.predict(X_vs)\n",
    "confidence = model.predict_proba(X_vs)\n",
    "confidence = np.amax(confidence, axis=1).round(2)\n",
    "ad = confidence >= ad_threshold\n",
    "\n",
    "pred = pd.DataFrame({'Prediction': y_pred, 'AD': ad, 'Confidence': confidence}, index=None)\n",
    "pred.AD[pred.AD == False] = np.nan\n",
    "pred.AD[pred.AD == True] = pred.Prediction.astype(int)"
   ]
  },
  {
   "cell_type": "code",
   "execution_count": 7,
   "metadata": {},
   "outputs": [
    {
     "name": "stdout",
     "output_type": "stream",
     "text": [
      "VS pred: Counter({0: 3926, 1: 31})\n",
      "VS pred AD: Counter({0: 2102})\n",
      "Coverage of AD: 53.12%\n"
     ]
    }
   ],
   "source": [
    "pred_ad = pred.dropna().astype(int)\n",
    "coverage_ad = len(pred_ad) * 100 / len(pred)\n",
    "\n",
    "print('VS pred: %s' % Counter(pred.Prediction))\n",
    "print('VS pred AD: %s' % Counter(pred_ad.Prediction))\n",
    "print('Coverage of AD: %.2f%%' % coverage_ad)"
   ]
  },
  {
   "cell_type": "markdown",
   "metadata": {},
   "source": [
    "###  Visualize predictions"
   ]
  },
  {
   "cell_type": "code",
   "execution_count": 8,
   "metadata": {},
   "outputs": [
    {
     "data": {
      "text/html": [
       "<div>\n",
       "<style scoped>\n",
       "    .dataframe tbody tr th:only-of-type {\n",
       "        vertical-align: middle;\n",
       "    }\n",
       "\n",
       "    .dataframe tbody tr th {\n",
       "        vertical-align: top;\n",
       "    }\n",
       "\n",
       "    .dataframe thead th {\n",
       "        text-align: right;\n",
       "    }\n",
       "</style>\n",
       "<table border=\"1\" class=\"dataframe\">\n",
       "  <thead>\n",
       "    <tr style=\"text-align: right;\">\n",
       "      <th></th>\n",
       "      <th>SAMPLE_ID</th>\n",
       "      <th>SAMPLE_ID_dup</th>\n",
       "      <th>SAMPLE_NAME</th>\n",
       "      <th>InChIKey</th>\n",
       "      <th>Prim_Assay_Outcome</th>\n",
       "      <th>Prim_Assay_pAC50_Median</th>\n",
       "      <th>Prim_Assay_curve_class</th>\n",
       "      <th>Molecular weight</th>\n",
       "      <th>GENERIC_NAMES</th>\n",
       "      <th>Outcome</th>\n",
       "      <th>ID</th>\n",
       "      <th>Mol</th>\n",
       "      <th>GENERIC_NAME</th>\n",
       "      <th>DRUGBANK_ID</th>\n",
       "      <th>DRUG_GROUPS</th>\n",
       "      <th>Prediction</th>\n",
       "      <th>AD</th>\n",
       "      <th>Confidence</th>\n",
       "    </tr>\n",
       "  </thead>\n",
       "  <tbody>\n",
       "    <tr>\n",
       "      <th>0</th>\n",
       "      <td>NCGC00013037-01</td>\n",
       "      <td></td>\n",
       "      <td>Thanite</td>\n",
       "      <td>IXEVGHXRXDBAOB-UHFFFAOYNA-N</td>\n",
       "      <td>Inactive</td>\n",
       "      <td>NaN</td>\n",
       "      <td>4.0</td>\n",
       "      <td>253.36045837402344</td>\n",
       "      <td>(1,7,7-trimethyl-6-bicyclo[2.2.1]heptanyl) 2-t...</td>\n",
       "      <td>Inactive</td>\n",
       "      <td></td>\n",
       "      <td><img data-content=\"rdkit/molecule\" src=\"data:image/png;base64,iVBORw0KGgoAAAANSUhEUgAAAMgAAADICAIAAAAiOjnJAAAABmJLR0QA/wD/AP+gvaeTAAAVIklEQVR4nO3dfVxUVf4H8C/DDIw8LQ9KQoqoCIhJ0qRpgKXh45Jr6fgrN3DNGl+bObhtOtm+imwrp7Ka0N/alORvdH35atbcoiyV6UGHl6TOCAKJpIIKxEMgIE8zzMP5/XFwdhgFZoZ7xlW/71f/zL137jk2H+4999x7zvUihABCXOPd7Aqg2xMGCzGBwUJMYLAQExgsxAQGCzGBwUJMYLAQExgsxAQGCzGBwUJMYLAQExgsxAQGCzGBwUJMYLAQExgsxAQGCzGBwUJMYLAQExgsxAQGCzGBwUJMYLAQExgsxAQGCzGBwUJMYLAQExgsxAQGCzGBwUJMYLAQExgsxAQGCzGBwUJMYLAQExgsxAQGCzGBwUJMYLAQExgsxAQGCzGBwUJMYLAQExgsxAQGCzGBwUJMYLAQExgsxAQGCzGBwUJMYLAQExgsxAQGCzGBwUJMYLAQExgsxAQGCzGBwUJMYLAQExgsxAQGCzGBwUJMYLAQExgsxAQGCzGBwUIDef558PKCjIw+C4ODYcuWQb6IwUJ9mM2OS4YNgz174ORJ1/aDwUL/8dVXEBcHp0/3WRgbCwsWwAsvuLYrDBYCACgqgtRUWLQIKithxw7HtVu2wE8/wb59LuwQg3Wnu3IFsrJg6lQoKICwMFAo4MMPHbeZOBEkEpDJoKfH2d1isO5cZrM5N7c5JgZycoDHg7/+FSorISsLeDcKxaZN0NwMOTnO7hyDdYf68ccfRSKRXL6qvR0eeQSKimDLFggK6l1bXw///nef7YcPh7/9Dd58E5qanNo/BuuOc+nSJbFYPGvWrJKSEkLKvv76V40GJk3qXWsywYcfQnw8PPkknDvX54tZWRAaCq+95lQpfG4rjf6bdXd35+TkvPHGGx0dHX5+fuvXr3/ppZeEQqFtg4MHYd06qKgAAFi0CHx9+3zdxwfkcli+3LnCCLoz9PT0xMXFAYCXl9fy5ctramrs154/T8RiAkAAyIQJ5MCB3uVr1pB77+2zn5QUAkDefXeQ4jBYd5CXX345KSnp6NGj9gvb240bNxJfXwJAgoLIli2kp6fPtywWd8rCYHlUR0dHU1NTj8NP5ykGg8FsNtsvycvLGzMmOjGxzcuLZGSQuro+21dUkIULyQcfuFPWbR2slhayYQOJiSE+PiQkhMyfT3744WbVRafTSaXS0NDQJUuWjB079sSJEzerJpRer09OTqbNoSVLNh0/3mdtayt54QUiEBAAMm4c6ZtGp9y+wfrtNxIbS8aMISoVKSsjR4+SzEzC45EdOzxZi8bGxvfee2+S7aILIDw8HACGDRu2c+dOT9bEprm5WSqVent7A0BYWJhCobDYne2sVqJSkZEjCQDh8UhGBmlocKeU2zdYmZnEz49cvOi40NeX9G23smCxWPLz88VisY+PD81TaGioRCI5ffq0wWCQSqV0YUZGRldXF+vK2JhMJqVSOXz4cAAQCARSqbS1tdV+g5MnG6dO7W3Cp6aSoiL3y7pNg2UwEKGQrFnjuLyqigCQ995jV/Lly5flcnl0dDSNDo/HS0tLU6vVDu2q3bt3+/n5AUBSUlJlZSW7+th89913S5YsobWaP3/+2bNn7dfW1dVJJBJ//7DRo02RkUSlIlbrkIq7TYNVUUEAiFJ5g1WBgUQiIQUF5B//IEVFxGTipECDwaBWq9PS0ry8vOiPN2HChOzs7EuXLvX3laKiovHjx9Pz0bfffstJNW6ouro6IyMDACIiIiZPnqxWq+3XGo3Gd999NygoCACEQuE773zb0cFBobdpsM6eJQDk449vsIoG689/7j3i+/uT5GQilRKVyvG86ZyysjKZTBYWFkbzJBQKxWJxfn6+1Yk/+ba2tscff5z2LclkMot7V/b96+zszM7OHjZsGAAEBARs3rzZYDDYb6DRaGztv/T09AsXLnBV9G0aLHoqfP55x+W2U+G//kWeeopMmNAbL9t/0dHVq1crFIqffvrJaDQOUEJLS4tSqUxKSrK1ykUikUKhaG5udqmmVqtVLpd7e3v/5S9Tz56dbTK51VS+kby8PNsZOT09/fpj5wvXnrGKj48/dOgQV+VSHgpWXV1dU1NTVVWVJworLydmc2/j/fLlPqtWriS+vqS6+j9L2tpIfj7Jzibp6SQ0lAD8X0oK/d/N5/MTEhIkEolKpSorK6Ob01Z5RkYGbSEBQEhIiEQiKRpKQ5eQ77/XnD49XqeDkpLozk7dUHZFCCkvL583bx6tXlJSklar7afQ7wMCArKzsx0OY5xgHiyr1apSqcLCwmbPni0QCCQSSW1tLcPyVCri50c2buztbhg7luzeTX7+mRQUkJUrB+lusFhIaWnBP//59NNPT5o0idf38ZHIyMiZM2dGRUXRj97e3gsXLty3b9/ABzbn9fTUlJfP0OlAr/dtaFC4txOz+crly8/Pn/8AAIwYMUKpVA58enW4KuQQ22BVVFQ89NBD9JcYP3487Tuhtz+bmpo4Lqyri6xc2XtGk0iI1UquXCHr15Px44lAQIKDybx55Pvvnd9fe3u7VqtVKBTBwcG0SU7/CSNHjnzmmWfOnTvHcf0JsVpNNTUynQ50OqiqyrBYOl35rrmx8aPi4uE6HRw4MD4rK+vKlSuc19B5rIJlMpnkcjm9c37XXXepVCpCSHl5eUZGBj0SBAQEyGSylpYWbso7d47cey8BIEIh+eQTbvZJCCHEYrHQs97Jkye1Wm1RUZFYLAaA3bt3c1iKvebmPadO+et0cObMFIPhvDNf6eg4Xl7+AE1kRcXDXV0ljOrmPCbBOnXq1H333UcPVGKx+LfffrNfW1paSn8b2m0ol8s7O13407yBL78kwcG99+VPnx7Srq5TVVVFz4O2JZMnT6Y547Yge93d5WVlE3U6KCoKamnZP8CWPT21VVUZOp2XTgclJaOamlTsauUSjoPV2dkpk8noKW/cuHGHDx/ub8vCwsLZs2fTeI0YMUIul3d3d7tcnslEZDLi5UUAyOLFhKvjn51vvvkGAGbPnk0/WiwWoVDo5eXV1tbGeVn2zObW8+cX63Rw/vxjFkt7Tc3G0tKYU6eExcVh5eXTGxo+sFrNdXVv0mPbqVN+v/76msXiuU78QXEZrAMHDowZM4ZeT0ml0g4nOtry8/OnTp1K4xUVFaVUKk1O91jW1NRsXb6ceHsTHx+icLO1O6j3338fAJ577jn68fz58wAwevRoRsX1ZW1s/F+zufXChaXFxSOamlRdXSUdHccaG7dXV79ICKmoeFing3Pn0o3GKo/UxwXcBKu+vj7j2mjZKVOmuHqayM/Pt3UIxcfHq1SqQbsK8/PzR4wYAQCH//AHUlg4hLoPYvXq1QCQk5NDP3799dcAMGfOHHYlXsei1/vW1b11/YqurtKrV124HPEkDoKlVqvpfU0/Pz+5XG524xkLQiwWi1qtjo2NpfG655571Gr1DTuvbT2KADBr1qz6+voh/wsGQq9qbef0LVu2AMDatWuZFuqgpCTql1/mmc038yrPVUMK1oULF+bMmWO7rzn0/k+TyaRSqcaNG0f3OX36dI1GY79BU1PTggULbPdA3AuxS+666y4AuHyto/WZZ54BgG3btrEu1157+5HS0rF6Pf/MmfsuXVrd2ppHyNBuEbPnZrBMJpNCofD396dXdsob3u51l9FoVCqVERERNF7JyclHjhwhhOh0urFjxwLA8OHDDx48yGGJ/em6ckUcGxsZGmo7dqakpACAQ9w9wtLRcaKhYeuFC/+j1wt++WW+1cr8j2oo3AlWUVHR/fffb+tNaGxs5LxahJCOjo4333wzJCTE1nSjzzY9+OCD1fb3ZJg6dowAEJHItuCz+fPXJCbWsn+iawAtLV/qdNDaemDwTW8e14Jl35swduxYzu9cXu/q1atyuTwwMDAkJITH40kkEq5uoTglN5cAkD/+sfdjU1PvkIMhPqw0NN3dP+t00NT06U2sw6BcCFZDQwNtcPD5/PXr1w+1V9MVhYWFADBmzBiPldhrwwYCQP7+996PWi0BINOmebgWP/88ub7+vatXf+jqKmttzTtz5v5Tp/yNRk8dtt3iwoDVvLy8trY2ADCbzZ9//nl9fX1KSkpaWpqtrc3O6NGjAcBkMrEuyNHZswAA8fG9H8vL+3z0lJAQcWvr/vr6zRbLVYEg3N8/OTp6h4/PKA9XwyUuBOurr74yGAz33HNP5TW7d+8GgKioqJkzZ6ampqakpEycONH2CCWH6FVCZ2cn53sehEOS6BjhuDgP1yIi4pWIiFc8XOhQOX9we/LJJwFgz549JpNJp9MpFAqxWGx7cpIKCgpKS0uTy+VarZbDxlBPTw8A8Pl8rnboFKOR8PnE25vY7jX9/vcEgOwf6OYdolw4YtkOG3w+XyQSiUSirKwsAKisrNRoNAUFBVqt9uLFixqNRqPR0O2nTJlCT5fJycn0AVn3CAQCHx+fnp4eo9Ho6zCjADvnzoHZDDExYJvdwOHMiAbgfAbXrVsHAO+///4A29TW1qrVaqlUKhKJ7M+JNItSqVStVrv68C5F+x3c+66b9u0jACQ9vfejwUC8vQmfTzx5WXrLcueINcA2kZGRYrGYPhVTX19PD2NarbakpESv1+v1+pycHC8vL4lEkpmZ+eCDD7pUektLS2dnZ2hoqPPfGpKAAHjkEbBV8pdfwGKBuDi4NlQQDcCF+bFcakFbLJauri5fX9+QkJC7777bPg2EkE8++WTWrFn0jMmidG7MmwcaDWzc2Pvxd7+DjRvhT3/yXAVuZZwdsTo7O0tKSoqLi4uKioqLi0tLSw0Gg/0Gw4cPnzJlSlJSUmBg4KuvvtrT07NgwYLt27fTu29DLN0ToqLgrbduWum3GveD1draWlZWpr+moqLCYrHYbx8REUHb+JMmTUpISEhISLC1uo4eParRaMxms0Qiqampec2JWeICAgIAoKOjw/kKD1VrK2zeDPv3w+XL4O8PDzwAMhk8/LDnKnArcyFYtH/y+PHjjz766JkzZyorK/vsiM9PSEiwxWj69On0eakbWrdunUajCQ0NbW1t3bRpU3V1tVKp5PMHqoynj1hNTZCcDEYjvP46iERw5Qrs2AGPPAIffwyrVnmoDre0/lr1FotFr9fn5uauXbs2JSUlyDbv6TVBQUGpqalr167Nzc3V6/Uu9VpZrdb4+HgA2LBhA+2GWLRo0cD3iJYuXQoADsPDGbqpc4rcBvoNlslksp+dEgACAwMBYNSoUXQA5xDHg2/btg0AUlJSCgsL6bFt2rRpDf1PmbNixQoA8NDUPzdvTpHbRr9XhXw+/9FHH33iiSfkcvmhQ4caGhroRVxERERmZub14zldtXLlyrCwsIKCAh6Pd+zYsZiYmBMnTsyYMeOcw1S913i0jXXpEhgMkJjouDw6GgIDe2/soAENFA61Wr13716ZTDZ37tzw8HBuf1o/P79Vq1YBwNatW2NiYrRarUgkqqysnDFjxrFjx67f3qNtLEIAABjc9LxzsOrHcoZUKhUIBJ999llNTc3IkSN//PHHhQsXNjc3z507l45ZYFr6QKKjQSiEkhLH5RcvQnu7529C34puZrDuvvvuxx57zGQyffTRRwAQEBDw5ZdfPvvss52dnYsXL6YL2ZU+EF9fWLYMPv0Uqqv7LH/99d5VaFDON8e6uroAQCgUctjEo2e90NBQ2yBEq9WanZ1N6yaTyWwPm2/fvh0AVq9ezWHpA3FjThFkx7VHk+lDyc6PKXXG9OnTAcBhOMann35Ku7VWrFhBJ1nctWsXADz11FMcFj2Ioc0pcodzLVi0x4Hb0eV79+4FgISEBIdRhIcOHaLFpaWltbW17d+/HwAWL17MYdGIHde6DFg0dJYuXTp69OgzZ87k5+fbL587d+53330XHh6u0WhSU1O7u7s5Lxqx41qwWHQm8fn8NWvWAIBCoXBYNXXq1MLCwtjY2JKSkhdffBEwWLeOm3/EAgCJROLv73/w4MFy+oy5nXHjxmm12mnTptXV1QFAbW0tt0UjRv4rghUSEpKZmUkIybnRGzzDw8N37twZFhbG4/Gqq6vj4uLefvvtxsZGbuuAOOZSi4zO1LBr1y7O23oVFRU8Hs/Pz89hCkmTyfTOO+/QOfUCAwPp+0IAwMfHZ9myZYcPH+Z8CmvECdeClZeXN3HiRD6fz2KO2oULFwLA5s2bbUuKi4tts2fRsfy2V4kIBAK6fNSoUTKZ7KJbU7QjdlwLltFoXLFiBaM5ag8fPgwAkZGRPT09XV1d2dnZND3R0dHXv7jh119/lcvl9M0O0P+bRdDN4s6kIOzmqE1MTASAV155hU6URSdraG9v7297i8Wi1WolEoltbFlERIRMJjt/3qk5YRE77s+P5TBHbXZ29tWrV4dYG/seh8TExOMOb9HrH31PROK1B114PF5ycrJSqfTku7WQvaHO6MfNHLWEELuZAQHg6aefdm8gtU6no50XdD/BwcH0ZW7uVQm5jZs5SLVabWpqKv0tXZ2jlhBSVVVle0UHffWDWCweSn3a2tqUSqVtSnAAEIlESqXSmfl2ESe4nDXZfo7auLg4Z+aotVgsSqWSdugHBwcrlcra2lofHx9vb29O3uJHX81lG9UYFBQkkUj0ev3Q94wGxvE8787PUUsIOX369LRp0+iW6enpNdcGKdAJmNevX89VrTo6OnJzc2fMmEHLEggEjGYhRDZM3kwx6By1tDeBTv0YGRm5v+/8LXq9nh7ABrgedE9ZWVlWVtaqVau43S26HsOXNPU3R+2RI0fi4uJsvQk3vJakLbatW7eyqx5iivlr5drb2+3nqI2JiaHjoQfuTfjiiy+WLVuGjaFbl4dehEnnqA0KCpo5c6ZQKMzOzvboHLXI47wIHerkEY2NjVar1Wg00lfuoNuYR4OF7hxDGs2MUH8wWIgJDBZiAoOFmMBgISYwWIgJDBZiAoOFmMBgISYwWIgJDBZiAoOFmMBgISYwWIgJDBZiAoOFmMBgISYwWIgJDBZiAoOFmMBgISYwWIgJDBZiAoOFmMBgISYwWIgJDBZiAoOFmMBgISYwWIgJDBZiAoOFmMBgISYwWIgJDBZiAoOFmMBgISYwWIgJDBZiAoOFmMBgISYwWIgJDBZiAoOFmMBgISYwWIgJDBZiAoOFmMBgISYwWIgJDBZiAoOFmMBgISYwWIgJDBZiAoOFmMBgISYwWIgJDBZiAoOFmMBgISYwWIiJ/wfCRlVC2Re3mAAAAABJRU5ErkJggg==\" alt=\"Mol\"/></td>\n",
       "      <td>NaN</td>\n",
       "      <td>NaN</td>\n",
       "      <td>NaN</td>\n",
       "      <td>Inactive</td>\n",
       "      <td>Inactive</td>\n",
       "      <td>0.72</td>\n",
       "    </tr>\n",
       "    <tr>\n",
       "      <th>1</th>\n",
       "      <td>NCGC00013082-04</td>\n",
       "      <td></td>\n",
       "      <td>trans-Aconitic acid</td>\n",
       "      <td>GTZCVFVGUGFEME-UHFFFAOYSA-N</td>\n",
       "      <td>Inactive</td>\n",
       "      <td>NaN</td>\n",
       "      <td>4.0</td>\n",
       "      <td>174.10824584960938</td>\n",
       "      <td></td>\n",
       "      <td>Inactive</td>\n",
       "      <td></td>\n",
       "      <td><img data-content=\"rdkit/molecule\" src=\"data:image/png;base64,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\" alt=\"Mol\"/></td>\n",
       "      <td>NaN</td>\n",
       "      <td>NaN</td>\n",
       "      <td>NaN</td>\n",
       "      <td>Inactive</td>\n",
       "      <td>Inactive</td>\n",
       "      <td>0.81</td>\n",
       "    </tr>\n",
       "    <tr>\n",
       "      <th>2</th>\n",
       "      <td>NCGC00013095-10</td>\n",
       "      <td></td>\n",
       "      <td>Geraniol</td>\n",
       "      <td>GLZPCOQZEFWAFX-UHFFFAOYSA-N</td>\n",
       "      <td>Inactive</td>\n",
       "      <td>NaN</td>\n",
       "      <td>4.0</td>\n",
       "      <td>154.24932861328125</td>\n",
       "      <td></td>\n",
       "      <td>Inactive</td>\n",
       "      <td></td>\n",
       "      <td><img data-content=\"rdkit/molecule\" src=\"data:image/png;base64,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\" alt=\"Mol\"/></td>\n",
       "      <td>NaN</td>\n",
       "      <td>NaN</td>\n",
       "      <td>NaN</td>\n",
       "      <td>Inactive</td>\n",
       "      <td>Inactive</td>\n",
       "      <td>0.85</td>\n",
       "    </tr>\n",
       "    <tr>\n",
       "      <th>3</th>\n",
       "      <td>NCGC00013109-03</td>\n",
       "      <td></td>\n",
       "      <td>Phenol red</td>\n",
       "      <td>BELBBZDIHDAJOR-UHFFFAOYSA-N</td>\n",
       "      <td>Inactive</td>\n",
       "      <td>NaN</td>\n",
       "      <td>4.0</td>\n",
       "      <td>354.37646484375</td>\n",
       "      <td>4-[3-(4-hydroxyphenyl)-1,1-dioxobenzo[c]oxathi...</td>\n",
       "      <td>Inactive</td>\n",
       "      <td></td>\n",
       "      <td><img data-content=\"rdkit/molecule\" src=\"data:image/png;base64,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\" alt=\"Mol\"/></td>\n",
       "      <td>Phenolsulfonphthalein</td>\n",
       "      <td>DB13212</td>\n",
       "      <td>experimental</td>\n",
       "      <td>Inactive</td>\n",
       "      <td>Inactive</td>\n",
       "      <td>0.76</td>\n",
       "    </tr>\n",
       "    <tr>\n",
       "      <th>4</th>\n",
       "      <td>NCGC00013216-05</td>\n",
       "      <td></td>\n",
       "      <td>2,3-Dimercapto-1-propanol</td>\n",
       "      <td>WQABCVAJNWAXTE-UHFFFAOYNA-N</td>\n",
       "      <td>Inactive</td>\n",
       "      <td>NaN</td>\n",
       "      <td>4.0</td>\n",
       "      <td>124.22502136230469</td>\n",
       "      <td>2,3-bis-sulfanylpropan-1-ol\\n2,3-Dimercaptopro...</td>\n",
       "      <td>Inactive</td>\n",
       "      <td></td>\n",
       "      <td><img data-content=\"rdkit/molecule\" src=\"data:image/png;base64,iVBORw0KGgoAAAANSUhEUgAAAMgAAADICAIAAAAiOjnJAAAABmJLR0QA/wD/AP+gvaeTAAAPYUlEQVR4nO3de1CTZ74H8O+bBBISAgIR4Ygog9wEdEHp6HhZt7q1ta6XOd1RvKycrju2Pe2CrHKk662to3adY9uZrjNeOtbaOq6dM9J1e7bWbXexjm5bAXe5KWhBSBNAokBuJCF59w9YrTbhYnny5PL7/JUmT/J8id8+78ubN7yCKIogZLRJeAcggYmKRZigYhEmqFiECSoWYYKKRZigYhEmqFiECSoWYYKKRZigYhEmqFiECSoWYYKKRZigYhEmqFiECSoWYYKKRZigYhEmqFiECSoWYYKKRZigYhEmqFiECSoWYYKKRZigYhEmqFiECSoWYYKKRZigYhEmqFiECSoWYYKKRZigYhEmqFiECSoWYYKKRZigYhEmqFiECSoWYYKKRZigYhEmqFiECSoWYYKKRZigYhEmqFiECSoWYYKKRZigYhEmqFiECSoWYYKKRZigYhEmZIM/rNfv1um2A8jJMUok4W7HXLs202z+Uq3+cWrq3x56qKfnnMFwwmz+0uHQi6IjJCRWJosNC5uqVv9YrX48NDRxFH4C4pOGKNYjc7ksTU35XV1//O6ddrvWbtdaLJUGw7sREYtSUj5hNDvhjlWxWlqe729VZOTisWNfVCqnymSxLpept/ea0fhFV9cZQGA0NfEFTIrlcLQZDO8DiI5em5R04t79UmmUSjVLpZoVF1fS19fJYmriI5jsvFut1YALQEzMWk9jZDINi6mJj2BSLEEYeNm+vtssXp/4PiabQqVyuiDIRdGm072qUs2Uyyd7GimKzlu3fjnS1z98WKXTmUf0lJKSktTUVJmM1T4lechw3+iqKvXwX1QqHRMfv02n226zNdbUpIWHz1SpZiuVuSrVdLk85cGxToPh+PBfud+nn/5HRYVuRE+prKx85plnduzYMdK5yKMRRFEc5OF7x7GG9P3jWJ2d7+j1u+x27XfvlMnGjhmzYty43ygUqQAAl8Hw3sgiA+XlIT09juGPb2xs3Lt3r0KhqK+vnzhx4kinI49guMXKzm6WSFRuxzQ2PmmxVLg9QCqKTpPpC6PxrxbLFYvlqsMxsMwIQkhi4u81ml/98B9gmFauXHn69OnVq1d/8MEHXps0mA23WI925P0hNlvTnTsn29r2uVwmQJKeflGlmvWIwUeotbU1PT3darWWl5fPnTvXO5MGM69+ViiXJ8XH/zY5+QwAwNXRcdBrU0+YMGHz5s2iKBYWFrpcLq/NG7Q4fAgdEbEwNHQCgN7eWm/Ou3Xr1sTExKqqquPHR/zrAhkpPmc3CIIMgCCEenPSsLCwPXv2ACgtLe3u7vbm1EGISbFstqaenvOeHu3u/thmawKgVOaymH0Qq1evnjt3bnt7+969e708dbBhUiyH49vGxidqa6fo9a8YjZ87HHqXy+pw6M3myy0t/33z5n8CEAR5bOxLLGYfhCAIb775pkQieeONNxoaGrw8e1BhciRaIlEIgrS3t16n2+V2gFQalZR0QqHIYDH74HJzc9evX3/s2LGSkpKysjLvBwgSTFYspXLG1Kltkya9q9E8q1TmSqVRgiCVSBShoQkREU8kJPxvVtaNyMinWUw9HHv37o2IiPjoo4/OnTvHK0PAG+I4VqDat29faWnplClTrl69GhISwjtOAArSc96Li4tTUlLq6uoOHTrEO0tgCtIVC0BZWdmKFSuioqIaGho0Gjo5bJQF6YoFYPny5YsWLbp79+4rr7zCO0sACt4VC0BdXd20adNEUayqqsrOzuYdJ6AE74oFYMqUKRs3bnQ6nUVFRbyzBJqgXrEA3L17NyUlxWAwlJWVLVu2jHecwBHUKxaAqKionTt3AiguLrbZbLzjBI5gLxaAF154ITs7+5tvvnnrrbd4Zwkcwb4p7Pf5558vWLBArVZfv349Pj6ed5xAQCsWADz++ONLly41Go3btm3jnSVA0Io14ObNm5mZmQ6H4/Lly4899hjvOH6PVqwBycnJ/WctFxUV0f9sPxytWPcZjca0tDS9Xn/y5Mn8/HzecfwbrVj3qdXq3bt3AygpKTGbR/ZNa/IQKtYDCgoK8vLytFrt/v37eWfxb7QpfNjly5dnz56tUCjq6uomTZrEO46/ohXrYbNmzVq1apXVat26dSvvLH6MViw3tFptenq62WwuLy+fN28e7zh+iVYsNxISErZs2QKgqKjI6XTyjuOXaMVyz2q1ZmRk3Lp168iRIxs2bOAdx/9QsTw6depUfn5+bGxsQ0NDZGQk7zh+hjaFHq1atWrevHkdHR39B7fIiNCKNZiqqqq8vDypVFpdXZ2amso7jj+hFWswOTk5BQUFdrt98+bNvLP4GVqxhtDe3p6cnCyKosVi4ZVh8eLFxcXFCxYs4BXgEdCK5QcuXLjw1FNP1dfX8w4yAlSsIbz88stms3nhwoUiP+vWrXM4HC+95O0/zvODcHy/fF9lZaVEIgkNDb1+/TrHGAaDISYmBsDZs2c5xhgRWrEGU1RU5HK5CgsL+f5KGB0dvX379v48fvNVIt7N9l0nT54EEBsb29XVxTuL6HA4srKyAOzfv593lmGhYrlnsVj6LzVw9OhR3lkGnD9/HoBardbpdLyzDI2K5V7/t1hzcnKcTifvLPctWbIEwIYNG3gHGRoVy43W1laVSgWgvLycd5YH3LhxQy6XSySSr7/+mneWIdDOuxtbtmwxm839nxXyzvKA5OTkF198sf/3CdHHj2zzbrbPuXTpkiAIYWFhzc3NvLO40dPTExcXB+DUqVO8swyGivUAp9OZl5cHYOfOnbyzeHT48GEACQkJJpOJdxaPqFgPOHr0qO//mzmdzhkzZgDYtWsX7ywe0T7WfU5nj9H4fxKJ8Prrr/fvvPsmiURy4MABQRCq//IXtLbyjuMB72b7EK225MoVVFSsdLlcvLMMreLXvxYBMT+fdxD36LSZATbbzdraTFF0pKf/XaXK4x1nGLRapKXBakV5OXzvCoy0KRyg1RaLok2jKfCPVgFISMDmzRBFFBbC967ASCsWABiNnzU0LJRK1ZmZ10NC/OcPr1mtyMjArVt45x08+yzvNA+gFQui2NfauglAXNw2f2oVgLAw7NkDAKWl8LErMFKxcPv2Qau1Wi5PHjeukHeWkcvPx9y56OgYaJjPCPZNYV/fndra1L4+Q3LyR2PGLOUd55FUVWHGDMhkqK6Gz3yVKNhXLJ1ue1+fQa1e4K+tApCTg/XrYbejpIR3lPuCesXq7a2rq5sGICOjMizMny950t6OtDR0d+OTT7BoEe80QJCvWK2tm0Sxb+zY5/27VQDGjUNpKQBs2gSHg3caIJiL1dV1pqfnU6k0Kj5+J+8so2HTJqSmor4evnEFxiAtlijatdr/ATB+/GsyWQzvOKMhNBS/+x0A7NiBzk7eaYK1WHb7t1KpKiwsS6PZyDvL6Fm2DAsXIiYGWi3vKEG88y6KTodDHxqawDvIqGprQ1QU5HLeOYK4WISpIN0UEtZ8ulh6/e6KCqGiQnC5TJ7GXLs2s6JCaGiY//2HenrONTWtralJqaoKr6yUV1dPqK+f3tz8XwbDu3Z7C8PcvsDlwocfYs0aTJ6MiAgolZg4EUuX4tAh9Pa6f8ru3RAECAJMHt9tzJwJQcD8+UPOL3vE3L7N5bI0NeV3df3xu3fa7Vq7XWuxVBoM70ZELEpJ+YRXPOb+8Q+sWYPa2gfubGlBSwvOnsWrr+LIESxezDSCT69Yj6yl5fn+VkVGLp48+f+nTtXm5tp/9KM76emXxo9/XaWaCQi8MzJz4QLmzEFtLUJCUFiIL79EdzfMZtTUYPduREZCp8PSpTh2jGmKAFyxHI42g+F9ANHRa5OSTty7XyqNUqlmqVSz4uJK+vr4H+lhQq/Hz38OkwnR0fjzn/Hd6+NlZiIzE+vW4ac/RUMDnnsOWVnIY3VWYwCuWFZrNeACEBOz1tMYmUzjxURe9Npr6OgAgOPH4faqi4mJKCuDQgG7HVu2sAsSgMUShIEfqq/vNt8k3mY2D2zg5szBkiUeh2Vk4Be/AIDycvzzn4yyBGCxlMrpgiAHoNO9arPd4B3Hiy5eHPiNb+XKIUauWjVw47PPGGXxj32sqir18AdLpWPi47fpdNtttsaamrTw8Jkq1WylMlelmi6Xp7ALyV9NzcCNGTOGGHlvQHW1m0fVI3i3PfGPYo1UfPy2kJB4vX6X3a41mS6ZTJf675fJxo4Zs2LcuN8oFL5ypuVouvfZs2aoPUi1GnI5bDZ2H1f7R7Gys5slEvdfTW5sfNJiqfj+/RrNL2NiCkymL4zGv1osVyyWqw6Hrq/vdmfnYYPhWGLi7zWaXzFOzY8w7IMpbkc2N8PTF8GffBIVbt7t7/OPYslkMRJJuNuHBMHjjyAIUrV6vlo9v/8/bbamO3dOtrXtc7lMt249FxaWpVLNYpGWm3sL1e3bSE4ebKTRiP6/ZRrj7pShmBiEu3+3IRtuYQJw590TuTwpPv63yclnAACujo6DnAONuqysgRtXrgwx8t6Ae08ZbUFUrH4REQtDQycA6O2tHXKwn5kzBwoFAPzhD0OMPHVq4Aazq10EXbHw762nIITyDjLaVCoUFADAxYv40588Dquvx3vvAcC8eZg2jVGWACyWzdbU03Pe06Pd3R/bbE0AlMpcL4bylm3bBva01q/HV1+5GdDSguXL0duLkBDs388uiH/svI+Iw/FtY+MTCkVGdPTK8PC5CkWGVDrG6eyy25sNhvc7O98BIAjy2Fi/uoLIMI0fj9OnsWQJ7tzBnDnYuBGrVyM9HTIZmptx5gwOHEB3NyQSHDzo/jOfURKAxZJIFIIg7e2t1+l2uR0glUYlJZ1QKDK8m8tbfvITXLyINWtQX4+338bbbz88IC4Ohw/jZz9jmiIAi6VUzpg6ta27+2OT6YLFctVma3K5egQhRCbTKBRTIiIWxcQUyGTRvGOylJODmhp8+CHKyvDVV2hvh9MJjQbTpuHpp1FQgLAw1hHonHfCRADuvBNfQMUiTFCxCBNULMIEFYswQcUiTFCxCBNULMIEFYswQcUiTFCxCBNULMIEFYswQcUiTFCxCBNULMIEFYswQcUiTFCxCBNULMIEFYswQcUiTFCxCBNULMIEFYswQcUiTFCxCBNULMIEFYswQcUiTFCxCBNULMIEFYswQcUiTFCxCBNULMIEFYswQcUiTFCxCBNULMIEFYswQcUiTFCxCBNULMIEFYswQcUiTFCxCBNULMIEFYswQcUiTFCxCBNULMLEvwB5+4khU8jdrwAAAABJRU5ErkJggg==\" alt=\"Mol\"/></td>\n",
       "      <td>Dimercaprol</td>\n",
       "      <td>DB06782</td>\n",
       "      <td>approved</td>\n",
       "      <td>Inactive</td>\n",
       "      <td>Inactive</td>\n",
       "      <td>0.87</td>\n",
       "    </tr>\n",
       "  </tbody>\n",
       "</table>\n",
       "</div>"
      ],
      "text/plain": [
       "         SAMPLE_ID SAMPLE_ID_dup                SAMPLE_NAME  \\\n",
       "0  NCGC00013037-01                                  Thanite   \n",
       "1  NCGC00013082-04                      trans-Aconitic acid   \n",
       "2  NCGC00013095-10                                 Geraniol   \n",
       "3  NCGC00013109-03                               Phenol red   \n",
       "4  NCGC00013216-05                2,3-Dimercapto-1-propanol   \n",
       "\n",
       "                      InChIKey Prim_Assay_Outcome Prim_Assay_pAC50_Median  \\\n",
       "0  IXEVGHXRXDBAOB-UHFFFAOYNA-N           Inactive                     NaN   \n",
       "1  GTZCVFVGUGFEME-UHFFFAOYSA-N           Inactive                     NaN   \n",
       "2  GLZPCOQZEFWAFX-UHFFFAOYSA-N           Inactive                     NaN   \n",
       "3  BELBBZDIHDAJOR-UHFFFAOYSA-N           Inactive                     NaN   \n",
       "4  WQABCVAJNWAXTE-UHFFFAOYNA-N           Inactive                     NaN   \n",
       "\n",
       "  Prim_Assay_curve_class    Molecular weight  \\\n",
       "0                    4.0  253.36045837402344   \n",
       "1                    4.0  174.10824584960938   \n",
       "2                    4.0  154.24932861328125   \n",
       "3                    4.0     354.37646484375   \n",
       "4                    4.0  124.22502136230469   \n",
       "\n",
       "                                       GENERIC_NAMES   Outcome ID  \\\n",
       "0  (1,7,7-trimethyl-6-bicyclo[2.2.1]heptanyl) 2-t...  Inactive      \n",
       "1                                                     Inactive      \n",
       "2                                                     Inactive      \n",
       "3  4-[3-(4-hydroxyphenyl)-1,1-dioxobenzo[c]oxathi...  Inactive      \n",
       "4  2,3-bis-sulfanylpropan-1-ol\\n2,3-Dimercaptopro...  Inactive      \n",
       "\n",
       "                                                 Mol           GENERIC_NAME  \\\n",
       "0  <img data-content=\"rdkit/molecule\" src=\"data:i...                    NaN   \n",
       "1  <img data-content=\"rdkit/molecule\" src=\"data:i...                    NaN   \n",
       "2  <img data-content=\"rdkit/molecule\" src=\"data:i...                    NaN   \n",
       "3  <img data-content=\"rdkit/molecule\" src=\"data:i...  Phenolsulfonphthalein   \n",
       "4  <img data-content=\"rdkit/molecule\" src=\"data:i...            Dimercaprol   \n",
       "\n",
       "  DRUGBANK_ID   DRUG_GROUPS Prediction        AD  Confidence  \n",
       "0         NaN           NaN   Inactive  Inactive        0.72  \n",
       "1         NaN           NaN   Inactive  Inactive        0.81  \n",
       "2         NaN           NaN   Inactive  Inactive        0.85  \n",
       "3     DB13212  experimental   Inactive  Inactive        0.76  \n",
       "4     DB06782      approved   Inactive  Inactive        0.87  "
      ]
     },
     "execution_count": 8,
     "metadata": {},
     "output_type": "execute_result"
    }
   ],
   "source": [
    "predictions = pd.concat([moldf, pred], axis=1)\n",
    "for col in ['Prediction', 'AD']:\n",
    "    predictions[col].replace(0,'Inactive',inplace=True)\n",
    "    predictions[col].replace(1,'Active',inplace=True)\n",
    "predictions.head()"
   ]
  },
  {
   "cell_type": "markdown",
   "metadata": {},
   "source": [
    "## Export SDF and Excel"
   ]
  },
  {
   "cell_type": "code",
   "execution_count": 9,
   "metadata": {},
   "outputs": [],
   "source": [
    "# SDF\n",
    "#PandasTools.WriteSDF(predictions, 'datasets/screened_compounds/drugbank_hits_qsar_sirms_dragon.sdf.gz',\n",
    "#                     molColName='Mol', properties=list(predictions.columns))\n",
    "\n",
    "predictions.drop(columns='Mol', inplace=True)\n",
    "with pd.ExcelWriter('../datasets/screened_compounds/cpe_ncats_hits_qsar_morgan.xlsx') as writer:\n",
    "    predictions.to_excel(writer, sheet_name='morgan', index=False)"
   ]
  }
 ],
 "metadata": {
  "kernelspec": {
   "display_name": "rdkit-env",
   "language": "python",
   "name": "my-rdkit-env"
  },
  "language_info": {
   "codemirror_mode": {
    "name": "ipython",
    "version": 3
   },
   "file_extension": ".py",
   "mimetype": "text/x-python",
   "name": "python",
   "nbconvert_exporter": "python",
   "pygments_lexer": "ipython3",
   "version": "3.6.10"
  }
 },
 "nbformat": 4,
 "nbformat_minor": 2
}
