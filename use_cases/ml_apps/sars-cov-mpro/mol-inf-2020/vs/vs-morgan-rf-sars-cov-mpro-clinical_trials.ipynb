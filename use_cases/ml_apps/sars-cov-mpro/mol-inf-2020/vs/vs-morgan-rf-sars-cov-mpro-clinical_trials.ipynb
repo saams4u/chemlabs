{
 "cells": [
  {
   "cell_type": "markdown",
   "metadata": {},
   "source": [
    "# VS of compounds in clinical trials for SARS-CoV-2  by QSAR models of SARS-CoV (M<sup>pro</sup>) "
   ]
  },
  {
   "cell_type": "markdown",
   "metadata": {},
   "source": [
    "## Importing modules and functions        \n",
    "    "
   ]
  },
  {
   "cell_type": "code",
   "execution_count": 1,
   "metadata": {
    "scrolled": false
   },
   "outputs": [
    {
     "data": {
      "text/html": [
       "<style>.container { width:90% !important; }</style>"
      ],
      "text/plain": [
       "<IPython.core.display.HTML object>"
      ]
     },
     "metadata": {},
     "output_type": "display_data"
    }
   ],
   "source": [
    "import numpy as np\n",
    "import pandas as pd\n",
    "import seaborn as sns\n",
    "import matplotlib.pyplot as plt\n",
    "import csv\n",
    "import _pickle as cPickle\n",
    "import gzip\n",
    "\n",
    "from BalanceBySim import *\n",
    "from stats import *\n",
    "\n",
    "from collections import Counter\n",
    "\n",
    "from rdkit import rdBase\n",
    "from rdkit import Chem\n",
    "from rdkit.Chem import AllChem\n",
    "from rdkit.Chem import Draw\n",
    "from rdkit.Chem import PandasTools\n",
    "from rdkit.Chem.Draw import IPythonConsole\n",
    "\n",
    "from sklearn import metrics\n",
    "from sklearn.ensemble import RandomForestClassifier\n",
    "from sklearn.model_selection import train_test_split, cross_validate, GridSearchCV\n",
    "from sklearn.model_selection import permutation_test_score, StratifiedKFold\n",
    "\n",
    "def warn(*args, **kwargs):\n",
    "    pass\n",
    "import warnings\n",
    "warnings.filterwarnings(\"ignore\")\n",
    "warnings.warn = warn\n",
    "\n",
    "from IPython.core.interactiveshell import InteractiveShell\n",
    "InteractiveShell.ast_node_interactivity = \"all\"\n",
    "%matplotlib inline\n",
    "%reload_ext autoreload\n",
    "%autoreload 2\n",
    "Draw.DrawingOptions.atomLabelFontFace = \"DejaVu Sans\"\n",
    "Draw.DrawingOptions.atomLabelFontSize = 18\n",
    "\n",
    "from IPython.core.display import display, HTML\n",
    "display(HTML(\"<style>.container { width:90% !important; }</style>\"))"
   ]
  },
  {
   "cell_type": "markdown",
   "metadata": {},
   "source": [
    "# Import screening data"
   ]
  },
  {
   "cell_type": "code",
   "execution_count": 2,
   "metadata": {},
   "outputs": [],
   "source": [
    "# Set file path and format\n",
    "file = '../datasets/curated_data/clinical_trials.sdf.gz'\n",
    "\n",
    "# Read SDF\n",
    "moldf = PandasTools.LoadSDF(file);\n",
    "# Rename ROMol\n",
    "moldf = moldf.rename(columns={'ROMol': 'Mol'})\n",
    "# Remove missing RDKit molecules\n",
    "moldf = moldf[pd.notnull(moldf['Mol'])]\n",
    "if 'StandardizerResult' in moldf.columns:\n",
    "    moldf = moldf.drop(columns='StandardizerResult')"
   ]
  },
  {
   "cell_type": "code",
   "execution_count": 3,
   "metadata": {
    "scrolled": false
   },
   "outputs": [
    {
     "name": "stdout",
     "output_type": "stream",
     "text": [
      "Kept data:  (23, 4)\n"
     ]
    },
    {
     "data": {
      "text/html": [
       "<div>\n",
       "<style scoped>\n",
       "    .dataframe tbody tr th:only-of-type {\n",
       "        vertical-align: middle;\n",
       "    }\n",
       "\n",
       "    .dataframe tbody tr th {\n",
       "        vertical-align: top;\n",
       "    }\n",
       "\n",
       "    .dataframe thead th {\n",
       "        text-align: right;\n",
       "    }\n",
       "</style>\n",
       "<table border=\"1\" class=\"dataframe\">\n",
       "  <thead>\n",
       "    <tr style=\"text-align: right;\">\n",
       "      <th></th>\n",
       "      <th>Compound_name</th>\n",
       "      <th>InChIKey</th>\n",
       "      <th>ID</th>\n",
       "      <th>Mol</th>\n",
       "    </tr>\n",
       "  </thead>\n",
       "  <tbody>\n",
       "    <tr>\n",
       "      <th>0</th>\n",
       "      <td>Sildenafil</td>\n",
       "      <td>BNRNXUUZRGQAQC-UHFFFAOYSA-N</td>\n",
       "      <td></td>\n",
       "      <td><img data-content=\"rdkit/molecule\" src=\"data:image/png;base64,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\" alt=\"Mol\"/></td>\n",
       "    </tr>\n",
       "  </tbody>\n",
       "</table>\n",
       "</div>"
      ],
      "text/plain": [
       "  Compound_name                     InChIKey ID  \\\n",
       "0    Sildenafil  BNRNXUUZRGQAQC-UHFFFAOYSA-N      \n",
       "\n",
       "                                                 Mol  \n",
       "0  <img data-content=\"rdkit/molecule\" src=\"data:i...  "
      ]
     },
     "execution_count": 3,
     "metadata": {},
     "output_type": "execute_result"
    },
    {
     "name": "stdout",
     "output_type": "stream",
     "text": [
      "\n",
      " Problematic structures: \n",
      " []\n"
     ]
    }
   ],
   "source": [
    "# Columns\n",
    "print('Kept data: ', moldf.shape)\n",
    "moldf.head(1)\n",
    "from molvs.validate import Validator\n",
    "fmt = '%(asctime)s - %(levelname)s - %(validation)s - %(message)s'\n",
    "validator = Validator(log_format=fmt)\n",
    "print('\\n Problematic structures: \\n', validator.validate(moldf))"
   ]
  },
  {
   "cell_type": "markdown",
   "metadata": {},
   "source": [
    "### Calculate Morgan Fingerprints"
   ]
  },
  {
   "cell_type": "code",
   "execution_count": 4,
   "metadata": {},
   "outputs": [
    {
     "data": {
      "text/plain": [
       "(23, 2048)"
      ]
     },
     "execution_count": 4,
     "metadata": {},
     "output_type": "execute_result"
    }
   ],
   "source": [
    "def calcfp(mol,funcFPInfo=dict(radius=3, nBits=2048, useFeatures=False, useChirality=False)):\n",
    "    fp = AllChem.GetMorganFingerprintAsBitVect(mol, **funcFPInfo)\n",
    "    fp = pd.Series(np.asarray(fp))\n",
    "    fp = fp.add_prefix('Bit_')\n",
    "    return fp\n",
    "\n",
    "X_vs = moldf.Mol.apply(calcfp)\n",
    "X_vs.shape"
   ]
  },
  {
   "cell_type": "markdown",
   "metadata": {},
   "source": [
    "# Virtual screening Morgan"
   ]
  },
  {
   "cell_type": "markdown",
   "metadata": {},
   "source": [
    "##### Load the model"
   ]
  },
  {
   "cell_type": "code",
   "execution_count": 6,
   "metadata": {
    "scrolled": true
   },
   "outputs": [],
   "source": [
    "with gzip.open('../model/sars-cov-3clpro-morgan_RF_ad_balanced.pgz', 'rb') as f:\n",
    "    model = cPickle.load(f)"
   ]
  },
  {
   "cell_type": "markdown",
   "metadata": {},
   "source": [
    "##### Predict molecules"
   ]
  },
  {
   "cell_type": "code",
   "execution_count": 7,
   "metadata": {},
   "outputs": [
    {
     "name": "stdout",
     "output_type": "stream",
     "text": [
      "CPU times: user 240 ms, sys: 50.3 ms, total: 290 ms\n",
      "Wall time: 321 ms\n"
     ]
    }
   ],
   "source": [
    "%%time\n",
    "ad_threshold = 0.70\n",
    "\n",
    "y_pred = model.predict(X_vs)\n",
    "confidence = model.predict_proba(X_vs)\n",
    "confidence = np.amax(confidence, axis=1).round(2)\n",
    "ad = confidence >= ad_threshold"
   ]
  },
  {
   "cell_type": "code",
   "execution_count": 8,
   "metadata": {},
   "outputs": [],
   "source": [
    "pred = pd.DataFrame({'Prediction': y_pred, 'AD': ad, 'Confidence': confidence}, index=None)\n",
    "pred.AD[pred.AD == False] = np.nan\n",
    "pred.AD[pred.AD == True] = pred.Prediction.astype(int)"
   ]
  },
  {
   "cell_type": "code",
   "execution_count": 9,
   "metadata": {},
   "outputs": [
    {
     "name": "stdout",
     "output_type": "stream",
     "text": [
      "VS pred: Counter({0: 23})\n",
      "VS pred AD: Counter({0: 8})\n",
      "Coverage of AD: 34.78%\n"
     ]
    }
   ],
   "source": [
    "pred_ad = pred.dropna().astype(int)\n",
    "coverage_ad = len(pred_ad) * 100 / len(pred)\n",
    "\n",
    "print('VS pred: %s' % Counter(pred.Prediction))\n",
    "print('VS pred AD: %s' % Counter(pred_ad.Prediction))\n",
    "print('Coverage of AD: %.2f%%' % coverage_ad)"
   ]
  },
  {
   "cell_type": "markdown",
   "metadata": {},
   "source": [
    "###  Visualize predictions"
   ]
  },
  {
   "cell_type": "code",
   "execution_count": null,
   "metadata": {
    "scrolled": true
   },
   "outputs": [],
   "source": [
    "predictions = pd.concat([moldf, pred], axis=1)\n",
    "for col in ['Prediction', 'AD']:\n",
    "    predictions[col].replace(0,'Inactive',inplace=True)\n",
    "    predictions[col].replace(1,'Active',inplace=True)\n",
    "predictions"
   ]
  },
  {
   "cell_type": "markdown",
   "metadata": {},
   "source": [
    "## Export SDF and Excel"
   ]
  },
  {
   "cell_type": "code",
   "execution_count": 11,
   "metadata": {},
   "outputs": [
    {
     "ename": "FileCreateError",
     "evalue": "[Errno 2] No such file or directory: 'datasets/screened_compounds/clinical-trials_hits_qsar_morgan.xlsx'",
     "output_type": "error",
     "traceback": [
      "\u001b[0;31m---------------------------------------------------------------------------\u001b[0m",
      "\u001b[0;31mFileNotFoundError\u001b[0m                         Traceback (most recent call last)",
      "\u001b[0;32m~/anaconda3/envs/my-rdkit-env/lib/python3.6/site-packages/xlsxwriter/workbook.py\u001b[0m in \u001b[0;36mclose\u001b[0;34m(self)\u001b[0m\n\u001b[1;32m    315\u001b[0m             \u001b[0;32mtry\u001b[0m\u001b[0;34m:\u001b[0m\u001b[0;34m\u001b[0m\u001b[0;34m\u001b[0m\u001b[0m\n\u001b[0;32m--> 316\u001b[0;31m                 \u001b[0mself\u001b[0m\u001b[0;34m.\u001b[0m\u001b[0m_store_workbook\u001b[0m\u001b[0;34m(\u001b[0m\u001b[0;34m)\u001b[0m\u001b[0;34m\u001b[0m\u001b[0;34m\u001b[0m\u001b[0m\n\u001b[0m\u001b[1;32m    317\u001b[0m             \u001b[0;32mexcept\u001b[0m \u001b[0mIOError\u001b[0m \u001b[0;32mas\u001b[0m \u001b[0me\u001b[0m\u001b[0;34m:\u001b[0m\u001b[0;34m\u001b[0m\u001b[0;34m\u001b[0m\u001b[0m\n",
      "\u001b[0;32m~/anaconda3/envs/my-rdkit-env/lib/python3.6/site-packages/xlsxwriter/workbook.py\u001b[0m in \u001b[0;36m_store_workbook\u001b[0;34m(self)\u001b[0m\n\u001b[1;32m    631\u001b[0m         \u001b[0;32mexcept\u001b[0m \u001b[0mIOError\u001b[0m \u001b[0;32mas\u001b[0m \u001b[0me\u001b[0m\u001b[0;34m:\u001b[0m\u001b[0;34m\u001b[0m\u001b[0;34m\u001b[0m\u001b[0m\n\u001b[0;32m--> 632\u001b[0;31m             \u001b[0;32mraise\u001b[0m \u001b[0me\u001b[0m\u001b[0;34m\u001b[0m\u001b[0;34m\u001b[0m\u001b[0m\n\u001b[0m\u001b[1;32m    633\u001b[0m \u001b[0;34m\u001b[0m\u001b[0m\n",
      "\u001b[0;32m~/anaconda3/envs/my-rdkit-env/lib/python3.6/site-packages/xlsxwriter/workbook.py\u001b[0m in \u001b[0;36m_store_workbook\u001b[0;34m(self)\u001b[0m\n\u001b[1;32m    629\u001b[0m             xlsx_file = ZipFile(self.filename, \"w\", compression=ZIP_DEFLATED,\n\u001b[0;32m--> 630\u001b[0;31m                                 allowZip64=self.allow_zip64)\n\u001b[0m\u001b[1;32m    631\u001b[0m         \u001b[0;32mexcept\u001b[0m \u001b[0mIOError\u001b[0m \u001b[0;32mas\u001b[0m \u001b[0me\u001b[0m\u001b[0;34m:\u001b[0m\u001b[0;34m\u001b[0m\u001b[0;34m\u001b[0m\u001b[0m\n",
      "\u001b[0;32m~/anaconda3/envs/my-rdkit-env/lib/python3.6/zipfile.py\u001b[0m in \u001b[0;36m__init__\u001b[0;34m(self, file, mode, compression, allowZip64)\u001b[0m\n\u001b[1;32m   1112\u001b[0m                 \u001b[0;32mtry\u001b[0m\u001b[0;34m:\u001b[0m\u001b[0;34m\u001b[0m\u001b[0;34m\u001b[0m\u001b[0m\n\u001b[0;32m-> 1113\u001b[0;31m                     \u001b[0mself\u001b[0m\u001b[0;34m.\u001b[0m\u001b[0mfp\u001b[0m \u001b[0;34m=\u001b[0m \u001b[0mio\u001b[0m\u001b[0;34m.\u001b[0m\u001b[0mopen\u001b[0m\u001b[0;34m(\u001b[0m\u001b[0mfile\u001b[0m\u001b[0;34m,\u001b[0m \u001b[0mfilemode\u001b[0m\u001b[0;34m)\u001b[0m\u001b[0;34m\u001b[0m\u001b[0;34m\u001b[0m\u001b[0m\n\u001b[0m\u001b[1;32m   1114\u001b[0m                 \u001b[0;32mexcept\u001b[0m \u001b[0mOSError\u001b[0m\u001b[0;34m:\u001b[0m\u001b[0;34m\u001b[0m\u001b[0;34m\u001b[0m\u001b[0m\n",
      "\u001b[0;31mFileNotFoundError\u001b[0m: [Errno 2] No such file or directory: 'datasets/screened_compounds/clinical-trials_hits_qsar_morgan.xlsx'",
      "\nDuring handling of the above exception, another exception occurred:\n",
      "\u001b[0;31mFileCreateError\u001b[0m                           Traceback (most recent call last)",
      "\u001b[0;32m<ipython-input-11-5fa31d652a76>\u001b[0m in \u001b[0;36m<module>\u001b[0;34m\u001b[0m\n\u001b[1;32m      5\u001b[0m \u001b[0mpredictions\u001b[0m\u001b[0;34m.\u001b[0m\u001b[0mdrop\u001b[0m\u001b[0;34m(\u001b[0m\u001b[0mcolumns\u001b[0m\u001b[0;34m=\u001b[0m\u001b[0;34m'Mol'\u001b[0m\u001b[0;34m,\u001b[0m \u001b[0minplace\u001b[0m\u001b[0;34m=\u001b[0m\u001b[0;32mTrue\u001b[0m\u001b[0;34m)\u001b[0m\u001b[0;34m\u001b[0m\u001b[0;34m\u001b[0m\u001b[0m\n\u001b[1;32m      6\u001b[0m \u001b[0;32mwith\u001b[0m \u001b[0mpd\u001b[0m\u001b[0;34m.\u001b[0m\u001b[0mExcelWriter\u001b[0m\u001b[0;34m(\u001b[0m\u001b[0;34m'datasets/screened_compounds/clinical-trials_hits_qsar_morgan.xlsx'\u001b[0m\u001b[0;34m)\u001b[0m \u001b[0;32mas\u001b[0m \u001b[0mwriter\u001b[0m\u001b[0;34m:\u001b[0m\u001b[0;34m\u001b[0m\u001b[0;34m\u001b[0m\u001b[0m\n\u001b[0;32m----> 7\u001b[0;31m     \u001b[0mpredictions\u001b[0m\u001b[0;34m.\u001b[0m\u001b[0mto_excel\u001b[0m\u001b[0;34m(\u001b[0m\u001b[0mwriter\u001b[0m\u001b[0;34m,\u001b[0m \u001b[0msheet_name\u001b[0m\u001b[0;34m=\u001b[0m\u001b[0;34m'morgan'\u001b[0m\u001b[0;34m,\u001b[0m \u001b[0mindex\u001b[0m\u001b[0;34m=\u001b[0m\u001b[0;32mFalse\u001b[0m\u001b[0;34m)\u001b[0m\u001b[0;34m\u001b[0m\u001b[0;34m\u001b[0m\u001b[0m\n\u001b[0m",
      "\u001b[0;32m~/anaconda3/envs/my-rdkit-env/lib/python3.6/site-packages/pandas/io/excel/_base.py\u001b[0m in \u001b[0;36m__exit__\u001b[0;34m(self, exc_type, exc_value, traceback)\u001b[0m\n\u001b[1;32m    775\u001b[0m \u001b[0;34m\u001b[0m\u001b[0m\n\u001b[1;32m    776\u001b[0m     \u001b[0;32mdef\u001b[0m \u001b[0m__exit__\u001b[0m\u001b[0;34m(\u001b[0m\u001b[0mself\u001b[0m\u001b[0;34m,\u001b[0m \u001b[0mexc_type\u001b[0m\u001b[0;34m,\u001b[0m \u001b[0mexc_value\u001b[0m\u001b[0;34m,\u001b[0m \u001b[0mtraceback\u001b[0m\u001b[0;34m)\u001b[0m\u001b[0;34m:\u001b[0m\u001b[0;34m\u001b[0m\u001b[0;34m\u001b[0m\u001b[0m\n\u001b[0;32m--> 777\u001b[0;31m         \u001b[0mself\u001b[0m\u001b[0;34m.\u001b[0m\u001b[0mclose\u001b[0m\u001b[0;34m(\u001b[0m\u001b[0;34m)\u001b[0m\u001b[0;34m\u001b[0m\u001b[0;34m\u001b[0m\u001b[0m\n\u001b[0m\u001b[1;32m    778\u001b[0m \u001b[0;34m\u001b[0m\u001b[0m\n\u001b[1;32m    779\u001b[0m     \u001b[0;32mdef\u001b[0m \u001b[0mclose\u001b[0m\u001b[0;34m(\u001b[0m\u001b[0mself\u001b[0m\u001b[0;34m)\u001b[0m\u001b[0;34m:\u001b[0m\u001b[0;34m\u001b[0m\u001b[0;34m\u001b[0m\u001b[0m\n",
      "\u001b[0;32m~/anaconda3/envs/my-rdkit-env/lib/python3.6/site-packages/pandas/io/excel/_base.py\u001b[0m in \u001b[0;36mclose\u001b[0;34m(self)\u001b[0m\n\u001b[1;32m    779\u001b[0m     \u001b[0;32mdef\u001b[0m \u001b[0mclose\u001b[0m\u001b[0;34m(\u001b[0m\u001b[0mself\u001b[0m\u001b[0;34m)\u001b[0m\u001b[0;34m:\u001b[0m\u001b[0;34m\u001b[0m\u001b[0;34m\u001b[0m\u001b[0m\n\u001b[1;32m    780\u001b[0m         \u001b[0;34m\"\"\"synonym for save, to make it more file-like\"\"\"\u001b[0m\u001b[0;34m\u001b[0m\u001b[0;34m\u001b[0m\u001b[0m\n\u001b[0;32m--> 781\u001b[0;31m         \u001b[0;32mreturn\u001b[0m \u001b[0mself\u001b[0m\u001b[0;34m.\u001b[0m\u001b[0msave\u001b[0m\u001b[0;34m(\u001b[0m\u001b[0;34m)\u001b[0m\u001b[0;34m\u001b[0m\u001b[0;34m\u001b[0m\u001b[0m\n\u001b[0m\u001b[1;32m    782\u001b[0m \u001b[0;34m\u001b[0m\u001b[0m\n\u001b[1;32m    783\u001b[0m \u001b[0;34m\u001b[0m\u001b[0m\n",
      "\u001b[0;32m~/anaconda3/envs/my-rdkit-env/lib/python3.6/site-packages/pandas/io/excel/_xlsxwriter.py\u001b[0m in \u001b[0;36msave\u001b[0;34m(self)\u001b[0m\n\u001b[1;32m    193\u001b[0m         \"\"\"\n\u001b[1;32m    194\u001b[0m \u001b[0;34m\u001b[0m\u001b[0m\n\u001b[0;32m--> 195\u001b[0;31m         \u001b[0;32mreturn\u001b[0m \u001b[0mself\u001b[0m\u001b[0;34m.\u001b[0m\u001b[0mbook\u001b[0m\u001b[0;34m.\u001b[0m\u001b[0mclose\u001b[0m\u001b[0;34m(\u001b[0m\u001b[0;34m)\u001b[0m\u001b[0;34m\u001b[0m\u001b[0;34m\u001b[0m\u001b[0m\n\u001b[0m\u001b[1;32m    196\u001b[0m \u001b[0;34m\u001b[0m\u001b[0m\n\u001b[1;32m    197\u001b[0m     def write_cells(\n",
      "\u001b[0;32m~/anaconda3/envs/my-rdkit-env/lib/python3.6/site-packages/xlsxwriter/workbook.py\u001b[0m in \u001b[0;36mclose\u001b[0;34m(self)\u001b[0m\n\u001b[1;32m    316\u001b[0m                 \u001b[0mself\u001b[0m\u001b[0;34m.\u001b[0m\u001b[0m_store_workbook\u001b[0m\u001b[0;34m(\u001b[0m\u001b[0;34m)\u001b[0m\u001b[0;34m\u001b[0m\u001b[0;34m\u001b[0m\u001b[0m\n\u001b[1;32m    317\u001b[0m             \u001b[0;32mexcept\u001b[0m \u001b[0mIOError\u001b[0m \u001b[0;32mas\u001b[0m \u001b[0me\u001b[0m\u001b[0;34m:\u001b[0m\u001b[0;34m\u001b[0m\u001b[0;34m\u001b[0m\u001b[0m\n\u001b[0;32m--> 318\u001b[0;31m                 \u001b[0;32mraise\u001b[0m \u001b[0mFileCreateError\u001b[0m\u001b[0;34m(\u001b[0m\u001b[0me\u001b[0m\u001b[0;34m)\u001b[0m\u001b[0;34m\u001b[0m\u001b[0;34m\u001b[0m\u001b[0m\n\u001b[0m\u001b[1;32m    319\u001b[0m             \u001b[0;32mexcept\u001b[0m \u001b[0mLargeZipFile\u001b[0m \u001b[0;32mas\u001b[0m \u001b[0me\u001b[0m\u001b[0;34m:\u001b[0m\u001b[0;34m\u001b[0m\u001b[0;34m\u001b[0m\u001b[0m\n\u001b[1;32m    320\u001b[0m                 raise FileSizeError(\"Filesize would require ZIP64 extensions. \"\n",
      "\u001b[0;31mFileCreateError\u001b[0m: [Errno 2] No such file or directory: 'datasets/screened_compounds/clinical-trials_hits_qsar_morgan.xlsx'"
     ]
    }
   ],
   "source": [
    "# SDF\n",
    "#PandasTools.WriteSDF(predictions, 'datasets/screened_compounds/drugbank_hits_qsar_sirms_dragon.sdf.gz',\n",
    "#                     molColName='Mol', properties=list(predictions.columns))\n",
    "\n",
    "predictions.drop(columns='Mol', inplace=True)\n",
    "with pd.ExcelWriter('../datasets/screened_compounds/clinical-trials_hits_qsar_morgan.xlsx') as writer:\n",
    "    predictions.to_excel(writer, sheet_name='morgan', index=False)"
   ]
  }
 ],
 "metadata": {
  "kernelspec": {
   "display_name": "rdkit-env",
   "language": "python",
   "name": "my-rdkit-env"
  },
  "language_info": {
   "codemirror_mode": {
    "name": "ipython",
    "version": 3
   },
   "file_extension": ".py",
   "mimetype": "text/x-python",
   "name": "python",
   "nbconvert_exporter": "python",
   "pygments_lexer": "ipython3",
   "version": "3.6.10"
  }
 },
 "nbformat": 4,
 "nbformat_minor": 2
}
