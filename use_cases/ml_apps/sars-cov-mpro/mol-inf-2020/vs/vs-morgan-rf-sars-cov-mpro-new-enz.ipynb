{
 "cells": [
  {
   "cell_type": "markdown",
   "metadata": {},
   "source": [
    "# VS of phenotypic compounds tested in SARS-CoV-2  by (M<sup>pro</sup>) QSAR models of SARS-CoV"
   ]
  },
  {
   "cell_type": "markdown",
   "metadata": {},
   "source": [
    "## Importing modules and functions        \n",
    "    "
   ]
  },
  {
   "cell_type": "code",
   "execution_count": 1,
   "metadata": {},
   "outputs": [
    {
     "name": "stderr",
     "output_type": "stream",
     "text": [
      "RDKit WARNING: [15:38:46] Enabling RDKit 2019.09.3 jupyter extensions\n"
     ]
    },
    {
     "data": {
      "text/html": [
       "<style>.container { width:90% !important; }</style>"
      ],
      "text/plain": [
       "<IPython.core.display.HTML object>"
      ]
     },
     "metadata": {},
     "output_type": "display_data"
    }
   ],
   "source": [
    "import numpy as np\n",
    "import pandas as pd\n",
    "import seaborn as sns\n",
    "import matplotlib.pyplot as plt\n",
    "import csv\n",
    "import _pickle as cPickle\n",
    "import gzip\n",
    "\n",
    "from BalanceBySim import *\n",
    "from stats import *\n",
    "\n",
    "from collections import Counter\n",
    "\n",
    "from rdkit import Chem\n",
    "from rdkit.Chem import AllChem\n",
    "from rdkit.Chem import Draw\n",
    "from rdkit.Chem import PandasTools\n",
    "from rdkit.Chem.Draw import IPythonConsole\n",
    "\n",
    "from sklearn import metrics\n",
    "from sklearn.ensemble import RandomForestClassifier\n",
    "from sklearn.model_selection import train_test_split, cross_validate, GridSearchCV\n",
    "from sklearn.model_selection import permutation_test_score, StratifiedKFold\n",
    "\n",
    "def warn(*args, **kwargs):\n",
    "    pass\n",
    "import warnings\n",
    "warnings.filterwarnings(\"ignore\")\n",
    "warnings.warn = warn\n",
    "\n",
    "from IPython.core.interactiveshell import InteractiveShell\n",
    "InteractiveShell.ast_node_interactivity = \"all\"\n",
    "%matplotlib inline\n",
    "%reload_ext autoreload\n",
    "%autoreload 2\n",
    "Draw.DrawingOptions.atomLabelFontFace = \"DejaVu Sans\"\n",
    "Draw.DrawingOptions.atomLabelFontSize = 18\n",
    "\n",
    "from IPython.core.display import display, HTML\n",
    "display(HTML(\"<style>.container { width:90% !important; }</style>\"))"
   ]
  },
  {
   "cell_type": "markdown",
   "metadata": {},
   "source": [
    "# Import screening data"
   ]
  },
  {
   "cell_type": "code",
   "execution_count": 2,
   "metadata": {},
   "outputs": [],
   "source": [
    "# Set file path and format\n",
    "file = 'datasets/curated_data/new_sars_cov_2_hits.sdf.gz'\n",
    "\n",
    "# Read SDF\n",
    "sdfInfo = dict(molColName='ROMol')\n",
    "moldf = PandasTools.LoadSDF(file, **sdfInfo);\n",
    "#print('Original data: ', moldf.shape)\n",
    "# Rename ROMol\n",
    "moldf = moldf.rename(columns={'ROMol': 'Mol'})\n",
    "# Remove missing RDKit molecules\n",
    "moldf = moldf[pd.notnull(moldf['Mol'])]\n",
    "if 'StandardizerResult' in moldf.columns:\n",
    "    moldf = moldf.drop(columns='StandardizerResult')"
   ]
  },
  {
   "cell_type": "code",
   "execution_count": 3,
   "metadata": {
    "scrolled": false
   },
   "outputs": [
    {
     "name": "stdout",
     "output_type": "stream",
     "text": [
      "Kept data:  (7, 4)\n"
     ]
    },
    {
     "data": {
      "text/html": [
       "<div>\n",
       "<style scoped>\n",
       "    .dataframe tbody tr th:only-of-type {\n",
       "        vertical-align: middle;\n",
       "    }\n",
       "\n",
       "    .dataframe tbody tr th {\n",
       "        vertical-align: top;\n",
       "    }\n",
       "\n",
       "    .dataframe thead th {\n",
       "        text-align: right;\n",
       "    }\n",
       "</style>\n",
       "<table border=\"1\" class=\"dataframe\">\n",
       "  <thead>\n",
       "    <tr style=\"text-align: right;\">\n",
       "      <th></th>\n",
       "      <th>Compound_name</th>\n",
       "      <th>DRUGBANK_ID</th>\n",
       "      <th>ID</th>\n",
       "      <th>Mol</th>\n",
       "    </tr>\n",
       "  </thead>\n",
       "  <tbody>\n",
       "    <tr>\n",
       "      <th>0</th>\n",
       "      <td>disulfiram</td>\n",
       "      <td>DB00822</td>\n",
       "      <td></td>\n",
       "      <td><img data-content=\"rdkit/molecule\" src=\"data:image/png;base64,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\" alt=\"Mol\"/></td>\n",
       "    </tr>\n",
       "  </tbody>\n",
       "</table>\n",
       "</div>"
      ],
      "text/plain": [
       "  Compound_name DRUGBANK_ID ID  \\\n",
       "0    disulfiram     DB00822      \n",
       "\n",
       "                                                 Mol  \n",
       "0  <img data-content=\"rdkit/molecule\" src=\"data:i...  "
      ]
     },
     "execution_count": 3,
     "metadata": {},
     "output_type": "execute_result"
    },
    {
     "name": "stdout",
     "output_type": "stream",
     "text": [
      "\n",
      " Problematic structures: \n",
      " []\n"
     ]
    }
   ],
   "source": [
    "# Columns\n",
    "print('Kept data: ', moldf.shape)\n",
    "moldf.head(1)\n",
    "from molvs.validate import Validator\n",
    "fmt = '%(asctime)s - %(levelname)s - %(validation)s - %(message)s'\n",
    "validator = Validator(log_format=fmt)\n",
    "print('\\n Problematic structures: \\n', validator.validate(moldf))"
   ]
  },
  {
   "cell_type": "markdown",
   "metadata": {},
   "source": [
    "### Calculate Morgan Fingerprints"
   ]
  },
  {
   "cell_type": "code",
   "execution_count": 4,
   "metadata": {},
   "outputs": [
    {
     "data": {
      "text/plain": [
       "(7, 2048)"
      ]
     },
     "execution_count": 4,
     "metadata": {},
     "output_type": "execute_result"
    }
   ],
   "source": [
    "def calcfp(mol,funcFPInfo=dict(radius=3, nBits=2048, useFeatures=False, useChirality=False)):\n",
    "    fp = AllChem.GetMorganFingerprintAsBitVect(mol, **funcFPInfo)\n",
    "    fp = pd.Series(np.asarray(fp))\n",
    "    fp = fp.add_prefix('Bit_')\n",
    "    return fp\n",
    "\n",
    "X_vs = moldf.Mol.apply(calcfp)\n",
    "X_vs.shape"
   ]
  },
  {
   "cell_type": "markdown",
   "metadata": {},
   "source": [
    "# Virtual screening Morgan"
   ]
  },
  {
   "cell_type": "markdown",
   "metadata": {},
   "source": [
    "##### Load the model"
   ]
  },
  {
   "cell_type": "code",
   "execution_count": 5,
   "metadata": {
    "scrolled": true
   },
   "outputs": [],
   "source": [
    "with gzip.open('model/sars-cov-3clpro-morgan_RF_ad_balanced.pgz', 'rb') as f:\n",
    "    model = cPickle.load(f)"
   ]
  },
  {
   "cell_type": "markdown",
   "metadata": {},
   "source": [
    "##### Predict molecules"
   ]
  },
  {
   "cell_type": "code",
   "execution_count": 6,
   "metadata": {},
   "outputs": [
    {
     "name": "stdout",
     "output_type": "stream",
     "text": [
      "Wall time: 191 ms\n"
     ]
    }
   ],
   "source": [
    "%%time\n",
    "ad_threshold = 0.70\n",
    "\n",
    "y_pred = model.predict(X_vs)\n",
    "ad = model.predict_proba(X_vs)\n",
    "ad = np.amax(ad, axis=1) >= ad_threshold"
   ]
  },
  {
   "cell_type": "code",
   "execution_count": 7,
   "metadata": {},
   "outputs": [],
   "source": [
    "pred = pd.DataFrame({'Prediction': y_pred,'AD': ad}, index=None)\n",
    "pred.AD[pred.AD == False] = np.nan\n",
    "pred.AD[pred.AD == True] = pred.Prediction.astype(int)"
   ]
  },
  {
   "cell_type": "code",
   "execution_count": 8,
   "metadata": {},
   "outputs": [
    {
     "name": "stdout",
     "output_type": "stream",
     "text": [
      "VS pred: Counter({0: 7})\n",
      "VS pred AD: Counter({0: 6})\n",
      "Coverage of AD: 85.71%\n"
     ]
    }
   ],
   "source": [
    "pred_ad = pred.dropna().astype(int)\n",
    "coverage_ad = len(pred_ad) * 100 / len(pred)\n",
    "\n",
    "print('VS pred: %s' % Counter(pred.Prediction))\n",
    "print('VS pred AD: %s' % Counter(pred_ad.Prediction))\n",
    "print('Coverage of AD: %.2f%%' % coverage_ad)"
   ]
  },
  {
   "cell_type": "markdown",
   "metadata": {},
   "source": [
    "###  Visualize predictions"
   ]
  },
  {
   "cell_type": "code",
   "execution_count": 9,
   "metadata": {},
   "outputs": [
    {
     "data": {
      "text/html": [
       "<div>\n",
       "<style scoped>\n",
       "    .dataframe tbody tr th:only-of-type {\n",
       "        vertical-align: middle;\n",
       "    }\n",
       "\n",
       "    .dataframe tbody tr th {\n",
       "        vertical-align: top;\n",
       "    }\n",
       "\n",
       "    .dataframe thead th {\n",
       "        text-align: right;\n",
       "    }\n",
       "</style>\n",
       "<table border=\"1\" class=\"dataframe\">\n",
       "  <thead>\n",
       "    <tr style=\"text-align: right;\">\n",
       "      <th></th>\n",
       "      <th>Compound_name</th>\n",
       "      <th>DRUGBANK_ID</th>\n",
       "      <th>ID</th>\n",
       "      <th>Mol</th>\n",
       "      <th>Prediction</th>\n",
       "      <th>AD</th>\n",
       "    </tr>\n",
       "  </thead>\n",
       "  <tbody>\n",
       "    <tr>\n",
       "      <th>0</th>\n",
       "      <td>disulfiram</td>\n",
       "      <td>DB00822</td>\n",
       "      <td></td>\n",
       "      <td><img data-content=\"rdkit/molecule\" src=\"data:image/png;base64,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\" alt=\"Mol\"/></td>\n",
       "      <td>Inactive</td>\n",
       "      <td>Inactive</td>\n",
       "    </tr>\n",
       "    <tr>\n",
       "      <th>1</th>\n",
       "      <td>carmofur</td>\n",
       "      <td>DB09010</td>\n",
       "      <td></td>\n",
       "      <td><img data-content=\"rdkit/molecule\" src=\"data:image/png;base64,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\" alt=\"Mol\"/></td>\n",
       "      <td>Inactive</td>\n",
       "      <td>Inactive</td>\n",
       "    </tr>\n",
       "    <tr>\n",
       "      <th>2</th>\n",
       "      <td>ebselen</td>\n",
       "      <td>DB12610</td>\n",
       "      <td></td>\n",
       "      <td><img data-content=\"rdkit/molecule\" src=\"data:image/png;base64,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\" alt=\"Mol\"/></td>\n",
       "      <td>Inactive</td>\n",
       "      <td>Inactive</td>\n",
       "    </tr>\n",
       "    <tr>\n",
       "      <th>3</th>\n",
       "      <td>shikonin</td>\n",
       "      <td></td>\n",
       "      <td></td>\n",
       "      <td><img data-content=\"rdkit/molecule\" src=\"data:image/png;base64,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\" alt=\"Mol\"/></td>\n",
       "      <td>Inactive</td>\n",
       "      <td>Inactive</td>\n",
       "    </tr>\n",
       "    <tr>\n",
       "      <th>4</th>\n",
       "      <td>tideglusib</td>\n",
       "      <td>DB12129</td>\n",
       "      <td></td>\n",
       "      <td><img data-content=\"rdkit/molecule\" src=\"data:image/png;base64,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\" alt=\"Mol\"/></td>\n",
       "      <td>Inactive</td>\n",
       "      <td>Inactive</td>\n",
       "    </tr>\n",
       "    <tr>\n",
       "      <th>5</th>\n",
       "      <td>PX-12</td>\n",
       "      <td>DB05448</td>\n",
       "      <td></td>\n",
       "      <td><img data-content=\"rdkit/molecule\" src=\"data:image/png;base64,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\" alt=\"Mol\"/></td>\n",
       "      <td>Inactive</td>\n",
       "      <td>NaN</td>\n",
       "    </tr>\n",
       "    <tr>\n",
       "      <th>6</th>\n",
       "      <td>TDZD-8</td>\n",
       "      <td></td>\n",
       "      <td></td>\n",
       "      <td><img data-content=\"rdkit/molecule\" src=\"data:image/png;base64,iVBORw0KGgoAAAANSUhEUgAAAMgAAADICAIAAAAiOjnJAAAABmJLR0QA/wD/AP+gvaeTAAAZH0lEQVR4nO2deVhVZf7Av+cuIIIKxnavIoVBippLPxdgXFBMIRd+otZUNFNNNFriMqZm2nVoNJes64y5VUOOaSPhEvkAzoNODTj+xGuIgZqsyXqxANnhLu/vj0NXvBt3Oe89F/1+Hh6eyzn3vu/3cD/Pe97zrgwhBBCEawR8B4A8mKBYCBVQLIQKKBZCBRQLoQKKhVABxUKogGIhVECxECqgWAgVUCyECigWQgUUC6ECioVQAcVCqIBiIVRAsRAqoFgIFVAshAooFkIFFAuhAoqFUAHFQqiAYiFUQLEQKqBYCBVQLIQKKBZCBRQLoQKK1YfJyMgQi8ULFy7kOxAjoFh9GK1Wq1ar1Wo134EYAcVCqIBiIVRAsRAqoFgIFVAshAooFkIFFAuhAoqFUAHFQqiAYiFUQLEQKqBYfRiGYQQCsUAg4jsQIzhjTIiFEBKj1XZptXzHYQwssRAqoFgIFVAshAooFkIFFAuhAoqFUAHFQqiAYiFUQLEQKqBYCBVQLIQKKBZCBRSrDyMSQf/+0K8f33EYgyGE8B0D8gCCJRZCBRSrT8Iw8Prr9x3JyACG4SkaY6BYfZVDhyAjg+8gTINi9VXkcvjLX/gOwjQoVl8lJARGj4Y9e/iOwwQoVh/mrbdg1Sq+gzABitWHefxxkMudtNDCWTp9m5UrgWHgmWf4jsMALLH6Enl5cPmy/kG5HHbt6n6tVsPnn4MzTAhDsfoGhMCePRAWBnFx0NBw36mVK6GgAG7dAgDYsgVefhlmz4bqal7CvAeK1Qe4cwcWLIBVq6CzE2bMAFdX/Tds2tRdi4+MBIkEzp+HsWPhzBnHR9oDgqSnE4B7P+npfAd0H+fOEamUABBvb/L1190HDcNMSCDsl1lXR2JiCABhGJKYSDo6HB0wy0Mvlu4L0QFAwsPv/ZmbSxoaHBwUi0pFZDIiEBAAMmMGqay09INaLZHLiYsLASCjRpEffqAZpQkebrHk8vsc0hEeTuRyQgjRaIhUSoRCEhFB5HJSU+Ow0MrLSXg4ASAiEZHJiFptdQoKBQkOJgDEza37ahzJwy1WeLjxGx97cySE1NWRWbOISNR9lxSJyKxZZN8+2oalpBBPTwJAhg0j2dm2p9PUROLju2N/7jnS1GS9nrbyEItVVEQASFFR76d++YUcPkzmzSOurt3fkkBAIiLI9u3GP24HTU3dN2cAEhdH6us5SJPVNDb2yrVrwc3NdnhqDSiWCTOM1uIbGsiRIyQ2lri5dX/5DEMmTSI7dpDiYvsj+v57JXvzcncnn31mf3r3KC4m1649p1DAlSuimpqthGi4TN0YKJZpscyURm1tJC2NxMeTgQNZw0oiIkJDQ2UymUKhsCEWrVYrl8v79+8/ZkwOpeq2VquqqpIpFAKFAn78MbKry+JnAZt4iMUiFtSxeqWtjZw6RV588f3p03UtOCNHjty0aVNeXp6FUdTW1s6ZMwcAGIbZuHEr1QaCpqas/HypQgFXr3o3NqbRy+jhFksuNy4Q+1RYW2t5Smq1Ojs7OzEx0d/fX2dYYGBgYmJidna2Vqs19cGsrCyJRAIA3t7eaWkUv2kdKlVdUdEzCgUoFFBWFq/RtNLI5eEWi5hux7p2jQgE5KmniExmVQ1dZ5hUKtUZFhAQkJCQkJaWplKpdO9UqVQymUwgEABAZGRkpeXtVBygVSrlV664KBRQWDiqre0a5xk89GIREy3vx47ZWUPXaDTZ2dmrVq0aNmyYzjB/f/+amhpCSFlZWVhYGACIRCKZTKa2oZ3KblpbL//wQ7BCAXl5Xmp1IyFEqZSzJRn709Fh+zMvimUagxo6ASChoUQmI4WFVqVUUFAgk8lGjBgRHBxMCElJSfH09GTvlTk5OXSitwi1uqm8PKG29kPyq1W6U42N6QoFNDba2MGFYllAeztJSyMJCcTH555hQUEkMZFkZxPT9SdDSktL4+Pj2dIrLi6unpN2Ko64eTNcT6Py8oSbN431TFgAimUNnZ0kPZ28+irx9tYZdjQ2dt26dZcuXTJTQ2e5fPlycHAwALi5uckd38nSGzdvhiuVnEWFYtmEWk2yssiyZdqAgEc9Pc3U0HuyYcMGABg/fvzNmzcdHK8lsPc+hQI40Qun2NuFVqvNy8v75ptvjh49WlxczB709vaOjo5esmTJ3LlzxWIxe/Du3bt+fn5arbaqqsrHx4e/kHuhrm5PRUX3DA1v74TAwIM2JmS/mwiLroau+98OHjw4Pj4+LS2to6ODEDJ9+nQAOHbsGN+RWopCAVjHciKuXr26efPm0NBQnWGDBg1avXr1X//6VwCIi4vjO0BL6egosrnRAYcmc8/YsWOTkpIKCwtLSkrkcnlERERTU1NXV9eiRYsEAkFGRkZrayvfMerT2Vl85QrT2VnMWYqca44YUlJSUlZWRghhG0VPnDjBd0RGKC9P0Cufbt4MLy9PsC01nFfoCIKCgtgXcXFxFy9ePHHixKJFi/gNyZDAwINubqEFBcG6IwEBcl/flbalhk+FDqW8vDwoKMjDw6Ourq6fky3FV1u7Q63+xcdnmavrY/anhnUsh/Loo49OmDChubk5KyuL71j0IHfu7FMqd6nVP3OSHIrlaOLi4gDgxIkTfAdyH62tuV1dt11cAtzd/4eTBFEsR7N48WIAOH36dFdXF9+x3KOh4QQAeHktBuBmXUAUy9EEBwePHj26sbHx22+/5TuWezQ2ngQAT884rhJEsXjA2e6GbW1XOztLxGJ/D48wrtJEsXiAFevq1SKNhu9QAACgsfEEAHh6LuLQBxSLB8aMGTNjxq3c3PM5OXyHAgD3Klic3QcBxeKLsLBgAHCGm2FHx/WOjhsi0SMeHtM4TBbF4oe4OACAkyeB9/Zptrjy9PxfhuGyGwbF4oennoKgIKiqgkuXeI6Exn0QUCweiY0F4Ptu2NlZ1t6eLxR6Dhgwk9uUUSzeYO+Gqal83g0bGr4CAE/P+Qzjwm3KKBZvhIVBQACUl0NeHm8x7N6df/FimLv7Ys5TpiVWS0uLU3VZOCEMAwsXAvB3N6ysrNy9+8u33/7Bw2M254lTGY+1b98+hUKRnJzs5eUlkUikUin7OygoSPenRCJhnGq7Kj6Ii4O9eyE1FbZu5SH31NRUQkhMTIybmxvniXM/HuvMmTMLFixwc3Pr7OzUmG5adnNzGzp0qEQiCQgIkEgkQ4cOlUqlUqk0ICDA39/fxYXjW75zotGAVAp1dVBQAKNGOTr3qVOn5uTkHD9+fOnSpZwnzrFYSqVy7NixSqVy9+7da9asaWhoqK6urqmpKS0tZV/0/G0mnYenqEtIgE8+gT//Gd5916H5KpXKIUOGiMXiurq6AQMGcJ4+l2Jptdo5c+ZkZWXNmTMnIyPD/Nff0tJSUVFRU1NTVVVVWVlZU1PD/llZWalUKtVqtakPurm5DRkyRCKRDBs2bNy4cWvXruUqfl44exbmzoUnn4T8fIfmu3///uXLl8fGxp46dYpG+lyKtW3btnfeecfX1zc/P7/nMlE2YGFRN3LkyJCQkFOnTvXdMkylAj8/aG2F8nKQSByXb1RU1Llz544cOfLiiy9SycDuyR3d5ObmisVihmHOnDnDVZpGaWlpuX79+rlz55KTk9kpxelOtuS/teTkOHol+Z9//lkkEonFYnqrknAjVmNj42OPPQYA69at4yRBC9mxYwcAzJ4925GZPgB8+umnABATE0MvC27Eev755wHgqaee6uzsNDyr0WiMHrefu3fvDhw4EACuXr1KI30HAEAS7p+6Z/kCqDYTHR0NAJ9xuzLz/XBwBZ999hkAeHh4/Pjjj0bfoFAoAMDLyys0NDQqKio+Pn79+vVyuTwlJUWhUFRVVWk0tq8OnZiYCAAvv/yyzSnwi+H+PbTFamxsdHFxEQqFdXV19vznzWPvFRQVFbEPq0eOHDH1noyMDJHIXEtsv379hg8fPnXq1Oeff37NmjUfffTR8ePHc3JyysrKOnpbQ7i0tFQoFLq6ulZXV9t5LbwAoL/xCm2x/vGPfwDArFmzbty4MX78+H/96180crHrqbCzszMsLCwvL++ll146fPiwmXdqtdra2tqqqqqezQrV1dVsW0NTU5OZz/r6+rItqKNHj96+fbvhG+Li4k6ePLl58+akpCSbr4UvGAbS0+H0aQgNhZUrAQAyMiAmBgiB69ehrMzSdESi/1Orf7HknVu3br148eK+ffsaGxs3btzo7++fn5/v6+tr6xWYwB4rV61aBQDDhw+/e/euPem0t7eXlJRkZ2enpKTI5fL169fHx8dHRUUFBQXp1pcCgIkTJxr9eHZ2NgAMHjy4paXFnjB4gb0PspsZsOhKrJUr71t01/zPyJEvWfiNC4XCoKCg6upqjUYza9YsAJg7d26vyxFai+0lVmZmZkxMjEgkys7Onjx5sm2J9IpWq1UqlVVVVdXV1WKxmK11GjJlypRLly4dOHDg9ddfpxQJJdgSKzq6e8/wlSvvlViffAKnT1uajq/vtrq6C5a8UywWn/413aqqqnHjxv38888ffvjh6tWrbbkAU9jmY21tLdsEumvXLk5Ft5Evv/wSAEJCQujVRinRs+bObrNCqY6lVqv37t3b3t6udzw9PZ1hGFdX1++//57D7Gy5Ao1GM3v2bAB4+umnneSLVKlU7HLqtJtnOaenWHI5SUigJdYrr7wCAG+88YbhqRUrVgDA448/3tTUxFV2tlzB+++/DwC+vr5O9SC2a9cuAJg1axbfgViHXlsDu9kKDbGuXbvGrm9z+vRpvVMdHR3jxo0DgFdeeYWr7Ky+gsuXL7u4uDAM880333AVBCfcvXt30KBBAGD57kjOgNFGLErNDR999BEAeHl5/fTTT3qnCgsL+/fvDwBHjx7lJC/rrqC5uTkkJAQA1q5dy0n23MI+pf7ud7/jOxCLaGggKpW5bcM5R6vVLliwAACmTZtmuMnKwYMHAcDDw+PWrVv252XdFbzwwgtguuuGd8rKyti+1YqKCr5j6QWNhjz9NAkLIwZlB13q6urY3aPee+89w7PPPfccAEycOLGrq8vOjKwQKzk5GQDc3d2dc/17FnaRoHfeeYfvQHphxw4CQHx8iOOrqd9++61QKBSJRIbb+DQ0NAQGBgLA2R077MzFUrF0XTeHDx+2M0uqXLhwAZy+sVShIC4uhGGIQ/YnNAK7R0ZAQMAvv/yidyonJ6d46lQiEJCsLHuysEisrq4utgl06dKl9mTmGKZMmQIA+/bt4zsQ4zQ3k5AQAkDWrOEtBpVKxa7fbHzR+S1bCADx87NqK1A9LBJrzZo1ABAUFGRn141jOH78OAAEBwc7SRubHi++SADIhAmE6ha9vVJSUsI+RH/yySf65zQaMnMmASDR0VbtbdaT3sXKzMxkGEYkEl28eNG2PByMWq1ml792zE64VnH4cPcm9Tdu8B0KISkpKQDQv3//69ev65+rqCCPPNI99MImehFLqVSyXTc7d+60LQNe2L17NwBERkbyHch9FBd3b6mZnMx3KL/y+9//ft2ECR3TppG2Nv1zZ84QhiGursSmrh5zYum6biIjI53ztmKKpqYmtpzntv/LHrq6yOTJBIAsWcJ3KD3oaGkhI0YQALJihZHTy5cTAPL448T6rh5zYrGDn3x8fJyq68ZC2HphfHw834F0s3Zt97asjY18h6LHlSvE1ZUwDDHo6iHt7WTsWAJAXn3V2lRNiuW0XTcWUl5e7jyNpWfPEoGAiETkv//lOxSj7N5NAIiXl5Hm2sJC0r8/ASBWdvWYFOvYsWOurq7Lli2zIU4ngZ05/vbbb/MbRm1t7dNPpwGQ99/nNxDTaLVk/nwCQKZPJwZdPWT/fgJABg0ipaWWJ2lSLHZPbJlMZlOkTkFubi7b59rc3MxXDFqtdu7cuQzDvPbax05dTa2rIxIJASBbtxo5++yzBIBMnEgs7uoxKdb58+fZsTGGQ8O+++67efPm9YkZV+Hh4QCwd+9evgJgB/P4+PhUVVXxFYOl/Pvf3TfsCxf0T9XXk2HDyJNPEouvwlzlffz48QDw97//Xe94HxpE8NVXX/HYWKpQKNh66tdff+343G1h3ToCQAICiOEM6Zs3iUERYwZzYrHzhEaPHq030r4PDSJQq9XDhw83OrqNNi0tLU888QQArFq1ysFZ245KRaZMIQBk8WI7UzInVldX19ChQwHAcOpZXxlEQH4d3TZ9+nQH5/vSSy8BwJgxYwzrEk5NSUl3M65986R7aXnftm0bAERHR+sdZ+vFTj6IgKWpqcnT0xMALl265LBM2f5Kd3f3G87Qd2MtX3zR/RhoR5tbL2LV19d7eHgwDFNYWKh3iu0ed55BBP/85z9N3e8SEhIYhhk4cODkyZNjY2NXrFixbdu2w4cPZ2VlXb9+nfNnxpKSEnZFCaqLI9Blwwb9Krxu0LThogDG6L0T+o033gCA1157Te8424XpJIMIbt26NWDAAIZhDHvKVSrVpEmThEKhmTlw/fr1CwoKioiIWLJkSWJi4vbt21NSUrKzs0tKSlQqlVWRqFQqdtzOYrurKU6E4XBpgPvWBTCg9wmrRUVFI0aMEIvFP/30k5+fn+64RqMJCQkpLS1NS0ubP3+++USoolKppk6deunSpaVLl7L3oJ7IZLKkpCSpVJqent7a2qqb199zsn97e7upxIVCoZ+fn9HlUocOHcqWTD1Zv379zp07AwIC8vPzvby8uL9ax7NnD6SkwAWD2bAREbB0afe6AIZY4uvChQsBYMuWLXrHP/zwQ3CCQQR/+tOfwMRwsf/85z9CoVAgEJw7d85MCvX19QUFBZmZmcnJyUlJScuWLZs/f/6ECRP8/f3NrxXo7u4+YsSImTNnxsfHb9iwYcWKFQKBQCQSXTBsCuq7hIcbv/GZnQBpkVjsXqCGjaW6QQS5ublWBssZuuFi/zXoh6uvr2dHcL/77rv2ZFFfX69QKNLS0g4ePCiTyRISEqKiokJDQ9lr1yMwMHCr0cbrPgq7qkRRkXWnLB/zPmnSJAD49NNP9Y6zpQVfgwh0w8W2b99ueDY2NhYAJk2aZP+cE1M0NDQUFBScPXv2888/T0pKWr58uVKpdIZKJ2eYtcdMLd5Ssb744gsAGDVqlF5jKY+DCLRa7TPPPAMAM2bMMJwl9/HHHwOAp6dnWVmZgwN7oOhVLDtLrK6uroCAAADIzMzUO/Xss88CH4MIdu7cCSa64QoKCtjdFr788ksHR/UAQq+OxcKO+5szZ47e8cuXL4PDBxHouuEMB7a3t7c/+eSTAJCgt7gnYhumFpNg15kwgRViNTQ0eHh4AEB+fr7eqYiICHDgIILm5ma2G2716tWGZ//4xz8CQGhoaGtrq2PiefCxvh3Luin2b775JgC8ajBQNTU1FRzYWMqOFTPaDXfy5EkAcHV17VtLg/QBOG9574luJdmampqexx05iMBMN1xFRcUjjzwCAH/7299oh4GYx+plTdhneMORpXK5HOgPIiguLmYbuw1HiWk0msjISACIiYnhfEVNxFqsFuu7775jn8Xa7p+J5oBBBF1dXWw33BJjU6hkMhkADBky5M6dO5QCQCzHloWY2MbSQ4cO6R1/6623AOCFF17gIjAjsOkPGzbMcAeY7Oxstusmy76lLBCusEWso0ePAsATTzyhV1WvrKwUi8Visfj27dschXeP8+fPs91whl03usV3Nm3axHm+iG3YIpZuJVnDbbd++9vfAsD69eu5iO0edXV1EokEALZt22Z4lm2hpdp1g1iLjWsSmtp2Kzc3d9q0adzu86bVaufNm8c+GRh23ezfvx8ABg0aVGrNrDeENjaK5chttz744AMA8Pb2Nuy60S3JeuzYMdphIFZh+yqqjtl269atW6Zm+re3t48dOxYA/vCHP1CNAbEB28Vy2LZbBw4cMLq/5vLly9nmfg6XvUe4wq51nxctWgQAmzdv5ioayzlz5gyNjToQrrBLLL623aqsrGS7bvbs2ePIfBHLsXelenbR2wMHDnASjSVoNJqZM2cCQHR0NHbdOC3CLVu2mJks0CsDBgxITU3Nzc1ta2srLS2tra3t7OwUCoXswxoN3nvvveTkZD8/v8zMTHYYD+KE2LXDKgCo1erExMRTp07V1tb2PO7q6jp48GCpVCqRSKRSaVBQEPtCIpEEBgbaLERubu5vfvMbjUZz9uzZqKgoeyJHqGKvWCyHDh26ffu2DbvxSqXSIUOG9Jy15+3tbepTjY2N48ePLy8v37hx49atW+0PG6EHN2IZ0tHRUV1dXV1dXVNT0/N3aWlpRUWFSqUy9UEzRd2WLVtSU1MnTpx44cKFnlv6Ik4ILbHM09DQoGeb7s/a2lpTIbm7u4tEory8vMcee8zBASPWwo9YZmhra9Pb5r6qqqqmpub27dtvvvnm5MmTZ8yYwXeMSO84nVjIg4GA7wCQBxMUC6ECioVQAcVCqIBiIVRAsRAqoFgIFVAshAooFkIFFAuhAoqFUAHFQqiAYiFUQLEQKqBYCBVQLIQKKBZCBRQLoQKKhVABxUKogGIhVECxECqgWAgVUCyECigWQgUUC6ECioVQAcVCqPD/np1WgTHZ2dkAAAAASUVORK5CYII=\" alt=\"Mol\"/></td>\n",
       "      <td>Inactive</td>\n",
       "      <td>Inactive</td>\n",
       "    </tr>\n",
       "  </tbody>\n",
       "</table>\n",
       "</div>"
      ],
      "text/plain": [
       "  Compound_name DRUGBANK_ID ID  \\\n",
       "0    disulfiram     DB00822      \n",
       "1      carmofur     DB09010      \n",
       "2       ebselen     DB12610      \n",
       "3      shikonin                  \n",
       "4    tideglusib     DB12129      \n",
       "5         PX-12     DB05448      \n",
       "6        TDZD-8                  \n",
       "\n",
       "                                                 Mol Prediction        AD  \n",
       "0  <img data-content=\"rdkit/molecule\" src=\"data:i...   Inactive  Inactive  \n",
       "1  <img data-content=\"rdkit/molecule\" src=\"data:i...   Inactive  Inactive  \n",
       "2  <img data-content=\"rdkit/molecule\" src=\"data:i...   Inactive  Inactive  \n",
       "3  <img data-content=\"rdkit/molecule\" src=\"data:i...   Inactive  Inactive  \n",
       "4  <img data-content=\"rdkit/molecule\" src=\"data:i...   Inactive  Inactive  \n",
       "5  <img data-content=\"rdkit/molecule\" src=\"data:i...   Inactive       NaN  \n",
       "6  <img data-content=\"rdkit/molecule\" src=\"data:i...   Inactive  Inactive  "
      ]
     },
     "execution_count": 9,
     "metadata": {},
     "output_type": "execute_result"
    }
   ],
   "source": [
    "predictions = pd.concat([moldf, pred], axis=1)\n",
    "\n",
    "for col in ['Prediction', 'AD']:\n",
    "    predictions[col].replace(0,'Inactive',inplace=True)\n",
    "    predictions[col].replace(1,'Active',inplace=True)\n",
    "\n",
    "predictions"
   ]
  },
  {
   "cell_type": "markdown",
   "metadata": {},
   "source": [
    "## Export SDF"
   ]
  },
  {
   "cell_type": "code",
   "execution_count": 11,
   "metadata": {},
   "outputs": [],
   "source": [
    "PandasTools.WriteSDF(predictions, 'datasets/screened_compounds/new_phen_qsar_pred-morgan.sdf.gz',\n",
    "                     molColName='Mol', properties=list(predictions.columns))"
   ]
  }
 ],
 "metadata": {
  "kernelspec": {
   "display_name": "rdkit-env",
   "language": "python",
   "name": "rdkit-env"
  },
  "language_info": {
   "codemirror_mode": {
    "name": "ipython",
    "version": 3
   },
   "file_extension": ".py",
   "mimetype": "text/x-python",
   "name": "python",
   "nbconvert_exporter": "python",
   "pygments_lexer": "ipython3",
   "version": "3.8.2"
  }
 },
 "nbformat": 4,
 "nbformat_minor": 2
}
