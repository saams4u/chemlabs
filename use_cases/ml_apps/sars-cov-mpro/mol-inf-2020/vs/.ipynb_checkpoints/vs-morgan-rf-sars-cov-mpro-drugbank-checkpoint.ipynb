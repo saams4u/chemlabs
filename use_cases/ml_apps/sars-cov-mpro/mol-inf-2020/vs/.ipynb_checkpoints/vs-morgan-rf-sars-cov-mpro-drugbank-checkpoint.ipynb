{
 "cells": [
  {
   "cell_type": "markdown",
   "metadata": {},
   "source": [
    "# VS of DrugBank by QSAR models of SARS-CoV"
   ]
  },
  {
   "cell_type": "markdown",
   "metadata": {},
   "source": [
    "## Importing modules and functions        \n",
    "    "
   ]
  },
  {
   "cell_type": "code",
   "execution_count": 1,
   "metadata": {},
   "outputs": [
    {
     "data": {
      "text/html": [
       "<style>.container { width:90% !important; }</style>"
      ],
      "text/plain": [
       "<IPython.core.display.HTML object>"
      ]
     },
     "metadata": {},
     "output_type": "display_data"
    }
   ],
   "source": [
    "import numpy as np\n",
    "import pandas as pd\n",
    "import seaborn as sns\n",
    "import matplotlib.pyplot as plt\n",
    "import csv\n",
    "import _pickle as cPickle\n",
    "import gzip\n",
    "\n",
    "from stats import *\n",
    "\n",
    "from collections import Counter\n",
    "\n",
    "from rdkit import Chem\n",
    "from rdkit.Chem import AllChem\n",
    "from rdkit.Chem import Draw\n",
    "from rdkit.Chem import PandasTools\n",
    "from rdkit.Chem.Draw import IPythonConsole\n",
    "\n",
    "from sklearn import metrics\n",
    "from sklearn.ensemble import RandomForestClassifier\n",
    "from sklearn.model_selection import train_test_split, cross_validate, GridSearchCV\n",
    "from sklearn.model_selection import permutation_test_score, StratifiedKFold\n",
    "\n",
    "def warn(*args, **kwargs):\n",
    "    pass\n",
    "import warnings\n",
    "warnings.filterwarnings(\"ignore\")\n",
    "warnings.warn = warn\n",
    "\n",
    "from IPython.core.interactiveshell import InteractiveShell\n",
    "InteractiveShell.ast_node_interactivity = \"all\"\n",
    "%matplotlib inline\n",
    "%reload_ext autoreload\n",
    "%autoreload 2\n",
    "Draw.DrawingOptions.atomLabelFontFace = \"DejaVu Sans\"\n",
    "Draw.DrawingOptions.atomLabelFontSize = 18\n",
    "\n",
    "from IPython.core.display import display, HTML\n",
    "display(HTML(\"<style>.container { width:90% !important; }</style>\"))"
   ]
  },
  {
   "cell_type": "markdown",
   "metadata": {},
   "source": [
    "# Import screening data"
   ]
  },
  {
   "cell_type": "code",
   "execution_count": 2,
   "metadata": {},
   "outputs": [
    {
     "name": "stderr",
     "output_type": "stream",
     "text": [
      "RDKit ERROR: [17:35:37] Explicit valence for atom # 36 N, 5, is greater than permitted\n",
      "RDKit ERROR: [17:35:37] ERROR: Could not sanitize molecule ending on line 660489\n"
     ]
    }
   ],
   "source": [
    "# Set file path and format\n",
    "file = '../datasets/curated_data/drugbank.sdf.gz'\n",
    "\n",
    "# Read SDF\n",
    "sdfInfo = dict(molColName='ROMol')\n",
    "moldf = PandasTools.LoadSDF(file, **sdfInfo);\n",
    "#print('Original data: ', moldf.shape)\n",
    "# Rename ROMol\n",
    "moldf = moldf.rename(columns={'ROMol': 'Mol'})\n",
    "# Remove missing RDKit molecules\n",
    "moldf = moldf[pd.notnull(moldf['Mol'])]\n",
    "if 'StandardizerResult' in moldf.columns:\n",
    "    moldf = moldf.drop(columns='StandardizerResult')"
   ]
  },
  {
   "cell_type": "code",
   "execution_count": 3,
   "metadata": {
    "scrolled": false
   },
   "outputs": [
    {
     "name": "stdout",
     "output_type": "stream",
     "text": [
      "Kept data:  (9614, 6)\n"
     ]
    },
    {
     "data": {
      "text/html": [
       "<div>\n",
       "<style scoped>\n",
       "    .dataframe tbody tr th:only-of-type {\n",
       "        vertical-align: middle;\n",
       "    }\n",
       "\n",
       "    .dataframe tbody tr th {\n",
       "        vertical-align: top;\n",
       "    }\n",
       "\n",
       "    .dataframe thead th {\n",
       "        text-align: right;\n",
       "    }\n",
       "</style>\n",
       "<table border=\"1\" class=\"dataframe\">\n",
       "  <thead>\n",
       "    <tr style=\"text-align: right;\">\n",
       "      <th></th>\n",
       "      <th>GENERIC_NAME</th>\n",
       "      <th>DRUGBANK_ID</th>\n",
       "      <th>DRUG_GROUPS</th>\n",
       "      <th>InChIKey</th>\n",
       "      <th>ID</th>\n",
       "      <th>Mol</th>\n",
       "    </tr>\n",
       "  </thead>\n",
       "  <tbody>\n",
       "    <tr>\n",
       "      <th>0</th>\n",
       "      <td>Elenbecestat</td>\n",
       "      <td>DB15391</td>\n",
       "      <td>investigational</td>\n",
       "      <td>AACUJFVOHGRMTR-DPXNYUHVSA-N</td>\n",
       "      <td></td>\n",
       "      <td><img data-content=\"rdkit/molecule\" src=\"data:image/png;base64,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\" alt=\"Mol\"/></td>\n",
       "    </tr>\n",
       "  </tbody>\n",
       "</table>\n",
       "</div>"
      ],
      "text/plain": [
       "   GENERIC_NAME DRUGBANK_ID      DRUG_GROUPS                     InChIKey ID  \\\n",
       "0  Elenbecestat     DB15391  investigational  AACUJFVOHGRMTR-DPXNYUHVSA-N      \n",
       "\n",
       "                                                 Mol  \n",
       "0  <img data-content=\"rdkit/molecule\" src=\"data:i...  "
      ]
     },
     "execution_count": 3,
     "metadata": {},
     "output_type": "execute_result"
    },
    {
     "name": "stdout",
     "output_type": "stream",
     "text": [
      "\n",
      " Problematic structures: \n",
      " []\n"
     ]
    }
   ],
   "source": [
    "# Columns\n",
    "print('Kept data: ', moldf.shape)\n",
    "moldf.head(1)\n",
    "from molvs.validate import Validator\n",
    "fmt = '%(asctime)s - %(levelname)s - %(validation)s - %(message)s'\n",
    "validator = Validator(log_format=fmt)\n",
    "print('\\n Problematic structures: \\n', validator.validate(moldf))"
   ]
  },
  {
   "cell_type": "markdown",
   "metadata": {},
   "source": [
    "### Calculate Morgan Fingerprints"
   ]
  },
  {
   "cell_type": "code",
   "execution_count": 4,
   "metadata": {},
   "outputs": [
    {
     "data": {
      "text/plain": [
       "(9614, 2048)"
      ]
     },
     "execution_count": 4,
     "metadata": {},
     "output_type": "execute_result"
    }
   ],
   "source": [
    "def calcfp(mol,funcFPInfo=dict(radius=3, nBits=2048, useFeatures=False, useChirality=False)):\n",
    "    fp = AllChem.GetMorganFingerprintAsBitVect(mol, **funcFPInfo)\n",
    "    fp = pd.Series(np.asarray(fp))\n",
    "    fp = fp.add_prefix('Bit_')\n",
    "    return fp\n",
    "\n",
    "X_vs = moldf.Mol.apply(calcfp)\n",
    "X_vs.shape"
   ]
  },
  {
   "cell_type": "markdown",
   "metadata": {},
   "source": [
    "# Virtual screening Morgan"
   ]
  },
  {
   "cell_type": "markdown",
   "metadata": {},
   "source": [
    "##### Load the model"
   ]
  },
  {
   "cell_type": "code",
   "execution_count": 5,
   "metadata": {
    "scrolled": true
   },
   "outputs": [],
   "source": [
    "with gzip.open('../model/sars-cov-3clpro-morgan_RF_ad_balanced.pgz', 'rb') as f:\n",
    "    model = cPickle.load(f)"
   ]
  },
  {
   "cell_type": "markdown",
   "metadata": {},
   "source": [
    "##### Predict molecules"
   ]
  },
  {
   "cell_type": "code",
   "execution_count": 6,
   "metadata": {},
   "outputs": [
    {
     "name": "stdout",
     "output_type": "stream",
     "text": [
      "CPU times: user 1.02 s, sys: 86.6 ms, total: 1.11 s\n",
      "Wall time: 509 ms\n"
     ]
    }
   ],
   "source": [
    "%%time\n",
    "ad_threshold = 0.70\n",
    "\n",
    "y_pred = model.predict(X_vs)\n",
    "confidence = model.predict_proba(X_vs)\n",
    "confidence = np.amax(confidence, axis=1).round(2)\n",
    "ad = confidence >= ad_threshold\n",
    "\n",
    "pred = pd.DataFrame({'Prediction': y_pred, 'AD': ad, 'Confidence': confidence}, index=None)\n",
    "pred.AD[pred.AD == False] = np.nan\n",
    "pred.AD[pred.AD == True] = pred.Prediction.astype(int)"
   ]
  },
  {
   "cell_type": "code",
   "execution_count": 7,
   "metadata": {},
   "outputs": [
    {
     "name": "stdout",
     "output_type": "stream",
     "text": [
      "VS pred: Counter({0: 9546, 1: 68})\n",
      "VS pred AD: Counter({0: 5757})\n",
      "Coverage of AD: 59.88%\n"
     ]
    }
   ],
   "source": [
    "pred_ad = pred.dropna().astype(int)\n",
    "coverage_ad = len(pred_ad) * 100 / len(pred)\n",
    "\n",
    "print('VS pred: %s' % Counter(pred.Prediction))\n",
    "print('VS pred AD: %s' % Counter(pred_ad.Prediction))\n",
    "print('Coverage of AD: %.2f%%' % coverage_ad)"
   ]
  },
  {
   "cell_type": "markdown",
   "metadata": {},
   "source": [
    "###  Visualize predictions"
   ]
  },
  {
   "cell_type": "code",
   "execution_count": 8,
   "metadata": {},
   "outputs": [
    {
     "data": {
      "text/html": [
       "<div>\n",
       "<style scoped>\n",
       "    .dataframe tbody tr th:only-of-type {\n",
       "        vertical-align: middle;\n",
       "    }\n",
       "\n",
       "    .dataframe tbody tr th {\n",
       "        vertical-align: top;\n",
       "    }\n",
       "\n",
       "    .dataframe thead th {\n",
       "        text-align: right;\n",
       "    }\n",
       "</style>\n",
       "<table border=\"1\" class=\"dataframe\">\n",
       "  <thead>\n",
       "    <tr style=\"text-align: right;\">\n",
       "      <th></th>\n",
       "      <th>GENERIC_NAME</th>\n",
       "      <th>DRUGBANK_ID</th>\n",
       "      <th>DRUG_GROUPS</th>\n",
       "      <th>InChIKey</th>\n",
       "      <th>ID</th>\n",
       "      <th>Mol</th>\n",
       "      <th>Prediction</th>\n",
       "      <th>AD</th>\n",
       "      <th>Confidence</th>\n",
       "    </tr>\n",
       "  </thead>\n",
       "  <tbody>\n",
       "    <tr>\n",
       "      <th>0</th>\n",
       "      <td>Elenbecestat</td>\n",
       "      <td>DB15391</td>\n",
       "      <td>investigational</td>\n",
       "      <td>AACUJFVOHGRMTR-DPXNYUHVSA-N</td>\n",
       "      <td></td>\n",
       "      <td><img data-content=\"rdkit/molecule\" src=\"data:image/png;base64,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\" alt=\"Mol\"/></td>\n",
       "      <td>Inactive</td>\n",
       "      <td>NaN</td>\n",
       "      <td>0.57</td>\n",
       "    </tr>\n",
       "    <tr>\n",
       "      <th>1</th>\n",
       "      <td>Eticlopride</td>\n",
       "      <td>DB15492</td>\n",
       "      <td>experimental</td>\n",
       "      <td>AADCDMQTJNYOSS-LBPRGKRZSA-N</td>\n",
       "      <td></td>\n",
       "      <td><img data-content=\"rdkit/molecule\" src=\"data:image/png;base64,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\" alt=\"Mol\"/></td>\n",
       "      <td>Inactive</td>\n",
       "      <td>NaN</td>\n",
       "      <td>0.69</td>\n",
       "    </tr>\n",
       "    <tr>\n",
       "      <th>2</th>\n",
       "      <td>Pirnabine</td>\n",
       "      <td>DB12840</td>\n",
       "      <td>investigational</td>\n",
       "      <td>AADNQNOXNWEYHS-UHFFFAOYNA-N</td>\n",
       "      <td></td>\n",
       "      <td><img data-content=\"rdkit/molecule\" src=\"data:image/png;base64,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\" alt=\"Mol\"/></td>\n",
       "      <td>Inactive</td>\n",
       "      <td>Inactive</td>\n",
       "      <td>0.75</td>\n",
       "    </tr>\n",
       "    <tr>\n",
       "      <th>3</th>\n",
       "      <td>Dianhydrogalactitol</td>\n",
       "      <td>DB12873</td>\n",
       "      <td>investigational</td>\n",
       "      <td>AAFJXZWCNVJTMK-GUCUJZIJSA-N</td>\n",
       "      <td></td>\n",
       "      <td><img data-content=\"rdkit/molecule\" src=\"data:image/png;base64,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\" alt=\"Mol\"/></td>\n",
       "      <td>Inactive</td>\n",
       "      <td>Inactive</td>\n",
       "      <td>0.80</td>\n",
       "    </tr>\n",
       "    <tr>\n",
       "      <th>4</th>\n",
       "      <td>N-1,10-phenanthrolin-5-ylacetamide</td>\n",
       "      <td>DB08440</td>\n",
       "      <td>experimental</td>\n",
       "      <td>AAJXINSCZMZERD-UHFFFAOYSA-N</td>\n",
       "      <td></td>\n",
       "      <td><img data-content=\"rdkit/molecule\" src=\"data:image/png;base64,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\" alt=\"Mol\"/></td>\n",
       "      <td>Inactive</td>\n",
       "      <td>Inactive</td>\n",
       "      <td>0.71</td>\n",
       "    </tr>\n",
       "  </tbody>\n",
       "</table>\n",
       "</div>"
      ],
      "text/plain": [
       "                         GENERIC_NAME DRUGBANK_ID      DRUG_GROUPS  \\\n",
       "0                        Elenbecestat     DB15391  investigational   \n",
       "1                         Eticlopride     DB15492     experimental   \n",
       "2                           Pirnabine     DB12840  investigational   \n",
       "3                 Dianhydrogalactitol     DB12873  investigational   \n",
       "4  N-1,10-phenanthrolin-5-ylacetamide     DB08440     experimental   \n",
       "\n",
       "                      InChIKey ID  \\\n",
       "0  AACUJFVOHGRMTR-DPXNYUHVSA-N      \n",
       "1  AADCDMQTJNYOSS-LBPRGKRZSA-N      \n",
       "2  AADNQNOXNWEYHS-UHFFFAOYNA-N      \n",
       "3  AAFJXZWCNVJTMK-GUCUJZIJSA-N      \n",
       "4  AAJXINSCZMZERD-UHFFFAOYSA-N      \n",
       "\n",
       "                                                 Mol Prediction        AD  \\\n",
       "0  <img data-content=\"rdkit/molecule\" src=\"data:i...   Inactive       NaN   \n",
       "1  <img data-content=\"rdkit/molecule\" src=\"data:i...   Inactive       NaN   \n",
       "2  <img data-content=\"rdkit/molecule\" src=\"data:i...   Inactive  Inactive   \n",
       "3  <img data-content=\"rdkit/molecule\" src=\"data:i...   Inactive  Inactive   \n",
       "4  <img data-content=\"rdkit/molecule\" src=\"data:i...   Inactive  Inactive   \n",
       "\n",
       "   Confidence  \n",
       "0        0.57  \n",
       "1        0.69  \n",
       "2        0.75  \n",
       "3        0.80  \n",
       "4        0.71  "
      ]
     },
     "execution_count": 8,
     "metadata": {},
     "output_type": "execute_result"
    }
   ],
   "source": [
    "predictions = pd.concat([moldf, pred], axis=1)\n",
    "for col in ['Prediction', 'AD']:\n",
    "    predictions[col].replace(0,'Inactive',inplace=True)\n",
    "    predictions[col].replace(1,'Active',inplace=True)\n",
    "predictions.head()"
   ]
  },
  {
   "cell_type": "markdown",
   "metadata": {},
   "source": [
    "## Export SDF and Excel"
   ]
  },
  {
   "cell_type": "code",
   "execution_count": 9,
   "metadata": {},
   "outputs": [],
   "source": [
    "predictions.drop(columns='Mol', inplace=True)\n",
    "with pd.ExcelWriter('../datasets/screened_compounds/drugbank_hits_qsar_morgan.xlsx') as writer:\n",
    "    predictions.to_excel(writer, sheet_name='morgan', index=False)"
   ]
  }
 ],
 "metadata": {
  "kernelspec": {
   "display_name": "rdkit-env",
   "language": "python",
   "name": "my-rdkit-env"
  },
  "language_info": {
   "codemirror_mode": {
    "name": "ipython",
    "version": 3
   },
   "file_extension": ".py",
   "mimetype": "text/x-python",
   "name": "python",
   "nbconvert_exporter": "python",
   "pygments_lexer": "ipython3",
   "version": "3.6.10"
  }
 },
 "nbformat": 4,
 "nbformat_minor": 2
}
