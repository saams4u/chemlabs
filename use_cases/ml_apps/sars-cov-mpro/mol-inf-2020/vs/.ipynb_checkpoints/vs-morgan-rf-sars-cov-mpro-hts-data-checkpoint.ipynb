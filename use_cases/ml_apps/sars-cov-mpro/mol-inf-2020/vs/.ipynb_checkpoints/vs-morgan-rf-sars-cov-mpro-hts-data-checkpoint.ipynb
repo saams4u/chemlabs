{
 "cells": [
  {
   "cell_type": "markdown",
   "metadata": {},
   "source": [
    "# Virtual Screening of DrugBank by QSAR models of SARS-CoV (M<sup>pro</sup>) "
   ]
  },
  {
   "cell_type": "markdown",
   "metadata": {},
   "source": [
    "## Importing modules and functions        \n",
    "    "
   ]
  },
  {
   "cell_type": "code",
   "execution_count": 1,
   "metadata": {},
   "outputs": [
    {
     "data": {
      "text/html": [
       "<style>.container { width:90% !important; }</style>"
      ],
      "text/plain": [
       "<IPython.core.display.HTML object>"
      ]
     },
     "metadata": {},
     "output_type": "display_data"
    }
   ],
   "source": [
    "import bz2\n",
    "import gzip\n",
    "import matplotlib.pyplot as plt\n",
    "import numpy as np\n",
    "import pandas as pd\n",
    "import seaborn as sns\n",
    "import _pickle as cPickle\n",
    "import sys\n",
    "\n",
    "sys.path.append('../')\n",
    "\n",
    "from cheminformatics import *\n",
    "from collections import Counter\n",
    "\n",
    "from rdkit import Chem\n",
    "from rdkit.Chem import AllChem\n",
    "from rdkit.Chem import Draw\n",
    "from rdkit.Chem import PandasTools\n",
    "from rdkit.Chem.Draw import IPythonConsole\n",
    "\n",
    "from sklearn import metrics\n",
    "\n",
    "def warn(*args, **kwargs):\n",
    "    pass\n",
    "import warnings\n",
    "warnings.filterwarnings(\"ignore\")\n",
    "warnings.warn = warn\n",
    "\n",
    "from IPython.core.interactiveshell import InteractiveShell\n",
    "InteractiveShell.ast_node_interactivity = \"all\"\n",
    "%matplotlib inline\n",
    "%reload_ext autoreload\n",
    "%autoreload 2\n",
    "Draw.DrawingOptions.atomLabelFontFace = \"DejaVu Sans\"\n",
    "Draw.DrawingOptions.atomLabelFontSize = 18\n",
    "\n",
    "from IPython.core.display import display, HTML\n",
    "display(HTML(\"<style>.container { width:90% !important; }</style>\"))"
   ]
  },
  {
   "cell_type": "markdown",
   "metadata": {},
   "source": [
    "# Import screening data"
   ]
  },
  {
   "cell_type": "code",
   "execution_count": 2,
   "metadata": {},
   "outputs": [
    {
     "name": "stderr",
     "output_type": "stream",
     "text": [
      "RDKit ERROR: [17:15:00] Explicit valence for atom # 36 N, 5, is greater than permitted\n",
      "RDKit ERROR: [17:15:00] ERROR: Could not sanitize molecule ending on line 660489\n"
     ]
    },
    {
     "name": "stdout",
     "output_type": "stream",
     "text": [
      "Original data:  (9614, 7)\n",
      "Kept data:  (9614, 6)\n"
     ]
    },
    {
     "data": {
      "text/html": [
       "<div>\n",
       "<style scoped>\n",
       "    .dataframe tbody tr th:only-of-type {\n",
       "        vertical-align: middle;\n",
       "    }\n",
       "\n",
       "    .dataframe tbody tr th {\n",
       "        vertical-align: top;\n",
       "    }\n",
       "\n",
       "    .dataframe thead th {\n",
       "        text-align: right;\n",
       "    }\n",
       "</style>\n",
       "<table border=\"1\" class=\"dataframe\">\n",
       "  <thead>\n",
       "    <tr style=\"text-align: right;\">\n",
       "      <th></th>\n",
       "      <th>GENERIC_NAME</th>\n",
       "      <th>DRUGBANK_ID</th>\n",
       "      <th>DRUG_GROUPS</th>\n",
       "      <th>InChIKey</th>\n",
       "      <th>SMILES</th>\n",
       "      <th>Mol</th>\n",
       "    </tr>\n",
       "  </thead>\n",
       "  <tbody>\n",
       "    <tr>\n",
       "      <th>0</th>\n",
       "      <td>Elenbecestat</td>\n",
       "      <td>DB15391</td>\n",
       "      <td>investigational</td>\n",
       "      <td>AACUJFVOHGRMTR-DPXNYUHVSA-N</td>\n",
       "      <td>CC1OCC2(c3cc(NC(=O)c4cnc(C(F)F)cn4)ccc3F)N=C(N...</td>\n",
       "      <td><img data-content=\"rdkit/molecule\" src=\"data:image/png;base64,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\" alt=\"Mol\"/></td>\n",
       "    </tr>\n",
       "  </tbody>\n",
       "</table>\n",
       "</div>"
      ],
      "text/plain": [
       "   GENERIC_NAME DRUGBANK_ID      DRUG_GROUPS                     InChIKey  \\\n",
       "0  Elenbecestat     DB15391  investigational  AACUJFVOHGRMTR-DPXNYUHVSA-N   \n",
       "\n",
       "                                              SMILES  \\\n",
       "0  CC1OCC2(c3cc(NC(=O)c4cnc(C(F)F)cn4)ccc3F)N=C(N...   \n",
       "\n",
       "                                                 Mol  \n",
       "0  <img data-content=\"rdkit/molecule\" src=\"data:i...  "
      ]
     },
     "execution_count": 2,
     "metadata": {},
     "output_type": "execute_result"
    },
    {
     "name": "stdout",
     "output_type": "stream",
     "text": [
      "\n",
      " Problematic structures: \n",
      " []\n"
     ]
    }
   ],
   "source": [
    "# Set file path and format\n",
    "file = '../datasets/curated_data/drugbank.sdf.gz'\n",
    "\n",
    "# Read SDF\n",
    "moldf = PandasTools.LoadSDF(file, molColName='Mol', smilesName='SMILES');\n",
    "print('Original data: ', moldf.shape)\n",
    "\n",
    "# Remove missing RDKit molecules\n",
    "moldf = moldf[pd.notnull(moldf['Mol'])]\n",
    "if 'StandardizerResult' in moldf.columns:\n",
    "    moldf = moldf.drop(columns='StandardizerResult')\n",
    "\n",
    "moldf.drop(columns='ID', inplace=True)\n",
    "# Columns\n",
    "print('Kept data: ', moldf.shape)\n",
    "moldf.head(1)\n",
    "from molvs.validate import Validator\n",
    "fmt = '%(asctime)s - %(levelname)s - %(validation)s - %(message)s'\n",
    "validator = Validator(log_format=fmt)\n",
    "print('\\n Problematic structures: \\n', validator.validate(moldf))"
   ]
  },
  {
   "cell_type": "markdown",
   "metadata": {},
   "source": [
    "### Calculate Morgan Fingerprints"
   ]
  },
  {
   "cell_type": "code",
   "execution_count": 3,
   "metadata": {},
   "outputs": [
    {
     "data": {
      "text/plain": [
       "(9614, 2048)"
      ]
     },
     "execution_count": 3,
     "metadata": {},
     "output_type": "execute_result"
    }
   ],
   "source": [
    "def calcfp(mol,funcFPInfo=dict(radius=3, nBits=2048, useFeatures=False, useChirality=False)):\n",
    "    fp = AllChem.GetMorganFingerprintAsBitVect(mol, **funcFPInfo)\n",
    "    fp = pd.Series(np.asarray(fp))\n",
    "    fp = fp.add_prefix('Bit_')\n",
    "    return fp\n",
    "\n",
    "X_vs = moldf.Mol.apply(calcfp)\n",
    "X_vs.shape"
   ]
  },
  {
   "cell_type": "markdown",
   "metadata": {},
   "source": [
    "# Virtual screening Morgan"
   ]
  },
  {
   "cell_type": "code",
   "execution_count": 4,
   "metadata": {},
   "outputs": [],
   "source": [
    "##### Load the model and model parameters\n",
    "\n",
    "with gzip.open('../model/sars-cov-3clpro-morgan_RF_ad_unbalanced.pgz', 'rb') as f:\n",
    "    model = cPickle.load(f)\n",
    "    \n",
    "with bz2.BZ2File('../model/sars-cov-3clpro-morgan_RF_ad_unbalanced.pbz2', 'rb') as f:\n",
    "    model_data = cPickle.load(f)  \n",
    "\n",
    "X_train = model_data['Descriptors']\n",
    "D_cutoff = model_data['D_cutoff']\n",
    "del model_data"
   ]
  },
  {
   "cell_type": "markdown",
   "metadata": {},
   "source": [
    "##### Predict molecules"
   ]
  },
  {
   "cell_type": "code",
   "execution_count": 8,
   "metadata": {},
   "outputs": [
    {
     "name": "stdout",
     "output_type": "stream",
     "text": [
      "\u001b[1mVirtual screening results:\n",
      "\u001b[0m\n",
      "\t\t Class 0: 7955\n",
      "\t\t Class 1: 1659\n",
      "\t\t Class 0 (AD): 6254\n",
      "\t\t Class 1 (AD): 1131\n",
      "\t\t AD Coverage: 0.77%\n",
      "\n",
      "\t\t Class 0 (high-confidence): 37\n",
      "\t\t Class 1 (high-confidence): 8\n",
      "\t\t Class 0 (high-confidence AD): 24\n",
      "\t\t Class 1 (high-confidence AD): 7\n"
     ]
    }
   ],
   "source": [
    "conf_threshold = 0.7\n",
    "\n",
    "#### Make predictions\n",
    "y_pred = model.predict(X_vs)\n",
    "pred_prob = model.predict_proba(X_vs)\n",
    "pred_prob = np.amax(pred_prob, axis=1).round(2)\n",
    "\n",
    "#### Estimate AD\n",
    "pred_dist = calc_test_distances(X_vs, X_train)\n",
    "pred_ad = []\n",
    "for i in np.arange(0, len(pred_dist), 1):\n",
    "    if pred_dist[i] < D_cutoff:\n",
    "        pred_ad.append('Inside')\n",
    "    else:\n",
    "        pred_ad.append('Outside')\n",
    "\n",
    "#### Prepare data\n",
    "pred = pd.DataFrame({'Prediction': y_pred, 'Confidence': pred_prob, 'AD': pred_ad})\n",
    "# AD\n",
    "pred.AD[pred.AD == 'Outside'] = np.nan\n",
    "pred.AD[pred.AD == 'Inside'] = pred.Prediction\n",
    "pred.sort_index(inplace=True)\n",
    "pred_ad = pred.dropna().astype(int)\n",
    "coverage_pred = len(pred_ad) / len(pred)\n",
    "\n",
    "# Confidence\n",
    "high_conf = pred[(pred['Confidence'] >= conf_threshold)]\n",
    "high_conf.sort_index(inplace=True)\n",
    "high_conf_ad = high_conf.dropna().astype(int)\n",
    "coverage_high_conf = len(high_conf_ad) / len(high_conf)\n",
    "\n",
    "#### Print results\n",
    "pred_count = Counter(pred.Prediction)\n",
    "pred_ad_count = Counter(pred_ad.Prediction)\n",
    "pred_high_conf_count = Counter(high_conf.Prediction)\n",
    "pred_high_conf_count_ad = Counter(high_conf_ad.Prediction)\n",
    "\n",
    "print('\\033[1m' + 'Virtual screening results:' + '\\n' + '\\033[0m')\n",
    "for key, value in pred_count.items():\n",
    "    print('\\t\\t Class %d: %d' % (key, value))\n",
    "for key, value in pred_ad_count.items():\n",
    "    print('\\t\\t Class %d (AD): %d' % (key, value))\n",
    "\n",
    "print('\\t\\t AD Coverage: %.2f%%\\n' % coverage_pred)\n",
    "\n",
    "for key, value in pred_high_conf_count.items():\n",
    "    print('\\t\\t Class %d (high-confidence): %d' % (key, value))\n",
    "    \n",
    "for key, value in sorted(pred_high_conf_count_ad.items()):\n",
    "    print('\\t\\t Class %d (high-confidence AD): %d' % (key, value))"
   ]
  },
  {
   "cell_type": "markdown",
   "metadata": {},
   "source": [
    "###  Visualize predictions"
   ]
  },
  {
   "cell_type": "code",
   "execution_count": 22,
   "metadata": {
    "scrolled": false
   },
   "outputs": [
    {
     "data": {
      "text/html": [
       "<div>\n",
       "<style scoped>\n",
       "    .dataframe tbody tr th:only-of-type {\n",
       "        vertical-align: middle;\n",
       "    }\n",
       "\n",
       "    .dataframe tbody tr th {\n",
       "        vertical-align: top;\n",
       "    }\n",
       "\n",
       "    .dataframe thead th {\n",
       "        text-align: right;\n",
       "    }\n",
       "</style>\n",
       "<table border=\"1\" class=\"dataframe\">\n",
       "  <thead>\n",
       "    <tr style=\"text-align: right;\">\n",
       "      <th></th>\n",
       "      <th>GENERIC_NAME</th>\n",
       "      <th>DRUGBANK_ID</th>\n",
       "      <th>DRUG_GROUPS</th>\n",
       "      <th>InChIKey</th>\n",
       "      <th>SMILES</th>\n",
       "      <th>Mol</th>\n",
       "      <th>Prediction</th>\n",
       "      <th>Confidence</th>\n",
       "      <th>AD</th>\n",
       "    </tr>\n",
       "  </thead>\n",
       "  <tbody>\n",
       "    <tr>\n",
       "      <th>465</th>\n",
       "      <td>Diloxanide furoate</td>\n",
       "      <td>DB14638</td>\n",
       "      <td>approved</td>\n",
       "      <td>BDYYDXJSHYEDGB-UHFFFAOYSA-N</td>\n",
       "      <td>CN(C(=O)C(Cl)Cl)c1ccc(OC(=O)c2ccco2)cc1</td>\n",
       "      <td><img data-content=\"rdkit/molecule\" src=\"data:image/png;base64,iVBORw0KGgoAAAANSUhEUgAAAMgAAADICAIAAAAiOjnJAAAABmJLR0QA/wD/AP+gvaeTAAATPUlEQVR4nO3da1RTV9oH8CcJhFuUS1IFgyKohSqdUijSCopttSNWXQWlN4vtqlanrWSWvWgvOtG2zrDaLhs6rl68IcWRlkptmfHyMl0qukRFERlRoaJYDRe5CJEkICF53g+HIiJIhGyOJ3l+H1z1nJy9N/TvPuckZz8RISIQYmtivgdA7BMFizBBwSJMULAIExQswgQFizBBwSJMULAIExQswgQFizBhh8HyP+1f0lJiH70Il7CDldmYGVEa4XbKze+0X+LFxDOtZ4Tbi50RcLD+WffPpVeWvjXsLW2o9uz4s097Pp3VmCXQXuwQCpPerB96aui2hm1dN1rQgojK/ylPG08LqBe7JNQZ67jheLO5eZ73vK4bRSASYi92SajBajA3+Dj5uIhc7KAXuyTUYMkl8sb2xht4o7cXZDdlb6rfZAFL/9o/YTzxYdWHffZCeiPUYEV6RHpIPHY07ui6EaHjadgWS8tfr/z1tcuvRZZGHtIfuquWa0w1C39fGFUa9feav+ssujv0Qu5AqMHyEHt84veJSqvafm17Q3tDk7kp41rGmuo13F43sdvXo74eLR190nhyym9TZl+YXdFW0WebJjSl1qYGnw3e0rBFIpKohqmmyqbeoRdyJ3zfPQzIvxr+FX4u3OWki+//fJ+9+OzZlrPY5X7NYDasrlrtXuQOheBW5LbuwDqDwdBbUzl7c0JKQqAQoBDmlM8533reyl5Ij4QdLGto27RJFUmjTo1yHeqqVCrT09MtFkvXF5SWls6cORMAYv8dG3wmeFfTLr6Gak/sP1ic/OL8iIgIbpKOjo4+fvw4IjY0NCxdutTJyQkAfHx8vk772mQx8T1SO+EowUJEs9m8efNmX19fABCLxZMnT/bx8QEAJyenN998s76+nu8B2hUHChZHr9er1WoXFxcuYY8//nhxcTHfg7JDInTIBavr169PTk6OiYk5dOju3owgVhLq2w0DxE1Xw4cP53sgdstBg0VYo2ARJihYhAkKFmGCgkWYoGARJihYhAkKFmGCgkWYoGARJihYhAkKFmGCgkWYoGARJhwxWHl5eVqtlu9R2DknvgcwqLRa7QcffLBt27YJEybwPRY75ygzlsFgWLly5bhx4zIyMtzd3UNDQwGgpKSksbGRUY/Nzc0rV66srq5m1P69ju9no5mzWCxZWVkBAQEAIBKJEhMTL126ZDQaX3vtNQDw8fHRaDQmky0X53A9jho1CgBeeeUVG7YsIPYerBMnMDo6+aGHACAiIuLQoUPcZqPRmJycHBISwv3rCgkJ2b17t006LCgomDRpEtfsI488cvjwYZs0Kzj2G6zKSlywAEUiBNDFxGzdupVbp2qxWL7//ntuOhkyZMh3330XFBTE5SA+Pv7Chep+d6jVNs6fP18kEgGAUqnMyMjotjLWodhjsG7cQI0Ghw5FAJRKUaVCnY7bc/LkySlTpnAxevjhh/Py8hCxra1No9EMHTr0vvuGy+W6Li+3ltGIKSkol+Po0U9JpVKVSnX9+nWb/1jCYnfBqq/HoCAEQACMj8cLFzq219S89+abYrEYAIYNG7Zx40az2dz1uMrKyhUrDopECIB+frh1K966v1dZWRgQ0NGhSvV7RUWFjX8iYbK7YCHi7NkYEoJ79nT8ta0NNRr09DwWG+vs7KxSqZqamno79MQJjI7uSElEBP5xSdazoiKcMqXjxWFhmJdn059C4IQfrI0bcfx4lEpxxAhctgyNRmxowM67vJwcHDeO+59vjo//raysz/YsFszIQKUSAVAkwl9+weBgVCiwubnjBf/4B86diwcPokSCAHjfffjtt9jezuwHFCaBB+uzz1ChwJ07UafDoiKMisIZM5C7ZC4txZkzO+aT++/H//znrho2GFCtxgkTsLUVg4PRxwfXru3YxQXLbMZHH0WVChsbbf1D2QUhB0uvR5kMMzNvbqmqQldXzM3FtraOOcfbG1NTsa2tfz1wE19wMH7yCcrlHRf1XLA695IeCfmd94ICMBohIeHmFj8/iI6GffvA2Rk++ghefx1++w1UKnB27l8PTn984hURAdHRkJra815yOyEHq6EBvL1BKr1lo68v1NcDALz6Knz1FSgUtuptzRr44gvQ6WzVnp0TcrDkcmhshLa2WzbW1NgwTF2FhcHUqfDFFyzatkNCDlZkJLi7w08/3dxSXQ2HD8MTTzDqcM0aSE0FZh9b2xUhB0smA7UakpPhl1/g+nUoLob4eIiNhWnTGHX44IMwbRps2sSoebsi8OvPd94BT094/30oLweFAp5/HtauBRHDryRZvfqWKZL0xkEr+vVDZiZ88w28+CIsWcL3UIRAyKfCwXX5Mhw8CBcv8j0OgaBgESYoWIQJChZhgoJFmKBgESYoWNaSyX6MiJjh5bWF74EIAwXLWnr9xcLC/2tqKuN7IMJAwSJMULAIExQswgQFizBBwbJWRUVF55+kTxSsvmm12gULFmzYsEGpVP7444/Tp08/c+YM34O65/G9muOeptfrV61a5ebmBgDu7u5xcXGenp4AIJVK33777TssfCUUrJ51LX4EALNmzbp06RIi1tfXq1QqiUQCAHK5XKPRtNNa1Z5QsHpQWFgYExPDRSo8PPzQbSvteywuQrqiYN2iqqpq8eLF3ISkUChun5CKioo6q4nk5OQEBgZ2TmkXL17kY8j3KApWh85iRgDA1Q7R3VbN6PLly+7u7t0KuKWkpAwZMgQA3NzcVqxYQQWMOBQsRMScnJwxY8Zwc8+0adPOnj3b48vy8vKUSiUAiESi+fPna7VabrtWq01KSuJKro0YMSI9Pd2RS65xHD1Y586di4uL4yIVHBy8a9euO7/eYDCo1erO+0S1Wm00GrldBQUFjz32GNdUZGRkfn4+++Hfuxw3WNeuXVOpVE5OTgDg7e19VyVur1y50jlF+fv7d05RFoslPT3d19eXm9WSkpKqq/tfe1LQHDdYixYtAgAnJ6elS5c2NDT0o4UDBw6EhYVxU1RUVNTRo0e57Tqdbvny5S4uLgCQkJBg01ELhoMG6+eff5bJZP7+/iUlJQNpx2w2p6enDx8+HADEYnFSUlJNTQ236/z582PGjPHw8EhLS7PBiIXGQT/SMZlMer0+KipqgF9RIRaLFyxYUFpaumzZMolEkpGRMX78eO5LCcaOHfvEE08YDIa2bmVLHIODBqubtrY2k8nU78O9vLzWrVt35syZxMTEhIQEb29vG45NoAReu8EW6urqhg0bplAo6urqBtLOuHHjsrKyHHN+uh3NWDYm7VYIzlFRsAgTFCzCBAWLMEHBIkxQsAgTFCzCBAWLMEHBIkxQsAgTFCzCBAWLMEEfQoObm9uiRYu4BREDVFZWdv369cjIyIE3JXQULJDJZBs3bhxgI3q9/vPPP09JSQkKCiouLnbu7xfZ2Q2HDpbBYBh4I2azefPmzatWraqtrRWLxTExMa2trVywmpubB96+UPH9CCs/Tp8+nZCQIJFIFi9eXFtb2+92envsXa/Xq9VqZ2fnmTNnFhQU2GjUQuKgwULEtWvXckt05HL5+vXrrV+iw+ltoY7ZbE5LS/Pz8wMAsVj87rvvshn+vc5xg4W3LSrcvXu3NUfR0kJrOHSwOF2XQc+aNau8vLy3V3YtQSMSiRITE7kSNEiLoW9DwUK0rnADImZmZt4+G1H5hh5RsG7qs9SMyWSaPn16WloaFZzpEwWruxMnTty5OBaHSmTdGQWrB7eX86uoqOjcS0X9rEHB6pXBYEhJSZHJZNzd34oVK65du6bRaLgypNylGJUh7Q0Fqw+XLl1KTEzkpi4uUgDw9NNPl5WV8T20exp92bhVjh079tJLL7W0tLS3t2/atGnWrFl8j+heR4/NWCUqKmrhwoWVlZVJSUmUKmtQsKzFvfkpFtNvzCr0ayJMULAIExQswgQFizDh0E+Q3pWXZbJXIiPNXl58D0QYaMaylq9eP/z48RFNTXwPRBgoWIQJChZhgoJFmKBgESYoWIQJervBas88A4GBEBLC9ziEgR6bIUzQqdA6mzbBhAng4gJKJbz1FrS0CLiXwcH3k4ZC8NlnqFDgzp2o02FREUZF4YwZaPNlg4PTy2ChYPVFr0eZDDMzb26pqkJXV8zNFV4vg4hOhX0pKACjERISbm7x84PoaNi3zwaN63RQVcW8Fz5QsPrS0ADe3tDtq5d8faG+fkDNWizw3XcQHAxLljDshT8UrL7I5dDYCN2+LK6mBhQK+O9/oX+fSR86BI88Ai+/DFevgk4Hev2dehEovs/F97zm5p6vfrZvRw8P9PFBjQatX7Cq1WJSEopECIBKJaand1ye99aLYK+xKFhW4O7Xfv4ZdTo8dQqjovDPf8ayMpwyBQEQAMPC8MCBO7dhMBj+9re/NT/8MAKguzuuXo1/FD/C/HzMyuq5F7ortHMbNuADD6CzM/r54bJlNzORk4OBgR3xmjULeyoKYrFYtm/fPnLkSAB4/U9/whdewMuXO/ZVVuLixSgWo5cX1tX12osAUbAGzGjEjz5CDw8E+HDatJUrV+r1+s6dhYWFkydP5q46wsPDDx48ePOojz/mjkJXV1y5ErscZQcoWDZy5Ur1X/7i4uICAP7+/tu2bTMaja+++iq3DtHX13fz5s2dxY/ad+zA0aM75rl587BLxRG7QcGypYKCgkmTJnHzU2Rk5MSJE7vVDikqKoqNjd0fG4sA+MADuHcvvwNmh4JlY92K2y5atIjbXltb21nVLWTUKNOGDXdxLylAFCwmupbjzs/P12g0Xl5eAODs7Lx48eK6ujq+B8gcBYuh559/HgCCgoK4k2NcXNy5c+f4HtQgoQf9GOIq3kZGRkokkrVr13bW2XIEFCzmpk6dmpGR4WjfrkOfFTInFosdLVVAwSKMULAIExQswgQFizBBwSJMULAIExQswgQFizBBwSJMULAIExQswgQFizBBwSJMULAIExQsVpqbm48cOeLq6rp3716z2cz3cAYbBYuJ48ePh4eHl5SUIOLOnTuffPJJrVbL96AGFQXLxhAxNTU1JiamvLw8NDT0q6++UiqVeXl5oaGhP/zwA9+jG0R8P3RvV65evRoXFwcAIpFIpVK1trYiYl1d3ezZs7nfdlJSksFg4HuYg4GCZTu7d6fPmAEAw4YN2717d9c9Fovl22+/dXd3B4Dx48cXFxfzNcZBQ8GyhdZWXLYMRSL08PjghReqq6s79+zZs+fAH4VoSkpKHnzwQQBwdXXVaDQ8jXWQULAGrKwMw8MRAJ2cUK3GPwo0IGJVVZVcLpdIJKtWrTKZTIhoNBpVKhV3WnzmmWcaGhr4GzdbFKyBSU9HmQwBMCAADx/utrO9vV2tVnPL6idOnHjhwgVue3Z2tre3NwCMHDkyLy9v0Ac9GChYA1BQ0FGb78UXUafr7VVHjhwJDAwEgKFDh27fvp3b+Pvvv8fExACARCJZsWJFW1vbYA16kFCwrLZxI44fj1Ipjhhxsyra8uW4dWufhzY1NT333HOdN4ZcAS2TydQ5nz366KMXeyraJlwULOvYorp/eno6d2MYEhJSVFTEbdy/f79SqQQAT0/PzK41SAWOgmUF21X3P3v27EMPPQQALi4uGo3GYrEgYl1d3Zw5c7j5bN26dTYcOI8oWFbYtw/FYrxx45aNTz6J773Xj8ZaWlpUKpVIJAKAp556qvO9iS1btjg7OycnJ9vH9RZ9pGMFm1b3d3V1TU1Nzc7O9vHxyc3NXb58Obd91KhRJpMpNzfXPgo9ULCswKC6f3x8/KlTpxISEj799FNuS3Z2NgDYT6kjvqdMIWBf3d9sNnPVJTsv6oWO6mNZQSYDtRqSk8HNDR5/HCoqYMkSiI2FadNs1UN+fn51dXVgYGBYWJit2uQXBcs677wDnp7w/vtQXg4KBUyeDCoViES2at7ezoNAp8J++OYbBMCEBFu1Z7FYAgICAODYsWO2apN39J3Qd6+mBpRKcHGBujrw8Bh4ewUFBVFRUf7+/pcvXxbZbhbkF90V3j1fX3jsMWhpgT17bNIedx6cN2+e3aQKKFj9NHcuAEB2tk0a++mnnwBgLtemvaBTYb9cuQIBAeDhAXV14Oo6kJaKi4vDwsKGDx9eWVnJfSBtH2jG6peRIyEiAvR6yM0dYEvceTAhIcGeUgUUrH6rfPnlr6Ojl+/aNcB2duzYAXZ3HgQ6Ffbb+fPn77//fi8vr6tXr0qlUgAoLy8vLCy05tjp06f7+PgAQFlZWUhIiFwur6mpcXKyr/cUeX67Q8i4lRF79uzh/rp+/Xorf+dHjx7lDvn4448BYOHChfz9EKzY17+SwTV37tzTp09nZ2fPmDEDAMaNG/fss89ac6BcLuf+g7vAsr/zINCpcCC45VwKhaK6urofJ7KKioqgoCBPT8/a2lppt2dyhI9mrP4LDQ0NCQkpLS3NycmJjo6+28PT0tIAYM6cOfaXKqBgDVB8fPyXX37Z73OZVCqNj4+37ZDuEXQqHBCdTvfrr7++8cYb/Tt8//79Y8eOtcsZi4JFmKA3SAkTFCzCBAWLMEHBIkxQsAgTFCzCBAWLMPH/M0drkaUHq1cAAAAASUVORK5CYII=\" alt=\"Mol\"/></td>\n",
       "      <td>Active</td>\n",
       "      <td>0.79</td>\n",
       "      <td>Active</td>\n",
       "    </tr>\n",
       "    <tr>\n",
       "      <th>2817</th>\n",
       "      <td>(E)-(4S,6S)-8-METHYL-6-((S)-3-METHYL-2-{(S)-2-...</td>\n",
       "      <td>DB04595</td>\n",
       "      <td>experimental</td>\n",
       "      <td>IDBWWEGDLCFCTD-VNEMRZQUSA-N</td>\n",
       "      <td>Cc1cc(C(=O)NC(C)C(=O)NC(C(=O)NC(CC(C)C)C(=O)NC...</td>\n",
       "      <td><img data-content=\"rdkit/molecule\" src=\"data:image/png;base64,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\" alt=\"Mol\"/></td>\n",
       "      <td>Active</td>\n",
       "      <td>0.76</td>\n",
       "      <td>NaN</td>\n",
       "    </tr>\n",
       "    <tr>\n",
       "      <th>1870</th>\n",
       "      <td>Tolnaftate</td>\n",
       "      <td>DB00525</td>\n",
       "      <td>approved; investigational; vet_approved</td>\n",
       "      <td>FUSNMLFNXJSCDI-UHFFFAOYSA-N</td>\n",
       "      <td>Cc1cccc(N(C)C(=S)Oc2ccc3ccccc3c2)c1</td>\n",
       "      <td><img data-content=\"rdkit/molecule\" src=\"data:image/png;base64,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\" alt=\"Mol\"/></td>\n",
       "      <td>Active</td>\n",
       "      <td>0.73</td>\n",
       "      <td>Active</td>\n",
       "    </tr>\n",
       "    <tr>\n",
       "      <th>4457</th>\n",
       "      <td>Litoxetine</td>\n",
       "      <td>DB15038</td>\n",
       "      <td>investigational</td>\n",
       "      <td>MJJDYOLPMGIWND-UHFFFAOYSA-N</td>\n",
       "      <td>c1ccc2cc(COC3CCNCC3)ccc2c1</td>\n",
       "      <td><img data-content=\"rdkit/molecule\" src=\"data:image/png;base64,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\" alt=\"Mol\"/></td>\n",
       "      <td>Active</td>\n",
       "      <td>0.73</td>\n",
       "      <td>Active</td>\n",
       "    </tr>\n",
       "    <tr>\n",
       "      <th>4031</th>\n",
       "      <td>CARBOBENZYLOXY-(L)-LEUCINYL-(L)LEUCINYL METHOX...</td>\n",
       "      <td>DB08526</td>\n",
       "      <td>experimental</td>\n",
       "      <td>LHCNZPLAATYYPI-SLFFLAALSA-N</td>\n",
       "      <td>COCC(O)C(CC(C)C)NC(=O)C(CC(C)C)NC(=O)OCc1ccccc1</td>\n",
       "      <td><img data-content=\"rdkit/molecule\" src=\"data:image/png;base64,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\" alt=\"Mol\"/></td>\n",
       "      <td>Active</td>\n",
       "      <td>0.72</td>\n",
       "      <td>Active</td>\n",
       "    </tr>\n",
       "    <tr>\n",
       "      <th>6116</th>\n",
       "      <td>Netivudine</td>\n",
       "      <td>DB12606</td>\n",
       "      <td>investigational</td>\n",
       "      <td>QLOCVMVCRJOTTM-SDNRWEOFSA-N</td>\n",
       "      <td>CC#Cc1cn(C2OC(CO)C(O)C2O)c(=O)[nH]c1=O</td>\n",
       "      <td><img data-content=\"rdkit/molecule\" src=\"data:image/png;base64,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\" alt=\"Mol\"/></td>\n",
       "      <td>Active</td>\n",
       "      <td>0.72</td>\n",
       "      <td>Active</td>\n",
       "    </tr>\n",
       "    <tr>\n",
       "      <th>2275</th>\n",
       "      <td>Cryptotanshinone</td>\n",
       "      <td>DB15579</td>\n",
       "      <td>experimental</td>\n",
       "      <td>GVKKJJOMQCNPGB-JTQLQIEISA-N</td>\n",
       "      <td>CC1COC2=C1C(=O)C(=O)c1c2ccc2c1CCCC2(C)C</td>\n",
       "      <td><img data-content=\"rdkit/molecule\" src=\"data:image/png;base64,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\" alt=\"Mol\"/></td>\n",
       "      <td>Active</td>\n",
       "      <td>0.70</td>\n",
       "      <td>Active</td>\n",
       "    </tr>\n",
       "    <tr>\n",
       "      <th>2441</th>\n",
       "      <td>Dibenzyl (carbonylbis{2,1-hydrazinediyl[(2S)-4...</td>\n",
       "      <td>DB03891</td>\n",
       "      <td>experimental</td>\n",
       "      <td>HGDUWJVGIGLVOH-ZEQRLZLVSA-N</td>\n",
       "      <td>CC(C)CC(NC(=O)OCc1ccccc1)C(=O)NNC(=O)NNC(=O)C(...</td>\n",
       "      <td><img data-content=\"rdkit/molecule\" src=\"data:image/png;base64,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\" alt=\"Mol\"/></td>\n",
       "      <td>Active</td>\n",
       "      <td>0.70</td>\n",
       "      <td>Active</td>\n",
       "    </tr>\n",
       "  </tbody>\n",
       "</table>\n",
       "</div>"
      ],
      "text/plain": [
       "                                           GENERIC_NAME DRUGBANK_ID  \\\n",
       "465                                  Diloxanide furoate     DB14638   \n",
       "2817  (E)-(4S,6S)-8-METHYL-6-((S)-3-METHYL-2-{(S)-2-...     DB04595   \n",
       "1870                                         Tolnaftate     DB00525   \n",
       "4457                                         Litoxetine     DB15038   \n",
       "4031  CARBOBENZYLOXY-(L)-LEUCINYL-(L)LEUCINYL METHOX...     DB08526   \n",
       "6116                                         Netivudine     DB12606   \n",
       "2275                                   Cryptotanshinone     DB15579   \n",
       "2441  Dibenzyl (carbonylbis{2,1-hydrazinediyl[(2S)-4...     DB03891   \n",
       "\n",
       "                                  DRUG_GROUPS                     InChIKey  \\\n",
       "465                                  approved  BDYYDXJSHYEDGB-UHFFFAOYSA-N   \n",
       "2817                             experimental  IDBWWEGDLCFCTD-VNEMRZQUSA-N   \n",
       "1870  approved; investigational; vet_approved  FUSNMLFNXJSCDI-UHFFFAOYSA-N   \n",
       "4457                          investigational  MJJDYOLPMGIWND-UHFFFAOYSA-N   \n",
       "4031                             experimental  LHCNZPLAATYYPI-SLFFLAALSA-N   \n",
       "6116                          investigational  QLOCVMVCRJOTTM-SDNRWEOFSA-N   \n",
       "2275                             experimental  GVKKJJOMQCNPGB-JTQLQIEISA-N   \n",
       "2441                             experimental  HGDUWJVGIGLVOH-ZEQRLZLVSA-N   \n",
       "\n",
       "                                                 SMILES  \\\n",
       "465             CN(C(=O)C(Cl)Cl)c1ccc(OC(=O)c2ccco2)cc1   \n",
       "2817  Cc1cc(C(=O)NC(C)C(=O)NC(C(=O)NC(CC(C)C)C(=O)NC...   \n",
       "1870                Cc1cccc(N(C)C(=S)Oc2ccc3ccccc3c2)c1   \n",
       "4457                         c1ccc2cc(COC3CCNCC3)ccc2c1   \n",
       "4031    COCC(O)C(CC(C)C)NC(=O)C(CC(C)C)NC(=O)OCc1ccccc1   \n",
       "6116             CC#Cc1cn(C2OC(CO)C(O)C2O)c(=O)[nH]c1=O   \n",
       "2275            CC1COC2=C1C(=O)C(=O)c1c2ccc2c1CCCC2(C)C   \n",
       "2441  CC(C)CC(NC(=O)OCc1ccccc1)C(=O)NNC(=O)NNC(=O)C(...   \n",
       "\n",
       "                                                    Mol Prediction  \\\n",
       "465   <img data-content=\"rdkit/molecule\" src=\"data:i...     Active   \n",
       "2817  <img data-content=\"rdkit/molecule\" src=\"data:i...     Active   \n",
       "1870  <img data-content=\"rdkit/molecule\" src=\"data:i...     Active   \n",
       "4457  <img data-content=\"rdkit/molecule\" src=\"data:i...     Active   \n",
       "4031  <img data-content=\"rdkit/molecule\" src=\"data:i...     Active   \n",
       "6116  <img data-content=\"rdkit/molecule\" src=\"data:i...     Active   \n",
       "2275  <img data-content=\"rdkit/molecule\" src=\"data:i...     Active   \n",
       "2441  <img data-content=\"rdkit/molecule\" src=\"data:i...     Active   \n",
       "\n",
       "      Confidence      AD  \n",
       "465         0.79  Active  \n",
       "2817        0.76     NaN  \n",
       "1870        0.73  Active  \n",
       "4457        0.73  Active  \n",
       "4031        0.72  Active  \n",
       "6116        0.72  Active  \n",
       "2275        0.70  Active  \n",
       "2441        0.70  Active  "
      ]
     },
     "execution_count": 22,
     "metadata": {},
     "output_type": "execute_result"
    }
   ],
   "source": [
    "predictions = pd.concat([moldf, pred], axis=1)\n",
    "for col in ['Prediction', 'AD']:\n",
    "    predictions[col].replace(0,'Inactive',inplace=True)\n",
    "    predictions[col].replace(1,'Active',inplace=True)\n",
    "    \n",
    "predictions[(predictions['Confidence'] >= conf_threshold) & (predictions['Prediction'] == 'Active')].sort_values(by=['Confidence'], ascending=False)"
   ]
  },
  {
   "cell_type": "markdown",
   "metadata": {},
   "source": [
    "## Export SDF and Excel"
   ]
  },
  {
   "cell_type": "code",
   "execution_count": 25,
   "metadata": {},
   "outputs": [],
   "source": [
    "predictions.drop(columns='Mol', inplace=True)\n",
    "with pd.ExcelWriter('../datasets/screened_compounds/drugbank_hits_qsar_morgan.xlsx') as writer:\n",
    "    predictions.to_excel(writer, sheet_name='morgan', index=False)"
   ]
  }
 ],
 "metadata": {
  "kernelspec": {
   "display_name": "rdkit-env",
   "language": "python",
   "name": "my-rdkit-env"
  },
  "language_info": {
   "codemirror_mode": {
    "name": "ipython",
    "version": 3
   },
   "file_extension": ".py",
   "mimetype": "text/x-python",
   "name": "python",
   "nbconvert_exporter": "python",
   "pygments_lexer": "ipython3",
   "version": "3.6.10"
  }
 },
 "nbformat": 4,
 "nbformat_minor": 2
}
