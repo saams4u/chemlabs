{
 "cells": [
  {
   "cell_type": "markdown",
   "metadata": {},
   "source": [
    "# VS of phenotypic compounds tested in SARS-CoV-2  by (M<sup>pro</sup>) QSAR models of SARS-CoV"
   ]
  },
  {
   "cell_type": "markdown",
   "metadata": {},
   "source": [
    "## Importing modules and functions        \n",
    "    "
   ]
  },
  {
   "cell_type": "code",
   "execution_count": 1,
   "metadata": {},
   "outputs": [
    {
     "data": {
      "text/html": [
       "<style>.container { width:90% !important; }</style>"
      ],
      "text/plain": [
       "<IPython.core.display.HTML object>"
      ]
     },
     "metadata": {},
     "output_type": "display_data"
    }
   ],
   "source": [
    "import numpy as np\n",
    "import pandas as pd\n",
    "import seaborn as sns\n",
    "import matplotlib.pyplot as plt\n",
    "import csv\n",
    "import _pickle as cPickle\n",
    "import gzip\n",
    "\n",
    "from BalanceBySim import *\n",
    "from stats import *\n",
    "\n",
    "from collections import Counter\n",
    "\n",
    "from rdkit import Chem\n",
    "from rdkit.Chem import AllChem\n",
    "from rdkit.Chem import Draw\n",
    "from rdkit.Chem import PandasTools\n",
    "from rdkit.Chem.Draw import IPythonConsole\n",
    "\n",
    "from sklearn import metrics\n",
    "from sklearn.ensemble import RandomForestClassifier\n",
    "from sklearn.model_selection import train_test_split, cross_validate, GridSearchCV\n",
    "from sklearn.model_selection import permutation_test_score, StratifiedKFold\n",
    "\n",
    "def warn(*args, **kwargs):\n",
    "    pass\n",
    "import warnings\n",
    "warnings.filterwarnings(\"ignore\")\n",
    "warnings.warn = warn\n",
    "\n",
    "from IPython.core.interactiveshell import InteractiveShell\n",
    "InteractiveShell.ast_node_interactivity = \"all\"\n",
    "%matplotlib inline\n",
    "%reload_ext autoreload\n",
    "%autoreload 2\n",
    "Draw.DrawingOptions.atomLabelFontFace = \"DejaVu Sans\"\n",
    "Draw.DrawingOptions.atomLabelFontSize = 18\n",
    "\n",
    "from IPython.core.display import display, HTML\n",
    "display(HTML(\"<style>.container { width:90% !important; }</style>\"))"
   ]
  },
  {
   "cell_type": "markdown",
   "metadata": {},
   "source": [
    "# Import screening data"
   ]
  },
  {
   "cell_type": "code",
   "execution_count": 2,
   "metadata": {},
   "outputs": [],
   "source": [
    "# Set file path and format\n",
    "file = '../datasets/curated_data/wang_et_al_2020.sdf.gz'\n",
    "\n",
    "# Read SDF\n",
    "sdfInfo = dict(molColName='ROMol')\n",
    "moldf = PandasTools.LoadSDF(file, **sdfInfo);\n",
    "#print('Original data: ', moldf.shape)\n",
    "# Rename ROMol\n",
    "moldf = moldf.rename(columns={'ROMol': 'Mol'})\n",
    "# Remove missing RDKit molecules\n",
    "moldf = moldf[pd.notnull(moldf['Mol'])]\n",
    "if 'StandardizerResult' in moldf.columns:\n",
    "    moldf = moldf.drop(columns='StandardizerResult')"
   ]
  },
  {
   "cell_type": "code",
   "execution_count": 3,
   "metadata": {
    "scrolled": false
   },
   "outputs": [
    {
     "name": "stdout",
     "output_type": "stream",
     "text": [
      "Kept data:  (7, 5)\n"
     ]
    },
    {
     "data": {
      "text/html": [
       "<div>\n",
       "<style scoped>\n",
       "    .dataframe tbody tr th:only-of-type {\n",
       "        vertical-align: middle;\n",
       "    }\n",
       "\n",
       "    .dataframe tbody tr th {\n",
       "        vertical-align: top;\n",
       "    }\n",
       "\n",
       "    .dataframe thead th {\n",
       "        text-align: right;\n",
       "    }\n",
       "</style>\n",
       "<table border=\"1\" class=\"dataframe\">\n",
       "  <thead>\n",
       "    <tr style=\"text-align: right;\">\n",
       "      <th></th>\n",
       "      <th>Compound_name</th>\n",
       "      <th>Outcome</th>\n",
       "      <th>InChIKey</th>\n",
       "      <th>ID</th>\n",
       "      <th>Mol</th>\n",
       "    </tr>\n",
       "  </thead>\n",
       "  <tbody>\n",
       "    <tr>\n",
       "      <th>0</th>\n",
       "      <td>Remdesivir</td>\n",
       "      <td>Active</td>\n",
       "      <td>RWWYLEGWBNMMLJ-MEUHYHILSA-N</td>\n",
       "      <td></td>\n",
       "      <td><img data-content=\"rdkit/molecule\" src=\"data:image/png;base64,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\" alt=\"Mol\"/></td>\n",
       "    </tr>\n",
       "  </tbody>\n",
       "</table>\n",
       "</div>"
      ],
      "text/plain": [
       "  Compound_name Outcome                     InChIKey ID  \\\n",
       "0    Remdesivir  Active  RWWYLEGWBNMMLJ-MEUHYHILSA-N      \n",
       "\n",
       "                                                 Mol  \n",
       "0  <img data-content=\"rdkit/molecule\" src=\"data:i...  "
      ]
     },
     "execution_count": 3,
     "metadata": {},
     "output_type": "execute_result"
    },
    {
     "name": "stdout",
     "output_type": "stream",
     "text": [
      "\n",
      " Problematic structures: \n",
      " []\n"
     ]
    }
   ],
   "source": [
    "# Columns\n",
    "print('Kept data: ', moldf.shape)\n",
    "moldf.head(1)\n",
    "from molvs.validate import Validator\n",
    "fmt = '%(asctime)s - %(levelname)s - %(validation)s - %(message)s'\n",
    "validator = Validator(log_format=fmt)\n",
    "print('\\n Problematic structures: \\n', validator.validate(moldf))"
   ]
  },
  {
   "cell_type": "markdown",
   "metadata": {},
   "source": [
    "### Calculate Morgan Fingerprints"
   ]
  },
  {
   "cell_type": "code",
   "execution_count": 4,
   "metadata": {},
   "outputs": [
    {
     "data": {
      "text/plain": [
       "(7, 2048)"
      ]
     },
     "execution_count": 4,
     "metadata": {},
     "output_type": "execute_result"
    }
   ],
   "source": [
    "def calcfp(mol,funcFPInfo=dict(radius=3, nBits=2048, useFeatures=False, useChirality=False)):\n",
    "    fp = AllChem.GetMorganFingerprintAsBitVect(mol, **funcFPInfo)\n",
    "    fp = pd.Series(np.asarray(fp))\n",
    "    fp = fp.add_prefix('Bit_')\n",
    "    return fp\n",
    "\n",
    "X_vs = moldf.Mol.apply(calcfp)\n",
    "X_vs.shape"
   ]
  },
  {
   "cell_type": "markdown",
   "metadata": {},
   "source": [
    "# Virtual screening Morgan"
   ]
  },
  {
   "cell_type": "markdown",
   "metadata": {},
   "source": [
    "##### Load the model"
   ]
  },
  {
   "cell_type": "code",
   "execution_count": 6,
   "metadata": {
    "scrolled": true
   },
   "outputs": [],
   "source": [
    "with gzip.open('../model/sars-cov-3clpro-morgan_RF_ad_balanced.pgz', 'rb') as f:\n",
    "    model = cPickle.load(f)"
   ]
  },
  {
   "cell_type": "markdown",
   "metadata": {},
   "source": [
    "##### Predict molecules"
   ]
  },
  {
   "cell_type": "code",
   "execution_count": 7,
   "metadata": {},
   "outputs": [
    {
     "name": "stdout",
     "output_type": "stream",
     "text": [
      "CPU times: user 211 ms, sys: 34.8 ms, total: 246 ms\n",
      "Wall time: 315 ms\n"
     ]
    }
   ],
   "source": [
    "%%time\n",
    "ad_threshold = 0.70\n",
    "\n",
    "y_pred = model.predict(X_vs)\n",
    "ad = model.predict_proba(X_vs)\n",
    "ad = np.amax(ad, axis=1) >= ad_threshold"
   ]
  },
  {
   "cell_type": "code",
   "execution_count": 8,
   "metadata": {},
   "outputs": [],
   "source": [
    "pred = pd.DataFrame({'Prediction': y_pred,'AD': ad}, index=None)\n",
    "pred.AD[pred.AD == False] = np.nan\n",
    "pred.AD[pred.AD == True] = pred.Prediction.astype(int)"
   ]
  },
  {
   "cell_type": "code",
   "execution_count": 9,
   "metadata": {},
   "outputs": [
    {
     "name": "stdout",
     "output_type": "stream",
     "text": [
      "VS pred: Counter({0: 7})\n",
      "VS pred AD: Counter({0: 3})\n",
      "Coverage of AD: 42.86%\n"
     ]
    }
   ],
   "source": [
    "pred_ad = pred.dropna().astype(int)\n",
    "coverage_ad = len(pred_ad) * 100 / len(pred)\n",
    "\n",
    "print('VS pred: %s' % Counter(pred.Prediction))\n",
    "print('VS pred AD: %s' % Counter(pred_ad.Prediction))\n",
    "print('Coverage of AD: %.2f%%' % coverage_ad)"
   ]
  },
  {
   "cell_type": "markdown",
   "metadata": {},
   "source": [
    "###  Visualize predictions"
   ]
  },
  {
   "cell_type": "code",
   "execution_count": 10,
   "metadata": {},
   "outputs": [
    {
     "data": {
      "text/html": [
       "<div>\n",
       "<style scoped>\n",
       "    .dataframe tbody tr th:only-of-type {\n",
       "        vertical-align: middle;\n",
       "    }\n",
       "\n",
       "    .dataframe tbody tr th {\n",
       "        vertical-align: top;\n",
       "    }\n",
       "\n",
       "    .dataframe thead th {\n",
       "        text-align: right;\n",
       "    }\n",
       "</style>\n",
       "<table border=\"1\" class=\"dataframe\">\n",
       "  <thead>\n",
       "    <tr style=\"text-align: right;\">\n",
       "      <th></th>\n",
       "      <th>Compound_name</th>\n",
       "      <th>Outcome</th>\n",
       "      <th>InChIKey</th>\n",
       "      <th>ID</th>\n",
       "      <th>Mol</th>\n",
       "      <th>Prediction</th>\n",
       "      <th>AD</th>\n",
       "    </tr>\n",
       "  </thead>\n",
       "  <tbody>\n",
       "    <tr>\n",
       "      <th>0</th>\n",
       "      <td>Remdesivir</td>\n",
       "      <td>Active</td>\n",
       "      <td>RWWYLEGWBNMMLJ-MEUHYHILSA-N</td>\n",
       "      <td></td>\n",
       "      <td><img data-content=\"rdkit/molecule\" src=\"data:image/png;base64,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\" alt=\"Mol\"/></td>\n",
       "      <td>Inactive</td>\n",
       "      <td>NaN</td>\n",
       "    </tr>\n",
       "    <tr>\n",
       "      <th>1</th>\n",
       "      <td>Chloroquine</td>\n",
       "      <td>Active</td>\n",
       "      <td>WHTVZRBIWZFKQO-UHFFFAOYNA-N</td>\n",
       "      <td></td>\n",
       "      <td><img data-content=\"rdkit/molecule\" src=\"data:image/png;base64,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\" alt=\"Mol\"/></td>\n",
       "      <td>Inactive</td>\n",
       "      <td>NaN</td>\n",
       "    </tr>\n",
       "    <tr>\n",
       "      <th>2</th>\n",
       "      <td>Ribavirin</td>\n",
       "      <td>Inactive</td>\n",
       "      <td>IWUCXVSUMQZMFG-AFCXAGJDSA-N</td>\n",
       "      <td></td>\n",
       "      <td><img data-content=\"rdkit/molecule\" src=\"data:image/png;base64,iVBORw0KGgoAAAANSUhEUgAAAMgAAADICAIAAAAiOjnJAAAABmJLR0QA/wD/AP+gvaeTAAAZaklEQVR4nO2de1hU1frHv3vA4W6ggIiYgqkVlgahKUhewOtJLNCUwvLJy1EfqefIOaBW2HmM46ULFj2m9TuFmTeEzMqjgOLdo6GkkB60RFRErhMQCAPM+/tjI5eBYWBm79nDzPo8+4/Za6+93nfL1/Wuvfa6cEQEBkNoZFI7wDBNmLAYosCExRAFJiyGKDBhMUSBCYshCkxYDFFgwmKIAhMWQxSYsBii0CVhxceD43DrVpvEnBxwHD7/vLNbPDxQW9uS+Msv4Djs2aOrs/qTno7p09G3L6ytMWwYoqOhUEjnjSkjbo1VUKBReRKwaROCg1FVhQ0bsHMnwsKwdSv8/HDnjtSemSDiCis4GBs2oKZGVCNd4+RJxMRg/nycOoXFixEWhrg4nD2LggIsWCC1cyaIuMJatw6lpUhIENVI19i8GXI5Nm8Gx7UkjhiBpUtx/DjOn5fOM9OkG8JSKFBa2nL88Yf2W4YNw6uvYtMmVFXp7qIAqFTIyIC/PwYMUL/08ssAcOyY4Z0ybbohLB8fuLi0HOPHd+mud99FRQXi43X0T3eIcPFi02+FAtXV8PTsIBufyJpZQmPZ9aw7d6Jfv5bTW7eweLH2u7y8sHAhPvoIK1d23zuduXQJb72Fs2eRlYWnngI/mLF1EGyGjXMUh24Iy98fgwe3nObkdPXGd97Bjh348EOEhnZwtbISvXt33Qtt3L+PtWvx9ddQqdCvH+7dw1NPoU8f2Nnh5s0O8vOdKAMHCucBAzBMB+nAgVi8GFu2oKxM/dL+/fD0xJYtaGjQ20x9PbZsweOP49//hoUFIiORm4upUwFAJsOECThzBvfuqd+1dy8ATJqkt3lGGwzU875mDRoasGmTevqPP6K8HG+9BV9fZGToYSA9HaNG4a23UFGBoCD88gu2bMEjj7RkiIqCUomoqDaxLycH27cjMBBjxuhhm9EBBhJW//5YtgypqerpX3+Ngwfh5YUrVzBpEl54oeN41QlXr15NXrIEwcG4ehVPPokjR5CWhiefbMlRV4fz5zFhAtavx+7dCAzEl18iORlr1mDcOLi54Ztv9H08RnuoC3z8MQGUl9cmMTubANq6lYioro6WLydPT7KxoVGj6NChpltKSlryFxeTnR0BtHu3evl1dRQfT717E0ByOUVGUkWFdq/Ky8ujo6PlcrmM48qfe44++YTq69UzHTxIQ4aQgwPdu0dEdPgwTZ1Kjo4kl9Njj1FUFJWVdeVfgNFduiQsrVRW0ooVdP48FRXRZ5+RtTXl53e7kIICioggjiOA3N1p375slUrVYc7GxsbExEQXFxcAMpksIiKiqKhIPVN2NgUFEUAAeXvT5cvdfyyG7ggjLDUGDqTvv9fx3p9/Jn9/cnO7a2dn5+vre/r0abUMx44de/rpp/nqduLEiZfbK6a8nCIjydKSAHJyog0bqK5OR28YuiK8sG7fJktL+u033UtQqWjv3pPu7u4AOI6LiIi4e/cuEf3222+zZ8/mJeXl5ZWSkqJ+Z309bdtGLi4EkKUlLVlCxcV6PApDdwQWVm0tBQTQqlUCFFVdXR0bG2ttbQ3A1tY2NjZ2//79AOzs7GJjYx88eKCWPzU19eS8eU2xLyiIcnIEcIKhK0IKS6mkF16gefOosVGwMu/cuRMREcFxHAAPD4958+YVFBSo5blx40ZISAgAR2vrmoAAOnBAMPMMXRFMWPX19NJLNHt2B29m+nPs2LGRI0fyQfDNN99sTv/zzz+bazVNNRlDEoQRVkMDvfwyTZxIFRX04AE9eEANDYIU3AL/Jujg4BAQEHD27FmVSpWYmOjm5tbcDissLBTYJEMPhBFWXl5T26b54Pu3BGfWrFkA4uLifH19+QrM39//559/FsUYQw+68RG6EwYPNtAoAQsLCwC3bt26ePHigAED4uLimltgDKNCGGEZmODgYG9v70WLFtna2krtC6NjeqSwZDJZZGSk1F4wOoPNK2SIAhMWQxSYsBiiwITFEAUmLIYoMGExRIEJiyEKTFgMUWDCYogCExZDFJiwGKLAhMUQBSYshigwYTFEgQmLIQpMWAxRYMJiiAITFkMUmLAYosCExRCFHiYspVIJoEGAhSUZ4sJRz1k2OCkpaeHChX369LG3tz9w4MCwYcOk9oihkZ5RY1VVVS1YsGDu3LnV1dWVlZXXrl3z9fVNTEyU2i+GZqSeiq2dzMzMoUOHArCxsYmPj6+srIyIiOCdDwsLKy8vl9pBRgcYtbBUKlV8fLxcLgfg7e2dnZ3dfGnfvn2Ojo4ABg0a1H7VP4bkGK+wiouLZ8yYAYDjuMjIyNraWrUMeXl5Y8eOBWBpaRkbG9so4KpcDL0xUmEdPkyTJ28A4OLi8tNPP2nKVldXt2rVKn5RkEWLrvErIzOMAaMTVl0drVpFHEcuLo0vvrjkXluxvPfee3FxcWqV0+HDh6dN2wGQqytpFiHDoBiXsPLyaOzYppVpY2PVl5zMy8uztLQEMHnyZLUFI4uLacYMAojjKDKS2oVNhqExImHt20eOjgTQoEGkqTmenp7Or6bs7Ox88ODB1pdUKoqPJ7m8aV33Vg19hgQYhbAqKykiomkpwLAwUig6y3z//v1p06a1atQrW1/NzKShQwkgGxuKjxfXbUYnSC+s7GwaMoQAsrenr7/u0i18N4SVlZWv7+oRI+jKlTZXW8t03jy2eYA0GEJY/L46AwZQ6xWNs7Ka9tUpKiI3N/Lxodzc7hWbmZk5ZkwdQHZ29OWX6lf5wDp3rnYHGGJguE86BQX4/PMO0l1dkZ6Oc+fQ3U9/vr6+GRnyyEhUV2PRIoSGQqFouTpnDjIz8cUX2h1giIHhhBUcjA0bUFPTwSVvb8jlupRpY4MtW/Dtt+jdGykp8PFBdnbL1SFD2uzd2okDDMExnLDWrUNpKRIShC85PBxXrsDfH/X16N9fAgcY7TGcsIYNw6uvYtMmVFUJX/igQcjIwNGjcHaWxgGGGgYdNvPuu6ioQHy8KIX36oXhw6V0gNEagwrLywsLF+Kjj/DHH4Y0a0QOmA+GHuj3zjt48AAffmhgs0bkgJlgaGENHIjFi7FlC8rKDGzZWBwwEyQYmrxmDRoasGmT4S0biwPmgATC6t8fy5YhNdXwlo3FAXNAmskUMTGws5PEsrE4YPJIM/0rNRWRkQgOxqeftkkvKkK/fsKba2jAo49ixAikpMDeXvjyGe2RpsZydkZuLr77DipVU0ppKYYPx8iRaGwU3tyJEygsREEBU5XhkEZYPj7w8kJBAc6fb0pxdoZMhqIinD4tvLnkZAAIDRW+ZIYmJJuw+uKLwMM/uaYUQVCpcOAAwIRlWCQTFv9nTk5u2fOXT0lJaYmPgnDmDAoL4emJkSOFLJbROZIJ67nnMHAgbt3CpUtNKb6+6vFREPgqcO5cIctkaEUyYXEcZs8GRI6GRPjuO4DFQYMj5aIg/B97//6WlDlz/gwI+L+0tIlCdYL8/DNu34aHB559VpDyGF1FSmEFBMDVFQUF+PXXSj5l9Gi7/Pz3rlw5fqk5QOoHX/mFhYHjBCmP0VWkFJaFBRYvTgZckpI+4lM4jgsJCQGQLFA4TEkBWByUAonXxwoMdKipKW0to9DQUAD7WwdIXfnzTzz7LIYOxbhx+hfG6B4Sr+hXX1/v5uZWXl5+7dq1xx9/HIBKpRowYMD9+/ezs7NHjBihvwkiFgclQOIaq1evXrNmzQLwHf/yBshkMj5FqGjIVCUJ0i8Vyce+1jIKDw9fsmRJcHBwt8qJjwfHwcMDtbUtib/8Ao7Dnj0C+croMtILKzg4uHfv3hcvXrx58yaf8vzzz2/btm2cTi0jNivVSJBeWFZWVjNnzkSraKgPbFaqkSC9sPAwGiYlJVVqpqqqobISmg6lsqkoNivVSLCU2gEAmD59uq2t7eXLlx955BFNecaMST5//iVNVz/8EDIZ0GpW6rJlcHAQw1lGlzCKGsvW1jY3N9fPz89BMzY2vRwcoOmwsmopjc1KNQaMosYC4OHhcfLkSX1KaFZS86zUlSsFcIyhG0ZRYwkOm5UqOaYprE5mpebkoLJSCp/MDNMUFjTMSt2xA2PGYNEiiXwyJ0xWWGqzUsvKMHs2XnsNNTVwdATbl05sTFZYaDUr9epVjBqF779H797YtQvbtzf1TTDEoyftV6gDDQ1Yvx7r16OxEaNHY/duuLsjOhqFhdi3T2rnTBtp19YVlfx8Gj+eAJLJKDKSlEr69Vd6+mkCyMqKrl6V2j+TxpRDwldf4dQpeHjg2DFs2YLduzF6NK5cwfDhOHcOTzwhtX+mjdTKFpH6elqzhkpLqaKC5s9v2lIgIoKqqqiggDZulNo/k8aUhdXM1KkE0COPNG0X8OOP5OJCAO3YIbVnpouxfNIRlY0bUVuLr76CuztiYrB5M1QqTJ6MyZOl9sx0MfG3wtYolRg3DhcvQi7H+vWIisLNm78PGTJEar9ME1NuvKshl2PKFAwejOPHERVFn3yy5cknn0xMTJTaL9PELEJhM//8J1avhlJZNn36K0eOHOE47saNG1I7ZZqYUY0FwNISDg6wtrbOz893cXE5ePDg+vXrhTSQno7p09G3L6ytMWwYoqPbbBxlTphRG6s1165dc3R0dHR0jImJeeaZZ15//XUBCt20CdHR8PfHa6/ByQmXLiEhAa6uyMjAwIEClN+zkPq1VEqOHz8uk8lcXV2rq6v1LevECeI4mj+fVKqWxOxssramCRP0LbwHYtbCIqKEhISrgnzc+ctfyMqK7t5VT3/zTQLov/8VwESPwkxDYWsaGxvv3r37wgsvaMow19Pz7bw8jffPno1169C7N8aMwdGj6lfPncO4cYiLw+rVAvnbMzCvt8IOSUtLCw8PV2huZQdZWLTZYFMNX18oFKiuhqdnB1f5xDt39PezZ8GEhf379ysUihUrVixZsqTDDA4yWWfrovbp07SOaoerRJhrQDB3YTU2Nh48eBDAihUrntB5wINKBTs7PFwioA23bgEww7dC8+rHas+JEydKSkqGDx+uu6oAyGSYMAFnzuDePfVLe/cCwKRJuhfeMzF3YfGr3MyZM0ffgqKioFQiKqpN7MvJwfbtCAzEmDH6lt/TMOu3QpVK5eHhUVhYmJWVNWrUKH2Li4vD2rUICGjqIL14EQkJcHbG8eN49FEh/O1RSN3fISWnTp0C4OnpKViJhw/T1Knk6EhyOT32GEVFUVmZYIX3KMw6FAoWB5uZOhWHD0OhQF0dUlJQXIzPPhOs8B6F+YZCIvL09MzPzz9//vzo0aOFN8B3jQ4ejJs3zXC9SvOtsTIzM/Pz8z08PPz8/EQx0H5TF3PCfIXFx8HQ0FBOpOqE4xASwlsSpXzjxnyFdeDAATxcTFAs2m/qIiFax4rxywPzPbrN5OSA43RY19VMhXX58uXc3Nx+/frptoRuVwkMhJsbbtxATo6IVrrCpk0IDkZVFTZswM6dCAvD1q3w8xPvI6aZCouPgy+99JKFhYWIZmQyzJrF2xPRilZOnkRMDObPx6lTWLwYYWGIi8PZsygowIIFItk0a2GJGwd5mjf8lJDNmyGXY/PmNi+nI0Zg6VIcPy7w9pAPMUdhXb9+/erVq3379n3++edFNzZxIvr0QXY2Xb8uuq0OUamQkQF/fwwYoH7p5ZcB4NixNokKBUpLW44//tDNrDkKKykpCUBISIilpfiDO3r1+s/SpWO8vTdKVWl1d6yYjw9cXFqO8eN1M2uOw2YMFwcBAI3jxl34178ak5NjJBlE2t2xYjt3ol+/ltNbt7B4sQ5mzU5YeXl5WVlZDg4Okww1lKX1ni5eXl6GMdpCnz7dGyvm74/Bg1tOdX2fNbtQyO+EGBISYm1tbRiLwu7p0m0kGitmdsIycBzkab/DmYHgNxWSZKyY1MMrDMrdu3c5jrO1tRVgImF3qK6utrOz4zju9u3bhrOank79+tHZs0RE779PAAUE0Bdf0P79tHo1OTiQpyfl57fk//hjAigvr00h2dkE0Nat3TVuXjVWcnIyEc2cOdPW1taQdm1tbadNm0ZE33//vYFM7tiB6dNRVNT0QWnNGhw+DDs7/P3vCA9HUhKWLkVmpogjEPX5L9HjCAwMBLBnzx7Dm961axeACYaZFR0fTzIZARQZ2WZmtgExrfFYtbU1paW/KxRlZWXl5eVlZWWlpaX8j7KysuLi4gsXLlhYWBQWFvbt29fArpWUlLi7u1tYWBQVFXWyyZm+ECE6uqmTffNmrFolliFt9MDuhtxcHDqEsjKUl6OsDKWlLb9raqw47luijZrvVqlUU6ZM2b1797Bhwwzm8vXr1+fPn9/Q0BAVFdWsqkuXLtnb2wvphlKJ11/H7t2Qy5GYiHnzBCtZBySpJ3Wnro68vZvWqdVwNAB9OnpSGxubv/71r4899hj/Oz4+3jAuJyYm2tvbAxg8ePBZvilNRERBQUEAUlJS+NOsrKzVq1dfvnxZNysVFRXKWbOa1lrNyNDfbT3pacKqrydn586FRcBr7VQ1YcKEa9euEVFlZWVERASfGBYWVl5eLp6zFRUVr7zyCm9rzpw5CoWi9dW1a9c+8cQTzYlRUVEA/va3v/GnlZWVXl5ekZGRqoeNpN9//72urq5DQ/fv3/fx8Vk5cqRq0CC6dEm0B+oGBhdW199p09Jo2jTq04esrGjoUPrHP4gXwRtvaBXWwVaScnNz27Vrl5oX+/btc3R0BDBo0KDTp0+L8aAXLlzga0cHB4dt27Zpzc+vhnrmzBn+tH1j/6mnnnJ0dMzOzm4uf+/evVVVVdevX+c79IcPH15w65YYz6IDxiqsjRsJIH9/2r6dkpKa+l2GDKHbt+nQIa3CegA4ADKZbPny5Wr1RDN5eXljx44FYGlpGRsb29jYKNQjqlSq+Ph4uVwOwNfX9/r161pvuXLlCoD+/fs3u8H3qX766af8aW5uLgAnJ6fmSouvd1euXOnq6grAz8+vuLhYqEfQH6MUVueLmCmV5OTUubDqgUkjRvxX26pU9fX1sbGxMpkMwKRJkwoKCvR/vqKiomnTpgHgOC4yMlJT8GrPr7/+eujQIf53+w7V999/H8DChQv5U6VS6eTkBIBvvQUFBVVWVurvvIAYpbC0LmIWEdGZsOztS9atq6+v76JH6enp/fv3B+Ds7PzDDz/o83Cpqalubm4AXF1df/rpJ53L4T9ojh07tjnFx8cHwI8//sifHjp0iNcugIiICKVSqY/bYiCRsC5dopKSluPUqRZhNTaSnR1NmtTBvWfPEkBxcXTggEZVhYRQ9z+bFBcXz5gxo7maqa2t7W4JtbW10dHRfOUXFBR079697pbQmh9++MHPz++DDz7gT/Py8jiOc3BwePDgAZ/SvExcTEyMSqIu0M6RSFgdHrywSksJoDfe6ODewkICaNkyqqkhe3v1293dKSlJZ79aN4y8vb2b28hd4X//+98zzzwjeHOtWTGbN28G8Morr/CnDQ0NLi4uAFavXi2IITGQSFg7d1JaWsvxxRctwiopIYAWLerg3nv3moRFRHPntkjK0pJWraKqKv29y8zMHDp0aLc6ujR1UwkI/5LBf+gkoqNHj/LvgGLYEgrja2N1JRQS0Z49Tap6+mnKyhLQwcrKyual/UJDQzvp6KqoqAgPD+dzRkREVAmh7A4pKChISEhoHpGxfPlyAG+//bZI5gTB+IRFRDNnkpUVtX9HU1uBOD+fPvqIhOsmaI3Wjq4LFy7wPU8ODg7ffPONGD50SGNjo7u7O4AsQf87CY5RCisjo+PuBhsbCgw0mKd5eXn8dFa+5dTQ0MCn862xXr16AXj22Wdv3LhhMJeIqKSkZMqUKUYeB8lIhUVdG5gmPq07uiZOnHj37t379+9PnTpVh24qwR2TxG7XMVZhkREtYnbkyBG+d8rR0ZEfm+Dm5paamiqJMz0F0xqPJRolJSULFizgX8fGjx+/c+dOvk+VoQkmrK6SlpY2ZcoUAEePHjXY1LGei3mNedeHEydOqP1gdAITVlc5fvy42g9GJ7BQ2CVqamqcnJyUSiUAKysrhUJhY2MjtVNGDauxusSZM2d4VQGoq6s7d+6ctP4YP0xYXUKtXcWaWVphwuoSau0q1szSCmtjaad1A4tHLpcrFAoDT6fuWbAaSzuZaWkpSmUVUP7wOKpUXv7Pf6T2y6jpgRNWDc7YY8d6tU0JABoyM2HYJWt6FqzG0k6vzMz2iZanTxvekx4Ea2Npo7oaTk6or1dPl8uhUIA1szTAaixtnDnTgaoAKJVgvVmaYcLSRic9C6zTQTNMWNpgwtIJ1sbqlJoaODmhVQ9WG+RylJfDzs6wPvUMWI3VKadOaVQVWDOrM5iwOkXrN8E9ewziR8+DCatTqqq0ZOjVS0sGc4X1vHfKhg3gONTVdXBJpYKNDeLjDe5Tz4A13hmiwEJhFzDspremAROWNgy+6a1pwNpYndK86e233zbtzBYWhvBw+PlhwQJkZEjtn/HCaqxOkWLTW9OACUszEm16axqwUKgZHTa9ZTyECUszEm16axowYWlGok1vTQPWxtKMRJvemgZMWJ0iyaa3JgELhZ0yYQLWr8fatbhzB6+9BicnXLyIhAS4ueGbb6R2zqhhNZY2DL/prUnAPkIzRIHVWAxRYMJiiAITFkMUmLAYosCExRAFJiyGKDBhMUSBCYshCv8P+j5KNrq11JkAAAAASUVORK5CYII=\" alt=\"Mol\"/></td>\n",
       "      <td>Inactive</td>\n",
       "      <td>Inactive</td>\n",
       "    </tr>\n",
       "    <tr>\n",
       "      <th>3</th>\n",
       "      <td>Penciclovir</td>\n",
       "      <td>Inactive</td>\n",
       "      <td>JNTOCHDNEULJHD-UHFFFAOYSA-N</td>\n",
       "      <td></td>\n",
       "      <td><img data-content=\"rdkit/molecule\" src=\"data:image/png;base64,iVBORw0KGgoAAAANSUhEUgAAAMgAAADICAIAAAAiOjnJAAAABmJLR0QA/wD/AP+gvaeTAAAWkUlEQVR4nO3de1TUZf4H8PcMMwPCAAZeAq+JLB40vJADhusaqSWO2iZGm5KWLmbb4iXczmqJpZmlJv42SxJzJzNdjh5X9CCKt8JWRRHzrse8o4ioKBL3+fz++A7DReU232dmgM/r+Ic8zjzPM/Xm+/3O9/J5FEQExuSmtPUEWPPEwWJCcLCYEBwsJgQHiwnBwWJCcLCYEBwsJgQHiwnBwWJCcLCYEBwsJgQHiwnBwWJCcLCYEBwsJgQHiwnBwWJCcLCYEBwsJgQHiwnBwWJCcLCYEBwsJgQHiwnBwWJCcLCYEBwsJgQHiwnBwWJCcLCYEBwsJgQHiwnBwWJCcLCYEBwsJgQHiwnBwWJCcLCYEE04WO+8A4UCUVGVLWVlUCjwww+2mxOr0ISDBaBVK3z3HU6etPU82COadrD8/REaipgYW8+DPaJpBwvAkiVITcXOnbaeB6uuyQcrIABvvYWYGBiNlY0HDmDWLGzciKtXbTezlk1l6wnIYP58+PpizRpMmGBqSU7GkiWmvz/9NJ57DoGBCAzE88/D09NW02xZmkOwvLwwaxY++gjh4aaWkSOhUiE9HenpyM7Gtm3Ytg0AlEqMGZPp7Lxcp9PpdLrevXur1WobzrwZaw7BAhATg2+/xRdfmH7U6aDTmf5+4wYyMvDLL9i/H0eP4vr1fQcOGAwGAwC1Wu3r6ztw4MCQkJDAwEB/f3+FQmGjT9DsUJ1yc2nGDHrmGdJoyNOTRo+m9PS63yXelCkUGFj54+rV1KoVAbR27RPfUlJCGRknV6xYMWHCBH9/f6Wy2iFmQkJCaWmpFWbeEtQVrFu3qFs36t6dfvyRTp2ivXvp1VdJraYtW6wyvSe6cIEmTaoWrPJy6t27WrDKy+vo5P79+7t27fr0009Hjx7t7Oys0Wg2bNggasYtTF3BGjeOtFrKyqrWGBZGnp6Uny9uWrUrL6d+/ahDBzp2rLaXBQeTvz9FRlJcHKWlUXFxbS+Ojo4GsHTpUnmn2mLVeoxVXIxNm/DOO/D2rtY+dy6Cg5GcjNdek3/fXA+rV+PoUXTsiO7dn/ia0lKcOIGCApw+jbVrAUCrRUREmofH1qCgIJ1O16lTp6qv79ChA4CsrCyxU28xag3WlSsoKsKzz9Zs79ULAM6dEzWpWuXnY+5cAFiyBC4uT3yZWo1793D8OPbvR0YGMjJw5gyOHUvOyFgsvcDLy0un04WHh48fPx4cLLnVGixpHXI7+6L08cfIzsbzz9e9uVSrTaevJLm5OHx42KFDjunp6enp6Tdv3tyyZUu3bt2qBuvGjRtiZ99i1Bqsrl3h6IgTJ2q2S1d9/fxETerJfvsNX30FpRLLlzc48G3aYPjwF4YPf0H68cKFC+np6X4Vn4K3WDKr4xhs3DhydaWbN6s16vXk4UEPHph+zMmha9eEHAE+Qq8ngCZPlr/ngoICAE5OTkajUf7eW566gpWdTc88Q76+tH49nT5N+/ZReDip1fTf/5pecPky+fqSvz/duSN6rjt2lAPk5kbZ2UL6b926NYDc3Fwhvbcw9TtBOn06de1KajV5eNCoUdVOkN6/T336EEBBQfTwobiJlpSU9OkTPHjwzmXLSgQNodMN8PHxP3HiN0H9tyj1CFadsrKoa1cCSK8nYWeuly1bBsDHx6eoqEjQEMOGEUDJyYK6b1kae9tMYiKmTjV9bfT2Rmoq2rXDtm149125Dv6qunv37oIFCwDExcU5OjqKGAJAhw4AwIfv8mhMGnNyyNWVAJo9u7Lx0CFycSGAYmNlCn2lqVOnAnjxxRdl77mqDz8kgObNEzpIS9HYXeGuXaTREEDLllU2bt1KKpXRzW3Hv/8ty+QkJ0+eVKlUKpXqxIkTMnb7qG++IYD++lehg7QUFhxjrVtHCgUplZSYaG4rWbMmws/PwcFh8+bNMsyOiIiGDh0KYNq0aXJ1+CRJSQRQWJjocVoEyw7eP/+cANJoaOdOc5t0MOTk5PTzzz9bOLnS0tIlS5YA8PDwsMJZgIwMAqh3b9HjtAgWfyucPp0AcncvrXKnwbRp0wC4u7sfq/32g8fJyspKSkqKjY0dMmSIs7MzAK1WO2nSJEvnWQ/Z2QRQmzZWGKr5szhYRiO9+eadfv36du9+6dIlqa28vHzs2LEAvL29L1++XHsHd+/eTUlJ+eSTT/R6fbt27ap+sVAoFN7e3tL2b+/evZZOtS7l5aTRkEJBhYWih2r+5DiPVVw84qWXAPj5+d2+fbuirXjIkCEA/P3971Q/KV9aWnry5EmDwRAVFfXobZzu7u5DhgyJjY1NSkqSepsxYwYANze3zMxMGWZbqzFj6I036O5d0eM0f3IEi+jBgwf9+vUD0L9///yKGwDz8vICAgKcnZ337duXlZWVmJgYHR0dEhLi5ORUNUlqtTowMDA6OtpgMJw8efLRS3VGozEyMlLa/pk3iszOyRMsIsrJyfH19QUQFhYm3Tl+/fr16dOnBwUFSdfgzBwcHHr16vX222+vXLkyMzOzPreZl5SUDBs2DED37t1v3bol15yZOLIFi4guXLjQvn17AOPGjbt69aq0C5N4eXnp9XppB3enUZerq24UH8p9UXLKlJpnsEpL63gug9VOzmARUXp6ularBfDnP/8ZQM+ePTdv3pxV45b5ert06dLUqVNLSkxXnc0bxREjRsj7OM2UKdSqFTk4kPkULAfLQjIHi4h27979pz/9KTg4GEBilXOnDWU0Gvv27Qtg/Pjx5gMv80axaqPlpCfJhg6ll14ytXCwLCR/sIjo5s2bDg4OTk5OD8w3AzbK8ePHpeOzWbNmmRsPHz4sbRRnV71SaRkpWL/+Skol7dhBxMGymJBgrVixAsArr7xieVd79uyRbmeo+mDWrl27NBoNgLi4OMuHoCrPvk6aRM8+S+XlHCxLCQlWaGgogLUy/W9Zv369UqlUKBQGg8HcuG7dOoVCoVQqLdnbnjhBU6fSgweVwbpxg1xcKCGBg2Up+YOVm5urUqnUavVd+c4zSptAtVqdkpJibly0aBEAjUazs8qVynpKSyO9nhQKAigurtrT+vPmkZcX5eVVBuvDDykykvgsR4PIH6yEhATpbJa83c6aNQuAq6trRkaGudF8Uv7o0aP16aSoiBISqFcvAgggrZbee48uXKgWrIcPydubZs82BSsvz3Tv2VNP0fLl4u6QbW7kD9bkyXM1Gk1CQoK83RqNxokTJwJo27btuXPnzI3SSXkvL6/aT8rn5Pz+8cfUvr0pUh060KJFlZduaq8vcvYshYWZ3ujnR9u2yfvJmieZg5WXJ9WkuXf7tvwPVpSUlLz88ssAfHx8siue1KnzpPz58+ejo6Ofeurptm3LAerTh+Lja15mrhGsR+uLEFFqKvn7m+I1ZAidOiX752tWZA7W99+b/rsLUlBQMGDAAACBgYHmi5KPvVJpNBpTU1OHDx8ulbxSKpV///t+C++QKC6mL74gNzcCyNHR+PHH/3f//n3LPlCzJXOwRo8mgL75Rt5eq7l9+7b0+HJoaKj5iZ2qVyoLCgoMBkNAQIB0NcnR0TEyMvL06dNyTSA3l6KjaeDAHwF4enrGxcWVlZXJ1XmzIWew8vOpVStSKunGDRl7fYyLFy8+/fTTAP7yl7+UV1TBOn/+fNu2bQG4VJQK8fb2XrhwYeMuTdbpyJGjISEh0kCBgYFpaWkiRmm65AzWhg0E0B//KGOXT5SRkeHq6gpgS5UScLt379Zqta1bt+7du3d8fHyh+Bv2kpKSunbtKsVLr9fzXT1mcgZr7FjTaSHrSE1NXbx4cdUWqbLooEGDrDQDIiIqKCiIjY2V7qJ2dnZeVvWxpRZMtmAVFpKrKykUdOWKXF022KhRowCsXLnS+kNfv349MjJSoVC8/vrrZ8+etf4E7I1swdqyhQDS6eTqr8Hy8/NbtWqlVCpviD7EezLpbIhc17KaNNnKcev1+OknlJbK1V+Dbdu2rbCwcNCgQV5eXraagycvT1BBtmAplRg0SK7OGmPTpk0AxowZY8tJsAqNX0vHrpYLLCws3L59u0KhkO5cZTZn0SJN9rNcYEpKSkFBQVBQUI1ayMxWLNoV+vvDwwMxMUhJkWs+jXTgQM/+/WPHjm1j43mwCpYeYy1Zgr59sXMnhg2TZT6NUVKCVav+kJc3b/16m82B1WDpeoWPXS7QylJTkZeHvn3h42OzObAaZFgIc/58XLyINWss76mRNm0CAP46aFdkCJZ5ucCCAss7a7CyMmzdCnCw7Iw8S/fGxEChqFwu8LEEnTvdtw+5uejZEz16COmfNY48wXJxwfz5WLbs8f9KhPffx6uvoqxMltGq4f2gfZJtsfGJE/GHP1T+ePy4qaQygKtXYTAIKalsNGLLFoCDZX8aH6yVK3HkSJWOlDh2DEQYPx7r1+O55zBnjumfunRBcjJcXLBqFWJjLZtvdZcvgwg+Pqi4XZTZC9m2WFW1bw+FAp99hrg4U4tOhw0boFLhk0+wciXV+u4G6NYNWVnYvVuu/phshAQrNBRr1kCpxPvvIzHR1KjXY80atG5N3347Y+PGjXKNpVSiSxe5OmOyERIsAG+8gc8+g9GIyEikppoax4/HRx99n5m5PDIyMi0trRHd1nnl+513TMt0VqVQ4KuvGjEaazxRwQLwj39g5kyUlCA8HJmZpsaZMydMmzatqKho5MiRv/76ayO6tZ8r36wWAoMFYPFivP46HjzAzJl3L1++LDV++eWXY8eOvX//flhY2JUrVxrap78/QkMREyPzVJm8xAZLqYTBgLfeupKe7vfyyy/n5uYCUCqVP/zww5AhQ9zd3RWNWhd4yRKkpmLnTrmny+QjNlgANBosX+7Ro0fnc+fOhYWFPXz4EIBGo9m4ceP+/fs7d+5c+9uzs5GUhA8/xNChyM01NdZ+5fvUKSgU1f4w65Pt1uRauLq6pqSkhISEHD58OCIiYsuWLSqVyt3d/bEvLihAZqZp3fmMDJw+XflP6emVf58/H76+WLMGEybU7MHHBzW+dPbtK88HYfVnjWABaNu27fbt20NCQpKTkydOnLh27VrzTrC8vPzUqVOHDh2SFpcHfjl+XGt+o7s7+vdHUBB0OgwYgKQkU7v5ynd4eM2xnJzQp481PtST2GTF8vT0dHd395s3bw4ePNj6oz+GNR8JMpcPfe+99xITE2NiYgYNGmR+Il4SGprx3HP0t7+RwUCnT1PFA/QmtRSyMr+gZ8+a4wL0r38J/mxERPS///0vICBApVJFRUXl5ORYY0iiGzduREVFKZVKf39/AHq9/rffbL/6sFWDRUQpKSkqlarGkgJSFfhFixalpaX9/vvvtby99kJWZOtgFRcXv/vuuyqVCoCnp+eKFSvkLRteQ2Fh4cKFC6XfVScnp9DQUOm31MnJafbs2bJXw28QaweLiPz8/JRK5YABA+bNm5ecnNygoh11FrKybbAkZ86cGT58uPQ706NHj2Qxq0wnJSV169ZNGsW8lcrKypK2XgC8vb3j4+PLa2zzrcXawbp27ZpCodBqtbVvmZqBpKQkn4p7pfV6/YULF+Tq+cyZM9Ij11Jwt2/fXuMFBw4c0Ol00guCg4N/TU+Xa+j6s3awpMXoIyIirDyuTZSUlMTFxbm5uQFQq9XR0dEWFmq7c+dOdHS0tKv18PCIi4t70q7WaDQmJiZ27txZpVTm9+xJY8dauaiGtYM1cOBAWLZiRZMjHVw7ODhIR5Px8fGNKNRWWloaHx/fpk0bANKXA/MKfrXIz89P/fxzcnIylfJduNBqazFaNVhyrVjRFB05ckT6pQLQr1+/BhVq27VrV6+KS+svvvhigxddv3qVIiNN5VM7daIq5fLFsWqwZFyxoimSdk9dKu7y0ev1dS4/e/78eWmtWgC+vr4Wben37DF90wFo8GBq+KrKDWLVYMm7YkUTVVBQsGjRIukcgbOz8wcffGAuyFtVfn5+bGystNyLi4tLbGysueBq45WV0ddfU5s2BFDHjiQtq5abSzNm0DPPSPWuafRoqnqw39iv2dYL1u3b91QqlUajuXfvntUGtVvXrl2TCrUB6Nixo8FgMC9mVl5ebjAYpEXOlEplZGSkufa4PO7epeho+v57IqJbt6hbN+renX78kU6dor176dVXSa0mcwFO+w/W6tXUqdPFqVNb0GF7nQ4ePBgUFCTt6YKCgg4ePFi1RafTHThwQOwMxo0jrZZqLCgZFkaeniRtR+0/WMOHE0CrV1ttwKahrKwsPj5eqvdsvn7auXPnDRs2yLgg4+MVFZGTE02fXrP94EEC6D//IWp8sITfNiO5fx+7d8PBASNHWmfAJsPBwSEqKurixYtz5szRarVarfaDDz44depURERE425Wa4ArV1BUhGefrdkufQM9d870Y6PuQ7JSsJKSUFKCwYPRtq11BmxipDzl5+cDMB/aCyc9+VlnUHx8kJlZ7U89WOm2GX5e2R517QpHR5w4UbNdeqDAz8/0Y6PuQ7LGFuvhQ+zcCaUSo0dbYTRWb46OCA9HQgKys6u1L1gADw9UXEdvHGsEKzkZhYUICYG3txVGYw2xdCnatMGgQdiwAWfO4KefMHYsduzAd9/B1dWSjq2xK+T9oP1q3x6HD2PBAvzzn8jKgqsrBg7EL7+gf38LO1YQyfbA+5MkJWHdOixejLqenGjR8vPz3dzctFqtdAjf1FkjWKw+mlmwrHS6gbU0QoLFFRaYqC0WV1ho4UQFiysstHACj7G4wkJLJjBYXGGhJRN7gpQrLLRYYoNlzxUWmFDCz2PVZ20B1vwID1btaws8Vm4uRo2Clxc6dkREBPLyhE2OCWONM+811haok9GISZNw9SouXYKDA+bOFTYzJoy9Xyv87jts3YrNm209D/H4WqH1lJZi1SrwKs9Nkf0Gy2jEW28hIABvvmnrqbCGs9NgEWHyZCiV+OYbW0+FNYo9BosIU6bg999N66a0KMXFxXv37rX1LGRgj//fMjOxahV++glduqBjR4wYYesJWYWrq+umTZtKS0tDQ0PDw8MvXbpk6xlZRpZHapksiouL4+LiXF1dAWg0GssLtdkQB8vu2E8dUUtwsOxU1Tqirw8dSocO2XpGDWOPx1gMQHBw8MGDB6U6oh8WFyM4GK+9hqtXbT2v+rL3M+/s4cOHzp99ply6FMXF0GoxezZmzICTk63nVQcOVhNx7RrmzMHatQDQqRMWLLDzE8ccrCZlzx5Mn24q4/HCC/j6a/ToYes5PR4fYzUpoaE4dgwGA9q1w88/o6QEAO7cwcyZ6NYNjo5o0wavvILDhyvfYqNH7ThYTY1SiTffxNmzWL8eAQHIyYFOh61b8emnyMzExo1wcEBISOU6aTZipfpYTGZPPQWpTPfMmcjJwblzplI+/v4YPBgjRuDtt3H5MqxTwO1xeIvVlBUXY9MmTJ5cs0DU3Lm4cwfJyTaaFsBbrKatQUVErYuD1ZTVv4io1R+142A1ZSKLiFqIj7GaMpFFRC3EwWrihBURtRDvCps4YUVELcSXdJgQvCtkQnCwmBAcLCYEB4sJwcFiQnCwmBAcLCYEB4sJwcFiQnCwmBAcLCYEB4sJwcFiQnCwmBAcLCYEB4sJwcFiQnCwmBAcLCYEB4sJwcFiQnCwmBAcLCYEB4sJwcFiQnCwmBAcLCYEB4sJwcFiQnCwmBAcLCYEB4sJwcFiQnCwmBAcLCYEB4sJwcFiQvw/rZOjXGKoWBYAAAAASUVORK5CYII=\" alt=\"Mol\"/></td>\n",
       "      <td>Inactive</td>\n",
       "      <td>Inactive</td>\n",
       "    </tr>\n",
       "    <tr>\n",
       "      <th>4</th>\n",
       "      <td>Nitazoxanide</td>\n",
       "      <td>Active</td>\n",
       "      <td>YQNQNVDNTFHQSW-UHFFFAOYSA-N</td>\n",
       "      <td></td>\n",
       "      <td><img data-content=\"rdkit/molecule\" src=\"data:image/png;base64,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\" alt=\"Mol\"/></td>\n",
       "      <td>Inactive</td>\n",
       "      <td>NaN</td>\n",
       "    </tr>\n",
       "    <tr>\n",
       "      <th>5</th>\n",
       "      <td>Nafamostat</td>\n",
       "      <td>Inactive</td>\n",
       "      <td>MQQNFDZXWVTQEH-UHFFFAOYSA-N</td>\n",
       "      <td></td>\n",
       "      <td><img data-content=\"rdkit/molecule\" src=\"data:image/png;base64,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\" alt=\"Mol\"/></td>\n",
       "      <td>Inactive</td>\n",
       "      <td>NaN</td>\n",
       "    </tr>\n",
       "    <tr>\n",
       "      <th>6</th>\n",
       "      <td>Favipiravir</td>\n",
       "      <td>Inactive</td>\n",
       "      <td>ZCGNOVWYSGBHAU-UHFFFAOYSA-N</td>\n",
       "      <td></td>\n",
       "      <td><img data-content=\"rdkit/molecule\" src=\"data:image/png;base64,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\" alt=\"Mol\"/></td>\n",
       "      <td>Inactive</td>\n",
       "      <td>Inactive</td>\n",
       "    </tr>\n",
       "  </tbody>\n",
       "</table>\n",
       "</div>"
      ],
      "text/plain": [
       "  Compound_name   Outcome                     InChIKey ID  \\\n",
       "0    Remdesivir    Active  RWWYLEGWBNMMLJ-MEUHYHILSA-N      \n",
       "1   Chloroquine    Active  WHTVZRBIWZFKQO-UHFFFAOYNA-N      \n",
       "2     Ribavirin  Inactive  IWUCXVSUMQZMFG-AFCXAGJDSA-N      \n",
       "3   Penciclovir  Inactive  JNTOCHDNEULJHD-UHFFFAOYSA-N      \n",
       "4  Nitazoxanide    Active  YQNQNVDNTFHQSW-UHFFFAOYSA-N      \n",
       "5    Nafamostat  Inactive  MQQNFDZXWVTQEH-UHFFFAOYSA-N      \n",
       "6   Favipiravir  Inactive  ZCGNOVWYSGBHAU-UHFFFAOYSA-N      \n",
       "\n",
       "                                                 Mol Prediction        AD  \n",
       "0  <img data-content=\"rdkit/molecule\" src=\"data:i...   Inactive       NaN  \n",
       "1  <img data-content=\"rdkit/molecule\" src=\"data:i...   Inactive       NaN  \n",
       "2  <img data-content=\"rdkit/molecule\" src=\"data:i...   Inactive  Inactive  \n",
       "3  <img data-content=\"rdkit/molecule\" src=\"data:i...   Inactive  Inactive  \n",
       "4  <img data-content=\"rdkit/molecule\" src=\"data:i...   Inactive       NaN  \n",
       "5  <img data-content=\"rdkit/molecule\" src=\"data:i...   Inactive       NaN  \n",
       "6  <img data-content=\"rdkit/molecule\" src=\"data:i...   Inactive  Inactive  "
      ]
     },
     "execution_count": 10,
     "metadata": {},
     "output_type": "execute_result"
    }
   ],
   "source": [
    "predictions = pd.concat([moldf, pred], axis=1)\n",
    "for col in ['Prediction', 'AD']:\n",
    "    predictions[col].replace(0,'Inactive',inplace=True)\n",
    "    predictions[col].replace(1,'Active',inplace=True)\n",
    "\n",
    "predictions"
   ]
  },
  {
   "cell_type": "markdown",
   "metadata": {},
   "source": [
    "## Export"
   ]
  },
  {
   "cell_type": "code",
   "execution_count": 12,
   "metadata": {},
   "outputs": [],
   "source": [
    "PandasTools.WriteSDF(predictions, '../datasets/screened_compounds/wang_et_al_qsar_pred-morgan.sdf.gz',\n",
    "                     molColName='Mol', properties=list(predictions.columns))"
   ]
  }
 ],
 "metadata": {
  "kernelspec": {
   "display_name": "rdkit-env",
   "language": "python",
   "name": "my-rdkit-env"
  },
  "language_info": {
   "codemirror_mode": {
    "name": "ipython",
    "version": 3
   },
   "file_extension": ".py",
   "mimetype": "text/x-python",
   "name": "python",
   "nbconvert_exporter": "python",
   "pygments_lexer": "ipython3",
   "version": "3.6.10"
  }
 },
 "nbformat": 4,
 "nbformat_minor": 2
}
