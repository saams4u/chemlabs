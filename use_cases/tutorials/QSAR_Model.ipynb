{
  "nbformat": 4,
  "nbformat_minor": 0,
  "metadata": {
    "colab": {
      "name": "QSAR Model.ipynb",
      "provenance": [],
      "collapsed_sections": [],
      "machine_shape": "hm"
    },
    "kernelspec": {
      "name": "python3",
      "display_name": "Python 3"
    },
    "language_info": {
      "name": "python"
    },
    "accelerator": "GPU"
  },
  "cells": [
    {
      "cell_type": "markdown",
      "metadata": {
        "id": "DraHieiM8VuQ"
      },
      "source": [
        "## Building a QSAR Model to predict molecule's ability to inhibit the target protein linked to Alzheimer's, Beta-secretase 1\n",
        "\n",
        "Drug discovery is a long process with high costs, on average taking 12 years and $10 billion dollars. The old process relied on a scientist or pharmaceutical companies expertise or past knowledge of experiments to design chemical compounds that may or may not exhibit the desired characteristics on thier target gene or protein. Now with decades of past expermimental data, we can apply machine learning to build predictive models that can predict a compound's biological activity to help speed up the selection of the drug targets. These tools can be supremely benefiecial in reducing reserach costs and speeding up clinical reserach to bring more helpful drugs to those afflicted. Pharmacuitical companies are realising the power of using past experiment data to to better predict the compund's chemical characteristics. As powerful machine learning tools are applied to chemical data, we can use these models for onitoring important chemical- protein activities, especially as advances are made to manufacturing novel compounds.\n",
        "\n",
        "A QSAR (quantitaive-structured activity relationship) model helps researchers predict a given chemical compound's potential activity on a target protein. If a researcher is studying the effects of inhibition of a disease-causing target protein, they can use past experimental compunds to train a model to predict the biological activity of an unseen compund. This model will use the derived features of over 9000 compunds previously tested for thier ability to inhibit the target protein, Beta-secretase 1, which is measured by pIC50. The descriptors, 1-D and 2-D descriptors that desribe the molecules' physical composition, will be drived using 3rd party software, PaDEL and will be modeled in 2 seperate ways: a model to predict whether a compound will be active (inhibits protein) or inactive (displays no significant effect on a protein), as well as a regression model that would predict the actual pIC50 value of the supplied compound.\n",
        "\n",
        "Credit: https://github.com/ashiwoku/QSAR-model"
      ]
    },
    {
      "cell_type": "code",
      "metadata": {
        "colab": {
          "base_uri": "https://localhost:8080/"
        },
        "id": "TYiHJ3eO3ax3",
        "outputId": "cb057c4a-e48a-4786-fde7-b155fb2c1aff"
      },
      "source": [
        "# Install dependencies / requirements \n",
        "!pip install chembl-webresource-client rdkit-pypi==2021.3.1.5"
      ],
      "execution_count": null,
      "outputs": [
        {
          "output_type": "stream",
          "text": [
            "Requirement already satisfied: chembl-webresource-client in /usr/local/lib/python3.7/dist-packages (0.10.4)\n",
            "Collecting rdkit-pypi==2021.3.1.5\n",
            "\u001b[?25l  Downloading https://files.pythonhosted.org/packages/7a/8b/4eab9cd448c40fd0d3034771963c903579a6697454682b6fbb9114beca91/rdkit_pypi-2021.3.1.5-cp37-cp37m-manylinux2014_x86_64.whl (18.0MB)\n",
            "\u001b[K     |████████████████████████████████| 18.0MB 264kB/s \n",
            "\u001b[?25hRequirement already satisfied: requests-cache>=0.6.0 in /usr/local/lib/python3.7/dist-packages (from chembl-webresource-client) (0.6.4)\n",
            "Requirement already satisfied: urllib3 in /usr/local/lib/python3.7/dist-packages (from chembl-webresource-client) (1.24.3)\n",
            "Requirement already satisfied: easydict in /usr/local/lib/python3.7/dist-packages (from chembl-webresource-client) (1.9)\n",
            "Requirement already satisfied: requests>=2.18.4 in /usr/local/lib/python3.7/dist-packages (from chembl-webresource-client) (2.23.0)\n",
            "Requirement already satisfied: url-normalize>=1.4 in /usr/local/lib/python3.7/dist-packages (from requests-cache>=0.6.0->chembl-webresource-client) (1.4.3)\n",
            "Requirement already satisfied: itsdangerous in /usr/local/lib/python3.7/dist-packages (from requests-cache>=0.6.0->chembl-webresource-client) (1.1.0)\n",
            "Requirement already satisfied: chardet<4,>=3.0.2 in /usr/local/lib/python3.7/dist-packages (from requests>=2.18.4->chembl-webresource-client) (3.0.4)\n",
            "Requirement already satisfied: certifi>=2017.4.17 in /usr/local/lib/python3.7/dist-packages (from requests>=2.18.4->chembl-webresource-client) (2021.5.30)\n",
            "Requirement already satisfied: idna<3,>=2.5 in /usr/local/lib/python3.7/dist-packages (from requests>=2.18.4->chembl-webresource-client) (2.10)\n",
            "Requirement already satisfied: six in /usr/local/lib/python3.7/dist-packages (from url-normalize>=1.4->requests-cache>=0.6.0->chembl-webresource-client) (1.15.0)\n",
            "Installing collected packages: rdkit-pypi\n",
            "Successfully installed rdkit-pypi-2021.3.1.5\n"
          ],
          "name": "stdout"
        }
      ]
    },
    {
      "cell_type": "markdown",
      "metadata": {
        "id": "d0xy1I1289Zo"
      },
      "source": [
        "### QSAR Model Beta-secretase 1: Data Wrangling"
      ]
    },
    {
      "cell_type": "code",
      "metadata": {
        "id": "O8ZdotUx8WLt"
      },
      "source": [
        "import pandas as pd\n",
        "from chembl_webresource_client.new_client import new_client"
      ],
      "execution_count": null,
      "outputs": []
    },
    {
      "cell_type": "code",
      "metadata": {
        "colab": {
          "base_uri": "https://localhost:8080/",
          "height": 686
        },
        "id": "tXmNyUs2-M_N",
        "outputId": "53c4b66a-1a31-44b9-a0c4-34f7a7ce61ac"
      },
      "source": [
        "## Protein of interest is Beta-Secretase, a protein associated with ALzeihemers's Disease\n",
        "target_protein = new_client.target\n",
        "target_query = target_protein.search('Beta-secretase').filter(target_type='SINGLE PROTEIN').filter(organism='Homo sapiens')\n",
        "\n",
        "data = pd.DataFrame.from_dict(target_query)\n",
        "data"
      ],
      "execution_count": null,
      "outputs": [
        {
          "output_type": "execute_result",
          "data": {
            "text/html": [
              "<div>\n",
              "<style scoped>\n",
              "    .dataframe tbody tr th:only-of-type {\n",
              "        vertical-align: middle;\n",
              "    }\n",
              "\n",
              "    .dataframe tbody tr th {\n",
              "        vertical-align: top;\n",
              "    }\n",
              "\n",
              "    .dataframe thead th {\n",
              "        text-align: right;\n",
              "    }\n",
              "</style>\n",
              "<table border=\"1\" class=\"dataframe\">\n",
              "  <thead>\n",
              "    <tr style=\"text-align: right;\">\n",
              "      <th></th>\n",
              "      <th>cross_references</th>\n",
              "      <th>organism</th>\n",
              "      <th>pref_name</th>\n",
              "      <th>score</th>\n",
              "      <th>species_group_flag</th>\n",
              "      <th>target_chembl_id</th>\n",
              "      <th>target_components</th>\n",
              "      <th>target_type</th>\n",
              "      <th>tax_id</th>\n",
              "    </tr>\n",
              "  </thead>\n",
              "  <tbody>\n",
              "    <tr>\n",
              "      <th>0</th>\n",
              "      <td>[{'xref_id': 'Q9Y5Z0', 'xref_name': None, 'xre...</td>\n",
              "      <td>Homo sapiens</td>\n",
              "      <td>Beta secretase 2</td>\n",
              "      <td>18.0</td>\n",
              "      <td>False</td>\n",
              "      <td>CHEMBL2525</td>\n",
              "      <td>[{'accession': 'Q9Y5Z0', 'component_descriptio...</td>\n",
              "      <td>SINGLE PROTEIN</td>\n",
              "      <td>9606</td>\n",
              "    </tr>\n",
              "    <tr>\n",
              "      <th>1</th>\n",
              "      <td>[{'xref_id': 'Beta-secretase_1', 'xref_name': ...</td>\n",
              "      <td>Homo sapiens</td>\n",
              "      <td>Beta-secretase 1</td>\n",
              "      <td>18.0</td>\n",
              "      <td>False</td>\n",
              "      <td>CHEMBL4822</td>\n",
              "      <td>[{'accession': 'P56817', 'component_descriptio...</td>\n",
              "      <td>SINGLE PROTEIN</td>\n",
              "      <td>9606</td>\n",
              "    </tr>\n",
              "    <tr>\n",
              "      <th>2</th>\n",
              "      <td>[{'xref_id': 'P05067', 'xref_name': None, 'xre...</td>\n",
              "      <td>Homo sapiens</td>\n",
              "      <td>Beta amyloid A4 protein</td>\n",
              "      <td>16.0</td>\n",
              "      <td>False</td>\n",
              "      <td>CHEMBL2487</td>\n",
              "      <td>[{'accession': 'P05067', 'component_descriptio...</td>\n",
              "      <td>SINGLE PROTEIN</td>\n",
              "      <td>9606</td>\n",
              "    </tr>\n",
              "    <tr>\n",
              "      <th>3</th>\n",
              "      <td>[]</td>\n",
              "      <td>Homo sapiens</td>\n",
              "      <td>Gamma-secretase-activating protein</td>\n",
              "      <td>14.0</td>\n",
              "      <td>False</td>\n",
              "      <td>CHEMBL3638343</td>\n",
              "      <td>[{'accession': 'A4D1B5', 'component_descriptio...</td>\n",
              "      <td>SINGLE PROTEIN</td>\n",
              "      <td>9606</td>\n",
              "    </tr>\n",
              "    <tr>\n",
              "      <th>4</th>\n",
              "      <td>[{'xref_id': 'Q9NZ42', 'xref_name': None, 'xre...</td>\n",
              "      <td>Homo sapiens</td>\n",
              "      <td>Gamma-secretase subunit PEN-2</td>\n",
              "      <td>13.0</td>\n",
              "      <td>False</td>\n",
              "      <td>CHEMBL2374</td>\n",
              "      <td>[{'accession': 'Q9NZ42', 'component_descriptio...</td>\n",
              "      <td>SINGLE PROTEIN</td>\n",
              "      <td>9606</td>\n",
              "    </tr>\n",
              "    <tr>\n",
              "      <th>...</th>\n",
              "      <td>...</td>\n",
              "      <td>...</td>\n",
              "      <td>...</td>\n",
              "      <td>...</td>\n",
              "      <td>...</td>\n",
              "      <td>...</td>\n",
              "      <td>...</td>\n",
              "      <td>...</td>\n",
              "      <td>...</td>\n",
              "    </tr>\n",
              "    <tr>\n",
              "      <th>282</th>\n",
              "      <td>[]</td>\n",
              "      <td>Homo sapiens</td>\n",
              "      <td>Growth/differentiation factor 15</td>\n",
              "      <td>2.0</td>\n",
              "      <td>False</td>\n",
              "      <td>CHEMBL3120039</td>\n",
              "      <td>[{'accession': 'Q99988', 'component_descriptio...</td>\n",
              "      <td>SINGLE PROTEIN</td>\n",
              "      <td>9606</td>\n",
              "    </tr>\n",
              "    <tr>\n",
              "      <th>283</th>\n",
              "      <td>[]</td>\n",
              "      <td>Homo sapiens</td>\n",
              "      <td>Stromal cell-derived factor 1</td>\n",
              "      <td>2.0</td>\n",
              "      <td>False</td>\n",
              "      <td>CHEMBL3286074</td>\n",
              "      <td>[{'accession': 'P48061', 'component_descriptio...</td>\n",
              "      <td>SINGLE PROTEIN</td>\n",
              "      <td>9606</td>\n",
              "    </tr>\n",
              "    <tr>\n",
              "      <th>284</th>\n",
              "      <td>[]</td>\n",
              "      <td>Homo sapiens</td>\n",
              "      <td>Prosaposin</td>\n",
              "      <td>2.0</td>\n",
              "      <td>False</td>\n",
              "      <td>CHEMBL3580523</td>\n",
              "      <td>[{'accession': 'P07602', 'component_descriptio...</td>\n",
              "      <td>SINGLE PROTEIN</td>\n",
              "      <td>9606</td>\n",
              "    </tr>\n",
              "    <tr>\n",
              "      <th>285</th>\n",
              "      <td>[]</td>\n",
              "      <td>Homo sapiens</td>\n",
              "      <td>Melanocyte protein PMEL</td>\n",
              "      <td>2.0</td>\n",
              "      <td>False</td>\n",
              "      <td>CHEMBL3712988</td>\n",
              "      <td>[{'accession': 'P40967', 'component_descriptio...</td>\n",
              "      <td>SINGLE PROTEIN</td>\n",
              "      <td>9606</td>\n",
              "    </tr>\n",
              "    <tr>\n",
              "      <th>286</th>\n",
              "      <td>[]</td>\n",
              "      <td>Homo sapiens</td>\n",
              "      <td>Adhesion G-protein coupled receptor G1</td>\n",
              "      <td>2.0</td>\n",
              "      <td>False</td>\n",
              "      <td>CHEMBL4523929</td>\n",
              "      <td>[{'accession': 'Q9Y653', 'component_descriptio...</td>\n",
              "      <td>SINGLE PROTEIN</td>\n",
              "      <td>9606</td>\n",
              "    </tr>\n",
              "  </tbody>\n",
              "</table>\n",
              "<p>287 rows × 9 columns</p>\n",
              "</div>"
            ],
            "text/plain": [
              "                                      cross_references  ... tax_id\n",
              "0    [{'xref_id': 'Q9Y5Z0', 'xref_name': None, 'xre...  ...   9606\n",
              "1    [{'xref_id': 'Beta-secretase_1', 'xref_name': ...  ...   9606\n",
              "2    [{'xref_id': 'P05067', 'xref_name': None, 'xre...  ...   9606\n",
              "3                                                   []  ...   9606\n",
              "4    [{'xref_id': 'Q9NZ42', 'xref_name': None, 'xre...  ...   9606\n",
              "..                                                 ...  ...    ...\n",
              "282                                                 []  ...   9606\n",
              "283                                                 []  ...   9606\n",
              "284                                                 []  ...   9606\n",
              "285                                                 []  ...   9606\n",
              "286                                                 []  ...   9606\n",
              "\n",
              "[287 rows x 9 columns]"
            ]
          },
          "metadata": {
            "tags": []
          },
          "execution_count": 3
        }
      ]
    },
    {
      "cell_type": "code",
      "metadata": {
        "colab": {
          "base_uri": "https://localhost:8080/",
          "height": 35
        },
        "id": "g4XMelth-RYU",
        "outputId": "6551d575-f021-4f2f-e403-9baf090578b1"
      },
      "source": [
        "## we want only the first protein: Beta secratese 1 \n",
        "chosen_one = data.iloc[1]['target_chembl_id']\n",
        "chosen_one"
      ],
      "execution_count": null,
      "outputs": [
        {
          "output_type": "execute_result",
          "data": {
            "application/vnd.google.colaboratory.intrinsic+json": {
              "type": "string"
            },
            "text/plain": [
              "'CHEMBL4822'"
            ]
          },
          "metadata": {
            "tags": []
          },
          "execution_count": 4
        }
      ]
    },
    {
      "cell_type": "code",
      "metadata": {
        "id": "zTUAKPfK-cqD"
      },
      "source": [
        "target_activity = new_client.activity\n",
        "target_query = target_activity.filter(target_chembl_id=chosen_one).filter(standard_type='IC50')"
      ],
      "execution_count": null,
      "outputs": []
    },
    {
      "cell_type": "code",
      "metadata": {
        "id": "IBam4vqk-gfo"
      },
      "source": [
        "df = pd.DataFrame.from_dict(target_query)"
      ],
      "execution_count": null,
      "outputs": []
    },
    {
      "cell_type": "code",
      "metadata": {
        "colab": {
          "base_uri": "https://localhost:8080/",
          "height": 790
        },
        "id": "8l4iT9wk-iTB",
        "outputId": "89b35a5e-e020-4f17-8dfc-7562e81ba21b"
      },
      "source": [
        "df ## constains all of the compunds that have been tested in this protein."
      ],
      "execution_count": null,
      "outputs": [
        {
          "output_type": "execute_result",
          "data": {
            "text/html": [
              "<div>\n",
              "<style scoped>\n",
              "    .dataframe tbody tr th:only-of-type {\n",
              "        vertical-align: middle;\n",
              "    }\n",
              "\n",
              "    .dataframe tbody tr th {\n",
              "        vertical-align: top;\n",
              "    }\n",
              "\n",
              "    .dataframe thead th {\n",
              "        text-align: right;\n",
              "    }\n",
              "</style>\n",
              "<table border=\"1\" class=\"dataframe\">\n",
              "  <thead>\n",
              "    <tr style=\"text-align: right;\">\n",
              "      <th></th>\n",
              "      <th>activity_comment</th>\n",
              "      <th>activity_id</th>\n",
              "      <th>activity_properties</th>\n",
              "      <th>assay_chembl_id</th>\n",
              "      <th>assay_description</th>\n",
              "      <th>assay_type</th>\n",
              "      <th>assay_variant_accession</th>\n",
              "      <th>assay_variant_mutation</th>\n",
              "      <th>bao_endpoint</th>\n",
              "      <th>bao_format</th>\n",
              "      <th>bao_label</th>\n",
              "      <th>canonical_smiles</th>\n",
              "      <th>data_validity_comment</th>\n",
              "      <th>data_validity_description</th>\n",
              "      <th>document_chembl_id</th>\n",
              "      <th>document_journal</th>\n",
              "      <th>document_year</th>\n",
              "      <th>ligand_efficiency</th>\n",
              "      <th>molecule_chembl_id</th>\n",
              "      <th>molecule_pref_name</th>\n",
              "      <th>parent_molecule_chembl_id</th>\n",
              "      <th>pchembl_value</th>\n",
              "      <th>potential_duplicate</th>\n",
              "      <th>qudt_units</th>\n",
              "      <th>record_id</th>\n",
              "      <th>relation</th>\n",
              "      <th>src_id</th>\n",
              "      <th>standard_flag</th>\n",
              "      <th>standard_relation</th>\n",
              "      <th>standard_text_value</th>\n",
              "      <th>standard_type</th>\n",
              "      <th>standard_units</th>\n",
              "      <th>standard_upper_value</th>\n",
              "      <th>standard_value</th>\n",
              "      <th>target_chembl_id</th>\n",
              "      <th>target_organism</th>\n",
              "      <th>target_pref_name</th>\n",
              "      <th>target_tax_id</th>\n",
              "      <th>text_value</th>\n",
              "      <th>toid</th>\n",
              "      <th>type</th>\n",
              "      <th>units</th>\n",
              "      <th>uo_units</th>\n",
              "      <th>upper_value</th>\n",
              "      <th>value</th>\n",
              "    </tr>\n",
              "  </thead>\n",
              "  <tbody>\n",
              "    <tr>\n",
              "      <th>0</th>\n",
              "      <td>None</td>\n",
              "      <td>78857</td>\n",
              "      <td>[]</td>\n",
              "      <td>CHEMBL653511</td>\n",
              "      <td>Inhibitory activity against Beta-secretase 1 w...</td>\n",
              "      <td>B</td>\n",
              "      <td>None</td>\n",
              "      <td>None</td>\n",
              "      <td>BAO_0000190</td>\n",
              "      <td>BAO_0000357</td>\n",
              "      <td>single protein format</td>\n",
              "      <td>CC(C)C[C@H](NC(=O)[C@@H](NC(=O)[C@@H](N)CCC(=O...</td>\n",
              "      <td>None</td>\n",
              "      <td>None</td>\n",
              "      <td>CHEMBL1136466</td>\n",
              "      <td>Bioorg. Med. Chem. Lett.</td>\n",
              "      <td>2003</td>\n",
              "      <td>{'bei': '6.39', 'le': '0.12', 'lle': '7.82', '...</td>\n",
              "      <td>CHEMBL406146</td>\n",
              "      <td>HGLUVALLEUPNSASPALAGLUPHEOH</td>\n",
              "      <td>CHEMBL406146</td>\n",
              "      <td>6.38</td>\n",
              "      <td>False</td>\n",
              "      <td>http://www.openphacts.org/units/Nanomolar</td>\n",
              "      <td>260010</td>\n",
              "      <td>=</td>\n",
              "      <td>1</td>\n",
              "      <td>True</td>\n",
              "      <td>=</td>\n",
              "      <td>None</td>\n",
              "      <td>IC50</td>\n",
              "      <td>nM</td>\n",
              "      <td>None</td>\n",
              "      <td>413.0</td>\n",
              "      <td>CHEMBL4822</td>\n",
              "      <td>Homo sapiens</td>\n",
              "      <td>Beta-secretase 1</td>\n",
              "      <td>9606</td>\n",
              "      <td>None</td>\n",
              "      <td>None</td>\n",
              "      <td>IC50</td>\n",
              "      <td>nM</td>\n",
              "      <td>UO_0000065</td>\n",
              "      <td>None</td>\n",
              "      <td>413.0</td>\n",
              "    </tr>\n",
              "    <tr>\n",
              "      <th>1</th>\n",
              "      <td>None</td>\n",
              "      <td>391560</td>\n",
              "      <td>[]</td>\n",
              "      <td>CHEMBL653332</td>\n",
              "      <td>Compound was tested for its inhibitory activit...</td>\n",
              "      <td>B</td>\n",
              "      <td>None</td>\n",
              "      <td>None</td>\n",
              "      <td>BAO_0000190</td>\n",
              "      <td>BAO_0000357</td>\n",
              "      <td>single protein format</td>\n",
              "      <td>CC(C)C[C@H](NC(=O)[C@H](CC(N)=O)NC(=O)[C@@H](N...</td>\n",
              "      <td>None</td>\n",
              "      <td>None</td>\n",
              "      <td>CHEMBL1144938</td>\n",
              "      <td>J. Med. Chem.</td>\n",
              "      <td>2003</td>\n",
              "      <td>{'bei': '9.74', 'le': '0.19', 'lle': '10.44', ...</td>\n",
              "      <td>CHEMBL78946</td>\n",
              "      <td>None</td>\n",
              "      <td>CHEMBL78946</td>\n",
              "      <td>8.70</td>\n",
              "      <td>True</td>\n",
              "      <td>http://www.openphacts.org/units/Nanomolar</td>\n",
              "      <td>274693</td>\n",
              "      <td>=</td>\n",
              "      <td>1</td>\n",
              "      <td>True</td>\n",
              "      <td>=</td>\n",
              "      <td>None</td>\n",
              "      <td>IC50</td>\n",
              "      <td>nM</td>\n",
              "      <td>None</td>\n",
              "      <td>2.0</td>\n",
              "      <td>CHEMBL4822</td>\n",
              "      <td>Homo sapiens</td>\n",
              "      <td>Beta-secretase 1</td>\n",
              "      <td>9606</td>\n",
              "      <td>None</td>\n",
              "      <td>None</td>\n",
              "      <td>IC50</td>\n",
              "      <td>uM</td>\n",
              "      <td>UO_0000065</td>\n",
              "      <td>None</td>\n",
              "      <td>0.002</td>\n",
              "    </tr>\n",
              "    <tr>\n",
              "      <th>2</th>\n",
              "      <td>None</td>\n",
              "      <td>391983</td>\n",
              "      <td>[]</td>\n",
              "      <td>CHEMBL653512</td>\n",
              "      <td>Inhibition of human Beta-secretase 1</td>\n",
              "      <td>B</td>\n",
              "      <td>None</td>\n",
              "      <td>None</td>\n",
              "      <td>BAO_0000190</td>\n",
              "      <td>BAO_0000357</td>\n",
              "      <td>single protein format</td>\n",
              "      <td>CCC(C)C[C@H](NC(=O)[C@H](CC(C)C)NC(C)=O)[C@@H]...</td>\n",
              "      <td>None</td>\n",
              "      <td>None</td>\n",
              "      <td>CHEMBL1147464</td>\n",
              "      <td>Bioorg. Med. Chem. Lett.</td>\n",
              "      <td>2004</td>\n",
              "      <td>{'bei': '8.43', 'le': '0.17', 'lle': '3.99', '...</td>\n",
              "      <td>CHEMBL324109</td>\n",
              "      <td>None</td>\n",
              "      <td>CHEMBL324109</td>\n",
              "      <td>6.34</td>\n",
              "      <td>False</td>\n",
              "      <td>http://www.openphacts.org/units/Nanomolar</td>\n",
              "      <td>219979</td>\n",
              "      <td>=</td>\n",
              "      <td>1</td>\n",
              "      <td>True</td>\n",
              "      <td>=</td>\n",
              "      <td>None</td>\n",
              "      <td>IC50</td>\n",
              "      <td>nM</td>\n",
              "      <td>None</td>\n",
              "      <td>460.0</td>\n",
              "      <td>CHEMBL4822</td>\n",
              "      <td>Homo sapiens</td>\n",
              "      <td>Beta-secretase 1</td>\n",
              "      <td>9606</td>\n",
              "      <td>None</td>\n",
              "      <td>None</td>\n",
              "      <td>IC50</td>\n",
              "      <td>uM</td>\n",
              "      <td>UO_0000065</td>\n",
              "      <td>None</td>\n",
              "      <td>0.46</td>\n",
              "    </tr>\n",
              "    <tr>\n",
              "      <th>3</th>\n",
              "      <td>None</td>\n",
              "      <td>395858</td>\n",
              "      <td>[]</td>\n",
              "      <td>CHEMBL653512</td>\n",
              "      <td>Inhibition of human Beta-secretase 1</td>\n",
              "      <td>B</td>\n",
              "      <td>None</td>\n",
              "      <td>None</td>\n",
              "      <td>BAO_0000190</td>\n",
              "      <td>BAO_0000357</td>\n",
              "      <td>single protein format</td>\n",
              "      <td>CC(=O)NCC(=O)N[C@@H](Cc1ccccc1)[C@@H](O)CC(=O)...</td>\n",
              "      <td>None</td>\n",
              "      <td>None</td>\n",
              "      <td>CHEMBL1147464</td>\n",
              "      <td>Bioorg. Med. Chem. Lett.</td>\n",
              "      <td>2004</td>\n",
              "      <td>{'bei': '6.84', 'le': '0.13', 'lle': '3.09', '...</td>\n",
              "      <td>CHEMBL114147</td>\n",
              "      <td>None</td>\n",
              "      <td>CHEMBL114147</td>\n",
              "      <td>5.05</td>\n",
              "      <td>False</td>\n",
              "      <td>http://www.openphacts.org/units/Nanomolar</td>\n",
              "      <td>219988</td>\n",
              "      <td>=</td>\n",
              "      <td>1</td>\n",
              "      <td>True</td>\n",
              "      <td>=</td>\n",
              "      <td>None</td>\n",
              "      <td>IC50</td>\n",
              "      <td>nM</td>\n",
              "      <td>None</td>\n",
              "      <td>9000.0</td>\n",
              "      <td>CHEMBL4822</td>\n",
              "      <td>Homo sapiens</td>\n",
              "      <td>Beta-secretase 1</td>\n",
              "      <td>9606</td>\n",
              "      <td>None</td>\n",
              "      <td>None</td>\n",
              "      <td>IC50</td>\n",
              "      <td>uM</td>\n",
              "      <td>UO_0000065</td>\n",
              "      <td>None</td>\n",
              "      <td>9.0</td>\n",
              "    </tr>\n",
              "    <tr>\n",
              "      <th>4</th>\n",
              "      <td>None</td>\n",
              "      <td>395859</td>\n",
              "      <td>[]</td>\n",
              "      <td>CHEMBL653512</td>\n",
              "      <td>Inhibition of human Beta-secretase 1</td>\n",
              "      <td>B</td>\n",
              "      <td>None</td>\n",
              "      <td>None</td>\n",
              "      <td>BAO_0000190</td>\n",
              "      <td>BAO_0000357</td>\n",
              "      <td>single protein format</td>\n",
              "      <td>CC(=O)N[C@@H](Cc1ccccc1)C(=O)N[C@@H](Cc1ccccc1...</td>\n",
              "      <td>None</td>\n",
              "      <td>None</td>\n",
              "      <td>CHEMBL1147464</td>\n",
              "      <td>Bioorg. Med. Chem. Lett.</td>\n",
              "      <td>2004</td>\n",
              "      <td>{'bei': '6.34', 'le': '0.12', 'lle': '1.68', '...</td>\n",
              "      <td>CHEMBL419949</td>\n",
              "      <td>None</td>\n",
              "      <td>CHEMBL419949</td>\n",
              "      <td>5.25</td>\n",
              "      <td>False</td>\n",
              "      <td>http://www.openphacts.org/units/Nanomolar</td>\n",
              "      <td>219982</td>\n",
              "      <td>=</td>\n",
              "      <td>1</td>\n",
              "      <td>True</td>\n",
              "      <td>=</td>\n",
              "      <td>None</td>\n",
              "      <td>IC50</td>\n",
              "      <td>nM</td>\n",
              "      <td>None</td>\n",
              "      <td>5600.0</td>\n",
              "      <td>CHEMBL4822</td>\n",
              "      <td>Homo sapiens</td>\n",
              "      <td>Beta-secretase 1</td>\n",
              "      <td>9606</td>\n",
              "      <td>None</td>\n",
              "      <td>None</td>\n",
              "      <td>IC50</td>\n",
              "      <td>uM</td>\n",
              "      <td>UO_0000065</td>\n",
              "      <td>None</td>\n",
              "      <td>5.6</td>\n",
              "    </tr>\n",
              "    <tr>\n",
              "      <th>...</th>\n",
              "      <td>...</td>\n",
              "      <td>...</td>\n",
              "      <td>...</td>\n",
              "      <td>...</td>\n",
              "      <td>...</td>\n",
              "      <td>...</td>\n",
              "      <td>...</td>\n",
              "      <td>...</td>\n",
              "      <td>...</td>\n",
              "      <td>...</td>\n",
              "      <td>...</td>\n",
              "      <td>...</td>\n",
              "      <td>...</td>\n",
              "      <td>...</td>\n",
              "      <td>...</td>\n",
              "      <td>...</td>\n",
              "      <td>...</td>\n",
              "      <td>...</td>\n",
              "      <td>...</td>\n",
              "      <td>...</td>\n",
              "      <td>...</td>\n",
              "      <td>...</td>\n",
              "      <td>...</td>\n",
              "      <td>...</td>\n",
              "      <td>...</td>\n",
              "      <td>...</td>\n",
              "      <td>...</td>\n",
              "      <td>...</td>\n",
              "      <td>...</td>\n",
              "      <td>...</td>\n",
              "      <td>...</td>\n",
              "      <td>...</td>\n",
              "      <td>...</td>\n",
              "      <td>...</td>\n",
              "      <td>...</td>\n",
              "      <td>...</td>\n",
              "      <td>...</td>\n",
              "      <td>...</td>\n",
              "      <td>...</td>\n",
              "      <td>...</td>\n",
              "      <td>...</td>\n",
              "      <td>...</td>\n",
              "      <td>...</td>\n",
              "      <td>...</td>\n",
              "      <td>...</td>\n",
              "    </tr>\n",
              "    <tr>\n",
              "      <th>10151</th>\n",
              "      <td>None</td>\n",
              "      <td>19482230</td>\n",
              "      <td>[]</td>\n",
              "      <td>CHEMBL4480749</td>\n",
              "      <td>Inhibition of human BACE1 (1 to 460 residues) ...</td>\n",
              "      <td>B</td>\n",
              "      <td>None</td>\n",
              "      <td>None</td>\n",
              "      <td>BAO_0000190</td>\n",
              "      <td>BAO_0000219</td>\n",
              "      <td>cell-based format</td>\n",
              "      <td>CC(Cc1cc2ccccc2nc1N)C(=O)NC[C@@]12CCCO[C@@H]1C...</td>\n",
              "      <td>None</td>\n",
              "      <td>None</td>\n",
              "      <td>CHEMBL4480382</td>\n",
              "      <td>MedChemComm</td>\n",
              "      <td>2019</td>\n",
              "      <td>{'bei': '11.65', 'le': '0.22', 'lle': '1.77', ...</td>\n",
              "      <td>CHEMBL4565226</td>\n",
              "      <td>None</td>\n",
              "      <td>CHEMBL4565226</td>\n",
              "      <td>4.47</td>\n",
              "      <td>False</td>\n",
              "      <td>http://www.openphacts.org/units/Nanomolar</td>\n",
              "      <td>3257930</td>\n",
              "      <td>=</td>\n",
              "      <td>1</td>\n",
              "      <td>True</td>\n",
              "      <td>=</td>\n",
              "      <td>None</td>\n",
              "      <td>IC50</td>\n",
              "      <td>nM</td>\n",
              "      <td>None</td>\n",
              "      <td>34000.0</td>\n",
              "      <td>CHEMBL4822</td>\n",
              "      <td>Homo sapiens</td>\n",
              "      <td>Beta-secretase 1</td>\n",
              "      <td>9606</td>\n",
              "      <td>None</td>\n",
              "      <td>None</td>\n",
              "      <td>IC50</td>\n",
              "      <td>uM</td>\n",
              "      <td>UO_0000065</td>\n",
              "      <td>None</td>\n",
              "      <td>34.0</td>\n",
              "    </tr>\n",
              "    <tr>\n",
              "      <th>10152</th>\n",
              "      <td>None</td>\n",
              "      <td>19482231</td>\n",
              "      <td>[]</td>\n",
              "      <td>CHEMBL4480749</td>\n",
              "      <td>Inhibition of human BACE1 (1 to 460 residues) ...</td>\n",
              "      <td>B</td>\n",
              "      <td>None</td>\n",
              "      <td>None</td>\n",
              "      <td>BAO_0000190</td>\n",
              "      <td>BAO_0000219</td>\n",
              "      <td>cell-based format</td>\n",
              "      <td>Nc1nc2ccccc2cc1CCC(=O)N1CC[C@H]2OCCC[C@@]2(Cc2...</td>\n",
              "      <td>None</td>\n",
              "      <td>None</td>\n",
              "      <td>CHEMBL4480382</td>\n",
              "      <td>MedChemComm</td>\n",
              "      <td>2019</td>\n",
              "      <td>{'bei': '9.49', 'le': '0.17', 'lle': '-0.31', ...</td>\n",
              "      <td>CHEMBL4520156</td>\n",
              "      <td>None</td>\n",
              "      <td>CHEMBL4520156</td>\n",
              "      <td>4.08</td>\n",
              "      <td>False</td>\n",
              "      <td>http://www.openphacts.org/units/Nanomolar</td>\n",
              "      <td>3257925</td>\n",
              "      <td>=</td>\n",
              "      <td>1</td>\n",
              "      <td>True</td>\n",
              "      <td>=</td>\n",
              "      <td>None</td>\n",
              "      <td>IC50</td>\n",
              "      <td>nM</td>\n",
              "      <td>None</td>\n",
              "      <td>84000.0</td>\n",
              "      <td>CHEMBL4822</td>\n",
              "      <td>Homo sapiens</td>\n",
              "      <td>Beta-secretase 1</td>\n",
              "      <td>9606</td>\n",
              "      <td>None</td>\n",
              "      <td>None</td>\n",
              "      <td>IC50</td>\n",
              "      <td>uM</td>\n",
              "      <td>UO_0000065</td>\n",
              "      <td>None</td>\n",
              "      <td>84.0</td>\n",
              "    </tr>\n",
              "    <tr>\n",
              "      <th>10153</th>\n",
              "      <td>None</td>\n",
              "      <td>19482232</td>\n",
              "      <td>[]</td>\n",
              "      <td>CHEMBL4480749</td>\n",
              "      <td>Inhibition of human BACE1 (1 to 460 residues) ...</td>\n",
              "      <td>B</td>\n",
              "      <td>None</td>\n",
              "      <td>None</td>\n",
              "      <td>BAO_0000190</td>\n",
              "      <td>BAO_0000219</td>\n",
              "      <td>cell-based format</td>\n",
              "      <td>Nc1nc2ccccc2cc1CCC(=O)NC[C@@]12CCCO[C@@H]1CCOC2</td>\n",
              "      <td>None</td>\n",
              "      <td>None</td>\n",
              "      <td>CHEMBL4480382</td>\n",
              "      <td>MedChemComm</td>\n",
              "      <td>2019</td>\n",
              "      <td>{'bei': '12.28', 'le': '0.23', 'lle': '2.09', ...</td>\n",
              "      <td>CHEMBL4585673</td>\n",
              "      <td>None</td>\n",
              "      <td>CHEMBL4585673</td>\n",
              "      <td>4.54</td>\n",
              "      <td>False</td>\n",
              "      <td>http://www.openphacts.org/units/Nanomolar</td>\n",
              "      <td>3257921</td>\n",
              "      <td>=</td>\n",
              "      <td>1</td>\n",
              "      <td>True</td>\n",
              "      <td>=</td>\n",
              "      <td>None</td>\n",
              "      <td>IC50</td>\n",
              "      <td>nM</td>\n",
              "      <td>None</td>\n",
              "      <td>29000.0</td>\n",
              "      <td>CHEMBL4822</td>\n",
              "      <td>Homo sapiens</td>\n",
              "      <td>Beta-secretase 1</td>\n",
              "      <td>9606</td>\n",
              "      <td>None</td>\n",
              "      <td>None</td>\n",
              "      <td>IC50</td>\n",
              "      <td>uM</td>\n",
              "      <td>UO_0000065</td>\n",
              "      <td>None</td>\n",
              "      <td>29.0</td>\n",
              "    </tr>\n",
              "    <tr>\n",
              "      <th>10154</th>\n",
              "      <td>None</td>\n",
              "      <td>19482233</td>\n",
              "      <td>[]</td>\n",
              "      <td>CHEMBL4480749</td>\n",
              "      <td>Inhibition of human BACE1 (1 to 460 residues) ...</td>\n",
              "      <td>B</td>\n",
              "      <td>None</td>\n",
              "      <td>None</td>\n",
              "      <td>BAO_0000190</td>\n",
              "      <td>BAO_0000219</td>\n",
              "      <td>cell-based format</td>\n",
              "      <td>COc1ccc2c(c1)[C@@H](O)[C@@]1(CCN(C(=O)CCc3cc4c...</td>\n",
              "      <td>None</td>\n",
              "      <td>None</td>\n",
              "      <td>CHEMBL4480382</td>\n",
              "      <td>MedChemComm</td>\n",
              "      <td>2019</td>\n",
              "      <td>{'bei': '10.20', 'le': '0.19', 'lle': '0.99', ...</td>\n",
              "      <td>CHEMBL4546115</td>\n",
              "      <td>None</td>\n",
              "      <td>CHEMBL4546115</td>\n",
              "      <td>4.26</td>\n",
              "      <td>False</td>\n",
              "      <td>http://www.openphacts.org/units/Nanomolar</td>\n",
              "      <td>3257920</td>\n",
              "      <td>=</td>\n",
              "      <td>1</td>\n",
              "      <td>True</td>\n",
              "      <td>=</td>\n",
              "      <td>None</td>\n",
              "      <td>IC50</td>\n",
              "      <td>nM</td>\n",
              "      <td>None</td>\n",
              "      <td>55000.0</td>\n",
              "      <td>CHEMBL4822</td>\n",
              "      <td>Homo sapiens</td>\n",
              "      <td>Beta-secretase 1</td>\n",
              "      <td>9606</td>\n",
              "      <td>None</td>\n",
              "      <td>None</td>\n",
              "      <td>IC50</td>\n",
              "      <td>uM</td>\n",
              "      <td>UO_0000065</td>\n",
              "      <td>None</td>\n",
              "      <td>55.0</td>\n",
              "    </tr>\n",
              "    <tr>\n",
              "      <th>10155</th>\n",
              "      <td>None</td>\n",
              "      <td>19482234</td>\n",
              "      <td>[]</td>\n",
              "      <td>CHEMBL4480749</td>\n",
              "      <td>Inhibition of human BACE1 (1 to 460 residues) ...</td>\n",
              "      <td>B</td>\n",
              "      <td>None</td>\n",
              "      <td>None</td>\n",
              "      <td>BAO_0000190</td>\n",
              "      <td>BAO_0000219</td>\n",
              "      <td>cell-based format</td>\n",
              "      <td>Nc1nc2ccccc2cc1CCC(=O)NCC1CCCCC1</td>\n",
              "      <td>None</td>\n",
              "      <td>None</td>\n",
              "      <td>CHEMBL4480382</td>\n",
              "      <td>MedChemComm</td>\n",
              "      <td>2019</td>\n",
              "      <td>{'bei': '14.48', 'le': '0.27', 'lle': '1.06', ...</td>\n",
              "      <td>CHEMBL1821813</td>\n",
              "      <td>None</td>\n",
              "      <td>CHEMBL1821813</td>\n",
              "      <td>4.51</td>\n",
              "      <td>False</td>\n",
              "      <td>http://www.openphacts.org/units/Nanomolar</td>\n",
              "      <td>3257917</td>\n",
              "      <td>=</td>\n",
              "      <td>1</td>\n",
              "      <td>True</td>\n",
              "      <td>=</td>\n",
              "      <td>None</td>\n",
              "      <td>IC50</td>\n",
              "      <td>nM</td>\n",
              "      <td>None</td>\n",
              "      <td>31000.0</td>\n",
              "      <td>CHEMBL4822</td>\n",
              "      <td>Homo sapiens</td>\n",
              "      <td>Beta-secretase 1</td>\n",
              "      <td>9606</td>\n",
              "      <td>None</td>\n",
              "      <td>None</td>\n",
              "      <td>IC50</td>\n",
              "      <td>uM</td>\n",
              "      <td>UO_0000065</td>\n",
              "      <td>None</td>\n",
              "      <td>31.0</td>\n",
              "    </tr>\n",
              "  </tbody>\n",
              "</table>\n",
              "<p>10156 rows × 45 columns</p>\n",
              "</div>"
            ],
            "text/plain": [
              "      activity_comment  activity_id  ... upper_value  value\n",
              "0                 None        78857  ...        None  413.0\n",
              "1                 None       391560  ...        None  0.002\n",
              "2                 None       391983  ...        None   0.46\n",
              "3                 None       395858  ...        None    9.0\n",
              "4                 None       395859  ...        None    5.6\n",
              "...                ...          ...  ...         ...    ...\n",
              "10151             None     19482230  ...        None   34.0\n",
              "10152             None     19482231  ...        None   84.0\n",
              "10153             None     19482232  ...        None   29.0\n",
              "10154             None     19482233  ...        None   55.0\n",
              "10155             None     19482234  ...        None   31.0\n",
              "\n",
              "[10156 rows x 45 columns]"
            ]
          },
          "metadata": {
            "tags": []
          },
          "execution_count": 7
        }
      ]
    },
    {
      "cell_type": "code",
      "metadata": {
        "id": "9a4pMPPk_gin"
      },
      "source": [
        "## Dropping all the null values. (lost 108 observations)\n",
        "df.dropna(subset=['standard_value'], inplace=True)"
      ],
      "execution_count": null,
      "outputs": []
    },
    {
      "cell_type": "code",
      "metadata": {
        "id": "GRe_GD_C_k-d"
      },
      "source": [
        "## Saving to csv \n",
        "df.to_csv('Beta-secretase-1.csv', index=False)"
      ],
      "execution_count": null,
      "outputs": []
    },
    {
      "cell_type": "code",
      "metadata": {
        "id": "s08xL6hb_mr2"
      },
      "source": [
        "data = pd.read_csv('Beta-secretase-1.csv')"
      ],
      "execution_count": null,
      "outputs": []
    },
    {
      "cell_type": "code",
      "metadata": {
        "colab": {
          "base_uri": "https://localhost:8080/"
        },
        "id": "fGkm5WQh_pcF",
        "outputId": "0a22fdf2-8f88-4eef-fb60-211d723402f2"
      },
      "source": [
        "data.shape"
      ],
      "execution_count": null,
      "outputs": [
        {
          "output_type": "execute_result",
          "data": {
            "text/plain": [
              "(10042, 45)"
            ]
          },
          "metadata": {
            "tags": []
          },
          "execution_count": 11
        }
      ]
    },
    {
      "cell_type": "code",
      "metadata": {
        "id": "9J2zmfLq_rLG"
      },
      "source": [
        "## Changing the standard values to class type for classification type model. \n",
        "bioactivity_class =[]\n",
        "\n",
        "for x in data.standard_value:\n",
        "    if float(x) >= 10000:\n",
        "        bioactivity_class.append('inactive')\n",
        "    elif float(x) < 1000:\n",
        "        bioactivity_class.append('active')\n",
        "    else:\n",
        "        bioactivity_class.append('min effect')"
      ],
      "execution_count": null,
      "outputs": []
    },
    {
      "cell_type": "code",
      "metadata": {
        "colab": {
          "base_uri": "https://localhost:8080/"
        },
        "id": "IM0Ng6ey_urR",
        "outputId": "36ed2a01-ff61-4e3b-c814-362623ce8ac1"
      },
      "source": [
        "from collections import Counter\n",
        "Counter(bioactivity_class)"
      ],
      "execution_count": null,
      "outputs": [
        {
          "output_type": "execute_result",
          "data": {
            "text/plain": [
              "Counter({'active': 6650, 'inactive': 1426, 'min effect': 1966})"
            ]
          },
          "metadata": {
            "tags": []
          },
          "execution_count": 13
        }
      ]
    },
    {
      "cell_type": "code",
      "metadata": {
        "id": "uwjVVWaw_w4T"
      },
      "source": [
        "## There is imbalance in the set of active and inactive compunds. \n",
        "## Now, we make a dataframe containing only the chembl_id, standard_value, canonical smile, and bioactivity class.\n",
        "data['bioactivity_class'] = bioactivity_class\n",
        "data2 = data[['bioactivity_class', 'molecule_chembl_id', 'canonical_smiles', 'standard_value']]\n",
        "data2.reset_index(inplace=True)"
      ],
      "execution_count": null,
      "outputs": []
    },
    {
      "cell_type": "code",
      "metadata": {
        "colab": {
          "base_uri": "https://localhost:8080/",
          "height": 443
        },
        "id": "5eHxM91y_zQ3",
        "outputId": "c9f0cefb-6ffb-43f4-c1bf-019788ffd4f8"
      },
      "source": [
        "data2"
      ],
      "execution_count": null,
      "outputs": [
        {
          "output_type": "execute_result",
          "data": {
            "text/html": [
              "<div>\n",
              "<style scoped>\n",
              "    .dataframe tbody tr th:only-of-type {\n",
              "        vertical-align: middle;\n",
              "    }\n",
              "\n",
              "    .dataframe tbody tr th {\n",
              "        vertical-align: top;\n",
              "    }\n",
              "\n",
              "    .dataframe thead th {\n",
              "        text-align: right;\n",
              "    }\n",
              "</style>\n",
              "<table border=\"1\" class=\"dataframe\">\n",
              "  <thead>\n",
              "    <tr style=\"text-align: right;\">\n",
              "      <th></th>\n",
              "      <th>index</th>\n",
              "      <th>bioactivity_class</th>\n",
              "      <th>molecule_chembl_id</th>\n",
              "      <th>canonical_smiles</th>\n",
              "      <th>standard_value</th>\n",
              "    </tr>\n",
              "  </thead>\n",
              "  <tbody>\n",
              "    <tr>\n",
              "      <th>0</th>\n",
              "      <td>0</td>\n",
              "      <td>active</td>\n",
              "      <td>CHEMBL406146</td>\n",
              "      <td>CC(C)C[C@H](NC(=O)[C@@H](NC(=O)[C@@H](N)CCC(=O...</td>\n",
              "      <td>413.0</td>\n",
              "    </tr>\n",
              "    <tr>\n",
              "      <th>1</th>\n",
              "      <td>1</td>\n",
              "      <td>active</td>\n",
              "      <td>CHEMBL78946</td>\n",
              "      <td>CC(C)C[C@H](NC(=O)[C@H](CC(N)=O)NC(=O)[C@@H](N...</td>\n",
              "      <td>2.0</td>\n",
              "    </tr>\n",
              "    <tr>\n",
              "      <th>2</th>\n",
              "      <td>2</td>\n",
              "      <td>active</td>\n",
              "      <td>CHEMBL324109</td>\n",
              "      <td>CCC(C)C[C@H](NC(=O)[C@H](CC(C)C)NC(C)=O)[C@@H]...</td>\n",
              "      <td>460.0</td>\n",
              "    </tr>\n",
              "    <tr>\n",
              "      <th>3</th>\n",
              "      <td>3</td>\n",
              "      <td>min effect</td>\n",
              "      <td>CHEMBL114147</td>\n",
              "      <td>CC(=O)NCC(=O)N[C@@H](Cc1ccccc1)[C@@H](O)CC(=O)...</td>\n",
              "      <td>9000.0</td>\n",
              "    </tr>\n",
              "    <tr>\n",
              "      <th>4</th>\n",
              "      <td>4</td>\n",
              "      <td>min effect</td>\n",
              "      <td>CHEMBL419949</td>\n",
              "      <td>CC(=O)N[C@@H](Cc1ccccc1)C(=O)N[C@@H](Cc1ccccc1...</td>\n",
              "      <td>5600.0</td>\n",
              "    </tr>\n",
              "    <tr>\n",
              "      <th>...</th>\n",
              "      <td>...</td>\n",
              "      <td>...</td>\n",
              "      <td>...</td>\n",
              "      <td>...</td>\n",
              "      <td>...</td>\n",
              "    </tr>\n",
              "    <tr>\n",
              "      <th>10037</th>\n",
              "      <td>10037</td>\n",
              "      <td>inactive</td>\n",
              "      <td>CHEMBL4565226</td>\n",
              "      <td>CC(Cc1cc2ccccc2nc1N)C(=O)NC[C@@]12CCCO[C@@H]1C...</td>\n",
              "      <td>34000.0</td>\n",
              "    </tr>\n",
              "    <tr>\n",
              "      <th>10038</th>\n",
              "      <td>10038</td>\n",
              "      <td>inactive</td>\n",
              "      <td>CHEMBL4520156</td>\n",
              "      <td>Nc1nc2ccccc2cc1CCC(=O)N1CC[C@H]2OCCC[C@@]2(Cc2...</td>\n",
              "      <td>84000.0</td>\n",
              "    </tr>\n",
              "    <tr>\n",
              "      <th>10039</th>\n",
              "      <td>10039</td>\n",
              "      <td>inactive</td>\n",
              "      <td>CHEMBL4585673</td>\n",
              "      <td>Nc1nc2ccccc2cc1CCC(=O)NC[C@@]12CCCO[C@@H]1CCOC2</td>\n",
              "      <td>29000.0</td>\n",
              "    </tr>\n",
              "    <tr>\n",
              "      <th>10040</th>\n",
              "      <td>10040</td>\n",
              "      <td>inactive</td>\n",
              "      <td>CHEMBL4546115</td>\n",
              "      <td>COc1ccc2c(c1)[C@@H](O)[C@@]1(CCN(C(=O)CCc3cc4c...</td>\n",
              "      <td>55000.0</td>\n",
              "    </tr>\n",
              "    <tr>\n",
              "      <th>10041</th>\n",
              "      <td>10041</td>\n",
              "      <td>inactive</td>\n",
              "      <td>CHEMBL1821813</td>\n",
              "      <td>Nc1nc2ccccc2cc1CCC(=O)NCC1CCCCC1</td>\n",
              "      <td>31000.0</td>\n",
              "    </tr>\n",
              "  </tbody>\n",
              "</table>\n",
              "<p>10042 rows × 5 columns</p>\n",
              "</div>"
            ],
            "text/plain": [
              "       index  ... standard_value\n",
              "0          0  ...          413.0\n",
              "1          1  ...            2.0\n",
              "2          2  ...          460.0\n",
              "3          3  ...         9000.0\n",
              "4          4  ...         5600.0\n",
              "...      ...  ...            ...\n",
              "10037  10037  ...        34000.0\n",
              "10038  10038  ...        84000.0\n",
              "10039  10039  ...        29000.0\n",
              "10040  10040  ...        55000.0\n",
              "10041  10041  ...        31000.0\n",
              "\n",
              "[10042 rows x 5 columns]"
            ]
          },
          "metadata": {
            "tags": []
          },
          "execution_count": 15
        }
      ]
    },
    {
      "cell_type": "code",
      "metadata": {
        "colab": {
          "base_uri": "https://localhost:8080/",
          "height": 753
        },
        "id": "qA8aEQ9Q_1GF",
        "outputId": "a4218e48-8f7e-474a-9589-0054899acdc4"
      },
      "source": [
        "import matplotlib.pyplot as plt\n",
        "\n",
        "plt.figure(figsize=(12,12))\n",
        "plt.hist(data2['bioactivity_class'])\n",
        "\n",
        "plt.xlabel('Class Label', fontsize=24)\n",
        "plt.ylabel('Count', fontsize=24)\n",
        "\n",
        "plt.title('Inhibition Response Distribution', fontsize=24)\n",
        "plt.savefig('Inhibition Response Distribution.png')"
      ],
      "execution_count": null,
      "outputs": [
        {
          "output_type": "display_data",
          "data": {
            "image/png": "[encoded data removed]",
            "text/plain": [
              "<Figure size 864x864 with 1 Axes>"
            ]
          },
          "metadata": {
            "tags": [],
            "needs_background": "light"
          }
        }
      ]
    },
    {
      "cell_type": "markdown",
      "metadata": {
        "id": "_FdjKn5YAAGI"
      },
      "source": [
        "#### EDA using Lipinski Descriptors"
      ]
    },
    {
      "cell_type": "code",
      "metadata": {
        "id": "pfZfX7c0_658"
      },
      "source": [
        "from rdkit import Chem\n",
        "from rdkit.Chem import Lipinski, Descriptors\n",
        "import numpy as np"
      ],
      "execution_count": null,
      "outputs": []
    },
    {
      "cell_type": "code",
      "metadata": {
        "id": "s2SmxZvzACkr"
      },
      "source": [
        "## calculate the Lipinski descriptors of the compunds: Molecular Weight, Hydrogen bond donors, Hydrogen bond acceptors, and \n",
        "## octanol-water partition coefficent. \n",
        "def mol_descriptors(molecules, verbose=False):\n",
        "    \n",
        "    molData = []\n",
        "    for x in molecules:\n",
        "        mol = Chem.MolFromSmiles(x)\n",
        "        molData.append(mol)\n",
        "        \n",
        "    storage = np.arange(1,1)\n",
        "    i=0\n",
        "    \n",
        "    for y in molData:\n",
        "        MolWt = Descriptors.MolWt(y)\n",
        "        NumHDonors = Descriptors.NumHDonors(y)\n",
        "        NumHAccept = Descriptors.NumHAcceptors(y)\n",
        "        MolLogP = Descriptors.MolLogP(y)\n",
        "        \n",
        "        insert = np.array([MolWt, NumHDonors, NumHAccept, MolLogP])\n",
        "        \n",
        "        if (i==0):\n",
        "            LipinskiData = insert\n",
        "        else:\n",
        "            LipinskiData = np.vstack([LipinskiData, insert])\n",
        "        i=+1\n",
        "        \n",
        "    column_names = ['Molecular Weight', 'Number of Hydrogen Donors', 'Number of Hydrogen Acceptors', 'OWPC']\n",
        "    Lipinski_descriptors = pd.DataFrame(LipinskiData,columns=column_names)\n",
        "    \n",
        "    return Lipinski_descriptors"
      ],
      "execution_count": null,
      "outputs": []
    },
    {
      "cell_type": "code",
      "metadata": {
        "id": "ijtM6z7kANCX"
      },
      "source": [
        "df_lipinski = mol_descriptors(data2.canonical_smiles)"
      ],
      "execution_count": null,
      "outputs": []
    },
    {
      "cell_type": "code",
      "metadata": {
        "colab": {
          "base_uri": "https://localhost:8080/",
          "height": 423
        },
        "id": "DvqHQcplAQTc",
        "outputId": "e9b798f5-0011-4c3e-e26e-2ed4703b5579"
      },
      "source": [
        "df_lipinski"
      ],
      "execution_count": null,
      "outputs": [
        {
          "output_type": "execute_result",
          "data": {
            "text/html": [
              "<div>\n",
              "<style scoped>\n",
              "    .dataframe tbody tr th:only-of-type {\n",
              "        vertical-align: middle;\n",
              "    }\n",
              "\n",
              "    .dataframe tbody tr th {\n",
              "        vertical-align: top;\n",
              "    }\n",
              "\n",
              "    .dataframe thead th {\n",
              "        text-align: right;\n",
              "    }\n",
              "</style>\n",
              "<table border=\"1\" class=\"dataframe\">\n",
              "  <thead>\n",
              "    <tr style=\"text-align: right;\">\n",
              "      <th></th>\n",
              "      <th>Molecular Weight</th>\n",
              "      <th>Number of Hydrogen Donors</th>\n",
              "      <th>Number of Hydrogen Acceptors</th>\n",
              "      <th>OWPC</th>\n",
              "    </tr>\n",
              "  </thead>\n",
              "  <tbody>\n",
              "    <tr>\n",
              "      <th>0</th>\n",
              "      <td>999.085</td>\n",
              "      <td>13.0</td>\n",
              "      <td>13.0</td>\n",
              "      <td>-1.4355</td>\n",
              "    </tr>\n",
              "    <tr>\n",
              "      <th>1</th>\n",
              "      <td>893.005</td>\n",
              "      <td>12.0</td>\n",
              "      <td>12.0</td>\n",
              "      <td>-1.7361</td>\n",
              "    </tr>\n",
              "    <tr>\n",
              "      <th>2</th>\n",
              "      <td>751.988</td>\n",
              "      <td>8.0</td>\n",
              "      <td>9.0</td>\n",
              "      <td>2.3535</td>\n",
              "    </tr>\n",
              "    <tr>\n",
              "      <th>3</th>\n",
              "      <td>737.895</td>\n",
              "      <td>8.0</td>\n",
              "      <td>8.0</td>\n",
              "      <td>1.9626</td>\n",
              "    </tr>\n",
              "    <tr>\n",
              "      <th>4</th>\n",
              "      <td>828.020</td>\n",
              "      <td>8.0</td>\n",
              "      <td>8.0</td>\n",
              "      <td>3.5739</td>\n",
              "    </tr>\n",
              "    <tr>\n",
              "      <th>...</th>\n",
              "      <td>...</td>\n",
              "      <td>...</td>\n",
              "      <td>...</td>\n",
              "      <td>...</td>\n",
              "    </tr>\n",
              "    <tr>\n",
              "      <th>10037</th>\n",
              "      <td>383.492</td>\n",
              "      <td>2.0</td>\n",
              "      <td>5.0</td>\n",
              "      <td>2.6975</td>\n",
              "    </tr>\n",
              "    <tr>\n",
              "      <th>10038</th>\n",
              "      <td>429.564</td>\n",
              "      <td>1.0</td>\n",
              "      <td>4.0</td>\n",
              "      <td>4.3900</td>\n",
              "    </tr>\n",
              "    <tr>\n",
              "      <th>10039</th>\n",
              "      <td>369.465</td>\n",
              "      <td>2.0</td>\n",
              "      <td>5.0</td>\n",
              "      <td>2.4515</td>\n",
              "    </tr>\n",
              "    <tr>\n",
              "      <th>10040</th>\n",
              "      <td>417.509</td>\n",
              "      <td>2.0</td>\n",
              "      <td>5.0</td>\n",
              "      <td>3.2666</td>\n",
              "    </tr>\n",
              "    <tr>\n",
              "      <th>10041</th>\n",
              "      <td>311.429</td>\n",
              "      <td>2.0</td>\n",
              "      <td>3.0</td>\n",
              "      <td>3.4461</td>\n",
              "    </tr>\n",
              "  </tbody>\n",
              "</table>\n",
              "<p>10042 rows × 4 columns</p>\n",
              "</div>"
            ],
            "text/plain": [
              "       Molecular Weight  ...    OWPC\n",
              "0               999.085  ... -1.4355\n",
              "1               893.005  ... -1.7361\n",
              "2               751.988  ...  2.3535\n",
              "3               737.895  ...  1.9626\n",
              "4               828.020  ...  3.5739\n",
              "...                 ...  ...     ...\n",
              "10037           383.492  ...  2.6975\n",
              "10038           429.564  ...  4.3900\n",
              "10039           369.465  ...  2.4515\n",
              "10040           417.509  ...  3.2666\n",
              "10041           311.429  ...  3.4461\n",
              "\n",
              "[10042 rows x 4 columns]"
            ]
          },
          "metadata": {
            "tags": []
          },
          "execution_count": 22
        }
      ]
    },
    {
      "cell_type": "code",
      "metadata": {
        "id": "VO5Zck2iASJJ"
      },
      "source": [
        "df_lipinski.to_csv('df-lipinski.csv', index=False)"
      ],
      "execution_count": null,
      "outputs": []
    },
    {
      "cell_type": "code",
      "metadata": {
        "id": "88IVmMMvAVNZ"
      },
      "source": [
        "df_full = pd.concat([data2, df_lipinski], axis=1)"
      ],
      "execution_count": null,
      "outputs": []
    },
    {
      "cell_type": "code",
      "metadata": {
        "id": "QwQ99I9eAWu1"
      },
      "source": [
        "df_full.drop(columns=['index'], inplace=True)"
      ],
      "execution_count": null,
      "outputs": []
    },
    {
      "cell_type": "code",
      "metadata": {
        "id": "NlI17zXLAYGV"
      },
      "source": [
        "df_full.to_csv('lipinski-complete-dataset.csv', index=False)"
      ],
      "execution_count": null,
      "outputs": []
    },
    {
      "cell_type": "code",
      "metadata": {
        "colab": {
          "base_uri": "https://localhost:8080/",
          "height": 495
        },
        "id": "NyXNe5hbAZnS",
        "outputId": "4f18c616-b695-4eba-a63d-3fbe2e0bf776"
      },
      "source": [
        "df_full"
      ],
      "execution_count": null,
      "outputs": [
        {
          "output_type": "execute_result",
          "data": {
            "text/html": [
              "<div>\n",
              "<style scoped>\n",
              "    .dataframe tbody tr th:only-of-type {\n",
              "        vertical-align: middle;\n",
              "    }\n",
              "\n",
              "    .dataframe tbody tr th {\n",
              "        vertical-align: top;\n",
              "    }\n",
              "\n",
              "    .dataframe thead th {\n",
              "        text-align: right;\n",
              "    }\n",
              "</style>\n",
              "<table border=\"1\" class=\"dataframe\">\n",
              "  <thead>\n",
              "    <tr style=\"text-align: right;\">\n",
              "      <th></th>\n",
              "      <th>bioactivity_class</th>\n",
              "      <th>molecule_chembl_id</th>\n",
              "      <th>canonical_smiles</th>\n",
              "      <th>standard_value</th>\n",
              "      <th>Molecular Weight</th>\n",
              "      <th>Number of Hydrogen Donors</th>\n",
              "      <th>Number of Hydrogen Acceptors</th>\n",
              "      <th>OWPC</th>\n",
              "    </tr>\n",
              "  </thead>\n",
              "  <tbody>\n",
              "    <tr>\n",
              "      <th>0</th>\n",
              "      <td>active</td>\n",
              "      <td>CHEMBL406146</td>\n",
              "      <td>CC(C)C[C@H](NC(=O)[C@@H](NC(=O)[C@@H](N)CCC(=O...</td>\n",
              "      <td>413.0</td>\n",
              "      <td>999.085</td>\n",
              "      <td>13.0</td>\n",
              "      <td>13.0</td>\n",
              "      <td>-1.4355</td>\n",
              "    </tr>\n",
              "    <tr>\n",
              "      <th>1</th>\n",
              "      <td>active</td>\n",
              "      <td>CHEMBL78946</td>\n",
              "      <td>CC(C)C[C@H](NC(=O)[C@H](CC(N)=O)NC(=O)[C@@H](N...</td>\n",
              "      <td>2.0</td>\n",
              "      <td>893.005</td>\n",
              "      <td>12.0</td>\n",
              "      <td>12.0</td>\n",
              "      <td>-1.7361</td>\n",
              "    </tr>\n",
              "    <tr>\n",
              "      <th>2</th>\n",
              "      <td>active</td>\n",
              "      <td>CHEMBL324109</td>\n",
              "      <td>CCC(C)C[C@H](NC(=O)[C@H](CC(C)C)NC(C)=O)[C@@H]...</td>\n",
              "      <td>460.0</td>\n",
              "      <td>751.988</td>\n",
              "      <td>8.0</td>\n",
              "      <td>9.0</td>\n",
              "      <td>2.3535</td>\n",
              "    </tr>\n",
              "    <tr>\n",
              "      <th>3</th>\n",
              "      <td>min effect</td>\n",
              "      <td>CHEMBL114147</td>\n",
              "      <td>CC(=O)NCC(=O)N[C@@H](Cc1ccccc1)[C@@H](O)CC(=O)...</td>\n",
              "      <td>9000.0</td>\n",
              "      <td>737.895</td>\n",
              "      <td>8.0</td>\n",
              "      <td>8.0</td>\n",
              "      <td>1.9626</td>\n",
              "    </tr>\n",
              "    <tr>\n",
              "      <th>4</th>\n",
              "      <td>min effect</td>\n",
              "      <td>CHEMBL419949</td>\n",
              "      <td>CC(=O)N[C@@H](Cc1ccccc1)C(=O)N[C@@H](Cc1ccccc1...</td>\n",
              "      <td>5600.0</td>\n",
              "      <td>828.020</td>\n",
              "      <td>8.0</td>\n",
              "      <td>8.0</td>\n",
              "      <td>3.5739</td>\n",
              "    </tr>\n",
              "    <tr>\n",
              "      <th>...</th>\n",
              "      <td>...</td>\n",
              "      <td>...</td>\n",
              "      <td>...</td>\n",
              "      <td>...</td>\n",
              "      <td>...</td>\n",
              "      <td>...</td>\n",
              "      <td>...</td>\n",
              "      <td>...</td>\n",
              "    </tr>\n",
              "    <tr>\n",
              "      <th>10037</th>\n",
              "      <td>inactive</td>\n",
              "      <td>CHEMBL4565226</td>\n",
              "      <td>CC(Cc1cc2ccccc2nc1N)C(=O)NC[C@@]12CCCO[C@@H]1C...</td>\n",
              "      <td>34000.0</td>\n",
              "      <td>383.492</td>\n",
              "      <td>2.0</td>\n",
              "      <td>5.0</td>\n",
              "      <td>2.6975</td>\n",
              "    </tr>\n",
              "    <tr>\n",
              "      <th>10038</th>\n",
              "      <td>inactive</td>\n",
              "      <td>CHEMBL4520156</td>\n",
              "      <td>Nc1nc2ccccc2cc1CCC(=O)N1CC[C@H]2OCCC[C@@]2(Cc2...</td>\n",
              "      <td>84000.0</td>\n",
              "      <td>429.564</td>\n",
              "      <td>1.0</td>\n",
              "      <td>4.0</td>\n",
              "      <td>4.3900</td>\n",
              "    </tr>\n",
              "    <tr>\n",
              "      <th>10039</th>\n",
              "      <td>inactive</td>\n",
              "      <td>CHEMBL4585673</td>\n",
              "      <td>Nc1nc2ccccc2cc1CCC(=O)NC[C@@]12CCCO[C@@H]1CCOC2</td>\n",
              "      <td>29000.0</td>\n",
              "      <td>369.465</td>\n",
              "      <td>2.0</td>\n",
              "      <td>5.0</td>\n",
              "      <td>2.4515</td>\n",
              "    </tr>\n",
              "    <tr>\n",
              "      <th>10040</th>\n",
              "      <td>inactive</td>\n",
              "      <td>CHEMBL4546115</td>\n",
              "      <td>COc1ccc2c(c1)[C@@H](O)[C@@]1(CCN(C(=O)CCc3cc4c...</td>\n",
              "      <td>55000.0</td>\n",
              "      <td>417.509</td>\n",
              "      <td>2.0</td>\n",
              "      <td>5.0</td>\n",
              "      <td>3.2666</td>\n",
              "    </tr>\n",
              "    <tr>\n",
              "      <th>10041</th>\n",
              "      <td>inactive</td>\n",
              "      <td>CHEMBL1821813</td>\n",
              "      <td>Nc1nc2ccccc2cc1CCC(=O)NCC1CCCCC1</td>\n",
              "      <td>31000.0</td>\n",
              "      <td>311.429</td>\n",
              "      <td>2.0</td>\n",
              "      <td>3.0</td>\n",
              "      <td>3.4461</td>\n",
              "    </tr>\n",
              "  </tbody>\n",
              "</table>\n",
              "<p>10042 rows × 8 columns</p>\n",
              "</div>"
            ],
            "text/plain": [
              "      bioactivity_class  ...    OWPC\n",
              "0                active  ... -1.4355\n",
              "1                active  ... -1.7361\n",
              "2                active  ...  2.3535\n",
              "3            min effect  ...  1.9626\n",
              "4            min effect  ...  3.5739\n",
              "...                 ...  ...     ...\n",
              "10037          inactive  ...  2.6975\n",
              "10038          inactive  ...  4.3900\n",
              "10039          inactive  ...  2.4515\n",
              "10040          inactive  ...  3.2666\n",
              "10041          inactive  ...  3.4461\n",
              "\n",
              "[10042 rows x 8 columns]"
            ]
          },
          "metadata": {
            "tags": []
          },
          "execution_count": 39
        }
      ]
    },
    {
      "cell_type": "code",
      "metadata": {
        "colab": {
          "base_uri": "https://localhost:8080/",
          "height": 295
        },
        "id": "OkPq7RWxAbX8",
        "outputId": "8400fe72-36ee-48cc-a263-5859e7c8fdbc"
      },
      "source": [
        "df_full.boxplot(column=['standard_value'])"
      ],
      "execution_count": null,
      "outputs": [
        {
          "output_type": "execute_result",
          "data": {
            "text/plain": [
              "<matplotlib.axes._subplots.AxesSubplot at 0x7f6494c134d0>"
            ]
          },
          "metadata": {
            "tags": []
          },
          "execution_count": 40
        },
        {
          "output_type": "display_data",
          "data": {
            "image/png": "[encoded data removed]",
            "text/plain": [
              "<Figure size 432x288 with 1 Axes>"
            ]
          },
          "metadata": {
            "tags": [],
            "needs_background": "light"
          }
        }
      ]
    },
    {
      "cell_type": "markdown",
      "metadata": {
        "id": "XWlkSDWCAikX"
      },
      "source": [
        "\n",
        "We see the standard value (response variable) is highly skewed to the right, with many outliers.\n",
        "\n",
        "To improve our model's ability to predict standard values, we will convert the IC50 values to pIC50 using the formula: `-log(IC50 * 10^-9)`"
      ]
    },
    {
      "cell_type": "code",
      "metadata": {
        "id": "mr6sCGrmAgTm"
      },
      "source": [
        "import pandas as pd\n",
        "df_full = pd.read_csv('lipinski-complete-dataset.csv')"
      ],
      "execution_count": null,
      "outputs": []
    },
    {
      "cell_type": "code",
      "metadata": {
        "colab": {
          "base_uri": "https://localhost:8080/",
          "height": 495
        },
        "id": "F7Hf3NTdAtY4",
        "outputId": "f36ce05b-d593-46b4-d90a-628ee4de36b8"
      },
      "source": [
        "df_full"
      ],
      "execution_count": null,
      "outputs": [
        {
          "output_type": "execute_result",
          "data": {
            "text/html": [
              "<div>\n",
              "<style scoped>\n",
              "    .dataframe tbody tr th:only-of-type {\n",
              "        vertical-align: middle;\n",
              "    }\n",
              "\n",
              "    .dataframe tbody tr th {\n",
              "        vertical-align: top;\n",
              "    }\n",
              "\n",
              "    .dataframe thead th {\n",
              "        text-align: right;\n",
              "    }\n",
              "</style>\n",
              "<table border=\"1\" class=\"dataframe\">\n",
              "  <thead>\n",
              "    <tr style=\"text-align: right;\">\n",
              "      <th></th>\n",
              "      <th>bioactivity_class</th>\n",
              "      <th>molecule_chembl_id</th>\n",
              "      <th>canonical_smiles</th>\n",
              "      <th>standard_value</th>\n",
              "      <th>Molecular Weight</th>\n",
              "      <th>Number of Hydrogen Donors</th>\n",
              "      <th>Number of Hydrogen Acceptors</th>\n",
              "      <th>OWPC</th>\n",
              "      <th>pIC50</th>\n",
              "    </tr>\n",
              "  </thead>\n",
              "  <tbody>\n",
              "    <tr>\n",
              "      <th>0</th>\n",
              "      <td>active</td>\n",
              "      <td>CHEMBL406146</td>\n",
              "      <td>CC(C)C[C@H](NC(=O)[C@@H](NC(=O)[C@@H](N)CCC(=O...</td>\n",
              "      <td>413.0</td>\n",
              "      <td>999.085</td>\n",
              "      <td>13.0</td>\n",
              "      <td>13.0</td>\n",
              "      <td>-1.4355</td>\n",
              "      <td>6.384050</td>\n",
              "    </tr>\n",
              "    <tr>\n",
              "      <th>1</th>\n",
              "      <td>active</td>\n",
              "      <td>CHEMBL78946</td>\n",
              "      <td>CC(C)C[C@H](NC(=O)[C@H](CC(N)=O)NC(=O)[C@@H](N...</td>\n",
              "      <td>2.0</td>\n",
              "      <td>893.005</td>\n",
              "      <td>12.0</td>\n",
              "      <td>12.0</td>\n",
              "      <td>-1.7361</td>\n",
              "      <td>8.698970</td>\n",
              "    </tr>\n",
              "    <tr>\n",
              "      <th>2</th>\n",
              "      <td>active</td>\n",
              "      <td>CHEMBL324109</td>\n",
              "      <td>CCC(C)C[C@H](NC(=O)[C@H](CC(C)C)NC(C)=O)[C@@H]...</td>\n",
              "      <td>460.0</td>\n",
              "      <td>751.988</td>\n",
              "      <td>8.0</td>\n",
              "      <td>9.0</td>\n",
              "      <td>2.3535</td>\n",
              "      <td>6.337242</td>\n",
              "    </tr>\n",
              "    <tr>\n",
              "      <th>3</th>\n",
              "      <td>min effect</td>\n",
              "      <td>CHEMBL114147</td>\n",
              "      <td>CC(=O)NCC(=O)N[C@@H](Cc1ccccc1)[C@@H](O)CC(=O)...</td>\n",
              "      <td>9000.0</td>\n",
              "      <td>737.895</td>\n",
              "      <td>8.0</td>\n",
              "      <td>8.0</td>\n",
              "      <td>1.9626</td>\n",
              "      <td>5.045757</td>\n",
              "    </tr>\n",
              "    <tr>\n",
              "      <th>4</th>\n",
              "      <td>min effect</td>\n",
              "      <td>CHEMBL419949</td>\n",
              "      <td>CC(=O)N[C@@H](Cc1ccccc1)C(=O)N[C@@H](Cc1ccccc1...</td>\n",
              "      <td>5600.0</td>\n",
              "      <td>828.020</td>\n",
              "      <td>8.0</td>\n",
              "      <td>8.0</td>\n",
              "      <td>3.5739</td>\n",
              "      <td>5.251812</td>\n",
              "    </tr>\n",
              "    <tr>\n",
              "      <th>...</th>\n",
              "      <td>...</td>\n",
              "      <td>...</td>\n",
              "      <td>...</td>\n",
              "      <td>...</td>\n",
              "      <td>...</td>\n",
              "      <td>...</td>\n",
              "      <td>...</td>\n",
              "      <td>...</td>\n",
              "      <td>...</td>\n",
              "    </tr>\n",
              "    <tr>\n",
              "      <th>10037</th>\n",
              "      <td>inactive</td>\n",
              "      <td>CHEMBL4565226</td>\n",
              "      <td>CC(Cc1cc2ccccc2nc1N)C(=O)NC[C@@]12CCCO[C@@H]1C...</td>\n",
              "      <td>34000.0</td>\n",
              "      <td>383.492</td>\n",
              "      <td>2.0</td>\n",
              "      <td>5.0</td>\n",
              "      <td>2.6975</td>\n",
              "      <td>4.468521</td>\n",
              "    </tr>\n",
              "    <tr>\n",
              "      <th>10038</th>\n",
              "      <td>inactive</td>\n",
              "      <td>CHEMBL4520156</td>\n",
              "      <td>Nc1nc2ccccc2cc1CCC(=O)N1CC[C@H]2OCCC[C@@]2(Cc2...</td>\n",
              "      <td>84000.0</td>\n",
              "      <td>429.564</td>\n",
              "      <td>1.0</td>\n",
              "      <td>4.0</td>\n",
              "      <td>4.3900</td>\n",
              "      <td>4.075721</td>\n",
              "    </tr>\n",
              "    <tr>\n",
              "      <th>10039</th>\n",
              "      <td>inactive</td>\n",
              "      <td>CHEMBL4585673</td>\n",
              "      <td>Nc1nc2ccccc2cc1CCC(=O)NC[C@@]12CCCO[C@@H]1CCOC2</td>\n",
              "      <td>29000.0</td>\n",
              "      <td>369.465</td>\n",
              "      <td>2.0</td>\n",
              "      <td>5.0</td>\n",
              "      <td>2.4515</td>\n",
              "      <td>4.537602</td>\n",
              "    </tr>\n",
              "    <tr>\n",
              "      <th>10040</th>\n",
              "      <td>inactive</td>\n",
              "      <td>CHEMBL4546115</td>\n",
              "      <td>COc1ccc2c(c1)[C@@H](O)[C@@]1(CCN(C(=O)CCc3cc4c...</td>\n",
              "      <td>55000.0</td>\n",
              "      <td>417.509</td>\n",
              "      <td>2.0</td>\n",
              "      <td>5.0</td>\n",
              "      <td>3.2666</td>\n",
              "      <td>4.259637</td>\n",
              "    </tr>\n",
              "    <tr>\n",
              "      <th>10041</th>\n",
              "      <td>inactive</td>\n",
              "      <td>CHEMBL1821813</td>\n",
              "      <td>Nc1nc2ccccc2cc1CCC(=O)NCC1CCCCC1</td>\n",
              "      <td>31000.0</td>\n",
              "      <td>311.429</td>\n",
              "      <td>2.0</td>\n",
              "      <td>3.0</td>\n",
              "      <td>3.4461</td>\n",
              "      <td>4.508638</td>\n",
              "    </tr>\n",
              "  </tbody>\n",
              "</table>\n",
              "<p>10042 rows × 9 columns</p>\n",
              "</div>"
            ],
            "text/plain": [
              "      bioactivity_class molecule_chembl_id  ...    OWPC     pIC50\n",
              "0                active       CHEMBL406146  ... -1.4355  6.384050\n",
              "1                active        CHEMBL78946  ... -1.7361  8.698970\n",
              "2                active       CHEMBL324109  ...  2.3535  6.337242\n",
              "3            min effect       CHEMBL114147  ...  1.9626  5.045757\n",
              "4            min effect       CHEMBL419949  ...  3.5739  5.251812\n",
              "...                 ...                ...  ...     ...       ...\n",
              "10037          inactive      CHEMBL4565226  ...  2.6975  4.468521\n",
              "10038          inactive      CHEMBL4520156  ...  4.3900  4.075721\n",
              "10039          inactive      CHEMBL4585673  ...  2.4515  4.537602\n",
              "10040          inactive      CHEMBL4546115  ...  3.2666  4.259637\n",
              "10041          inactive      CHEMBL1821813  ...  3.4461  4.508638\n",
              "\n",
              "[10042 rows x 9 columns]"
            ]
          },
          "metadata": {
            "tags": []
          },
          "execution_count": 72
        }
      ]
    },
    {
      "cell_type": "code",
      "metadata": {
        "colab": {
          "base_uri": "https://localhost:8080/"
        },
        "id": "yBIPCyPPBJpD",
        "outputId": "1838bd6d-6f99-4758-8c98-e486072407b8"
      },
      "source": [
        "df_full['standard_value'].describe()"
      ],
      "execution_count": null,
      "outputs": [
        {
          "output_type": "execute_result",
          "data": {
            "text/plain": [
              "count    1.004200e+04\n",
              "mean     3.367766e+04\n",
              "std      9.751722e+05\n",
              "min      2.000000e-04\n",
              "25%      2.600000e+01\n",
              "50%      2.000000e+02\n",
              "75%      2.247038e+03\n",
              "max      8.600000e+07\n",
              "Name: standard_value, dtype: float64"
            ]
          },
          "metadata": {
            "tags": []
          },
          "execution_count": 43
        }
      ]
    },
    {
      "cell_type": "code",
      "metadata": {
        "id": "moX65KIWBMnv"
      },
      "source": [
        "## Setting a cutoff to the standad value will help with interpreting test results. Large IC50 values are already poor \n",
        "## candidates for clinical trials, so capping pIC50 values at 10000000 will our data more uniform without sacrificing \n",
        "## the validity of our conclusions."
      ],
      "execution_count": null,
      "outputs": []
    },
    {
      "cell_type": "code",
      "metadata": {
        "id": "CyB6Yr7DBO_d"
      },
      "source": [
        "import math \n",
        "\n",
        "def standardize_and_conversion(dataset):\n",
        "    store = []\n",
        "    for x in dataset['standard_value']:\n",
        "        ### Setting IC50 value cutoff at 10000000\n",
        "        if x > 1000000:\n",
        "            x = 1000000\n",
        "        \n",
        "        #### Converting IC50 value to molar values \n",
        "        molar_value = x*(10**-9)\n",
        "        insert = -math.log(molar_value,10)\n",
        "        store.append(insert)\n",
        "    return store"
      ],
      "execution_count": null,
      "outputs": []
    },
    {
      "cell_type": "code",
      "metadata": {
        "id": "mC7RW-yxBQnb"
      },
      "source": [
        "setting = standardize_and_conversion(df_full)"
      ],
      "execution_count": null,
      "outputs": []
    },
    {
      "cell_type": "code",
      "metadata": {
        "colab": {
          "base_uri": "https://localhost:8080/",
          "height": 700
        },
        "id": "er4ZrzmEB5Sx",
        "outputId": "79c34ef2-74b4-4ced-9b56-5b22b1e1fe3d"
      },
      "source": [
        "import matplotlib.pyplot as plt\n",
        "\n",
        "plt.figure(figsize=(12,12))\n",
        "plt.boxplot(setting)\n",
        "plt.savefig('pIC50 values(log1000)')"
      ],
      "execution_count": null,
      "outputs": [
        {
          "output_type": "display_data",
          "data": {
            "image/png": "[encoded data removed]",
            "text/plain": [
              "<Figure size 864x864 with 1 Axes>"
            ]
          },
          "metadata": {
            "tags": [],
            "needs_background": "light"
          }
        }
      ]
    },
    {
      "cell_type": "code",
      "metadata": {
        "colab": {
          "base_uri": "https://localhost:8080/"
        },
        "id": "s_xq7_rGCR0W",
        "outputId": "8ea6620e-8e5f-40e9-cbd5-f9dc12bc88f3"
      },
      "source": [
        "setting = pd.Series(setting)\n",
        "setting.describe()"
      ],
      "execution_count": null,
      "outputs": [
        {
          "output_type": "execute_result",
          "data": {
            "text/plain": [
              "count    10042.000000\n",
              "mean         6.580921\n",
              "std          1.335176\n",
              "min          3.000000\n",
              "25%          5.648390\n",
              "50%          6.698970\n",
              "75%          7.585027\n",
              "max         12.698970\n",
              "dtype: float64"
            ]
          },
          "metadata": {
            "tags": []
          },
          "execution_count": 65
        }
      ]
    },
    {
      "cell_type": "code",
      "metadata": {
        "colab": {
          "base_uri": "https://localhost:8080/"
        },
        "id": "y0CDsAwMDgZO",
        "outputId": "d5a143ff-e45b-48b8-b890-bac507e1b95e"
      },
      "source": [
        "q3 = setting.quantile(0.75)\n",
        "q1 = setting.quantile(0.25)\n",
        "\n",
        "iqr = 1.5*(q3 -q1) + q3\n",
        "setting.loc[setting > iqr]"
      ],
      "execution_count": null,
      "outputs": [
        {
          "output_type": "execute_result",
          "data": {
            "text/plain": [
              "4300    10.508638\n",
              "8327    10.958607\n",
              "8328    11.086186\n",
              "8329    11.214670\n",
              "8330    11.244125\n",
              "8331    12.045757\n",
              "8332    12.698970\n",
              "8333    12.045757\n",
              "8334    11.744727\n",
              "8335    12.000000\n",
              "9270    10.619789\n",
              "9271    11.221849\n",
              "9479    10.853872\n",
              "dtype: float64"
            ]
          },
          "metadata": {
            "tags": []
          },
          "execution_count": 66
        }
      ]
    },
    {
      "cell_type": "code",
      "metadata": {
        "id": "ZPiwNhFpDpOg"
      },
      "source": [
        "## Since subset of outliers is small(15), removal of these values will be the best course of action as supposed to fitting \n",
        "## them into the model."
      ],
      "execution_count": null,
      "outputs": []
    },
    {
      "cell_type": "code",
      "metadata": {
        "id": "a3nabidvDrzx"
      },
      "source": [
        "insert_2 = setting[setting <= iqr]\n",
        "df_full['pIC50'] = insert_2"
      ],
      "execution_count": null,
      "outputs": []
    },
    {
      "cell_type": "code",
      "metadata": {
        "colab": {
          "base_uri": "https://localhost:8080/"
        },
        "id": "6WOcW21LDwBt",
        "outputId": "efbb7e55-4851-4638-b6fe-fc0babad8448"
      },
      "source": [
        "df_full.pIC50.isnull().count()"
      ],
      "execution_count": null,
      "outputs": [
        {
          "output_type": "execute_result",
          "data": {
            "text/plain": [
              "10042"
            ]
          },
          "metadata": {
            "tags": []
          },
          "execution_count": 69
        }
      ]
    },
    {
      "cell_type": "code",
      "metadata": {
        "colab": {
          "base_uri": "https://localhost:8080/"
        },
        "id": "ItbWryujDxbF",
        "outputId": "24e38443-9fa6-4f1e-ad60-7562e699787f"
      },
      "source": [
        "insert_2.count()"
      ],
      "execution_count": null,
      "outputs": [
        {
          "output_type": "execute_result",
          "data": {
            "text/plain": [
              "10029"
            ]
          },
          "metadata": {
            "tags": []
          },
          "execution_count": 70
        }
      ]
    },
    {
      "cell_type": "code",
      "metadata": {
        "id": "V3OnVfeTDzC7"
      },
      "source": [
        "df_full.drop(columns=['pIC50'], inplace=True)\n",
        "df_full.insert(8, 'pIC50', insert_2)"
      ],
      "execution_count": null,
      "outputs": []
    },
    {
      "cell_type": "code",
      "metadata": {
        "colab": {
          "base_uri": "https://localhost:8080/",
          "height": 495
        },
        "id": "XzYlZkQgE1mf",
        "outputId": "227579aa-33aa-4de6-d75e-692c7869e530"
      },
      "source": [
        "df_full"
      ],
      "execution_count": null,
      "outputs": [
        {
          "output_type": "execute_result",
          "data": {
            "text/html": [
              "<div>\n",
              "<style scoped>\n",
              "    .dataframe tbody tr th:only-of-type {\n",
              "        vertical-align: middle;\n",
              "    }\n",
              "\n",
              "    .dataframe tbody tr th {\n",
              "        vertical-align: top;\n",
              "    }\n",
              "\n",
              "    .dataframe thead th {\n",
              "        text-align: right;\n",
              "    }\n",
              "</style>\n",
              "<table border=\"1\" class=\"dataframe\">\n",
              "  <thead>\n",
              "    <tr style=\"text-align: right;\">\n",
              "      <th></th>\n",
              "      <th>bioactivity_class</th>\n",
              "      <th>molecule_chembl_id</th>\n",
              "      <th>canonical_smiles</th>\n",
              "      <th>standard_value</th>\n",
              "      <th>Molecular Weight</th>\n",
              "      <th>Number of Hydrogen Donors</th>\n",
              "      <th>Number of Hydrogen Acceptors</th>\n",
              "      <th>OWPC</th>\n",
              "      <th>pIC50</th>\n",
              "    </tr>\n",
              "  </thead>\n",
              "  <tbody>\n",
              "    <tr>\n",
              "      <th>0</th>\n",
              "      <td>active</td>\n",
              "      <td>CHEMBL406146</td>\n",
              "      <td>CC(C)C[C@H](NC(=O)[C@@H](NC(=O)[C@@H](N)CCC(=O...</td>\n",
              "      <td>413.0</td>\n",
              "      <td>999.085</td>\n",
              "      <td>13.0</td>\n",
              "      <td>13.0</td>\n",
              "      <td>-1.4355</td>\n",
              "      <td>6.384050</td>\n",
              "    </tr>\n",
              "    <tr>\n",
              "      <th>1</th>\n",
              "      <td>active</td>\n",
              "      <td>CHEMBL78946</td>\n",
              "      <td>CC(C)C[C@H](NC(=O)[C@H](CC(N)=O)NC(=O)[C@@H](N...</td>\n",
              "      <td>2.0</td>\n",
              "      <td>893.005</td>\n",
              "      <td>12.0</td>\n",
              "      <td>12.0</td>\n",
              "      <td>-1.7361</td>\n",
              "      <td>8.698970</td>\n",
              "    </tr>\n",
              "    <tr>\n",
              "      <th>2</th>\n",
              "      <td>active</td>\n",
              "      <td>CHEMBL324109</td>\n",
              "      <td>CCC(C)C[C@H](NC(=O)[C@H](CC(C)C)NC(C)=O)[C@@H]...</td>\n",
              "      <td>460.0</td>\n",
              "      <td>751.988</td>\n",
              "      <td>8.0</td>\n",
              "      <td>9.0</td>\n",
              "      <td>2.3535</td>\n",
              "      <td>6.337242</td>\n",
              "    </tr>\n",
              "    <tr>\n",
              "      <th>3</th>\n",
              "      <td>min effect</td>\n",
              "      <td>CHEMBL114147</td>\n",
              "      <td>CC(=O)NCC(=O)N[C@@H](Cc1ccccc1)[C@@H](O)CC(=O)...</td>\n",
              "      <td>9000.0</td>\n",
              "      <td>737.895</td>\n",
              "      <td>8.0</td>\n",
              "      <td>8.0</td>\n",
              "      <td>1.9626</td>\n",
              "      <td>5.045757</td>\n",
              "    </tr>\n",
              "    <tr>\n",
              "      <th>4</th>\n",
              "      <td>min effect</td>\n",
              "      <td>CHEMBL419949</td>\n",
              "      <td>CC(=O)N[C@@H](Cc1ccccc1)C(=O)N[C@@H](Cc1ccccc1...</td>\n",
              "      <td>5600.0</td>\n",
              "      <td>828.020</td>\n",
              "      <td>8.0</td>\n",
              "      <td>8.0</td>\n",
              "      <td>3.5739</td>\n",
              "      <td>5.251812</td>\n",
              "    </tr>\n",
              "    <tr>\n",
              "      <th>...</th>\n",
              "      <td>...</td>\n",
              "      <td>...</td>\n",
              "      <td>...</td>\n",
              "      <td>...</td>\n",
              "      <td>...</td>\n",
              "      <td>...</td>\n",
              "      <td>...</td>\n",
              "      <td>...</td>\n",
              "      <td>...</td>\n",
              "    </tr>\n",
              "    <tr>\n",
              "      <th>10037</th>\n",
              "      <td>inactive</td>\n",
              "      <td>CHEMBL4565226</td>\n",
              "      <td>CC(Cc1cc2ccccc2nc1N)C(=O)NC[C@@]12CCCO[C@@H]1C...</td>\n",
              "      <td>34000.0</td>\n",
              "      <td>383.492</td>\n",
              "      <td>2.0</td>\n",
              "      <td>5.0</td>\n",
              "      <td>2.6975</td>\n",
              "      <td>4.468521</td>\n",
              "    </tr>\n",
              "    <tr>\n",
              "      <th>10038</th>\n",
              "      <td>inactive</td>\n",
              "      <td>CHEMBL4520156</td>\n",
              "      <td>Nc1nc2ccccc2cc1CCC(=O)N1CC[C@H]2OCCC[C@@]2(Cc2...</td>\n",
              "      <td>84000.0</td>\n",
              "      <td>429.564</td>\n",
              "      <td>1.0</td>\n",
              "      <td>4.0</td>\n",
              "      <td>4.3900</td>\n",
              "      <td>4.075721</td>\n",
              "    </tr>\n",
              "    <tr>\n",
              "      <th>10039</th>\n",
              "      <td>inactive</td>\n",
              "      <td>CHEMBL4585673</td>\n",
              "      <td>Nc1nc2ccccc2cc1CCC(=O)NC[C@@]12CCCO[C@@H]1CCOC2</td>\n",
              "      <td>29000.0</td>\n",
              "      <td>369.465</td>\n",
              "      <td>2.0</td>\n",
              "      <td>5.0</td>\n",
              "      <td>2.4515</td>\n",
              "      <td>4.537602</td>\n",
              "    </tr>\n",
              "    <tr>\n",
              "      <th>10040</th>\n",
              "      <td>inactive</td>\n",
              "      <td>CHEMBL4546115</td>\n",
              "      <td>COc1ccc2c(c1)[C@@H](O)[C@@]1(CCN(C(=O)CCc3cc4c...</td>\n",
              "      <td>55000.0</td>\n",
              "      <td>417.509</td>\n",
              "      <td>2.0</td>\n",
              "      <td>5.0</td>\n",
              "      <td>3.2666</td>\n",
              "      <td>4.259637</td>\n",
              "    </tr>\n",
              "    <tr>\n",
              "      <th>10041</th>\n",
              "      <td>inactive</td>\n",
              "      <td>CHEMBL1821813</td>\n",
              "      <td>Nc1nc2ccccc2cc1CCC(=O)NCC1CCCCC1</td>\n",
              "      <td>31000.0</td>\n",
              "      <td>311.429</td>\n",
              "      <td>2.0</td>\n",
              "      <td>3.0</td>\n",
              "      <td>3.4461</td>\n",
              "      <td>4.508638</td>\n",
              "    </tr>\n",
              "  </tbody>\n",
              "</table>\n",
              "<p>10042 rows × 9 columns</p>\n",
              "</div>"
            ],
            "text/plain": [
              "      bioactivity_class molecule_chembl_id  ...    OWPC     pIC50\n",
              "0                active       CHEMBL406146  ... -1.4355  6.384050\n",
              "1                active        CHEMBL78946  ... -1.7361  8.698970\n",
              "2                active       CHEMBL324109  ...  2.3535  6.337242\n",
              "3            min effect       CHEMBL114147  ...  1.9626  5.045757\n",
              "4            min effect       CHEMBL419949  ...  3.5739  5.251812\n",
              "...                 ...                ...  ...     ...       ...\n",
              "10037          inactive      CHEMBL4565226  ...  2.6975  4.468521\n",
              "10038          inactive      CHEMBL4520156  ...  4.3900  4.075721\n",
              "10039          inactive      CHEMBL4585673  ...  2.4515  4.537602\n",
              "10040          inactive      CHEMBL4546115  ...  3.2666  4.259637\n",
              "10041          inactive      CHEMBL1821813  ...  3.4461  4.508638\n",
              "\n",
              "[10042 rows x 9 columns]"
            ]
          },
          "metadata": {
            "tags": []
          },
          "execution_count": 78
        }
      ]
    },
    {
      "cell_type": "code",
      "metadata": {
        "colab": {
          "base_uri": "https://localhost:8080/"
        },
        "id": "0lSXx8zpFAAN",
        "outputId": "827a9284-0688-40fe-9f13-79d73ea96a0c"
      },
      "source": [
        "df_full.pIC50.describe()"
      ],
      "execution_count": null,
      "outputs": [
        {
          "output_type": "execute_result",
          "data": {
            "text/plain": [
              "count    10029.000000\n",
              "mean         6.574670\n",
              "std          1.324505\n",
              "min          3.000000\n",
              "25%          5.647817\n",
              "50%          6.698970\n",
              "75%          7.585027\n",
              "max         10.481486\n",
              "Name: pIC50, dtype: float64"
            ]
          },
          "metadata": {
            "tags": []
          },
          "execution_count": 79
        }
      ]
    },
    {
      "cell_type": "code",
      "metadata": {
        "colab": {
          "base_uri": "https://localhost:8080/"
        },
        "id": "slp_pxoXFK4P",
        "outputId": "74cea48a-2ad4-405f-aaee-032513b89e73"
      },
      "source": [
        "q3 = df_full['pIC50'].quantile(0.75)\n",
        "q1 = df_full['pIC50'].quantile(0.25)\n",
        "\n",
        "iqr = 1.5*(q3 -q1) + q3\n",
        "df_full['pIC50'].loc[df_full['pIC50'] > iqr]"
      ],
      "execution_count": null,
      "outputs": [
        {
          "output_type": "execute_result",
          "data": {
            "text/plain": [
              "Series([], Name: pIC50, dtype: float64)"
            ]
          },
          "metadata": {
            "tags": []
          },
          "execution_count": 80
        }
      ]
    },
    {
      "cell_type": "code",
      "metadata": {
        "colab": {
          "base_uri": "https://localhost:8080/",
          "height": 283
        },
        "id": "bQAqAnCVFNoH",
        "outputId": "5f8fc116-b1f2-431d-e742-b6b6ddf3226e"
      },
      "source": [
        "df_full.boxplot(column='pIC50') ## All outliers have been removed"
      ],
      "execution_count": null,
      "outputs": [
        {
          "output_type": "execute_result",
          "data": {
            "text/plain": [
              "<matplotlib.axes._subplots.AxesSubplot at 0x7f6494707e50>"
            ]
          },
          "metadata": {
            "tags": []
          },
          "execution_count": 81
        },
        {
          "output_type": "display_data",
          "data": {
            "image/png": "[encoded data removed]",
            "text/plain": [
              "<Figure size 432x288 with 1 Axes>"
            ]
          },
          "metadata": {
            "tags": [],
            "needs_background": "light"
          }
        }
      ]
    },
    {
      "cell_type": "code",
      "metadata": {
        "id": "VvHYvL2DFPma"
      },
      "source": [
        "## Remove rows that are missing a pIC50 value \n",
        "df_full.dropna(inplace=True) ## Datset is now without any outliers in the response variable"
      ],
      "execution_count": null,
      "outputs": []
    },
    {
      "cell_type": "code",
      "metadata": {
        "colab": {
          "base_uri": "https://localhost:8080/",
          "height": 495
        },
        "id": "4e3uDz6sFSBH",
        "outputId": "5cc2cad9-d333-492c-a828-62af25f648a0"
      },
      "source": [
        "df_full.drop(columns='standard_value', inplace=True)\n",
        "df_full"
      ],
      "execution_count": null,
      "outputs": [
        {
          "output_type": "execute_result",
          "data": {
            "text/html": [
              "<div>\n",
              "<style scoped>\n",
              "    .dataframe tbody tr th:only-of-type {\n",
              "        vertical-align: middle;\n",
              "    }\n",
              "\n",
              "    .dataframe tbody tr th {\n",
              "        vertical-align: top;\n",
              "    }\n",
              "\n",
              "    .dataframe thead th {\n",
              "        text-align: right;\n",
              "    }\n",
              "</style>\n",
              "<table border=\"1\" class=\"dataframe\">\n",
              "  <thead>\n",
              "    <tr style=\"text-align: right;\">\n",
              "      <th></th>\n",
              "      <th>bioactivity_class</th>\n",
              "      <th>molecule_chembl_id</th>\n",
              "      <th>canonical_smiles</th>\n",
              "      <th>Molecular Weight</th>\n",
              "      <th>Number of Hydrogen Donors</th>\n",
              "      <th>Number of Hydrogen Acceptors</th>\n",
              "      <th>OWPC</th>\n",
              "      <th>pIC50</th>\n",
              "    </tr>\n",
              "  </thead>\n",
              "  <tbody>\n",
              "    <tr>\n",
              "      <th>0</th>\n",
              "      <td>active</td>\n",
              "      <td>CHEMBL406146</td>\n",
              "      <td>CC(C)C[C@H](NC(=O)[C@@H](NC(=O)[C@@H](N)CCC(=O...</td>\n",
              "      <td>999.085</td>\n",
              "      <td>13.0</td>\n",
              "      <td>13.0</td>\n",
              "      <td>-1.4355</td>\n",
              "      <td>6.384050</td>\n",
              "    </tr>\n",
              "    <tr>\n",
              "      <th>1</th>\n",
              "      <td>active</td>\n",
              "      <td>CHEMBL78946</td>\n",
              "      <td>CC(C)C[C@H](NC(=O)[C@H](CC(N)=O)NC(=O)[C@@H](N...</td>\n",
              "      <td>893.005</td>\n",
              "      <td>12.0</td>\n",
              "      <td>12.0</td>\n",
              "      <td>-1.7361</td>\n",
              "      <td>8.698970</td>\n",
              "    </tr>\n",
              "    <tr>\n",
              "      <th>2</th>\n",
              "      <td>active</td>\n",
              "      <td>CHEMBL324109</td>\n",
              "      <td>CCC(C)C[C@H](NC(=O)[C@H](CC(C)C)NC(C)=O)[C@@H]...</td>\n",
              "      <td>751.988</td>\n",
              "      <td>8.0</td>\n",
              "      <td>9.0</td>\n",
              "      <td>2.3535</td>\n",
              "      <td>6.337242</td>\n",
              "    </tr>\n",
              "    <tr>\n",
              "      <th>3</th>\n",
              "      <td>min effect</td>\n",
              "      <td>CHEMBL114147</td>\n",
              "      <td>CC(=O)NCC(=O)N[C@@H](Cc1ccccc1)[C@@H](O)CC(=O)...</td>\n",
              "      <td>737.895</td>\n",
              "      <td>8.0</td>\n",
              "      <td>8.0</td>\n",
              "      <td>1.9626</td>\n",
              "      <td>5.045757</td>\n",
              "    </tr>\n",
              "    <tr>\n",
              "      <th>4</th>\n",
              "      <td>min effect</td>\n",
              "      <td>CHEMBL419949</td>\n",
              "      <td>CC(=O)N[C@@H](Cc1ccccc1)C(=O)N[C@@H](Cc1ccccc1...</td>\n",
              "      <td>828.020</td>\n",
              "      <td>8.0</td>\n",
              "      <td>8.0</td>\n",
              "      <td>3.5739</td>\n",
              "      <td>5.251812</td>\n",
              "    </tr>\n",
              "    <tr>\n",
              "      <th>...</th>\n",
              "      <td>...</td>\n",
              "      <td>...</td>\n",
              "      <td>...</td>\n",
              "      <td>...</td>\n",
              "      <td>...</td>\n",
              "      <td>...</td>\n",
              "      <td>...</td>\n",
              "      <td>...</td>\n",
              "    </tr>\n",
              "    <tr>\n",
              "      <th>10037</th>\n",
              "      <td>inactive</td>\n",
              "      <td>CHEMBL4565226</td>\n",
              "      <td>CC(Cc1cc2ccccc2nc1N)C(=O)NC[C@@]12CCCO[C@@H]1C...</td>\n",
              "      <td>383.492</td>\n",
              "      <td>2.0</td>\n",
              "      <td>5.0</td>\n",
              "      <td>2.6975</td>\n",
              "      <td>4.468521</td>\n",
              "    </tr>\n",
              "    <tr>\n",
              "      <th>10038</th>\n",
              "      <td>inactive</td>\n",
              "      <td>CHEMBL4520156</td>\n",
              "      <td>Nc1nc2ccccc2cc1CCC(=O)N1CC[C@H]2OCCC[C@@]2(Cc2...</td>\n",
              "      <td>429.564</td>\n",
              "      <td>1.0</td>\n",
              "      <td>4.0</td>\n",
              "      <td>4.3900</td>\n",
              "      <td>4.075721</td>\n",
              "    </tr>\n",
              "    <tr>\n",
              "      <th>10039</th>\n",
              "      <td>inactive</td>\n",
              "      <td>CHEMBL4585673</td>\n",
              "      <td>Nc1nc2ccccc2cc1CCC(=O)NC[C@@]12CCCO[C@@H]1CCOC2</td>\n",
              "      <td>369.465</td>\n",
              "      <td>2.0</td>\n",
              "      <td>5.0</td>\n",
              "      <td>2.4515</td>\n",
              "      <td>4.537602</td>\n",
              "    </tr>\n",
              "    <tr>\n",
              "      <th>10040</th>\n",
              "      <td>inactive</td>\n",
              "      <td>CHEMBL4546115</td>\n",
              "      <td>COc1ccc2c(c1)[C@@H](O)[C@@]1(CCN(C(=O)CCc3cc4c...</td>\n",
              "      <td>417.509</td>\n",
              "      <td>2.0</td>\n",
              "      <td>5.0</td>\n",
              "      <td>3.2666</td>\n",
              "      <td>4.259637</td>\n",
              "    </tr>\n",
              "    <tr>\n",
              "      <th>10041</th>\n",
              "      <td>inactive</td>\n",
              "      <td>CHEMBL1821813</td>\n",
              "      <td>Nc1nc2ccccc2cc1CCC(=O)NCC1CCCCC1</td>\n",
              "      <td>311.429</td>\n",
              "      <td>2.0</td>\n",
              "      <td>3.0</td>\n",
              "      <td>3.4461</td>\n",
              "      <td>4.508638</td>\n",
              "    </tr>\n",
              "  </tbody>\n",
              "</table>\n",
              "<p>10029 rows × 8 columns</p>\n",
              "</div>"
            ],
            "text/plain": [
              "      bioactivity_class molecule_chembl_id  ...    OWPC     pIC50\n",
              "0                active       CHEMBL406146  ... -1.4355  6.384050\n",
              "1                active        CHEMBL78946  ... -1.7361  8.698970\n",
              "2                active       CHEMBL324109  ...  2.3535  6.337242\n",
              "3            min effect       CHEMBL114147  ...  1.9626  5.045757\n",
              "4            min effect       CHEMBL419949  ...  3.5739  5.251812\n",
              "...                 ...                ...  ...     ...       ...\n",
              "10037          inactive      CHEMBL4565226  ...  2.6975  4.468521\n",
              "10038          inactive      CHEMBL4520156  ...  4.3900  4.075721\n",
              "10039          inactive      CHEMBL4585673  ...  2.4515  4.537602\n",
              "10040          inactive      CHEMBL4546115  ...  3.2666  4.259637\n",
              "10041          inactive      CHEMBL1821813  ...  3.4461  4.508638\n",
              "\n",
              "[10029 rows x 8 columns]"
            ]
          },
          "metadata": {
            "tags": []
          },
          "execution_count": 84
        }
      ]
    },
    {
      "cell_type": "code",
      "metadata": {
        "id": "R5X0NHwaFYQm"
      },
      "source": [
        "df_full.to_csv('data-no-outliers.csv')"
      ],
      "execution_count": null,
      "outputs": []
    },
    {
      "cell_type": "code",
      "metadata": {
        "id": "scrIbr9_FhsY"
      },
      "source": [
        "import pandas as pd\n",
        "df_full = pd.read_csv('data-no-outliers.csv')"
      ],
      "execution_count": null,
      "outputs": []
    },
    {
      "cell_type": "code",
      "metadata": {
        "colab": {
          "base_uri": "https://localhost:8080/",
          "height": 495
        },
        "id": "vLrFUIxdFjve",
        "outputId": "ae388855-d9f4-43a2-d567-6ee8eec6ddc8"
      },
      "source": [
        "df_full"
      ],
      "execution_count": null,
      "outputs": [
        {
          "output_type": "execute_result",
          "data": {
            "text/html": [
              "<div>\n",
              "<style scoped>\n",
              "    .dataframe tbody tr th:only-of-type {\n",
              "        vertical-align: middle;\n",
              "    }\n",
              "\n",
              "    .dataframe tbody tr th {\n",
              "        vertical-align: top;\n",
              "    }\n",
              "\n",
              "    .dataframe thead th {\n",
              "        text-align: right;\n",
              "    }\n",
              "</style>\n",
              "<table border=\"1\" class=\"dataframe\">\n",
              "  <thead>\n",
              "    <tr style=\"text-align: right;\">\n",
              "      <th></th>\n",
              "      <th>Unnamed: 0</th>\n",
              "      <th>bioactivity_class</th>\n",
              "      <th>molecule_chembl_id</th>\n",
              "      <th>canonical_smiles</th>\n",
              "      <th>Molecular Weight</th>\n",
              "      <th>Number of Hydrogen Donors</th>\n",
              "      <th>Number of Hydrogen Acceptors</th>\n",
              "      <th>OWPC</th>\n",
              "      <th>pIC50</th>\n",
              "    </tr>\n",
              "  </thead>\n",
              "  <tbody>\n",
              "    <tr>\n",
              "      <th>0</th>\n",
              "      <td>0</td>\n",
              "      <td>active</td>\n",
              "      <td>CHEMBL406146</td>\n",
              "      <td>CC(C)C[C@H](NC(=O)[C@@H](NC(=O)[C@@H](N)CCC(=O...</td>\n",
              "      <td>999.085</td>\n",
              "      <td>13.0</td>\n",
              "      <td>13.0</td>\n",
              "      <td>-1.4355</td>\n",
              "      <td>6.384050</td>\n",
              "    </tr>\n",
              "    <tr>\n",
              "      <th>1</th>\n",
              "      <td>1</td>\n",
              "      <td>active</td>\n",
              "      <td>CHEMBL78946</td>\n",
              "      <td>CC(C)C[C@H](NC(=O)[C@H](CC(N)=O)NC(=O)[C@@H](N...</td>\n",
              "      <td>893.005</td>\n",
              "      <td>12.0</td>\n",
              "      <td>12.0</td>\n",
              "      <td>-1.7361</td>\n",
              "      <td>8.698970</td>\n",
              "    </tr>\n",
              "    <tr>\n",
              "      <th>2</th>\n",
              "      <td>2</td>\n",
              "      <td>active</td>\n",
              "      <td>CHEMBL324109</td>\n",
              "      <td>CCC(C)C[C@H](NC(=O)[C@H](CC(C)C)NC(C)=O)[C@@H]...</td>\n",
              "      <td>751.988</td>\n",
              "      <td>8.0</td>\n",
              "      <td>9.0</td>\n",
              "      <td>2.3535</td>\n",
              "      <td>6.337242</td>\n",
              "    </tr>\n",
              "    <tr>\n",
              "      <th>3</th>\n",
              "      <td>3</td>\n",
              "      <td>min effect</td>\n",
              "      <td>CHEMBL114147</td>\n",
              "      <td>CC(=O)NCC(=O)N[C@@H](Cc1ccccc1)[C@@H](O)CC(=O)...</td>\n",
              "      <td>737.895</td>\n",
              "      <td>8.0</td>\n",
              "      <td>8.0</td>\n",
              "      <td>1.9626</td>\n",
              "      <td>5.045757</td>\n",
              "    </tr>\n",
              "    <tr>\n",
              "      <th>4</th>\n",
              "      <td>4</td>\n",
              "      <td>min effect</td>\n",
              "      <td>CHEMBL419949</td>\n",
              "      <td>CC(=O)N[C@@H](Cc1ccccc1)C(=O)N[C@@H](Cc1ccccc1...</td>\n",
              "      <td>828.020</td>\n",
              "      <td>8.0</td>\n",
              "      <td>8.0</td>\n",
              "      <td>3.5739</td>\n",
              "      <td>5.251812</td>\n",
              "    </tr>\n",
              "    <tr>\n",
              "      <th>...</th>\n",
              "      <td>...</td>\n",
              "      <td>...</td>\n",
              "      <td>...</td>\n",
              "      <td>...</td>\n",
              "      <td>...</td>\n",
              "      <td>...</td>\n",
              "      <td>...</td>\n",
              "      <td>...</td>\n",
              "      <td>...</td>\n",
              "    </tr>\n",
              "    <tr>\n",
              "      <th>10024</th>\n",
              "      <td>10037</td>\n",
              "      <td>inactive</td>\n",
              "      <td>CHEMBL4565226</td>\n",
              "      <td>CC(Cc1cc2ccccc2nc1N)C(=O)NC[C@@]12CCCO[C@@H]1C...</td>\n",
              "      <td>383.492</td>\n",
              "      <td>2.0</td>\n",
              "      <td>5.0</td>\n",
              "      <td>2.6975</td>\n",
              "      <td>4.468521</td>\n",
              "    </tr>\n",
              "    <tr>\n",
              "      <th>10025</th>\n",
              "      <td>10038</td>\n",
              "      <td>inactive</td>\n",
              "      <td>CHEMBL4520156</td>\n",
              "      <td>Nc1nc2ccccc2cc1CCC(=O)N1CC[C@H]2OCCC[C@@]2(Cc2...</td>\n",
              "      <td>429.564</td>\n",
              "      <td>1.0</td>\n",
              "      <td>4.0</td>\n",
              "      <td>4.3900</td>\n",
              "      <td>4.075721</td>\n",
              "    </tr>\n",
              "    <tr>\n",
              "      <th>10026</th>\n",
              "      <td>10039</td>\n",
              "      <td>inactive</td>\n",
              "      <td>CHEMBL4585673</td>\n",
              "      <td>Nc1nc2ccccc2cc1CCC(=O)NC[C@@]12CCCO[C@@H]1CCOC2</td>\n",
              "      <td>369.465</td>\n",
              "      <td>2.0</td>\n",
              "      <td>5.0</td>\n",
              "      <td>2.4515</td>\n",
              "      <td>4.537602</td>\n",
              "    </tr>\n",
              "    <tr>\n",
              "      <th>10027</th>\n",
              "      <td>10040</td>\n",
              "      <td>inactive</td>\n",
              "      <td>CHEMBL4546115</td>\n",
              "      <td>COc1ccc2c(c1)[C@@H](O)[C@@]1(CCN(C(=O)CCc3cc4c...</td>\n",
              "      <td>417.509</td>\n",
              "      <td>2.0</td>\n",
              "      <td>5.0</td>\n",
              "      <td>3.2666</td>\n",
              "      <td>4.259637</td>\n",
              "    </tr>\n",
              "    <tr>\n",
              "      <th>10028</th>\n",
              "      <td>10041</td>\n",
              "      <td>inactive</td>\n",
              "      <td>CHEMBL1821813</td>\n",
              "      <td>Nc1nc2ccccc2cc1CCC(=O)NCC1CCCCC1</td>\n",
              "      <td>311.429</td>\n",
              "      <td>2.0</td>\n",
              "      <td>3.0</td>\n",
              "      <td>3.4461</td>\n",
              "      <td>4.508638</td>\n",
              "    </tr>\n",
              "  </tbody>\n",
              "</table>\n",
              "<p>10029 rows × 9 columns</p>\n",
              "</div>"
            ],
            "text/plain": [
              "       Unnamed: 0 bioactivity_class  ...    OWPC     pIC50\n",
              "0               0            active  ... -1.4355  6.384050\n",
              "1               1            active  ... -1.7361  8.698970\n",
              "2               2            active  ...  2.3535  6.337242\n",
              "3               3        min effect  ...  1.9626  5.045757\n",
              "4               4        min effect  ...  3.5739  5.251812\n",
              "...           ...               ...  ...     ...       ...\n",
              "10024       10037          inactive  ...  2.6975  4.468521\n",
              "10025       10038          inactive  ...  4.3900  4.075721\n",
              "10026       10039          inactive  ...  2.4515  4.537602\n",
              "10027       10040          inactive  ...  3.2666  4.259637\n",
              "10028       10041          inactive  ...  3.4461  4.508638\n",
              "\n",
              "[10029 rows x 9 columns]"
            ]
          },
          "metadata": {
            "tags": []
          },
          "execution_count": 87
        }
      ]
    },
    {
      "cell_type": "code",
      "metadata": {
        "colab": {
          "base_uri": "https://localhost:8080/",
          "height": 495
        },
        "id": "25oLYBgWFl7d",
        "outputId": "0c5edbbb-c1fa-4d1f-e64c-5b23962c469a"
      },
      "source": [
        "df_full.dropna(inplace=True)\n",
        "df_full"
      ],
      "execution_count": null,
      "outputs": [
        {
          "output_type": "execute_result",
          "data": {
            "text/html": [
              "<div>\n",
              "<style scoped>\n",
              "    .dataframe tbody tr th:only-of-type {\n",
              "        vertical-align: middle;\n",
              "    }\n",
              "\n",
              "    .dataframe tbody tr th {\n",
              "        vertical-align: top;\n",
              "    }\n",
              "\n",
              "    .dataframe thead th {\n",
              "        text-align: right;\n",
              "    }\n",
              "</style>\n",
              "<table border=\"1\" class=\"dataframe\">\n",
              "  <thead>\n",
              "    <tr style=\"text-align: right;\">\n",
              "      <th></th>\n",
              "      <th>Unnamed: 0</th>\n",
              "      <th>bioactivity_class</th>\n",
              "      <th>molecule_chembl_id</th>\n",
              "      <th>canonical_smiles</th>\n",
              "      <th>Molecular Weight</th>\n",
              "      <th>Number of Hydrogen Donors</th>\n",
              "      <th>Number of Hydrogen Acceptors</th>\n",
              "      <th>OWPC</th>\n",
              "      <th>pIC50</th>\n",
              "    </tr>\n",
              "  </thead>\n",
              "  <tbody>\n",
              "    <tr>\n",
              "      <th>0</th>\n",
              "      <td>0</td>\n",
              "      <td>active</td>\n",
              "      <td>CHEMBL406146</td>\n",
              "      <td>CC(C)C[C@H](NC(=O)[C@@H](NC(=O)[C@@H](N)CCC(=O...</td>\n",
              "      <td>999.085</td>\n",
              "      <td>13.0</td>\n",
              "      <td>13.0</td>\n",
              "      <td>-1.4355</td>\n",
              "      <td>6.384050</td>\n",
              "    </tr>\n",
              "    <tr>\n",
              "      <th>1</th>\n",
              "      <td>1</td>\n",
              "      <td>active</td>\n",
              "      <td>CHEMBL78946</td>\n",
              "      <td>CC(C)C[C@H](NC(=O)[C@H](CC(N)=O)NC(=O)[C@@H](N...</td>\n",
              "      <td>893.005</td>\n",
              "      <td>12.0</td>\n",
              "      <td>12.0</td>\n",
              "      <td>-1.7361</td>\n",
              "      <td>8.698970</td>\n",
              "    </tr>\n",
              "    <tr>\n",
              "      <th>2</th>\n",
              "      <td>2</td>\n",
              "      <td>active</td>\n",
              "      <td>CHEMBL324109</td>\n",
              "      <td>CCC(C)C[C@H](NC(=O)[C@H](CC(C)C)NC(C)=O)[C@@H]...</td>\n",
              "      <td>751.988</td>\n",
              "      <td>8.0</td>\n",
              "      <td>9.0</td>\n",
              "      <td>2.3535</td>\n",
              "      <td>6.337242</td>\n",
              "    </tr>\n",
              "    <tr>\n",
              "      <th>3</th>\n",
              "      <td>3</td>\n",
              "      <td>min effect</td>\n",
              "      <td>CHEMBL114147</td>\n",
              "      <td>CC(=O)NCC(=O)N[C@@H](Cc1ccccc1)[C@@H](O)CC(=O)...</td>\n",
              "      <td>737.895</td>\n",
              "      <td>8.0</td>\n",
              "      <td>8.0</td>\n",
              "      <td>1.9626</td>\n",
              "      <td>5.045757</td>\n",
              "    </tr>\n",
              "    <tr>\n",
              "      <th>4</th>\n",
              "      <td>4</td>\n",
              "      <td>min effect</td>\n",
              "      <td>CHEMBL419949</td>\n",
              "      <td>CC(=O)N[C@@H](Cc1ccccc1)C(=O)N[C@@H](Cc1ccccc1...</td>\n",
              "      <td>828.020</td>\n",
              "      <td>8.0</td>\n",
              "      <td>8.0</td>\n",
              "      <td>3.5739</td>\n",
              "      <td>5.251812</td>\n",
              "    </tr>\n",
              "    <tr>\n",
              "      <th>...</th>\n",
              "      <td>...</td>\n",
              "      <td>...</td>\n",
              "      <td>...</td>\n",
              "      <td>...</td>\n",
              "      <td>...</td>\n",
              "      <td>...</td>\n",
              "      <td>...</td>\n",
              "      <td>...</td>\n",
              "      <td>...</td>\n",
              "    </tr>\n",
              "    <tr>\n",
              "      <th>10024</th>\n",
              "      <td>10037</td>\n",
              "      <td>inactive</td>\n",
              "      <td>CHEMBL4565226</td>\n",
              "      <td>CC(Cc1cc2ccccc2nc1N)C(=O)NC[C@@]12CCCO[C@@H]1C...</td>\n",
              "      <td>383.492</td>\n",
              "      <td>2.0</td>\n",
              "      <td>5.0</td>\n",
              "      <td>2.6975</td>\n",
              "      <td>4.468521</td>\n",
              "    </tr>\n",
              "    <tr>\n",
              "      <th>10025</th>\n",
              "      <td>10038</td>\n",
              "      <td>inactive</td>\n",
              "      <td>CHEMBL4520156</td>\n",
              "      <td>Nc1nc2ccccc2cc1CCC(=O)N1CC[C@H]2OCCC[C@@]2(Cc2...</td>\n",
              "      <td>429.564</td>\n",
              "      <td>1.0</td>\n",
              "      <td>4.0</td>\n",
              "      <td>4.3900</td>\n",
              "      <td>4.075721</td>\n",
              "    </tr>\n",
              "    <tr>\n",
              "      <th>10026</th>\n",
              "      <td>10039</td>\n",
              "      <td>inactive</td>\n",
              "      <td>CHEMBL4585673</td>\n",
              "      <td>Nc1nc2ccccc2cc1CCC(=O)NC[C@@]12CCCO[C@@H]1CCOC2</td>\n",
              "      <td>369.465</td>\n",
              "      <td>2.0</td>\n",
              "      <td>5.0</td>\n",
              "      <td>2.4515</td>\n",
              "      <td>4.537602</td>\n",
              "    </tr>\n",
              "    <tr>\n",
              "      <th>10027</th>\n",
              "      <td>10040</td>\n",
              "      <td>inactive</td>\n",
              "      <td>CHEMBL4546115</td>\n",
              "      <td>COc1ccc2c(c1)[C@@H](O)[C@@]1(CCN(C(=O)CCc3cc4c...</td>\n",
              "      <td>417.509</td>\n",
              "      <td>2.0</td>\n",
              "      <td>5.0</td>\n",
              "      <td>3.2666</td>\n",
              "      <td>4.259637</td>\n",
              "    </tr>\n",
              "    <tr>\n",
              "      <th>10028</th>\n",
              "      <td>10041</td>\n",
              "      <td>inactive</td>\n",
              "      <td>CHEMBL1821813</td>\n",
              "      <td>Nc1nc2ccccc2cc1CCC(=O)NCC1CCCCC1</td>\n",
              "      <td>311.429</td>\n",
              "      <td>2.0</td>\n",
              "      <td>3.0</td>\n",
              "      <td>3.4461</td>\n",
              "      <td>4.508638</td>\n",
              "    </tr>\n",
              "  </tbody>\n",
              "</table>\n",
              "<p>10029 rows × 9 columns</p>\n",
              "</div>"
            ],
            "text/plain": [
              "       Unnamed: 0 bioactivity_class  ...    OWPC     pIC50\n",
              "0               0            active  ... -1.4355  6.384050\n",
              "1               1            active  ... -1.7361  8.698970\n",
              "2               2            active  ...  2.3535  6.337242\n",
              "3               3        min effect  ...  1.9626  5.045757\n",
              "4               4        min effect  ...  3.5739  5.251812\n",
              "...           ...               ...  ...     ...       ...\n",
              "10024       10037          inactive  ...  2.6975  4.468521\n",
              "10025       10038          inactive  ...  4.3900  4.075721\n",
              "10026       10039          inactive  ...  2.4515  4.537602\n",
              "10027       10040          inactive  ...  3.2666  4.259637\n",
              "10028       10041          inactive  ...  3.4461  4.508638\n",
              "\n",
              "[10029 rows x 9 columns]"
            ]
          },
          "metadata": {
            "tags": []
          },
          "execution_count": 88
        }
      ]
    },
    {
      "cell_type": "code",
      "metadata": {
        "colab": {
          "base_uri": "https://localhost:8080/",
          "height": 296
        },
        "id": "4ICniTBMFtsX",
        "outputId": "52885903-3adc-4fab-c4c4-c05cdefa5f0e"
      },
      "source": [
        "## Obtain the graphs of descriptors to show differences between class (active, inactive, min Effect)\n",
        "import seaborn as sns\n",
        "import matplotlib.pyplot as plt\n",
        "\n",
        "sns.boxplot(x='bioactivity_class', y='Molecular Weight', data=df_full)\n",
        "plt.title('Molecular Weight (by class)')\n",
        "plt.savefig('Molecular Weight Dist.png')"
      ],
      "execution_count": null,
      "outputs": [
        {
          "output_type": "display_data",
          "data": {
            "image/png": "[encoded data removed]",
            "text/plain": [
              "<Figure size 432x288 with 1 Axes>"
            ]
          },
          "metadata": {
            "tags": [],
            "needs_background": "light"
          }
        }
      ]
    },
    {
      "cell_type": "code",
      "metadata": {
        "colab": {
          "base_uri": "https://localhost:8080/",
          "height": 296
        },
        "id": "Wqf1j7pfFxYx",
        "outputId": "ff76d2bf-e0c7-4354-8776-72c420cc8ea9"
      },
      "source": [
        "sns.boxplot(x='bioactivity_class', y='Number of Hydrogen Donors', data=df_full)\n",
        "plt.title('Number of H-Donors (by class)')\n",
        "plt.savefig('Number of H-Donors Dist.png')"
      ],
      "execution_count": null,
      "outputs": [
        {
          "output_type": "display_data",
          "data": {
            "image/png": "[encoded data removed]",
            "text/plain": [
              "<Figure size 432x288 with 1 Axes>"
            ]
          },
          "metadata": {
            "tags": [],
            "needs_background": "light"
          }
        }
      ]
    },
    {
      "cell_type": "code",
      "metadata": {
        "colab": {
          "base_uri": "https://localhost:8080/",
          "height": 296
        },
        "id": "6X6051EXF0IN",
        "outputId": "40ebd680-3898-42dc-9f2a-b0410e99f549"
      },
      "source": [
        "sns.boxplot(x='bioactivity_class', y='Number of Hydrogen Acceptors', data=df_full)\n",
        "plt.title('Number of H-Acceptors (by class)')\n",
        "plt.savefig('Number of H-Acceptors.png')"
      ],
      "execution_count": null,
      "outputs": [
        {
          "output_type": "display_data",
          "data": {
            "image/png": "[encoded data removed]",
            "text/plain": [
              "<Figure size 432x288 with 1 Axes>"
            ]
          },
          "metadata": {
            "tags": [],
            "needs_background": "light"
          }
        }
      ]
    },
    {
      "cell_type": "code",
      "metadata": {
        "colab": {
          "base_uri": "https://localhost:8080/",
          "height": 296
        },
        "id": "tnB667VkF23G",
        "outputId": "666cbfa6-f562-4025-95be-54b4dce4365b"
      },
      "source": [
        "sns.boxplot(x='bioactivity_class', y='OWPC', data=df_full)\n",
        "plt.title('Octanol-Water Partition Coefficent (by class)')\n",
        "plt.savefig('octanol-water partition coefficent.png')"
      ],
      "execution_count": null,
      "outputs": [
        {
          "output_type": "display_data",
          "data": {
            "image/png": "[encoded data removed]",
            "text/plain": [
              "<Figure size 432x288 with 1 Axes>"
            ]
          },
          "metadata": {
            "tags": [],
            "needs_background": "light"
          }
        }
      ]
    },
    {
      "cell_type": "code",
      "metadata": {
        "colab": {
          "base_uri": "https://localhost:8080/",
          "height": 296
        },
        "id": "Laexj2QaGmBW",
        "outputId": "1d1a363b-911c-42b6-d2da-c0555d1d186f"
      },
      "source": [
        "sns.boxplot(x='bioactivity_class', y='pIC50', data=df_full)\n",
        "plt.title('pIC50 Dist. - Target')\n",
        "plt.savefig('pIC50 class pic ')"
      ],
      "execution_count": null,
      "outputs": [
        {
          "output_type": "display_data",
          "data": {
            "image/png": "[encoded data removed]",
            "text/plain": [
              "<Figure size 432x288 with 1 Axes>"
            ]
          },
          "metadata": {
            "tags": [],
            "needs_background": "light"
          }
        }
      ]
    },
    {
      "cell_type": "code",
      "metadata": {
        "id": "brWP6Po_Gqc4"
      },
      "source": [
        "## Remove compounds that violates more than one of the Lipinki's Rule of 5:\n",
        "## . Molecular Weight < 500 daltons\n",
        "## . Octonal water partition coefficent (logP) < 5\n",
        "## . Number of hydrogen bond donor < 5\n",
        "## . Number of Hydrogen bond acceptors < 10"
      ],
      "execution_count": null,
      "outputs": []
    },
    {
      "cell_type": "code",
      "metadata": {
        "id": "Up6Yd95xGsgs"
      },
      "source": [
        "def lipinski_checker(data):\n",
        "          \n",
        "    num_hdonors = data['Number of Hydrogen Donors']\n",
        "    num_hacceptors = data['Number of Hydrogen Acceptors']\n",
        "    mol_weight = data['Molecular Weight']\n",
        "    mol_logp = data['OWPC']\n",
        "    \n",
        "    result = []\n",
        "    \n",
        "    if num_hdonors > 5:\n",
        "        result.append(1)\n",
        "    else:\n",
        "        result.append(0)\n",
        "        \n",
        "    if num_hacceptors > 10:\n",
        "        result.append(1)\n",
        "    else:\n",
        "        result.append(0)\n",
        "        \n",
        "    if mol_weight >= 500:\n",
        "        result.append(1)\n",
        "    else:\n",
        "        result.append(0)\n",
        "        \n",
        "    if mol_logp >= 5:\n",
        "        result.append(1)\n",
        "    else:\n",
        "        result.append(0)\n",
        "    \n",
        "    return result\n",
        "    \n",
        "def lipinski_pass(compounds):\n",
        "    checked_df = {'HD':[], 'HA':[], 'logP':[], 'MW':[]}\n",
        "    numTrials = len(compounds)\n",
        "    for x in range(numTrials):\n",
        "        result = lipinski_checker(compounds.iloc[x])\n",
        "        checked_df['HD'].append(result[0])\n",
        "        checked_df['HA'].append(result[1])\n",
        "        checked_df['logP'].append(result[2])\n",
        "        checked_df['MW'].append(result[3])\n",
        "    return checked_df"
      ],
      "execution_count": null,
      "outputs": []
    },
    {
      "cell_type": "code",
      "metadata": {
        "id": "R2nWJvowGvi9"
      },
      "source": [
        "checked_df = lipinski_pass(df_full)"
      ],
      "execution_count": null,
      "outputs": []
    },
    {
      "cell_type": "code",
      "metadata": {
        "colab": {
          "base_uri": "https://localhost:8080/",
          "height": 423
        },
        "id": "D2bJMbV5Gxzq",
        "outputId": "4f54f06d-5b8a-4831-f902-81b60964abeb"
      },
      "source": [
        "checked_df = pd.DataFrame(checked_df)\n",
        "checked_df"
      ],
      "execution_count": null,
      "outputs": [
        {
          "output_type": "execute_result",
          "data": {
            "text/html": [
              "<div>\n",
              "<style scoped>\n",
              "    .dataframe tbody tr th:only-of-type {\n",
              "        vertical-align: middle;\n",
              "    }\n",
              "\n",
              "    .dataframe tbody tr th {\n",
              "        vertical-align: top;\n",
              "    }\n",
              "\n",
              "    .dataframe thead th {\n",
              "        text-align: right;\n",
              "    }\n",
              "</style>\n",
              "<table border=\"1\" class=\"dataframe\">\n",
              "  <thead>\n",
              "    <tr style=\"text-align: right;\">\n",
              "      <th></th>\n",
              "      <th>HD</th>\n",
              "      <th>HA</th>\n",
              "      <th>logP</th>\n",
              "      <th>MW</th>\n",
              "    </tr>\n",
              "  </thead>\n",
              "  <tbody>\n",
              "    <tr>\n",
              "      <th>0</th>\n",
              "      <td>1</td>\n",
              "      <td>1</td>\n",
              "      <td>1</td>\n",
              "      <td>0</td>\n",
              "    </tr>\n",
              "    <tr>\n",
              "      <th>1</th>\n",
              "      <td>1</td>\n",
              "      <td>1</td>\n",
              "      <td>1</td>\n",
              "      <td>0</td>\n",
              "    </tr>\n",
              "    <tr>\n",
              "      <th>2</th>\n",
              "      <td>1</td>\n",
              "      <td>0</td>\n",
              "      <td>1</td>\n",
              "      <td>0</td>\n",
              "    </tr>\n",
              "    <tr>\n",
              "      <th>3</th>\n",
              "      <td>1</td>\n",
              "      <td>0</td>\n",
              "      <td>1</td>\n",
              "      <td>0</td>\n",
              "    </tr>\n",
              "    <tr>\n",
              "      <th>4</th>\n",
              "      <td>1</td>\n",
              "      <td>0</td>\n",
              "      <td>1</td>\n",
              "      <td>0</td>\n",
              "    </tr>\n",
              "    <tr>\n",
              "      <th>...</th>\n",
              "      <td>...</td>\n",
              "      <td>...</td>\n",
              "      <td>...</td>\n",
              "      <td>...</td>\n",
              "    </tr>\n",
              "    <tr>\n",
              "      <th>10024</th>\n",
              "      <td>0</td>\n",
              "      <td>0</td>\n",
              "      <td>0</td>\n",
              "      <td>0</td>\n",
              "    </tr>\n",
              "    <tr>\n",
              "      <th>10025</th>\n",
              "      <td>0</td>\n",
              "      <td>0</td>\n",
              "      <td>0</td>\n",
              "      <td>0</td>\n",
              "    </tr>\n",
              "    <tr>\n",
              "      <th>10026</th>\n",
              "      <td>0</td>\n",
              "      <td>0</td>\n",
              "      <td>0</td>\n",
              "      <td>0</td>\n",
              "    </tr>\n",
              "    <tr>\n",
              "      <th>10027</th>\n",
              "      <td>0</td>\n",
              "      <td>0</td>\n",
              "      <td>0</td>\n",
              "      <td>0</td>\n",
              "    </tr>\n",
              "    <tr>\n",
              "      <th>10028</th>\n",
              "      <td>0</td>\n",
              "      <td>0</td>\n",
              "      <td>0</td>\n",
              "      <td>0</td>\n",
              "    </tr>\n",
              "  </tbody>\n",
              "</table>\n",
              "<p>10029 rows × 4 columns</p>\n",
              "</div>"
            ],
            "text/plain": [
              "       HD  HA  logP  MW\n",
              "0       1   1     1   0\n",
              "1       1   1     1   0\n",
              "2       1   0     1   0\n",
              "3       1   0     1   0\n",
              "4       1   0     1   0\n",
              "...    ..  ..   ...  ..\n",
              "10024   0   0     0   0\n",
              "10025   0   0     0   0\n",
              "10026   0   0     0   0\n",
              "10027   0   0     0   0\n",
              "10028   0   0     0   0\n",
              "\n",
              "[10029 rows x 4 columns]"
            ]
          },
          "metadata": {
            "tags": []
          },
          "execution_count": 131
        }
      ]
    },
    {
      "cell_type": "code",
      "metadata": {
        "colab": {
          "base_uri": "https://localhost:8080/",
          "height": 455
        },
        "id": "-fL_neJOG0Og",
        "outputId": "ca6d0ffa-517e-4a09-9d95-4e99a7a07e26"
      },
      "source": [
        "checked_df['sum'] = checked_df.sum(axis=1)\n",
        "checked_df.set_index(df_full['Unnamed: 0'], inplace=True)\n",
        "checked_df"
      ],
      "execution_count": null,
      "outputs": [
        {
          "output_type": "execute_result",
          "data": {
            "text/html": [
              "<div>\n",
              "<style scoped>\n",
              "    .dataframe tbody tr th:only-of-type {\n",
              "        vertical-align: middle;\n",
              "    }\n",
              "\n",
              "    .dataframe tbody tr th {\n",
              "        vertical-align: top;\n",
              "    }\n",
              "\n",
              "    .dataframe thead th {\n",
              "        text-align: right;\n",
              "    }\n",
              "</style>\n",
              "<table border=\"1\" class=\"dataframe\">\n",
              "  <thead>\n",
              "    <tr style=\"text-align: right;\">\n",
              "      <th></th>\n",
              "      <th>HD</th>\n",
              "      <th>HA</th>\n",
              "      <th>logP</th>\n",
              "      <th>MW</th>\n",
              "      <th>sum</th>\n",
              "    </tr>\n",
              "    <tr>\n",
              "      <th>Unnamed: 0</th>\n",
              "      <th></th>\n",
              "      <th></th>\n",
              "      <th></th>\n",
              "      <th></th>\n",
              "      <th></th>\n",
              "    </tr>\n",
              "  </thead>\n",
              "  <tbody>\n",
              "    <tr>\n",
              "      <th>0</th>\n",
              "      <td>1</td>\n",
              "      <td>1</td>\n",
              "      <td>1</td>\n",
              "      <td>0</td>\n",
              "      <td>3</td>\n",
              "    </tr>\n",
              "    <tr>\n",
              "      <th>1</th>\n",
              "      <td>1</td>\n",
              "      <td>1</td>\n",
              "      <td>1</td>\n",
              "      <td>0</td>\n",
              "      <td>3</td>\n",
              "    </tr>\n",
              "    <tr>\n",
              "      <th>2</th>\n",
              "      <td>1</td>\n",
              "      <td>0</td>\n",
              "      <td>1</td>\n",
              "      <td>0</td>\n",
              "      <td>2</td>\n",
              "    </tr>\n",
              "    <tr>\n",
              "      <th>3</th>\n",
              "      <td>1</td>\n",
              "      <td>0</td>\n",
              "      <td>1</td>\n",
              "      <td>0</td>\n",
              "      <td>2</td>\n",
              "    </tr>\n",
              "    <tr>\n",
              "      <th>4</th>\n",
              "      <td>1</td>\n",
              "      <td>0</td>\n",
              "      <td>1</td>\n",
              "      <td>0</td>\n",
              "      <td>2</td>\n",
              "    </tr>\n",
              "    <tr>\n",
              "      <th>...</th>\n",
              "      <td>...</td>\n",
              "      <td>...</td>\n",
              "      <td>...</td>\n",
              "      <td>...</td>\n",
              "      <td>...</td>\n",
              "    </tr>\n",
              "    <tr>\n",
              "      <th>10037</th>\n",
              "      <td>0</td>\n",
              "      <td>0</td>\n",
              "      <td>0</td>\n",
              "      <td>0</td>\n",
              "      <td>0</td>\n",
              "    </tr>\n",
              "    <tr>\n",
              "      <th>10038</th>\n",
              "      <td>0</td>\n",
              "      <td>0</td>\n",
              "      <td>0</td>\n",
              "      <td>0</td>\n",
              "      <td>0</td>\n",
              "    </tr>\n",
              "    <tr>\n",
              "      <th>10039</th>\n",
              "      <td>0</td>\n",
              "      <td>0</td>\n",
              "      <td>0</td>\n",
              "      <td>0</td>\n",
              "      <td>0</td>\n",
              "    </tr>\n",
              "    <tr>\n",
              "      <th>10040</th>\n",
              "      <td>0</td>\n",
              "      <td>0</td>\n",
              "      <td>0</td>\n",
              "      <td>0</td>\n",
              "      <td>0</td>\n",
              "    </tr>\n",
              "    <tr>\n",
              "      <th>10041</th>\n",
              "      <td>0</td>\n",
              "      <td>0</td>\n",
              "      <td>0</td>\n",
              "      <td>0</td>\n",
              "      <td>0</td>\n",
              "    </tr>\n",
              "  </tbody>\n",
              "</table>\n",
              "<p>10029 rows × 5 columns</p>\n",
              "</div>"
            ],
            "text/plain": [
              "            HD  HA  logP  MW  sum\n",
              "Unnamed: 0                       \n",
              "0            1   1     1   0    3\n",
              "1            1   1     1   0    3\n",
              "2            1   0     1   0    2\n",
              "3            1   0     1   0    2\n",
              "4            1   0     1   0    2\n",
              "...         ..  ..   ...  ..  ...\n",
              "10037        0   0     0   0    0\n",
              "10038        0   0     0   0    0\n",
              "10039        0   0     0   0    0\n",
              "10040        0   0     0   0    0\n",
              "10041        0   0     0   0    0\n",
              "\n",
              "[10029 rows x 5 columns]"
            ]
          },
          "metadata": {
            "tags": []
          },
          "execution_count": 132
        }
      ]
    },
    {
      "cell_type": "code",
      "metadata": {
        "colab": {
          "base_uri": "https://localhost:8080/",
          "height": 455
        },
        "id": "21G5vSMqG4O5",
        "outputId": "5572fadd-b9d4-418e-cbbe-458e1b6f5943"
      },
      "source": [
        "checked_df = checked_df.loc[checked_df['sum'] <= 1]\n",
        "checked_df"
      ],
      "execution_count": null,
      "outputs": [
        {
          "output_type": "execute_result",
          "data": {
            "text/html": [
              "<div>\n",
              "<style scoped>\n",
              "    .dataframe tbody tr th:only-of-type {\n",
              "        vertical-align: middle;\n",
              "    }\n",
              "\n",
              "    .dataframe tbody tr th {\n",
              "        vertical-align: top;\n",
              "    }\n",
              "\n",
              "    .dataframe thead th {\n",
              "        text-align: right;\n",
              "    }\n",
              "</style>\n",
              "<table border=\"1\" class=\"dataframe\">\n",
              "  <thead>\n",
              "    <tr style=\"text-align: right;\">\n",
              "      <th></th>\n",
              "      <th>HD</th>\n",
              "      <th>HA</th>\n",
              "      <th>logP</th>\n",
              "      <th>MW</th>\n",
              "      <th>sum</th>\n",
              "    </tr>\n",
              "    <tr>\n",
              "      <th>Unnamed: 0</th>\n",
              "      <th></th>\n",
              "      <th></th>\n",
              "      <th></th>\n",
              "      <th></th>\n",
              "      <th></th>\n",
              "    </tr>\n",
              "  </thead>\n",
              "  <tbody>\n",
              "    <tr>\n",
              "      <th>12</th>\n",
              "      <td>0</td>\n",
              "      <td>0</td>\n",
              "      <td>0</td>\n",
              "      <td>1</td>\n",
              "      <td>1</td>\n",
              "    </tr>\n",
              "    <tr>\n",
              "      <th>18</th>\n",
              "      <td>0</td>\n",
              "      <td>0</td>\n",
              "      <td>1</td>\n",
              "      <td>0</td>\n",
              "      <td>1</td>\n",
              "    </tr>\n",
              "    <tr>\n",
              "      <th>21</th>\n",
              "      <td>0</td>\n",
              "      <td>0</td>\n",
              "      <td>1</td>\n",
              "      <td>0</td>\n",
              "      <td>1</td>\n",
              "    </tr>\n",
              "    <tr>\n",
              "      <th>24</th>\n",
              "      <td>0</td>\n",
              "      <td>0</td>\n",
              "      <td>1</td>\n",
              "      <td>0</td>\n",
              "      <td>1</td>\n",
              "    </tr>\n",
              "    <tr>\n",
              "      <th>133</th>\n",
              "      <td>0</td>\n",
              "      <td>0</td>\n",
              "      <td>1</td>\n",
              "      <td>0</td>\n",
              "      <td>1</td>\n",
              "    </tr>\n",
              "    <tr>\n",
              "      <th>...</th>\n",
              "      <td>...</td>\n",
              "      <td>...</td>\n",
              "      <td>...</td>\n",
              "      <td>...</td>\n",
              "      <td>...</td>\n",
              "    </tr>\n",
              "    <tr>\n",
              "      <th>10037</th>\n",
              "      <td>0</td>\n",
              "      <td>0</td>\n",
              "      <td>0</td>\n",
              "      <td>0</td>\n",
              "      <td>0</td>\n",
              "    </tr>\n",
              "    <tr>\n",
              "      <th>10038</th>\n",
              "      <td>0</td>\n",
              "      <td>0</td>\n",
              "      <td>0</td>\n",
              "      <td>0</td>\n",
              "      <td>0</td>\n",
              "    </tr>\n",
              "    <tr>\n",
              "      <th>10039</th>\n",
              "      <td>0</td>\n",
              "      <td>0</td>\n",
              "      <td>0</td>\n",
              "      <td>0</td>\n",
              "      <td>0</td>\n",
              "    </tr>\n",
              "    <tr>\n",
              "      <th>10040</th>\n",
              "      <td>0</td>\n",
              "      <td>0</td>\n",
              "      <td>0</td>\n",
              "      <td>0</td>\n",
              "      <td>0</td>\n",
              "    </tr>\n",
              "    <tr>\n",
              "      <th>10041</th>\n",
              "      <td>0</td>\n",
              "      <td>0</td>\n",
              "      <td>0</td>\n",
              "      <td>0</td>\n",
              "      <td>0</td>\n",
              "    </tr>\n",
              "  </tbody>\n",
              "</table>\n",
              "<p>8920 rows × 5 columns</p>\n",
              "</div>"
            ],
            "text/plain": [
              "            HD  HA  logP  MW  sum\n",
              "Unnamed: 0                       \n",
              "12           0   0     0   1    1\n",
              "18           0   0     1   0    1\n",
              "21           0   0     1   0    1\n",
              "24           0   0     1   0    1\n",
              "133          0   0     1   0    1\n",
              "...         ..  ..   ...  ..  ...\n",
              "10037        0   0     0   0    0\n",
              "10038        0   0     0   0    0\n",
              "10039        0   0     0   0    0\n",
              "10040        0   0     0   0    0\n",
              "10041        0   0     0   0    0\n",
              "\n",
              "[8920 rows x 5 columns]"
            ]
          },
          "metadata": {
            "tags": []
          },
          "execution_count": 133
        }
      ]
    },
    {
      "cell_type": "code",
      "metadata": {
        "colab": {
          "base_uri": "https://localhost:8080/",
          "height": 495
        },
        "id": "euw9OmbiG9Dh",
        "outputId": "c6c3c70d-fc6f-4694-d254-6cda4564c342"
      },
      "source": [
        "df_full"
      ],
      "execution_count": null,
      "outputs": [
        {
          "output_type": "execute_result",
          "data": {
            "text/html": [
              "<div>\n",
              "<style scoped>\n",
              "    .dataframe tbody tr th:only-of-type {\n",
              "        vertical-align: middle;\n",
              "    }\n",
              "\n",
              "    .dataframe tbody tr th {\n",
              "        vertical-align: top;\n",
              "    }\n",
              "\n",
              "    .dataframe thead th {\n",
              "        text-align: right;\n",
              "    }\n",
              "</style>\n",
              "<table border=\"1\" class=\"dataframe\">\n",
              "  <thead>\n",
              "    <tr style=\"text-align: right;\">\n",
              "      <th></th>\n",
              "      <th>Unnamed: 0</th>\n",
              "      <th>bioactivity_class</th>\n",
              "      <th>molecule_chembl_id</th>\n",
              "      <th>canonical_smiles</th>\n",
              "      <th>Molecular Weight</th>\n",
              "      <th>Number of Hydrogen Donors</th>\n",
              "      <th>Number of Hydrogen Acceptors</th>\n",
              "      <th>OWPC</th>\n",
              "      <th>pIC50</th>\n",
              "    </tr>\n",
              "  </thead>\n",
              "  <tbody>\n",
              "    <tr>\n",
              "      <th>0</th>\n",
              "      <td>0</td>\n",
              "      <td>active</td>\n",
              "      <td>CHEMBL406146</td>\n",
              "      <td>CC(C)C[C@H](NC(=O)[C@@H](NC(=O)[C@@H](N)CCC(=O...</td>\n",
              "      <td>999.085</td>\n",
              "      <td>13.0</td>\n",
              "      <td>13.0</td>\n",
              "      <td>-1.4355</td>\n",
              "      <td>6.384050</td>\n",
              "    </tr>\n",
              "    <tr>\n",
              "      <th>1</th>\n",
              "      <td>1</td>\n",
              "      <td>active</td>\n",
              "      <td>CHEMBL78946</td>\n",
              "      <td>CC(C)C[C@H](NC(=O)[C@H](CC(N)=O)NC(=O)[C@@H](N...</td>\n",
              "      <td>893.005</td>\n",
              "      <td>12.0</td>\n",
              "      <td>12.0</td>\n",
              "      <td>-1.7361</td>\n",
              "      <td>8.698970</td>\n",
              "    </tr>\n",
              "    <tr>\n",
              "      <th>2</th>\n",
              "      <td>2</td>\n",
              "      <td>active</td>\n",
              "      <td>CHEMBL324109</td>\n",
              "      <td>CCC(C)C[C@H](NC(=O)[C@H](CC(C)C)NC(C)=O)[C@@H]...</td>\n",
              "      <td>751.988</td>\n",
              "      <td>8.0</td>\n",
              "      <td>9.0</td>\n",
              "      <td>2.3535</td>\n",
              "      <td>6.337242</td>\n",
              "    </tr>\n",
              "    <tr>\n",
              "      <th>3</th>\n",
              "      <td>3</td>\n",
              "      <td>min effect</td>\n",
              "      <td>CHEMBL114147</td>\n",
              "      <td>CC(=O)NCC(=O)N[C@@H](Cc1ccccc1)[C@@H](O)CC(=O)...</td>\n",
              "      <td>737.895</td>\n",
              "      <td>8.0</td>\n",
              "      <td>8.0</td>\n",
              "      <td>1.9626</td>\n",
              "      <td>5.045757</td>\n",
              "    </tr>\n",
              "    <tr>\n",
              "      <th>4</th>\n",
              "      <td>4</td>\n",
              "      <td>min effect</td>\n",
              "      <td>CHEMBL419949</td>\n",
              "      <td>CC(=O)N[C@@H](Cc1ccccc1)C(=O)N[C@@H](Cc1ccccc1...</td>\n",
              "      <td>828.020</td>\n",
              "      <td>8.0</td>\n",
              "      <td>8.0</td>\n",
              "      <td>3.5739</td>\n",
              "      <td>5.251812</td>\n",
              "    </tr>\n",
              "    <tr>\n",
              "      <th>...</th>\n",
              "      <td>...</td>\n",
              "      <td>...</td>\n",
              "      <td>...</td>\n",
              "      <td>...</td>\n",
              "      <td>...</td>\n",
              "      <td>...</td>\n",
              "      <td>...</td>\n",
              "      <td>...</td>\n",
              "      <td>...</td>\n",
              "    </tr>\n",
              "    <tr>\n",
              "      <th>10024</th>\n",
              "      <td>10037</td>\n",
              "      <td>inactive</td>\n",
              "      <td>CHEMBL4565226</td>\n",
              "      <td>CC(Cc1cc2ccccc2nc1N)C(=O)NC[C@@]12CCCO[C@@H]1C...</td>\n",
              "      <td>383.492</td>\n",
              "      <td>2.0</td>\n",
              "      <td>5.0</td>\n",
              "      <td>2.6975</td>\n",
              "      <td>4.468521</td>\n",
              "    </tr>\n",
              "    <tr>\n",
              "      <th>10025</th>\n",
              "      <td>10038</td>\n",
              "      <td>inactive</td>\n",
              "      <td>CHEMBL4520156</td>\n",
              "      <td>Nc1nc2ccccc2cc1CCC(=O)N1CC[C@H]2OCCC[C@@]2(Cc2...</td>\n",
              "      <td>429.564</td>\n",
              "      <td>1.0</td>\n",
              "      <td>4.0</td>\n",
              "      <td>4.3900</td>\n",
              "      <td>4.075721</td>\n",
              "    </tr>\n",
              "    <tr>\n",
              "      <th>10026</th>\n",
              "      <td>10039</td>\n",
              "      <td>inactive</td>\n",
              "      <td>CHEMBL4585673</td>\n",
              "      <td>Nc1nc2ccccc2cc1CCC(=O)NC[C@@]12CCCO[C@@H]1CCOC2</td>\n",
              "      <td>369.465</td>\n",
              "      <td>2.0</td>\n",
              "      <td>5.0</td>\n",
              "      <td>2.4515</td>\n",
              "      <td>4.537602</td>\n",
              "    </tr>\n",
              "    <tr>\n",
              "      <th>10027</th>\n",
              "      <td>10040</td>\n",
              "      <td>inactive</td>\n",
              "      <td>CHEMBL4546115</td>\n",
              "      <td>COc1ccc2c(c1)[C@@H](O)[C@@]1(CCN(C(=O)CCc3cc4c...</td>\n",
              "      <td>417.509</td>\n",
              "      <td>2.0</td>\n",
              "      <td>5.0</td>\n",
              "      <td>3.2666</td>\n",
              "      <td>4.259637</td>\n",
              "    </tr>\n",
              "    <tr>\n",
              "      <th>10028</th>\n",
              "      <td>10041</td>\n",
              "      <td>inactive</td>\n",
              "      <td>CHEMBL1821813</td>\n",
              "      <td>Nc1nc2ccccc2cc1CCC(=O)NCC1CCCCC1</td>\n",
              "      <td>311.429</td>\n",
              "      <td>2.0</td>\n",
              "      <td>3.0</td>\n",
              "      <td>3.4461</td>\n",
              "      <td>4.508638</td>\n",
              "    </tr>\n",
              "  </tbody>\n",
              "</table>\n",
              "<p>10029 rows × 9 columns</p>\n",
              "</div>"
            ],
            "text/plain": [
              "       Unnamed: 0 bioactivity_class  ...    OWPC     pIC50\n",
              "0               0            active  ... -1.4355  6.384050\n",
              "1               1            active  ... -1.7361  8.698970\n",
              "2               2            active  ...  2.3535  6.337242\n",
              "3               3        min effect  ...  1.9626  5.045757\n",
              "4               4        min effect  ...  3.5739  5.251812\n",
              "...           ...               ...  ...     ...       ...\n",
              "10024       10037          inactive  ...  2.6975  4.468521\n",
              "10025       10038          inactive  ...  4.3900  4.075721\n",
              "10026       10039          inactive  ...  2.4515  4.537602\n",
              "10027       10040          inactive  ...  3.2666  4.259637\n",
              "10028       10041          inactive  ...  3.4461  4.508638\n",
              "\n",
              "[10029 rows x 9 columns]"
            ]
          },
          "metadata": {
            "tags": []
          },
          "execution_count": 134
        }
      ]
    },
    {
      "cell_type": "code",
      "metadata": {
        "colab": {
          "base_uri": "https://localhost:8080/",
          "height": 495
        },
        "id": "DcfXy6SCG98x",
        "outputId": "4c8cdab3-09a6-4efe-b55a-8d48cd2223e3"
      },
      "source": [
        "checked_df = pd.merge(checked_df, df_full, on='Unnamed: 0')\n",
        "checked_df"
      ],
      "execution_count": null,
      "outputs": [
        {
          "output_type": "execute_result",
          "data": {
            "text/html": [
              "<div>\n",
              "<style scoped>\n",
              "    .dataframe tbody tr th:only-of-type {\n",
              "        vertical-align: middle;\n",
              "    }\n",
              "\n",
              "    .dataframe tbody tr th {\n",
              "        vertical-align: top;\n",
              "    }\n",
              "\n",
              "    .dataframe thead th {\n",
              "        text-align: right;\n",
              "    }\n",
              "</style>\n",
              "<table border=\"1\" class=\"dataframe\">\n",
              "  <thead>\n",
              "    <tr style=\"text-align: right;\">\n",
              "      <th></th>\n",
              "      <th>Unnamed: 0</th>\n",
              "      <th>HD</th>\n",
              "      <th>HA</th>\n",
              "      <th>logP</th>\n",
              "      <th>MW</th>\n",
              "      <th>sum</th>\n",
              "      <th>bioactivity_class</th>\n",
              "      <th>molecule_chembl_id</th>\n",
              "      <th>canonical_smiles</th>\n",
              "      <th>Molecular Weight</th>\n",
              "      <th>Number of Hydrogen Donors</th>\n",
              "      <th>Number of Hydrogen Acceptors</th>\n",
              "      <th>OWPC</th>\n",
              "      <th>pIC50</th>\n",
              "    </tr>\n",
              "  </thead>\n",
              "  <tbody>\n",
              "    <tr>\n",
              "      <th>0</th>\n",
              "      <td>12</td>\n",
              "      <td>0</td>\n",
              "      <td>0</td>\n",
              "      <td>0</td>\n",
              "      <td>1</td>\n",
              "      <td>1</td>\n",
              "      <td>active</td>\n",
              "      <td>CHEMBL142715</td>\n",
              "      <td>c1ccc(-c2ccc(COc3ccc4c(c3)CCC(CCN3CCCCC3)C4)cc...</td>\n",
              "      <td>425.616</td>\n",
              "      <td>0.0</td>\n",
              "      <td>2.0</td>\n",
              "      <td>6.9135</td>\n",
              "      <td>6.455932</td>\n",
              "    </tr>\n",
              "    <tr>\n",
              "      <th>1</th>\n",
              "      <td>18</td>\n",
              "      <td>0</td>\n",
              "      <td>0</td>\n",
              "      <td>1</td>\n",
              "      <td>0</td>\n",
              "      <td>1</td>\n",
              "      <td>active</td>\n",
              "      <td>CHEMBL143687</td>\n",
              "      <td>COC(=O)c1cc(NC(=O)[C@@H](NC(=O)C[C@H](O)[C@H](...</td>\n",
              "      <td>745.776</td>\n",
              "      <td>5.0</td>\n",
              "      <td>9.0</td>\n",
              "      <td>4.4964</td>\n",
              "      <td>6.920819</td>\n",
              "    </tr>\n",
              "    <tr>\n",
              "      <th>2</th>\n",
              "      <td>21</td>\n",
              "      <td>0</td>\n",
              "      <td>0</td>\n",
              "      <td>1</td>\n",
              "      <td>0</td>\n",
              "      <td>1</td>\n",
              "      <td>min effect</td>\n",
              "      <td>CHEMBL82270</td>\n",
              "      <td>CC(C)[C@H](F)C(=O)N[C@@H](C)C(=O)N[C@@H](Cc1cc...</td>\n",
              "      <td>599.748</td>\n",
              "      <td>5.0</td>\n",
              "      <td>6.0</td>\n",
              "      <td>2.4520</td>\n",
              "      <td>5.946922</td>\n",
              "    </tr>\n",
              "    <tr>\n",
              "      <th>3</th>\n",
              "      <td>24</td>\n",
              "      <td>0</td>\n",
              "      <td>0</td>\n",
              "      <td>1</td>\n",
              "      <td>0</td>\n",
              "      <td>1</td>\n",
              "      <td>min effect</td>\n",
              "      <td>CHEMBL84835</td>\n",
              "      <td>CC(C)CC(=O)N[C@@H](C)C(=O)N[C@@H](Cc1ccccc1)[C...</td>\n",
              "      <td>581.758</td>\n",
              "      <td>5.0</td>\n",
              "      <td>6.0</td>\n",
              "      <td>2.5040</td>\n",
              "      <td>5.759451</td>\n",
              "    </tr>\n",
              "    <tr>\n",
              "      <th>4</th>\n",
              "      <td>133</td>\n",
              "      <td>0</td>\n",
              "      <td>0</td>\n",
              "      <td>1</td>\n",
              "      <td>0</td>\n",
              "      <td>1</td>\n",
              "      <td>active</td>\n",
              "      <td>CHEMBL296166</td>\n",
              "      <td>COC(=O)[C@@H]1CC(NC(=O)[C@H](NC(=O)C[C@H](O)[C...</td>\n",
              "      <td>751.824</td>\n",
              "      <td>5.0</td>\n",
              "      <td>9.0</td>\n",
              "      <td>3.5316</td>\n",
              "      <td>6.920819</td>\n",
              "    </tr>\n",
              "    <tr>\n",
              "      <th>...</th>\n",
              "      <td>...</td>\n",
              "      <td>...</td>\n",
              "      <td>...</td>\n",
              "      <td>...</td>\n",
              "      <td>...</td>\n",
              "      <td>...</td>\n",
              "      <td>...</td>\n",
              "      <td>...</td>\n",
              "      <td>...</td>\n",
              "      <td>...</td>\n",
              "      <td>...</td>\n",
              "      <td>...</td>\n",
              "      <td>...</td>\n",
              "      <td>...</td>\n",
              "    </tr>\n",
              "    <tr>\n",
              "      <th>8915</th>\n",
              "      <td>10037</td>\n",
              "      <td>0</td>\n",
              "      <td>0</td>\n",
              "      <td>0</td>\n",
              "      <td>0</td>\n",
              "      <td>0</td>\n",
              "      <td>inactive</td>\n",
              "      <td>CHEMBL4565226</td>\n",
              "      <td>CC(Cc1cc2ccccc2nc1N)C(=O)NC[C@@]12CCCO[C@@H]1C...</td>\n",
              "      <td>383.492</td>\n",
              "      <td>2.0</td>\n",
              "      <td>5.0</td>\n",
              "      <td>2.6975</td>\n",
              "      <td>4.468521</td>\n",
              "    </tr>\n",
              "    <tr>\n",
              "      <th>8916</th>\n",
              "      <td>10038</td>\n",
              "      <td>0</td>\n",
              "      <td>0</td>\n",
              "      <td>0</td>\n",
              "      <td>0</td>\n",
              "      <td>0</td>\n",
              "      <td>inactive</td>\n",
              "      <td>CHEMBL4520156</td>\n",
              "      <td>Nc1nc2ccccc2cc1CCC(=O)N1CC[C@H]2OCCC[C@@]2(Cc2...</td>\n",
              "      <td>429.564</td>\n",
              "      <td>1.0</td>\n",
              "      <td>4.0</td>\n",
              "      <td>4.3900</td>\n",
              "      <td>4.075721</td>\n",
              "    </tr>\n",
              "    <tr>\n",
              "      <th>8917</th>\n",
              "      <td>10039</td>\n",
              "      <td>0</td>\n",
              "      <td>0</td>\n",
              "      <td>0</td>\n",
              "      <td>0</td>\n",
              "      <td>0</td>\n",
              "      <td>inactive</td>\n",
              "      <td>CHEMBL4585673</td>\n",
              "      <td>Nc1nc2ccccc2cc1CCC(=O)NC[C@@]12CCCO[C@@H]1CCOC2</td>\n",
              "      <td>369.465</td>\n",
              "      <td>2.0</td>\n",
              "      <td>5.0</td>\n",
              "      <td>2.4515</td>\n",
              "      <td>4.537602</td>\n",
              "    </tr>\n",
              "    <tr>\n",
              "      <th>8918</th>\n",
              "      <td>10040</td>\n",
              "      <td>0</td>\n",
              "      <td>0</td>\n",
              "      <td>0</td>\n",
              "      <td>0</td>\n",
              "      <td>0</td>\n",
              "      <td>inactive</td>\n",
              "      <td>CHEMBL4546115</td>\n",
              "      <td>COc1ccc2c(c1)[C@@H](O)[C@@]1(CCN(C(=O)CCc3cc4c...</td>\n",
              "      <td>417.509</td>\n",
              "      <td>2.0</td>\n",
              "      <td>5.0</td>\n",
              "      <td>3.2666</td>\n",
              "      <td>4.259637</td>\n",
              "    </tr>\n",
              "    <tr>\n",
              "      <th>8919</th>\n",
              "      <td>10041</td>\n",
              "      <td>0</td>\n",
              "      <td>0</td>\n",
              "      <td>0</td>\n",
              "      <td>0</td>\n",
              "      <td>0</td>\n",
              "      <td>inactive</td>\n",
              "      <td>CHEMBL1821813</td>\n",
              "      <td>Nc1nc2ccccc2cc1CCC(=O)NCC1CCCCC1</td>\n",
              "      <td>311.429</td>\n",
              "      <td>2.0</td>\n",
              "      <td>3.0</td>\n",
              "      <td>3.4461</td>\n",
              "      <td>4.508638</td>\n",
              "    </tr>\n",
              "  </tbody>\n",
              "</table>\n",
              "<p>8920 rows × 14 columns</p>\n",
              "</div>"
            ],
            "text/plain": [
              "      Unnamed: 0  HD  HA  ...  Number of Hydrogen Acceptors    OWPC     pIC50\n",
              "0             12   0   0  ...                           2.0  6.9135  6.455932\n",
              "1             18   0   0  ...                           9.0  4.4964  6.920819\n",
              "2             21   0   0  ...                           6.0  2.4520  5.946922\n",
              "3             24   0   0  ...                           6.0  2.5040  5.759451\n",
              "4            133   0   0  ...                           9.0  3.5316  6.920819\n",
              "...          ...  ..  ..  ...                           ...     ...       ...\n",
              "8915       10037   0   0  ...                           5.0  2.6975  4.468521\n",
              "8916       10038   0   0  ...                           4.0  4.3900  4.075721\n",
              "8917       10039   0   0  ...                           5.0  2.4515  4.537602\n",
              "8918       10040   0   0  ...                           5.0  3.2666  4.259637\n",
              "8919       10041   0   0  ...                           3.0  3.4461  4.508638\n",
              "\n",
              "[8920 rows x 14 columns]"
            ]
          },
          "metadata": {
            "tags": []
          },
          "execution_count": 135
        }
      ]
    },
    {
      "cell_type": "code",
      "metadata": {
        "colab": {
          "base_uri": "https://localhost:8080/",
          "height": 495
        },
        "id": "k5nkemJUHF-u",
        "outputId": "77ab1385-0e7c-41f1-8233-06442ea7224e"
      },
      "source": [
        "checked_df.drop(columns='Unnamed: 0', inplace=True)\n",
        "checked_df"
      ],
      "execution_count": null,
      "outputs": [
        {
          "output_type": "execute_result",
          "data": {
            "text/html": [
              "<div>\n",
              "<style scoped>\n",
              "    .dataframe tbody tr th:only-of-type {\n",
              "        vertical-align: middle;\n",
              "    }\n",
              "\n",
              "    .dataframe tbody tr th {\n",
              "        vertical-align: top;\n",
              "    }\n",
              "\n",
              "    .dataframe thead th {\n",
              "        text-align: right;\n",
              "    }\n",
              "</style>\n",
              "<table border=\"1\" class=\"dataframe\">\n",
              "  <thead>\n",
              "    <tr style=\"text-align: right;\">\n",
              "      <th></th>\n",
              "      <th>HD</th>\n",
              "      <th>HA</th>\n",
              "      <th>logP</th>\n",
              "      <th>MW</th>\n",
              "      <th>sum</th>\n",
              "      <th>bioactivity_class</th>\n",
              "      <th>molecule_chembl_id</th>\n",
              "      <th>canonical_smiles</th>\n",
              "      <th>Molecular Weight</th>\n",
              "      <th>Number of Hydrogen Donors</th>\n",
              "      <th>Number of Hydrogen Acceptors</th>\n",
              "      <th>OWPC</th>\n",
              "      <th>pIC50</th>\n",
              "    </tr>\n",
              "  </thead>\n",
              "  <tbody>\n",
              "    <tr>\n",
              "      <th>0</th>\n",
              "      <td>0</td>\n",
              "      <td>0</td>\n",
              "      <td>0</td>\n",
              "      <td>1</td>\n",
              "      <td>1</td>\n",
              "      <td>active</td>\n",
              "      <td>CHEMBL142715</td>\n",
              "      <td>c1ccc(-c2ccc(COc3ccc4c(c3)CCC(CCN3CCCCC3)C4)cc...</td>\n",
              "      <td>425.616</td>\n",
              "      <td>0.0</td>\n",
              "      <td>2.0</td>\n",
              "      <td>6.9135</td>\n",
              "      <td>6.455932</td>\n",
              "    </tr>\n",
              "    <tr>\n",
              "      <th>1</th>\n",
              "      <td>0</td>\n",
              "      <td>0</td>\n",
              "      <td>1</td>\n",
              "      <td>0</td>\n",
              "      <td>1</td>\n",
              "      <td>active</td>\n",
              "      <td>CHEMBL143687</td>\n",
              "      <td>COC(=O)c1cc(NC(=O)[C@@H](NC(=O)C[C@H](O)[C@H](...</td>\n",
              "      <td>745.776</td>\n",
              "      <td>5.0</td>\n",
              "      <td>9.0</td>\n",
              "      <td>4.4964</td>\n",
              "      <td>6.920819</td>\n",
              "    </tr>\n",
              "    <tr>\n",
              "      <th>2</th>\n",
              "      <td>0</td>\n",
              "      <td>0</td>\n",
              "      <td>1</td>\n",
              "      <td>0</td>\n",
              "      <td>1</td>\n",
              "      <td>min effect</td>\n",
              "      <td>CHEMBL82270</td>\n",
              "      <td>CC(C)[C@H](F)C(=O)N[C@@H](C)C(=O)N[C@@H](Cc1cc...</td>\n",
              "      <td>599.748</td>\n",
              "      <td>5.0</td>\n",
              "      <td>6.0</td>\n",
              "      <td>2.4520</td>\n",
              "      <td>5.946922</td>\n",
              "    </tr>\n",
              "    <tr>\n",
              "      <th>3</th>\n",
              "      <td>0</td>\n",
              "      <td>0</td>\n",
              "      <td>1</td>\n",
              "      <td>0</td>\n",
              "      <td>1</td>\n",
              "      <td>min effect</td>\n",
              "      <td>CHEMBL84835</td>\n",
              "      <td>CC(C)CC(=O)N[C@@H](C)C(=O)N[C@@H](Cc1ccccc1)[C...</td>\n",
              "      <td>581.758</td>\n",
              "      <td>5.0</td>\n",
              "      <td>6.0</td>\n",
              "      <td>2.5040</td>\n",
              "      <td>5.759451</td>\n",
              "    </tr>\n",
              "    <tr>\n",
              "      <th>4</th>\n",
              "      <td>0</td>\n",
              "      <td>0</td>\n",
              "      <td>1</td>\n",
              "      <td>0</td>\n",
              "      <td>1</td>\n",
              "      <td>active</td>\n",
              "      <td>CHEMBL296166</td>\n",
              "      <td>COC(=O)[C@@H]1CC(NC(=O)[C@H](NC(=O)C[C@H](O)[C...</td>\n",
              "      <td>751.824</td>\n",
              "      <td>5.0</td>\n",
              "      <td>9.0</td>\n",
              "      <td>3.5316</td>\n",
              "      <td>6.920819</td>\n",
              "    </tr>\n",
              "    <tr>\n",
              "      <th>...</th>\n",
              "      <td>...</td>\n",
              "      <td>...</td>\n",
              "      <td>...</td>\n",
              "      <td>...</td>\n",
              "      <td>...</td>\n",
              "      <td>...</td>\n",
              "      <td>...</td>\n",
              "      <td>...</td>\n",
              "      <td>...</td>\n",
              "      <td>...</td>\n",
              "      <td>...</td>\n",
              "      <td>...</td>\n",
              "      <td>...</td>\n",
              "    </tr>\n",
              "    <tr>\n",
              "      <th>8915</th>\n",
              "      <td>0</td>\n",
              "      <td>0</td>\n",
              "      <td>0</td>\n",
              "      <td>0</td>\n",
              "      <td>0</td>\n",
              "      <td>inactive</td>\n",
              "      <td>CHEMBL4565226</td>\n",
              "      <td>CC(Cc1cc2ccccc2nc1N)C(=O)NC[C@@]12CCCO[C@@H]1C...</td>\n",
              "      <td>383.492</td>\n",
              "      <td>2.0</td>\n",
              "      <td>5.0</td>\n",
              "      <td>2.6975</td>\n",
              "      <td>4.468521</td>\n",
              "    </tr>\n",
              "    <tr>\n",
              "      <th>8916</th>\n",
              "      <td>0</td>\n",
              "      <td>0</td>\n",
              "      <td>0</td>\n",
              "      <td>0</td>\n",
              "      <td>0</td>\n",
              "      <td>inactive</td>\n",
              "      <td>CHEMBL4520156</td>\n",
              "      <td>Nc1nc2ccccc2cc1CCC(=O)N1CC[C@H]2OCCC[C@@]2(Cc2...</td>\n",
              "      <td>429.564</td>\n",
              "      <td>1.0</td>\n",
              "      <td>4.0</td>\n",
              "      <td>4.3900</td>\n",
              "      <td>4.075721</td>\n",
              "    </tr>\n",
              "    <tr>\n",
              "      <th>8917</th>\n",
              "      <td>0</td>\n",
              "      <td>0</td>\n",
              "      <td>0</td>\n",
              "      <td>0</td>\n",
              "      <td>0</td>\n",
              "      <td>inactive</td>\n",
              "      <td>CHEMBL4585673</td>\n",
              "      <td>Nc1nc2ccccc2cc1CCC(=O)NC[C@@]12CCCO[C@@H]1CCOC2</td>\n",
              "      <td>369.465</td>\n",
              "      <td>2.0</td>\n",
              "      <td>5.0</td>\n",
              "      <td>2.4515</td>\n",
              "      <td>4.537602</td>\n",
              "    </tr>\n",
              "    <tr>\n",
              "      <th>8918</th>\n",
              "      <td>0</td>\n",
              "      <td>0</td>\n",
              "      <td>0</td>\n",
              "      <td>0</td>\n",
              "      <td>0</td>\n",
              "      <td>inactive</td>\n",
              "      <td>CHEMBL4546115</td>\n",
              "      <td>COc1ccc2c(c1)[C@@H](O)[C@@]1(CCN(C(=O)CCc3cc4c...</td>\n",
              "      <td>417.509</td>\n",
              "      <td>2.0</td>\n",
              "      <td>5.0</td>\n",
              "      <td>3.2666</td>\n",
              "      <td>4.259637</td>\n",
              "    </tr>\n",
              "    <tr>\n",
              "      <th>8919</th>\n",
              "      <td>0</td>\n",
              "      <td>0</td>\n",
              "      <td>0</td>\n",
              "      <td>0</td>\n",
              "      <td>0</td>\n",
              "      <td>inactive</td>\n",
              "      <td>CHEMBL1821813</td>\n",
              "      <td>Nc1nc2ccccc2cc1CCC(=O)NCC1CCCCC1</td>\n",
              "      <td>311.429</td>\n",
              "      <td>2.0</td>\n",
              "      <td>3.0</td>\n",
              "      <td>3.4461</td>\n",
              "      <td>4.508638</td>\n",
              "    </tr>\n",
              "  </tbody>\n",
              "</table>\n",
              "<p>8920 rows × 13 columns</p>\n",
              "</div>"
            ],
            "text/plain": [
              "      HD  HA  logP  ...  Number of Hydrogen Acceptors    OWPC     pIC50\n",
              "0      0   0     0  ...                           2.0  6.9135  6.455932\n",
              "1      0   0     1  ...                           9.0  4.4964  6.920819\n",
              "2      0   0     1  ...                           6.0  2.4520  5.946922\n",
              "3      0   0     1  ...                           6.0  2.5040  5.759451\n",
              "4      0   0     1  ...                           9.0  3.5316  6.920819\n",
              "...   ..  ..   ...  ...                           ...     ...       ...\n",
              "8915   0   0     0  ...                           5.0  2.6975  4.468521\n",
              "8916   0   0     0  ...                           4.0  4.3900  4.075721\n",
              "8917   0   0     0  ...                           5.0  2.4515  4.537602\n",
              "8918   0   0     0  ...                           5.0  3.2666  4.259637\n",
              "8919   0   0     0  ...                           3.0  3.4461  4.508638\n",
              "\n",
              "[8920 rows x 13 columns]"
            ]
          },
          "metadata": {
            "tags": []
          },
          "execution_count": 137
        }
      ]
    },
    {
      "cell_type": "code",
      "metadata": {
        "colab": {
          "base_uri": "https://localhost:8080/",
          "height": 296
        },
        "id": "VMRyQk4WKUpn",
        "outputId": "19d18a5c-9f65-414d-8d28-8725b55e4ad0"
      },
      "source": [
        "sns.boxplot(x='bioactivity_class', y='pIC50', data=checked_df)\n",
        "plt.title('pIC50 Dist. - Target (valid candidates)')\n",
        "plt.savefig('pIC50 class pic (pass Lipinski) ')"
      ],
      "execution_count": null,
      "outputs": [
        {
          "output_type": "display_data",
          "data": {
            "image/png": "[encoded data removed]",
            "text/plain": [
              "<Figure size 432x288 with 1 Axes>"
            ]
          },
          "metadata": {
            "tags": [],
            "needs_background": "light"
          }
        }
      ]
    },
    {
      "cell_type": "code",
      "metadata": {
        "id": "DmDY3D-AKwP3"
      },
      "source": [
        "valid_compounds_classification = checked_df[checked_df.bioactivity_class != 'min effect']"
      ],
      "execution_count": null,
      "outputs": []
    },
    {
      "cell_type": "code",
      "metadata": {
        "id": "H_4aLTcnKyy2"
      },
      "source": [
        "valid_compounds_classification.to_csv('df_ready_classification.csv')"
      ],
      "execution_count": null,
      "outputs": []
    },
    {
      "cell_type": "code",
      "metadata": {
        "id": "SRW5P44uK0Z4"
      },
      "source": [
        "checked_df.to_csv('df-ready-regression.csv')"
      ],
      "execution_count": null,
      "outputs": []
    },
    {
      "cell_type": "code",
      "metadata": {
        "id": "9BVl2JbiK2Fi"
      },
      "source": [
        "### Now data is prepared for feature engineering: obtaining 1D/2D descriptors for compound library. \n",
        "import pandas as pd\n",
        "\n",
        "data_1 = pd.read_csv('df-ready-regression.csv')\n",
        "data_2 = pd.read_csv('df_ready_classification.csv')"
      ],
      "execution_count": null,
      "outputs": []
    },
    {
      "cell_type": "code",
      "metadata": {
        "id": "Yv4I4_MEK4WA"
      },
      "source": [
        "selections = ['canonical_smiles', 'molecule_chembl_id']\n",
        "\n",
        "df_reg = data_1[selections]\n",
        "df_class = data_2[selections]"
      ],
      "execution_count": null,
      "outputs": []
    },
    {
      "cell_type": "code",
      "metadata": {
        "id": "Ap9To2YzK6ox"
      },
      "source": [
        "df_reg.to_csv('Padel_regression_ready.smi', sep='\\t', index=False, header=False)"
      ],
      "execution_count": null,
      "outputs": []
    },
    {
      "cell_type": "code",
      "metadata": {
        "colab": {
          "base_uri": "https://localhost:8080/",
          "height": 495
        },
        "id": "L2Mq1LmrK8UE",
        "outputId": "481dfbf8-ba36-4624-cf96-4197b0c12a62"
      },
      "source": [
        "data_1"
      ],
      "execution_count": null,
      "outputs": [
        {
          "output_type": "execute_result",
          "data": {
            "text/html": [
              "<div>\n",
              "<style scoped>\n",
              "    .dataframe tbody tr th:only-of-type {\n",
              "        vertical-align: middle;\n",
              "    }\n",
              "\n",
              "    .dataframe tbody tr th {\n",
              "        vertical-align: top;\n",
              "    }\n",
              "\n",
              "    .dataframe thead th {\n",
              "        text-align: right;\n",
              "    }\n",
              "</style>\n",
              "<table border=\"1\" class=\"dataframe\">\n",
              "  <thead>\n",
              "    <tr style=\"text-align: right;\">\n",
              "      <th></th>\n",
              "      <th>Unnamed: 0</th>\n",
              "      <th>HD</th>\n",
              "      <th>HA</th>\n",
              "      <th>logP</th>\n",
              "      <th>MW</th>\n",
              "      <th>sum</th>\n",
              "      <th>bioactivity_class</th>\n",
              "      <th>molecule_chembl_id</th>\n",
              "      <th>canonical_smiles</th>\n",
              "      <th>Molecular Weight</th>\n",
              "      <th>Number of Hydrogen Donors</th>\n",
              "      <th>Number of Hydrogen Acceptors</th>\n",
              "      <th>OWPC</th>\n",
              "      <th>pIC50</th>\n",
              "    </tr>\n",
              "  </thead>\n",
              "  <tbody>\n",
              "    <tr>\n",
              "      <th>0</th>\n",
              "      <td>0</td>\n",
              "      <td>0</td>\n",
              "      <td>0</td>\n",
              "      <td>0</td>\n",
              "      <td>1</td>\n",
              "      <td>1</td>\n",
              "      <td>active</td>\n",
              "      <td>CHEMBL142715</td>\n",
              "      <td>c1ccc(-c2ccc(COc3ccc4c(c3)CCC(CCN3CCCCC3)C4)cc...</td>\n",
              "      <td>425.616</td>\n",
              "      <td>0.0</td>\n",
              "      <td>2.0</td>\n",
              "      <td>6.9135</td>\n",
              "      <td>6.455932</td>\n",
              "    </tr>\n",
              "    <tr>\n",
              "      <th>1</th>\n",
              "      <td>1</td>\n",
              "      <td>0</td>\n",
              "      <td>0</td>\n",
              "      <td>1</td>\n",
              "      <td>0</td>\n",
              "      <td>1</td>\n",
              "      <td>active</td>\n",
              "      <td>CHEMBL143687</td>\n",
              "      <td>COC(=O)c1cc(NC(=O)[C@@H](NC(=O)C[C@H](O)[C@H](...</td>\n",
              "      <td>745.776</td>\n",
              "      <td>5.0</td>\n",
              "      <td>9.0</td>\n",
              "      <td>4.4964</td>\n",
              "      <td>6.920819</td>\n",
              "    </tr>\n",
              "    <tr>\n",
              "      <th>2</th>\n",
              "      <td>2</td>\n",
              "      <td>0</td>\n",
              "      <td>0</td>\n",
              "      <td>1</td>\n",
              "      <td>0</td>\n",
              "      <td>1</td>\n",
              "      <td>min effect</td>\n",
              "      <td>CHEMBL82270</td>\n",
              "      <td>CC(C)[C@H](F)C(=O)N[C@@H](C)C(=O)N[C@@H](Cc1cc...</td>\n",
              "      <td>599.748</td>\n",
              "      <td>5.0</td>\n",
              "      <td>6.0</td>\n",
              "      <td>2.4520</td>\n",
              "      <td>5.946922</td>\n",
              "    </tr>\n",
              "    <tr>\n",
              "      <th>3</th>\n",
              "      <td>3</td>\n",
              "      <td>0</td>\n",
              "      <td>0</td>\n",
              "      <td>1</td>\n",
              "      <td>0</td>\n",
              "      <td>1</td>\n",
              "      <td>min effect</td>\n",
              "      <td>CHEMBL84835</td>\n",
              "      <td>CC(C)CC(=O)N[C@@H](C)C(=O)N[C@@H](Cc1ccccc1)[C...</td>\n",
              "      <td>581.758</td>\n",
              "      <td>5.0</td>\n",
              "      <td>6.0</td>\n",
              "      <td>2.5040</td>\n",
              "      <td>5.759451</td>\n",
              "    </tr>\n",
              "    <tr>\n",
              "      <th>4</th>\n",
              "      <td>4</td>\n",
              "      <td>0</td>\n",
              "      <td>0</td>\n",
              "      <td>1</td>\n",
              "      <td>0</td>\n",
              "      <td>1</td>\n",
              "      <td>active</td>\n",
              "      <td>CHEMBL296166</td>\n",
              "      <td>COC(=O)[C@@H]1CC(NC(=O)[C@H](NC(=O)C[C@H](O)[C...</td>\n",
              "      <td>751.824</td>\n",
              "      <td>5.0</td>\n",
              "      <td>9.0</td>\n",
              "      <td>3.5316</td>\n",
              "      <td>6.920819</td>\n",
              "    </tr>\n",
              "    <tr>\n",
              "      <th>...</th>\n",
              "      <td>...</td>\n",
              "      <td>...</td>\n",
              "      <td>...</td>\n",
              "      <td>...</td>\n",
              "      <td>...</td>\n",
              "      <td>...</td>\n",
              "      <td>...</td>\n",
              "      <td>...</td>\n",
              "      <td>...</td>\n",
              "      <td>...</td>\n",
              "      <td>...</td>\n",
              "      <td>...</td>\n",
              "      <td>...</td>\n",
              "      <td>...</td>\n",
              "    </tr>\n",
              "    <tr>\n",
              "      <th>8915</th>\n",
              "      <td>8915</td>\n",
              "      <td>0</td>\n",
              "      <td>0</td>\n",
              "      <td>0</td>\n",
              "      <td>0</td>\n",
              "      <td>0</td>\n",
              "      <td>inactive</td>\n",
              "      <td>CHEMBL4565226</td>\n",
              "      <td>CC(Cc1cc2ccccc2nc1N)C(=O)NC[C@@]12CCCO[C@@H]1C...</td>\n",
              "      <td>383.492</td>\n",
              "      <td>2.0</td>\n",
              "      <td>5.0</td>\n",
              "      <td>2.6975</td>\n",
              "      <td>4.468521</td>\n",
              "    </tr>\n",
              "    <tr>\n",
              "      <th>8916</th>\n",
              "      <td>8916</td>\n",
              "      <td>0</td>\n",
              "      <td>0</td>\n",
              "      <td>0</td>\n",
              "      <td>0</td>\n",
              "      <td>0</td>\n",
              "      <td>inactive</td>\n",
              "      <td>CHEMBL4520156</td>\n",
              "      <td>Nc1nc2ccccc2cc1CCC(=O)N1CC[C@H]2OCCC[C@@]2(Cc2...</td>\n",
              "      <td>429.564</td>\n",
              "      <td>1.0</td>\n",
              "      <td>4.0</td>\n",
              "      <td>4.3900</td>\n",
              "      <td>4.075721</td>\n",
              "    </tr>\n",
              "    <tr>\n",
              "      <th>8917</th>\n",
              "      <td>8917</td>\n",
              "      <td>0</td>\n",
              "      <td>0</td>\n",
              "      <td>0</td>\n",
              "      <td>0</td>\n",
              "      <td>0</td>\n",
              "      <td>inactive</td>\n",
              "      <td>CHEMBL4585673</td>\n",
              "      <td>Nc1nc2ccccc2cc1CCC(=O)NC[C@@]12CCCO[C@@H]1CCOC2</td>\n",
              "      <td>369.465</td>\n",
              "      <td>2.0</td>\n",
              "      <td>5.0</td>\n",
              "      <td>2.4515</td>\n",
              "      <td>4.537602</td>\n",
              "    </tr>\n",
              "    <tr>\n",
              "      <th>8918</th>\n",
              "      <td>8918</td>\n",
              "      <td>0</td>\n",
              "      <td>0</td>\n",
              "      <td>0</td>\n",
              "      <td>0</td>\n",
              "      <td>0</td>\n",
              "      <td>inactive</td>\n",
              "      <td>CHEMBL4546115</td>\n",
              "      <td>COc1ccc2c(c1)[C@@H](O)[C@@]1(CCN(C(=O)CCc3cc4c...</td>\n",
              "      <td>417.509</td>\n",
              "      <td>2.0</td>\n",
              "      <td>5.0</td>\n",
              "      <td>3.2666</td>\n",
              "      <td>4.259637</td>\n",
              "    </tr>\n",
              "    <tr>\n",
              "      <th>8919</th>\n",
              "      <td>8919</td>\n",
              "      <td>0</td>\n",
              "      <td>0</td>\n",
              "      <td>0</td>\n",
              "      <td>0</td>\n",
              "      <td>0</td>\n",
              "      <td>inactive</td>\n",
              "      <td>CHEMBL1821813</td>\n",
              "      <td>Nc1nc2ccccc2cc1CCC(=O)NCC1CCCCC1</td>\n",
              "      <td>311.429</td>\n",
              "      <td>2.0</td>\n",
              "      <td>3.0</td>\n",
              "      <td>3.4461</td>\n",
              "      <td>4.508638</td>\n",
              "    </tr>\n",
              "  </tbody>\n",
              "</table>\n",
              "<p>8920 rows × 14 columns</p>\n",
              "</div>"
            ],
            "text/plain": [
              "      Unnamed: 0  HD  HA  ...  Number of Hydrogen Acceptors    OWPC     pIC50\n",
              "0              0   0   0  ...                           2.0  6.9135  6.455932\n",
              "1              1   0   0  ...                           9.0  4.4964  6.920819\n",
              "2              2   0   0  ...                           6.0  2.4520  5.946922\n",
              "3              3   0   0  ...                           6.0  2.5040  5.759451\n",
              "4              4   0   0  ...                           9.0  3.5316  6.920819\n",
              "...          ...  ..  ..  ...                           ...     ...       ...\n",
              "8915        8915   0   0  ...                           5.0  2.6975  4.468521\n",
              "8916        8916   0   0  ...                           4.0  4.3900  4.075721\n",
              "8917        8917   0   0  ...                           5.0  2.4515  4.537602\n",
              "8918        8918   0   0  ...                           5.0  3.2666  4.259637\n",
              "8919        8919   0   0  ...                           3.0  3.4461  4.508638\n",
              "\n",
              "[8920 rows x 14 columns]"
            ]
          },
          "metadata": {
            "tags": []
          },
          "execution_count": 145
        }
      ]
    },
    {
      "cell_type": "code",
      "metadata": {
        "id": "C1ePeNGlK-K1"
      },
      "source": [
        "df_class.to_csv('Padel_classification_ready.smi', sep='\\t', index=False, header=False)"
      ],
      "execution_count": null,
      "outputs": []
    },
    {
      "cell_type": "code",
      "metadata": {
        "colab": {
          "base_uri": "https://localhost:8080/",
          "height": 495
        },
        "id": "qzvifUG4LCW3",
        "outputId": "3fc2fedf-ca78-4f77-b523-533b75f63661"
      },
      "source": [
        "data_2"
      ],
      "execution_count": null,
      "outputs": [
        {
          "output_type": "execute_result",
          "data": {
            "text/html": [
              "<div>\n",
              "<style scoped>\n",
              "    .dataframe tbody tr th:only-of-type {\n",
              "        vertical-align: middle;\n",
              "    }\n",
              "\n",
              "    .dataframe tbody tr th {\n",
              "        vertical-align: top;\n",
              "    }\n",
              "\n",
              "    .dataframe thead th {\n",
              "        text-align: right;\n",
              "    }\n",
              "</style>\n",
              "<table border=\"1\" class=\"dataframe\">\n",
              "  <thead>\n",
              "    <tr style=\"text-align: right;\">\n",
              "      <th></th>\n",
              "      <th>Unnamed: 0</th>\n",
              "      <th>HD</th>\n",
              "      <th>HA</th>\n",
              "      <th>logP</th>\n",
              "      <th>MW</th>\n",
              "      <th>sum</th>\n",
              "      <th>bioactivity_class</th>\n",
              "      <th>molecule_chembl_id</th>\n",
              "      <th>canonical_smiles</th>\n",
              "      <th>Molecular Weight</th>\n",
              "      <th>Number of Hydrogen Donors</th>\n",
              "      <th>Number of Hydrogen Acceptors</th>\n",
              "      <th>OWPC</th>\n",
              "      <th>pIC50</th>\n",
              "    </tr>\n",
              "  </thead>\n",
              "  <tbody>\n",
              "    <tr>\n",
              "      <th>0</th>\n",
              "      <td>0</td>\n",
              "      <td>0</td>\n",
              "      <td>0</td>\n",
              "      <td>0</td>\n",
              "      <td>1</td>\n",
              "      <td>1</td>\n",
              "      <td>active</td>\n",
              "      <td>CHEMBL142715</td>\n",
              "      <td>c1ccc(-c2ccc(COc3ccc4c(c3)CCC(CCN3CCCCC3)C4)cc...</td>\n",
              "      <td>425.616</td>\n",
              "      <td>0.0</td>\n",
              "      <td>2.0</td>\n",
              "      <td>6.9135</td>\n",
              "      <td>6.455932</td>\n",
              "    </tr>\n",
              "    <tr>\n",
              "      <th>1</th>\n",
              "      <td>1</td>\n",
              "      <td>0</td>\n",
              "      <td>0</td>\n",
              "      <td>1</td>\n",
              "      <td>0</td>\n",
              "      <td>1</td>\n",
              "      <td>active</td>\n",
              "      <td>CHEMBL143687</td>\n",
              "      <td>COC(=O)c1cc(NC(=O)[C@@H](NC(=O)C[C@H](O)[C@H](...</td>\n",
              "      <td>745.776</td>\n",
              "      <td>5.0</td>\n",
              "      <td>9.0</td>\n",
              "      <td>4.4964</td>\n",
              "      <td>6.920819</td>\n",
              "    </tr>\n",
              "    <tr>\n",
              "      <th>2</th>\n",
              "      <td>4</td>\n",
              "      <td>0</td>\n",
              "      <td>0</td>\n",
              "      <td>1</td>\n",
              "      <td>0</td>\n",
              "      <td>1</td>\n",
              "      <td>active</td>\n",
              "      <td>CHEMBL296166</td>\n",
              "      <td>COC(=O)[C@@H]1CC(NC(=O)[C@H](NC(=O)C[C@H](O)[C...</td>\n",
              "      <td>751.824</td>\n",
              "      <td>5.0</td>\n",
              "      <td>9.0</td>\n",
              "      <td>3.5316</td>\n",
              "      <td>6.920819</td>\n",
              "    </tr>\n",
              "    <tr>\n",
              "      <th>3</th>\n",
              "      <td>5</td>\n",
              "      <td>0</td>\n",
              "      <td>0</td>\n",
              "      <td>1</td>\n",
              "      <td>0</td>\n",
              "      <td>1</td>\n",
              "      <td>inactive</td>\n",
              "      <td>CHEMBL296166</td>\n",
              "      <td>COC(=O)[C@@H]1CC(NC(=O)[C@H](NC(=O)C[C@H](O)[C...</td>\n",
              "      <td>751.824</td>\n",
              "      <td>5.0</td>\n",
              "      <td>9.0</td>\n",
              "      <td>3.5316</td>\n",
              "      <td>5.000000</td>\n",
              "    </tr>\n",
              "    <tr>\n",
              "      <th>4</th>\n",
              "      <td>6</td>\n",
              "      <td>0</td>\n",
              "      <td>0</td>\n",
              "      <td>1</td>\n",
              "      <td>0</td>\n",
              "      <td>1</td>\n",
              "      <td>inactive</td>\n",
              "      <td>CHEMBL53668</td>\n",
              "      <td>COC(=O)[C@@H]1CC(NC(=O)[C@@H](NC(=O)C[C@H](O)[...</td>\n",
              "      <td>655.789</td>\n",
              "      <td>5.0</td>\n",
              "      <td>9.0</td>\n",
              "      <td>2.5430</td>\n",
              "      <td>3.853872</td>\n",
              "    </tr>\n",
              "    <tr>\n",
              "      <th>...</th>\n",
              "      <td>...</td>\n",
              "      <td>...</td>\n",
              "      <td>...</td>\n",
              "      <td>...</td>\n",
              "      <td>...</td>\n",
              "      <td>...</td>\n",
              "      <td>...</td>\n",
              "      <td>...</td>\n",
              "      <td>...</td>\n",
              "      <td>...</td>\n",
              "      <td>...</td>\n",
              "      <td>...</td>\n",
              "      <td>...</td>\n",
              "      <td>...</td>\n",
              "    </tr>\n",
              "    <tr>\n",
              "      <th>7191</th>\n",
              "      <td>8915</td>\n",
              "      <td>0</td>\n",
              "      <td>0</td>\n",
              "      <td>0</td>\n",
              "      <td>0</td>\n",
              "      <td>0</td>\n",
              "      <td>inactive</td>\n",
              "      <td>CHEMBL4565226</td>\n",
              "      <td>CC(Cc1cc2ccccc2nc1N)C(=O)NC[C@@]12CCCO[C@@H]1C...</td>\n",
              "      <td>383.492</td>\n",
              "      <td>2.0</td>\n",
              "      <td>5.0</td>\n",
              "      <td>2.6975</td>\n",
              "      <td>4.468521</td>\n",
              "    </tr>\n",
              "    <tr>\n",
              "      <th>7192</th>\n",
              "      <td>8916</td>\n",
              "      <td>0</td>\n",
              "      <td>0</td>\n",
              "      <td>0</td>\n",
              "      <td>0</td>\n",
              "      <td>0</td>\n",
              "      <td>inactive</td>\n",
              "      <td>CHEMBL4520156</td>\n",
              "      <td>Nc1nc2ccccc2cc1CCC(=O)N1CC[C@H]2OCCC[C@@]2(Cc2...</td>\n",
              "      <td>429.564</td>\n",
              "      <td>1.0</td>\n",
              "      <td>4.0</td>\n",
              "      <td>4.3900</td>\n",
              "      <td>4.075721</td>\n",
              "    </tr>\n",
              "    <tr>\n",
              "      <th>7193</th>\n",
              "      <td>8917</td>\n",
              "      <td>0</td>\n",
              "      <td>0</td>\n",
              "      <td>0</td>\n",
              "      <td>0</td>\n",
              "      <td>0</td>\n",
              "      <td>inactive</td>\n",
              "      <td>CHEMBL4585673</td>\n",
              "      <td>Nc1nc2ccccc2cc1CCC(=O)NC[C@@]12CCCO[C@@H]1CCOC2</td>\n",
              "      <td>369.465</td>\n",
              "      <td>2.0</td>\n",
              "      <td>5.0</td>\n",
              "      <td>2.4515</td>\n",
              "      <td>4.537602</td>\n",
              "    </tr>\n",
              "    <tr>\n",
              "      <th>7194</th>\n",
              "      <td>8918</td>\n",
              "      <td>0</td>\n",
              "      <td>0</td>\n",
              "      <td>0</td>\n",
              "      <td>0</td>\n",
              "      <td>0</td>\n",
              "      <td>inactive</td>\n",
              "      <td>CHEMBL4546115</td>\n",
              "      <td>COc1ccc2c(c1)[C@@H](O)[C@@]1(CCN(C(=O)CCc3cc4c...</td>\n",
              "      <td>417.509</td>\n",
              "      <td>2.0</td>\n",
              "      <td>5.0</td>\n",
              "      <td>3.2666</td>\n",
              "      <td>4.259637</td>\n",
              "    </tr>\n",
              "    <tr>\n",
              "      <th>7195</th>\n",
              "      <td>8919</td>\n",
              "      <td>0</td>\n",
              "      <td>0</td>\n",
              "      <td>0</td>\n",
              "      <td>0</td>\n",
              "      <td>0</td>\n",
              "      <td>inactive</td>\n",
              "      <td>CHEMBL1821813</td>\n",
              "      <td>Nc1nc2ccccc2cc1CCC(=O)NCC1CCCCC1</td>\n",
              "      <td>311.429</td>\n",
              "      <td>2.0</td>\n",
              "      <td>3.0</td>\n",
              "      <td>3.4461</td>\n",
              "      <td>4.508638</td>\n",
              "    </tr>\n",
              "  </tbody>\n",
              "</table>\n",
              "<p>7196 rows × 14 columns</p>\n",
              "</div>"
            ],
            "text/plain": [
              "      Unnamed: 0  HD  HA  ...  Number of Hydrogen Acceptors    OWPC     pIC50\n",
              "0              0   0   0  ...                           2.0  6.9135  6.455932\n",
              "1              1   0   0  ...                           9.0  4.4964  6.920819\n",
              "2              4   0   0  ...                           9.0  3.5316  6.920819\n",
              "3              5   0   0  ...                           9.0  3.5316  5.000000\n",
              "4              6   0   0  ...                           9.0  2.5430  3.853872\n",
              "...          ...  ..  ..  ...                           ...     ...       ...\n",
              "7191        8915   0   0  ...                           5.0  2.6975  4.468521\n",
              "7192        8916   0   0  ...                           4.0  4.3900  4.075721\n",
              "7193        8917   0   0  ...                           5.0  2.4515  4.537602\n",
              "7194        8918   0   0  ...                           5.0  3.2666  4.259637\n",
              "7195        8919   0   0  ...                           3.0  3.4461  4.508638\n",
              "\n",
              "[7196 rows x 14 columns]"
            ]
          },
          "metadata": {
            "tags": []
          },
          "execution_count": 147
        }
      ]
    },
    {
      "cell_type": "markdown",
      "metadata": {
        "id": "BvHkuDD-UMha"
      },
      "source": [
        "### QSAR Regression Modeling"
      ]
    },
    {
      "cell_type": "code",
      "metadata": {
        "id": "kg1n2UXAUz4h"
      },
      "source": [
        "!wget https://raw.githubusercontent.com/ashiwoku/QSAR-model/main/data%20folder/regression_model_data.csv\n",
        "!wget https://raw.githubusercontent.com/ashiwoku/QSAR-model/main/data%20folder/classification_model_data.csv"
      ],
      "execution_count": null,
      "outputs": []
    },
    {
      "cell_type": "code",
      "metadata": {
        "id": "oWf5xO01UHbv"
      },
      "source": [
        "## Get training and test sets for the regression model. \n",
        "import pandas as pd\n",
        "from sklearn.metrics import mean_squared_error, mean_absolute_error\n",
        "\n",
        "regression_data = pd.read_csv('regression_model_data.csv')\n",
        "regression_data.drop(columns='Unnamed: 0', inplace=True)"
      ],
      "execution_count": 22,
      "outputs": []
    },
    {
      "cell_type": "code",
      "metadata": {
        "id": "eXDhoT1sUQWM"
      },
      "source": [
        "X = regression_data.drop(columns='pIC50')\n",
        "y = regression_data.pIC50"
      ],
      "execution_count": 23,
      "outputs": []
    },
    {
      "cell_type": "markdown",
      "metadata": {
        "id": "5hUbyROqUUgr"
      },
      "source": [
        "#### Multiple Linear Regression with Polynomial terms"
      ]
    },
    {
      "cell_type": "code",
      "metadata": {
        "id": "Tjl_UJpNUSNl"
      },
      "source": [
        "from sklearn.model_selection import train_test_split\n",
        "X_train, X_test, y_train, y_test = train_test_split(X, y, test_size=0.25, random_state=44)"
      ],
      "execution_count": 24,
      "outputs": []
    },
    {
      "cell_type": "code",
      "metadata": {
        "id": "QO5QOoG8UW2a"
      },
      "source": [
        "### Now, run models again for regression type data.\n",
        "## First model will be a multiple linear regression model. \n",
        "from sklearn.linear_model import LinearRegression\n",
        "MLR = LinearRegression().fit(X_train, y_train)"
      ],
      "execution_count": 25,
      "outputs": []
    },
    {
      "cell_type": "code",
      "metadata": {
        "colab": {
          "base_uri": "https://localhost:8080/"
        },
        "id": "eCuQZhPFUYhl",
        "outputId": "32984163-7e48-4bf3-ce79-66a6a1d09614"
      },
      "source": [
        "r_sq = MLR.score(X_train, y_train)  ## Calculate the R^2 value to determine model fit \n",
        "r_sq"
      ],
      "execution_count": 26,
      "outputs": [
        {
          "output_type": "execute_result",
          "data": {
            "text/plain": [
              "0.33281408189168216"
            ]
          },
          "metadata": {
            "tags": []
          },
          "execution_count": 26
        }
      ]
    },
    {
      "cell_type": "code",
      "metadata": {
        "id": "bzFsnsY7UbkN"
      },
      "source": [
        "predictions = MLR.predict(X_test)"
      ],
      "execution_count": 27,
      "outputs": []
    },
    {
      "cell_type": "code",
      "metadata": {
        "colab": {
          "base_uri": "https://localhost:8080/"
        },
        "id": "dSTvqMoBUdZe",
        "outputId": "ee6206ad-9598-47a7-f2a0-c6191c015292"
      },
      "source": [
        "import numpy as np\n",
        "print(np.sqrt(mean_squared_error(y_test, predictions)))"
      ],
      "execution_count": 28,
      "outputs": [
        {
          "output_type": "stream",
          "text": [
            "0.9856798535474988\n"
          ],
          "name": "stdout"
        }
      ]
    },
    {
      "cell_type": "code",
      "metadata": {
        "colab": {
          "base_uri": "https://localhost:8080/"
        },
        "id": "J19BqmoxUfE6",
        "outputId": "1e0d4769-b02e-41fd-a0a9-b3de4b715f24"
      },
      "source": [
        "print(mean_absolute_error(y_test, predictions))"
      ],
      "execution_count": 29,
      "outputs": [
        {
          "output_type": "stream",
          "text": [
            "0.7805618137797512\n"
          ],
          "name": "stdout"
        }
      ]
    },
    {
      "cell_type": "code",
      "metadata": {
        "colab": {
          "base_uri": "https://localhost:8080/",
          "height": 623
        },
        "id": "gY9x7FzsVD9V",
        "outputId": "19f2a13c-86bb-4309-fa00-b3814594774b"
      },
      "source": [
        "import matplotlib.pyplot as plt\n",
        "\n",
        "plt.figure(figsize=(10,10))\n",
        "plt.scatter(y_test, predictions)\n",
        "\n",
        "plt.xlabel('Actual Values')\n",
        "plt.ylabel('Predicted Values')"
      ],
      "execution_count": 30,
      "outputs": [
        {
          "output_type": "execute_result",
          "data": {
            "text/plain": [
              "Text(0, 0.5, 'Predicted Values')"
            ]
          },
          "metadata": {
            "tags": []
          },
          "execution_count": 30
        },
        {
          "output_type": "display_data",
          "data": {
            "image/png": "[encoded data removed]",
            "text/plain": [
              "<Figure size 720x720 with 1 Axes>"
            ]
          },
          "metadata": {
            "tags": [],
            "needs_background": "light"
          }
        }
      ]
    },
    {
      "cell_type": "code",
      "metadata": {
        "id": "3NtUNJxXVMcV"
      },
      "source": [
        "## The results from the multiple linear regression is quite poor, with lots of unexplained variance in our response having \n",
        "## no connection to our selected features.The model shows a poor RMSE which is anouhter sign of underfitting our data."
      ],
      "execution_count": 31,
      "outputs": []
    },
    {
      "cell_type": "code",
      "metadata": {
        "id": "VstJz35NVP6U"
      },
      "source": [
        "## By looking at the results of the regression and the support vector classification that a linear relationship is not \n",
        "## present in the model. To imporve the perfomance of the linear model, we should include higher order polynomials to help\n",
        "## capture the nonlinear relationship."
      ],
      "execution_count": 32,
      "outputs": []
    },
    {
      "cell_type": "code",
      "metadata": {
        "id": "4EhHy1RpVRin"
      },
      "source": [
        "## Now calculate the polynmial features for the set. we will compute up to the third order polynomial.\n",
        "from sklearn.preprocessing import PolynomialFeatures\n",
        "poly_data = PolynomialFeatures(2)\n",
        "X_poly = poly_data.fit_transform(X)"
      ],
      "execution_count": 33,
      "outputs": []
    },
    {
      "cell_type": "code",
      "metadata": {
        "id": "Sc3UiPeGVTPI"
      },
      "source": [
        "## Before we calculate the poynomials, we should rescale the data using StandardScaler.\n",
        "from sklearn.preprocessing import StandardScaler\n",
        "scaler = StandardScaler()\n",
        "X_scaled_poly = scaler.fit_transform(X_poly)"
      ],
      "execution_count": 34,
      "outputs": []
    },
    {
      "cell_type": "code",
      "metadata": {
        "colab": {
          "base_uri": "https://localhost:8080/"
        },
        "id": "Y3se1FoQVU7r",
        "outputId": "c8b74975-a580-4306-cc4b-e16dca354499"
      },
      "source": [
        "print(\"The old dataset had the shape: {}; the new dataset has the shape: {}\".format(X.shape,X_scaled_poly.shape))"
      ],
      "execution_count": 35,
      "outputs": [
        {
          "output_type": "stream",
          "text": [
            "The old dataset had the shape: (8189, 33); the new dataset has the shape: (8189, 595)\n"
          ],
          "name": "stdout"
        }
      ]
    },
    {
      "cell_type": "code",
      "metadata": {
        "id": "EOtxnU3cVWSJ"
      },
      "source": [
        "X_train, X_test, y_train, y_test = train_test_split(X_scaled_poly, y, test_size=0.25, random_state=44)"
      ],
      "execution_count": 36,
      "outputs": []
    },
    {
      "cell_type": "code",
      "metadata": {
        "id": "SOWa0vIkVane"
      },
      "source": [
        "MLR_2 = LinearRegression().fit(X_train, y_train)"
      ],
      "execution_count": 37,
      "outputs": []
    },
    {
      "cell_type": "code",
      "metadata": {
        "colab": {
          "base_uri": "https://localhost:8080/"
        },
        "id": "1TAa_3IGVctT",
        "outputId": "459ca49b-95c5-4d81-ed6c-d2392814c55d"
      },
      "source": [
        "r_sq = MLR_2.score(X_train, y_train)  ## Calculate the R^2 value to determine model fit \n",
        "r_sq"
      ],
      "execution_count": 38,
      "outputs": [
        {
          "output_type": "execute_result",
          "data": {
            "text/plain": [
              "0.5965943949613286"
            ]
          },
          "metadata": {
            "tags": []
          },
          "execution_count": 38
        }
      ]
    },
    {
      "cell_type": "code",
      "metadata": {
        "id": "qlTE_rqWVeUD"
      },
      "source": [
        "## we see a much improved R^2 value, but lets look at other metrics to see if we avoided overfitting."
      ],
      "execution_count": 39,
      "outputs": []
    },
    {
      "cell_type": "code",
      "metadata": {
        "id": "Tadi1P09Vf-S"
      },
      "source": [
        "predictions = MLR_2.predict(X_test)"
      ],
      "execution_count": 40,
      "outputs": []
    },
    {
      "cell_type": "code",
      "metadata": {
        "colab": {
          "base_uri": "https://localhost:8080/"
        },
        "id": "2u8tMwxMVhvJ",
        "outputId": "46194e04-56fe-4784-8606-564493dd8c45"
      },
      "source": [
        "print(mean_squared_error(y_test, predictions))"
      ],
      "execution_count": 41,
      "outputs": [
        {
          "output_type": "stream",
          "text": [
            "62.27637609148729\n"
          ],
          "name": "stdout"
        }
      ]
    },
    {
      "cell_type": "code",
      "metadata": {
        "colab": {
          "base_uri": "https://localhost:8080/",
          "height": 627
        },
        "id": "2PughF1DVjTf",
        "outputId": "c8dc7679-c5b9-42f4-dfe5-3eb817c9f4f2"
      },
      "source": [
        "plt.figure(figsize=(10,10))\n",
        "plt.scatter(y_test, predictions)\n",
        "plt.xlabel('Actual Values')\n",
        "plt.xlim(0,10)\n",
        "plt.ylim(0,10)\n",
        "plt.ylabel('Predicted Values')"
      ],
      "execution_count": 42,
      "outputs": [
        {
          "output_type": "execute_result",
          "data": {
            "text/plain": [
              "Text(0, 0.5, 'Predicted Values')"
            ]
          },
          "metadata": {
            "tags": []
          },
          "execution_count": 42
        },
        {
          "output_type": "display_data",
          "data": {
            "image/png": "[encoded data removed]",
            "text/plain": [
              "<Figure size 720x720 with 1 Axes>"
            ]
          },
          "metadata": {
            "tags": [],
            "needs_background": "light"
          }
        }
      ]
    },
    {
      "cell_type": "code",
      "metadata": {
        "colab": {
          "base_uri": "https://localhost:8080/"
        },
        "id": "delYvnOxVleP",
        "outputId": "9bd24f68-a066-489f-b53d-8687307bfa3d"
      },
      "source": [
        "print(mean_absolute_error(y_test, predictions))"
      ],
      "execution_count": 43,
      "outputs": [
        {
          "output_type": "stream",
          "text": [
            "0.9265378654576283\n"
          ],
          "name": "stdout"
        }
      ]
    },
    {
      "cell_type": "code",
      "metadata": {
        "colab": {
          "base_uri": "https://localhost:8080/"
        },
        "id": "v0CLaTdvVnX1",
        "outputId": "aeb78666-6f34-4ee6-b9b1-2d12354d1106"
      },
      "source": [
        "predictions"
      ],
      "execution_count": 44,
      "outputs": [
        {
          "output_type": "execute_result",
          "data": {
            "text/plain": [
              "array([7.46916951, 6.58621388, 6.5912927 , ..., 5.97718561, 5.83458083,\n",
              "       6.7612483 ])"
            ]
          },
          "metadata": {
            "tags": []
          },
          "execution_count": 44
        }
      ]
    },
    {
      "cell_type": "code",
      "metadata": {
        "id": "zHnngx_7VoxY"
      },
      "source": [
        "## the results show that despite the impressive model fit, the model seems to make the poor decision of predicting 0 for \n",
        "## most , if not all, model instances."
      ],
      "execution_count": 45,
      "outputs": []
    },
    {
      "cell_type": "markdown",
      "metadata": {
        "id": "Lbb531PvVsce"
      },
      "source": [
        "#### Support Vector Regression"
      ]
    },
    {
      "cell_type": "code",
      "metadata": {
        "id": "ZKfWzSQSVqiL"
      },
      "source": [
        "## Utilizing the non-linear kernels in support vector machines may allow for better modeling on the non-linear data\n",
        "from sklearn.svm import SVR\n",
        "from sklearn.pipeline import make_pipeline\n",
        "X_train, X_test, y_train, y_test = train_test_split(X, y, test_size=0.25, random_state=44)"
      ],
      "execution_count": 47,
      "outputs": []
    },
    {
      "cell_type": "code",
      "metadata": {
        "colab": {
          "base_uri": "https://localhost:8080/"
        },
        "id": "1na0hiJIVvuL",
        "outputId": "b28af146-8271-48a0-edac-1689a4880e11"
      },
      "source": [
        "SVR_pipeline = make_pipeline(StandardScaler(), SVR(kernel='rbf',C=0.6))\n",
        "SVR_pipeline.fit(X_train, y_train)"
      ],
      "execution_count": 48,
      "outputs": [
        {
          "output_type": "execute_result",
          "data": {
            "text/plain": [
              "Pipeline(memory=None,\n",
              "         steps=[('standardscaler',\n",
              "                 StandardScaler(copy=True, with_mean=True, with_std=True)),\n",
              "                ('svr',\n",
              "                 SVR(C=0.6, cache_size=200, coef0=0.0, degree=3, epsilon=0.1,\n",
              "                     gamma='scale', kernel='rbf', max_iter=-1, shrinking=True,\n",
              "                     tol=0.001, verbose=False))],\n",
              "         verbose=False)"
            ]
          },
          "metadata": {
            "tags": []
          },
          "execution_count": 48
        }
      ]
    },
    {
      "cell_type": "code",
      "metadata": {
        "id": "_A6uD0TdV0U2"
      },
      "source": [
        "predictions = SVR_pipeline.predict(X_test)"
      ],
      "execution_count": 49,
      "outputs": []
    },
    {
      "cell_type": "code",
      "metadata": {
        "colab": {
          "base_uri": "https://localhost:8080/"
        },
        "id": "O_n__mhZV2OT",
        "outputId": "15e11670-7a8a-42d4-d7a0-e5a42acf28be"
      },
      "source": [
        "print(\"The mean absolute error: {}\".format(mean_absolute_error(y_test, predictions)))"
      ],
      "execution_count": 50,
      "outputs": [
        {
          "output_type": "stream",
          "text": [
            "The mean absolute error: 0.6080520387818555\n"
          ],
          "name": "stdout"
        }
      ]
    },
    {
      "cell_type": "code",
      "metadata": {
        "colab": {
          "base_uri": "https://localhost:8080/"
        },
        "id": "QrOC-0n9V34U",
        "outputId": "2e70cd10-fa21-4721-8369-f9c2357ca0d4"
      },
      "source": [
        "print(\"The root mean squared error: {}\".format(np.sqrt(mean_squared_error(y_test, predictions))))"
      ],
      "execution_count": 51,
      "outputs": [
        {
          "output_type": "stream",
          "text": [
            "The root mean squared error: 0.8213411966869646\n"
          ],
          "name": "stdout"
        }
      ]
    },
    {
      "cell_type": "code",
      "metadata": {
        "colab": {
          "base_uri": "https://localhost:8080/",
          "height": 627
        },
        "id": "u07872rGV5Yt",
        "outputId": "5a09d144-1bac-4a28-d7fa-d4e31d275775"
      },
      "source": [
        "plt.figure(figsize=(10,10))\n",
        "best = plt.scatter(y_test, predictions)\n",
        "\n",
        "plt.xlim(0,10)\n",
        "plt.ylim(0,10)\n",
        "\n",
        "plt.xlabel('Actual Values')\n",
        "plt.ylabel('Predicted Values')"
      ],
      "execution_count": 52,
      "outputs": [
        {
          "output_type": "execute_result",
          "data": {
            "text/plain": [
              "Text(0, 0.5, 'Predicted Values')"
            ]
          },
          "metadata": {
            "tags": []
          },
          "execution_count": 52
        },
        {
          "output_type": "display_data",
          "data": {
            "image/png": "[encoded data removed]",
            "text/plain": [
              "<Figure size 720x720 with 1 Axes>"
            ]
          },
          "metadata": {
            "tags": [],
            "needs_background": "light"
          }
        }
      ]
    },
    {
      "cell_type": "code",
      "metadata": {
        "colab": {
          "base_uri": "https://localhost:8080/"
        },
        "id": "KLhWE48WV7yo",
        "outputId": "69944d45-b65a-46c7-91ad-dcf787ccde96"
      },
      "source": [
        "SVR_pipeline.score(X_train, y_train)  ## R^2 value"
      ],
      "execution_count": 53,
      "outputs": [
        {
          "output_type": "execute_result",
          "data": {
            "text/plain": [
              "0.5963523645014688"
            ]
          },
          "metadata": {
            "tags": []
          },
          "execution_count": 53
        }
      ]
    },
    {
      "cell_type": "code",
      "metadata": {
        "colab": {
          "base_uri": "https://localhost:8080/"
        },
        "id": "6Z2HlOKhWAyL",
        "outputId": "0c549d5b-006d-4a24-ba9f-5d8a81034a6f"
      },
      "source": [
        "X.shape"
      ],
      "execution_count": 54,
      "outputs": [
        {
          "output_type": "execute_result",
          "data": {
            "text/plain": [
              "(8189, 33)"
            ]
          },
          "metadata": {
            "tags": []
          },
          "execution_count": 54
        }
      ]
    },
    {
      "cell_type": "markdown",
      "metadata": {
        "id": "NVgHhAfrWC3M"
      },
      "source": [
        "#### Feed Forward Neural Network"
      ]
    },
    {
      "cell_type": "code",
      "metadata": {
        "id": "IFICEwBIWCQr"
      },
      "source": [
        "## we will be using a deep neural network to predict the pIC50 value, while utilizing K-fold cross validation. \n",
        "## First define the nearual network architecture.\n",
        "from keras.models import Sequential\n",
        "from keras.layers import Dense\n",
        "from sklearn.model_selection import KFold, cross_val_score \n",
        "\n",
        "def deep_learning_model():\n",
        "    model = Sequential()\n",
        "    model.add(Dense(120, input_dim=33, activation='relu'))\n",
        "    model.add(Dense(60, activation='relu'))\n",
        "    model.add(Dense(1, activation='linear'))\n",
        "    model.compile(optimizer='adam', loss='mean_squared_error')\n",
        "    return model"
      ],
      "execution_count": 55,
      "outputs": []
    },
    {
      "cell_type": "code",
      "metadata": {
        "colab": {
          "base_uri": "https://localhost:8080/"
        },
        "id": "Aoh7NiTPWJhZ",
        "outputId": "6c6b2c85-4f46-419a-e847-2be5782deaa3"
      },
      "source": [
        "deep_model = deep_learning_model()\n",
        "deep_model.summary()"
      ],
      "execution_count": 56,
      "outputs": [
        {
          "output_type": "stream",
          "text": [
            "Model: \"sequential\"\n",
            "_________________________________________________________________\n",
            "Layer (type)                 Output Shape              Param #   \n",
            "=================================================================\n",
            "dense (Dense)                (None, 120)               4080      \n",
            "_________________________________________________________________\n",
            "dense_1 (Dense)              (None, 60)                7260      \n",
            "_________________________________________________________________\n",
            "dense_2 (Dense)              (None, 1)                 61        \n",
            "=================================================================\n",
            "Total params: 11,401\n",
            "Trainable params: 11,401\n",
            "Non-trainable params: 0\n",
            "_________________________________________________________________\n"
          ],
          "name": "stdout"
        }
      ]
    },
    {
      "cell_type": "code",
      "metadata": {
        "colab": {
          "base_uri": "https://localhost:8080/"
        },
        "id": "00GrFd4EWLXG",
        "outputId": "93c6456c-a88a-40c5-ff34-c9a5f98749c4"
      },
      "source": [
        "deep_model.fit(X_train, y_train, epochs=150, shuffle=True, verbose=1)"
      ],
      "execution_count": 58,
      "outputs": [
        {
          "output_type": "stream",
          "text": [
            "Epoch 1/150\n",
            "192/192 [==============================] - 0s 2ms/step - loss: 1.1727\n",
            "Epoch 2/150\n",
            "192/192 [==============================] - 0s 2ms/step - loss: 1.1851\n",
            "Epoch 3/150\n",
            "192/192 [==============================] - 0s 2ms/step - loss: 1.2179\n",
            "Epoch 4/150\n",
            "192/192 [==============================] - 0s 2ms/step - loss: 1.1766\n",
            "Epoch 5/150\n",
            "192/192 [==============================] - 0s 2ms/step - loss: 5.5520\n",
            "Epoch 6/150\n",
            "192/192 [==============================] - 0s 2ms/step - loss: 2.4367\n",
            "Epoch 7/150\n",
            "192/192 [==============================] - 0s 2ms/step - loss: 1.7157\n",
            "Epoch 8/150\n",
            "192/192 [==============================] - 0s 2ms/step - loss: 1.6450\n",
            "Epoch 9/150\n",
            "192/192 [==============================] - 0s 2ms/step - loss: 1.5563\n",
            "Epoch 10/150\n",
            "192/192 [==============================] - 0s 2ms/step - loss: 1.6898\n",
            "Epoch 11/150\n",
            "192/192 [==============================] - 0s 2ms/step - loss: 1.5959\n",
            "Epoch 12/150\n",
            "192/192 [==============================] - 0s 2ms/step - loss: 1.5898\n",
            "Epoch 13/150\n",
            "192/192 [==============================] - 0s 2ms/step - loss: 1.7518\n",
            "Epoch 14/150\n",
            "192/192 [==============================] - 0s 2ms/step - loss: 1.5793\n",
            "Epoch 15/150\n",
            "192/192 [==============================] - 0s 2ms/step - loss: 1.9399\n",
            "Epoch 16/150\n",
            "192/192 [==============================] - 0s 2ms/step - loss: 1.4860\n",
            "Epoch 17/150\n",
            "192/192 [==============================] - 0s 2ms/step - loss: 1.8380\n",
            "Epoch 18/150\n",
            "192/192 [==============================] - 0s 2ms/step - loss: 1.5110\n",
            "Epoch 19/150\n",
            "192/192 [==============================] - 0s 2ms/step - loss: 1.4702\n",
            "Epoch 20/150\n",
            "192/192 [==============================] - 0s 2ms/step - loss: 1.4935\n",
            "Epoch 21/150\n",
            "192/192 [==============================] - 0s 2ms/step - loss: 1.5179\n",
            "Epoch 22/150\n",
            "192/192 [==============================] - 0s 2ms/step - loss: 1.5570\n",
            "Epoch 23/150\n",
            "192/192 [==============================] - 0s 2ms/step - loss: 1.3839\n",
            "Epoch 24/150\n",
            "192/192 [==============================] - 0s 2ms/step - loss: 1.4298\n",
            "Epoch 25/150\n",
            "192/192 [==============================] - 0s 2ms/step - loss: 2.7428\n",
            "Epoch 26/150\n",
            "192/192 [==============================] - 0s 2ms/step - loss: 1.4320\n",
            "Epoch 27/150\n",
            "192/192 [==============================] - 0s 2ms/step - loss: 1.5463\n",
            "Epoch 28/150\n",
            "192/192 [==============================] - 0s 2ms/step - loss: 1.4165\n",
            "Epoch 29/150\n",
            "192/192 [==============================] - 0s 2ms/step - loss: 1.3360\n",
            "Epoch 30/150\n",
            "192/192 [==============================] - 0s 2ms/step - loss: 1.3479\n",
            "Epoch 31/150\n",
            "192/192 [==============================] - 0s 2ms/step - loss: 1.8842\n",
            "Epoch 32/150\n",
            "192/192 [==============================] - 0s 2ms/step - loss: 1.3862\n",
            "Epoch 33/150\n",
            "192/192 [==============================] - 0s 2ms/step - loss: 1.3146\n",
            "Epoch 34/150\n",
            "192/192 [==============================] - 0s 2ms/step - loss: 1.3650\n",
            "Epoch 35/150\n",
            "192/192 [==============================] - 0s 2ms/step - loss: 1.2903\n",
            "Epoch 36/150\n",
            "192/192 [==============================] - 0s 2ms/step - loss: 1.6550\n",
            "Epoch 37/150\n",
            "192/192 [==============================] - 0s 2ms/step - loss: 2.7123\n",
            "Epoch 38/150\n",
            "192/192 [==============================] - 0s 2ms/step - loss: 1.4707\n",
            "Epoch 39/150\n",
            "192/192 [==============================] - 0s 2ms/step - loss: 1.3862\n",
            "Epoch 40/150\n",
            "192/192 [==============================] - 0s 2ms/step - loss: 1.4494\n",
            "Epoch 41/150\n",
            "192/192 [==============================] - 0s 2ms/step - loss: 1.4790\n",
            "Epoch 42/150\n",
            "192/192 [==============================] - 0s 2ms/step - loss: 1.3685\n",
            "Epoch 43/150\n",
            "192/192 [==============================] - 0s 2ms/step - loss: 1.3640\n",
            "Epoch 44/150\n",
            "192/192 [==============================] - 0s 2ms/step - loss: 1.3879\n",
            "Epoch 45/150\n",
            "192/192 [==============================] - 0s 2ms/step - loss: 1.4761\n",
            "Epoch 46/150\n",
            "192/192 [==============================] - 0s 2ms/step - loss: 1.2851\n",
            "Epoch 47/150\n",
            "192/192 [==============================] - 0s 2ms/step - loss: 1.2977\n",
            "Epoch 48/150\n",
            "192/192 [==============================] - 0s 2ms/step - loss: 1.3695\n",
            "Epoch 49/150\n",
            "192/192 [==============================] - 0s 2ms/step - loss: 1.3425\n",
            "Epoch 50/150\n",
            "192/192 [==============================] - 0s 2ms/step - loss: 1.5444\n",
            "Epoch 51/150\n",
            "192/192 [==============================] - 0s 2ms/step - loss: 1.4904\n",
            "Epoch 52/150\n",
            "192/192 [==============================] - 0s 2ms/step - loss: 1.4619\n",
            "Epoch 53/150\n",
            "192/192 [==============================] - 0s 2ms/step - loss: 1.3183\n",
            "Epoch 54/150\n",
            "192/192 [==============================] - 0s 2ms/step - loss: 1.3764\n",
            "Epoch 55/150\n",
            "192/192 [==============================] - 0s 2ms/step - loss: 1.4052\n",
            "Epoch 56/150\n",
            "192/192 [==============================] - 0s 2ms/step - loss: 1.2564\n",
            "Epoch 57/150\n",
            "192/192 [==============================] - 0s 2ms/step - loss: 1.4706\n",
            "Epoch 58/150\n",
            "192/192 [==============================] - 0s 2ms/step - loss: 1.3171\n",
            "Epoch 59/150\n",
            "192/192 [==============================] - 0s 2ms/step - loss: 1.3940\n",
            "Epoch 60/150\n",
            "192/192 [==============================] - 0s 2ms/step - loss: 1.5047\n",
            "Epoch 61/150\n",
            "192/192 [==============================] - 0s 2ms/step - loss: 1.3586\n",
            "Epoch 62/150\n",
            "192/192 [==============================] - 0s 2ms/step - loss: 1.4286\n",
            "Epoch 63/150\n",
            "192/192 [==============================] - 0s 2ms/step - loss: 1.7361\n",
            "Epoch 64/150\n",
            "192/192 [==============================] - 0s 2ms/step - loss: 1.3394\n",
            "Epoch 65/150\n",
            "192/192 [==============================] - 0s 2ms/step - loss: 1.3001\n",
            "Epoch 66/150\n",
            "192/192 [==============================] - 0s 2ms/step - loss: 1.2719\n",
            "Epoch 67/150\n",
            "192/192 [==============================] - 0s 2ms/step - loss: 1.2316\n",
            "Epoch 68/150\n",
            "192/192 [==============================] - 0s 2ms/step - loss: 1.2445\n",
            "Epoch 69/150\n",
            "192/192 [==============================] - 0s 2ms/step - loss: 1.2979\n",
            "Epoch 70/150\n",
            "192/192 [==============================] - 0s 2ms/step - loss: 1.2669\n",
            "Epoch 71/150\n",
            "192/192 [==============================] - 0s 2ms/step - loss: 27.7336\n",
            "Epoch 72/150\n",
            "192/192 [==============================] - 0s 2ms/step - loss: 30707.4609\n",
            "Epoch 73/150\n",
            "192/192 [==============================] - 0s 2ms/step - loss: 1.4330\n",
            "Epoch 74/150\n",
            "192/192 [==============================] - 0s 2ms/step - loss: 1.2937\n",
            "Epoch 75/150\n",
            "192/192 [==============================] - 0s 2ms/step - loss: 1.3515\n",
            "Epoch 76/150\n",
            "192/192 [==============================] - 0s 2ms/step - loss: 1.2860\n",
            "Epoch 77/150\n",
            "192/192 [==============================] - 0s 2ms/step - loss: 1.3579\n",
            "Epoch 78/150\n",
            "192/192 [==============================] - 0s 2ms/step - loss: 1.3666\n",
            "Epoch 79/150\n",
            "192/192 [==============================] - 0s 2ms/step - loss: 1.3024\n",
            "Epoch 80/150\n",
            "192/192 [==============================] - 0s 2ms/step - loss: 1.3222\n",
            "Epoch 81/150\n",
            "192/192 [==============================] - 0s 2ms/step - loss: 1.3029\n",
            "Epoch 82/150\n",
            "192/192 [==============================] - 0s 2ms/step - loss: 1.2859\n",
            "Epoch 83/150\n",
            "192/192 [==============================] - 0s 2ms/step - loss: 1.2968\n",
            "Epoch 84/150\n",
            "192/192 [==============================] - 0s 2ms/step - loss: 1.3242\n",
            "Epoch 85/150\n",
            "192/192 [==============================] - 0s 2ms/step - loss: 1.2970\n",
            "Epoch 86/150\n",
            "192/192 [==============================] - 0s 2ms/step - loss: 1.2783\n",
            "Epoch 87/150\n",
            "192/192 [==============================] - 0s 2ms/step - loss: 1.2682\n",
            "Epoch 88/150\n",
            "192/192 [==============================] - 0s 2ms/step - loss: 1.2437\n",
            "Epoch 89/150\n",
            "192/192 [==============================] - 0s 2ms/step - loss: 1.2751\n",
            "Epoch 90/150\n",
            "192/192 [==============================] - 0s 2ms/step - loss: 1.3763\n",
            "Epoch 91/150\n",
            "192/192 [==============================] - 0s 2ms/step - loss: 1.2714\n",
            "Epoch 92/150\n",
            "192/192 [==============================] - 0s 2ms/step - loss: 1.2781\n",
            "Epoch 93/150\n",
            "192/192 [==============================] - 0s 2ms/step - loss: 1.2295\n",
            "Epoch 94/150\n",
            "192/192 [==============================] - 0s 2ms/step - loss: 1.2723\n",
            "Epoch 95/150\n",
            "192/192 [==============================] - 0s 2ms/step - loss: 1.2533\n",
            "Epoch 96/150\n",
            "192/192 [==============================] - 0s 2ms/step - loss: 1.2618\n",
            "Epoch 97/150\n",
            "192/192 [==============================] - 0s 2ms/step - loss: 1.2639\n",
            "Epoch 98/150\n",
            "192/192 [==============================] - 0s 2ms/step - loss: 1.2720\n",
            "Epoch 99/150\n",
            "192/192 [==============================] - 0s 2ms/step - loss: 1.2503\n",
            "Epoch 100/150\n",
            "192/192 [==============================] - 0s 2ms/step - loss: 1.3050\n",
            "Epoch 101/150\n",
            "192/192 [==============================] - 0s 2ms/step - loss: 1.1990\n",
            "Epoch 102/150\n",
            "192/192 [==============================] - 0s 2ms/step - loss: 1.2339\n",
            "Epoch 103/150\n",
            "192/192 [==============================] - 0s 2ms/step - loss: 1.2914\n",
            "Epoch 104/150\n",
            "192/192 [==============================] - 0s 2ms/step - loss: 1.3000\n",
            "Epoch 105/150\n",
            "192/192 [==============================] - 0s 2ms/step - loss: 1.2542\n",
            "Epoch 106/150\n",
            "192/192 [==============================] - 0s 2ms/step - loss: 1.2254\n",
            "Epoch 107/150\n",
            "192/192 [==============================] - 0s 2ms/step - loss: 1.2333\n",
            "Epoch 108/150\n",
            "192/192 [==============================] - 0s 2ms/step - loss: 1.2264\n",
            "Epoch 109/150\n",
            "192/192 [==============================] - 0s 2ms/step - loss: 1.2335\n",
            "Epoch 110/150\n",
            "192/192 [==============================] - 0s 2ms/step - loss: 1.2213\n",
            "Epoch 111/150\n",
            "192/192 [==============================] - 0s 2ms/step - loss: 1.2056\n",
            "Epoch 112/150\n",
            "192/192 [==============================] - 0s 2ms/step - loss: 1.1603\n",
            "Epoch 113/150\n",
            "192/192 [==============================] - 0s 2ms/step - loss: 1.1601\n",
            "Epoch 114/150\n",
            "192/192 [==============================] - 0s 2ms/step - loss: 1.2463\n",
            "Epoch 115/150\n",
            "192/192 [==============================] - 0s 2ms/step - loss: 1.1544\n",
            "Epoch 116/150\n",
            "192/192 [==============================] - 0s 2ms/step - loss: 1.1751\n",
            "Epoch 117/150\n",
            "192/192 [==============================] - 0s 2ms/step - loss: 1.1880\n",
            "Epoch 118/150\n",
            "192/192 [==============================] - 0s 2ms/step - loss: 1.1494\n",
            "Epoch 119/150\n",
            "192/192 [==============================] - 0s 2ms/step - loss: 1.2455\n",
            "Epoch 120/150\n",
            "192/192 [==============================] - 0s 2ms/step - loss: 1.1449\n",
            "Epoch 121/150\n",
            "192/192 [==============================] - 0s 2ms/step - loss: 1.1535\n",
            "Epoch 122/150\n",
            "192/192 [==============================] - 0s 2ms/step - loss: 1.1457\n",
            "Epoch 123/150\n",
            "192/192 [==============================] - 0s 2ms/step - loss: 1.1234\n",
            "Epoch 124/150\n",
            "192/192 [==============================] - 0s 2ms/step - loss: 1.1418\n",
            "Epoch 125/150\n",
            "192/192 [==============================] - 0s 2ms/step - loss: 1.1555\n",
            "Epoch 126/150\n",
            "192/192 [==============================] - 0s 2ms/step - loss: 1.0800\n",
            "Epoch 127/150\n",
            "192/192 [==============================] - 0s 2ms/step - loss: 1.0986\n",
            "Epoch 128/150\n",
            "192/192 [==============================] - 0s 2ms/step - loss: 1.1092\n",
            "Epoch 129/150\n",
            "192/192 [==============================] - 0s 2ms/step - loss: 1.1121\n",
            "Epoch 130/150\n",
            "192/192 [==============================] - 0s 2ms/step - loss: 1.0716\n",
            "Epoch 131/150\n",
            "192/192 [==============================] - 0s 2ms/step - loss: 1.1249\n",
            "Epoch 132/150\n",
            "192/192 [==============================] - 0s 2ms/step - loss: 1.1228\n",
            "Epoch 133/150\n",
            "192/192 [==============================] - 0s 2ms/step - loss: 1.1043\n",
            "Epoch 134/150\n",
            "192/192 [==============================] - 0s 2ms/step - loss: 1.0719\n",
            "Epoch 135/150\n",
            "192/192 [==============================] - 0s 2ms/step - loss: 1.0848\n",
            "Epoch 136/150\n",
            "192/192 [==============================] - 0s 2ms/step - loss: 1.0795\n",
            "Epoch 137/150\n",
            "192/192 [==============================] - 0s 2ms/step - loss: 1.1178\n",
            "Epoch 138/150\n",
            "192/192 [==============================] - 0s 2ms/step - loss: 1.0854\n",
            "Epoch 139/150\n",
            "192/192 [==============================] - 0s 2ms/step - loss: 1.0469\n",
            "Epoch 140/150\n",
            "192/192 [==============================] - 0s 2ms/step - loss: 1.0833\n",
            "Epoch 141/150\n",
            "192/192 [==============================] - 0s 2ms/step - loss: 1.0888\n",
            "Epoch 142/150\n",
            "192/192 [==============================] - 0s 2ms/step - loss: 1.0328\n",
            "Epoch 143/150\n",
            "192/192 [==============================] - 0s 2ms/step - loss: 1.0990\n",
            "Epoch 144/150\n",
            "192/192 [==============================] - 0s 2ms/step - loss: 1.0351\n",
            "Epoch 145/150\n",
            "192/192 [==============================] - 0s 2ms/step - loss: 1.0462\n",
            "Epoch 146/150\n",
            "192/192 [==============================] - 0s 2ms/step - loss: 1.0368\n",
            "Epoch 147/150\n",
            "192/192 [==============================] - 0s 2ms/step - loss: 1.0691\n",
            "Epoch 148/150\n",
            "192/192 [==============================] - 0s 2ms/step - loss: 1.0448\n",
            "Epoch 149/150\n",
            "192/192 [==============================] - 0s 2ms/step - loss: 1.0495\n",
            "Epoch 150/150\n",
            "192/192 [==============================] - 0s 2ms/step - loss: 1.0954\n"
          ],
          "name": "stdout"
        },
        {
          "output_type": "execute_result",
          "data": {
            "text/plain": [
              "<keras.callbacks.History at 0x7fc1140b1510>"
            ]
          },
          "metadata": {
            "tags": []
          },
          "execution_count": 58
        }
      ]
    },
    {
      "cell_type": "code",
      "metadata": {
        "id": "XRch1_TWWOWr"
      },
      "source": [
        "predictions = deep_model.predict(X_test)"
      ],
      "execution_count": 59,
      "outputs": []
    },
    {
      "cell_type": "code",
      "metadata": {
        "colab": {
          "base_uri": "https://localhost:8080/"
        },
        "id": "SsMA6BWaWRkg",
        "outputId": "a5246510-d8f0-4aad-a95a-abcdac163123"
      },
      "source": [
        "print(\"The mean absolute error: {}\".format(mean_absolute_error(y_test, predictions)))"
      ],
      "execution_count": 60,
      "outputs": [
        {
          "output_type": "stream",
          "text": [
            "The mean absolute error: 0.7608941742696558\n"
          ],
          "name": "stdout"
        }
      ]
    },
    {
      "cell_type": "code",
      "metadata": {
        "colab": {
          "base_uri": "https://localhost:8080/"
        },
        "id": "NAXmYdYcWUUq",
        "outputId": "fe953b9b-63ef-4df7-81ab-585464bdd7aa"
      },
      "source": [
        "print(\"The root mean squared error: {}\". format(np.sqrt(mean_squared_error(y_test, predictions))))"
      ],
      "execution_count": 61,
      "outputs": [
        {
          "output_type": "stream",
          "text": [
            "The root mean squared error: 0.9825655246221323\n"
          ],
          "name": "stdout"
        }
      ]
    },
    {
      "cell_type": "code",
      "metadata": {
        "colab": {
          "base_uri": "https://localhost:8080/",
          "height": 627
        },
        "id": "B0C8mjFdWXNM",
        "outputId": "d96b7fd1-ff79-4d07-f9d3-036ea680cfea"
      },
      "source": [
        "plt.figure(figsize=(10,10))\n",
        "plt.scatter(y_test, predictions)\n",
        "\n",
        "plt.xlim(0,10)\n",
        "plt.ylim(0,10)\n",
        "\n",
        "plt.xlabel('Actual Values')\n",
        "plt.ylabel('Predicted Values')"
      ],
      "execution_count": 62,
      "outputs": [
        {
          "output_type": "execute_result",
          "data": {
            "text/plain": [
              "Text(0, 0.5, 'Predicted Values')"
            ]
          },
          "metadata": {
            "tags": []
          },
          "execution_count": 62
        },
        {
          "output_type": "display_data",
          "data": {
            "image/png": "[encoded data removed]",
            "text/plain": [
              "<Figure size 720x720 with 1 Axes>"
            ]
          },
          "metadata": {
            "tags": [],
            "needs_background": "light"
          }
        }
      ]
    },
    {
      "cell_type": "code",
      "metadata": {
        "id": "CYS3L43LWa_S"
      },
      "source": [
        "## Despite using a neural network and achieving good measurements for the training data, we get poor predictions of desired\n",
        "## dependent variable, pIC50. Based on the results of the three regression models, this current dataset would be a poor \n",
        "## application for reression type model. The solution would be to make adjustments to the way features were selected, \n",
        "## perhaps using more domain expertise to select features."
      ],
      "execution_count": null,
      "outputs": []
    },
    {
      "cell_type": "code",
      "metadata": {
        "id": "aDFP1ZWyWcp6"
      },
      "source": [
        "## make x and y axis the same values"
      ],
      "execution_count": null,
      "outputs": []
    },
    {
      "cell_type": "markdown",
      "metadata": {
        "id": "Qxmem3VIXs1v"
      },
      "source": [
        "### QSAR Classification Modeling"
      ]
    },
    {
      "cell_type": "code",
      "metadata": {
        "id": "NR7kK2tTXtm7"
      },
      "source": [
        "## import packages and data \n",
        "import pandas as pd\n",
        "class_data = pd.read_csv('classification_model_data.csv')"
      ],
      "execution_count": 63,
      "outputs": []
    },
    {
      "cell_type": "code",
      "metadata": {
        "colab": {
          "base_uri": "https://localhost:8080/",
          "height": 461
        },
        "id": "99xrvSepXwA_",
        "outputId": "f41fc052-16c3-46cb-ad85-a57bbc0ca438"
      },
      "source": [
        "class_data"
      ],
      "execution_count": 64,
      "outputs": [
        {
          "output_type": "execute_result",
          "data": {
            "text/html": [
              "<div>\n",
              "<style scoped>\n",
              "    .dataframe tbody tr th:only-of-type {\n",
              "        vertical-align: middle;\n",
              "    }\n",
              "\n",
              "    .dataframe tbody tr th {\n",
              "        vertical-align: top;\n",
              "    }\n",
              "\n",
              "    .dataframe thead th {\n",
              "        text-align: right;\n",
              "    }\n",
              "</style>\n",
              "<table border=\"1\" class=\"dataframe\">\n",
              "  <thead>\n",
              "    <tr style=\"text-align: right;\">\n",
              "      <th></th>\n",
              "      <th>Unnamed: 0</th>\n",
              "      <th>naAromAtom</th>\n",
              "      <th>nAtom</th>\n",
              "      <th>nN</th>\n",
              "      <th>nO</th>\n",
              "      <th>nS</th>\n",
              "      <th>nF</th>\n",
              "      <th>BCUTw.1h</th>\n",
              "      <th>BCUTp.1l</th>\n",
              "      <th>nBondsD</th>\n",
              "      <th>SpMax1_Bhs</th>\n",
              "      <th>SpMax2_Bhs</th>\n",
              "      <th>C2SP1</th>\n",
              "      <th>C1SP2</th>\n",
              "      <th>C2SP2</th>\n",
              "      <th>C3SP2</th>\n",
              "      <th>C1SP3</th>\n",
              "      <th>C4SP3</th>\n",
              "      <th>SCH.7</th>\n",
              "      <th>VC.3</th>\n",
              "      <th>SPC.4</th>\n",
              "      <th>MIC0</th>\n",
              "      <th>nAtomLAC</th>\n",
              "      <th>piPC6</th>\n",
              "      <th>R_TpiPCTPC</th>\n",
              "      <th>n5Ring</th>\n",
              "      <th>n6Ring</th>\n",
              "      <th>nF9Ring</th>\n",
              "      <th>nF10Ring</th>\n",
              "      <th>nFG12Ring</th>\n",
              "      <th>n6HeteroRing</th>\n",
              "      <th>VE3_D</th>\n",
              "      <th>VR1_D</th>\n",
              "      <th>class_label</th>\n",
              "    </tr>\n",
              "  </thead>\n",
              "  <tbody>\n",
              "    <tr>\n",
              "      <th>0</th>\n",
              "      <td>1</td>\n",
              "      <td>18</td>\n",
              "      <td>67</td>\n",
              "      <td>1</td>\n",
              "      <td>1</td>\n",
              "      <td>0</td>\n",
              "      <td>0</td>\n",
              "      <td>15.994923</td>\n",
              "      <td>6.656434</td>\n",
              "      <td>0</td>\n",
              "      <td>4.067311</td>\n",
              "      <td>3.958868</td>\n",
              "      <td>0</td>\n",
              "      <td>0</td>\n",
              "      <td>13</td>\n",
              "      <td>5</td>\n",
              "      <td>4</td>\n",
              "      <td>0</td>\n",
              "      <td>0.526808</td>\n",
              "      <td>0.918921</td>\n",
              "      <td>3.521444</td>\n",
              "      <td>9.437713</td>\n",
              "      <td>2</td>\n",
              "      <td>6.220839</td>\n",
              "      <td>6.373533</td>\n",
              "      <td>0</td>\n",
              "      <td>5</td>\n",
              "      <td>0</td>\n",
              "      <td>1</td>\n",
              "      <td>0</td>\n",
              "      <td>1</td>\n",
              "      <td>-17.743103</td>\n",
              "      <td>432.667502</td>\n",
              "      <td>1</td>\n",
              "    </tr>\n",
              "    <tr>\n",
              "      <th>1</th>\n",
              "      <td>2</td>\n",
              "      <td>24</td>\n",
              "      <td>95</td>\n",
              "      <td>3</td>\n",
              "      <td>9</td>\n",
              "      <td>0</td>\n",
              "      <td>2</td>\n",
              "      <td>18.999422</td>\n",
              "      <td>4.235250</td>\n",
              "      <td>5</td>\n",
              "      <td>4.962450</td>\n",
              "      <td>4.854153</td>\n",
              "      <td>0</td>\n",
              "      <td>5</td>\n",
              "      <td>18</td>\n",
              "      <td>6</td>\n",
              "      <td>2</td>\n",
              "      <td>0</td>\n",
              "      <td>0.466026</td>\n",
              "      <td>1.710505</td>\n",
              "      <td>8.678031</td>\n",
              "      <td>16.416644</td>\n",
              "      <td>5</td>\n",
              "      <td>6.607241</td>\n",
              "      <td>5.225156</td>\n",
              "      <td>0</td>\n",
              "      <td>4</td>\n",
              "      <td>0</td>\n",
              "      <td>0</td>\n",
              "      <td>0</td>\n",
              "      <td>0</td>\n",
              "      <td>-11.027942</td>\n",
              "      <td>676.229552</td>\n",
              "      <td>1</td>\n",
              "    </tr>\n",
              "    <tr>\n",
              "      <th>2</th>\n",
              "      <td>3</td>\n",
              "      <td>18</td>\n",
              "      <td>101</td>\n",
              "      <td>3</td>\n",
              "      <td>9</td>\n",
              "      <td>0</td>\n",
              "      <td>2</td>\n",
              "      <td>18.999422</td>\n",
              "      <td>4.235268</td>\n",
              "      <td>5</td>\n",
              "      <td>5.102220</td>\n",
              "      <td>5.006018</td>\n",
              "      <td>0</td>\n",
              "      <td>5</td>\n",
              "      <td>14</td>\n",
              "      <td>4</td>\n",
              "      <td>2</td>\n",
              "      <td>0</td>\n",
              "      <td>0.466026</td>\n",
              "      <td>1.906409</td>\n",
              "      <td>8.678031</td>\n",
              "      <td>16.078841</td>\n",
              "      <td>5</td>\n",
              "      <td>6.343551</td>\n",
              "      <td>4.295698</td>\n",
              "      <td>0</td>\n",
              "      <td>4</td>\n",
              "      <td>0</td>\n",
              "      <td>0</td>\n",
              "      <td>0</td>\n",
              "      <td>0</td>\n",
              "      <td>-11.027942</td>\n",
              "      <td>676.229552</td>\n",
              "      <td>1</td>\n",
              "    </tr>\n",
              "    <tr>\n",
              "      <th>3</th>\n",
              "      <td>4</td>\n",
              "      <td>18</td>\n",
              "      <td>101</td>\n",
              "      <td>3</td>\n",
              "      <td>9</td>\n",
              "      <td>0</td>\n",
              "      <td>2</td>\n",
              "      <td>18.999422</td>\n",
              "      <td>4.235268</td>\n",
              "      <td>5</td>\n",
              "      <td>5.102220</td>\n",
              "      <td>5.006018</td>\n",
              "      <td>0</td>\n",
              "      <td>5</td>\n",
              "      <td>14</td>\n",
              "      <td>4</td>\n",
              "      <td>2</td>\n",
              "      <td>0</td>\n",
              "      <td>0.466026</td>\n",
              "      <td>1.906409</td>\n",
              "      <td>8.678031</td>\n",
              "      <td>16.078841</td>\n",
              "      <td>5</td>\n",
              "      <td>6.343551</td>\n",
              "      <td>4.295698</td>\n",
              "      <td>0</td>\n",
              "      <td>4</td>\n",
              "      <td>0</td>\n",
              "      <td>0</td>\n",
              "      <td>0</td>\n",
              "      <td>0</td>\n",
              "      <td>-11.027942</td>\n",
              "      <td>676.229552</td>\n",
              "      <td>2</td>\n",
              "    </tr>\n",
              "    <tr>\n",
              "      <th>4</th>\n",
              "      <td>5</td>\n",
              "      <td>10</td>\n",
              "      <td>96</td>\n",
              "      <td>3</td>\n",
              "      <td>9</td>\n",
              "      <td>0</td>\n",
              "      <td>0</td>\n",
              "      <td>16.003008</td>\n",
              "      <td>4.686416</td>\n",
              "      <td>5</td>\n",
              "      <td>4.894601</td>\n",
              "      <td>4.890224</td>\n",
              "      <td>0</td>\n",
              "      <td>5</td>\n",
              "      <td>7</td>\n",
              "      <td>3</td>\n",
              "      <td>4</td>\n",
              "      <td>0</td>\n",
              "      <td>0.369227</td>\n",
              "      <td>2.070818</td>\n",
              "      <td>7.893513</td>\n",
              "      <td>14.176615</td>\n",
              "      <td>7</td>\n",
              "      <td>6.093005</td>\n",
              "      <td>3.907792</td>\n",
              "      <td>0</td>\n",
              "      <td>3</td>\n",
              "      <td>0</td>\n",
              "      <td>1</td>\n",
              "      <td>0</td>\n",
              "      <td>0</td>\n",
              "      <td>-22.814477</td>\n",
              "      <td>664.521515</td>\n",
              "      <td>2</td>\n",
              "    </tr>\n",
              "    <tr>\n",
              "      <th>...</th>\n",
              "      <td>...</td>\n",
              "      <td>...</td>\n",
              "      <td>...</td>\n",
              "      <td>...</td>\n",
              "      <td>...</td>\n",
              "      <td>...</td>\n",
              "      <td>...</td>\n",
              "      <td>...</td>\n",
              "      <td>...</td>\n",
              "      <td>...</td>\n",
              "      <td>...</td>\n",
              "      <td>...</td>\n",
              "      <td>...</td>\n",
              "      <td>...</td>\n",
              "      <td>...</td>\n",
              "      <td>...</td>\n",
              "      <td>...</td>\n",
              "      <td>...</td>\n",
              "      <td>...</td>\n",
              "      <td>...</td>\n",
              "      <td>...</td>\n",
              "      <td>...</td>\n",
              "      <td>...</td>\n",
              "      <td>...</td>\n",
              "      <td>...</td>\n",
              "      <td>...</td>\n",
              "      <td>...</td>\n",
              "      <td>...</td>\n",
              "      <td>...</td>\n",
              "      <td>...</td>\n",
              "      <td>...</td>\n",
              "      <td>...</td>\n",
              "      <td>...</td>\n",
              "      <td>...</td>\n",
              "    </tr>\n",
              "    <tr>\n",
              "      <th>6536</th>\n",
              "      <td>6537</td>\n",
              "      <td>18</td>\n",
              "      <td>43</td>\n",
              "      <td>5</td>\n",
              "      <td>3</td>\n",
              "      <td>0</td>\n",
              "      <td>0</td>\n",
              "      <td>34.970157</td>\n",
              "      <td>5.262839</td>\n",
              "      <td>2</td>\n",
              "      <td>4.713251</td>\n",
              "      <td>4.097320</td>\n",
              "      <td>0</td>\n",
              "      <td>4</td>\n",
              "      <td>11</td>\n",
              "      <td>2</td>\n",
              "      <td>1</td>\n",
              "      <td>0</td>\n",
              "      <td>0.881779</td>\n",
              "      <td>1.151579</td>\n",
              "      <td>5.764985</td>\n",
              "      <td>23.230002</td>\n",
              "      <td>0</td>\n",
              "      <td>6.556956</td>\n",
              "      <td>6.528826</td>\n",
              "      <td>1</td>\n",
              "      <td>4</td>\n",
              "      <td>0</td>\n",
              "      <td>2</td>\n",
              "      <td>1</td>\n",
              "      <td>3</td>\n",
              "      <td>-3.209592</td>\n",
              "      <td>324.625997</td>\n",
              "      <td>1</td>\n",
              "    </tr>\n",
              "    <tr>\n",
              "      <th>6537</th>\n",
              "      <td>6538</td>\n",
              "      <td>18</td>\n",
              "      <td>56</td>\n",
              "      <td>4</td>\n",
              "      <td>3</td>\n",
              "      <td>0</td>\n",
              "      <td>0</td>\n",
              "      <td>15.996941</td>\n",
              "      <td>5.125397</td>\n",
              "      <td>2</td>\n",
              "      <td>4.110385</td>\n",
              "      <td>3.996862</td>\n",
              "      <td>2</td>\n",
              "      <td>3</td>\n",
              "      <td>9</td>\n",
              "      <td>6</td>\n",
              "      <td>4</td>\n",
              "      <td>0</td>\n",
              "      <td>0.878711</td>\n",
              "      <td>1.033909</td>\n",
              "      <td>5.843536</td>\n",
              "      <td>14.049195</td>\n",
              "      <td>3</td>\n",
              "      <td>6.996167</td>\n",
              "      <td>9.709851</td>\n",
              "      <td>1</td>\n",
              "      <td>5</td>\n",
              "      <td>0</td>\n",
              "      <td>2</td>\n",
              "      <td>1</td>\n",
              "      <td>4</td>\n",
              "      <td>-6.752213</td>\n",
              "      <td>738.417527</td>\n",
              "      <td>1</td>\n",
              "    </tr>\n",
              "    <tr>\n",
              "      <th>6538</th>\n",
              "      <td>6539</td>\n",
              "      <td>18</td>\n",
              "      <td>56</td>\n",
              "      <td>4</td>\n",
              "      <td>3</td>\n",
              "      <td>0</td>\n",
              "      <td>0</td>\n",
              "      <td>15.996941</td>\n",
              "      <td>5.125373</td>\n",
              "      <td>2</td>\n",
              "      <td>4.110480</td>\n",
              "      <td>3.997065</td>\n",
              "      <td>2</td>\n",
              "      <td>3</td>\n",
              "      <td>9</td>\n",
              "      <td>6</td>\n",
              "      <td>4</td>\n",
              "      <td>0</td>\n",
              "      <td>0.878711</td>\n",
              "      <td>1.033909</td>\n",
              "      <td>5.843536</td>\n",
              "      <td>14.049195</td>\n",
              "      <td>3</td>\n",
              "      <td>6.996167</td>\n",
              "      <td>9.709851</td>\n",
              "      <td>1</td>\n",
              "      <td>5</td>\n",
              "      <td>0</td>\n",
              "      <td>2</td>\n",
              "      <td>1</td>\n",
              "      <td>4</td>\n",
              "      <td>-6.752213</td>\n",
              "      <td>738.417527</td>\n",
              "      <td>1</td>\n",
              "    </tr>\n",
              "    <tr>\n",
              "      <th>6539</th>\n",
              "      <td>6540</td>\n",
              "      <td>24</td>\n",
              "      <td>53</td>\n",
              "      <td>5</td>\n",
              "      <td>2</td>\n",
              "      <td>0</td>\n",
              "      <td>1</td>\n",
              "      <td>18.998409</td>\n",
              "      <td>4.119742</td>\n",
              "      <td>1</td>\n",
              "      <td>4.754792</td>\n",
              "      <td>4.093080</td>\n",
              "      <td>2</td>\n",
              "      <td>5</td>\n",
              "      <td>10</td>\n",
              "      <td>6</td>\n",
              "      <td>2</td>\n",
              "      <td>0</td>\n",
              "      <td>0.951231</td>\n",
              "      <td>1.063975</td>\n",
              "      <td>6.192701</td>\n",
              "      <td>15.888011</td>\n",
              "      <td>3</td>\n",
              "      <td>7.176446</td>\n",
              "      <td>12.045330</td>\n",
              "      <td>1</td>\n",
              "      <td>5</td>\n",
              "      <td>0</td>\n",
              "      <td>2</td>\n",
              "      <td>1</td>\n",
              "      <td>4</td>\n",
              "      <td>-7.820949</td>\n",
              "      <td>565.660388</td>\n",
              "      <td>1</td>\n",
              "    </tr>\n",
              "    <tr>\n",
              "      <th>6540</th>\n",
              "      <td>6541</td>\n",
              "      <td>18</td>\n",
              "      <td>60</td>\n",
              "      <td>4</td>\n",
              "      <td>3</td>\n",
              "      <td>0</td>\n",
              "      <td>0</td>\n",
              "      <td>15.996943</td>\n",
              "      <td>5.732930</td>\n",
              "      <td>2</td>\n",
              "      <td>4.138718</td>\n",
              "      <td>4.029664</td>\n",
              "      <td>2</td>\n",
              "      <td>3</td>\n",
              "      <td>9</td>\n",
              "      <td>6</td>\n",
              "      <td>3</td>\n",
              "      <td>0</td>\n",
              "      <td>0.996562</td>\n",
              "      <td>1.178247</td>\n",
              "      <td>5.987874</td>\n",
              "      <td>13.720260</td>\n",
              "      <td>2</td>\n",
              "      <td>7.036533</td>\n",
              "      <td>9.870004</td>\n",
              "      <td>1</td>\n",
              "      <td>5</td>\n",
              "      <td>0</td>\n",
              "      <td>2</td>\n",
              "      <td>1</td>\n",
              "      <td>4</td>\n",
              "      <td>-5.054996</td>\n",
              "      <td>471.158020</td>\n",
              "      <td>1</td>\n",
              "    </tr>\n",
              "  </tbody>\n",
              "</table>\n",
              "<p>6541 rows × 34 columns</p>\n",
              "</div>"
            ],
            "text/plain": [
              "      Unnamed: 0  naAromAtom  nAtom  ...      VE3_D       VR1_D  class_label\n",
              "0              1          18     67  ... -17.743103  432.667502            1\n",
              "1              2          24     95  ... -11.027942  676.229552            1\n",
              "2              3          18    101  ... -11.027942  676.229552            1\n",
              "3              4          18    101  ... -11.027942  676.229552            2\n",
              "4              5          10     96  ... -22.814477  664.521515            2\n",
              "...          ...         ...    ...  ...        ...         ...          ...\n",
              "6536        6537          18     43  ...  -3.209592  324.625997            1\n",
              "6537        6538          18     56  ...  -6.752213  738.417527            1\n",
              "6538        6539          18     56  ...  -6.752213  738.417527            1\n",
              "6539        6540          24     53  ...  -7.820949  565.660388            1\n",
              "6540        6541          18     60  ...  -5.054996  471.158020            1\n",
              "\n",
              "[6541 rows x 34 columns]"
            ]
          },
          "metadata": {
            "tags": []
          },
          "execution_count": 64
        }
      ]
    },
    {
      "cell_type": "code",
      "metadata": {
        "id": "GojOtoukX7CH"
      },
      "source": [
        "class_data.drop(columns='Unnamed: 0', inplace=True)"
      ],
      "execution_count": 65,
      "outputs": []
    },
    {
      "cell_type": "code",
      "metadata": {
        "id": "ONwj8Q9bX9CI"
      },
      "source": [
        "class_data['class_label'].replace({1:0,2:1}, inplace=True)"
      ],
      "execution_count": 66,
      "outputs": []
    },
    {
      "cell_type": "code",
      "metadata": {
        "id": "fAg1amSLX-c6"
      },
      "source": [
        "X = class_data.drop(columns='class_label')\n",
        "y = class_data['class_label']"
      ],
      "execution_count": 67,
      "outputs": []
    },
    {
      "cell_type": "code",
      "metadata": {
        "colab": {
          "base_uri": "https://localhost:8080/"
        },
        "id": "nYifGgrSYACl",
        "outputId": "c4a032fc-caea-41ff-b0b5-922fa1bf2a0a"
      },
      "source": [
        "y.value_counts()"
      ],
      "execution_count": 68,
      "outputs": [
        {
          "output_type": "execute_result",
          "data": {
            "text/plain": [
              "0    5590\n",
              "1     951\n",
              "Name: class_label, dtype: int64"
            ]
          },
          "metadata": {
            "tags": []
          },
          "execution_count": 68
        }
      ]
    },
    {
      "cell_type": "code",
      "metadata": {
        "id": "0MndKXi4YBuD"
      },
      "source": [
        "## Split data into train and test sets. \n",
        "from sklearn.model_selection import train_test_split\n",
        "X_train, X_test, y_train, y_test = train_test_split(X, y, test_size=0.25, stratify=y, random_state=44)"
      ],
      "execution_count": 69,
      "outputs": []
    },
    {
      "cell_type": "markdown",
      "metadata": {
        "id": "CeYzOkOKYI1P"
      },
      "source": [
        "#### Random Forest Classifier - Classification"
      ]
    },
    {
      "cell_type": "code",
      "metadata": {
        "id": "tR2Q1wpqYG43"
      },
      "source": [
        "## First run a random forest model.\n",
        "from sklearn.ensemble import RandomForestClassifier"
      ],
      "execution_count": 70,
      "outputs": []
    },
    {
      "cell_type": "code",
      "metadata": {
        "id": "173YAenUYLPf"
      },
      "source": [
        "forest = RandomForestClassifier(n_estimators=150, random_state=42)"
      ],
      "execution_count": 71,
      "outputs": []
    },
    {
      "cell_type": "code",
      "metadata": {
        "colab": {
          "base_uri": "https://localhost:8080/"
        },
        "id": "BBiGREzDYMoL",
        "outputId": "ed4925d0-1ed4-47f9-f740-27bd955c80f5"
      },
      "source": [
        "forest.fit(X_train, y_train)"
      ],
      "execution_count": 72,
      "outputs": [
        {
          "output_type": "execute_result",
          "data": {
            "text/plain": [
              "RandomForestClassifier(bootstrap=True, ccp_alpha=0.0, class_weight=None,\n",
              "                       criterion='gini', max_depth=None, max_features='auto',\n",
              "                       max_leaf_nodes=None, max_samples=None,\n",
              "                       min_impurity_decrease=0.0, min_impurity_split=None,\n",
              "                       min_samples_leaf=1, min_samples_split=2,\n",
              "                       min_weight_fraction_leaf=0.0, n_estimators=150,\n",
              "                       n_jobs=None, oob_score=False, random_state=42, verbose=0,\n",
              "                       warm_start=False)"
            ]
          },
          "metadata": {
            "tags": []
          },
          "execution_count": 72
        }
      ]
    },
    {
      "cell_type": "code",
      "metadata": {
        "id": "FjRs5mZgYN7c"
      },
      "source": [
        "predictions = forest.predict(X_test)"
      ],
      "execution_count": 73,
      "outputs": []
    },
    {
      "cell_type": "code",
      "metadata": {
        "id": "JiX21VHWYPqc"
      },
      "source": [
        "from sklearn.metrics import accuracy_score, confusion_matrix, classification_report, mean_squared_error"
      ],
      "execution_count": 74,
      "outputs": []
    },
    {
      "cell_type": "code",
      "metadata": {
        "colab": {
          "base_uri": "https://localhost:8080/"
        },
        "id": "TOkbCbMeYRWm",
        "outputId": "d0ac561d-0986-48eb-92e2-7139cafb1904"
      },
      "source": [
        "accuracy_score(y_test, predictions)"
      ],
      "execution_count": 75,
      "outputs": [
        {
          "output_type": "execute_result",
          "data": {
            "text/plain": [
              "0.9284841075794621"
            ]
          },
          "metadata": {
            "tags": []
          },
          "execution_count": 75
        }
      ]
    },
    {
      "cell_type": "code",
      "metadata": {
        "id": "Cgj33lk4YTpg"
      },
      "source": [
        "### The random Forest achieves a 93% accuracy score on the classification dataset. \n",
        "### Issues: this is only a binary classification, with severe class imbalance."
      ],
      "execution_count": 76,
      "outputs": []
    },
    {
      "cell_type": "code",
      "metadata": {
        "colab": {
          "base_uri": "https://localhost:8080/"
        },
        "id": "mXC7_CjsYVhV",
        "outputId": "760746ee-fe14-4d82-9c34-66cf03a0c84c"
      },
      "source": [
        "confusion_matrix(y_test, predictions)"
      ],
      "execution_count": 77,
      "outputs": [
        {
          "output_type": "execute_result",
          "data": {
            "text/plain": [
              "array([[1372,   26],\n",
              "       [  91,  147]])"
            ]
          },
          "metadata": {
            "tags": []
          },
          "execution_count": 77
        }
      ]
    },
    {
      "cell_type": "code",
      "metadata": {
        "colab": {
          "base_uri": "https://localhost:8080/"
        },
        "id": "PvEOjSQoYXEL",
        "outputId": "4f3b7114-5def-4cb4-eaee-83d915083d50"
      },
      "source": [
        "print(classification_report(y_test, predictions))"
      ],
      "execution_count": 78,
      "outputs": [
        {
          "output_type": "stream",
          "text": [
            "              precision    recall  f1-score   support\n",
            "\n",
            "           0       0.94      0.98      0.96      1398\n",
            "           1       0.85      0.62      0.72       238\n",
            "\n",
            "    accuracy                           0.93      1636\n",
            "   macro avg       0.89      0.80      0.84      1636\n",
            "weighted avg       0.92      0.93      0.92      1636\n",
            "\n"
          ],
          "name": "stdout"
        }
      ]
    },
    {
      "cell_type": "code",
      "metadata": {
        "id": "fpl3iRdIYZFc"
      },
      "source": [
        "## Classification report shows a better diagnosis of the model. By analyzing the recall score, the recall score of the \n",
        "## minority class is concerning. The model was only able to recognize 62% of inactive compunds. To remedy this issue, lets\n",
        "## implemenet SMOTE analysis to generate sample of the minority class."
      ],
      "execution_count": 79,
      "outputs": []
    },
    {
      "cell_type": "code",
      "metadata": {
        "colab": {
          "base_uri": "https://localhost:8080/"
        },
        "id": "yEWBNM9zYbbt",
        "outputId": "0108132c-3c55-4d7c-86bb-298b186ca9f4"
      },
      "source": [
        "from imblearn.over_sampling import SMOTE \n",
        "\n",
        "sm = SMOTE(random_state=42)\n",
        "X_train_res, y_train_res = sm.fit_resample(X_train,y_train)"
      ],
      "execution_count": 80,
      "outputs": [
        {
          "output_type": "stream",
          "text": [
            "/usr/local/lib/python3.7/dist-packages/sklearn/externals/six.py:31: FutureWarning: The module is deprecated in version 0.21 and will be removed in version 0.23 since we've dropped support for Python 2.7. Please rely on the official version of six (https://pypi.org/project/six/).\n",
            "  \"(https://pypi.org/project/six/).\", FutureWarning)\n",
            "/usr/local/lib/python3.7/dist-packages/sklearn/utils/deprecation.py:144: FutureWarning: The sklearn.neighbors.base module is  deprecated in version 0.22 and will be removed in version 0.24. The corresponding classes / functions should instead be imported from sklearn.neighbors. Anything that cannot be imported from sklearn.neighbors is now part of the private API.\n",
            "  warnings.warn(message, FutureWarning)\n",
            "/usr/local/lib/python3.7/dist-packages/sklearn/utils/deprecation.py:87: FutureWarning: Function safe_indexing is deprecated; safe_indexing is deprecated in version 0.22 and will be removed in version 0.24.\n",
            "  warnings.warn(msg, category=FutureWarning)\n"
          ],
          "name": "stderr"
        }
      ]
    },
    {
      "cell_type": "code",
      "metadata": {
        "colab": {
          "base_uri": "https://localhost:8080/"
        },
        "id": "XCIitoLoYdJk",
        "outputId": "18c8aaab-f098-4c21-fb42-13637880c120"
      },
      "source": [
        "forest_2 = RandomForestClassifier(n_estimators=150, random_state=42)\n",
        "forest_2.fit(X_train_res, y_train_res)"
      ],
      "execution_count": 81,
      "outputs": [
        {
          "output_type": "execute_result",
          "data": {
            "text/plain": [
              "RandomForestClassifier(bootstrap=True, ccp_alpha=0.0, class_weight=None,\n",
              "                       criterion='gini', max_depth=None, max_features='auto',\n",
              "                       max_leaf_nodes=None, max_samples=None,\n",
              "                       min_impurity_decrease=0.0, min_impurity_split=None,\n",
              "                       min_samples_leaf=1, min_samples_split=2,\n",
              "                       min_weight_fraction_leaf=0.0, n_estimators=150,\n",
              "                       n_jobs=None, oob_score=False, random_state=42, verbose=0,\n",
              "                       warm_start=False)"
            ]
          },
          "metadata": {
            "tags": []
          },
          "execution_count": 81
        }
      ]
    },
    {
      "cell_type": "code",
      "metadata": {
        "colab": {
          "base_uri": "https://localhost:8080/"
        },
        "id": "jx2S-a9wYg9V",
        "outputId": "999a9f93-2124-4969-96b9-1a0792b4b64a"
      },
      "source": [
        "unique, counts = np.unique(y_train_res, return_counts=True)\n",
        "print(np.asarray((unique, counts)).T)"
      ],
      "execution_count": 83,
      "outputs": [
        {
          "output_type": "stream",
          "text": [
            "[[   0 4192]\n",
            " [   1 4192]]\n"
          ],
          "name": "stdout"
        }
      ]
    },
    {
      "cell_type": "code",
      "metadata": {
        "id": "AwyK6GYUYisl"
      },
      "source": [
        "predictions = forest_2.predict(X_test)"
      ],
      "execution_count": 84,
      "outputs": []
    },
    {
      "cell_type": "code",
      "metadata": {
        "colab": {
          "base_uri": "https://localhost:8080/"
        },
        "id": "WiYYxdjvZIHY",
        "outputId": "37d3424e-1e47-46ec-f870-5203880d5695"
      },
      "source": [
        "confusion_matrix(y_test, predictions)"
      ],
      "execution_count": 85,
      "outputs": [
        {
          "output_type": "execute_result",
          "data": {
            "text/plain": [
              "array([[1351,   47],\n",
              "       [  73,  165]])"
            ]
          },
          "metadata": {
            "tags": []
          },
          "execution_count": 85
        }
      ]
    },
    {
      "cell_type": "code",
      "metadata": {
        "colab": {
          "base_uri": "https://localhost:8080/"
        },
        "id": "yNoEnGOzZJiD",
        "outputId": "bb519719-6b3a-4b68-f637-2b9c6a680b85"
      },
      "source": [
        "print(classification_report(y_test, predictions))"
      ],
      "execution_count": 86,
      "outputs": [
        {
          "output_type": "stream",
          "text": [
            "              precision    recall  f1-score   support\n",
            "\n",
            "           0       0.95      0.97      0.96      1398\n",
            "           1       0.78      0.69      0.73       238\n",
            "\n",
            "    accuracy                           0.93      1636\n",
            "   macro avg       0.86      0.83      0.85      1636\n",
            "weighted avg       0.92      0.93      0.92      1636\n",
            "\n"
          ],
          "name": "stdout"
        }
      ]
    },
    {
      "cell_type": "code",
      "metadata": {
        "id": "aVwLbntDZLJF"
      },
      "source": [
        "### Even though the model has slightly lower precision, the recall for the minority class is much improved, which means\n",
        "### this model was betetr at recognizing the minorty label."
      ],
      "execution_count": 87,
      "outputs": []
    },
    {
      "cell_type": "markdown",
      "metadata": {
        "id": "RUQLQ4GxZQ7G"
      },
      "source": [
        "#### Logistic Regression - Classification"
      ]
    },
    {
      "cell_type": "code",
      "metadata": {
        "colab": {
          "base_uri": "https://localhost:8080/"
        },
        "id": "d-NJV04cZOKr",
        "outputId": "752ddf63-c7de-4faa-9a6a-2335794afcb6"
      },
      "source": [
        "## next model is the logistic regression.\n",
        "from sklearn.linear_model import LogisticRegression\n",
        "\n",
        "lr = LogisticRegression(random_state=42)\n",
        "lr.fit(X_train,y_train)"
      ],
      "execution_count": 88,
      "outputs": [
        {
          "output_type": "execute_result",
          "data": {
            "text/plain": [
              "LogisticRegression(C=1.0, class_weight=None, dual=False, fit_intercept=True,\n",
              "                   intercept_scaling=1, l1_ratio=None, max_iter=100,\n",
              "                   multi_class='auto', n_jobs=None, penalty='l2',\n",
              "                   random_state=42, solver='lbfgs', tol=0.0001, verbose=0,\n",
              "                   warm_start=False)"
            ]
          },
          "metadata": {
            "tags": []
          },
          "execution_count": 88
        }
      ]
    },
    {
      "cell_type": "code",
      "metadata": {
        "id": "9giNYkd8ZUPd"
      },
      "source": [
        "predictions = lr.predict(X_test)"
      ],
      "execution_count": 89,
      "outputs": []
    },
    {
      "cell_type": "code",
      "metadata": {
        "colab": {
          "base_uri": "https://localhost:8080/"
        },
        "id": "jxoFqRDoZV43",
        "outputId": "da8b6d41-2a88-4d5d-e224-b7ec94c06874"
      },
      "source": [
        "accuracy_score(y_test, predictions)"
      ],
      "execution_count": 90,
      "outputs": [
        {
          "output_type": "execute_result",
          "data": {
            "text/plain": [
              "0.8545232273838631"
            ]
          },
          "metadata": {
            "tags": []
          },
          "execution_count": 90
        }
      ]
    },
    {
      "cell_type": "code",
      "metadata": {
        "id": "LJv65VeGZXRX"
      },
      "source": [
        "## The logistic regression achieved an accuracy score of 85%"
      ],
      "execution_count": 91,
      "outputs": []
    },
    {
      "cell_type": "code",
      "metadata": {
        "colab": {
          "base_uri": "https://localhost:8080/"
        },
        "id": "wEHIxvkYZY7R",
        "outputId": "78ddd0a5-6cfc-40a3-cfdf-2c72897ed911"
      },
      "source": [
        "confusion_matrix(y_test, predictions)"
      ],
      "execution_count": 92,
      "outputs": [
        {
          "output_type": "execute_result",
          "data": {
            "text/plain": [
              "array([[1397,    1],\n",
              "       [ 237,    1]])"
            ]
          },
          "metadata": {
            "tags": []
          },
          "execution_count": 92
        }
      ]
    },
    {
      "cell_type": "code",
      "metadata": {
        "colab": {
          "base_uri": "https://localhost:8080/"
        },
        "id": "VBpzL7OtZaVY",
        "outputId": "f4b7a2db-652f-4cd6-a236-b190095d7a5d"
      },
      "source": [
        "print(classification_report(y_test, predictions))"
      ],
      "execution_count": 93,
      "outputs": [
        {
          "output_type": "stream",
          "text": [
            "              precision    recall  f1-score   support\n",
            "\n",
            "           0       0.85      1.00      0.92      1398\n",
            "           1       0.50      0.00      0.01       238\n",
            "\n",
            "    accuracy                           0.85      1636\n",
            "   macro avg       0.68      0.50      0.46      1636\n",
            "weighted avg       0.80      0.85      0.79      1636\n",
            "\n"
          ],
          "name": "stdout"
        }
      ]
    },
    {
      "cell_type": "code",
      "metadata": {
        "id": "F7Cr91K4ZcFb"
      },
      "source": [
        "## now implement SMOTE analysis."
      ],
      "execution_count": 94,
      "outputs": []
    },
    {
      "cell_type": "code",
      "metadata": {
        "colab": {
          "base_uri": "https://localhost:8080/"
        },
        "id": "mbuVKRXCZd7W",
        "outputId": "b6230969-b8cc-4c78-98be-01e8f81ca62c"
      },
      "source": [
        "lr_2 = LogisticRegression(random_state=42)\n",
        "lr_2.fit(X_train_res,y_train_res)"
      ],
      "execution_count": 95,
      "outputs": [
        {
          "output_type": "execute_result",
          "data": {
            "text/plain": [
              "LogisticRegression(C=1.0, class_weight=None, dual=False, fit_intercept=True,\n",
              "                   intercept_scaling=1, l1_ratio=None, max_iter=100,\n",
              "                   multi_class='auto', n_jobs=None, penalty='l2',\n",
              "                   random_state=42, solver='lbfgs', tol=0.0001, verbose=0,\n",
              "                   warm_start=False)"
            ]
          },
          "metadata": {
            "tags": []
          },
          "execution_count": 95
        }
      ]
    },
    {
      "cell_type": "code",
      "metadata": {
        "id": "lKCEKlupZf0S"
      },
      "source": [
        "predictions = lr_2.predict(X_test)"
      ],
      "execution_count": 96,
      "outputs": []
    },
    {
      "cell_type": "code",
      "metadata": {
        "colab": {
          "base_uri": "https://localhost:8080/"
        },
        "id": "d5m4NRE3ZhjL",
        "outputId": "eb76956e-b125-4edc-800e-da717be06e2d"
      },
      "source": [
        "print(classification_report(y_test, predictions))"
      ],
      "execution_count": 97,
      "outputs": [
        {
          "output_type": "stream",
          "text": [
            "              precision    recall  f1-score   support\n",
            "\n",
            "           0       0.87      0.96      0.91      1398\n",
            "           1       0.38      0.16      0.23       238\n",
            "\n",
            "    accuracy                           0.84      1636\n",
            "   macro avg       0.63      0.56      0.57      1636\n",
            "weighted avg       0.80      0.84      0.81      1636\n",
            "\n"
          ],
          "name": "stdout"
        }
      ]
    },
    {
      "cell_type": "markdown",
      "metadata": {
        "id": "cmfmmiMUZkI1"
      },
      "source": [
        "#### Support Vector Machines - Classification"
      ]
    },
    {
      "cell_type": "code",
      "metadata": {
        "id": "Vk7jc7O8ZjTo"
      },
      "source": [
        "## next model: Support Vector Machines \n",
        "from sklearn.svm import SVC\n",
        "from sklearn.preprocessing import StandardScaler\n",
        "from sklearn.pipeline import make_pipeline\n",
        "\n",
        "clf = make_pipeline(StandardScaler(), SVC(kernel='poly', random_state=42))\n",
        "clf.fit(X_train,y_train)\n",
        "\n",
        "predictions = clf.predict(X_test)"
      ],
      "execution_count": 98,
      "outputs": []
    },
    {
      "cell_type": "code",
      "metadata": {
        "colab": {
          "base_uri": "https://localhost:8080/"
        },
        "id": "176gABkxZqRB",
        "outputId": "5da34e33-4c23-42ad-be9f-ba50eb9c6ee7"
      },
      "source": [
        "accuracy_score(y_test, predictions)"
      ],
      "execution_count": 99,
      "outputs": [
        {
          "output_type": "execute_result",
          "data": {
            "text/plain": [
              "0.9083129584352079"
            ]
          },
          "metadata": {
            "tags": []
          },
          "execution_count": 99
        }
      ]
    },
    {
      "cell_type": "code",
      "metadata": {
        "id": "AOYiYgijZuQF"
      },
      "source": [
        "## The support Vector Machine achieved an accuracy score of 91%."
      ],
      "execution_count": 100,
      "outputs": []
    },
    {
      "cell_type": "code",
      "metadata": {
        "colab": {
          "base_uri": "https://localhost:8080/"
        },
        "id": "KI71Wp5gZv-v",
        "outputId": "882cdc62-01b4-45c6-c463-7d2822784654"
      },
      "source": [
        "confusion_matrix(y_test, predictions)"
      ],
      "execution_count": 101,
      "outputs": [
        {
          "output_type": "execute_result",
          "data": {
            "text/plain": [
              "array([[1378,   20],\n",
              "       [ 130,  108]])"
            ]
          },
          "metadata": {
            "tags": []
          },
          "execution_count": 101
        }
      ]
    },
    {
      "cell_type": "code",
      "metadata": {
        "colab": {
          "base_uri": "https://localhost:8080/"
        },
        "id": "9AKmm-nTZxRY",
        "outputId": "d72903d4-24f5-4f30-b7b8-bb5034307c9a"
      },
      "source": [
        "print(classification_report(y_test, predictions))"
      ],
      "execution_count": 102,
      "outputs": [
        {
          "output_type": "stream",
          "text": [
            "              precision    recall  f1-score   support\n",
            "\n",
            "           0       0.91      0.99      0.95      1398\n",
            "           1       0.84      0.45      0.59       238\n",
            "\n",
            "    accuracy                           0.91      1636\n",
            "   macro avg       0.88      0.72      0.77      1636\n",
            "weighted avg       0.90      0.91      0.90      1636\n",
            "\n"
          ],
          "name": "stdout"
        }
      ]
    },
    {
      "cell_type": "code",
      "metadata": {
        "id": "kMuq-2NDZzFA"
      },
      "source": [
        "## Still very poor scores for the minority class using the Support Vector Machine. lets rety using a complete dataset."
      ],
      "execution_count": 103,
      "outputs": []
    },
    {
      "cell_type": "code",
      "metadata": {
        "id": "v0NjHBxpZ1Ax"
      },
      "source": [
        "clf_2 = make_pipeline(StandardScaler(), SVC(kernel='poly', random_state=42))\n",
        "clf_2.fit(X_train_res,y_train_res)\n",
        "\n",
        "predictions = clf_2.predict(X_test)"
      ],
      "execution_count": 104,
      "outputs": []
    },
    {
      "cell_type": "code",
      "metadata": {
        "colab": {
          "base_uri": "https://localhost:8080/"
        },
        "id": "2Z-BwxPSZ3DB",
        "outputId": "894f290f-4ea3-4a96-8481-bccb293b421f"
      },
      "source": [
        "confusion_matrix(y_test, predictions)"
      ],
      "execution_count": 105,
      "outputs": [
        {
          "output_type": "execute_result",
          "data": {
            "text/plain": [
              "array([[1240,  158],\n",
              "       [  55,  183]])"
            ]
          },
          "metadata": {
            "tags": []
          },
          "execution_count": 105
        }
      ]
    },
    {
      "cell_type": "code",
      "metadata": {
        "colab": {
          "base_uri": "https://localhost:8080/"
        },
        "id": "G_5tonj6Z471",
        "outputId": "2f3158d7-a88b-4ae0-a741-86c47e25ec25"
      },
      "source": [
        "print(classification_report(y_test, predictions))"
      ],
      "execution_count": 106,
      "outputs": [
        {
          "output_type": "stream",
          "text": [
            "              precision    recall  f1-score   support\n",
            "\n",
            "           0       0.96      0.89      0.92      1398\n",
            "           1       0.54      0.77      0.63       238\n",
            "\n",
            "    accuracy                           0.87      1636\n",
            "   macro avg       0.75      0.83      0.78      1636\n",
            "weighted avg       0.90      0.87      0.88      1636\n",
            "\n"
          ],
          "name": "stdout"
        }
      ]
    },
    {
      "cell_type": "code",
      "metadata": {
        "id": "AML0TEmhZ7Ev"
      },
      "source": [
        "## We see whne using a complete dataset, teh model is better able to recognize the minority class without loosing too much \n",
        "## informaton from the majority class. But the low precision still shows that the model may be making too many false\n",
        "## predictions."
      ],
      "execution_count": 107,
      "outputs": []
    },
    {
      "cell_type": "code",
      "metadata": {
        "id": "gs-7miyQZ9N2"
      },
      "source": [
        "## Final model: Feed Forward Neural Network"
      ],
      "execution_count": 108,
      "outputs": []
    },
    {
      "cell_type": "markdown",
      "metadata": {
        "id": "E9PiZU2KaBhp"
      },
      "source": [
        "#### Feed Forward Neural Network - Classification"
      ]
    },
    {
      "cell_type": "code",
      "metadata": {
        "id": "mppGbm5HZ-w_"
      },
      "source": [
        "### Import model packages \n",
        "from keras.models import Sequential\n",
        "from keras.layers import Dense"
      ],
      "execution_count": 109,
      "outputs": []
    },
    {
      "cell_type": "code",
      "metadata": {
        "id": "WFriEL2gaDu7"
      },
      "source": [
        "### Create model. \n",
        "def deep_learning_model():\n",
        "    model = Sequential()\n",
        "    model.add(Dense(120, input_dim=32, activation='relu'))\n",
        "    model.add(Dense(60, activation='relu'))\n",
        "    model.add(Dense(40, activation='relu'))\n",
        "    model.add(Dense(1, activation='sigmoid'))\n",
        "    ## Compile model\n",
        "    model.compile(loss='binary_crossentropy',\n",
        "                 optimizer='adam')\n",
        "    return model"
      ],
      "execution_count": 110,
      "outputs": []
    },
    {
      "cell_type": "code",
      "metadata": {
        "colab": {
          "base_uri": "https://localhost:8080/"
        },
        "id": "eGdbMPf9aFRY",
        "outputId": "39013299-8c7e-4c5f-e87f-14ce1abf5381"
      },
      "source": [
        "test = deep_learning_model()\n",
        "test.summary()"
      ],
      "execution_count": 111,
      "outputs": [
        {
          "output_type": "stream",
          "text": [
            "Model: \"sequential_1\"\n",
            "_________________________________________________________________\n",
            "Layer (type)                 Output Shape              Param #   \n",
            "=================================================================\n",
            "dense_3 (Dense)              (None, 120)               3960      \n",
            "_________________________________________________________________\n",
            "dense_4 (Dense)              (None, 60)                7260      \n",
            "_________________________________________________________________\n",
            "dense_5 (Dense)              (None, 40)                2440      \n",
            "_________________________________________________________________\n",
            "dense_6 (Dense)              (None, 1)                 41        \n",
            "=================================================================\n",
            "Total params: 13,701\n",
            "Trainable params: 13,701\n",
            "Non-trainable params: 0\n",
            "_________________________________________________________________\n"
          ],
          "name": "stdout"
        }
      ]
    },
    {
      "cell_type": "code",
      "metadata": {
        "colab": {
          "base_uri": "https://localhost:8080/"
        },
        "id": "CUZIH0hFaH3l",
        "outputId": "42df5edb-9d17-439c-fa46-118f66870f3e"
      },
      "source": [
        "X_train.shape"
      ],
      "execution_count": 112,
      "outputs": [
        {
          "output_type": "execute_result",
          "data": {
            "text/plain": [
              "(4905, 32)"
            ]
          },
          "metadata": {
            "tags": []
          },
          "execution_count": 112
        }
      ]
    },
    {
      "cell_type": "code",
      "metadata": {
        "colab": {
          "base_uri": "https://localhost:8080/"
        },
        "id": "I5A2VLXwaKAX",
        "outputId": "e608c722-9474-4c8e-c6c5-7fb50ce7e02a"
      },
      "source": [
        "test.fit(X_train, y_train, epochs=100, verbose=1)"
      ],
      "execution_count": 113,
      "outputs": [
        {
          "output_type": "stream",
          "text": [
            "Epoch 1/100\n",
            "154/154 [==============================] - 1s 2ms/step - loss: 176.7686\n",
            "Epoch 2/100\n",
            "154/154 [==============================] - 0s 2ms/step - loss: 882.9578\n",
            "Epoch 3/100\n",
            "154/154 [==============================] - 0s 2ms/step - loss: 259.1478\n",
            "Epoch 4/100\n",
            "154/154 [==============================] - 0s 2ms/step - loss: 213.6850\n",
            "Epoch 5/100\n",
            "154/154 [==============================] - 0s 2ms/step - loss: 68.2308\n",
            "Epoch 6/100\n",
            "154/154 [==============================] - 0s 2ms/step - loss: 636.9652\n",
            "Epoch 7/100\n",
            "154/154 [==============================] - 0s 2ms/step - loss: 528.6803\n",
            "Epoch 8/100\n",
            "154/154 [==============================] - 0s 2ms/step - loss: 376.9674\n",
            "Epoch 9/100\n",
            "154/154 [==============================] - 0s 2ms/step - loss: 76.1517\n",
            "Epoch 10/100\n",
            "154/154 [==============================] - 0s 2ms/step - loss: 258.6013\n",
            "Epoch 11/100\n",
            "154/154 [==============================] - 0s 2ms/step - loss: 291.2351\n",
            "Epoch 12/100\n",
            "154/154 [==============================] - 0s 2ms/step - loss: 270.1297\n",
            "Epoch 13/100\n",
            "154/154 [==============================] - 0s 2ms/step - loss: 48.5020\n",
            "Epoch 14/100\n",
            "154/154 [==============================] - 0s 2ms/step - loss: 401.9634\n",
            "Epoch 15/100\n",
            "154/154 [==============================] - 0s 2ms/step - loss: 139.3957\n",
            "Epoch 16/100\n",
            "154/154 [==============================] - 0s 2ms/step - loss: 171.4769\n",
            "Epoch 17/100\n",
            "154/154 [==============================] - 0s 2ms/step - loss: 74.9921\n",
            "Epoch 18/100\n",
            "154/154 [==============================] - 0s 2ms/step - loss: 85.1733\n",
            "Epoch 19/100\n",
            "154/154 [==============================] - 0s 2ms/step - loss: 137.5336\n",
            "Epoch 20/100\n",
            "154/154 [==============================] - 0s 2ms/step - loss: 34.9705\n",
            "Epoch 21/100\n",
            "154/154 [==============================] - 0s 2ms/step - loss: 18.0010\n",
            "Epoch 22/100\n",
            "154/154 [==============================] - 0s 2ms/step - loss: 10.2433\n",
            "Epoch 23/100\n",
            "154/154 [==============================] - 0s 2ms/step - loss: 3.8509\n",
            "Epoch 24/100\n",
            "154/154 [==============================] - 0s 2ms/step - loss: 3.0656\n",
            "Epoch 25/100\n",
            "154/154 [==============================] - 0s 2ms/step - loss: 0.8076\n",
            "Epoch 26/100\n",
            "154/154 [==============================] - 0s 2ms/step - loss: 0.3549\n",
            "Epoch 27/100\n",
            "154/154 [==============================] - 0s 2ms/step - loss: 0.3633\n",
            "Epoch 28/100\n",
            "154/154 [==============================] - 0s 2ms/step - loss: 0.3300\n",
            "Epoch 29/100\n",
            "154/154 [==============================] - 0s 2ms/step - loss: 0.3474\n",
            "Epoch 30/100\n",
            "154/154 [==============================] - 0s 2ms/step - loss: 0.3490\n",
            "Epoch 31/100\n",
            "154/154 [==============================] - 0s 2ms/step - loss: 0.3310\n",
            "Epoch 32/100\n",
            "154/154 [==============================] - 0s 2ms/step - loss: 0.3183\n",
            "Epoch 33/100\n",
            "154/154 [==============================] - 0s 2ms/step - loss: 0.3219\n",
            "Epoch 34/100\n",
            "154/154 [==============================] - 0s 2ms/step - loss: 0.3151\n",
            "Epoch 35/100\n",
            "154/154 [==============================] - 0s 2ms/step - loss: 2.2444\n",
            "Epoch 36/100\n",
            "154/154 [==============================] - 0s 2ms/step - loss: 0.3442\n",
            "Epoch 37/100\n",
            "154/154 [==============================] - 0s 2ms/step - loss: 0.3278\n",
            "Epoch 38/100\n",
            "154/154 [==============================] - 0s 2ms/step - loss: 0.3105\n",
            "Epoch 39/100\n",
            "154/154 [==============================] - 0s 2ms/step - loss: 0.3270\n",
            "Epoch 40/100\n",
            "154/154 [==============================] - 0s 2ms/step - loss: 0.3025\n",
            "Epoch 41/100\n",
            "154/154 [==============================] - 0s 2ms/step - loss: 0.2995\n",
            "Epoch 42/100\n",
            "154/154 [==============================] - 0s 2ms/step - loss: 0.3074\n",
            "Epoch 43/100\n",
            "154/154 [==============================] - 0s 2ms/step - loss: 0.3033\n",
            "Epoch 44/100\n",
            "154/154 [==============================] - 0s 2ms/step - loss: 0.3065\n",
            "Epoch 45/100\n",
            "154/154 [==============================] - 0s 2ms/step - loss: 0.2996\n",
            "Epoch 46/100\n",
            "154/154 [==============================] - 0s 2ms/step - loss: 0.3038\n",
            "Epoch 47/100\n",
            "154/154 [==============================] - 0s 2ms/step - loss: 0.2909\n",
            "Epoch 48/100\n",
            "154/154 [==============================] - 0s 2ms/step - loss: 0.2926\n",
            "Epoch 49/100\n",
            "154/154 [==============================] - 0s 2ms/step - loss: 0.2888\n",
            "Epoch 50/100\n",
            "154/154 [==============================] - 0s 2ms/step - loss: 0.3038\n",
            "Epoch 51/100\n",
            "154/154 [==============================] - 0s 2ms/step - loss: 0.2813\n",
            "Epoch 52/100\n",
            "154/154 [==============================] - 0s 2ms/step - loss: 0.2902\n",
            "Epoch 53/100\n",
            "154/154 [==============================] - 0s 2ms/step - loss: 0.2960\n",
            "Epoch 54/100\n",
            "154/154 [==============================] - 0s 2ms/step - loss: 0.2729\n",
            "Epoch 55/100\n",
            "154/154 [==============================] - 0s 2ms/step - loss: 0.2840\n",
            "Epoch 56/100\n",
            "154/154 [==============================] - 0s 2ms/step - loss: 0.2810\n",
            "Epoch 57/100\n",
            "154/154 [==============================] - 0s 2ms/step - loss: 0.2803\n",
            "Epoch 58/100\n",
            "154/154 [==============================] - 0s 2ms/step - loss: 0.2865\n",
            "Epoch 59/100\n",
            "154/154 [==============================] - 0s 2ms/step - loss: 0.2742\n",
            "Epoch 60/100\n",
            "154/154 [==============================] - 0s 2ms/step - loss: 0.2535\n",
            "Epoch 61/100\n",
            "154/154 [==============================] - 0s 2ms/step - loss: 0.2778\n",
            "Epoch 62/100\n",
            "154/154 [==============================] - 0s 2ms/step - loss: 0.2704\n",
            "Epoch 63/100\n",
            "154/154 [==============================] - 0s 2ms/step - loss: 0.2703\n",
            "Epoch 64/100\n",
            "154/154 [==============================] - 0s 2ms/step - loss: 0.2944\n",
            "Epoch 65/100\n",
            "154/154 [==============================] - 0s 2ms/step - loss: 0.2621\n",
            "Epoch 66/100\n",
            "154/154 [==============================] - 0s 2ms/step - loss: 0.2652\n",
            "Epoch 67/100\n",
            "154/154 [==============================] - 0s 2ms/step - loss: 0.2573\n",
            "Epoch 68/100\n",
            "154/154 [==============================] - 0s 2ms/step - loss: 0.2659\n",
            "Epoch 69/100\n",
            "154/154 [==============================] - 0s 2ms/step - loss: 0.2670\n",
            "Epoch 70/100\n",
            "154/154 [==============================] - 0s 2ms/step - loss: 0.2665\n",
            "Epoch 71/100\n",
            "154/154 [==============================] - 0s 2ms/step - loss: 0.2709\n",
            "Epoch 72/100\n",
            "154/154 [==============================] - 0s 2ms/step - loss: 0.2894\n",
            "Epoch 73/100\n",
            "154/154 [==============================] - 0s 2ms/step - loss: 9.0024\n",
            "Epoch 74/100\n",
            "154/154 [==============================] - 0s 2ms/step - loss: 386.1876\n",
            "Epoch 75/100\n",
            "154/154 [==============================] - 0s 2ms/step - loss: 231.7759\n",
            "Epoch 76/100\n",
            "154/154 [==============================] - 0s 2ms/step - loss: 34.9333\n",
            "Epoch 77/100\n",
            "154/154 [==============================] - 0s 2ms/step - loss: 35.3675\n",
            "Epoch 78/100\n",
            "154/154 [==============================] - 0s 2ms/step - loss: 67.3794\n",
            "Epoch 79/100\n",
            "154/154 [==============================] - 0s 2ms/step - loss: 3.5227\n",
            "Epoch 80/100\n",
            "154/154 [==============================] - 0s 2ms/step - loss: 3.5101\n",
            "Epoch 81/100\n",
            "154/154 [==============================] - 0s 2ms/step - loss: 0.8854\n",
            "Epoch 82/100\n",
            "154/154 [==============================] - 0s 2ms/step - loss: 1.6827\n",
            "Epoch 83/100\n",
            "154/154 [==============================] - 0s 2ms/step - loss: 0.4503\n",
            "Epoch 84/100\n",
            "154/154 [==============================] - 0s 2ms/step - loss: 0.3043\n",
            "Epoch 85/100\n",
            "154/154 [==============================] - 0s 2ms/step - loss: 0.2850\n",
            "Epoch 86/100\n",
            "154/154 [==============================] - 0s 2ms/step - loss: 0.2891\n",
            "Epoch 87/100\n",
            "154/154 [==============================] - 0s 2ms/step - loss: 0.2849\n",
            "Epoch 88/100\n",
            "154/154 [==============================] - 0s 2ms/step - loss: 0.2906\n",
            "Epoch 89/100\n",
            "154/154 [==============================] - 0s 2ms/step - loss: 0.2922\n",
            "Epoch 90/100\n",
            "154/154 [==============================] - 0s 2ms/step - loss: 0.2732\n",
            "Epoch 91/100\n",
            "154/154 [==============================] - 0s 2ms/step - loss: 0.2723\n",
            "Epoch 92/100\n",
            "154/154 [==============================] - 0s 2ms/step - loss: 0.2757\n",
            "Epoch 93/100\n",
            "154/154 [==============================] - 0s 2ms/step - loss: 0.2894\n",
            "Epoch 94/100\n",
            "154/154 [==============================] - 0s 2ms/step - loss: 0.2849\n",
            "Epoch 95/100\n",
            "154/154 [==============================] - 0s 2ms/step - loss: 0.2846\n",
            "Epoch 96/100\n",
            "154/154 [==============================] - 0s 2ms/step - loss: 0.2893\n",
            "Epoch 97/100\n",
            "154/154 [==============================] - 0s 2ms/step - loss: 0.2757\n",
            "Epoch 98/100\n",
            "154/154 [==============================] - 0s 2ms/step - loss: 0.2609\n",
            "Epoch 99/100\n",
            "154/154 [==============================] - 0s 2ms/step - loss: 0.2802\n",
            "Epoch 100/100\n",
            "154/154 [==============================] - 0s 2ms/step - loss: 0.2575\n"
          ],
          "name": "stdout"
        },
        {
          "output_type": "execute_result",
          "data": {
            "text/plain": [
              "<keras.callbacks.History at 0x7fc0f539fed0>"
            ]
          },
          "metadata": {
            "tags": []
          },
          "execution_count": 113
        }
      ]
    },
    {
      "cell_type": "code",
      "metadata": {
        "id": "LUJlk1D8aLbi"
      },
      "source": [
        "predictions = test.predict(X_test)"
      ],
      "execution_count": 114,
      "outputs": []
    },
    {
      "cell_type": "code",
      "metadata": {
        "colab": {
          "base_uri": "https://localhost:8080/"
        },
        "id": "kpkrDqDkaTnJ",
        "outputId": "f6f9b3e9-63e2-4fcf-fced-855892a02b60"
      },
      "source": [
        "from sklearn.metrics import recall_score, confusion_matrix, balanced_accuracy_score\n",
        "\n",
        "recall = recall_score(y_test, predictions.round())\n",
        "recall"
      ],
      "execution_count": 115,
      "outputs": [
        {
          "output_type": "execute_result",
          "data": {
            "text/plain": [
              "0.38235294117647056"
            ]
          },
          "metadata": {
            "tags": []
          },
          "execution_count": 115
        }
      ]
    },
    {
      "cell_type": "code",
      "metadata": {
        "colab": {
          "base_uri": "https://localhost:8080/"
        },
        "id": "4U7T9UtgaUtR",
        "outputId": "e4938565-d960-4dfd-c813-2891ffb79ff9"
      },
      "source": [
        "matrix = confusion_matrix(y_test, predictions.round())\n",
        "matrix"
      ],
      "execution_count": 116,
      "outputs": [
        {
          "output_type": "execute_result",
          "data": {
            "text/plain": [
              "array([[1363,   35],\n",
              "       [ 147,   91]])"
            ]
          },
          "metadata": {
            "tags": []
          },
          "execution_count": 116
        }
      ]
    },
    {
      "cell_type": "code",
      "metadata": {
        "colab": {
          "base_uri": "https://localhost:8080/"
        },
        "id": "u0TW0nFtaWpK",
        "outputId": "fbae42af-471a-4739-9978-9d6f6dc847f4"
      },
      "source": [
        "score = balanced_accuracy_score(y_test, predictions.round())\n",
        "score"
      ],
      "execution_count": 117,
      "outputs": [
        {
          "output_type": "execute_result",
          "data": {
            "text/plain": [
              "0.6786585878986788"
            ]
          },
          "metadata": {
            "tags": []
          },
          "execution_count": 117
        }
      ]
    },
    {
      "cell_type": "code",
      "metadata": {
        "colab": {
          "base_uri": "https://localhost:8080/"
        },
        "id": "4GCIHNdnaYdI",
        "outputId": "803576f3-24e2-45bc-cf1b-07e1d0056334"
      },
      "source": [
        "from sklearn.metrics import classification_report\n",
        "\n",
        "class_report = classification_report(y_test, predictions.round())\n",
        "print(class_report)"
      ],
      "execution_count": 118,
      "outputs": [
        {
          "output_type": "stream",
          "text": [
            "              precision    recall  f1-score   support\n",
            "\n",
            "           0       0.90      0.97      0.94      1398\n",
            "           1       0.72      0.38      0.50       238\n",
            "\n",
            "    accuracy                           0.89      1636\n",
            "   macro avg       0.81      0.68      0.72      1636\n",
            "weighted avg       0.88      0.89      0.87      1636\n",
            "\n"
          ],
          "name": "stdout"
        }
      ]
    }
  ]
}