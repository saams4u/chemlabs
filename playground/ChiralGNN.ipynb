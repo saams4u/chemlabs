{
 "cells": [
  {
   "cell_type": "markdown",
   "metadata": {
    "id": "K11CLnTlYmD4"
   },
   "source": [
    "## ChiralGNN: Message Passing Networks for Molecules with Tetrahedral Chirality\n",
    "\n",
    "ABSTRACT: Molecules with identical graph connectivity can exhibit different physical and biological properties if they exhibit stereochemistry–a spatial structural characteristic.\n",
    "However, modern neural architectures designed for learning structure-property relationships from molecular structures treat molecules as graph-structured data and\n",
    "therefore are invariant to stereochemistry. Here, we develop two custom aggregation functions for message passing neural networks to learn properties of molecules\n",
    "with tetrahedral chirality, one common form of stereochemistry. We evaluate performance on synthetic data as well as a newly-proposed protein-ligand docking\n",
    "dataset with relevance to drug discovery. Results show modest improvements\n",
    "over a baseline sum aggregator, highlighting opportunities for further architecture\n",
    "development.\n",
    "\n",
    "Link to paper: https://arxiv.org/pdf/2012.00094v2.pdf\n",
    "\n",
    "Credit: https://github.com/PattanaikL/chiral_gnn"
   ]
  },
  {
   "cell_type": "code",
   "execution_count": 1,
   "metadata": {
    "colab": {
     "base_uri": "https://localhost:8080/"
    },
    "id": "My9FPacABAEX",
    "outputId": "4a833719-39ca-4c33-f90a-ee044b517fa1"
   },
   "outputs": [
    {
     "name": "stdout",
     "output_type": "stream",
     "text": [
      "Cloning into 'chiral_gnn'...\n",
      "remote: Enumerating objects: 413, done.\u001b[K\n",
      "remote: Counting objects: 100% (413/413), done.\u001b[K\n",
      "remote: Compressing objects: 100% (268/268), done.\u001b[K\n",
      "remote: Total 413 (delta 192), reused 328 (delta 122), pack-reused 0\u001b[K\n",
      "Receiving objects: 100% (413/413), 19.24 MiB | 25.79 MiB/s, done.\n",
      "Resolving deltas: 100% (192/192), done.\n",
      "/content/chiral_gnn\n"
     ]
    }
   ],
   "source": [
    "# Clone the repository and cd into directory\n",
    "!git clone https://github.com/PattanaikL/chiral_gnn.git\n",
    "%cd chiral_gnn"
   ]
  },
  {
   "cell_type": "code",
   "execution_count": null,
   "metadata": {
    "id": "JjcxiSoDYm_3"
   },
   "outputs": [],
   "source": [
    "# Install dependencies / requirements\n",
    "!pip install torch==1.4.0 torchvision==0.4.0\n",
    "\n",
    "!pip install torch-geometric \\\n",
    "  torch-sparse==latest+cu101 \\\n",
    "  torch-scatter==latest+cu101 \\\n",
    "  torch-cluster==latest+cu101 \\\n",
    "  -f https://pytorch-geometric.com/whl/torch-1.4.0.html \n",
    "  \n",
    "# Install RDKit\n",
    "!pip install rdkit-pypi==2021.3.1.5"
   ]
  },
  {
   "cell_type": "markdown",
   "metadata": {
    "id": "s8Ff8Y5UaMGk"
   },
   "source": [
    "### Usage\n",
    "To train the model with the best-performing parameters, call the `train.py` script with the following parameters defined:"
   ]
  },
  {
   "cell_type": "code",
   "execution_count": null,
   "metadata": {
    "id": "8bItuFiEZ_po"
   },
   "outputs": [],
   "source": [
    "!python train.py --data_path data/d4_docking/d4_docking.csv \\\n",
    "                 --split_path data/d4_docking/full/split0.npy --log_dir ./test_run \\\n",
    "                 --gnn_type dmpnn --message tetra_permute_concat \\\n",
    "                 --global_chiral_features --chiral_features"
   ]
  }
 ],
 "metadata": {
  "accelerator": "GPU",
  "colab": {
   "collapsed_sections": [],
   "machine_shape": "hm",
   "name": "ChiralGNN.ipynb",
   "provenance": []
  },
  "kernelspec": {
   "display_name": "Python 3",
   "language": "python",
   "name": "python3"
  },
  "language_info": {
   "codemirror_mode": {
    "name": "ipython",
    "version": 3
   },
   "file_extension": ".py",
   "mimetype": "text/x-python",
   "name": "python",
   "nbconvert_exporter": "python",
   "pygments_lexer": "ipython3",
   "version": "3.8.10"
  }
 },
 "nbformat": 4,
 "nbformat_minor": 1
}
