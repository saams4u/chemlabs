{
 "cells": [
  {
   "cell_type": "markdown",
   "id": "bdeca966",
   "metadata": {},
   "source": [
    "# Self-Referencing Embedded Strings (SELFIES): A 100% robust molecular string representation\n",
    "\n",
    "The discovery of novel materials and functional molecules can help to solve some of society’s\n",
    "most urgent challenges, ranging from efficient energy harvesting and storage to uncovering novel\n",
    "pharmaceutical drug candidates. Traditionally matter engineering – generally denoted as inverse\n",
    "design – was based massively on human intuition and high-throughput virtual screening. The last\n",
    "few years have seen the emergence of significant interest in computer-inspired designs based on\n",
    "evolutionary or deep learning methods. The major challenge here is that the standard strings\n",
    "molecular representation SMILES shows substantial weaknesses in that task because large fractions\n",
    "of strings do not correspond to valid molecules. Here, we solve this problem at a fundamental\n",
    "level and introduce SELFIES (SELF-referencIng Embedded Strings), a string-based representation\n",
    "of molecules which is 100% robust. Every SELFIES string corresponds to a valid molecule, and\n",
    "SELFIES can represent every molecule. SELFIES can be directly applied in arbitrary machine\n",
    "learning models without the adaptation of the models; each of the generated molecule candidates is\n",
    "valid. In our experiments, the model’s internal memory stores two orders of magnitude more diverse\n",
    "molecules than a similar test with SMILES. Furthermore, as all molecules are valid, it allows for\n",
    "explanation and interpretation of the internal working of the generative models.\n",
    "\n",
    "Link to paper: https://arxiv.org/abs/1905.13741\n",
    "\n",
    "Credit: https://github.com/seyonechithrananda/selfies-mirror"
   ]
  },
  {
   "cell_type": "markdown",
   "id": "db6f0b3b",
   "metadata": {},
   "source": [
    "## Installation\n",
    "\n",
    "Install SELFIES in the command line using pip:"
   ]
  },
  {
   "cell_type": "code",
   "execution_count": 1,
   "id": "1ecfb8a3",
   "metadata": {},
   "outputs": [
    {
     "name": "stdout",
     "output_type": "stream",
     "text": [
      "Collecting selfies\n",
      "  Using cached selfies-1.0.4-py3-none-any.whl (30 kB)\n",
      "Installing collected packages: selfies\n",
      "Successfully installed selfies-1.0.4\n"
     ]
    }
   ],
   "source": [
    "!pip install selfies"
   ]
  },
  {
   "cell_type": "code",
   "execution_count": null,
   "id": "f3b2f10a",
   "metadata": {},
   "outputs": [],
   "source": [
    "# Install RDKit via conda\n",
    "!wget https://repo.anaconda.com/miniconda/Miniconda3-py37_4.8.2-Linux-x86_64.sh\n",
    "!chmod +x Miniconda3-py37_4.8.2-Linux-x86_64.sh\n",
    "!bash ./Miniconda3-py37_4.8.2-Linux-x86_64.sh -b -f -p /usr/local\n",
    "!conda install -c rdkit rdkit -y\n",
    "import sys\n",
    "sys.path.append('/usr/local/lib/python3.7/site-packages/')"
   ]
  },
  {
   "cell_type": "code",
   "execution_count": 2,
   "id": "e472901f",
   "metadata": {},
   "outputs": [],
   "source": [
    "# Import libraries\n",
    "import selfies as sf\n",
    "from rdkit import Chem"
   ]
  },
  {
   "cell_type": "markdown",
   "id": "b2b12744",
   "metadata": {},
   "source": [
    "## Standard Usage\n",
    "\n",
    "First let’s try translating from SMILES to SELFIES, and then from SELFIES to SMILES. We will use a non-fullerene acceptor for organic solar cells as an example."
   ]
  },
  {
   "cell_type": "code",
   "execution_count": 4,
   "id": "1025a340",
   "metadata": {},
   "outputs": [
    {
     "name": "stdout",
     "output_type": "stream",
     "text": [
      "Original SMILES: CN1C(=O)C2=C(c3cc4c(s3)-c3sc(-c5ncc(C#N)s5)cc3C43OCCO3)N(C)C(=O)C2=C1c1cc2c(s1)-c1sc(-c3ncc(C#N)s3)cc1C21OCCO1\n",
      "Translated SELFIES: [C][N][C][Branch1_2][C][=O][C][=C][Branch2_1][Ring2][Branch1_3][C][=C][C][=C][Branch1_1][Ring2][S][Ring1][Branch1_1][C][S][C][Branch1_1][N][C][=N][C][=C][Branch1_1][Ring1][C][#N][S][Ring1][Branch1_3][=C][C][Expl=Ring1][N][C][Ring1][S][O][C][C][O][Ring1][Branch1_1][N][Branch1_1][C][C][C][Branch1_2][C][=O][C][Ring2][Ring1][=N][=C][Ring2][Ring1][P][C][=C][C][=C][Branch1_1][Ring2][S][Ring1][Branch1_1][C][S][C][Branch1_1][N][C][=N][C][=C][Branch1_1][Ring1][C][#N][S][Ring1][Branch1_3][=C][C][Expl=Ring1][N][C][Ring1][S][O][C][C][O][Ring1][Branch1_1]\n",
      "Translated SMILES: CN7C(=O)C6=C(C1=CC4=C(S1)C=3SC(C2=NC=C(C#N)S2)=CC=3C45OCCO5)N(C)C(=O)C6=C7C8=CC%11=C(S8)C=%10SC(C9=NC=C(C#N)S9)=CC=%10C%11%12OCCO%12\n"
     ]
    }
   ],
   "source": [
    "smiles = \"CN1C(=O)C2=C(c3cc4c(s3)-c3sc(-c5ncc(C#N)s5)cc3C43OCCO3)N(C)C(=O)\" \\\n",
    "         \"C2=C1c1cc2c(s1)-c1sc(-c3ncc(C#N)s3)cc1C21OCCO1\"\n",
    "encoded_selfies = sf.encoder(smiles)  # SMILES --> SEFLIES\n",
    "decoded_smiles = sf.decoder(encoded_selfies)  # SELFIES --> SMILES\n",
    "\n",
    "print(f\"Original SMILES: {smiles}\")\n",
    "print(f\"Translated SELFIES: {encoded_selfies}\")\n",
    "print(f\"Translated SMILES: {decoded_smiles}\")"
   ]
  },
  {
   "cell_type": "markdown",
   "id": "9f2e45a7",
   "metadata": {},
   "source": [
    "When comparing the original and decoded SMILES, do not use <code>==</code> equality. Use <code>RDKit</code> to check whether both SMILES correspond to the same molecule.\n"
   ]
  },
  {
   "cell_type": "code",
   "execution_count": 5,
   "id": "e486800e",
   "metadata": {},
   "outputs": [
    {
     "name": "stdout",
     "output_type": "stream",
     "text": [
      "== Equals: False\n",
      "RDKit Equals: True\n"
     ]
    }
   ],
   "source": [
    "print(f\"== Equals: {smiles == decoded_smiles}\")\n",
    "\n",
    "# Recomended\n",
    "can_smiles = Chem.CanonSmiles(smiles)\n",
    "can_decoded_smiles = Chem.CanonSmiles(decoded_smiles)\n",
    "print(f\"RDKit Equals: {can_smiles == can_decoded_smiles}\")"
   ]
  },
  {
   "cell_type": "markdown",
   "id": "07cfd366",
   "metadata": {},
   "source": [
    "## Advanced Usage\n",
    "\n",
    "Now let’s try to customize the SELFIES constraints. We will first look at the default SELFIES semantic constraints."
   ]
  },
  {
   "cell_type": "code",
   "execution_count": 6,
   "id": "7797a28b",
   "metadata": {},
   "outputs": [
    {
     "name": "stdout",
     "output_type": "stream",
     "text": [
      "Default Constraints:\n",
      " {'H': 1, 'F': 1, 'Cl': 1, 'Br': 1, 'I': 1, 'O': 2, 'O+1': 3, 'O-1': 1, 'N': 3, 'N+1': 4, 'N-1': 2, 'C': 4, 'C+1': 5, 'C-1': 3, 'P': 5, 'P+1': 6, 'P-1': 4, 'S': 6, 'S+1': 7, 'S-1': 5, '?': 8}\n"
     ]
    }
   ],
   "source": [
    "default_constraints = sf.get_semantic_constraints()\n",
    "print(f\"Default Constraints:\\n {default_constraints}\")"
   ]
  },
  {
   "cell_type": "markdown",
   "id": "0609fcf8",
   "metadata": {},
   "source": [
    "We have two compounds here, <code>CS=CC#S</code> and <code>[Li]=CC</code> in SELFIES form. Under the default SELFIES settings, they are translated like so. Note that since <code>Li</code> is not recognized by SELFIES, it is constrained to 8 bonds by default.\n",
    "\n"
   ]
  },
  {
   "cell_type": "code",
   "execution_count": 10,
   "id": "4d840060",
   "metadata": {},
   "outputs": [
    {
     "name": "stdout",
     "output_type": "stream",
     "text": [
      "CS=CC#S --> CS=CC#S\n",
      "[Li]=CC --> [Li]=CC\n"
     ]
    }
   ],
   "source": [
    "c_s_compound = sf.encoder(\"CS=CC#S\")\n",
    "li_compound = sf.encoder(\"[Li]=CC\")\n",
    "\n",
    "print(f\"CS=CC#S --> {sf.decoder(c_s_compound)}\")\n",
    "print(f\"[Li]=CC --> {sf.decoder(li_compound)}\")"
   ]
  },
  {
   "cell_type": "markdown",
   "id": "769582bf",
   "metadata": {},
   "source": [
    "We can add <code>Li</code> to the SELFIES constraints, and restrict it to 1 bond only. We can also restrict <code>S</code> to 2 bonds (instead of its default 6). After setting the new constraints, we can check to see if they were updated."
   ]
  },
  {
   "cell_type": "code",
   "execution_count": 11,
   "id": "d5869f41",
   "metadata": {},
   "outputs": [
    {
     "name": "stdout",
     "output_type": "stream",
     "text": [
      "Updated Constraints:\n",
      " {'H': 1, 'F': 1, 'Cl': 1, 'Br': 1, 'I': 1, 'O': 2, 'O+1': 3, 'O-1': 1, 'N': 3, 'N+1': 4, 'N-1': 2, 'C': 4, 'C+1': 5, 'C-1': 3, 'P': 5, 'P+1': 6, 'P-1': 4, 'S': 2, 'S+1': 7, 'S-1': 5, '?': 8, 'Li': 1}\n"
     ]
    }
   ],
   "source": [
    "new_constraints = default_constraints\n",
    "new_constraints['Li'] = 1\n",
    "new_constraints['S'] = 2\n",
    "\n",
    "sf.set_semantic_constraints(new_constraints)  # update constraints\n",
    "\n",
    "print(f\"Updated Constraints:\\n {sf.get_semantic_constraints()}\")"
   ]
  },
  {
   "cell_type": "markdown",
   "id": "3034c7e1",
   "metadata": {},
   "source": [
    "Under our new settings, our previous molecules are translated like so. Notice that our new semantic constraints are met.\n"
   ]
  },
  {
   "cell_type": "code",
   "execution_count": 12,
   "id": "d7015df6",
   "metadata": {},
   "outputs": [
    {
     "name": "stdout",
     "output_type": "stream",
     "text": [
      "CS=CC#S --> CSCC=S\n",
      "[Li]=CC --> [Li]CC\n"
     ]
    }
   ],
   "source": [
    "print(f\"CS=CC#S --> {sf.decoder(c_s_compound)}\")\n",
    "print(f\"[Li]=CC --> {sf.decoder(li_compound)}\")"
   ]
  },
  {
   "cell_type": "markdown",
   "id": "1a5a046d",
   "metadata": {},
   "source": [
    "To revert back to the default constraints, simply call:"
   ]
  },
  {
   "cell_type": "code",
   "execution_count": 13,
   "id": "4f976413",
   "metadata": {},
   "outputs": [],
   "source": [
    "sf.set_semantic_constraints()"
   ]
  }
 ],
 "metadata": {
  "kernelspec": {
   "display_name": "Python 3",
   "language": "python",
   "name": "python3"
  },
  "language_info": {
   "codemirror_mode": {
    "name": "ipython",
    "version": 3
   },
   "file_extension": ".py",
   "mimetype": "text/x-python",
   "name": "python",
   "nbconvert_exporter": "python",
   "pygments_lexer": "ipython3",
   "version": "3.8.10"
  }
 },
 "nbformat": 4,
 "nbformat_minor": 5
}
