{
 "cells": [
  {
   "cell_type": "markdown",
   "metadata": {
    "id": "KAEouuVI6dRa"
   },
   "source": [
    "## MolTrans: Molecular Interaction Transformer for Drug Target Interaction Prediction\n",
    "\n",
    "<b>Motivation:</b> Drug target interaction (DTI) prediction is a foundational task\n",
    "for in silico drug discovery, which is costly and time-consuming due to the need\n",
    "of experimental search over large drug compound space. Recent years have witnessed promising progress for deep learning in DTI predictions. However, the\n",
    "following challenges are still open: (1) the sole data-driven molecular representation learning approaches ignore the sub-structural nature of DTI, thus produce\n",
    "results that are less accurate and difficult to explain; (2) existing methods focus\n",
    "on limited labeled data while ignoring the value of massive unlabelled molecular\n",
    "data.\n",
    "\n",
    "<b>Results:</b> We propose a Molecular Interaction Transformer (MolTrans) to address these limitations via: (1) knowledge inspired sub-structural pattern mining\n",
    "algorithm and interaction modeling module for more accurate and interpretable\n",
    "DTI prediction; (2) an augmented transformer encoder to better extract and\n",
    "capture the semantic relations among substructures extracted from massive unlabeled biomedical data. We evaluate MolTrans on real world data and show it\n",
    "improved DTI prediction performance compared to state-of-the-art baselines.\n",
    "\n",
    "Link to paper: https://arxiv.org/pdf/2004.11424v1.pdf\n",
    "\n",
    "Credit: https://github.com/kexinhuang12345/MolTrans"
   ]
  },
  {
   "cell_type": "code",
   "execution_count": 1,
   "metadata": {
    "colab": {
     "base_uri": "https://localhost:8080/"
    },
    "id": "Q_toLWDL6Q27",
    "outputId": "f8e2cdd1-12a2-4c6f-c25a-016bd4bea33f"
   },
   "outputs": [
    {
     "name": "stdout",
     "output_type": "stream",
     "text": [
      "Cloning into 'MolTrans'...\n",
      "remote: Enumerating objects: 97, done.\u001b[K\n",
      "remote: Counting objects: 100% (97/97), done.\u001b[K\n",
      "remote: Compressing objects: 100% (62/62), done.\u001b[K\n",
      "remote: Total 97 (delta 47), reused 75 (delta 33), pack-reused 0\u001b[K\n",
      "Unpacking objects: 100% (97/97), done.\n",
      "Checking out files: 100% (45/45), done.\n",
      "/content/MolTrans\n"
     ]
    }
   ],
   "source": [
    "# Clone the repository and cd into directory\n",
    "!git clone https://github.com/kexinhuang12345/MolTrans.git\n",
    "%cd MolTrans"
   ]
  },
  {
   "cell_type": "code",
   "execution_count": null,
   "metadata": {
    "id": "vIN98MBK6gOs"
   },
   "outputs": [],
   "source": [
    "# Install requirements / dependencies\n",
    "!pip install -r requirements.txt"
   ]
  },
  {
   "cell_type": "markdown",
   "metadata": {
    "id": "Tm_bRf8A7JjR"
   },
   "source": [
    "### Datasets\n",
    "\n",
    "In the dataset folder, we provide all three processed datasets used in MolTrans: BindingDB, DAVIS, and BIOSNAP. In BIOSNAP folder, there is full dataset for the main experiment, and also missing data experiment (70%, 80%, 90%, 95%) and unseen drug and unseen protein datasets.\n",
    "\n",
    "### Run\n",
    "\n",
    "You can directly run `python train.py --task ${task_name}` to run the experiments. `${task_name}` could either be `biosnap`,`bindingdb` , and `davis`. For the BindingDB and DAVIS, please refer this [Page](https://zitniklab.hms.harvard.edu/TDC/multi_pred_tasks/dti/) for more details."
   ]
  },
  {
   "cell_type": "code",
   "execution_count": null,
   "metadata": {
    "id": "MoJR0Lq66-fg"
   },
   "outputs": [],
   "source": [
    "# run the biosnap experiment\n",
    "!python train.py --task biosnap"
   ]
  },
  {
   "cell_type": "code",
   "execution_count": null,
   "metadata": {
    "id": "MV8vBQY571Rl"
   },
   "outputs": [],
   "source": [
    "# run the bindingdb experiment\n",
    "!python train.py --task bindingdb"
   ]
  },
  {
   "cell_type": "code",
   "execution_count": null,
   "metadata": {
    "id": "KiGWIT6779kJ"
   },
   "outputs": [],
   "source": [
    "# run the davis experiment\n",
    "!python train.py --task davis"
   ]
  }
 ],
 "metadata": {
  "accelerator": "GPU",
  "colab": {
   "collapsed_sections": [],
   "machine_shape": "hm",
   "name": "MolTrans.ipynb",
   "provenance": []
  },
  "kernelspec": {
   "display_name": "Python 3",
   "language": "python",
   "name": "python3"
  },
  "language_info": {
   "codemirror_mode": {
    "name": "ipython",
    "version": 3
   },
   "file_extension": ".py",
   "mimetype": "text/x-python",
   "name": "python",
   "nbconvert_exporter": "python",
   "pygments_lexer": "ipython3",
   "version": "3.8.10"
  }
 },
 "nbformat": 4,
 "nbformat_minor": 1
}
