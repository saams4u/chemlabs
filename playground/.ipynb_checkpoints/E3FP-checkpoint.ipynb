{
 "cells": [
  {
   "cell_type": "markdown",
   "metadata": {
    "id": "Kik5bXgdGKli"
   },
   "source": [
    "## E3FP: Extended 3-Dimensional FingerPrint\n",
    "\n",
    "ABSTRACT: Statistical and machine learning approaches\n",
    "predict drug-to-target relationships from 2D small-molecule\n",
    "topology patterns. One might expect 3D information to\n",
    "improve these calculations. Here we apply the logic of the\n",
    "extended connectivity fingerprint (ECFP) to develop a rapid,\n",
    "alignment-invariant 3D representation of molecular conformers, the extended three-dimensional fingerprint (E3FP).\n",
    "By integrating E3FP with the similarity ensemble approach\n",
    "(SEA), we achieve higher precision-recall performance relative\n",
    "to SEA with ECFP on ChEMBL20 and equivalent receiver\n",
    "operating characteristic performance. We identify classes of\n",
    "molecules for which E3FP is a better predictor of similarity in\n",
    "bioactivity than is ECFP. Finally, we report novel drug-to-target\n",
    "binding predictions inaccessible by 2D fingerprints and confirm\n",
    "three of them experimentally with ligand efficiencies from 0.442−0.637 kcal/mol/heavy atom.\n",
    "\n",
    "Link to paper: https://pubs.acs.org/doi/pdf/10.1021/acs.jmedchem.7b00696\n",
    "\n",
    "Credit: https://github.com/keiserlab/e3fp\n"
   ]
  },
  {
   "cell_type": "code",
   "execution_count": null,
   "metadata": {
    "id": "CYC8nAViHCRz"
   },
   "outputs": [],
   "source": [
    "# Install dependencies / requirements\n",
    "!pip install futures mpi4py h5py standardiser e3fp"
   ]
  },
  {
   "cell_type": "markdown",
   "metadata": {
    "id": "wfYJthkZIHnl"
   },
   "source": [
    "### Configuration\n",
    "\n",
    "E3FP configurational parameters are stored in the widely used INI file format. These may be passed to Command Line Interface programs or parsed to Python dicts for Pipeline Methods or other lower-level functions."
   ]
  },
  {
   "cell_type": "markdown",
   "metadata": {
    "id": "tp4lJJXAITXC"
   },
   "source": [
    "#### Loading Default Parameters\n",
    "\n",
    "The below example shows all default parameters, accessed via the <code>e3fp.config module</code>.\n",
    "\n",
    "```\n",
    "# defaults.cfg\n",
    "[preprocessing]\n",
    "standardise = False\n",
    "protonate = False\n",
    "\n",
    "[conformer_generation]\n",
    "num_conf = -1\n",
    "first = -1\n",
    "pool_multiplier = 1\n",
    "rmsd_cutoff = 0.5\n",
    "max_energy_diff = None\n",
    "forcefield = uff\n",
    "out_dir = conformers\n",
    "compress = 2\n",
    "seed = -1\n",
    "\n",
    "; Optimized parameters used in\n",
    "; Axen et al. 2017\n",
    "[fingerprinting]\n",
    "bits = 1024\n",
    "level = 5\n",
    "first = 3\n",
    "radius_multiplier = 1.718\n",
    "stereo = True\n",
    "counts = False\n",
    "include_disconnected = True\n",
    "rdkit_invariants = False\n",
    "remove_duplicate_substructs = True\n",
    "exclude_floating = True\n",
    "```"
   ]
  },
  {
   "cell_type": "markdown",
   "metadata": {
    "id": "wkAhVH1JI-yK"
   },
   "source": [
    "<code>configparser</code> is used internally to parse and store these config parameters."
   ]
  },
  {
   "cell_type": "code",
   "execution_count": 9,
   "metadata": {
    "colab": {
     "base_uri": "https://localhost:8080/"
    },
    "id": "oAk3kgMHHaBq",
    "outputId": "f6099228-8bcc-43a3-dbe1-fdbaf4decaf2"
   },
   "outputs": [
    {
     "name": "stdout",
     "output_type": "stream",
     "text": [
      "['preprocessing', 'conformer_generation', 'fingerprinting']\n"
     ]
    },
    {
     "data": {
      "text/plain": [
       "[('bits', '1024'),\n",
       " ('level', '5'),\n",
       " ('first', '3'),\n",
       " ('radius_multiplier', '1.718'),\n",
       " ('stereo', 'True'),\n",
       " ('counts', 'False'),\n",
       " ('include_disconnected', 'True'),\n",
       " ('rdkit_invariants', 'False'),\n",
       " ('remove_duplicate_substructs', 'True'),\n",
       " ('exclude_floating', 'True')]"
      ]
     },
     "execution_count": 9,
     "metadata": {
      "tags": []
     },
     "output_type": "execute_result"
    }
   ],
   "source": [
    "from e3fp.config.params import default_params\n",
    "\n",
    "default_params\n",
    "print(default_params.sections())\n",
    "default_params.items('fingerprinting')"
   ]
  },
  {
   "cell_type": "markdown",
   "metadata": {
    "id": "CePVtzBGJR4x"
   },
   "source": [
    "### Parsing User-Provided Parameters\n",
    "\n",
    "A user may provide a custom config file.\n",
    "\n",
    "```\n",
    "# new_params.cfg\n",
    "[conformer_generation]\n",
    "first = 10\n",
    "\n",
    "[fingerprinting]\n",
    "bits = 4096\n",
    "first = 10\n",
    "```"
   ]
  },
  {
   "cell_type": "code",
   "execution_count": 10,
   "metadata": {
    "id": "JY0Jc0xsKGR7"
   },
   "outputs": [],
   "source": [
    "!echo -e \"[conformer_generation]\\n first = 10\\n \\n [fingerprinting]\\n bits = 4096\\n first = 10\" >> new_params.cfg"
   ]
  },
  {
   "cell_type": "code",
   "execution_count": 11,
   "metadata": {
    "colab": {
     "base_uri": "https://localhost:8080/"
    },
    "id": "qKc3NN8TJLY1",
    "outputId": "4729a32d-e997-4950-dfd5-42e2baa3c5ee"
   },
   "outputs": [
    {
     "data": {
      "text/plain": [
       "[('bits', '4096'), ('first', '10')]"
      ]
     },
     "execution_count": 11,
     "metadata": {
      "tags": []
     },
     "output_type": "execute_result"
    }
   ],
   "source": [
    "from e3fp.config.params import read_params\n",
    "\n",
    "config = read_params(\"new_params.cfg\")\n",
    "config.items('fingerprinting')"
   ]
  },
  {
   "cell_type": "markdown",
   "metadata": {
    "id": "e8YkSyIpK6mr"
   },
   "source": [
    "When passing these parameters to any downstream methods, default options will be used except where these options are specified."
   ]
  },
  {
   "cell_type": "markdown",
   "metadata": {
    "id": "BNNXFbXRK_aS"
   },
   "source": [
    "#### Converting Parameters to Argument Dicts\n",
    "\n",
    "To pass the parameters to Python methods for fingerprinting and conformer generation, we need to convert them to Python dicts."
   ]
  },
  {
   "cell_type": "code",
   "execution_count": null,
   "metadata": {
    "colab": {
     "base_uri": "https://localhost:8080/"
    },
    "id": "DnWLhzJ0LIC4",
    "outputId": "fa3eae9a-a667-485f-e444-2b82cf902784"
   },
   "outputs": [],
   "source": [
    "# Install RDKit \n",
    "!pip install rdkit-pypi==2021.3.1.5"
   ]
  },
  {
   "cell_type": "code",
   "execution_count": 14,
   "metadata": {
    "colab": {
     "base_uri": "https://localhost:8080/"
    },
    "id": "xjPbVsTdJvpQ",
    "outputId": "9df362bf-1f9b-43a9-939c-d12f1f45d387"
   },
   "outputs": [
    {
     "data": {
      "text/plain": [
       "{'bits': 4096, 'first': 10}"
      ]
     },
     "execution_count": 14,
     "metadata": {
      "tags": []
     },
     "output_type": "execute_result"
    }
   ],
   "source": [
    "from e3fp.pipeline import params_to_dicts\n",
    "\n",
    "confgen_params, fprint_params = params_to_dicts(config)\n",
    "fprint_params"
   ]
  },
  {
   "cell_type": "markdown",
   "metadata": {
    "id": "lW4dzIn3LW1m"
   },
   "source": [
    "### Command Line Interface\n",
    "Command line interfaces (CLI) are provided for the two most common tasks: conformer generation and fingerprinting. At the moment, using the CLI requires downloading the E3FP source.\n",
    "\n",
    "In the below examples, we assume the E3FP repository is located at <code>$E3FP_REPO</code>."
   ]
  },
  {
   "cell_type": "markdown",
   "metadata": {
    "id": "wvhrbOV3LdZ3"
   },
   "source": [
    "#### Conformer Generation CLI\n",
    "\n",
    "To see all available options, run\n",
    "\n",
    "```\n",
    "$ python $E3FP_REPO/e3fp/conformer/generate.py --help\n",
    "usage: Generate conformers from mol2 or SMILES [-h] [-m MOL2 [MOL2 ...]]\n",
    "                                               [-s SMILES [SMILES ...]]\n",
    "                                               [--standardise STANDARDISE]\n",
    "                                               [-n NUM_CONF] [--first FIRST]\n",
    "                                               [--pool_multiplier POOL_MULTIPLIER]\n",
    "                                               [-r RMSD_CUTOFF]\n",
    "                                               [-e MAX_ENERGY_DIFF]\n",
    "                                               [-f {uff,mmff94,mmff94s}]\n",
    "                                               [--seed SEED] [-o OUT_DIR]\n",
    "                                               [-C {None,0,2,1}] [-O]\n",
    "                                               [--values_file VALUES_FILE]\n",
    "                                               [--prioritize]\n",
    "                                               [--params PARAMS] [-l LOG]\n",
    "                                               [-p NUM_PROC]\n",
    "                                               [--parallel_mode {mpi,processes,threads,serial}]\n",
    "                                               [-v]\n",
    "\n",
    "optional arguments:\n",
    "  -h, --help            show this help message and exit\n",
    "  -m MOL2 [MOL2 ...], --mol2 MOL2 [MOL2 ...]\n",
    "                        Path to mol2 file(s), each with one molecule.\n",
    "                        (default: None)\n",
    "  -s SMILES [SMILES ...], --smiles SMILES [SMILES ...]\n",
    "                        Path to file(s) with SMILES and name. (space-\n",
    "                        separated) (default: None)\n",
    "  --standardise STANDARDISE\n",
    "                        Clean molecules before generating conformers by\n",
    "                        standardisation. (default: False)\n",
    "  -n NUM_CONF, --num_conf NUM_CONF\n",
    "                        Set single number of conformers to use. -1 results in\n",
    "                        auto choosing. (default: -1)\n",
    "  --first FIRST         Set maximum number of first conformers to accept.\n",
    "                        Conformer generation is unaffected, except it may\n",
    "                        terminate early when this number of conformers is\n",
    "                        reached. (default: -1)\n",
    "  --pool_multiplier POOL_MULTIPLIER\n",
    "                        Factor to multiply `num_conf` by to generate\n",
    "                        conformers. Results are then pruned to `num_conf`.\n",
    "                        (default: 1)\n",
    "  -r RMSD_CUTOFF, --rmsd_cutoff RMSD_CUTOFF\n",
    "                        Choose RMSD cutoff between conformers (default: 0.5)\n",
    "  -e MAX_ENERGY_DIFF, --max_energy_diff MAX_ENERGY_DIFF\n",
    "                        Maximum energy difference between lowest energy\n",
    "                        conformer and any accepted conformer. (default: None)\n",
    "  -f {uff,mmff94,mmff94s}, --forcefield {uff,mmff94,mmff94s}\n",
    "                        Choose forcefield for minimization. (default: uff)\n",
    "  --seed SEED           Random seed for conformer generation. (default: -1)\n",
    "  -o OUT_DIR, --out_dir OUT_DIR\n",
    "                        Directory to save conformers. (default: conformers)\n",
    "  -C {None,0,2,1}, --compress {None,0,2,1}\n",
    "                        Compression to use for SDF files. None and 0 default\n",
    "                        to uncompressed \".sdf\". 1 and 2 result in gzipped and\n",
    "                        bzipped SDF files, respectively. (default: 2)\n",
    "  -O, --overwrite       Overwrite existing conformer files. (default: False)\n",
    "  --values_file VALUES_FILE\n",
    "                        Save RMSDs and energies to specified hdf5 file.\n",
    "                        (default: None)\n",
    "  --prioritize          Prioritize likely fast molecules first. (default:\n",
    "                        False)\n",
    "  --params PARAMS       INI formatted file with parameters. If provided, all\n",
    "                        parameters controlling conformer generation are\n",
    "                        ignored. (default: None)\n",
    "  -l LOG, --log LOG     Generate logfile. (default: None)\n",
    "  -p NUM_PROC, --num_proc NUM_PROC\n",
    "                        Set number of processors to use. (default: None)\n",
    "  --parallel_mode {mpi,processes,threads,serial}\n",
    "                        Set number of processors to use. (default: None)\n",
    "  -v, --verbose         Run with extra verbosity. (default: False)\n",
    "```"
   ]
  },
  {
   "cell_type": "markdown",
   "metadata": {
    "id": "C2YN3pweLoHe"
   },
   "source": [
    "We will generate conformers for the molecule whose SMILES string is defined in <code>caffeine.smi</code>.\n",
    "\n",
    "```\n",
    "# caffeine.smi\n",
    "CN1C=NC2=C1C(=O)N(C(=O)N2C)C caffeine\n",
    "```"
   ]
  },
  {
   "cell_type": "markdown",
   "metadata": {
    "id": "thq4DJ2YL1Lf"
   },
   "source": [
    "The below example generates at most 3 conformers for this molecule.\n",
    "\n",
    "```\n",
    "$ python $E3FP_REPO/e3fp/conformer/generate.py -s caffeine.smi --num_conf 3 -o ./\n",
    "2017-07-17 00:11:05,743|WARNING|Only 1 processes available. 'mpi' mode not available.\n",
    "2017-07-17 00:11:05,748|INFO|num_proc is not specified. 'processes' mode will use all 8 processes\n",
    "2017-07-17 00:11:05,748|INFO|Parallelizer initialized with mode 'processes' and 8 processors.\n",
    "2017-07-17 00:11:05,748|INFO|Input type: Detected SMILES file(s)\n",
    "2017-07-17 00:11:05,748|INFO|Input file number: 1\n",
    "2017-07-17 00:11:05,748|INFO|Parallel Type: processes\n",
    "2017-07-17 00:11:05,748|INFO|Out Directory: ./\n",
    "2017-07-17 00:11:05,749|INFO|Overwrite Existing Files: False\n",
    "2017-07-17 00:11:05,749|INFO|Target Conformer Number: 3\n",
    "2017-07-17 00:11:05,749|INFO|First Conformers Number: all\n",
    "2017-07-17 00:11:05,749|INFO|Pool Multiplier: 1\n",
    "2017-07-17 00:11:05,749|INFO|RMSD Cutoff: 0.5\n",
    "2017-07-17 00:11:05,749|INFO|Maximum Energy Difference: None\n",
    "2017-07-17 00:11:05,749|INFO|Forcefield: UFF\n",
    "2017-07-17 00:11:05,749|INFO|Starting.\n",
    "2017-07-17 00:11:05,779|INFO|Generating conformers for caffeine.\n",
    "2017-07-17 00:11:05,823|INFO|Generated 1 conformers for caffeine.\n",
    "2017-07-17 00:11:05,829|INFO|Saved conformers for caffeine to ./caffeine.sdf.bz2.\n",
    "```"
   ]
  },
  {
   "cell_type": "markdown",
   "metadata": {
    "id": "unGp5Ki3Ndsq"
   },
   "source": [
    "The result is a multi-conformer SDF file called <code>caffeine.sdf.bz2</code> in the current directory."
   ]
  },
  {
   "cell_type": "markdown",
   "metadata": {
    "id": "UprSC-25NiFi"
   },
   "source": [
    "#### Fingerprinting CLI\n",
    "\n",
    "```\n",
    "$ python $E3FP_REPO/e3fp/fingerprint/generate.py --help\n",
    "usage: Generate E3FP fingerprints from SDF files. [-h] [-b BITS]\n",
    "                                                  [--first FIRST] [-m LEVEL]\n",
    "                                                  [-r RADIUS_MULTIPLIER]\n",
    "                                                  [--stereo STEREO]\n",
    "                                                  [--counts COUNTS]\n",
    "                                                  [--params PARAMS]\n",
    "                                                  [-o OUT_DIR_BASE]\n",
    "                                                  [--out_ext {.fp.pkl,.fp.gz,.fp.bz2}]\n",
    "                                                  [-d DB_FILE] [--all_iters]\n",
    "                                                  [-O] [-l LOG] [-p NUM_PROC]\n",
    "                                                  [--parallel_mode {mpi,processes,threads,serial}]\n",
    "                                                  [-v]\n",
    "                                                  sdf_files [sdf_files ...]\n",
    "\n",
    "positional arguments:\n",
    "  sdf_files             Path to SDF file(s), each with one molecule and\n",
    "                        multiple conformers.\n",
    "\n",
    "optional arguments:\n",
    "  -h, --help            show this help message and exit\n",
    "  -b BITS, --bits BITS  Set number of bits for final folded fingerprint. If -1\n",
    "                        or None, unfolded (2^32-bit) fingerprints are\n",
    "                        generated. (default: 4294967296)\n",
    "  --first FIRST         Set maximum number of first conformers for which to\n",
    "                        generate fingerprints. (default: 3)\n",
    "  -m LEVEL, --level LEVEL, --max_iterations LEVEL\n",
    "                        Maximum number of iterations for fingerprint\n",
    "                        generation. If -1, fingerprinting is run until\n",
    "                        termination, and `all_iters` is set to False.\n",
    "                        (default: 5)\n",
    "  -r RADIUS_MULTIPLIER, --radius_multiplier RADIUS_MULTIPLIER, --shell_radius RADIUS_MULTIPLIER\n",
    "                        Distance to increment shell radius at around each\n",
    "                        atom, starting at 0.0. (default: 1.718)\n",
    "  --stereo STEREO       Differentiate by stereochemistry. (default: True)\n",
    "  --counts COUNTS       Store counts-based E3FC instead of default bit-based.\n",
    "                        (default: False)\n",
    "  --params PARAMS       INI formatted file with parameters. If provided, all\n",
    "                        parameters controlling conformer generation are\n",
    "                        ignored. (default: None)\n",
    "  -o OUT_DIR_BASE, --out_dir_base OUT_DIR_BASE\n",
    "                        Basename for output directory to save fingerprints.\n",
    "                        Iteration number is appended to basename. (default:\n",
    "                        None)\n",
    "  --out_ext {.fp.pkl,.fp.gz,.fp.bz2}\n",
    "                        Extension for fingerprint pickles. (default: .fp.bz2)\n",
    "  -d DB_FILE, --db_file DB_FILE\n",
    "                        Output file containing FingerprintDatabase object\n",
    "                        (default: fingerprints.fpz)\n",
    "  --all_iters           Save fingerprints from all iterations to file(s).\n",
    "                        (default: False)\n",
    "  -O, --overwrite       Overwrite existing file(s). (default: False)\n",
    "  -l LOG, --log LOG     Log filename. (default: None)\n",
    "  -p NUM_PROC, --num_proc NUM_PROC\n",
    "                        Set number of processors to use. (default: None)\n",
    "  --parallel_mode {mpi,processes,threads,serial}\n",
    "                        Set parallelization mode to use. (default: None)\n",
    "  -v, --verbose         Run with extra verbosity. (default: False)\n",
    "```"
   ]
  },
  {
   "cell_type": "markdown",
   "metadata": {
    "id": "j9NIfeIzNqBM"
   },
   "source": [
    "To continue the above example, we will fingerprint our caffeine conformers.\n",
    "\n",
    "```\n",
    "$ python $E3FP_REPO/e3fp/fingerprint/generate.py caffeine.sdf.bz2 --bits 1024\n",
    "2017-07-17 00:12:33,797|WARNING|Only 1 processes available. 'mpi' mode not available.\n",
    "2017-07-17 00:12:33,801|INFO|num_proc is not specified. 'processes' mode will use all 8 processes\n",
    "2017-07-17 00:12:33,801|INFO|Parallelizer initialized with mode 'processes' and 8 processors.\n",
    "2017-07-17 00:12:33,801|INFO|Initializing E3FP generation.\n",
    "2017-07-17 00:12:33,801|INFO|Getting SDF files\n",
    "2017-07-17 00:12:33,801|INFO|SDF File Number: 1\n",
    "2017-07-17 00:12:33,802|INFO|Database File: fingerprints.fpz\n",
    "2017-07-17 00:12:33,802|INFO|Max First Conformers: 3\n",
    "2017-07-17 00:12:33,802|INFO|Bits: 1024\n",
    "2017-07-17 00:12:33,802|INFO|Level/Max Iterations: 5\n",
    "2017-07-17 00:12:33,802|INFO|Shell Radius Multiplier: 1.718\n",
    "2017-07-17 00:12:33,802|INFO|Stereo Mode: True\n",
    "2017-07-17 00:12:33,802|INFO|Connected-only mode: on\n",
    "2017-07-17 00:12:33,802|INFO|Invariant type: Daylight\n",
    "2017-07-17 00:12:33,802|INFO|Parallel Mode: processes\n",
    "2017-07-17 00:12:33,802|INFO|Starting\n",
    "2017-07-17 00:12:33,829|INFO|Generating fingerprints for caffeine.\n",
    "2017-07-17 00:12:33,935|INFO|Generated 1 fingerprints for caffeine.\n",
    "2017-07-17 00:12:34,011|INFO|Saved FingerprintDatabase with fingerprints to fingerprints.fpz\n",
    "```\n",
    "\n",
    "The result is a file <code>fingerprints.fpz</code> containing a <code>FingerprintDatabase</code>. To use such a database, consult <code>Fingerprint Storage</code>."
   ]
  },
  {
   "cell_type": "markdown",
   "metadata": {
    "id": "sVKcxoBEOJYg"
   },
   "source": [
    "### Pipeline Methods\n",
    "\n",
    "E3FP can be easily plugged into an existing pipeline using the methods in the <code>e3fp.pipeline</code> module. Each of these methods wraps functionality in other modules for generating various outputs from inputs and specified options.\n",
    "\n",
    "First we must choose configuration options. Here we will use defaults for all but a few options."
   ]
  },
  {
   "cell_type": "code",
   "execution_count": 26,
   "metadata": {
    "id": "S1mDyNtcMXys"
   },
   "outputs": [],
   "source": [
    "fprint_params = {'bits': 4096, 'radius_multiplier': 1.5, 'rdkit_invariants': True}\n",
    "confgen_params = {'max_energy_diff': 20.0, 'first': 3}\n",
    "smiles = \"COC(=O)C(C1CCCCN1)C2=CC=CC=C2\""
   ]
  },
  {
   "cell_type": "markdown",
   "metadata": {
    "id": "t86dLTRZObW5"
   },
   "source": [
    "#### Generating Conformers from SMILES\n",
    "\n",
    "The following code snippet generates a multi-conformer molecule:"
   ]
  },
  {
   "cell_type": "code",
   "execution_count": 27,
   "metadata": {
    "colab": {
     "base_uri": "https://localhost:8080/"
    },
    "id": "nNg3cU7GOYOP",
    "outputId": "f2f95875-4c54-445d-e421-2bb6ff6a1b9b"
   },
   "outputs": [
    {
     "name": "stderr",
     "output_type": "stream",
     "text": [
      "2021-05-26 19:50:41,751|INFO|Generating conformers for ritalin.\n",
      "2021-05-26 19:50:43,545|INFO|Generated 3 conformers for ritalin.\n"
     ]
    },
    {
     "data": {
      "text/plain": [
       "3"
      ]
     },
     "execution_count": 27,
     "metadata": {
      "tags": []
     },
     "output_type": "execute_result"
    }
   ],
   "source": [
    "from e3fp.pipeline import confs_from_smiles\n",
    "\n",
    "mol = confs_from_smiles(smiles, \"ritalin\", confgen_params=confgen_params)\n",
    "mol.GetNumConformers()"
   ]
  },
  {
   "cell_type": "markdown",
   "metadata": {
    "id": "OCLjqU7HOsrF"
   },
   "source": [
    "This produces the following conformers:\n",
    "\n",
    "![image.png](data:image/png;base64,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)"
   ]
  },
  {
   "cell_type": "markdown",
   "metadata": {
    "id": "O9BSL5BKPHR8"
   },
   "source": [
    "#### Generating Fingerprints from Conformers"
   ]
  },
  {
   "cell_type": "code",
   "execution_count": 29,
   "metadata": {
    "colab": {
     "base_uri": "https://localhost:8080/"
    },
    "id": "PUrDpTlMOqhP",
    "outputId": "2bb68bd1-5714-49cc-f3c2-1621e60aaa1d"
   },
   "outputs": [
    {
     "name": "stderr",
     "output_type": "stream",
     "text": [
      "2021-05-26 19:53:44,191|INFO|Generating fingerprints for ritalin.\n",
      "2021-05-26 19:53:44,446|INFO|Generated 3 fingerprints for ritalin.\n"
     ]
    },
    {
     "data": {
      "text/plain": [
       "Fingerprint(indices=array([188, 206, 224, 356, 401, 561, 562, 763, 914, 1095, 1346, 1414, 1426, 1513, 1527, 1528, 1738, 1802, 1910, 2287, 2521, 2700, 2714, 2793, 2874, 2978, 3089, 3148, 3421, 3465, 3693, 3752, 4053, 4059, 4084]), level=5, bits=4096, name=ritalin_2)"
      ]
     },
     "execution_count": 29,
     "metadata": {
      "tags": []
     },
     "output_type": "execute_result"
    }
   ],
   "source": [
    "from e3fp.pipeline import fprints_from_mol\n",
    "\n",
    "fprints = fprints_from_mol(mol, fprint_params=fprint_params)\n",
    "len(fprints)\n",
    "\n",
    "fprints[0]\n",
    "fprints[1]\n",
    "fprints[2]"
   ]
  },
  {
   "cell_type": "markdown",
   "metadata": {
    "id": "61V5d15EPaoz"
   },
   "source": [
    "#### Generating Fingerprints from SMILES"
   ]
  },
  {
   "cell_type": "code",
   "execution_count": 30,
   "metadata": {
    "colab": {
     "base_uri": "https://localhost:8080/"
    },
    "id": "ajVabCKTPO4P",
    "outputId": "f768c9e6-b5cf-4f60-9a53-31834475e9d0"
   },
   "outputs": [
    {
     "name": "stderr",
     "output_type": "stream",
     "text": [
      "2021-05-26 19:54:23,950|INFO|Generating conformers for ritalin.\n",
      "2021-05-26 19:54:25,729|INFO|Generated 3 conformers for ritalin.\n",
      "2021-05-26 19:54:25,732|INFO|Generating fingerprints for ritalin.\n",
      "2021-05-26 19:54:25,975|INFO|Generated 3 fingerprints for ritalin.\n"
     ]
    },
    {
     "data": {
      "text/plain": [
       "Fingerprint(indices=array([125, 188, 356, 380, 401, 556, 561, 562, 763, 914, 986, 1095, 1346, 1414, 1443, 1513, 1527, 1528, 1680, 1738, 1802, 1917, 2287, 2521, 2700, 2714, 2793, 2833, 2848, 2986, 3421, 3604, 3683, 3693, 4053]), level=5, bits=4096, name=ritalin_0)"
      ]
     },
     "execution_count": 30,
     "metadata": {
      "tags": []
     },
     "output_type": "execute_result"
    }
   ],
   "source": [
    "from e3fp.pipeline import fprints_from_smiles\n",
    "\n",
    "fprints = fprints_from_smiles(smiles, \"ritalin\", confgen_params=confgen_params, fprint_params=fprint_params)\n",
    "fprints[0]"
   ]
  },
  {
   "cell_type": "markdown",
   "metadata": {
    "id": "kDcXdQuOPjIH"
   },
   "source": [
    "#### Parallel Fingerprinting\n",
    "\n",
    "The following script demonstrates use of <code>python_utilities</code> for fingerprinting all SDF files in a directory in parallel. This essentially is the same as the Fingerprinting CLI, albeit with a less convenient interface."
   ]
  },
  {
   "cell_type": "code",
   "execution_count": 33,
   "metadata": {
    "id": "4Buqn7yTQWD6"
   },
   "outputs": [],
   "source": [
    "# generate caffeine.smi file\n",
    "!echo -e \"CN1C=NC2=C1C(=O)N(C(=O)N2C)C caffeine\" >> caffeine.smi"
   ]
  },
  {
   "cell_type": "code",
   "execution_count": 34,
   "metadata": {
    "colab": {
     "base_uri": "https://localhost:8080/"
    },
    "id": "r7_X6gz_PgxZ",
    "outputId": "4c8ec221-7a1d-497a-eed7-73de70bd7522"
   },
   "outputs": [
    {
     "name": "stderr",
     "output_type": "stream",
     "text": [
      "2021-05-26 20:02:36,423|INFO|num_proc is not specified. 'processes' mode will use all 4 processes\n",
      "2021-05-26 20:02:36,424|INFO|Parallelizer initialized with mode 'processes' and 4 processors.\n"
     ]
    },
    {
     "name": "stdout",
     "output_type": "stream",
     "text": [
      "{'caffeine': 'CN1C=NC2=C1C(=O)N(C(=O)N2C)C'}\n"
     ]
    },
    {
     "name": "stderr",
     "output_type": "stream",
     "text": [
      "2021-05-26 20:02:36,463|INFO|Generating conformers for caffeine.\n",
      "2021-05-26 20:02:36,980|INFO|Generated 1 conformers for caffeine.\n",
      "2021-05-26 20:02:36,982|INFO|Generating fingerprints for caffeine.\n",
      "2021-05-26 20:02:37,045|INFO|Generated 1 fingerprints for caffeine.\n"
     ]
    },
    {
     "data": {
      "text/plain": [
       "1"
      ]
     },
     "execution_count": 34,
     "metadata": {
      "tags": []
     },
     "output_type": "execute_result"
    }
   ],
   "source": [
    "from glob import glob\n",
    "from python_utilities.parallel import Parallelizer\n",
    "from e3fp.conformer.util import smiles_to_dict\n",
    "\n",
    "smiles_dict = smiles_to_dict(\"caffeine.smi\")\n",
    "print(smiles_dict)\n",
    "len(smiles_dict)\n",
    "\n",
    "smiles_iter = ((smiles, name) for name, smiles in smiles_dict.items())\n",
    "kwargs = {\"confgen_params\": confgen_params, \"fprint_params\": fprint_params}\n",
    "parallelizer = Parallelizer(parallel_mode=\"processes\")\n",
    "\n",
    "fprints_list = parallelizer.run(fprints_from_smiles, smiles_iter, kwargs=kwargs) \n",
    "len(fprints_list) "
   ]
  },
  {
   "cell_type": "markdown",
   "metadata": {
    "id": "MQz3h167RoBk"
   },
   "source": [
    "For all pipeline methods, please see the <code>e3fp.pipeline</code> module API."
   ]
  },
  {
   "cell_type": "markdown",
   "metadata": {
    "id": "w8-0r9d7Ry3I"
   },
   "source": [
    "### Fingerprints\n",
    "\n",
    "The simplest interface for molecular fingerprints are through three classes in <code>e3fp.fingerprint.fprint</code>:\n",
    "\n",
    "```\n",
    "Fingerprint \n",
    "    a fingerprint with \"on\" bits\n",
    "\n",
    "CountFingerprint \n",
    "    a fingerprint with counts for each “on” bit\n",
    "\n",
    "FloatFingerprint \n",
    "    a fingerprint with float values for each \"on\" bit, generated for example by averaging conformer fingerprints.\n",
    "```\n",
    "\n",
    "In addition to storing \"on\" indices and, for the latter two, corresponding values, they store fingerprint properties, such as name, level, and any arbitrary property. They also provide simple interfaces for fingerprint comparison, some basic processing, and comparison."
   ]
  },
  {
   "cell_type": "markdown",
   "metadata": {
    "id": "86fGF6QKS1Rh"
   },
   "source": [
    "In the below examples, we will focus on <code>Fingerprint</code> and <code>CountFingerprint</code>. First, we execute the necessary imports."
   ]
  },
  {
   "cell_type": "code",
   "execution_count": 35,
   "metadata": {
    "id": "FWUBvcPdP7_Y"
   },
   "outputs": [],
   "source": [
    "from e3fp.fingerprint.fprint import Fingerprint, CountFingerprint\n",
    "import numpy as np"
   ]
  },
  {
   "cell_type": "markdown",
   "metadata": {
    "id": "n8TuxsGaTAt5"
   },
   "source": [
    "#### Creation and Conversion\n",
    "\n",
    "Here we create a bit-fingerprint with random \"on\" indices."
   ]
  },
  {
   "cell_type": "code",
   "execution_count": 36,
   "metadata": {
    "colab": {
     "base_uri": "https://localhost:8080/"
    },
    "id": "9byb9WD0S76L",
    "outputId": "9507b7f9-26c8-46f2-c6e5-bc6e37698e63"
   },
   "outputs": [
    {
     "data": {
      "text/plain": [
       "array([ 302285912,  358009231,  541718221, 1069827052, 1133171616,\n",
       "       1156373919, 1322902288, 1369851196, 1465197039, 1559304357,\n",
       "       1722330369, 1837624616, 1878563365, 2057113679, 2078595714,\n",
       "       2114197989, 2132809134, 2183455199, 2229421738, 2375632565,\n",
       "       2778917144, 2825452805, 3033463891, 3042698286, 3366381098,\n",
       "       3448196677, 3524561071, 3852231029, 4083199065, 4231559027])"
      ]
     },
     "execution_count": 36,
     "metadata": {
      "tags": []
     },
     "output_type": "execute_result"
    }
   ],
   "source": [
    "bits = 2**32\n",
    "indices = np.sort(np.random.randint(0, bits, 30))\n",
    "indices"
   ]
  },
  {
   "cell_type": "code",
   "execution_count": 37,
   "metadata": {
    "colab": {
     "base_uri": "https://localhost:8080/"
    },
    "id": "wm2kAkmvTSwl",
    "outputId": "501085b9-2e0e-42c7-be37-ec2810edacef"
   },
   "outputs": [
    {
     "data": {
      "text/plain": [
       "Fingerprint(indices=array([302285912, 358009231, 541718221, 1069827052, 1133171616, 1156373919, 1322902288, 1369851196, 1465197039, 1559304357, 1722330369, 1837624616, 1878563365, 2057113679, 2078595714, 2114197989, 2132809134, 2183455199, 2229421738, 2375632565, 2778917144, 2825452805, 3033463891, 3042698286, 3366381098, 3448196677, 3524561071, 3852231029, 4083199065, 4231559027]), level=0, bits=4294967296, name=None)"
      ]
     },
     "execution_count": 37,
     "metadata": {
      "tags": []
     },
     "output_type": "execute_result"
    }
   ],
   "source": [
    "fp1 = Fingerprint(indices, bits=bits, level=0)\n",
    "fp1"
   ]
  },
  {
   "cell_type": "markdown",
   "metadata": {
    "id": "z-HtXd_8Taui"
   },
   "source": [
    "This fingerprint is extremely sparse"
   ]
  },
  {
   "cell_type": "code",
   "execution_count": 39,
   "metadata": {
    "colab": {
     "base_uri": "https://localhost:8080/"
    },
    "id": "V1_YiL2TTTUq",
    "outputId": "ca737ace-f4b3-4305-ff73-864861ceb406"
   },
   "outputs": [
    {
     "data": {
      "text/plain": [
       "30"
      ]
     },
     "execution_count": 39,
     "metadata": {
      "tags": []
     },
     "output_type": "execute_result"
    }
   ],
   "source": [
    "fp1.bit_count"
   ]
  },
  {
   "cell_type": "code",
   "execution_count": 40,
   "metadata": {
    "colab": {
     "base_uri": "https://localhost:8080/"
    },
    "id": "IkLAfnTQTe4E",
    "outputId": "25f1f1e9-c7fa-4e69-d6ce-935aa94bcb8a"
   },
   "outputs": [
    {
     "data": {
      "text/plain": [
       "6.984919309616089e-09"
      ]
     },
     "execution_count": 40,
     "metadata": {
      "tags": []
     },
     "output_type": "execute_result"
    }
   ],
   "source": [
    "fp1.density"
   ]
  },
  {
   "cell_type": "markdown",
   "metadata": {
    "id": "Y-TBjdH5Tkgo"
   },
   "source": [
    "We can therefore \"fold\" the fingerprint through a series of bitwise \"OR\" operations on halves of the sparse vector until it is of a specified length, with minimal collision of bits."
   ]
  },
  {
   "cell_type": "code",
   "execution_count": 41,
   "metadata": {
    "colab": {
     "base_uri": "https://localhost:8080/"
    },
    "id": "K75xkFTATg7y",
    "outputId": "3d0e6eec-3787-459c-bfef-4285ba274b98"
   },
   "outputs": [
    {
     "data": {
      "text/plain": [
       "Fingerprint(indices=array([46, 79, 83, 88, 89, 165, 175, 257, 261, 280, 296, 316, 373, 399, 415, 430, 479, 485, 495, 549, 554, 581, 642, 682, 693, 717, 784, 883, 928, 1004]), level=0, bits=1024, name=None)"
      ]
     },
     "execution_count": 41,
     "metadata": {
      "tags": []
     },
     "output_type": "execute_result"
    }
   ],
   "source": [
    "fp_folded = fp1.fold(1024)\n",
    "fp_folded"
   ]
  },
  {
   "cell_type": "code",
   "execution_count": 42,
   "metadata": {
    "colab": {
     "base_uri": "https://localhost:8080/"
    },
    "id": "xcWrIMWOT-aV",
    "outputId": "a161f9cc-cdcc-45a0-fbcf-8ef682353d20"
   },
   "outputs": [
    {
     "data": {
      "text/plain": [
       "0.029296875"
      ]
     },
     "execution_count": 42,
     "metadata": {
      "tags": []
     },
     "output_type": "execute_result"
    }
   ],
   "source": [
    "fp_folded.bit_count\n",
    "fp_folded.density"
   ]
  },
  {
   "cell_type": "markdown",
   "metadata": {
    "id": "rocBHBTSUKbs"
   },
   "source": [
    "A <code>CountFingerprint</code> may be created by also providing a dictionary matching indices with nonzero counts to the counts."
   ]
  },
  {
   "cell_type": "code",
   "execution_count": 43,
   "metadata": {
    "colab": {
     "base_uri": "https://localhost:8080/"
    },
    "id": "42zak04tUFi7",
    "outputId": "1b16344e-9644-4991-a488-b21b66e9cb7b"
   },
   "outputs": [
    {
     "data": {
      "text/plain": [
       "{11572863: 1,\n",
       " 74495151: 3,\n",
       " 152873780: 4,\n",
       " 484654139: 2,\n",
       " 601051226: 3,\n",
       " 710301887: 8,\n",
       " 802878868: 9,\n",
       " 866096726: 6,\n",
       " 919624195: 7,\n",
       " 955153512: 7,\n",
       " 987292777: 9,\n",
       " 1150872007: 7,\n",
       " 1168886552: 5,\n",
       " 1239561412: 7,\n",
       " 1280021838: 3,\n",
       " 1297373215: 7,\n",
       " 1452672163: 2,\n",
       " 1501029413: 2,\n",
       " 1625348176: 6,\n",
       " 1629764905: 1,\n",
       " 1638557138: 6,\n",
       " 1892417825: 6,\n",
       " 1900283514: 5,\n",
       " 1934997866: 6,\n",
       " 2038373660: 7,\n",
       " 2189939306: 3,\n",
       " 2286219231: 1,\n",
       " 2315073231: 8,\n",
       " 2348893970: 7,\n",
       " 2435556610: 3,\n",
       " 2436950919: 3,\n",
       " 2474241144: 1,\n",
       " 2474779435: 5,\n",
       " 2577785506: 7,\n",
       " 2593380350: 7,\n",
       " 2624803106: 7,\n",
       " 2642983878: 7,\n",
       " 2643298037: 4,\n",
       " 3014223736: 2,\n",
       " 3057402275: 3,\n",
       " 3166957272: 2,\n",
       " 3253028924: 6,\n",
       " 3264245185: 2,\n",
       " 3324810804: 5,\n",
       " 3337408445: 2,\n",
       " 3409687174: 8,\n",
       " 3429828072: 7,\n",
       " 3496738560: 1,\n",
       " 3567993824: 7,\n",
       " 3592297601: 9,\n",
       " 3621307917: 3,\n",
       " 3653940850: 3,\n",
       " 3742526431: 4,\n",
       " 3793778756: 5,\n",
       " 4072072568: 2,\n",
       " 4112109779: 7,\n",
       " 4219181754: 8,\n",
       " 4224223949: 8,\n",
       " 4246269488: 7,\n",
       " 4277585000: 2}"
      ]
     },
     "execution_count": 43,
     "metadata": {
      "tags": []
     },
     "output_type": "execute_result"
    }
   ],
   "source": [
    "indices2 = np.sort(np.random.randint(0, bits, 60))\n",
    "\n",
    "counts = dict(zip(indices2, np.random.randint(1, 10, indices2.size)))\n",
    "counts"
   ]
  },
  {
   "cell_type": "code",
   "execution_count": 44,
   "metadata": {
    "colab": {
     "base_uri": "https://localhost:8080/"
    },
    "id": "s94kRoSiUVja",
    "outputId": "ac451323-3af6-4b54-86e7-64cf0f08daeb"
   },
   "outputs": [
    {
     "data": {
      "text/plain": [
       "CountFingerprint(counts={11572863: 1, 74495151: 3, 152873780: 4, 484654139: 2, 601051226: 3, 710301887: 8, 802878868: 9, 866096726: 6, 919624195: 7, 955153512: 7, 987292777: 9, 1150872007: 7, 1168886552: 5, 1239561412: 7, 1280021838: 3, 1297373215: 7, 1452672163: 2, 1501029413: 2, 1625348176: 6, 1629764905: 1, 1638557138: 6, 1892417825: 6, 1900283514: 5, 1934997866: 6, 2038373660: 7, 2189939306: 3, 2286219231: 1, 2315073231: 8, 2348893970: 7, 2435556610: 3, 2436950919: 3, 2474241144: 1, 2474779435: 5, 2577785506: 7, 2593380350: 7, 2624803106: 7, 2642983878: 7, 2643298037: 4, 3014223736: 2, 3057402275: 3, 3166957272: 2, 3253028924: 6, 3264245185: 2, 3324810804: 5, 3337408445: 2, 3409687174: 8, 3429828072: 7, 3496738560: 1, 3567993824: 7, 3592297601: 9, 3621307917: 3, 3653940850: 3, 3742526431: 4, 3793778756: 5, 4072072568: 2, 4112109779: 7, 4219181754: 8, 4224223949: 8, 4246269488: 7, 4277585000: 2}, level=0, bits=4294967296, name=None)"
      ]
     },
     "execution_count": 44,
     "metadata": {
      "tags": []
     },
     "output_type": "execute_result"
    }
   ],
   "source": [
    "cfp1 = CountFingerprint(counts=counts, bits=bits, level=0)\n",
    "cfp1"
   ]
  },
  {
   "cell_type": "markdown",
   "metadata": {
    "id": "Qe6dYUP7UgIS"
   },
   "source": [
    "Unlike folding a bit fingerprint, by default, folding a count fingerprint performs a \"SUM\" operation on colliding counts."
   ]
  },
  {
   "cell_type": "code",
   "execution_count": 45,
   "metadata": {
    "colab": {
     "base_uri": "https://localhost:8080/"
    },
    "id": "09Dy5kgEUWZs",
    "outputId": "922efca7-3e60-4a44-dc61-db8e17cf7954"
   },
   "outputs": [
    {
     "data": {
      "text/plain": [
       "60"
      ]
     },
     "execution_count": 45,
     "metadata": {
      "tags": []
     },
     "output_type": "execute_result"
    }
   ],
   "source": [
    "cfp1.bit_count"
   ]
  },
  {
   "cell_type": "code",
   "execution_count": 46,
   "metadata": {
    "colab": {
     "base_uri": "https://localhost:8080/"
    },
    "id": "JBgFEkSHUu1Z",
    "outputId": "99a40a09-aaaa-4fd7-c66e-5be0aa3764a6"
   },
   "outputs": [
    {
     "data": {
      "text/plain": [
       "CountFingerprint(counts={639: 1, 175: 3, 820: 4, 59: 2, 90: 3, 191: 8, 404: 9, 598: 6, 515: 7, 104: 9, 105: 9, 455: 7, 792: 5, 196: 7, 334: 3, 31: 7, 163: 2, 37: 2, 80: 6, 297: 1, 466: 6, 289: 6, 634: 5, 362: 6, 284: 7, 618: 3, 991: 5, 719: 8, 786: 7, 258: 3, 903: 3, 120: 1, 811: 5, 674: 7, 1022: 7, 290: 7, 966: 7, 757: 4, 888: 2, 419: 3, 728: 2, 60: 6, 449: 2, 564: 5, 957: 2, 646: 8, 488: 7, 768: 1, 992: 7, 129: 9, 525: 3, 626: 3, 68: 5, 376: 2, 211: 7, 698: 8, 717: 8, 560: 7}, level=0, bits=1024, name=None)"
      ]
     },
     "execution_count": 46,
     "metadata": {
      "tags": []
     },
     "output_type": "execute_result"
    }
   ],
   "source": [
    "cfp_folded = cfp1.fold(1024)\n",
    "cfp_folded"
   ]
  },
  {
   "cell_type": "code",
   "execution_count": 47,
   "metadata": {
    "colab": {
     "base_uri": "https://localhost:8080/"
    },
    "id": "osURiTuaUsqp",
    "outputId": "d3eb2f60-8158-4293-b5a5-d9adcfb11942"
   },
   "outputs": [
    {
     "data": {
      "text/plain": [
       "58"
      ]
     },
     "execution_count": 47,
     "metadata": {
      "tags": []
     },
     "output_type": "execute_result"
    }
   ],
   "source": [
    "cfp_folded.bit_count"
   ]
  },
  {
   "cell_type": "markdown",
   "metadata": {
    "id": "DgHG2dFRUxuf"
   },
   "source": [
    "It is trivial to interconvert the fingerprints."
   ]
  },
  {
   "cell_type": "code",
   "execution_count": 48,
   "metadata": {
    "colab": {
     "base_uri": "https://localhost:8080/"
    },
    "id": "V6dCa8uDUv0e",
    "outputId": "52b409ce-db6d-4806-d4e5-c403921eb927"
   },
   "outputs": [
    {
     "data": {
      "text/plain": [
       "CountFingerprint(counts={46: 1, 79: 1, 83: 1, 88: 1, 89: 1, 165: 1, 175: 1, 257: 1, 261: 1, 280: 1, 296: 1, 316: 1, 373: 1, 399: 1, 415: 1, 430: 1, 479: 1, 485: 1, 495: 1, 549: 1, 554: 1, 581: 1, 642: 1, 682: 1, 693: 1, 717: 1, 784: 1, 883: 1, 928: 1, 1004: 1}, level=0, bits=1024, name=None)"
      ]
     },
     "execution_count": 48,
     "metadata": {
      "tags": []
     },
     "output_type": "execute_result"
    }
   ],
   "source": [
    "cfp_folded2 = CountFingerprint.from_fingerprint(fp_folded)\n",
    "cfp_folded2"
   ]
  },
  {
   "cell_type": "code",
   "execution_count": 50,
   "metadata": {
    "colab": {
     "base_uri": "https://localhost:8080/"
    },
    "id": "-k4Ggu2KU5b5",
    "outputId": "2c2e2669-93f9-4867-8136-c3ba11303229"
   },
   "outputs": [
    {
     "data": {
      "text/plain": [
       "array([46, 79, 83, 88, 89])"
      ]
     },
     "execution_count": 50,
     "metadata": {
      "tags": []
     },
     "output_type": "execute_result"
    }
   ],
   "source": [
    "cfp_folded2.indices[:5]"
   ]
  },
  {
   "cell_type": "code",
   "execution_count": 51,
   "metadata": {
    "colab": {
     "base_uri": "https://localhost:8080/"
    },
    "id": "py-S5lSbU55O",
    "outputId": "b6a1cf5d-5a9c-4b50-ae0e-0eb137fbc5d1"
   },
   "outputs": [
    {
     "data": {
      "text/plain": [
       "array([46, 79, 83, 88, 89])"
      ]
     },
     "execution_count": 51,
     "metadata": {
      "tags": []
     },
     "output_type": "execute_result"
    }
   ],
   "source": [
    "fp_folded.indices[:5]"
   ]
  },
  {
   "cell_type": "markdown",
   "metadata": {
    "id": "X7_zDDOtVCfW"
   },
   "source": [
    "RDKit Morgan fingerprints (analogous to ECFP) may easily be converted to a <code>Fingerprint</code>."
   ]
  },
  {
   "cell_type": "code",
   "execution_count": 52,
   "metadata": {
    "colab": {
     "base_uri": "https://localhost:8080/"
    },
    "id": "D-LDDRZEU7Mp",
    "outputId": "f798857d-fcbc-4de4-d0a6-7328cb28e31c"
   },
   "outputs": [
    {
     "data": {
      "text/plain": [
       "<rdkit.DataStructs.cDataStructs.ExplicitBitVect at 0x7f4cc27e7170>"
      ]
     },
     "execution_count": 52,
     "metadata": {
      "tags": []
     },
     "output_type": "execute_result"
    }
   ],
   "source": [
    "from rdkit import Chem\n",
    "from rdkit.Chem import AllChem\n",
    "\n",
    "mol = Chem.MolFromSmiles('Cc1ccccc1')\n",
    "mfp = AllChem.GetMorganFingerprintAsBitVect(mol, 2)\n",
    "mfp"
   ]
  },
  {
   "cell_type": "code",
   "execution_count": 53,
   "metadata": {
    "colab": {
     "base_uri": "https://localhost:8080/"
    },
    "id": "yHAN1J0UVNLz",
    "outputId": "18f5b622-fb94-4146-9644-6da855951185"
   },
   "outputs": [
    {
     "data": {
      "text/plain": [
       "Fingerprint(indices=array([389, 1055, 1057, 1088, 1199, 1380, 1722, 1750, 1823, 1873, 1920]), level=-1, bits=2048, name=None)"
      ]
     },
     "execution_count": 53,
     "metadata": {
      "tags": []
     },
     "output_type": "execute_result"
    }
   ],
   "source": [
    "Fingerprint.from_rdkit(mfp)"
   ]
  },
  {
   "cell_type": "markdown",
   "metadata": {
    "id": "QIf6UMosVTvr"
   },
   "source": [
    "Likewise, <code>Fingerprint</code> can be easily converted to a NumPy ndarray or SciPy sparse matrix."
   ]
  },
  {
   "cell_type": "code",
   "execution_count": 56,
   "metadata": {
    "colab": {
     "base_uri": "https://localhost:8080/"
    },
    "id": "0s4ydQxDVPsr",
    "outputId": "e88f85bd-344b-415a-9477-1130d5516cd6"
   },
   "outputs": [
    {
     "data": {
      "text/plain": [
       "<1x1024 sparse matrix of type '<class 'numpy.bool_'>'\n",
       "\twith 30 stored elements in Compressed Sparse Row format>"
      ]
     },
     "execution_count": 56,
     "metadata": {
      "tags": []
     },
     "output_type": "execute_result"
    }
   ],
   "source": [
    "fp_folded.to_vector()"
   ]
  },
  {
   "cell_type": "code",
   "execution_count": 57,
   "metadata": {
    "colab": {
     "base_uri": "https://localhost:8080/"
    },
    "id": "toEn5U_pVnvh",
    "outputId": "471a75ff-2df1-4b1b-d9ce-af5de08f2edd"
   },
   "outputs": [
    {
     "data": {
      "text/plain": [
       "array([False, False, False, ..., False, False, False])"
      ]
     },
     "execution_count": 57,
     "metadata": {
      "tags": []
     },
     "output_type": "execute_result"
    }
   ],
   "source": [
    "fp_folded.to_vector(sparse=False)"
   ]
  },
  {
   "cell_type": "code",
   "execution_count": 58,
   "metadata": {
    "colab": {
     "base_uri": "https://localhost:8080/"
    },
    "id": "gogKVhyYVmdi",
    "outputId": "5b9f89e1-7b1d-49b7-e367-d5b3f94d2be5"
   },
   "outputs": [
    {
     "data": {
      "text/plain": [
       "array([  46,   79,   83,   88,   89,  165,  175,  257,  261,  280,  296,\n",
       "        316,  373,  399,  415,  430,  479,  485,  495,  549,  554,  581,\n",
       "        642,  682,  693,  717,  784,  883,  928, 1004])"
      ]
     },
     "execution_count": 58,
     "metadata": {
      "tags": []
     },
     "output_type": "execute_result"
    }
   ],
   "source": [
    "np.where(fp_folded.to_vector(sparse=False))[0]"
   ]
  },
  {
   "cell_type": "code",
   "execution_count": 59,
   "metadata": {
    "colab": {
     "base_uri": "https://localhost:8080/"
    },
    "id": "XZh1ifcMViWU",
    "outputId": "32e103f1-3444-4c50-ef2d-3c85732c1172"
   },
   "outputs": [
    {
     "data": {
      "text/plain": [
       "array([0, 0, 0, ..., 0, 7, 0], dtype=uint16)"
      ]
     },
     "execution_count": 59,
     "metadata": {
      "tags": []
     },
     "output_type": "execute_result"
    }
   ],
   "source": [
    "cfp_folded.to_vector(sparse=False)"
   ]
  },
  {
   "cell_type": "code",
   "execution_count": 60,
   "metadata": {
    "colab": {
     "base_uri": "https://localhost:8080/"
    },
    "id": "UUi-vWeOVjfy",
    "outputId": "dc4b2dcd-52a1-47a9-f89e-5b712122c93e"
   },
   "outputs": [
    {
     "data": {
      "text/plain": [
       "295"
      ]
     },
     "execution_count": 60,
     "metadata": {
      "tags": []
     },
     "output_type": "execute_result"
    }
   ],
   "source": [
    "cfp_folded.to_vector(sparse=False).sum()"
   ]
  },
  {
   "cell_type": "markdown",
   "metadata": {
    "id": "nFmmNTyFV5Jq"
   },
   "source": [
    "#### Algebra\n",
    "\n",
    "Basic algebraic functions may be performed on fingerprints. If either fingerprint is a bit fingerprint, all algebraic functions are bit-wise. The following bit-wise operations are supported:\n",
    "\n",
    "```\n",
    "# Equality\n",
    ">>> fp1 = Fingerprint([0, 1, 6, 8, 12], bits=16)\n",
    ">>> fp2 = Fingerprint([1, 2, 4, 8, 11, 12], bits=16)\n",
    ">>> fp1 == fp2\n",
    "False\n",
    ">>> fp1_copy = Fingerprint.from_fingerprint(fp1)\n",
    ">>> fp1 == fp1_copy\n",
    "True\n",
    ">>> fp1_copy.level = 5\n",
    ">>> fp1 == fp1_copy\n",
    "False\n",
    "\n",
    "# Union/OR\n",
    ">>> fp1 + fp2\n",
    "Fingerprint(indices=array([0, 1, 2, 4, 6, 8, 11, 12]), level=-1, bits=16, name=None)\n",
    ">>> fp1 | fp2\n",
    "Fingerprint(indices=array([0, 1, 2, 4, 6, 8, 11, 12]), level=-1, bits=16, name=None)\n",
    "\n",
    "# Intersection/AND\n",
    ">>> fp1 & fp2\n",
    "Fingerprint(indices=array([1, 8, 12]), level=-1, bits=16, name=None)\n",
    "\n",
    "# Difference/AND NOT\n",
    ">>> fp1 - fp2\n",
    "Fingerprint(indices=array([0, 6]), level=-1, bits=16, name=None)\n",
    ">>> fp2 - fp1\n",
    "Fingerprint(indices=array([2, 4, 11]), level=-1, bits=16, name=None)\n",
    "\n",
    "# XOR\n",
    ">>> fp1 ^ fp2\n",
    "Fingerprint(indices=array([0, 2, 4, 6, 11]), level=-1, bits=16, name=None)\n",
    "```"
   ]
  },
  {
   "cell_type": "markdown",
   "metadata": {
    "id": "iV3eL3pMWSBR"
   },
   "source": [
    "With count or float fingerprints, bit-wise operations are still possible, but algebraic operations are applied to counts."
   ]
  },
  {
   "cell_type": "code",
   "execution_count": 71,
   "metadata": {
    "id": "8V3C_QLuVt-c"
   },
   "outputs": [],
   "source": [
    "fp1 = CountFingerprint(counts={0: 3, 1: 2, 5: 1, 9: 3}, bits=16)\n",
    "fp2 = CountFingerprint(counts={1: 2, 5: 2, 7: 3, 10: 7}, bits=16)"
   ]
  },
  {
   "cell_type": "code",
   "execution_count": 63,
   "metadata": {
    "colab": {
     "base_uri": "https://localhost:8080/"
    },
    "id": "1C9GWoorWVtQ",
    "outputId": "c919e887-e297-41b6-80c8-44ec0ec4dfbd"
   },
   "outputs": [
    {
     "data": {
      "text/plain": [
       "CountFingerprint(counts={0: 3, 1: 4, 5: 3, 9: 3, 7: 3, 10: 7}, level=-1, bits=16, name=None)"
      ]
     },
     "execution_count": 63,
     "metadata": {
      "tags": []
     },
     "output_type": "execute_result"
    }
   ],
   "source": [
    "fp1 + fp2"
   ]
  },
  {
   "cell_type": "code",
   "execution_count": 65,
   "metadata": {
    "colab": {
     "base_uri": "https://localhost:8080/"
    },
    "id": "QDTnF6knWYdS",
    "outputId": "bd1663e0-365f-4d6e-9bbf-a5c219278a37"
   },
   "outputs": [
    {
     "data": {
      "text/plain": [
       "CountFingerprint(counts={0: 9, 1: 6, 5: 3, 9: 9}, level=-1, bits=16, name=None)"
      ]
     },
     "execution_count": 65,
     "metadata": {
      "tags": []
     },
     "output_type": "execute_result"
    }
   ],
   "source": [
    "fp1 * 3"
   ]
  },
  {
   "cell_type": "code",
   "execution_count": 66,
   "metadata": {
    "colab": {
     "base_uri": "https://localhost:8080/"
    },
    "id": "K3MNT4WRWa7t",
    "outputId": "44c1e388-479e-4de6-a6a1-99e9db8162a3"
   },
   "outputs": [
    {
     "data": {
      "text/plain": [
       "FloatFingerprint(counts={0: 1.5, 1: 1.0, 5: 0.5, 9: 1.5}, level=-1, bits=16, name=None)"
      ]
     },
     "execution_count": 66,
     "metadata": {
      "tags": []
     },
     "output_type": "execute_result"
    }
   ],
   "source": [
    "fp1 / 2"
   ]
  },
  {
   "cell_type": "markdown",
   "metadata": {
    "id": "LRS2eSGpW1EQ"
   },
   "source": [
    "Finally, fingerprints may be batch added and averaged, producing either a count or float fingerprint when sensible."
   ]
  },
  {
   "cell_type": "code",
   "execution_count": 73,
   "metadata": {
    "id": "ZtYdIwE2Wp1a"
   },
   "outputs": [],
   "source": [
    "from e3fp.fingerprint.fprint import add, mean\n",
    "fps = [Fingerprint(np.random.randint(0, 32, 8), bits=32) for i in range(100)]"
   ]
  },
  {
   "cell_type": "code",
   "execution_count": 74,
   "metadata": {
    "colab": {
     "base_uri": "https://localhost:8080/"
    },
    "id": "Kwa_l85xW7rr",
    "outputId": "5336468f-a03b-4c8a-e823-80fe7fd2a8af"
   },
   "outputs": [
    {
     "data": {
      "text/plain": [
       "CountFingerprint(counts={4: 23, 5: 25, 8: 18, 9: 22, 11: 24, 12: 22, 20: 23, 10: 24, 14: 15, 15: 21, 18: 26, 19: 15, 28: 26, 17: 23, 22: 31, 26: 22, 30: 24, 7: 23, 27: 18, 29: 20, 6: 28, 13: 20, 23: 14, 25: 25, 3: 24, 24: 22, 16: 25, 1: 20, 0: 20, 21: 26, 31: 22, 2: 21}, level=-1, bits=32, name=None)"
      ]
     },
     "execution_count": 74,
     "metadata": {
      "tags": []
     },
     "output_type": "execute_result"
    }
   ],
   "source": [
    "add(fps)"
   ]
  },
  {
   "cell_type": "code",
   "execution_count": 75,
   "metadata": {
    "colab": {
     "base_uri": "https://localhost:8080/"
    },
    "id": "_q7NF7NgW9Ci",
    "outputId": "61deb498-557c-4e3c-a8e7-599a86d100d0"
   },
   "outputs": [
    {
     "data": {
      "text/plain": [
       "FloatFingerprint(counts={4: 0.23, 5: 0.25, 8: 0.18, 9: 0.22, 11: 0.24, 12: 0.22, 20: 0.23, 10: 0.24, 14: 0.15, 15: 0.21, 18: 0.26, 19: 0.15, 28: 0.26, 17: 0.23, 22: 0.31, 26: 0.22, 30: 0.24, 7: 0.23, 27: 0.18, 29: 0.2, 6: 0.28, 13: 0.2, 23: 0.14, 25: 0.25, 3: 0.24, 24: 0.22, 16: 0.25, 1: 0.2, 0: 0.2, 21: 0.26, 31: 0.22, 2: 0.21}, level=-1, bits=32, name=None)"
      ]
     },
     "execution_count": 75,
     "metadata": {
      "tags": []
     },
     "output_type": "execute_result"
    }
   ],
   "source": [
    "mean(fps)"
   ]
  },
  {
   "cell_type": "markdown",
   "metadata": {
    "id": "tV4ucLQmXGil"
   },
   "source": [
    "### Fingerprint Storage\n",
    "\n",
    "The most efficient way to store and interact with fingerprints is through the <code>e3fp.fingerprint.db.FingerprintDatabase</code> class. This class wraps a matrix with sparse rows (<code>scipy.sparse.csr_matrix</code>), where each row is a fingerprint. This enables rapid I/O of the database while also minimizing the memory footprint. Accessing the underlying sparse representation with the <code>.FingerprintDatabase.array</code> attribute is convenient for machine learning purposes, while the database class itself provides several useful functions."
   ]
  },
  {
   "cell_type": "markdown",
   "metadata": {
    "id": "nIU98lVxXgiT"
   },
   "source": [
    "#### Database I/O and Indexing\n",
    "\n",
    "See the full <code>e3fp.fingerprint.db.FingerprintDatabase</code> documentation for a description of basic database usage, attributes, and methods. Below, several additional use cases are documented."
   ]
  },
  {
   "cell_type": "markdown",
   "metadata": {
    "id": "UE668i5VXlaZ"
   },
   "source": [
    "#### Batch Database Operations\n",
    "\n",
    "Due to the sparse representation of the underlying data structure, an un- folded database, a database with unfolded fingerprints does not use significantly more disk space than a database with folded fingerprints. However, it is usually necessary to fold fingerprints for machine learning tasks. The <code>FingerprintDatabase</code> does this very quickly."
   ]
  },
  {
   "cell_type": "code",
   "execution_count": 76,
   "metadata": {
    "colab": {
     "base_uri": "https://localhost:8080/"
    },
    "id": "ZSMFD8SaW9k1",
    "outputId": "89037af4-7c78-4330-c455-bffe9f4dc39e"
   },
   "outputs": [
    {
     "name": "stdout",
     "output_type": "stream",
     "text": [
      "FingerprintDatabase[name: TestDB, fp_type: Fingerprint, level: -1, bits: None, fp_num: 0]\n",
      "FingerprintDatabase[name: TestDB, fp_type: Fingerprint, level: -1, bits: 4294967296, fp_num: 5]\n",
      "FingerprintDatabase[name: TestDB, fp_type: Fingerprint, level: -1, bits: 1024, fp_num: 5]\n"
     ]
    },
    {
     "data": {
      "text/plain": [
       "0.02890625"
      ]
     },
     "execution_count": 76,
     "metadata": {
      "tags": []
     },
     "output_type": "execute_result"
    }
   ],
   "source": [
    "from e3fp.fingerprint.db import FingerprintDatabase\n",
    "from e3fp.fingerprint.fprint import Fingerprint\n",
    "import numpy as np\n",
    "\n",
    "db = FingerprintDatabase(fp_type=Fingerprint, name=\"TestDB\")\n",
    "print(db)\n",
    "\n",
    "on_inds = [np.random.uniform(0, 2**32, size=30) for i in range(5)]\n",
    "fps = [Fingerprint(x, bits=2**32) for x in on_inds]\n",
    "db.add_fingerprints(fps)\n",
    "print(db)\n",
    "\n",
    "db.get_density()\n",
    "fold_db = db.fold(1024)\n",
    "print(fold_db)\n",
    "\n",
    "fold_db.get_density()"
   ]
  },
  {
   "cell_type": "markdown",
   "metadata": {
    "id": "Wbcgt8nAX3a8"
   },
   "source": [
    "A database can be converted to a different fingerprint type:"
   ]
  },
  {
   "cell_type": "code",
   "execution_count": 81,
   "metadata": {
    "colab": {
     "base_uri": "https://localhost:8080/"
    },
    "id": "zuYVcadkXzcY",
    "outputId": "165e244c-c45c-4bbc-bdc7-c86681b00d3e"
   },
   "outputs": [
    {
     "name": "stdout",
     "output_type": "stream",
     "text": [
      "FingerprintDatabase[name: TestDB, fp_type: CountFingerprint, level: -1, bits: 4294967296, fp_num: 5]\n"
     ]
    },
    {
     "data": {
      "text/plain": [
       "CountFingerprint(counts={123986223: 1, 158766443: 1, 465433325: 1, 1103063938: 1, 1201250858: 1, 1388689522: 1, 1409650355: 1, 1513706760: 1, 1595443582: 1, 1693459041: 1, 1708602164: 1, 1949081280: 1, 2012177532: 1, 2182518865: 1, 2558015753: 1, 3057133818: 1, 3091072108: 1, 3290286599: 1, 3336355751: 1, 3379900038: 1, 3400704889: 1, 3496320452: 1, 3649582695: 1, 3711919254: 1, 3761203964: 1, 3933163368: 1, 3936615875: 1, 4106818534: 1, 4159628717: 1, 4164728539: 1}, level=-1, bits=4294967296, name=None)"
      ]
     },
     "execution_count": 81,
     "metadata": {
      "tags": []
     },
     "output_type": "execute_result"
    }
   ],
   "source": [
    "from e3fp.fingerprint.fprint import CountFingerprint\n",
    "\n",
    "count_db = db.as_type(CountFingerprint)\n",
    "print(count_db)\n",
    "count_db[0]"
   ]
  },
  {
   "cell_type": "markdown",
   "metadata": {
    "id": "INBpKErLYETW"
   },
   "source": [
    "The <code>e3fp.fingerprint.db.concat</code> method allows efficient joining of multiple databases."
   ]
  },
  {
   "cell_type": "code",
   "execution_count": 83,
   "metadata": {
    "colab": {
     "base_uri": "https://localhost:8080/"
    },
    "id": "4eQBQVWFX-fG",
    "outputId": "8b07a136-0baa-43d9-eddd-05a31eecd1a6"
   },
   "outputs": [
    {
     "data": {
      "text/plain": [
       "Fingerprint(indices=array([47, 69, 94, 178, 215, 249, 289, 294, 329, 347, 389, 473, 476, 557, 629, 631, 642, 647, 685, 739, 741, 852, 854, 871, 931, 938, 950, 959, 987, 1006]), level=-1, bits=4294967296, name=Mol0)"
      ]
     },
     "execution_count": 83,
     "metadata": {
      "tags": []
     },
     "output_type": "execute_result"
    }
   ],
   "source": [
    "from e3fp.fingerprint.db import concat\n",
    "\n",
    "dbs = []\n",
    "for i in range(10):\n",
    "    db = FingerprintDatabase(fp_type=Fingerprint)\n",
    "    on_inds = [np.random.uniform(0, 1024, size=30) for j in range(5)]\n",
    "    fps = [Fingerprint(x, bits=2**32, name=\"Mol{}\".format(i)) for x in on_inds]\n",
    "    db.add_fingerprints(fps)\n",
    "    dbs.append(db)\n",
    "\n",
    "dbs[0][0]"
   ]
  },
  {
   "cell_type": "code",
   "execution_count": 84,
   "metadata": {
    "colab": {
     "base_uri": "https://localhost:8080/"
    },
    "id": "I2kJSB3kYVMA",
    "outputId": "84e3fe37-4612-4b65-f637-7c5d635f1559"
   },
   "outputs": [
    {
     "name": "stdout",
     "output_type": "stream",
     "text": [
      "FingerprintDatabase[name: None, fp_type: Fingerprint, level: -1, bits: 4294967296, fp_num: 5]\n",
      "FingerprintDatabase[name: None, fp_type: Fingerprint, level: -1, bits: 4294967296, fp_num: 50]\n"
     ]
    }
   ],
   "source": [
    "print(dbs[0])\n",
    "\n",
    "merge_db = concat(dbs)\n",
    "print(merge_db)"
   ]
  },
  {
   "cell_type": "markdown",
   "metadata": {
    "id": "hBh15zM2YgIG"
   },
   "source": [
    "#### Database Comparison\n",
    "\n",
    "Two databases may be compared using various metrics in <code>e3fp.fingerprint.metrics</code>. Additionally, all fingerprints in a database may be compared to each other simply by only providing a single database."
   ]
  },
  {
   "cell_type": "markdown",
   "metadata": {
    "id": "YEeTX_i-Ymr0"
   },
   "source": [
    "#### Performing Machine Learning on the Database\n",
    "\n",
    "The underlying sparse matrix may be passed directly to machine learning tools in any package that is compatible with SciPy sparse matrices, such as scikit-learn.\n",
    "\n",
    "```\n",
    ">>> from sklearn.naive_bayes import BernoulliNB\n",
    ">>> clf = BernoulliNB()\n",
    ">>> clf.fit(db.array, ypred)  \n",
    "BernoulliNB(alpha=1.0, binarize=0.0, class_prior=None, fit_prior=True)\n",
    ">>> clf.predict(db2.array)   \n",
    "...\n",
    "```"
   ]
  },
  {
   "cell_type": "markdown",
   "metadata": {
    "id": "VKa9dqZeY6J_"
   },
   "source": [
    "### Fingerprint Comparison\n",
    "\n",
    "The <code>e3fp.fingerprint.metrics</code> sub-package provides several useful methods for batch comparison of fingerprints in various representations."
   ]
  },
  {
   "cell_type": "markdown",
   "metadata": {
    "id": "ANGbv2ZcZArV"
   },
   "source": [
    "#### Fingerprint Metrics\n",
    "\n",
    "These metrics operate directly on pairs of <code>Fingerprint</code> and <code>FingerprintDatabase</code> objects or on a combination of each. If only a single variable is specified, self-comparison is performed. The implemented methods are common functions for fingerprint similarity in the literature."
   ]
  },
  {
   "cell_type": "markdown",
   "metadata": {
    "id": "yMYVwt5jZHAm"
   },
   "source": [
    "### Array Metrics\n",
    "\n",
    "To efficiently compare fingerprint databases above, we provide comparison metrics that can operate directly on the internal sparse matrix representation without the need to \"densify it\". We describe these here, as they have several additional features.\n",
    "\n",
    "The array metrics implemented in <code>e3fp.fingerprint.metrics.array_metrics</code> are implemented such that they may take any combination of dense and sparse inputs. Additionally, they are designed to function as scikit-learn-compatible kernels for machine learning tasks. For example, one might perform an analysis using a support vector machine (SVM) and Tanimoto kernel.\n",
    "\n",
    "```\n",
    ">>> from sklearn.svm import SVC\n",
    ">>> from e3fp.fingerprint.metrics.array_metrics import tanimoto\n",
    ">>> clf = SVC(kernel=tanimoto)\n",
    ">>> clf.fit(X, y)\n",
    "...\n",
    ">>> clf.predict(test)\n",
    "...\n",
    "```"
   ]
  },
  {
   "cell_type": "markdown",
   "metadata": {
    "id": "Ta0O8iv3ZYDA"
   },
   "source": [
    "Most common fingerprint comparison metrics only apply to binary fingerprints. We include several that operate equally well on count- and float-based fingerprints. For example, to our knowledge, we provide the only open source implementation of Soergel similarity, the analog to the Tanimoto coefficient for non-binary fingerprints that can efficiently operate on sparse inputs.\n",
    "\n",
    "```\n",
    ">>> from e3fp.fingerprint.metrics.array_metrics import soergel\n",
    ">>> clf = SVC(kernel=soergel)\n",
    ">>> clf.fit(X, y)\n",
    "...\n",
    ">>> clf.predict(test)\n",
    "...\n",
    "```"
   ]
  }
 ],
 "metadata": {
  "accelerator": "GPU",
  "colab": {
   "collapsed_sections": [],
   "machine_shape": "hm",
   "name": "E3FP.ipynb",
   "provenance": []
  },
  "kernelspec": {
   "display_name": "Python 3",
   "language": "python",
   "name": "python3"
  },
  "language_info": {
   "codemirror_mode": {
    "name": "ipython",
    "version": 3
   },
   "file_extension": ".py",
   "mimetype": "text/x-python",
   "name": "python",
   "nbconvert_exporter": "python",
   "pygments_lexer": "ipython3",
   "version": "3.8.10"
  }
 },
 "nbformat": 4,
 "nbformat_minor": 1
}
