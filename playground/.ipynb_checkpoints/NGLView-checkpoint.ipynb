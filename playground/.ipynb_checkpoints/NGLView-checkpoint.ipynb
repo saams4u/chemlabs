{
 "cells": [
  {
   "cell_type": "markdown",
   "id": "0c1a0a91",
   "metadata": {},
   "source": [
    "# NGLView\n",
    "\n",
    "An IPython/Jupyter widget to interactively view molecular structures and trajectories. Utilizes the embeddable NGL Viewer for rendering. Support for showing data from the file-system, RCSB PDB, simpletraj and from objects of analysis libraries mdtraj, pytraj, mdanalysis, ParmEd, rdkit, ase, HTMD, biopython, cctbx, pyrosetta, schrodinger's Structure.\n",
    "\n",
    "Credit: https://github.com/nglviewer/nglview and Thorsten Gressling's <u>Data Science In Chemistry: Artifical Intelligence, Big Data, Chemometrics and Quantum Computing with Jupyter</u>"
   ]
  },
  {
   "cell_type": "code",
   "execution_count": null,
   "id": "321c35f7",
   "metadata": {},
   "outputs": [],
   "source": [
    "# Install nglview and enable it on Jupyter Notebook\n",
    "!pip install nglview\n",
    "!jupyter-nbextension enable nglview --py --sys-prefix"
   ]
  },
  {
   "cell_type": "code",
   "execution_count": 2,
   "id": "c7c4d42d",
   "metadata": {},
   "outputs": [
    {
     "data": {
      "application/vnd.jupyter.widget-view+json": {
       "model_id": "eb146bdbf524459bb623adfb5f61e034",
       "version_major": 2,
       "version_minor": 0
      },
      "text/plain": []
     },
     "metadata": {},
     "output_type": "display_data"
    },
    {
     "data": {
      "text/plain": [
       "<nglview.component.ComponentViewer at 0x7f957b6a9f70>"
      ]
     },
     "execution_count": 2,
     "metadata": {},
     "output_type": "execute_result"
    }
   ],
   "source": [
    "import nglview\n",
    "view = nglview.show_pdbid(\"3pqr\") # from RCSB PDB\n",
    "\n",
    "# add component from url\n",
    "view.add_component('rcsb://1tsu.pdb')"
   ]
  },
  {
   "cell_type": "code",
   "execution_count": 3,
   "id": "3ec85022",
   "metadata": {},
   "outputs": [
    {
     "name": "stdout",
     "output_type": "stream",
     "text": [
      "--2021-05-29 10:19:42--  https://files.rcsb.org/download/4hhb.pdb\n",
      "Resolving files.rcsb.org (files.rcsb.org)... 132.249.210.234\n",
      "Connecting to files.rcsb.org (files.rcsb.org)|132.249.210.234|:443... connected.\n",
      "HTTP request sent, awaiting response... 200 OK\n",
      "Length: unspecified [application/octet-stream]\n",
      "Saving to: ‘4hhb.pdb’\n",
      "\n",
      "4hhb.pdb                [  <=>               ] 462.67K  1.35MB/s    in 0.3s    \n",
      "\n",
      "2021-05-29 10:19:43 (1.35 MB/s) - ‘4hhb.pdb’ saved [473769]\n",
      "\n"
     ]
    }
   ],
   "source": [
    "# get sample pdb file\n",
    "!wget https://files.rcsb.org/download/4hhb.pdb"
   ]
  },
  {
   "cell_type": "code",
   "execution_count": 4,
   "id": "e7f035d2",
   "metadata": {},
   "outputs": [
    {
     "data": {
      "application/vnd.jupyter.widget-view+json": {
       "model_id": "4e2422e27c524d0485d2e5e123c50de0",
       "version_major": 2,
       "version_minor": 0
      },
      "text/plain": [
       "NGLWidget()"
      ]
     },
     "metadata": {},
     "output_type": "display_data"
    }
   ],
   "source": [
    "# not using default representation\n",
    "view = nglview.show_file('4hhb.pdb', default=False)\n",
    "view.center()\n",
    "view.add_rope()\n",
    "view"
   ]
  },
  {
   "cell_type": "code",
   "execution_count": 5,
   "id": "393a7d39",
   "metadata": {},
   "outputs": [
    {
     "data": {
      "application/vnd.jupyter.widget-view+json": {
       "model_id": "9b90afaa1be04e119997d22cda8711e9",
       "version_major": 2,
       "version_minor": 0
      },
      "text/plain": [
       "NGLWidget()"
      ]
     },
     "metadata": {},
     "output_type": "display_data"
    }
   ],
   "source": [
    "# show another (default) example\n",
    "view = nglview.show_pdbid(\"3pqr\")  # load \"3pqr\" from RCSB PDB and display viewer widget\n",
    "view"
   ]
  },
  {
   "cell_type": "code",
   "execution_count": 6,
   "id": "c1c431af",
   "metadata": {},
   "outputs": [
    {
     "data": {
      "application/vnd.jupyter.widget-view+json": {
       "model_id": "9b90afaa1be04e119997d22cda8711e9",
       "version_major": 2,
       "version_minor": 0
      },
      "text/plain": [
       "NGLWidget(n_components=1)"
      ]
     },
     "metadata": {},
     "output_type": "display_data"
    }
   ],
   "source": [
    "# Representations\n",
    "view.add_representation('cartoon', selection='protein')\n",
    "view.add_surface(selection=\"protein\", opacity=0.3)\n",
    "view.add_cartoon(selection=\"protein\", color=\"blue\")\n",
    "view.add_licorice('ALA, GLU')\n",
    "\n",
    "# update parameters for ALL cartoons of component 0 (default)\n",
    "view.update_cartoon(opacity=0.4, component=0)\n",
    "\n",
    "# Add special components\n",
    "# Density volumes (MRC/MAP/CCP4, DX/DXBIN, CUBE)\n",
    "# Or adding derived class of 'nglview.Structure'\n",
    "view.add_component('rcsb://1tsu.pdb')\n",
    "\n",
    "# adding new trajectory, Trajectory is a special case of component\n",
    "# traj could be a 'pytraj.Trajectory', 'mdtraj.Trajectory', 'MDAnalysis.Universe'\n",
    "# 'paramed.Structure', 'htmd.Molecule' or derived class of 'nglview.Trajectory'\n",
    "# view.add_trajectory(traj)\n",
    "\n",
    "view.clear_representations()\n",
    "view"
   ]
  }
 ],
 "metadata": {
  "kernelspec": {
   "display_name": "Python 3",
   "language": "python",
   "name": "python3"
  },
  "language_info": {
   "codemirror_mode": {
    "name": "ipython",
    "version": 3
   },
   "file_extension": ".py",
   "mimetype": "text/x-python",
   "name": "python",
   "nbconvert_exporter": "python",
   "pygments_lexer": "ipython3",
   "version": "3.8.10"
  }
 },
 "nbformat": 4,
 "nbformat_minor": 5
}
