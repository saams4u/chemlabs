{
 "cells": [
  {
   "cell_type": "markdown",
   "metadata": {
    "id": "FeKvf9ugQCBv"
   },
   "source": [
    "# SumGNN: Multi-typed Drug Interaction Prediction via Efficient Knowledge Graph Summarization\n",
    "\n",
    "<b>Motivation:</b> Thanks to the increasing availability of drug–drug interactions (DDI) datasets and large biomedical\n",
    "knowledge graphs (KGs), accurate detection of adverse DDI using machine learning models becomes possible.\n",
    "However, it remains largely an open problem how to effectively utilize large and noisy biomedical KG for DDI detection. Due to its sheer size and amount of noise in KGs, it is often less beneficial to directly integrate KGs with other\n",
    "smaller but higher quality data (e.g. experimental data). Most of existing approaches ignore KGs altogether. Some\n",
    "tries to directly integrate KGs with other data via graph neural networks with limited success. Furthermore most previous works focus on binary DDI prediction whereas the multi-typed DDI pharmacological effect prediction is more\n",
    "meaningful but harder task.\n",
    "\n",
    "<b>Results:</b> To fill the gaps, we propose a new method SumGNN: knowledge summarization graph neural network,\n",
    "which is enabled by a subgraph extraction module that can efficiently anchor on relevant subgraphs from a KG, a\n",
    "self-attention based subgraph summarization scheme to generate reasoning path within the subgraph, and a multichannel knowledge and data integration module that utilizes massive external biomedical knowledge for significantly improved multi-typed DDI predictions. SumGNN outperforms the best baseline by up to 5.54%, and performance\n",
    "gain is particularly significant in low data relation types. In addition, SumGNN provides interpretable prediction via\n",
    "the generated reasoning paths for each prediction.\n",
    "\n",
    "Link to paper: https://bit.ly/3vAp4Bp\n",
    "\n",
    "Credit: https://github.com/yueyu1030/SumGNN"
   ]
  },
  {
   "cell_type": "code",
   "execution_count": null,
   "metadata": {
    "id": "EU6FhN-6P8sv"
   },
   "outputs": [],
   "source": [
    "# Install the library / explore the repo\n",
    "!git clone https://github.com/yueyu1030/SumGNN\n",
    "%cd SumGNN"
   ]
  },
  {
   "cell_type": "code",
   "execution_count": null,
   "metadata": {
    "id": "mm7RzLapRuFr"
   },
   "outputs": [],
   "source": [
    "# Install requirements / dependencies\n",
    "!pip install -r requirements.txt\n",
    "\n",
    "# Install PyTorch 1.6\n",
    "!pip install torch==1.6"
   ]
  },
  {
   "cell_type": "code",
   "execution_count": null,
   "metadata": {
    "id": "YgsBAWBsQdwp"
   },
   "outputs": [],
   "source": [
    "# Run an example using the 'drugbank' dataset\n",
    "!python train.py -d drugbank -e ddi_hop3 --gpu=0 --hop=3 --batch=256 --emb_dim=32 -b=10"
   ]
  },
  {
   "cell_type": "markdown",
   "metadata": {
    "id": "td5hm1PPSYg0"
   },
   "source": [
    "We can also change the <code>d</code> to <code>BioSNAP</code>. So let us change the <code>e</code> accordingly. The trained model and the logs are stored in <code>experiments</code> folder. Let us note that to ensure a fair comparison, we test all models on the same negative triplets."
   ]
  },
  {
   "cell_type": "code",
   "execution_count": null,
   "metadata": {
    "id": "EHLwo23wREyV"
   },
   "outputs": [],
   "source": [
    "# Run an example using the 'BioSNAP' dataset\n",
    "!python train.py -d BioSNAP -e ddi_hop3 --gpu=0 --hop=3 --batch=256 --emb_dim=32 -b=10"
   ]
  }
 ],
 "metadata": {
  "accelerator": "GPU",
  "colab": {
   "collapsed_sections": [],
   "machine_shape": "hm",
   "name": "SumGNN.ipynb",
   "provenance": []
  },
  "kernelspec": {
   "display_name": "Python 3",
   "language": "python",
   "name": "python3"
  },
  "language_info": {
   "codemirror_mode": {
    "name": "ipython",
    "version": 3
   },
   "file_extension": ".py",
   "mimetype": "text/x-python",
   "name": "python",
   "nbconvert_exporter": "python",
   "pygments_lexer": "ipython3",
   "version": "3.8.10"
  }
 },
 "nbformat": 4,
 "nbformat_minor": 1
}
