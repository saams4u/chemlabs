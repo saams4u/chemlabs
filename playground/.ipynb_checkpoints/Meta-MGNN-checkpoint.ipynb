{
 "cells": [
  {
   "cell_type": "markdown",
   "metadata": {
    "id": "d9Lb-n3HJyMo"
   },
   "source": [
    "## Meta-MGNN: Few-Shot Graph Learning for Molecular Property Prediction\n",
    "\n",
    "ABSTRACT: The recent success of graph neural networks has significantly\n",
    "boosted molecular property prediction, advancing activities such as\n",
    "drug discovery. The existing deep neural network methods usually\n",
    "require large training dataset for each property, impairing their\n",
    "performance in cases (especially for new molecular properties) with\n",
    "a limited amount of experimental data, which are common in real\n",
    "situations. To this end, we propose Meta-MGNN, a novel model\n",
    "for few-shot molecular property prediction. Meta-MGNN applies\n",
    "molecular graph neural network to learn molecular representations and builds a meta-learning framework for model optimization.\n",
    "To exploit unlabeled molecular information and address task heterogeneity of different molecular properties, Meta-MGNN further\n",
    "incorporates molecular structures, attribute based self-supervised\n",
    "modules and self-attentive task weights into the former framework,\n",
    "strengthening the whole learning model. Extensive experiments on\n",
    "two public multi-property datasets demonstrate that Meta-MGNN\n",
    "outperforms a variety of state-of-the-art methods.\n",
    "\n",
    "Link to paper: https://arxiv.org/pdf/2102.07916v1.pdf\n",
    "\n",
    "Credit: https://github.com/zhichunguo/Meta-MGNN\n",
    "\n",
    "Google Colab: https://colab.research.google.com/drive/1sV3gdPlRjSY0FDZ25z7cXFxAAls3bFae?usp=sharing"
   ]
  },
  {
   "cell_type": "code",
   "execution_count": null,
   "metadata": {
    "colab": {
     "base_uri": "https://localhost:8080/"
    },
    "id": "GorYa0TyKbNL",
    "outputId": "6026d197-255c-4aee-ce27-d103bee6cb4b"
   },
   "outputs": [
    {
     "name": "stdout",
     "output_type": "stream",
     "text": [
      "/content/Meta-MGNN\n"
     ]
    }
   ],
   "source": [
    "# Clone the  repository and cd into directory\n",
    "!git clone https://github.com/zhichunguo/Meta-MGNN.git\n",
    "%cd Meta-MGNN"
   ]
  },
  {
   "cell_type": "code",
   "execution_count": null,
   "metadata": {
    "id": "0un3eBcVK-v2"
   },
   "outputs": [],
   "source": [
    "# Install requirements / dependencies\n",
    "!pip install torch==1.8.0 torchvision==0.9.0\n",
    "!pip install torch-scatter==2.0.6 torch-sparse==0.6.9 -f https://pytorch-geometric.com/whl/torch-1.8.0+cu102.html\n",
    "!pip install scikit-learn==0.23.2 tqdm==4.50.0\n",
    "\n",
    "# Install RDKit\n",
    "!pip install rdkit-pypi==2021.3.1.5"
   ]
  },
  {
   "cell_type": "markdown",
   "metadata": {
    "id": "aVwrSGZ2KK75"
   },
   "source": [
    "### Datasets\n",
    "\n",
    "The datasets uploaded can be downloaded to train our model directly.\n",
    "\n",
    "The original datasets are downloaded from Data. We utilize `Original_datasets/splitdata.py` to split the datasets according to the molecular properties and save them in different files in the `Original_datasets/[DatasetName]/new`. Then run `main.py`, the datasets will be automatically preprocessed by loader.py and the preprocessed results will be saved in the `Original_datasets/[DatasetName]/new/[PropertyNumber]/propcessed`."
   ]
  },
  {
   "cell_type": "markdown",
   "metadata": {
    "id": "X3hNa3v-Lxwi"
   },
   "source": [
    "### Run code\n",
    "\n",
    "Datasets and k (for k-shot) can be changed in the last line of `main.py`."
   ]
  },
  {
   "cell_type": "code",
   "execution_count": null,
   "metadata": {
    "id": "-FbmebAym5an"
   },
   "outputs": [],
   "source": [
    "# create the result folder\n",
    "!mkdir result"
   ]
  },
  {
   "cell_type": "code",
   "execution_count": null,
   "metadata": {
    "id": "i7nQR3dUJeAH"
   },
   "outputs": [],
   "source": [
    "!python main.py"
   ]
  },
  {
   "cell_type": "markdown",
   "metadata": {
    "id": "znyNTIMUMORD"
   },
   "source": [
    "### Performance\n",
    "The performance of meta-learning is not stable for some properties. We report two times results and the number of the iteration where we obtain the best results here for your reference.\n",
    "\n",
    "| Dataset    | k    | Iteration | Property   | Results   || k    | Iteration | Property  | Results   |\n",
    "| ---------- | :-----------:  | :-----------: | :-----------: | :-----------:  | ---------- | :-----------:  | :-----------: | :-----------: | :-----------:  |\n",
    "| Sider | 1 | 307/599 | Si-T1| 75.08/75.74 | | 5 | 561/585 | Si-T1 | 76.16/76.47 | \n",
    "|  |  | | Si-T2| 69.44/69.34 | |  | | Si-T2 | 68.90/69.77 | \n",
    "|  |  | | Si-T3| 69.90/71.39 | |  | | Si-T3 | 72.23/72.35 | \n",
    "|  |  | | Si-T4| 71.78/73.60 | |  | | Si-T4 | 74.40/74.51 | \n",
    "|  |  | | Si-T5| 79.40/80.50 | |  | | Si-T5 | 81.71/81.87 | \n",
    "|  |  | | Si-T6| 71.59/72.35 | |  | | Si-T6 | 74.90/73.34 | \n",
    "|  |  | | Ave.| 72.87/73.82 | |  | | Ave. | 74.74/74.70 | \n",
    "| Tox21 | 1 | 1271/1415 | SR-HS | 73.72/73.90 | | 5 | 1061/882 | SR-HS | 74.85/74.74 | \n",
    "|  |  | | SR-MMP | 78.56/79.62 | |  | | SR-MMP | 80.25/80.27 | \n",
    "|  |  | | SR-p53| 77.50/77.91 | |  | | SR-p53 | 78.86/79.14 | \n",
    "|  |  | | Ave.| 76.59/77.14 | |  | | Ave. | 77.99/78.05 | "
   ]
  },
  {
   "cell_type": "markdown",
   "metadata": {
    "id": "DW-X4RB9NiT0"
   },
   "source": [
    "### Acknowledgements\n",
    "\n",
    "The code is implemented based on <a href=\"https://github.com/snap-stanford/pretrain-gnns\"> Strategies for Pre-training Graph Neural Networks</a>."
   ]
  }
 ],
 "metadata": {
  "accelerator": "GPU",
  "colab": {
   "collapsed_sections": [],
   "machine_shape": "hm",
   "name": "Meta-MGNN.ipynb",
   "provenance": []
  },
  "kernelspec": {
   "display_name": "Python 3",
   "language": "python",
   "name": "python3"
  },
  "language_info": {
   "codemirror_mode": {
    "name": "ipython",
    "version": 3
   },
   "file_extension": ".py",
   "mimetype": "text/x-python",
   "name": "python",
   "nbconvert_exporter": "python",
   "pygments_lexer": "ipython3",
   "version": "3.8.10"
  }
 },
 "nbformat": 4,
 "nbformat_minor": 1
}
