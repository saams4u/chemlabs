{
 "cells": [
  {
   "cell_type": "markdown",
   "metadata": {
    "id": "8coCumu3onUc"
   },
   "source": [
    "# MolGAN: An implicit generative model for small molecular graphs\n",
    "\n",
    "ABSTRACT: Deep generative models for graph-structured data\n",
    "offer a new angle on the problem of chemical\n",
    "synthesis: by optimizing differentiable models\n",
    "that directly generate molecular graphs, it is possible to side-step expensive search procedures in\n",
    "the discrete and vast space of chemical structures.\n",
    "We introduce MolGAN, an implicit, likelihoodfree generative model for small molecular graphs\n",
    "that circumvents the need for expensive graph\n",
    "matching procedures or node ordering heuristics of previous likelihood-based methods. Our\n",
    "method adapts generative adversarial networks\n",
    "(GANs) to operate directly on graph-structured\n",
    "data. We combine our approach with a reinforcement learning objective to encourage the generation of molecules with specific desired chemical\n",
    "properties. In experiments on the QM9 chemical database, we demonstrate that our model is\n",
    "capable of generating close to 100% valid compounds. MolGAN compares favorably both to\n",
    "recent proposals that use string-based (SMILES)\n",
    "representations of molecules and to a likelihood-based method that directly generates graphs, albeit being susceptible to mode collapse.\n",
    "\n",
    "Link to paper: https://arxiv.org/pdf/1805.11973.pdf\n",
    "\n",
    "Credit: https://github.com/nicola-decao/MolGAN\n",
    "\n",
    "Google Colab: https://colab.research.google.com/drive/1ERjtWDQa5lEF8a_JY-gvXAvCn7h09lat?usp=sharing"
   ]
  },
  {
   "cell_type": "code",
   "execution_count": 1,
   "metadata": {
    "colab": {
     "base_uri": "https://localhost:8080/"
    },
    "id": "dvi7zEPipT7J",
    "outputId": "4eb8de77-6817-4d98-8a5b-cb0bd4711356"
   },
   "outputs": [
    {
     "name": "stdout",
     "output_type": "stream",
     "text": [
      "/content/MolGAN\n"
     ]
    }
   ],
   "source": [
    "# Clone the repository and cd into directory \n",
    "!git clone https://github.com/nicola-decao/MolGAN.git\n",
    "%cd MolGAN"
   ]
  },
  {
   "cell_type": "code",
   "execution_count": null,
   "metadata": {
    "id": "9jdj_Sgdpqvm"
   },
   "outputs": [],
   "source": [
    "# Download the dataset used for paper\n",
    "!./data/download_dataset.sh"
   ]
  },
  {
   "cell_type": "code",
   "execution_count": 7,
   "metadata": {
    "id": "fBUMzEVGqNE8"
   },
   "outputs": [],
   "source": [
    "# Move files into the data folder\n",
    "!mv NP_score.pkl.gz data/\n",
    "!mv SA_score.pkl.gz data/\n",
    "\n",
    "!mv gdb9.sdf data/\n",
    "!mv gdb9.sdf.csv data/ "
   ]
  },
  {
   "cell_type": "code",
   "execution_count": null,
   "metadata": {
    "id": "qw2OaIB8p0zx"
   },
   "outputs": [],
   "source": [
    "# Convert dataset in a graph format used by MolGAN models\n",
    "!python ./utils/sparse_molecular_dataset.py"
   ]
  },
  {
   "cell_type": "code",
   "execution_count": null,
   "metadata": {
    "colab": {
     "base_uri": "https://localhost:8080/"
    },
    "id": "ETSEiMeUll-m",
    "outputId": "ccbcb77b-a924-4bbd-b01a-fc5f62947c48"
   },
   "outputs": [],
   "source": [
    "# Install RDKit\n",
    "!pip install rdkit-pypi==2021.3.1.5"
   ]
  },
  {
   "cell_type": "code",
   "execution_count": 2,
   "metadata": {
    "id": "N0ji0EIDpeuA"
   },
   "outputs": [],
   "source": [
    "import tensorflow as tf\n",
    "\n",
    "from utils.sparse_molecular_dataset import SparseMolecularDataset\n",
    "from utils.trainer import Trainer\n",
    "from utils.utils import *\n",
    "\n",
    "from models.gan import GraphGANModel\n",
    "from models import encoder_rgcn, decoder_adj, decoder_dot, decoder_rnn\n",
    "\n",
    "from optimizers.gan import GraphGANOptimizer"
   ]
  },
  {
   "cell_type": "code",
   "execution_count": 3,
   "metadata": {
    "id": "SN1lb_xWph4x"
   },
   "outputs": [],
   "source": [
    "batch_dim = 128\n",
    "la = 1\n",
    "dropout = 0\n",
    "n_critic = 5\n",
    "metric = 'validity,sas'\n",
    "n_samples = 5000\n",
    "z_dim = 8\n",
    "epochs = 10\n",
    "save_every = 1 # May lead to errors if left as None\n",
    "\n",
    "data = SparseMolecularDataset()\n",
    "data.load('data/gdb9_9nodes.sparsedataset')\n",
    "\n",
    "steps = (len(data) // batch_dim)"
   ]
  },
  {
   "cell_type": "code",
   "execution_count": 4,
   "metadata": {
    "id": "LjuM3_Vtrymy"
   },
   "outputs": [],
   "source": [
    "def train_fetch_dict(i, steps, epoch, epochs, min_epochs, model, optimizer):\n",
    "    a = [optimizer.train_step_G] if i % n_critic == 0 else [optimizer.train_step_D]\n",
    "    b = [optimizer.train_step_V] if i % n_critic == 0 and la < 1 else []\n",
    "    return a + b\n",
    "\n",
    "def train_feed_dict(i, steps, epoch, epochs, min_epochs, model, optimizer, batch_dim):\n",
    "    mols, _, _, a, x, _, _, _, _ = data.next_train_batch(batch_dim)\n",
    "    embeddings = model.sample_z(batch_dim)\n",
    "\n",
    "    if la < 1:\n",
    "\n",
    "        if i % n_critic == 0:\n",
    "            rewardR = reward(mols)\n",
    "\n",
    "            n, e = session.run([model.nodes_gumbel_argmax, model.edges_gumbel_argmax],\n",
    "                               feed_dict={model.training: False, model.embeddings: embeddings})\n",
    "            n, e = np.argmax(n, axis=-1), np.argmax(e, axis=-1)\n",
    "            mols = [data.matrices2mol(n_, e_, strict=True) for n_, e_ in zip(n, e)]\n",
    "\n",
    "            rewardF = reward(mols)\n",
    "\n",
    "            feed_dict = {model.edges_labels: a,\n",
    "                         model.nodes_labels: x,\n",
    "                         model.embeddings: embeddings,\n",
    "                         model.rewardR: rewardR,\n",
    "                         model.rewardF: rewardF,\n",
    "                         model.training: True,\n",
    "                         model.dropout_rate: dropout,\n",
    "                         optimizer.la: la if epoch > 0 else 1.0}\n",
    "\n",
    "        else:\n",
    "            feed_dict = {model.edges_labels: a,\n",
    "                         model.nodes_labels: x,\n",
    "                         model.embeddings: embeddings,\n",
    "                         model.training: True,\n",
    "                         model.dropout_rate: dropout,\n",
    "                         optimizer.la: la if epoch > 0 else 1.0}\n",
    "    else:\n",
    "        feed_dict = {model.edges_labels: a,\n",
    "                     model.nodes_labels: x,\n",
    "                     model.embeddings: embeddings,\n",
    "                     model.training: True,\n",
    "                     model.dropout_rate: dropout,\n",
    "                     optimizer.la: 1.0}\n",
    "\n",
    "    return feed_dict"
   ]
  },
  {
   "cell_type": "code",
   "execution_count": 5,
   "metadata": {
    "id": "07BTHw9Wr6zV"
   },
   "outputs": [],
   "source": [
    "def eval_fetch_dict(i, epochs, min_epochs, model, optimizer):\n",
    "    return {'loss D': optimizer.loss_D, 'loss G': optimizer.loss_G,\n",
    "            'loss RL': optimizer.loss_RL, 'loss V': optimizer.loss_V,\n",
    "            'la': optimizer.la}\n",
    "\n",
    "def eval_feed_dict(i, epochs, min_epochs, model, optimizer, batch_dim):\n",
    "    mols, _, _, a, x, _, _, _, _ = data.next_validation_batch()\n",
    "    embeddings = model.sample_z(a.shape[0])\n",
    "\n",
    "    rewardR = reward(mols)\n",
    "\n",
    "    n, e = session.run([model.nodes_gumbel_argmax, model.edges_gumbel_argmax],\n",
    "                       feed_dict={model.training: False, model.embeddings: embeddings})\n",
    "    n, e = np.argmax(n, axis=-1), np.argmax(e, axis=-1)\n",
    "    mols = [data.matrices2mol(n_, e_, strict=True) for n_, e_ in zip(n, e)]\n",
    "\n",
    "    rewardF = reward(mols)\n",
    "\n",
    "    feed_dict = {model.edges_labels: a,\n",
    "                 model.nodes_labels: x,\n",
    "                 model.embeddings: embeddings,\n",
    "                 model.rewardR: rewardR,\n",
    "                 model.rewardF: rewardF,\n",
    "                 model.training: False}\n",
    "                 \n",
    "    return feed_dict"
   ]
  },
  {
   "cell_type": "code",
   "execution_count": 6,
   "metadata": {
    "id": "c6zuHv-TsC-N"
   },
   "outputs": [],
   "source": [
    "def test_fetch_dict(model, optimizer):\n",
    "    return {'loss D': optimizer.loss_D, 'loss G': optimizer.loss_G,\n",
    "            'loss RL': optimizer.loss_RL, 'loss V': optimizer.loss_V,\n",
    "            'la': optimizer.la}\n",
    "\n",
    "def test_feed_dict(model, optimizer, batch_dim):\n",
    "    mols, _, _, a, x, _, _, _, _ = data.next_test_batch()\n",
    "    embeddings = model.sample_z(a.shape[0])\n",
    "\n",
    "    rewardR = reward(mols)\n",
    "\n",
    "    n, e = session.run([model.nodes_gumbel_argmax, model.edges_gumbel_argmax],\n",
    "                       feed_dict={model.training: False, model.embeddings: embeddings})\n",
    "    n, e = np.argmax(n, axis=-1), np.argmax(e, axis=-1)\n",
    "    mols = [data.matrices2mol(n_, e_, strict=True) for n_, e_ in zip(n, e)]\n",
    "\n",
    "    rewardF = reward(mols)\n",
    "\n",
    "    feed_dict = {model.edges_labels: a,\n",
    "                 model.nodes_labels: x,\n",
    "                 model.embeddings: embeddings,\n",
    "                 model.rewardR: rewardR,\n",
    "                 model.rewardF: rewardF,\n",
    "                 model.training: False}\n",
    "                 \n",
    "    return feed_dict"
   ]
  },
  {
   "cell_type": "code",
   "execution_count": 7,
   "metadata": {
    "id": "H-1r1oKjsT0H"
   },
   "outputs": [],
   "source": [
    "def reward(mols):\n",
    "    rr = 1.\n",
    "    for m in ('logp,sas,qed,unique' if metric == 'all' else metric).split(','):\n",
    "\n",
    "        if m == 'np':\n",
    "            rr *= MolecularMetrics.natural_product_scores(mols, norm=True)\n",
    "        elif m == 'logp':\n",
    "            rr *= MolecularMetrics.water_octanol_partition_coefficient_scores(mols, norm=True)\n",
    "        elif m == 'sas':\n",
    "            rr *= MolecularMetrics.synthetic_accessibility_score_scores(mols, norm=True)\n",
    "        elif m == 'qed':\n",
    "            rr *= MolecularMetrics.quantitative_estimation_druglikeness_scores(mols, norm=True)\n",
    "        elif m == 'novelty':\n",
    "            rr *= MolecularMetrics.novel_scores(mols, data)\n",
    "        elif m == 'dc':\n",
    "            rr *= MolecularMetrics.drugcandidate_scores(mols, data)\n",
    "        elif m == 'unique':\n",
    "            rr *= MolecularMetrics.unique_scores(mols)\n",
    "        elif m == 'diversity':\n",
    "            rr *= MolecularMetrics.diversity_scores(mols, data)\n",
    "        elif m == 'validity':\n",
    "            rr *= MolecularMetrics.valid_scores(mols)\n",
    "        else:\n",
    "            raise RuntimeError('{} is not defined as a metric'.format(m))\n",
    "\n",
    "    return rr.reshape(-1, 1)"
   ]
  },
  {
   "cell_type": "code",
   "execution_count": 8,
   "metadata": {
    "id": "LV-euZXVsZWj"
   },
   "outputs": [],
   "source": [
    "def _eval_update(i, epochs, min_epochs, model, optimizer, batch_dim, eval_batch):\n",
    "    mols = samples(data, model, session, model.sample_z(n_samples), sample=True)\n",
    "    m0, m1 = all_scores(mols, data, norm=True)\n",
    "    m0 = {k: np.array(v)[np.nonzero(v)].mean() for k, v in m0.items()}\n",
    "    m0.update(m1)\n",
    "    return m0\n",
    "\n",
    "def _test_update(model, optimizer, batch_dim, test_batch):\n",
    "    mols = samples(data, model, session, model.sample_z(n_samples), sample=True)\n",
    "    m0, m1 = all_scores(mols, data, norm=True)\n",
    "    m0 = {k: np.array(v)[np.nonzero(v)].mean() for k, v in m0.items()}\n",
    "    m0.update(m1)\n",
    "    return m0"
   ]
  },
  {
   "cell_type": "code",
   "execution_count": null,
   "metadata": {
    "id": "w55WkPXusqgp"
   },
   "outputs": [],
   "source": [
    "# Roll back to older version of TensorFlow\n",
    "!pip install tensorflow==1.15"
   ]
  },
  {
   "cell_type": "code",
   "execution_count": 10,
   "metadata": {
    "colab": {
     "base_uri": "https://localhost:8080/"
    },
    "id": "2WafnPKXscwP",
    "outputId": "adb77903-8e42-4624-fbdf-97fece505d39"
   },
   "outputs": [
    {
     "name": "stdout",
     "output_type": "stream",
     "text": [
      "WARNING:tensorflow:From /content/MolGAN/models/gan.py:17: The name tf.placeholder_with_default is deprecated. Please use tf.compat.v1.placeholder_with_default instead.\n",
      "\n",
      "WARNING:tensorflow:From /content/MolGAN/models/gan.py:23: The name tf.placeholder is deprecated. Please use tf.compat.v1.placeholder instead.\n",
      "\n",
      "WARNING:tensorflow:From /content/MolGAN/models/gan.py:32: The name tf.variable_scope is deprecated. Please use tf.compat.v1.variable_scope instead.\n",
      "\n",
      "WARNING:tensorflow:From /content/MolGAN/utils/layers.py:33: dense (from tensorflow.python.layers.core) is deprecated and will be removed in a future version.\n",
      "Instructions for updating:\n",
      "Use keras.layers.Dense instead.\n",
      "WARNING:tensorflow:From /usr/local/lib/python3.7/dist-packages/tensorflow_core/python/layers/core.py:187: Layer.apply (from tensorflow.python.keras.engine.base_layer) is deprecated and will be removed in a future version.\n",
      "Instructions for updating:\n",
      "Please use `layer.__call__` method instead.\n",
      "WARNING:tensorflow:From /content/MolGAN/utils/layers.py:34: dropout (from tensorflow.python.layers.core) is deprecated and will be removed in a future version.\n",
      "Instructions for updating:\n",
      "Use keras.layers.dropout instead.\n",
      "WARNING:tensorflow:From /content/MolGAN/models/__init__.py:29: The name tf.matrix_transpose is deprecated. Please use tf.linalg.matrix_transpose instead.\n",
      "\n",
      "WARNING:tensorflow:From /content/MolGAN/models/__init__.py:93: The name tf.log is deprecated. Please use tf.math.log instead.\n",
      "\n",
      "WARNING:tensorflow:From /content/MolGAN/models/__init__.py:93: The name tf.random_uniform is deprecated. Please use tf.random.uniform instead.\n",
      "\n",
      "WARNING:tensorflow:From /content/MolGAN/models/gan.py:70: The name tf.AUTO_REUSE is deprecated. Please use tf.compat.v1.AUTO_REUSE instead.\n",
      "\n",
      "WARNING:tensorflow:From /content/MolGAN/optimizers/gan.py:38: The name tf.train.AdamOptimizer is deprecated. Please use tf.compat.v1.train.AdamOptimizer instead.\n",
      "\n",
      "WARNING:tensorflow:From /content/MolGAN/optimizers/gan.py:40: The name tf.get_collection is deprecated. Please use tf.compat.v1.get_collection instead.\n",
      "\n",
      "WARNING:tensorflow:From /content/MolGAN/optimizers/gan.py:40: The name tf.GraphKeys is deprecated. Please use tf.compat.v1.GraphKeys instead.\n",
      "\n",
      "WARNING:tensorflow:From /usr/local/lib/python3.7/dist-packages/tensorflow_core/python/ops/math_grad.py:1375: where (from tensorflow.python.ops.array_ops) is deprecated and will be removed in a future version.\n",
      "Instructions for updating:\n",
      "Use tf.where in 2.0, which has the same broadcast rule as np.where\n",
      "Parameters: 575556\n"
     ]
    }
   ],
   "source": [
    "# model\n",
    "model = GraphGANModel(data.vertexes,\n",
    "                      data.bond_num_types,\n",
    "                      data.atom_num_types,\n",
    "                      z_dim,\n",
    "                      decoder_units=(128, 256, 512),\n",
    "                      discriminator_units=((128, 64), 128, (128, 64)),\n",
    "                      decoder=decoder_adj,\n",
    "                      discriminator=encoder_rgcn,\n",
    "                      soft_gumbel_softmax=False,\n",
    "                      hard_gumbel_softmax=False,\n",
    "                      batch_discriminator=False)\n",
    "\n",
    "# optimizer\n",
    "optimizer = GraphGANOptimizer(model, learning_rate=1e-3, feature_matching=False)\n",
    "\n",
    "# session\n",
    "session = tf.Session()\n",
    "session.run(tf.global_variables_initializer())\n",
    "\n",
    "# trainer\n",
    "trainer = Trainer(model, optimizer, session)\n",
    "\n",
    "print('Parameters: {}'.format(np.sum([np.prod(e.shape) for e in session.run(tf.trainable_variables())])))"
   ]
  },
  {
   "cell_type": "code",
   "execution_count": 14,
   "metadata": {
    "id": "577xcvecuYJO"
   },
   "outputs": [],
   "source": [
    "# Create a saved_models folder\n",
    "!mkdir MolGAN/saved_models"
   ]
  },
  {
   "cell_type": "code",
   "execution_count": 17,
   "metadata": {
    "colab": {
     "base_uri": "https://localhost:8080/"
    },
    "id": "CTqo0SCYsjLK",
    "outputId": "c74b0c7e-f4dd-43f9-e037-70a2f2427dfc"
   },
   "outputs": [
    {
     "name": "stdout",
     "output_type": "stream",
     "text": [
      "2021-05-18 23:08:28 Epochs          0/10 in 0:00:00 (last epoch in 0:00:00), ETA: -:--:-\n"
     ]
    },
    {
     "name": "stderr",
     "output_type": "stream",
     "text": [
      "/content/MolGAN/utils/molecular_metrics.py:60: RuntimeWarning: Mean of empty slice.\n",
      "  return MolecularMetrics.novel_scores(MolecularMetrics.valid_filter(mols), data).mean()\n",
      "/usr/local/lib/python3.7/dist-packages/numpy/core/_methods.py:170: RuntimeWarning: invalid value encountered in double_scalars\n",
      "  ret = ret.dtype.type(ret / rcount)\n",
      "/usr/local/lib/python3.7/dist-packages/ipykernel_launcher.py:4: RuntimeWarning: Mean of empty slice.\n",
      "  after removing the cwd from sys.path.\n"
     ]
    },
    {
     "name": "stdout",
     "output_type": "stream",
     "text": [
      "2021-05-18 23:09:02 Validation --> {'NP score': nan,\n",
      " 'QED score': nan,\n",
      " 'SA score': nan,\n",
      " 'diversity score': nan,\n",
      " 'drugcandidate score': 0.11783951472333935,\n",
      " 'la': 1.0,\n",
      " 'logP score': nan,\n",
      " 'loss D': -1.1388904,\n",
      " 'loss G': 1.1496494,\n",
      " 'loss RL': -0.8075736,\n",
      " 'loss V': 0.75656223,\n",
      " 'novel score': nan,\n",
      " 'unique score': 0,\n",
      " 'valid score': 0.0}\n",
      "2021-05-18 23:09:04 Model saved in saved_models!\n",
      " 100% (1040/1040) [################################################################################] ETA: 0:00:00\n",
      "2021-05-18 23:09:21 Epochs          1/10 in 0:00:52 (last epoch in 0:00:17), ETA: 0:07:52\n",
      "2021-05-18 23:09:56 Validation --> {'NP score': 0.8877842135154173,\n",
      " 'QED score': 0.563191330854385,\n",
      " 'SA score': 0.4661472380122662,\n",
      " 'diversity score': 0.7769213300011615,\n",
      " 'drugcandidate score': 0.13984802858869488,\n",
      " 'la': 1.0,\n",
      " 'logP score': 0.3655359621306015,\n",
      " 'loss D': -66.68398,\n",
      " 'loss G': 30.091413,\n",
      " 'loss RL': -0.46301308,\n",
      " 'loss V': 0.31661555,\n",
      " 'novel score': 100.0,\n",
      " 'unique score': 23.766816143497756,\n",
      " 'valid score': 4.4599998742341995}\n",
      "2021-05-18 23:09:57 Model saved in saved_models!\n",
      " 100% (1040/1040) [################################################################################] ETA: 0:00:00\n",
      "2021-05-18 23:10:12 Epochs          2/10 in 0:01:44 (last epoch in 0:00:15), ETA: 0:06:56\n",
      "2021-05-18 23:11:18 Validation --> {'NP score': 0.9146811183907887,\n",
      " 'QED score': 0.5038442784471593,\n",
      " 'SA score': 0.32226118300721385,\n",
      " 'diversity score': 0.740867064700486,\n",
      " 'drugcandidate score': 0.42683998475414137,\n",
      " 'la': 1.0,\n",
      " 'logP score': 0.2825459621858794,\n",
      " 'loss D': -93.7458,\n",
      " 'loss G': 48.536907,\n",
      " 'loss RL': -0.46254918,\n",
      " 'loss V': 0.24940643,\n",
      " 'novel score': 71.18110236220473,\n",
      " 'unique score': 2.5459317585301835,\n",
      " 'valid score': 76.2000024318695}\n",
      "2021-05-18 23:11:20 Model saved in saved_models!\n",
      " 100% (1040/1040) [################################################################################] ETA: 0:00:00\n",
      "2021-05-18 23:11:35 Epochs          3/10 in 0:03:06 (last epoch in 0:00:15), ETA: 0:07:14\n",
      "2021-05-18 23:12:51 Validation --> {'NP score': 0.9145933973836473,\n",
      " 'QED score': 0.5142454942897615,\n",
      " 'SA score': 0.2558660428615537,\n",
      " 'diversity score': 0.7536723761449291,\n",
      " 'drugcandidate score': 0.40612740809906334,\n",
      " 'la': 1.0,\n",
      " 'logP score': 0.33053812828366613,\n",
      " 'loss D': -106.84976,\n",
      " 'loss G': 53.9847,\n",
      " 'loss RL': -0.43769646,\n",
      " 'loss V': 0.24008192,\n",
      " 'novel score': 68.7402394586153,\n",
      " 'unique score': 5.283706402915148,\n",
      " 'valid score': 76.84000134468079}\n",
      "2021-05-18 23:12:52 Model saved in saved_models!\n",
      " 100% (1040/1040) [################################################################################] ETA: 0:00:00\n",
      "2021-05-18 23:13:07 Epochs          4/10 in 0:04:38 (last epoch in 0:00:15), ETA: 0:06:57\n",
      "2021-05-18 23:14:16 Validation --> {'NP score': 0.9935015841887789,\n",
      " 'QED score': 0.5022981374958713,\n",
      " 'SA score': 0.28128941141214164,\n",
      " 'diversity score': 0.5709773708277548,\n",
      " 'drugcandidate score': 0.32410327759885965,\n",
      " 'la': 1.0,\n",
      " 'logP score': 0.3891977151905969,\n",
      " 'loss D': -109.56552,\n",
      " 'loss G': 57.577175,\n",
      " 'loss RL': -0.45075947,\n",
      " 'loss V': 0.29217207,\n",
      " 'novel score': 64.35119887165021,\n",
      " 'unique score': 6.734837799717913,\n",
      " 'valid score': 56.72000050544739}\n",
      "2021-05-18 23:14:17 Model saved in saved_models!\n",
      " 100% (1040/1040) [################################################################################] ETA: 0:00:00\n",
      "2021-05-18 23:14:32 Epochs          5/10 in 0:06:03 (last epoch in 0:00:15), ETA: 0:06:03\n",
      "2021-05-18 23:15:41 Validation --> {'NP score': 0.9458253474186047,\n",
      " 'QED score': 0.498758935201189,\n",
      " 'SA score': 0.2986701861602134,\n",
      " 'diversity score': 0.6202410676804813,\n",
      " 'drugcandidate score': 0.38062917566110327,\n",
      " 'la': 1.0,\n",
      " 'logP score': 0.3246169333692111,\n",
      " 'loss D': -115.151665,\n",
      " 'loss G': 59.34669,\n",
      " 'loss RL': -0.4732647,\n",
      " 'loss V': 0.27755705,\n",
      " 'novel score': 78.97916037450922,\n",
      " 'unique score': 5.3760193295077014,\n",
      " 'valid score': 66.21999740600586}\n",
      "2021-05-18 23:15:43 Model saved in saved_models!\n",
      " 100% (1040/1040) [################################################################################] ETA: 0:00:00\n",
      "2021-05-18 23:15:58 Epochs          6/10 in 0:07:29 (last epoch in 0:00:15), ETA: 0:04:59\n",
      "2021-05-18 23:17:11 Validation --> {'NP score': 0.933444352741023,\n",
      " 'QED score': 0.5009269455187956,\n",
      " 'SA score': 0.435159509249065,\n",
      " 'diversity score': 0.7450167830388412,\n",
      " 'drugcandidate score': 0.4357077737308933,\n",
      " 'la': 1.0,\n",
      " 'logP score': 0.33925551506284096,\n",
      " 'loss D': -52.01524,\n",
      " 'loss G': 39.338467,\n",
      " 'loss RL': -0.4551249,\n",
      " 'loss V': 0.2567856,\n",
      " 'novel score': 60.626069943751524,\n",
      " 'unique score': 4.866715578381022,\n",
      " 'valid score': 81.7799985408783}\n",
      "2021-05-18 23:17:13 Model saved in saved_models!\n",
      " 100% (1040/1040) [################################################################################] ETA: 0:00:00\n",
      "2021-05-18 23:17:28 Epochs          7/10 in 0:08:59 (last epoch in 0:00:14), ETA: 0:03:51\n",
      "2021-05-18 23:18:12 Validation --> {'NP score': 0.9914153283751693,\n",
      " 'QED score': 0.4972819637284861,\n",
      " 'SA score': 0.26275059331940426,\n",
      " 'diversity score': 0.7808262650007501,\n",
      " 'drugcandidate score': 0.17190659219249513,\n",
      " 'la': 1.0,\n",
      " 'logP score': 0.45126315474271267,\n",
      " 'loss D': 27.967157,\n",
      " 'loss G': -60.69058,\n",
      " 'loss RL': -0.5335496,\n",
      " 'loss V': 0.38412243,\n",
      " 'novel score': 15.628415300546447,\n",
      " 'unique score': 6.557377049180328,\n",
      " 'valid score': 18.299999833106995}\n",
      "2021-05-18 23:18:14 Model saved in saved_models!\n",
      " 100% (1040/1040) [################################################################################] ETA: 0:00:00\n",
      "2021-05-18 23:18:29 Epochs          8/10 in 0:10:00 (last epoch in 0:00:15), ETA: 0:02:30\n",
      "2021-05-18 23:19:18 Validation --> {'NP score': 0.9936286494458167,\n",
      " 'QED score': 0.4976710134289161,\n",
      " 'SA score': 0.26791860224447733,\n",
      " 'diversity score': 0.8156783137463347,\n",
      " 'drugcandidate score': 0.20673563247101728,\n",
      " 'la': 1.0,\n",
      " 'logP score': 0.4166427432129666,\n",
      " 'loss D': -2.3843617,\n",
      " 'loss G': -60.184456,\n",
      " 'loss RL': -0.47612393,\n",
      " 'loss V': 0.31071824,\n",
      " 'novel score': 44.827586206896555,\n",
      " 'unique score': 5.517241379310345,\n",
      " 'valid score': 26.100000739097595}\n",
      "2021-05-18 23:19:19 Model saved in saved_models!\n",
      " 100% (1040/1040) [################################################################################] ETA: 0:00:00\n",
      "2021-05-18 23:19:34 Epochs          9/10 in 0:11:05 (last epoch in 0:00:15), ETA: 0:01:13\n",
      "2021-05-18 23:20:31 Validation --> {'NP score': 0.9831507760128213,\n",
      " 'QED score': 0.5079882660527614,\n",
      " 'SA score': 0.30152388520949397,\n",
      " 'diversity score': 0.679628961488334,\n",
      " 'drugcandidate score': 0.2700387288122184,\n",
      " 'la': 1.0,\n",
      " 'logP score': 0.3620433342429625,\n",
      " 'loss D': -3.8137333,\n",
      " 'loss G': -59.136047,\n",
      " 'loss RL': -0.47232538,\n",
      " 'loss V': 0.28369805,\n",
      " 'novel score': 52.451213707758214,\n",
      " 'unique score': 4.997620180866255,\n",
      " 'valid score': 42.0199990272522}\n",
      "2021-05-18 23:20:32 Model saved in saved_models!\n",
      " 100% (1040/1040) [################################################################################] ETA: 0:00:00\n",
      "2021-05-18 23:20:47 Epochs         10/10 in 0:12:19 (last epoch in 0:00:15), ETA: 0:00:00\n",
      "2021-05-18 23:21:49 Validation --> {'NP score': 0.9723254960034876,\n",
      " 'QED score': 0.5125095946641888,\n",
      " 'SA score': 0.31645053935502476,\n",
      " 'diversity score': 0.6167444824567491,\n",
      " 'drugcandidate score': 0.329073655754577,\n",
      " 'la': 1.0,\n",
      " 'logP score': 0.34862771122930836,\n",
      " 'loss D': -6.2342153,\n",
      " 'loss G': -53.63694,\n",
      " 'loss RL': -0.4709157,\n",
      " 'loss V': 0.27074593,\n",
      " 'novel score': 71.91310975609755,\n",
      " 'unique score': 6.211890243902439,\n",
      " 'valid score': 52.480000257492065}\n",
      "2021-05-18 23:21:50 Model saved in saved_models!\n",
      "INFO:tensorflow:Restoring parameters from saved_models/model.ckpt\n",
      "2021-05-18 23:21:51 Model loaded from saved_models!\n",
      "2021-05-18 23:21:51 End of training (10 epochs) in 0:13:22\n",
      "2021-05-18 23:22:53 Test --> {'NP score': 0.9719941968026631,\n",
      " 'QED score': 0.5139094538742295,\n",
      " 'SA score': 0.3221942060655883,\n",
      " 'diversity score': 0.635883839753907,\n",
      " 'drugcandidate score': 0.32801982282126124,\n",
      " 'la': 1.0,\n",
      " 'logP score': 0.35515483286481536,\n",
      " 'loss D': -6.2490425,\n",
      " 'loss G': -53.61202,\n",
      " 'loss RL': -0.47037435,\n",
      " 'loss V': 0.27114084,\n",
      " 'novel score': 71.91097467382961,\n",
      " 'unique score': 6.293169608595549,\n",
      " 'valid score': 52.12000012397766}\n"
     ]
    }
   ],
   "source": [
    "trainer.train(batch_dim=batch_dim,\n",
    "              epochs=epochs,\n",
    "              steps=steps,\n",
    "              train_fetch_dict=train_fetch_dict,\n",
    "              train_feed_dict=train_feed_dict,\n",
    "              eval_fetch_dict=eval_fetch_dict,\n",
    "              eval_feed_dict=eval_feed_dict,\n",
    "              test_fetch_dict=test_fetch_dict,\n",
    "              test_feed_dict=test_feed_dict,\n",
    "              save_every=save_every,\n",
    "              directory='saved_models', # here users need to first create and then specify a folder where to save the model\n",
    "              _eval_update=_eval_update,\n",
    "              _test_update=_test_update)"
   ]
  }
 ],
 "metadata": {
  "accelerator": "GPU",
  "colab": {
   "collapsed_sections": [],
   "machine_shape": "hm",
   "name": "MolGAN.ipynb",
   "provenance": []
  },
  "kernelspec": {
   "display_name": "Python 3",
   "language": "python",
   "name": "python3"
  },
  "language_info": {
   "codemirror_mode": {
    "name": "ipython",
    "version": 3
   },
   "file_extension": ".py",
   "mimetype": "text/x-python",
   "name": "python",
   "nbconvert_exporter": "python",
   "pygments_lexer": "ipython3",
   "version": "3.8.10"
  }
 },
 "nbformat": 4,
 "nbformat_minor": 1
}
