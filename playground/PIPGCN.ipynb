{
 "cells": [
  {
   "cell_type": "markdown",
   "metadata": {
    "id": "XYik28aPSyM2"
   },
   "source": [
    "## PIPGCN: Protein Interface Prediction using Graph Convolutional Network\n",
    "\n",
    "ABSTRACT: We consider the prediction of interfaces between proteins, a challenging problem with important applications in drug discovery and design, and examine the\n",
    "performance of existing and newly proposed spatial graph convolution operators\n",
    "for this task. By performing convolution over a local neighborhood of a node of\n",
    "interest, we are able to stack multiple layers of convolution and learn effective\n",
    "latent representations that integrate information across the graph that represent the\n",
    "three dimensional structure of a protein of interest. An architecture that combines\n",
    "the learned features across pairs of proteins is then used to classify pairs of amino\n",
    "acid residues as part of an interface or not. In our experiments, several graph\n",
    "convolution operators yielded accuracy that is better than the state-of-the-art SVM\n",
    "method in this task.\n",
    "\n",
    "Link to paper: https://proceedings.neurips.cc/paper/2017/file/f507783927f2ec2737ba40afbd17efb5-Paper.pdf\n",
    "\n",
    "Credit: https://github.com/fouticus/pipgcn"
   ]
  },
  {
   "cell_type": "code",
   "execution_count": 3,
   "metadata": {
    "colab": {
     "base_uri": "https://localhost:8080/"
    },
    "id": "ShWY9cPgR9q5",
    "outputId": "a1e1ce10-4948-455d-8564-1fc95a04de6e"
   },
   "outputs": [
    {
     "name": "stdout",
     "output_type": "stream",
     "text": [
      "/content/pipgcn\n"
     ]
    }
   ],
   "source": [
    "# Clone the repository and cd into directory\n",
    "!git clone https://github.com/saams4u/pipgcn.git\n",
    "%cd pipgcn"
   ]
  },
  {
   "cell_type": "code",
   "execution_count": null,
   "metadata": {
    "id": "Sy6whGgATL9i"
   },
   "outputs": [],
   "source": [
    "# Install requirements / dependencies\n",
    "!pip install pyyaml==3.12 tensorflow==1.15.0"
   ]
  },
  {
   "cell_type": "markdown",
   "metadata": {
    "id": "c6ibR51XVA6Z"
   },
   "source": [
    "### Environment Variables\n",
    "\n",
    "The software assumes the following environment variables are set:\n",
    "\n",
    "* PL_DATA: full path of data directory (where data files are kept)\n",
    "* PL_OUT: full path of output directory (where experiment results are placed)\n",
    "* PL_EXPERIMENTS: full path of experiment library (YAML files)\n",
    "\n",
    "An alternative to setting these variables is to edit the portions of `configuration.py` which reference these environment variables.\n",
    "\n",
    "### CUDA Setup\n",
    "Consider setting the following environment variables for CUDA use:\n",
    "\n",
    "* LD_LIBRARY_PATH: path to cuda libraries\n",
    "* CUDA_VISIBLE_DEVICES: Specify (0, 1, etc.) which GPU to use or set to \"\" to force CPU\n",
    "\n",
    "### Data\n",
    "To run the provided experiments, you need the pickle files found <a href=\"https://zenodo.org/record/1127774#.WkLewGGnGcY\">here</a>.\n",
    "\n",
    "### Running Experiments\n",
    "\n",
    "Simply run: `python experiment_runner.py <experiment>`. Where `<experiment>` is the name of the experiment file (including .yml extension) in the experiments directory. \n",
    "\n",
    "Alternatively you may run `run_experiments.sh`, which contains expressions for all provided experiments."
   ]
  },
  {
   "cell_type": "code",
   "execution_count": null,
   "metadata": {
    "id": "nRHjqrsDWAcQ"
   },
   "outputs": [],
   "source": [
    "# Create required directories + download and unzip data files (train and test) \n",
    "!mkdir data\n",
    "!mkdir results\n",
    "\n",
    "%cd data\n",
    "\n",
    "!wget https://zenodo.org/record/1127774/files/train.cpkl.gz\n",
    "!wget https://zenodo.org/record/1127774/files/test.cpkl.gz\n",
    "\n",
    "!gzip -d train.cpkl.gz\n",
    "!gzip -d test.cpkl.gz\n",
    "\n",
    "%cd ..\n",
    "\n",
    "# run experiment_runner.py on deep_tensor.yml\n",
    "!python experiment_runner.py deep_tensor.yml"
   ]
  },
  {
   "cell_type": "code",
   "execution_count": null,
   "metadata": {
    "id": "o8Fl1J12ZJ7C"
   },
   "outputs": [],
   "source": [
    "## or, uncomment and run the script below\n",
    "# !sh run_experiments.sh"
   ]
  }
 ],
 "metadata": {
  "colab": {
   "collapsed_sections": [],
   "name": "pipgcn.ipynb",
   "provenance": []
  },
  "kernelspec": {
   "display_name": "Python 3",
   "language": "python",
   "name": "python3"
  },
  "language_info": {
   "codemirror_mode": {
    "name": "ipython",
    "version": 3
   },
   "file_extension": ".py",
   "mimetype": "text/x-python",
   "name": "python",
   "nbconvert_exporter": "python",
   "pygments_lexer": "ipython3",
   "version": "3.8.10"
  }
 },
 "nbformat": 4,
 "nbformat_minor": 1
}
