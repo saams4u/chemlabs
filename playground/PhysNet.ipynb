{
 "cells": [
  {
   "cell_type": "markdown",
   "metadata": {
    "id": "Vk6-VWJpulIc"
   },
   "source": [
    "## PhysNet: A Neural Network for Predicting Energies, Forces, Dipole Moments and Partial Charges\n",
    "\n",
    "ABSTRACT: In recent years, machine learning (ML) methods have become increasingly popular in computational\n",
    "chemistry. After being trained on appropriate ab initio reference data, these methods allow to\n",
    "accurately predict the properties of chemical systems, circumventing the need for explicitly solving\n",
    "the electronic Schrödinger equation. Because of their computational efficiency and scalability to\n",
    "large datasets, deep neural networks (DNNs) are a particularly promising ML algorithm for chemical\n",
    "applications. This work introduces PhysNet, a DNN architecture designed for predicting energies,\n",
    "forces and dipole moments of chemical systems. PhysNet achieves state-of-the-art performance\n",
    "on the QM9, MD17 and ISO17 benchmarks. Further, two new datasets are generated in order to\n",
    "probe the performance of ML models for describing chemical reactions, long-range interactions, and\n",
    "condensed phase systems. It is shown that explicitly including electrostatics in energy predictions is\n",
    "crucial for a qualitatively correct description of the asymptotic regions of a potential energy surface\n",
    "(PES). PhysNet models trained on a systematically constructed set of small peptide fragments (at\n",
    "most eight heavy atoms) are able to generalize to considerably larger proteins like deca-alanine\n",
    "(Ala10): The optimized geometry of helical Ala10 predicted by PhysNet is virtually identical to ab\n",
    "initio results (RMSD = 0.21 Å). By running unbiased molecular dynamics (MD) simulations of\n",
    "Ala10 on the PhysNet-PES in gas phase, it is found that instead of a helical structure, Ala10 folds\n",
    "into a “wreath-shaped” configuration, which is more stable than the helical form by 0.46 kcal mol−1\n",
    "according to the reference ab initio calculations.\n",
    "\n",
    "Link to paper: https://arxiv.org/pdf/1902.08408v2.pdf\n",
    "\n",
    "Credit: https://github.com/MMunibas/PhysNet"
   ]
  },
  {
   "cell_type": "code",
   "execution_count": 1,
   "metadata": {
    "colab": {
     "base_uri": "https://localhost:8080/"
    },
    "id": "yotQJveytxTy",
    "outputId": "ed3bb578-f187-4a21-e09a-474ea79c3102"
   },
   "outputs": [
    {
     "name": "stdout",
     "output_type": "stream",
     "text": [
      "Cloning into 'PhysNet'...\n",
      "remote: Enumerating objects: 39, done.\u001b[K\n",
      "remote: Counting objects: 100% (3/3), done.\u001b[K\n",
      "remote: Compressing objects: 100% (3/3), done.\u001b[K\n",
      "remote: Total 39 (delta 0), reused 0 (delta 0), pack-reused 36\u001b[K\n",
      "Unpacking objects: 100% (39/39), done.\n",
      "/content/PhysNet\n"
     ]
    }
   ],
   "source": [
    "# Clone the repository and cd into directory\n",
    "!git clone https://github.com/MMunibas/PhysNet.git\n",
    "%cd PhysNet"
   ]
  },
  {
   "cell_type": "code",
   "execution_count": null,
   "metadata": {
    "id": "8mAxwFSOun7f"
   },
   "outputs": [],
   "source": [
    "# Install TensorFlow 1.13.0rc1\n",
    "!pip install tensorflow==1.13.0rc1"
   ]
  },
  {
   "cell_type": "markdown",
   "metadata": {
    "id": "BkfAOxHIvZjj"
   },
   "source": [
    "### How to use\n",
    "\n",
    "Edit the `config.txt` file to specify hyperparameters, dataset location, training/validation set size etc. (see \"train.py\" for a list of all options)\n",
    "\n",
    "Then, simply run"
   ]
  },
  {
   "cell_type": "code",
   "execution_count": null,
   "metadata": {
    "id": "tkmOju-Mv7nq"
   },
   "outputs": [],
   "source": [
    "# first, download the sn2_reactions.npz dataset\n",
    "!wget https://zenodo.org/record/2605341/files/sn2_reactions.npz"
   ]
  },
  {
   "cell_type": "code",
   "execution_count": null,
   "metadata": {
    "id": "Pmic5lVGvQuR"
   },
   "outputs": [],
   "source": [
    "!python train.py "
   ]
  },
  {
   "cell_type": "markdown",
   "metadata": {
    "id": "k_g3Ji5nwI3s"
   },
   "source": [
    "in the code cell to start training. \n",
    "\n",
    "The included \"config.txt\" assumes that the dataset \"sn2_reactions.npz\" is present. It can be downloaded from: https://zenodo.org/record/2605341. In order to use a different dataset, it needs to be formatted in the same way as this example (\"sn2_reactions.npz\"). Please refer to the README file of the dataset (available from https://zenodo.org/record/2605341) for details."
   ]
  }
 ],
 "metadata": {
  "accelerator": "GPU",
  "colab": {
   "collapsed_sections": [],
   "machine_shape": "hm",
   "name": "PhysNet.ipynb",
   "provenance": []
  },
  "kernelspec": {
   "display_name": "Python 3",
   "language": "python",
   "name": "python3"
  },
  "language_info": {
   "codemirror_mode": {
    "name": "ipython",
    "version": 3
   },
   "file_extension": ".py",
   "mimetype": "text/x-python",
   "name": "python",
   "nbconvert_exporter": "python",
   "pygments_lexer": "ipython3",
   "version": "3.8.10"
  }
 },
 "nbformat": 4,
 "nbformat_minor": 1
}
