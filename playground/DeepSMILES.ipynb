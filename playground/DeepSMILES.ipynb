{
 "cells": [
  {
   "cell_type": "markdown",
   "metadata": {
    "id": "F4FovRtfIK82"
   },
   "source": [
    "## DeepSMILES:  An  adaptation  of  SMILES  for  use  in machine-learning  of chemical structures\n",
    "\n",
    "<b>Background</b>\n",
    "\n",
    "There has been increasing interest in the use of deep neural networks for de novo design of molecules with desired properties. A common approach is to train a generative model on SMILES strings and then use this to generate SMILES strings for molecules with a desired property. Unfortunately, these SMILES strings are often not syntactically valid due to elements of SMILES syntax that must occur in pairs.\n",
    "\n",
    "<b>Results</b>\n",
    "\n",
    "We describe a SMILES-like syntax called DeepSMILES that addresses two of the main reasons for invalid syntax when using a probabilistic model to generate SMILES strings. The DeepSMILES syntax avoids the problem of unbalanced parentheses by only using close parentheses, where the number of parentheses indicates the branch length. In addition, DeepSMILES avoids the problem of pairing ring closure symbols by using only a single symbol at the ring closing location, where the symbol indicates the ring size. We show that this syntax can be interconverted to/from SMILES with string processing without any loss of information, including stereo configuration.\n",
    "\n",
    "<b>Conclusion</b>\n",
    "\n",
    "We believe that DeepSMILES will be useful, not just for those using SMILES in deep neural networks, but also for other computational methods that use SMILES as the basis for generating molecular structures such as genetic algorithms.\n",
    "\n",
    "Link to paper: https://doi.org/10.26434/chemrxiv.7097960.v1\n",
    "\n",
    "Credit: https://github.com/baoilleach/deepsmiles"
   ]
  },
  {
   "cell_type": "markdown",
   "metadata": {
    "id": "DJc3owEeI-EI"
   },
   "source": [
    "\n",
    "This Python module can convert well-formed SMILES (that is, as written by a cheminformatics toolkit) to DeepSMILES. It also does the reverse conversion.\n",
    "\n",
    "Install the latest version with:"
   ]
  },
  {
   "cell_type": "code",
   "execution_count": 1,
   "metadata": {
    "colab": {
     "base_uri": "https://localhost:8080/"
    },
    "id": "igAa9B4dIHv9",
    "outputId": "75a9063c-aa53-48b6-deab-950b51badfe4"
   },
   "outputs": [
    {
     "name": "stdout",
     "output_type": "stream",
     "text": [
      "Collecting deepsmiles\n",
      "  Downloading https://files.pythonhosted.org/packages/c4/aa/c043624e7cdac49811725dfc139423b5092bbf7cccb5a346d63ea0f364c1/deepsmiles-1.0.1-py2.py3-none-any.whl\n",
      "Installing collected packages: deepsmiles\n",
      "Successfully installed deepsmiles-1.0.1\n"
     ]
    }
   ],
   "source": [
    "!pip install --upgrade deepsmiles"
   ]
  },
  {
   "cell_type": "markdown",
   "metadata": {
    "id": "1cuO1GrpJIMe"
   },
   "source": [
    "DeepSMILES is a SMILES-like syntax suited to machine learning. Rings are indicated using a single symbol instead of two, while branches do not use matching parentheses but rather use a right parenthesis as a 'pop' operator.\n",
    "\n",
    "For example, benzene is `c1ccccc1` in SMILES but `cccccc6` in DeepSMILES (where the `6` indicates the ring size). As a branch example, the SMILES `C(Br)(OC)I` can be converted to the DeepSMILES `CBr)OC))I`. For more information, please see the corresponding preprint (https://doi.org/10.26434/chemrxiv.7097960.v1) or the lightning talk at https://www.slideshare.net/NextMoveSoftware/deepsmiles.\n",
    "\n",
    "The library is used as follows:"
   ]
  },
  {
   "cell_type": "code",
   "execution_count": 2,
   "metadata": {
    "colab": {
     "base_uri": "https://localhost:8080/"
    },
    "id": "WqawFY4nJA0N",
    "outputId": "0579b91e-3dc2-436a-9182-3036fce75ea6"
   },
   "outputs": [
    {
     "name": "stdout",
     "output_type": "stream",
     "text": [
      "DeepSMILES version: 1.0.1\n",
      "Converter(rings=True, branches=True)\n",
      "Encoded: cccccC=O)Cl))c6\n",
      "Decoded: c1cccc(C(=O)Cl)c1\n"
     ]
    }
   ],
   "source": [
    "import deepsmiles\n",
    "\n",
    "print(\"DeepSMILES version: %s\" % deepsmiles.__version__)\n",
    "converter = deepsmiles.Converter(rings=True, branches=True)\n",
    "\n",
    "print(converter) # record the options used\n",
    "\n",
    "encoded = converter.encode(\"c1cccc(C(=O)Cl)c1\")\n",
    "print(\"Encoded: %s\" % encoded)\n",
    "\n",
    "try:\n",
    "    decoded = converter.decode(encoded)\n",
    "except deepsmiles.DecodeError as e:\n",
    "    decoded = None\n",
    "    print(\"DecodeError! Error message was '%s'\" % e.message)\n",
    "\n",
    "if decoded:\n",
    "    print(\"Decoded: %s\" % decoded)"
   ]
  }
 ],
 "metadata": {
  "accelerator": "GPU",
  "colab": {
   "collapsed_sections": [],
   "machine_shape": "hm",
   "name": "DeepSMILES.ipynb",
   "provenance": []
  },
  "kernelspec": {
   "display_name": "Python 3",
   "language": "python",
   "name": "python3"
  },
  "language_info": {
   "codemirror_mode": {
    "name": "ipython",
    "version": 3
   },
   "file_extension": ".py",
   "mimetype": "text/x-python",
   "name": "python",
   "nbconvert_exporter": "python",
   "pygments_lexer": "ipython3",
   "version": "3.8.10"
  }
 },
 "nbformat": 4,
 "nbformat_minor": 1
}
