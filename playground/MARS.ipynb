{
 "cells": [
  {
   "cell_type": "markdown",
   "metadata": {
    "id": "flwYLPJzQm5W"
   },
   "source": [
    "## MARS: Markov Molecular Sampling for Multi-objective Drug Discovery\n",
    "\n",
    "ABSTRACT: Searching for novel molecules with desired chemical properties is crucial in drug\n",
    "discovery. Existing work focuses on developing neural models to generate either molecular sequences or chemical graphs. However, it remains a big challenge to find novel and diverse compounds satisfying several properties. In this\n",
    "paper, we propose MARS, a method for multi-objective drug molecule discovery. MARS is based on the idea of generating the chemical candidates by iteratively editing fragments of molecular graphs. To search for high-quality candidates, it employs Markov chain Monte Carlo sampling (MCMC) on molecules\n",
    "with an annealing scheme and an adaptive proposal. To further improve sample efficiency, MARS uses a graph neural network (GNN) to represent and select\n",
    "candidate edits, where the GNN is trained on-the-fly with samples from MCMC.\n",
    "Experiments show that MARS achieves state-of-the-art performance in various\n",
    "multi-objective settings where molecular bio-activity, drug-likeness, and synthesizability are considered. Remarkably, in the most challenging setting where all\n",
    "four objectives are simultaneously optimized, our approach outperforms previous methods significantly in comprehensive evaluations.\n",
    "\n",
    "Link to paper: https://arxiv.org/pdf/2103.10432v1.pdf\n",
    "\n",
    "Credit: https://github.com/yutxie/mars"
   ]
  },
  {
   "cell_type": "code",
   "execution_count": null,
   "metadata": {
    "id": "9RJrfygJQb1t"
   },
   "outputs": [],
   "source": [
    "# Clone the repository and cd into directory\n",
    "!git clone https://github.com/yutxie/MARS.git"
   ]
  },
  {
   "cell_type": "code",
   "execution_count": null,
   "metadata": {
    "id": "HrRaIPCAQpg6"
   },
   "outputs": [],
   "source": [
    "# Install dependencies / requirements\n",
    "!pip install rdkit-pypi==2021.3.1.5 dgl"
   ]
  },
  {
   "cell_type": "markdown",
   "metadata": {
    "id": "S7souAgKRlty"
   },
   "source": [
    "### Run\n",
    "\n",
    "To extract molecular fragments from a database:"
   ]
  },
  {
   "cell_type": "code",
   "execution_count": null,
   "metadata": {
    "id": "7QqxMYOORXXo"
   },
   "outputs": [],
   "source": [
    "!python -m MARS.datasets.prepro_vocab"
   ]
  },
  {
   "cell_type": "markdown",
   "metadata": {
    "id": "I1vUn7V8R_jm"
   },
   "source": [
    "To sample molecules:"
   ]
  },
  {
   "cell_type": "code",
   "execution_count": null,
   "metadata": {
    "id": "j8AVwrjiRtxu"
   },
   "outputs": [],
   "source": [
    "!python -m MARS.main --run_dir runs/RUN_DIR"
   ]
  }
 ],
 "metadata": {
  "accelerator": "GPU",
  "colab": {
   "collapsed_sections": [],
   "machine_shape": "hm",
   "name": "MARS.ipynb",
   "provenance": []
  },
  "kernelspec": {
   "display_name": "Python 3",
   "language": "python",
   "name": "python3"
  },
  "language_info": {
   "codemirror_mode": {
    "name": "ipython",
    "version": 3
   },
   "file_extension": ".py",
   "mimetype": "text/x-python",
   "name": "python",
   "nbconvert_exporter": "python",
   "pygments_lexer": "ipython3",
   "version": "3.8.10"
  }
 },
 "nbformat": 4,
 "nbformat_minor": 1
}
