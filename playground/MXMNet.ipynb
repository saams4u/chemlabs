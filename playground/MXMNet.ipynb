{
 "cells": [
  {
   "cell_type": "markdown",
   "metadata": {
    "id": "-LCilUKNYfvI"
   },
   "source": [
    "## MXMNet: Molecular Mechanics-Driven Graph Neural Network with Multiplex Graph for Molecular Structures\n",
    "\n",
    "ABSTRACT: The prediction of physicochemical properties from molecular structures is a crucial\n",
    "task for artificial intelligence aided molecular design. A growing number of Graph\n",
    "Neural Networks (GNNs) have been proposed to address this challenge. These\n",
    "models improve their expressive power by incorporating auxiliary information in\n",
    "molecules while inevitably increase their computational complexity. In this work,\n",
    "we aim to design a GNN which is both powerful and efficient for molecule structures. To achieve such goal, we propose a molecular mechanics-driven approach\n",
    "by first representing each molecule as a two-layer multiplex graph, where one\n",
    "layer contains only local connections that mainly capture the covalent interactions and another layer contains global connections that can simulate non-covalent\n",
    "interactions. Then for each layer, a corresponding message passing module is proposed to balance the trade-off of expression power and computational complexity.\n",
    "Based on these two modules, we build Multiplex Molecular Graph Neural Network\n",
    "(MXMNet). When validated by the QM9 dataset for small molecules and PDBBind\n",
    "dataset for large protein-ligand complexes, MXMNet achieves superior results to\n",
    "the existing state-of-the-art models under restricted resources.\n",
    "\n",
    "Link to paper: https://arxiv.org/pdf/2011.07457v1.pdf\n",
    "\n",
    "Credit: https://github.com/zetayue/MXMNet"
   ]
  },
  {
   "cell_type": "code",
   "execution_count": 1,
   "metadata": {
    "colab": {
     "base_uri": "https://localhost:8080/"
    },
    "id": "vPFK53lQ3OI-",
    "outputId": "2c63343f-04db-460c-8c99-a29d0a87ba5c"
   },
   "outputs": [
    {
     "name": "stdout",
     "output_type": "stream",
     "text": [
      "Cloning into 'MXMNet'...\n",
      "remote: Enumerating objects: 39, done.\u001b[K\n",
      "remote: Counting objects: 100% (39/39), done.\u001b[K\n",
      "remote: Compressing objects: 100% (27/27), done.\u001b[K\n",
      "remote: Total 39 (delta 14), reused 35 (delta 10), pack-reused 0\u001b[K\n",
      "Unpacking objects: 100% (39/39), done.\n",
      "/content/MXMNet\n"
     ]
    }
   ],
   "source": [
    "# Clone the repository and cd into directory\n",
    "!git clone https://github.com/zetayue/MXMNet.git\n",
    "%cd MXMNet"
   ]
  },
  {
   "cell_type": "code",
   "execution_count": null,
   "metadata": {
    "id": "OcuxEThOYgl0"
   },
   "outputs": [],
   "source": [
    "# Install dependencies / requirements\n",
    "!pip install -r requirements.txt # remove torch-geometric/sparse/scatter/cluster\n",
    "\n",
    "# Reinstall torch-geometric/sparse/scatter/cluster\n",
    "!pip install torch-geometric==1.4.2 \\\n",
    "  torch-sparse==latest+cu101 \\\n",
    "  torch-scatter==latest+cu101 \\\n",
    "  torch-cluster==latest+cu101 \\\n",
    "  -f https://pytorch-geometric.com/whl/torch-1.4.0.html"
   ]
  },
  {
   "cell_type": "markdown",
   "metadata": {
    "id": "ZCzVoFnkZqQZ"
   },
   "source": [
    "### How to Run\n",
    "You can directly download, preprocess the QM9 dataset and train the model with"
   ]
  },
  {
   "cell_type": "code",
   "execution_count": null,
   "metadata": {
    "id": "SDnZ5y3MY7-T"
   },
   "outputs": [],
   "source": [
    "!python main.py"
   ]
  },
  {
   "cell_type": "markdown",
   "metadata": {
    "id": "a9QO7ALWZ4jB"
   },
   "source": [
    "Optional arguments:\n",
    "```\n",
    "  --gpu             GPU number\n",
    "  --seed            random seed\n",
    "  --epochs          number of epochs to train\n",
    "  --lr              initial learning rate\n",
    "  --wd              weight decay value\n",
    "  --n_layer         number of hidden layers\n",
    "  --dim             size of input hidden units\n",
    "  --batch_size      batch size\n",
    "  --target          index of target (0~11) for prediction on QM9\n",
    "  --cutoff          distance cutoff used in the global layer\n",
    "```\n",
    "The default model to be trained is the MXMNet (BS=128, d_g=5) by using `--batch_size=128 --cutoff=5.0`."
   ]
  }
 ],
 "metadata": {
  "accelerator": "GPU",
  "colab": {
   "collapsed_sections": [],
   "machine_shape": "hm",
   "name": "MXMNet.ipynb",
   "provenance": []
  },
  "kernelspec": {
   "display_name": "Python 3",
   "language": "python",
   "name": "python3"
  },
  "language_info": {
   "codemirror_mode": {
    "name": "ipython",
    "version": 3
   },
   "file_extension": ".py",
   "mimetype": "text/x-python",
   "name": "python",
   "nbconvert_exporter": "python",
   "pygments_lexer": "ipython3",
   "version": "3.8.10"
  }
 },
 "nbformat": 4,
 "nbformat_minor": 1
}
