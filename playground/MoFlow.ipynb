{
 "cells": [
  {
   "cell_type": "markdown",
   "metadata": {
    "id": "-Sm0tKrQnFm4"
   },
   "source": [
    "## MoFlow: An Invertible Flow Model for Generating Molecular Graphs\n",
    "\n",
    "ABSTRACT: Generating molecular graphs with desired chemical properties\n",
    "driven by deep graph generative models provides a very promising\n",
    "way to accelerate drug discovery process. Such graph generative\n",
    "models usually consist of two steps: learning latent representations\n",
    "and generation of molecular graphs. However, to generate novel\n",
    "and chemically-valid molecular graphs from latent representations\n",
    "is very challenging because of the chemical constraints and combinatorial complexity of molecular graphs. In this paper, we propose\n",
    "MoFlow, a flow-based graph generative model to learn invertible\n",
    "mappings between molecular graphs and their latent representations. To generate molecular graphs, our MoFlow first generates\n",
    "bonds (edges) through a Glow based model, then generates atoms\n",
    "(nodes) given bonds by a novel graph conditional flow, and finally\n",
    "assembles them into a chemically valid molecular graph with a\n",
    "posthoc validity correction. Our MoFlow has merits including exact\n",
    "and tractable likelihood training, efficient one-pass embedding and\n",
    "generation, chemical validity guarantees, 100% reconstruction of\n",
    "training data, and good generalization ability. We validate our model\n",
    "by four tasks: molecular graph generation and reconstruction, visualization of the continuous latent space, property optimization,\n",
    "and constrained property optimization. Our MoFlow achieves stateof-the-art performance, which implies its potential efficiency and\n",
    "effectiveness to explore large chemical space for drug discovery.\n",
    "\n",
    "Link to paper: https://arxiv.org/pdf/2006.10137v1.pdf\n",
    "\n",
    "Credit: https://github.com/calvin-zcx/moflow"
   ]
  },
  {
   "cell_type": "code",
   "execution_count": 1,
   "metadata": {
    "colab": {
     "base_uri": "https://localhost:8080/"
    },
    "id": "dPv5wY76m_iy",
    "outputId": "d0bbc0be-a110-4129-a636-7237ee401ea4"
   },
   "outputs": [
    {
     "name": "stdout",
     "output_type": "stream",
     "text": [
      "Cloning into 'moflow'...\n",
      "remote: Enumerating objects: 105, done.\u001b[K\n",
      "remote: Counting objects: 100% (105/105), done.\u001b[K\n",
      "remote: Compressing objects: 100% (86/86), done.\u001b[K\n",
      "remote: Total 105 (delta 32), reused 82 (delta 17), pack-reused 0\u001b[K\n",
      "Receiving objects: 100% (105/105), 32.86 MiB | 12.29 MiB/s, done.\n",
      "Resolving deltas: 100% (32/32), done.\n",
      "/content/moflow\n"
     ]
    }
   ],
   "source": [
    "# Clone the repository and cd into directory\n",
    "!git clone https://github.com/calvin-zcx/moflow.git\n",
    "%cd moflow"
   ]
  },
  {
   "cell_type": "code",
   "execution_count": null,
   "metadata": {
    "id": "7wxwXawZndlH"
   },
   "outputs": [],
   "source": [
    "# Install requirements / dependencies \n",
    "!pip install orderedset tabulate networkx cairosvg\n",
    "\n",
    "# Install RDKit \n",
    "!pip install rdkit-pypi==2021.3.1.5"
   ]
  },
  {
   "cell_type": "markdown",
   "metadata": {
    "id": "1Cyr3PSJn_j7"
   },
   "source": [
    "### 1. Data Preprocessing\n",
    "\n",
    "To generate molecular graphs from SMILES strings\n"
   ]
  },
  {
   "cell_type": "code",
   "execution_count": 4,
   "metadata": {
    "colab": {
     "base_uri": "https://localhost:8080/"
    },
    "id": "ppNQI4g2nzsm",
    "outputId": "1c97b201-dcf2-4bd0-c575-c6bc6858d345"
   },
   "outputs": [
    {
     "name": "stdout",
     "output_type": "stream",
     "text": [
      "/content/moflow/data\n",
      "args {'data_name': 'qm9', 'data_type': 'relgcn'}\n",
      "Preprocessing qm9 data:\n",
      "100% 133885/133885 [01:33<00:00, 1437.68it/s]\n",
      "Save ./qm9_relgcn_kekulized_ggnp.npz done.\n",
      "Total time: 00:01:34\n",
      "args {'data_name': 'zinc250k', 'data_type': 'relgcn'}\n",
      "Preprocessing zinc250k data\n",
      "100% 249455/249455 [04:17<00:00, 967.34it/s] \n",
      "tcmalloc: large alloc 5763416064 bytes == 0x56220dfc6000 @  0x7f21909701e7 0x7f218e53046e 0x7f218e580c7b 0x7f218e583e83 0x7f218e58407b 0x7f218e625761 0x562093efad54 0x562093efaa50 0x562093f6f105 0x562093f694ae 0x562093efc3ea 0x562093f6e7f0 0x562093f697ad 0x562093efc3ea 0x562093f6b32a 0x562093f694ae 0x562093f691b3 0x562094033182 0x5620940334fd 0x5620940333a6 0x56209400a723 0x56209400a3cc 0x7f218f75abf7 0x56209400a2aa\n",
      "Save ./zinc250k_relgcn_kekulized_ggnp.npz done.\n",
      "Total time: 00:05:05\n",
      "/content/moflow\n"
     ]
    }
   ],
   "source": [
    "%cd data\n",
    "!python data_preprocess.py --data_name qm9\n",
    "!python data_preprocess.py --data_name zinc250k"
   ]
  },
  {
   "cell_type": "markdown",
   "metadata": {
    "id": "nwiDr9g6oONg"
   },
   "source": [
    "### 2. Model Training\n",
    "\n",
    "<b>Training model for QM9 dataset:</b>"
   ]
  },
  {
   "cell_type": "code",
   "execution_count": null,
   "metadata": {
    "id": "CpbFhjxwoKM_"
   },
   "outputs": [],
   "source": [
    "%cd moflow/mflow\n",
    "!python train_model.py --data_name qm9 --batch_size 256 --max_epochs 200 --gpu 1 --debug True --save_dir=results/qm9_64gnn_128-64lin_1-1mask_0d6noise_convlu1 --b_n_flow 10 --b_hidden_ch 128,128 --a_n_flow 27 --a_hidden_gnn 64 --a_hidden_lin 128,64 --mask_row_size_list 1 --mask_row_stride_list 1 --noise_scale 0.6 --b_conv_lu 1  2>&1 | tee qm9_64gnn_128-64lin_1-1mask_0d6noise_convlu1.log"
   ]
  },
  {
   "cell_type": "markdown",
   "metadata": {
    "id": "7sEYlsESob6V"
   },
   "source": [
    "<b>Training model for zinc250k dataset:</b>"
   ]
  },
  {
   "cell_type": "code",
   "execution_count": null,
   "metadata": {
    "id": "VXrOfiFioeKQ"
   },
   "outputs": [],
   "source": [
    "%cd moflow/mflow\n",
    "!python train_model.py --data_name zinc250k --batch_size 256 --max_epochs 200 --gpu 1 --debug True --save_dir=results/zinc250k_512t2cnn_256gnn_512-64lin_10flow_19fold_convlu2_38af-1-1mask --b_n_flow 10 --b_hidden_ch 512,512 --a_n_flow 38 --a_hidden_gnn 256 --a_hidden_lin 512,64 --mask_row_size_list 1 --mask_row_stride_list 1 --noise_scale 0.6 --b_conv_lu 2 2>&1 | tee zinc250k_512t2cnn_256gnn_512-64lin_10flow_19fold_convlu2_38af-1-1mask.log"
   ]
  },
  {
   "cell_type": "markdown",
   "metadata": {
    "id": "rCZiNZn3ou4B"
   },
   "source": [
    "Or downloading and  using our trained models in \n",
    "```\n",
    "https://drive.google.com/drive/folders/1runxQnF3K_VzzJeWQZUH8VRazAGjZFNF \n",
    "```"
   ]
  },
  {
   "cell_type": "markdown",
   "metadata": {
    "id": "1LxjfJ7ao1pI"
   },
   "source": [
    "### 3. Model Testing\n",
    "\n",
    "#### 3.1-Experiment: reconstruction\n",
    "  \n",
    "##### To reconstruct QM9 dataset:"
   ]
  },
  {
   "cell_type": "code",
   "execution_count": null,
   "metadata": {
    "id": "bJtUlJhlovK0"
   },
   "outputs": [],
   "source": [
    "%cd moflow/mflow\n",
    "!python generate.py --model_dir results/qm9_64gnn_128-64lin_1-1mask_0d6noise_convlu1 -snapshot model_snapshot_epoch_200 --gpu 1 --data_name qm9 --hyperparams-path moflow-params.json --batch-size 256 --reconstruct 2>&1 | tee qm9_reconstruct_results.txt"
   ]
  },
  {
   "cell_type": "markdown",
   "metadata": {
    "id": "qEOxwVxVpHXp"
   },
   "source": [
    "```\n",
    "### Results\n",
    "Tips:  results can be printed & dumped to a .txt file by  \"2>&1 | tee qm9_reconstruct_results.txt\"\n",
    "133885 in total, 120803  training data, 13082  testing data, 256 batchsize, train/batchsize 471.88671875\n",
    "...\n",
    "iter/total: 468/472, reconstruction_rate:1.0\n",
    "iter/total: 469/472, reconstruction_rate:1.0\n",
    "iter/total: 470/472, reconstruction_rate:1.0\n",
    "iter/total: 471/472, reconstruction_rate:1.0\n",
    "reconstruction_rate for all the train data:1.0 in 120803\n",
    "Invertible model! 100% reconstruction!\n",
    "```"
   ]
  },
  {
   "cell_type": "markdown",
   "metadata": {
    "id": "5w_sJoHQph0T"
   },
   "source": [
    "##### To reconstruct zinc250k dataset:"
   ]
  },
  {
   "cell_type": "code",
   "execution_count": null,
   "metadata": {
    "id": "KPQLS4IspIok"
   },
   "outputs": [],
   "source": [
    "%cd moflow/mflow\n",
    "python generate.py --model_dir results/zinc250k_512t2cnn_256gnn_512-64lin_10flow_19fold_convlu2_38af-1-1mask -snapshot model_snapshot_epoch_200 --gpu 1 --data_name zinc250k --hyperparams-path moflow-params.json --batch-size 256 --reconstruct 2>&1 | tee zinc250k_reconstruct_results.txt"
   ]
  },
  {
   "cell_type": "markdown",
   "metadata": {
    "id": "De_5PpH6p2DX"
   },
   "source": [
    "###### Results:\n",
    "```\n",
    "249455 in total, 224568  training data, 24887  testing data, 256 batchsize, train/batchsize 877.21875\n",
    "...\n",
    "iter/total: 877/878, reconstruction_rate:1.0\n",
    "reconstruction_rate for all the train data:1.0 in 224568\n",
    "Invertible model! 100% reconstruction!\n",
    "```"
   ]
  },
  {
   "cell_type": "markdown",
   "metadata": {
    "id": "R6VHVGByp9NO"
   },
   "source": [
    "#### 3.2-Experiment: Random generation  \n",
    "\n",
    "##### Random Generation from sampling from latent space, QM9 model \n",
    "\n",
    "10000 samples * 5 times:"
   ]
  },
  {
   "cell_type": "code",
   "execution_count": null,
   "metadata": {
    "id": "mjgwkxIup3Po"
   },
   "outputs": [],
   "source": [
    "!python generate.py --model_dir results/qm9_64gnn_128-64lin_1-1mask_0d6noise_convlu1 -snapshot model_snapshot_epoch_200 --gpu 1 --data_name qm9 --hyperparams-path moflow-params.json --batch-size 10000 --temperature 0.85 --delta 0.05 --n_experiments 5 --save_fig false --correct_validity true 2>&1 | tee qm9_random_generation.log"
   ]
  },
  {
   "cell_type": "markdown",
   "metadata": {
    "id": "50l1g6T4smu8"
   },
   "source": [
    "#####  Results\n",
    "```\n",
    "validity: mean=100.00%, sd=0.00%, vals=[100.0, 100.0, 100.0, 100.0, 100.0]\n",
    "novelty: mean=98.05%, sd=0.12%, vals=[98.07731024763439, 98.11472930738985, 97.88434414668548, 97.95239055880573, 98.21877830331086]\n",
    "uniqueness: mean=99.26%, sd=0.09%, vals=[99.33999999999999, 99.19, 99.26, 99.14, 99.37]\n",
    "abs_novelty: mean=97.32%, sd=0.18%, vals=[97.43, 97.32, 97.16, 97.11, 97.6]\n",
    "abs_uniqueness: mean=99.26%, sd=0.09%, vals=[99.33999999999999, 99.19, 99.26, 99.14, 99.37]\n",
    "Task random generation done! Time 185.09 seconds, Data: Tue Sep 29 11:20:15 2020\n",
    "# Above is just one random result. Tuning:\n",
    "    --batch-size for the number of  mols to be generated\n",
    "    --temperature for different generation results, \n",
    "    --correct_validity false for results without correction\n",
    "    --save_fig true for figures of generated mols, set batch-size a resoanble number for dump figures \n",
    "# more details see parameter configuration in generate.py\n",
    "# Output details are in qm9_random_generation.log\n",
    "```"
   ]
  },
  {
   "cell_type": "markdown",
   "metadata": {
    "id": "wKjUiKQVsvbn"
   },
   "source": [
    "##### Random Generation from sampling from latent space, zinc250k model\n",
    "\n",
    "10000 samples * 5 times:"
   ]
  },
  {
   "cell_type": "code",
   "execution_count": null,
   "metadata": {
    "id": "QYN4exmvsn-Z"
   },
   "outputs": [],
   "source": [
    "!python generate.py --model_dir results/zinc250k_512t2cnn_256gnn_512-64lin_10flow_19fold_convlu2_38af-1-1mask -snapshot model_snapshot_epoch_200 --gpu 1 --data_name zinc250k --hyperparams-path moflow-params.json --temperature 0.85 --batch-size 10000 --n_experiments 5 --save_fig false --correct_validity true 2>&1 | tee zinc250k_random_generation.log"
   ]
  },
  {
   "cell_type": "markdown",
   "metadata": {
    "id": "U_edr0mPtCSa"
   },
   "source": [
    "#####  Results\n",
    "```\n",
    "validity: mean=100.00%, sd=0.00%, vals=[100.0, 100.0, 99.99, 100.0, 100.0]\n",
    "novelty: mean=100.00%, sd=0.00%, vals=[100.0, 100.0, 100.0, 100.0, 100.0]\n",
    "uniqueness: mean=99.99%, sd=0.01%, vals=[100.0, 99.98, 100.0, 99.99, 99.99]\n",
    "abs_novelty: mean=99.99%, sd=0.01%, vals=[100.0, 99.98, 99.99, 99.99, 99.99]\n",
    "abs_uniqueness: mean=99.99%, sd=0.01%, vals=[100.0, 99.98, 99.99, 99.99, 99.99]\n",
    "Task1 random generation done! Time 537.13 seconds, Data: Tue Sep 29 11:36:12 2020\n",
    "# Above is just one random result. Tuning:\n",
    "    --batch-size for the number of  mols to be generated\n",
    "    --temperature for different generation results, \n",
    "    --correct_validity false for results without correction\n",
    "    --save_fig true for figures of generated mols, set batch-size a resoanble number for dump figures \n",
    "# more details see parameter configuration in generate.py\n",
    "# Output details are in qm9_random_generation.log\n",
    "```"
   ]
  },
  {
   "cell_type": "markdown",
   "metadata": {
    "id": "dfFJTFH1tGUo"
   },
   "source": [
    "#### 3.3-Experiment: Interpolation generation & visualization\n",
    "\n",
    "##### Interpolation in the latent space, QM9 model interpolation between 2 molecules (molecular graphs)"
   ]
  },
  {
   "cell_type": "code",
   "execution_count": null,
   "metadata": {
    "id": "s0k6wX-stCs_"
   },
   "outputs": [],
   "source": [
    "!python generate.py --model_dir results/qm9_64gnn_128-64lin_1-1mask_0d6noise_convlu1 -snapshot model_snapshot_epoch_200 --gpu 1 --data_name qm9 --hyperparams-path moflow-params.json --batch-size 1000 --temperature 0.65 --int2point --inter_times 50 --correct_validity true 2>&1 | tee qm9_visualization_int2point.log"
   ]
  },
  {
   "cell_type": "markdown",
   "metadata": {
    "id": "Rbho8cv1tT7C"
   },
   "source": [
    "Interpolation in a grid of molecules (molecular graphs)"
   ]
  },
  {
   "cell_type": "code",
   "execution_count": null,
   "metadata": {
    "id": "896x5gfJtQit"
   },
   "outputs": [],
   "source": [
    "!python generate.py --model_dir results/qm9_64gnn_128-64lin_1-1mask_0d6noise_convlu1 -snapshot model_snapshot_epoch_200 --gpu 1 --data_name qm9 --hyperparams-path moflow-params.json --batch-size 1000 --temperature 0.65 --delta 5 --intgrid --inter_times 40 --correct_validity true 2>&1 | tee tee qm9_visualization_intgrid.log"
   ]
  },
  {
   "cell_type": "markdown",
   "metadata": {
    "id": "827lRfAjtgqr"
   },
   "source": [
    "##### Interpolation in the latent space, zinc250k model interpolation between 2 molecules (molecular graphs)"
   ]
  },
  {
   "cell_type": "code",
   "execution_count": null,
   "metadata": {
    "id": "UC25GKW2th2u"
   },
   "outputs": [],
   "source": [
    "!python generate.py --model_dir results/zinc250k_512t2cnn_256gnn_512-64lin_10flow_19fold_convlu2_38af-1-1mask -snapshot model_snapshot_epoch_200 --gpu 1 --data_name zinc250k --hyperparams-path moflow-params.json --batch-size 1000 --temperature 0.8 --delta 0.5 --n_experiments 0 --correct_validity true --int2point --inter_times 10 2>&1 | tee zinc250k_visualization_int2point.log"
   ]
  },
  {
   "cell_type": "markdown",
   "metadata": {
    "id": "bmBIsogfuFTy"
   },
   "source": [
    "Interpolation in a grid of molecules (molecular graphs)"
   ]
  },
  {
   "cell_type": "code",
   "execution_count": null,
   "metadata": {
    "id": "EJJ86VHHuGTP"
   },
   "outputs": [],
   "source": [
    "!python generate.py --model_dir results/zinc250k_512t2cnn_256gnn_512-64lin_10flow_19fold_convlu2_38af-1-1mask -snapshot model_snapshot_epoch_200 --gpu 1 --data_name zinc250k --hyperparams-path moflow-params.json --batch-size 1000 --temperature 0.8 --delta 5 --n_experiments 0 --correct_validity true --intgrid --inter_times 2 2>&1 | tee zinc250k_visualization_intgrid.log"
   ]
  },
  {
   "cell_type": "markdown",
   "metadata": {
    "id": "a4DtOMw4u0xg"
   },
   "source": [
    "#### 3.4-Experiment: Molecular optimization & constrained optimization\n",
    "##### Optimizing zinc250k w.r.t QED property\n",
    "##### Training an additional MLP from latent space to QED property"
   ]
  },
  {
   "cell_type": "code",
   "execution_count": null,
   "metadata": {
    "id": "VonKclh_uSTD"
   },
   "outputs": [],
   "source": [
    "!python optimize_property.py -snapshot model_snapshot_epoch_200 --hyperparams_path moflow-params.json --batch_size 256 --model_dir results/zinc250k_512t2cnn_256gnn_512-64lin_10flow_19fold_convlu2_38af-1-1mask --gpu 1 --max_epochs 3 --weight_decay 1e-3 --data_name zinc250k --hidden 16 --temperature 1.0 --property_name qed 2>&1 | tee training_optimize_zinc250k_qed.log"
   ]
  },
  {
   "cell_type": "markdown",
   "metadata": {
    "id": "DuWKK1XSvCdO"
   },
   "source": [
    "```\n",
    "# Output: a molecular property prediction model for optimization, say named as qed_model.pt\n",
    "# e.g. saving qed regression model to: results/zinc250k_512t2cnn_256gnn_512-64lin_10flow_19fold_convlu2_38af-1-1mask/qed_model.pt\n",
    "# Train and save model done! Time 477.87 seconds \n",
    "# Can tune:\n",
    "#         --max_epochs 3  \n",
    "#         --weight_decay 1e-3  \n",
    "#         --hidden 16\n",
    "# etc.\n",
    "```"
   ]
  },
  {
   "cell_type": "markdown",
   "metadata": {
    "id": "ZlcFYc6Jvuwk"
   },
   "source": [
    "##### Or downloading and  using our trained models in \n",
    "```\n",
    "https://drive.google.com/drive/folders/1runxQnF3K_VzzJeWQZUH8VRazAGjZFNF \n",
    "```"
   ]
  },
  {
   "cell_type": "markdown",
   "metadata": {
    "id": "cAaCRlWzvSEe"
   },
   "source": [
    "##### To optimize existing molecules to get novel molecules with optimized plogp scores and constrained similarity"
   ]
  },
  {
   "cell_type": "code",
   "execution_count": null,
   "metadata": {
    "id": "EStBfzRIvC0K"
   },
   "outputs": [],
   "source": [
    "!python optimize_property.py -snapshot model_snapshot_epoch_200 --hyperparams_path moflow-params.json --batch_size 256 --model_dir results/zinc250k_512t2cnn_256gnn_512-64lin_10flow_19fold_convlu2_38af-1-1mask --gpu 1 --data_name zinc250k --property_name qed --topk 2000 --property_model_path qed_model.pt --debug false --topscore 2>&1 | tee zinc250k_top_qed_optimized.log"
   ]
  },
  {
   "cell_type": "markdown",
   "metadata": {
    "id": "6VCSBjpEv9An"
   },
   "source": [
    "```\n",
    "# Input: --property_model_path qed_model.pt is the regression model\n",
    "\n",
    "# Output: dump a ranked list of generated optimized and novel molecules w.r.t qed\n",
    "```"
   ]
  },
  {
   "cell_type": "markdown",
   "metadata": {
    "id": "FkXMBF6JwNjn"
   },
   "source": [
    "##### Constrained Optimizing zinc250k w.r.t plogp(or qed) + similarity property to train an additional MLP from latent space to plogp property"
   ]
  },
  {
   "cell_type": "code",
   "execution_count": null,
   "metadata": {
    "id": "34LRIW11wb5p"
   },
   "outputs": [],
   "source": [
    "!python optimize_property.py -snapshot model_snapshot_epoch_200 --hyperparams_path moflow-params.json --batch_size 256 --model_dir results/zinc250k_512t2cnn_256gnn_512-64lin_10flow_19fold_convlu2_38af-1-1mask --gpu 1 --max_epochs 3 --weight_decay 1e-2 --data_name zinc250k --hidden 16 --temperature 1.0 --property_name plogp 2>&1 | tee training_optimize_zinc250k_plogp.log"
   ]
  },
  {
   "cell_type": "markdown",
   "metadata": {
    "id": "JlBlaxR3wmIq"
   },
   "source": [
    "```\n",
    "# Output: a molecular property prediction model for optimization, say named as plogp_model.pt\n",
    "# e.g. saving plogp  regression model to: results/zinc250k_512t2cnn_256gnn_512-64lin_10flow_19fold_convlu2_38af-1-1mask/plogp_model.pt\n",
    "# Train and save model done! Time 473.74 seconds\n",
    "# Can tune:\n",
    "#         --max_epochs 3  \n",
    "#         --weight_decay 1e-2  \n",
    "#        --hidden 16\n",
    "#etc.\n",
    "```\n"
   ]
  },
  {
   "cell_type": "markdown",
   "metadata": {
    "id": "Bm354WC6w1Rf"
   },
   "source": [
    "##### To optimize existing molecules to get novel molecules with optimized plogp scores and constrained similarity"
   ]
  },
  {
   "cell_type": "code",
   "execution_count": null,
   "metadata": {
    "id": "G0SLPc1iv_Uw"
   },
   "outputs": [],
   "source": [
    "!python optimize_property.py -snapshot model_snapshot_epoch_200 --hyperparams_path moflow-params.json --batch_size 256 --model_dir results/zinc250k_512t2cnn_256gnn_512-64lin_10flow_19fold_convlu2_38af-1-1mask --gpu 1 --data_name zinc250k --property_name plogp --topk 800 --property_model_path qed_model.pt --consopt --sim_cutoff 0 2>&1 | tee  zinc250k_constrain_optimize_plogp.log"
   ]
  },
  {
   "cell_type": "markdown",
   "metadata": {
    "id": "bxWVseI6xDo9"
   },
   "source": [
    "```\n",
    "# Input: --property_model_path qed_model.pt or plogp_model.pt is the regression model\n",
    "         --sim_cutoff 0 (or 0.2, 0.4 etc for similarity)\n",
    "         --topk 800 (choose first 800 molecules with worset property values for improving)\n",
    "# Output: \n",
    "# Using qed_model.pt for optimizing plogp with \n",
    "# Because qed and plogp have some correlations, here we use both qed/plogp model for 2 optimization tasks\n",
    "# --sim_cutoff 0:\n",
    "#   similarity: 0.300610 +/- 0.201674 \n",
    "#   Improvement:  8.612461 +/- 5.436995\n",
    "#   success rate: 0.98875\n",
    "# --sim_cutoff 0.2:\n",
    "#   similarity:  0.434700 +/-  0.196490 \n",
    "#   Improvement:  7.057115 +/-  5.041250\n",
    "#   success rate: 0.9675\n",
    "# --sim_cutoff 0.4:\n",
    "#   similarity:  0.608440 +/-   0.177670 \n",
    "#   Improvement:  4.712418 +/-   4.549682\n",
    "#   success rate: 0.8575\n",
    "# --sim_cutoff 0.6:\n",
    "#   similarity:   0.792550 +/- 0.144577   \n",
    "#   Improvement:   2.095266 +/-   2.858545  \n",
    "#   success rate:  0.5825\n",
    "\n",
    "# Using plogp_model.pt for optimizing plogp with \n",
    "# --sim_cutoff 0:\n",
    "#    similarity:  0.260503 +/- 0.195945\n",
    "#   Improvement:  9.238813 +/-  6.279859\n",
    "#   success rate: 0.9925\n",
    "# --sim_cutoff 0.2:\n",
    "#    similarity:  0.425541 +/- 0.198020\n",
    "#    Improvement:  7.246221 +/-  5.325543\n",
    "#    success rate: 0.9575\n",
    "# --sim_cutoff 0.4:\n",
    "#    similarity:   0.625976 +/- 0.189293\n",
    "#    Improvement:  4.504411 +/-  4.712031\n",
    "#    success rate: 0.8425\n",
    "# --sim_cutoff 0.6:\n",
    "#    similarity:   0.810805 +/- 0.146080\n",
    "#    Improvement:  1.820525 +/-  2.595302\n",
    "#    success rate: 0.565\n",
    "```"
   ]
  }
 ],
 "metadata": {
  "colab": {
   "collapsed_sections": [],
   "name": "MoFlow.ipynb",
   "provenance": []
  },
  "kernelspec": {
   "display_name": "Python 3",
   "language": "python",
   "name": "python3"
  },
  "language_info": {
   "codemirror_mode": {
    "name": "ipython",
    "version": 3
   },
   "file_extension": ".py",
   "mimetype": "text/x-python",
   "name": "python",
   "nbconvert_exporter": "python",
   "pygments_lexer": "ipython3",
   "version": "3.8.10"
  }
 },
 "nbformat": 4,
 "nbformat_minor": 1
}
