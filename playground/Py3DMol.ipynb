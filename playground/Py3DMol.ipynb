{
 "cells": [
  {
   "cell_type": "markdown",
   "id": "323aeee5",
   "metadata": {},
   "source": [
    "# Py3DMol\n",
    "\n",
    "Py3DMol is a python package for dependency-free molecular visualization in iPython notebooks. Objects from MDAnalysis, MDTraj, OpenBabel, and CClib can be visualized and manipulated directly in a notebook notebook. The backend visualization library, 3DMol.js, is included, so no additional libraries are necessary - visualizations will function in any modern browser using javascript and WebGL.\n",
    "\n",
    "Credit: https://github.com/avirshup/py3dmol and Thorsten Gressling's <u>Data Science In Chemistry: Artifical Intelligence, Big Data, Chemometrics and Quantum Computing with Jupyter</u>"
   ]
  },
  {
   "cell_type": "code",
   "execution_count": null,
   "id": "68e1b597",
   "metadata": {},
   "outputs": [],
   "source": [
    "# Install py3Dmol with pip\n",
    "!pip install py3Dmol\n",
    "\n",
    "# Install RDKit\n",
    "!pip install rdkit-pypi==2021.3.1.5"
   ]
  },
  {
   "cell_type": "code",
   "execution_count": 2,
   "id": "43c3c8eb",
   "metadata": {},
   "outputs": [
    {
     "data": {
      "application/3dmoljs_load.v0": "<div id=\"3dmolviewer_16210988527966049\"  style=\"position: relative; width: 640px; height: 480px\">\n        <p id=\"3dmolwarning_16210988527966049\" style=\"background-color:#ffcccc;color:black\">You appear to be running in JupyterLab (or JavaScript failed to load for some other reason).  You need to install the 3dmol extension: <br>\n        <tt>jupyter labextension install jupyterlab_3dmol</tt></p>\n        </div>\n<script>\n\nvar loadScriptAsync = function(uri){\n  return new Promise((resolve, reject) => {\n    var tag = document.createElement('script');\n    tag.src = uri;\n    tag.async = true;\n    tag.onload = () => {\n      resolve();\n    };\n  var firstScriptTag = document.getElementsByTagName('script')[0];\n  firstScriptTag.parentNode.insertBefore(tag, firstScriptTag);\n});\n};\n\nif(typeof $3Dmolpromise === 'undefined') {\n$3Dmolpromise = null;\n  $3Dmolpromise = loadScriptAsync('https://3dmol.org/build/3Dmol.js');\n}\n\nvar viewer_16210988527966049 = null;\nvar warn = document.getElementById(\"3dmolwarning_16210988527966049\");\nif(warn) {\n    warn.parentNode.removeChild(warn);\n}\n$3Dmolpromise.then(function() {\nviewer_16210988527966049 = $3Dmol.createViewer($(\"#3dmolviewer_16210988527966049\"),{backgroundColor:\"white\"});\n$3Dmol.download(\"cid:702\", viewer_16210988527966049, {}, function() {\nviewer_16210988527966049.zoomTo();\n\tviewer_16210988527966049.setStyle({\"stick\": {\"radius\": 0.1}, \"sphere\": {\"scale\": 0.25}});\nviewer_16210988527966049.render();\n})\n});\n</script>",
      "text/html": [
       "<div id=\"3dmolviewer_16210988527966049\"  style=\"position: relative; width: 640px; height: 480px\">\n",
       "        <p id=\"3dmolwarning_16210988527966049\" style=\"background-color:#ffcccc;color:black\">You appear to be running in JupyterLab (or JavaScript failed to load for some other reason).  You need to install the 3dmol extension: <br>\n",
       "        <tt>jupyter labextension install jupyterlab_3dmol</tt></p>\n",
       "        </div>\n",
       "<script>\n",
       "\n",
       "var loadScriptAsync = function(uri){\n",
       "  return new Promise((resolve, reject) => {\n",
       "    var tag = document.createElement('script');\n",
       "    tag.src = uri;\n",
       "    tag.async = true;\n",
       "    tag.onload = () => {\n",
       "      resolve();\n",
       "    };\n",
       "  var firstScriptTag = document.getElementsByTagName('script')[0];\n",
       "  firstScriptTag.parentNode.insertBefore(tag, firstScriptTag);\n",
       "});\n",
       "};\n",
       "\n",
       "if(typeof $3Dmolpromise === 'undefined') {\n",
       "$3Dmolpromise = null;\n",
       "  $3Dmolpromise = loadScriptAsync('https://3dmol.org/build/3Dmol.js');\n",
       "}\n",
       "\n",
       "var viewer_16210988527966049 = null;\n",
       "var warn = document.getElementById(\"3dmolwarning_16210988527966049\");\n",
       "if(warn) {\n",
       "    warn.parentNode.removeChild(warn);\n",
       "}\n",
       "$3Dmolpromise.then(function() {\n",
       "viewer_16210988527966049 = $3Dmol.createViewer($(\"#3dmolviewer_16210988527966049\"),{backgroundColor:\"white\"});\n",
       "$3Dmol.download(\"cid:702\", viewer_16210988527966049, {}, function() {\n",
       "viewer_16210988527966049.zoomTo();\n",
       "\tviewer_16210988527966049.setStyle({\"stick\": {\"radius\": 0.1}, \"sphere\": {\"scale\": 0.25}});\n",
       "viewer_16210988527966049.render();\n",
       "})\n",
       "});\n",
       "</script>"
      ]
     },
     "metadata": {},
     "output_type": "display_data"
    }
   ],
   "source": [
    "import py3Dmol\n",
    "\n",
    "p = py3Dmol.view(query='cid:702')\n",
    "p.setStyle({'stick': {'radius': .1}, 'sphere': {'scale': 0.25}})\n",
    "p.show();"
   ]
  },
  {
   "cell_type": "code",
   "execution_count": 6,
   "id": "35dc763d",
   "metadata": {},
   "outputs": [
    {
     "name": "stderr",
     "output_type": "stream",
     "text": [
      "RDKit WARNING: [12:16:07] Molecule does not have explicit Hs. Consider calling AddHs()\n"
     ]
    },
    {
     "data": {
      "text/plain": [
       "<rdkit.rdBase._vecti at 0x145fb2f20>"
      ]
     },
     "execution_count": 6,
     "metadata": {},
     "output_type": "execute_result"
    }
   ],
   "source": [
    "from rdkit import Chem\n",
    "from rdkit.Chem import AllChem\n",
    "\n",
    "m = Chem.MolFromSmiles('COc1ccc2c(c1)[nH]c(n2)[S@@](=O)Cc1ncc(c(c1C)OC)C')\n",
    "AllChem.EmbedMultipleConfs(m, useExpTorsionAnglePrefs=True, useBasicKnowledge=True)"
   ]
  },
  {
   "cell_type": "code",
   "execution_count": 7,
   "id": "ada65809",
   "metadata": {},
   "outputs": [
    {
     "data": {
      "application/3dmoljs_load.v0": "<div id=\"3dmolviewer_1621099034132097\"  style=\"position: relative; width: 800px; height: 800px\">\n        <p id=\"3dmolwarning_1621099034132097\" style=\"background-color:#ffcccc;color:black\">You appear to be running in JupyterLab (or JavaScript failed to load for some other reason).  You need to install the 3dmol extension: <br>\n        <tt>jupyter labextension install jupyterlab_3dmol</tt></p>\n        </div>\n<script>\n\nvar loadScriptAsync = function(uri){\n  return new Promise((resolve, reject) => {\n    var tag = document.createElement('script');\n    tag.src = uri;\n    tag.async = true;\n    tag.onload = () => {\n      resolve();\n    };\n  var firstScriptTag = document.getElementsByTagName('script')[0];\n  firstScriptTag.parentNode.insertBefore(tag, firstScriptTag);\n});\n};\n\nif(typeof $3Dmolpromise === 'undefined') {\n$3Dmolpromise = null;\n  $3Dmolpromise = loadScriptAsync('https://3dmol.org/build/3Dmol.js');\n}\n\nvar viewer_1621099034132097 = null;\nvar warn = document.getElementById(\"3dmolwarning_1621099034132097\");\nif(warn) {\n    warn.parentNode.removeChild(warn);\n}\n$3Dmolpromise.then(function() {\nviewer_1621099034132097 = $3Dmol.createViewer($(\"#3dmolviewer_1621099034132097\"),{backgroundColor:\"white\"});\nviewer_1621099034132097.zoomTo();\n\tviewer_1621099034132097.addModel(\"\\n     RDKit          3D\\n\\n 24 26  0  0  0  0  0  0  0  0999 V2000\\n    4.8161   -0.0173   -4.3231 C   0  0  0  0  0  0  0  0  0  0  0  0\\n    3.9408   -0.6884   -3.4448 O   0  0  0  0  0  0  0  0  0  0  0  0\\n    3.5291   -0.1503   -2.2334 C   0  0  0  0  0  0  0  0  0  0  0  0\\n    3.9341    1.0855   -1.7745 C   0  0  0  0  0  0  0  0  0  0  0  0\\n    3.5044    1.5881   -0.5654 C   0  0  0  0  0  0  0  0  0  0  0  0\\n    2.6464    0.8690    0.2383 C   0  0  0  0  0  0  0  0  0  0  0  0\\n    2.2413   -0.3693   -0.2227 C   0  0  0  0  0  0  0  0  0  0  0  0\\n    2.6736   -0.8671   -1.4318 C   0  0  0  0  0  0  0  0  0  0  0  0\\n    1.4247   -0.8637    0.7199 N   0  0  0  0  0  0  0  0  0  0  0  0\\n    1.3154    0.0221    1.7362 C   0  0  0  0  0  0  0  0  0  0  0  0\\n    2.0637    1.0738    1.4323 N   0  0  0  0  0  0  0  0  0  0  0  0\\n    0.2928   -0.3170    3.1748 S   0  0  0  0  0  4  0  0  0  0  0  0\\n    0.8217    0.7119    4.2008 O   0  0  0  0  0  0  0  0  0  0  0  0\\n   -1.3263    0.4040    2.7290 C   0  0  0  0  0  0  0  0  0  0  0  0\\n   -1.8683   -0.2346    1.5105 C   0  0  0  0  0  0  0  0  0  0  0  0\\n   -1.2579   -1.2138    0.8262 N   0  0  0  0  0  0  0  0  0  0  0  0\\n   -1.7723   -1.7807   -0.2791 C   0  0  0  0  0  0  0  0  0  0  0  0\\n   -2.9882   -1.3770   -0.7850 C   0  0  0  0  0  0  0  0  0  0  0  0\\n   -3.6563   -0.3727   -0.1174 C   0  0  0  0  0  0  0  0  0  0  0  0\\n   -3.0889    0.1816    1.0160 C   0  0  0  0  0  0  0  0  0  0  0  0\\n   -3.8061    1.2632    1.7367 C   0  0  0  0  0  0  0  0  0  0  0  0\\n   -4.8781    0.0534   -0.6010 O   0  0  0  0  0  0  0  0  0  0  0  0\\n   -4.9711    1.1027   -1.5390 C   0  0  0  0  0  0  0  0  0  0  0  0\\n   -3.5908   -1.9779   -2.0035 C   0  0  0  0  0  0  0  0  0  0  0  0\\n  1  2  1  0\\n  2  3  1  0\\n  3  4  2  0\\n  4  5  1  0\\n  5  6  2  0\\n  6  7  1  0\\n  7  8  2  0\\n  7  9  1  0\\n  9 10  1  0\\n 10 11  2  0\\n 10 12  1  0\\n 12 13  2  0\\n 12 14  1  6\\n 14 15  1  0\\n 15 16  2  0\\n 16 17  1  0\\n 17 18  2  0\\n 18 19  1  0\\n 19 20  2  0\\n 20 21  1  0\\n 19 22  1  0\\n 22 23  1  0\\n 18 24  1  0\\n  8  3  1  0\\n 20 15  1  0\\n 11  6  1  0\\nM  END\\n\",\"sdf\");\n\tviewer_1621099034132097.setStyle({\"stick\": {}});\n\tviewer_1621099034132097.setBackgroundColor(\"0xeeeeee\");\n\tviewer_1621099034132097.zoomTo();\nviewer_1621099034132097.render();\n});\n</script>",
      "text/html": [
       "<div id=\"3dmolviewer_1621099034132097\"  style=\"position: relative; width: 800px; height: 800px\">\n",
       "        <p id=\"3dmolwarning_1621099034132097\" style=\"background-color:#ffcccc;color:black\">You appear to be running in JupyterLab (or JavaScript failed to load for some other reason).  You need to install the 3dmol extension: <br>\n",
       "        <tt>jupyter labextension install jupyterlab_3dmol</tt></p>\n",
       "        </div>\n",
       "<script>\n",
       "\n",
       "var loadScriptAsync = function(uri){\n",
       "  return new Promise((resolve, reject) => {\n",
       "    var tag = document.createElement('script');\n",
       "    tag.src = uri;\n",
       "    tag.async = true;\n",
       "    tag.onload = () => {\n",
       "      resolve();\n",
       "    };\n",
       "  var firstScriptTag = document.getElementsByTagName('script')[0];\n",
       "  firstScriptTag.parentNode.insertBefore(tag, firstScriptTag);\n",
       "});\n",
       "};\n",
       "\n",
       "if(typeof $3Dmolpromise === 'undefined') {\n",
       "$3Dmolpromise = null;\n",
       "  $3Dmolpromise = loadScriptAsync('https://3dmol.org/build/3Dmol.js');\n",
       "}\n",
       "\n",
       "var viewer_1621099034132097 = null;\n",
       "var warn = document.getElementById(\"3dmolwarning_1621099034132097\");\n",
       "if(warn) {\n",
       "    warn.parentNode.removeChild(warn);\n",
       "}\n",
       "$3Dmolpromise.then(function() {\n",
       "viewer_1621099034132097 = $3Dmol.createViewer($(\"#3dmolviewer_1621099034132097\"),{backgroundColor:\"white\"});\n",
       "viewer_1621099034132097.zoomTo();\n",
       "\tviewer_1621099034132097.addModel(\"\\n     RDKit          3D\\n\\n 24 26  0  0  0  0  0  0  0  0999 V2000\\n    4.8161   -0.0173   -4.3231 C   0  0  0  0  0  0  0  0  0  0  0  0\\n    3.9408   -0.6884   -3.4448 O   0  0  0  0  0  0  0  0  0  0  0  0\\n    3.5291   -0.1503   -2.2334 C   0  0  0  0  0  0  0  0  0  0  0  0\\n    3.9341    1.0855   -1.7745 C   0  0  0  0  0  0  0  0  0  0  0  0\\n    3.5044    1.5881   -0.5654 C   0  0  0  0  0  0  0  0  0  0  0  0\\n    2.6464    0.8690    0.2383 C   0  0  0  0  0  0  0  0  0  0  0  0\\n    2.2413   -0.3693   -0.2227 C   0  0  0  0  0  0  0  0  0  0  0  0\\n    2.6736   -0.8671   -1.4318 C   0  0  0  0  0  0  0  0  0  0  0  0\\n    1.4247   -0.8637    0.7199 N   0  0  0  0  0  0  0  0  0  0  0  0\\n    1.3154    0.0221    1.7362 C   0  0  0  0  0  0  0  0  0  0  0  0\\n    2.0637    1.0738    1.4323 N   0  0  0  0  0  0  0  0  0  0  0  0\\n    0.2928   -0.3170    3.1748 S   0  0  0  0  0  4  0  0  0  0  0  0\\n    0.8217    0.7119    4.2008 O   0  0  0  0  0  0  0  0  0  0  0  0\\n   -1.3263    0.4040    2.7290 C   0  0  0  0  0  0  0  0  0  0  0  0\\n   -1.8683   -0.2346    1.5105 C   0  0  0  0  0  0  0  0  0  0  0  0\\n   -1.2579   -1.2138    0.8262 N   0  0  0  0  0  0  0  0  0  0  0  0\\n   -1.7723   -1.7807   -0.2791 C   0  0  0  0  0  0  0  0  0  0  0  0\\n   -2.9882   -1.3770   -0.7850 C   0  0  0  0  0  0  0  0  0  0  0  0\\n   -3.6563   -0.3727   -0.1174 C   0  0  0  0  0  0  0  0  0  0  0  0\\n   -3.0889    0.1816    1.0160 C   0  0  0  0  0  0  0  0  0  0  0  0\\n   -3.8061    1.2632    1.7367 C   0  0  0  0  0  0  0  0  0  0  0  0\\n   -4.8781    0.0534   -0.6010 O   0  0  0  0  0  0  0  0  0  0  0  0\\n   -4.9711    1.1027   -1.5390 C   0  0  0  0  0  0  0  0  0  0  0  0\\n   -3.5908   -1.9779   -2.0035 C   0  0  0  0  0  0  0  0  0  0  0  0\\n  1  2  1  0\\n  2  3  1  0\\n  3  4  2  0\\n  4  5  1  0\\n  5  6  2  0\\n  6  7  1  0\\n  7  8  2  0\\n  7  9  1  0\\n  9 10  1  0\\n 10 11  2  0\\n 10 12  1  0\\n 12 13  2  0\\n 12 14  1  6\\n 14 15  1  0\\n 15 16  2  0\\n 16 17  1  0\\n 17 18  2  0\\n 18 19  1  0\\n 19 20  2  0\\n 20 21  1  0\\n 19 22  1  0\\n 22 23  1  0\\n 18 24  1  0\\n  8  3  1  0\\n 20 15  1  0\\n 11  6  1  0\\nM  END\\n\",\"sdf\");\n",
       "\tviewer_1621099034132097.setStyle({\"stick\": {}});\n",
       "\tviewer_1621099034132097.setBackgroundColor(\"0xeeeeee\");\n",
       "\tviewer_1621099034132097.zoomTo();\n",
       "viewer_1621099034132097.render();\n",
       "});\n",
       "</script>"
      ]
     },
     "metadata": {},
     "output_type": "display_data"
    }
   ],
   "source": [
    "p = py3Dmol.view(width=800,height=800)\n",
    "p.addModel(Chem.MolToMolBlock(m),'sdf')\n",
    "p.setStyle({'stick':{}})\n",
    "p.setBackgroundColor('0xeeeeee')\n",
    "p.zoomTo()\n",
    "p.show()"
   ]
  },
  {
   "cell_type": "code",
   "execution_count": 9,
   "id": "055545f2",
   "metadata": {},
   "outputs": [
    {
     "data": {
      "application/3dmoljs_load.v0": "<div id=\"3dmolviewer_1621099090295579\"  style=\"position: relative; width: 640px; height: 480px\">\n        <p id=\"3dmolwarning_1621099090295579\" style=\"background-color:#ffcccc;color:black\">You appear to be running in JupyterLab (or JavaScript failed to load for some other reason).  You need to install the 3dmol extension: <br>\n        <tt>jupyter labextension install jupyterlab_3dmol</tt></p>\n        </div>\n<script>\n\nvar loadScriptAsync = function(uri){\n  return new Promise((resolve, reject) => {\n    var tag = document.createElement('script');\n    tag.src = uri;\n    tag.async = true;\n    tag.onload = () => {\n      resolve();\n    };\n  var firstScriptTag = document.getElementsByTagName('script')[0];\n  firstScriptTag.parentNode.insertBefore(tag, firstScriptTag);\n});\n};\n\nif(typeof $3Dmolpromise === 'undefined') {\n$3Dmolpromise = null;\n  $3Dmolpromise = loadScriptAsync('https://3dmol.org/build/3Dmol.js');\n}\n\nvar viewer_1621099090295579 = null;\nvar warn = document.getElementById(\"3dmolwarning_1621099090295579\");\nif(warn) {\n    warn.parentNode.removeChild(warn);\n}\n$3Dmolpromise.then(function() {\nviewer_1621099090295579 = $3Dmol.createViewer($(\"#3dmolviewer_1621099090295579\"),{backgroundColor:\"white\"});\n$3Dmol.download(\"pdb:1ycr\", viewer_1621099090295579, {}, function() {\nviewer_1621099090295579.zoomTo();\n\tviewer_1621099090295579.setStyle({\"stick\": {\"radius\": 0.2}, \"sphere\": {\"scale\": 0.2}});\nviewer_1621099090295579.render();\n})\n});\n</script>",
      "text/html": [
       "<div id=\"3dmolviewer_1621099090295579\"  style=\"position: relative; width: 640px; height: 480px\">\n",
       "        <p id=\"3dmolwarning_1621099090295579\" style=\"background-color:#ffcccc;color:black\">You appear to be running in JupyterLab (or JavaScript failed to load for some other reason).  You need to install the 3dmol extension: <br>\n",
       "        <tt>jupyter labextension install jupyterlab_3dmol</tt></p>\n",
       "        </div>\n",
       "<script>\n",
       "\n",
       "var loadScriptAsync = function(uri){\n",
       "  return new Promise((resolve, reject) => {\n",
       "    var tag = document.createElement('script');\n",
       "    tag.src = uri;\n",
       "    tag.async = true;\n",
       "    tag.onload = () => {\n",
       "      resolve();\n",
       "    };\n",
       "  var firstScriptTag = document.getElementsByTagName('script')[0];\n",
       "  firstScriptTag.parentNode.insertBefore(tag, firstScriptTag);\n",
       "});\n",
       "};\n",
       "\n",
       "if(typeof $3Dmolpromise === 'undefined') {\n",
       "$3Dmolpromise = null;\n",
       "  $3Dmolpromise = loadScriptAsync('https://3dmol.org/build/3Dmol.js');\n",
       "}\n",
       "\n",
       "var viewer_1621099090295579 = null;\n",
       "var warn = document.getElementById(\"3dmolwarning_1621099090295579\");\n",
       "if(warn) {\n",
       "    warn.parentNode.removeChild(warn);\n",
       "}\n",
       "$3Dmolpromise.then(function() {\n",
       "viewer_1621099090295579 = $3Dmol.createViewer($(\"#3dmolviewer_1621099090295579\"),{backgroundColor:\"white\"});\n",
       "$3Dmol.download(\"pdb:1ycr\", viewer_1621099090295579, {}, function() {\n",
       "viewer_1621099090295579.zoomTo();\n",
       "\tviewer_1621099090295579.setStyle({\"stick\": {\"radius\": 0.2}, \"sphere\": {\"scale\": 0.2}});\n",
       "viewer_1621099090295579.render();\n",
       "})\n",
       "});\n",
       "</script>"
      ]
     },
     "metadata": {},
     "output_type": "display_data"
    }
   ],
   "source": [
    "p = py3Dmol.view(query='pdb:1ycr')\n",
    "p.setStyle({'stick': {'radius': .2}, 'sphere': {'scale': 0.2}})\n",
    "p.show();"
   ]
  }
 ],
 "metadata": {
  "kernelspec": {
   "display_name": "Python 3",
   "language": "python",
   "name": "python3"
  },
  "language_info": {
   "codemirror_mode": {
    "name": "ipython",
    "version": 3
   },
   "file_extension": ".py",
   "mimetype": "text/x-python",
   "name": "python",
   "nbconvert_exporter": "python",
   "pygments_lexer": "ipython3",
   "version": "3.8.10"
  }
 },
 "nbformat": 4,
 "nbformat_minor": 5
}
