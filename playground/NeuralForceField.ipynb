{
 "cells": [
  {
   "cell_type": "markdown",
   "metadata": {
    "id": "Fihb5yoJTd_J"
   },
   "source": [
    "## Neural Force Field: Molecular machine learning with conformer ensembles\n",
    "\n",
    "ABSTRACT: Virtual screening can accelerate drug discovery by identifying promising candidates\n",
    "for experimental evaluation. Machine learning is a powerful method for screening,\n",
    "as it can learn complex structure-property relationships from experimental data\n",
    "and make rapid predictions over virtual libraries. Molecules inherently exist as a\n",
    "three-dimensional ensemble and their biological action typically occurs through\n",
    "supramolecular recognition. However, most deep learning approaches to molecular\n",
    "property prediction use a 2D graph representation as input, and in some cases a\n",
    "single 3D conformation. Here we investigate how the 3D information of multiple conformers, traditionally known as 4D information in the cheminformatics\n",
    "community, can improve molecular property prediction in deep learning models.\n",
    "We introduce multiple deep learning models that expand upon key architectures\n",
    "such as ChemProp and Schnet, adding elements such as multiple-conformer inputs\n",
    "and conformer attention. We then benchmark the performance trade-offs of these\n",
    "models on 2D, 3D and 4D representations in the prediction of drug activity using\n",
    "a large training set of geometrically resolved molecules. The new architectures\n",
    "perform significantly better than 2D models, but their performance is often just as\n",
    "strong with a single conformer as with many. We also find that 4D deep learning\n",
    "models learn interpretable attention weights for each conformer.\n",
    "\n",
    "Link to paper: https://arxiv.org/pdf/2012.08452v2.pdf\n",
    "\n",
    "Credit: https://github.com/learningmatter-mit/NeuralForceField"
   ]
  },
  {
   "cell_type": "code",
   "execution_count": 19,
   "metadata": {
    "colab": {
     "base_uri": "https://localhost:8080/"
    },
    "id": "dZvLlZ4GTZy-",
    "outputId": "a2091992-7f01-4953-f036-a7c423b37f36"
   },
   "outputs": [
    {
     "name": "stdout",
     "output_type": "stream",
     "text": [
      "/Users/saams4u/chemlabs/playground/NeuralForceField/tutorials\n"
     ]
    }
   ],
   "source": [
    "# Clone the repository and cd into directory\n",
    "!git clone https://github.com/learningmatter-mit/NeuralForceField.git\n",
    "%cd NeuralForceField/tutorials"
   ]
  },
  {
   "cell_type": "code",
   "execution_count": null,
   "metadata": {
    "id": "Nwy4Al4vT04R"
   },
   "outputs": [],
   "source": [
    "# Install dependencies / requirements\n",
    "!pip install scikit-learn==0.23.1 torch==1.4 ase==3.19.1 pandas==1.0.5 networkx\n",
    "!pip install pymatgen==2020.7.3 sympy==1.6.1 sigopt==5.3.1 e3fp==1.2.1\n",
    "!pip install ipykernel==5.3.0 hyperopt==0.2.5\n",
    "\n",
    "# Install RDKit\n",
    "!pip install rdkit-pypi==2021.3.1.5"
   ]
  },
  {
   "cell_type": "markdown",
   "metadata": {
    "id": "cRD0h4bgVeGE"
   },
   "source": [
    "###  Introduction to Neural Force Field\n",
    "This tutorial contains an introduction to the nff package. Here, we will load the modules and functions from nff to import a dataset, create dataloaders, create a model, train it and check the test stats. We will do most of it manually to illustrate the usage of the API. However, scripts such as the one provided in the `scripts/` folder already automate most of this process.\n",
    "\n",
    "After the `nff` package has been installed, we start by importing all dependencies for this tutorial."
   ]
  },
  {
   "cell_type": "code",
   "execution_count": 21,
   "metadata": {
    "id": "nbjg4Ju1UIfX"
   },
   "outputs": [],
   "source": [
    "%reload_ext autoreload\n",
    "%autoreload 2\n",
    "\n",
    "import sys\n",
    "\n",
    "sys.path.insert(0, \"..\")\n",
    "sys.path.insert(0, \"../..\")"
   ]
  },
  {
   "cell_type": "code",
   "execution_count": null,
   "metadata": {
    "id": "JffAVX_KVn_z"
   },
   "outputs": [],
   "source": [
    "import os\n",
    "import shutil\n",
    "import numpy as np\n",
    "import matplotlib.pyplot as plt\n",
    "\n",
    "%matplotlib inline\n",
    "\n",
    "import torch\n",
    "\n",
    "from torch.optim import Adam\n",
    "from torch.utils.data import DataLoader\n",
    "\n",
    "from nff.data import Dataset, split_train_validation_test, collate_dicts, to_tensor\n",
    "from nff.train import Trainer, get_trainer, get_model, load_model, loss, hooks, metrics, evaluate"
   ]
  },
  {
   "cell_type": "markdown",
   "metadata": {
    "id": "xYPgSEcMVuoF"
   },
   "source": [
    "It might also be useful setting the GPU you want to use:"
   ]
  },
  {
   "cell_type": "code",
   "execution_count": 184,
   "metadata": {
    "id": "3zu0xEqKVqDJ"
   },
   "outputs": [],
   "source": [
    "DEVICE = 0\n",
    "OUTDIR = './sandbox'\n",
    "\n",
    "if os.path.exists(OUTDIR):\n",
    "    newpath = os.path.join(os.path.dirname(OUTDIR), 'backup')\n",
    "    if os.path.exists(newpath):\n",
    "        shutil.rmtree(newpath)\n",
    "        \n",
    "    shutil.move(OUTDIR, newpath)"
   ]
  },
  {
   "cell_type": "markdown",
   "metadata": {
    "id": "AaIHtLoGVzs3"
   },
   "source": [
    "### Loading the relevant data\n",
    "\n",
    "As we usually work with the database, we can pack their information in a class `Dataset`, which is a subclass of `torch.utils.data.Dataset`. It basically wraps information on the atomic numbers, energies, forces and SMILES strings for each one of the geometries. In this example, we already have a pre-compiled Dataset to be used. We start by loading this file and creating three slices of the original dataset."
   ]
  },
  {
   "cell_type": "code",
   "execution_count": 185,
   "metadata": {
    "id": "8MtcruArVwvn"
   },
   "outputs": [],
   "source": [
    "dataset = Dataset.from_file('./data/dataset.pth.tar')"
   ]
  },
  {
   "cell_type": "code",
   "execution_count": 186,
   "metadata": {
    "id": "wf2YbJMVV8x9"
   },
   "outputs": [],
   "source": [
    "train, val, test = split_train_validation_test(dataset, val_size=0.2, test_size=0.2)"
   ]
  },
  {
   "cell_type": "markdown",
   "metadata": {
    "id": "MNSYQBy3WNgk"
   },
   "source": [
    "The `nff` code interfaces with the `graphbuilder` module through a git submodule in the repository. `graphbuilder` provides methods to create batches of graphs. In `nff`, we interface that through a custom dataloader called `GraphLoader`. Here, we create one loader for each one of the slices."
   ]
  },
  {
   "cell_type": "code",
   "execution_count": 187,
   "metadata": {
    "id": "122nUPfDWL4N"
   },
   "outputs": [],
   "source": [
    "train_loader = DataLoader(train, batch_size=50, collate_fn=collate_dicts)\n",
    "val_loader = DataLoader(val, batch_size=50, collate_fn=collate_dicts)\n",
    "test_loader = DataLoader(test, batch_size=50, collate_fn=collate_dicts)"
   ]
  },
  {
   "cell_type": "markdown",
   "metadata": {
    "id": "qBa1Vu-WWell"
   },
   "source": [
    "### Creating a model\n",
    "\n",
    "`nff` is based on SchNet. It parameterizes interatomic interactions in molecules and materials through a series of convolution layers with continuous filters. Here, we are going to create a simple model using the hyperparameters given on params:"
   ]
  },
  {
   "cell_type": "code",
   "execution_count": 188,
   "metadata": {
    "id": "GpApRUJaWXmj"
   },
   "outputs": [],
   "source": [
    "params = {\n",
    "    'n_atom_basis': 256,\n",
    "    'n_filters': 256,\n",
    "    'n_gaussians': 32,\n",
    "    'n_convolutions': 4,\n",
    "    'cutoff': 5.0,\n",
    "    'trainable_gauss': True,\n",
    "    'dropout_rate': 0.2\n",
    "}\n",
    "\n",
    "model = get_model(params)"
   ]
  },
  {
   "cell_type": "markdown",
   "metadata": {
    "id": "nmZT8VGjWqDe"
   },
   "source": [
    "### Creating a trainer\n",
    "\n",
    "To train our model with the data provided, we have to create a loss function. The easiest way to do that is through the `build_mse_loss` builder. Its argument rho is a parameter that will multiply the mean square error (MSE) of the force components before summing it with the MSE of the energy."
   ]
  },
  {
   "cell_type": "code",
   "execution_count": 189,
   "metadata": {
    "id": "2iB7qD3RWnwo"
   },
   "outputs": [],
   "source": [
    "loss_fn = loss.build_mse_loss(loss_coef={'energy': 0.01, 'energy_grad': 1})"
   ]
  },
  {
   "cell_type": "markdown",
   "metadata": {
    "id": "b7m2DPhvWwue"
   },
   "source": [
    "We should also select an optimizer for our recently created model:"
   ]
  },
  {
   "cell_type": "code",
   "execution_count": 190,
   "metadata": {
    "id": "ilPQ6vquWvHh"
   },
   "outputs": [],
   "source": [
    "trainable_params = filter(lambda p: p.requires_grad, model.parameters())\n",
    "optimizer = Adam(trainable_params, lr=3e-4)"
   ]
  },
  {
   "cell_type": "markdown",
   "metadata": {
    "id": "n4DUa6cPW06-"
   },
   "source": [
    "### Metrics and hooks\n",
    "Metrics and hooks allow the customization of the training process. Instead of tweaking directly the code or having to resort to countless flags, we can create submodules (or add-ons) to monitor the progress of the training or customize it.\n",
    "\n",
    "If we want to monitor the progress of our training, say by looking at the mean absolute error (MAE) of energies and forces, we can simply create metrics to observe them:"
   ]
  },
  {
   "cell_type": "code",
   "execution_count": 191,
   "metadata": {
    "id": "NUfffZoCWymw"
   },
   "outputs": [],
   "source": [
    "train_metrics = [\n",
    "    metrics.MeanAbsoluteError('energy'),\n",
    "    metrics.MeanAbsoluteError('energy_grad')\n",
    "]"
   ]
  },
  {
   "cell_type": "markdown",
   "metadata": {
    "id": "ULjnf7qYW7wO"
   },
   "source": [
    "Furthermore, if we want to customize how our training procedure is done, we can use hooks which can interrupt or change the train automatically.\n",
    "\n",
    "In our case, we are adding hooks to:\n",
    "\n",
    "* Stop the training procedure after 100 epochs;\n",
    "* Log the training on a machine-readable CSV file under the directory ./sandbox;\n",
    "* Print the progress on the screen with custom formatting; and\n",
    "* Setup a scheduler for the learning rate."
   ]
  },
  {
   "cell_type": "code",
   "execution_count": 192,
   "metadata": {
    "id": "PgW9JACIW5zo"
   },
   "outputs": [],
   "source": [
    "train_hooks = [\n",
    "    hooks.MaxEpochHook(100),\n",
    "    hooks.CSVHook(\n",
    "        OUTDIR,\n",
    "        metrics=train_metrics,\n",
    "    ),\n",
    "    hooks.PrintingHook(\n",
    "        OUTDIR,\n",
    "        metrics=train_metrics,\n",
    "        separator = ' | ',\n",
    "        time_strf='%M:%S'\n",
    "    ),\n",
    "    hooks.ReduceLROnPlateauHook(\n",
    "        optimizer=optimizer,\n",
    "        patience=30,\n",
    "        factor=0.5,\n",
    "        min_lr=1e-7,\n",
    "        window_length=1,\n",
    "        stop_after_min=True\n",
    "    )\n",
    "]"
   ]
  },
  {
   "cell_type": "markdown",
   "metadata": {
    "id": "XU1s5hxHXE4F"
   },
   "source": [
    "### Trainer wrapper\n",
    "A `Trainer` in the `nff` package is a wrapper to train a model. It automatically creates checkpoints, as well as trains and validates a given model. It also allow further training by loading checkpoints from existing paths, making the training procedure more flexible. Its functionalities can be extended by the hooks we created above. To create a trainer, we have to execute the following command:"
   ]
  },
  {
   "cell_type": "code",
   "execution_count": 193,
   "metadata": {
    "id": "teXqdU_cXCNn"
   },
   "outputs": [],
   "source": [
    "T = Trainer(\n",
    "    model_path=OUTDIR,\n",
    "    model=model,\n",
    "    loss_fn=loss_fn,\n",
    "    optimizer=optimizer,\n",
    "    train_loader=train_loader,\n",
    "    validation_loader=val_loader,\n",
    "    checkpoint_interval=1,\n",
    "    hooks=train_hooks\n",
    ")"
   ]
  },
  {
   "cell_type": "code",
   "execution_count": 194,
   "metadata": {
    "colab": {
     "base_uri": "https://localhost:8080/"
    },
    "id": "kdednsVwXMSX",
    "outputId": "7a52370b-26b5-4fd8-ebe9-f87fa1e8c212"
   },
   "outputs": [
    {
     "name": "stdout",
     "output_type": "stream",
     "text": [
      " Time | Epoch | Learning rate | Train loss | Validation loss | MAE_energy | MAE_energy_grad | GPU Memory (MB)\n"
     ]
    },
    {
     "name": "stderr",
     "output_type": "stream",
     "text": [
      " 83%|████████▎ | 10/12 [00:00<00:00, 13.85it/s]\n"
     ]
    },
    {
     "name": "stdout",
     "output_type": "stream",
     "text": [
      "21:24 |     1 |     3.000e-04 |   732.9508 |        682.2807 |     3.5363 |         19.3845 |            4757\n"
     ]
    },
    {
     "name": "stderr",
     "output_type": "stream",
     "text": [
      " 83%|████████▎ | 10/12 [00:00<00:00, 16.51it/s]\n"
     ]
    },
    {
     "name": "stdout",
     "output_type": "stream",
     "text": [
      "21:25 |     2 |     3.000e-04 |   574.9859 |        439.4312 |    25.1947 |         14.8199 |            4757\n"
     ]
    },
    {
     "name": "stderr",
     "output_type": "stream",
     "text": [
      " 92%|█████████▏| 11/12 [00:00<00:00, 17.74it/s]\n"
     ]
    },
    {
     "name": "stdout",
     "output_type": "stream",
     "text": [
      "21:26 |     3 |     3.000e-04 |   372.8080 |        231.8184 |     2.6961 |         10.5706 |            4757\n"
     ]
    },
    {
     "name": "stderr",
     "output_type": "stream",
     "text": [
      " 83%|████████▎ | 10/12 [00:00<00:00, 16.54it/s]\n"
     ]
    },
    {
     "name": "stdout",
     "output_type": "stream",
     "text": [
      "21:26 |     4 |     3.000e-04 |   246.2528 |        150.9615 |     8.3176 |          8.7165 |            4757\n"
     ]
    },
    {
     "name": "stderr",
     "output_type": "stream",
     "text": [
      " 92%|█████████▏| 11/12 [00:00<00:00, 18.32it/s]"
     ]
    },
    {
     "name": "stdout",
     "output_type": "stream",
     "text": [
      "21:27 |     5 |     3.000e-04 |   193.6948 |        114.8202 |     2.3275 |          7.6438 |            4757\n"
     ]
    },
    {
     "name": "stderr",
     "output_type": "stream",
     "text": [
      "\n",
      " 92%|█████████▏| 11/12 [00:00<00:00, 18.42it/s]\n"
     ]
    },
    {
     "name": "stdout",
     "output_type": "stream",
     "text": [
      "21:28 |     6 |     3.000e-04 |   163.5500 |         95.7134 |     2.1080 |          6.9807 |            4757\n"
     ]
    },
    {
     "name": "stderr",
     "output_type": "stream",
     "text": [
      " 83%|████████▎ | 10/12 [00:00<00:00, 16.54it/s]\n"
     ]
    },
    {
     "name": "stdout",
     "output_type": "stream",
     "text": [
      "21:29 |     7 |     3.000e-04 |   145.8459 |         88.0186 |     1.9118 |          6.6192 |            4757\n"
     ]
    },
    {
     "name": "stderr",
     "output_type": "stream",
     "text": [
      " 75%|███████▌  | 9/12 [00:00<00:00, 15.36it/s]\n"
     ]
    },
    {
     "name": "stdout",
     "output_type": "stream",
     "text": [
      "21:29 |     8 |     3.000e-04 |   135.2904 |         86.5353 |     2.1927 |          6.5546 |            4757\n"
     ]
    },
    {
     "name": "stderr",
     "output_type": "stream",
     "text": [
      " 92%|█████████▏| 11/12 [00:00<00:00, 18.46it/s]\n"
     ]
    },
    {
     "name": "stdout",
     "output_type": "stream",
     "text": [
      "21:30 |     9 |     3.000e-04 |   126.0156 |         85.5961 |     4.8578 |          6.5680 |            4757\n"
     ]
    },
    {
     "name": "stderr",
     "output_type": "stream",
     "text": [
      " 83%|████████▎ | 10/12 [00:00<00:00, 16.85it/s]\n"
     ]
    },
    {
     "name": "stdout",
     "output_type": "stream",
     "text": [
      "21:31 |    10 |     3.000e-04 |   119.9622 |         75.6593 |     1.5076 |          6.1480 |            4757\n"
     ]
    },
    {
     "name": "stderr",
     "output_type": "stream",
     "text": [
      " 83%|████████▎ | 10/12 [00:00<00:00, 17.12it/s]\n"
     ]
    },
    {
     "name": "stdout",
     "output_type": "stream",
     "text": [
      "21:32 |    11 |     3.000e-04 |   113.9092 |         68.4698 |     1.5128 |          5.8108 |            4757\n"
     ]
    },
    {
     "name": "stderr",
     "output_type": "stream",
     "text": [
      " 83%|████████▎ | 10/12 [00:00<00:00, 16.94it/s]\n"
     ]
    },
    {
     "name": "stdout",
     "output_type": "stream",
     "text": [
      "21:32 |    12 |     3.000e-04 |   108.7106 |         61.8355 |     1.7686 |          5.5472 |            4757\n"
     ]
    },
    {
     "name": "stderr",
     "output_type": "stream",
     "text": [
      " 83%|████████▎ | 10/12 [00:00<00:00, 16.93it/s]"
     ]
    },
    {
     "name": "stdout",
     "output_type": "stream",
     "text": [
      "21:33 |    13 |     3.000e-04 |   104.2454 |         65.9388 |     3.3426 |          5.7139 |            4757\n"
     ]
    },
    {
     "name": "stderr",
     "output_type": "stream",
     "text": [
      "\n",
      " 83%|████████▎ | 10/12 [00:00<00:00, 15.36it/s]\n"
     ]
    },
    {
     "name": "stdout",
     "output_type": "stream",
     "text": [
      "21:34 |    14 |     3.000e-04 |   103.2531 |         65.6368 |     1.5906 |          5.7060 |            4757\n"
     ]
    },
    {
     "name": "stderr",
     "output_type": "stream",
     "text": [
      " 83%|████████▎ | 10/12 [00:00<00:00, 16.28it/s]\n"
     ]
    },
    {
     "name": "stdout",
     "output_type": "stream",
     "text": [
      "21:35 |    15 |     3.000e-04 |   100.1619 |         60.0714 |     2.2574 |          5.4677 |            4757\n"
     ]
    },
    {
     "name": "stderr",
     "output_type": "stream",
     "text": [
      " 75%|███████▌  | 9/12 [00:00<00:00, 15.94it/s]\n"
     ]
    },
    {
     "name": "stdout",
     "output_type": "stream",
     "text": [
      "21:35 |    16 |     3.000e-04 |    96.3912 |         58.6044 |     2.6197 |          5.3793 |            4757\n"
     ]
    },
    {
     "name": "stderr",
     "output_type": "stream",
     "text": [
      " 75%|███████▌  | 9/12 [00:00<00:00, 15.56it/s]\n"
     ]
    },
    {
     "name": "stdout",
     "output_type": "stream",
     "text": [
      "21:36 |    17 |     3.000e-04 |    95.0571 |         54.6773 |     1.4669 |          5.2265 |            4757\n"
     ]
    },
    {
     "name": "stderr",
     "output_type": "stream",
     "text": [
      " 83%|████████▎ | 10/12 [00:00<00:00, 16.67it/s]\n"
     ]
    },
    {
     "name": "stdout",
     "output_type": "stream",
     "text": [
      "21:37 |    18 |     3.000e-04 |    93.1520 |         54.9393 |     1.3935 |          5.1946 |            4757\n"
     ]
    },
    {
     "name": "stderr",
     "output_type": "stream",
     "text": [
      " 75%|███████▌  | 9/12 [00:00<00:00, 15.60it/s]\n"
     ]
    },
    {
     "name": "stdout",
     "output_type": "stream",
     "text": [
      "21:37 |    19 |     3.000e-04 |    88.8541 |         50.9803 |     2.2075 |          5.0047 |            4757\n"
     ]
    },
    {
     "name": "stderr",
     "output_type": "stream",
     "text": [
      " 83%|████████▎ | 10/12 [00:00<00:00, 16.54it/s]\n"
     ]
    },
    {
     "name": "stdout",
     "output_type": "stream",
     "text": [
      "21:38 |    20 |     3.000e-04 |    88.2806 |         50.9466 |     1.7582 |          5.0116 |            4757\n"
     ]
    },
    {
     "name": "stderr",
     "output_type": "stream",
     "text": [
      " 75%|███████▌  | 9/12 [00:00<00:00, 15.15it/s]\n"
     ]
    },
    {
     "name": "stdout",
     "output_type": "stream",
     "text": [
      "21:39 |    21 |     3.000e-04 |    83.8994 |         47.4712 |     1.9447 |          4.8164 |            4757\n"
     ]
    },
    {
     "name": "stderr",
     "output_type": "stream",
     "text": [
      " 83%|████████▎ | 10/12 [00:00<00:00, 16.22it/s]\n"
     ]
    },
    {
     "name": "stdout",
     "output_type": "stream",
     "text": [
      "21:40 |    22 |     3.000e-04 |    83.1609 |         45.1124 |     1.2252 |          4.7085 |            4757\n"
     ]
    },
    {
     "name": "stderr",
     "output_type": "stream",
     "text": [
      " 92%|█████████▏| 11/12 [00:00<00:00, 18.24it/s]\n"
     ]
    },
    {
     "name": "stdout",
     "output_type": "stream",
     "text": [
      "21:40 |    23 |     3.000e-04 |    81.3705 |         43.6509 |     2.8337 |          4.6447 |            4757\n"
     ]
    },
    {
     "name": "stderr",
     "output_type": "stream",
     "text": [
      " 83%|████████▎ | 10/12 [00:00<00:00, 16.60it/s]\n"
     ]
    },
    {
     "name": "stdout",
     "output_type": "stream",
     "text": [
      "21:41 |    24 |     3.000e-04 |    81.7341 |         42.6582 |     1.1105 |          4.5777 |            4757\n"
     ]
    },
    {
     "name": "stderr",
     "output_type": "stream",
     "text": [
      " 92%|█████████▏| 11/12 [00:00<00:00, 17.94it/s]"
     ]
    },
    {
     "name": "stdout",
     "output_type": "stream",
     "text": [
      "21:42 |    25 |     3.000e-04 |    77.2139 |         39.7803 |     1.9385 |          4.4536 |            4757\n"
     ]
    },
    {
     "name": "stderr",
     "output_type": "stream",
     "text": [
      "\n",
      " 92%|█████████▏| 11/12 [00:00<00:00, 17.88it/s]\n"
     ]
    },
    {
     "name": "stdout",
     "output_type": "stream",
     "text": [
      "21:43 |    26 |     3.000e-04 |    77.3293 |         41.1450 |     1.9482 |          4.4969 |            4757\n"
     ]
    },
    {
     "name": "stderr",
     "output_type": "stream",
     "text": [
      " 83%|████████▎ | 10/12 [00:00<00:00, 16.43it/s]\n"
     ]
    },
    {
     "name": "stdout",
     "output_type": "stream",
     "text": [
      "21:43 |    27 |     3.000e-04 |    75.0979 |         38.0702 |     1.8789 |          4.3199 |            4757\n"
     ]
    },
    {
     "name": "stderr",
     "output_type": "stream",
     "text": [
      " 83%|████████▎ | 10/12 [00:00<00:00, 16.47it/s]\n"
     ]
    },
    {
     "name": "stdout",
     "output_type": "stream",
     "text": [
      "21:44 |    28 |     3.000e-04 |    73.6286 |         36.8389 |     1.0161 |          4.2408 |            4757\n"
     ]
    },
    {
     "name": "stderr",
     "output_type": "stream",
     "text": [
      " 83%|████████▎ | 10/12 [00:00<00:00, 16.11it/s]\n"
     ]
    },
    {
     "name": "stdout",
     "output_type": "stream",
     "text": [
      "21:45 |    29 |     3.000e-04 |    71.0953 |         38.8704 |     2.3110 |          4.3659 |            4757\n"
     ]
    },
    {
     "name": "stderr",
     "output_type": "stream",
     "text": [
      " 92%|█████████▏| 11/12 [00:00<00:00, 18.02it/s]\n"
     ]
    },
    {
     "name": "stdout",
     "output_type": "stream",
     "text": [
      "21:46 |    30 |     3.000e-04 |    70.5132 |         37.4188 |     1.1183 |          4.3366 |            4757\n"
     ]
    },
    {
     "name": "stderr",
     "output_type": "stream",
     "text": [
      " 83%|████████▎ | 10/12 [00:00<00:00, 16.29it/s]\n"
     ]
    },
    {
     "name": "stdout",
     "output_type": "stream",
     "text": [
      "21:46 |    31 |     3.000e-04 |    70.1798 |         33.4469 |     1.7824 |          4.0436 |            4757\n"
     ]
    },
    {
     "name": "stderr",
     "output_type": "stream",
     "text": [
      " 92%|█████████▏| 11/12 [00:00<00:00, 18.43it/s]\n"
     ]
    },
    {
     "name": "stdout",
     "output_type": "stream",
     "text": [
      "21:47 |    32 |     3.000e-04 |    67.9175 |         35.9858 |     1.2645 |          4.2720 |            4757\n"
     ]
    },
    {
     "name": "stderr",
     "output_type": "stream",
     "text": [
      " 92%|█████████▏| 11/12 [00:00<00:00, 18.08it/s]\n"
     ]
    },
    {
     "name": "stdout",
     "output_type": "stream",
     "text": [
      "21:48 |    33 |     3.000e-04 |    66.8191 |         33.5364 |     2.4008 |          4.0433 |            4757\n"
     ]
    },
    {
     "name": "stderr",
     "output_type": "stream",
     "text": [
      " 92%|█████████▏| 11/12 [00:00<00:00, 17.67it/s]\n"
     ]
    },
    {
     "name": "stdout",
     "output_type": "stream",
     "text": [
      "21:49 |    34 |     3.000e-04 |    66.1867 |         32.5573 |     1.2520 |          3.9806 |            4757\n"
     ]
    },
    {
     "name": "stderr",
     "output_type": "stream",
     "text": [
      " 92%|█████████▏| 11/12 [00:00<00:00, 18.09it/s]\n"
     ]
    },
    {
     "name": "stdout",
     "output_type": "stream",
     "text": [
      "21:49 |    35 |     3.000e-04 |    65.6246 |         30.9282 |     0.9323 |          3.9017 |            4757\n"
     ]
    },
    {
     "name": "stderr",
     "output_type": "stream",
     "text": [
      " 92%|█████████▏| 11/12 [00:00<00:00, 17.89it/s]\n"
     ]
    },
    {
     "name": "stdout",
     "output_type": "stream",
     "text": [
      "21:50 |    36 |     3.000e-04 |    64.7353 |         30.0555 |     2.6408 |          3.8186 |            4757\n"
     ]
    },
    {
     "name": "stderr",
     "output_type": "stream",
     "text": [
      " 83%|████████▎ | 10/12 [00:00<00:00, 15.82it/s]\n"
     ]
    },
    {
     "name": "stdout",
     "output_type": "stream",
     "text": [
      "21:51 |    37 |     3.000e-04 |    61.1654 |         33.8100 |     1.1111 |          4.0721 |            4757\n"
     ]
    },
    {
     "name": "stderr",
     "output_type": "stream",
     "text": [
      " 92%|█████████▏| 11/12 [00:00<00:00, 18.00it/s]\n"
     ]
    },
    {
     "name": "stdout",
     "output_type": "stream",
     "text": [
      "21:52 |    38 |     3.000e-04 |    62.8542 |         33.5150 |     1.9960 |          4.0185 |            4757\n"
     ]
    },
    {
     "name": "stderr",
     "output_type": "stream",
     "text": [
      " 92%|█████████▏| 11/12 [00:00<00:00, 17.94it/s]\n"
     ]
    },
    {
     "name": "stdout",
     "output_type": "stream",
     "text": [
      "21:52 |    39 |     3.000e-04 |    60.4913 |         31.1670 |     2.3740 |          3.8978 |            4757\n"
     ]
    },
    {
     "name": "stderr",
     "output_type": "stream",
     "text": [
      " 83%|████████▎ | 10/12 [00:00<00:00, 16.10it/s]\n"
     ]
    },
    {
     "name": "stdout",
     "output_type": "stream",
     "text": [
      "21:53 |    40 |     3.000e-04 |    60.9544 |         29.5500 |     1.2090 |          3.7831 |            4757\n"
     ]
    },
    {
     "name": "stderr",
     "output_type": "stream",
     "text": [
      " 92%|█████████▏| 11/12 [00:00<00:00, 17.72it/s]\n"
     ]
    },
    {
     "name": "stdout",
     "output_type": "stream",
     "text": [
      "21:54 |    41 |     3.000e-04 |    60.3231 |         29.5943 |     1.8263 |          3.8248 |            4757\n"
     ]
    },
    {
     "name": "stderr",
     "output_type": "stream",
     "text": [
      " 83%|████████▎ | 10/12 [00:00<00:00, 16.47it/s]\n"
     ]
    },
    {
     "name": "stdout",
     "output_type": "stream",
     "text": [
      "21:55 |    42 |     3.000e-04 |    59.4139 |         28.7716 |     0.8998 |          3.7499 |            4757\n"
     ]
    },
    {
     "name": "stderr",
     "output_type": "stream",
     "text": [
      " 92%|█████████▏| 11/12 [00:00<00:00, 18.04it/s]\n"
     ]
    },
    {
     "name": "stdout",
     "output_type": "stream",
     "text": [
      "21:55 |    43 |     3.000e-04 |    58.4426 |         26.2854 |     2.8261 |          3.5711 |            4757\n"
     ]
    },
    {
     "name": "stderr",
     "output_type": "stream",
     "text": [
      " 75%|███████▌  | 9/12 [00:00<00:00, 14.98it/s]\n"
     ]
    },
    {
     "name": "stdout",
     "output_type": "stream",
     "text": [
      "21:56 |    44 |     3.000e-04 |    58.7239 |         28.4353 |     1.0631 |          3.7245 |            4757\n"
     ]
    },
    {
     "name": "stderr",
     "output_type": "stream",
     "text": [
      " 75%|███████▌  | 9/12 [00:00<00:00, 15.01it/s]\n"
     ]
    },
    {
     "name": "stdout",
     "output_type": "stream",
     "text": [
      "21:57 |    45 |     3.000e-04 |    58.4730 |         30.7565 |     3.3569 |          3.8490 |            4757\n"
     ]
    },
    {
     "name": "stderr",
     "output_type": "stream",
     "text": [
      " 83%|████████▎ | 10/12 [00:00<00:00, 16.71it/s]\n"
     ]
    },
    {
     "name": "stdout",
     "output_type": "stream",
     "text": [
      "21:58 |    46 |     3.000e-04 |    59.2633 |         26.4140 |     1.2374 |          3.6034 |            4757\n"
     ]
    },
    {
     "name": "stderr",
     "output_type": "stream",
     "text": [
      " 83%|████████▎ | 10/12 [00:00<00:00, 16.56it/s]\n"
     ]
    },
    {
     "name": "stdout",
     "output_type": "stream",
     "text": [
      "21:58 |    47 |     3.000e-04 |    57.2672 |         30.3401 |     1.3995 |          3.8262 |            4757\n"
     ]
    },
    {
     "name": "stderr",
     "output_type": "stream",
     "text": [
      " 75%|███████▌  | 9/12 [00:00<00:00, 14.90it/s]\n"
     ]
    },
    {
     "name": "stdout",
     "output_type": "stream",
     "text": [
      "21:59 |    48 |     3.000e-04 |    54.3841 |         26.3805 |     2.7613 |          3.5705 |            4757\n"
     ]
    },
    {
     "name": "stderr",
     "output_type": "stream",
     "text": [
      " 83%|████████▎ | 10/12 [00:00<00:00, 16.15it/s]\n"
     ]
    },
    {
     "name": "stdout",
     "output_type": "stream",
     "text": [
      "22:00 |    49 |     3.000e-04 |    55.8253 |         26.8210 |     1.2503 |          3.6425 |            4757\n"
     ]
    },
    {
     "name": "stderr",
     "output_type": "stream",
     "text": [
      " 92%|█████████▏| 11/12 [00:00<00:00, 18.04it/s]\n"
     ]
    },
    {
     "name": "stdout",
     "output_type": "stream",
     "text": [
      "22:01 |    50 |     3.000e-04 |    54.0221 |         27.2610 |     2.3546 |          3.6268 |            4757\n"
     ]
    },
    {
     "name": "stderr",
     "output_type": "stream",
     "text": [
      " 83%|████████▎ | 10/12 [00:00<00:00, 16.61it/s]\n"
     ]
    },
    {
     "name": "stdout",
     "output_type": "stream",
     "text": [
      "22:01 |    51 |     3.000e-04 |    55.1608 |         25.8131 |     2.0366 |          3.5323 |            4757\n"
     ]
    },
    {
     "name": "stderr",
     "output_type": "stream",
     "text": [
      " 83%|████████▎ | 10/12 [00:00<00:00, 16.11it/s]\n"
     ]
    },
    {
     "name": "stdout",
     "output_type": "stream",
     "text": [
      "22:02 |    52 |     3.000e-04 |    53.8829 |         24.7153 |     0.8608 |          3.4754 |            4757\n"
     ]
    },
    {
     "name": "stderr",
     "output_type": "stream",
     "text": [
      " 92%|█████████▏| 11/12 [00:00<00:00, 18.42it/s]\n"
     ]
    },
    {
     "name": "stdout",
     "output_type": "stream",
     "text": [
      "22:03 |    53 |     3.000e-04 |    54.5665 |         24.7974 |     1.9975 |          3.4815 |            4757\n"
     ]
    },
    {
     "name": "stderr",
     "output_type": "stream",
     "text": [
      " 92%|█████████▏| 11/12 [00:00<00:00, 17.94it/s]"
     ]
    },
    {
     "name": "stdout",
     "output_type": "stream",
     "text": [
      "22:03 |    54 |     3.000e-04 |    52.1548 |         23.6191 |     0.9769 |          3.4137 |            4757\n"
     ]
    },
    {
     "name": "stderr",
     "output_type": "stream",
     "text": [
      "\n",
      " 83%|████████▎ | 10/12 [00:00<00:00, 16.30it/s]\n"
     ]
    },
    {
     "name": "stdout",
     "output_type": "stream",
     "text": [
      "22:04 |    55 |     3.000e-04 |    53.2607 |         23.7664 |     1.3001 |          3.4099 |            4757\n"
     ]
    },
    {
     "name": "stderr",
     "output_type": "stream",
     "text": [
      " 75%|███████▌  | 9/12 [00:00<00:00, 14.81it/s]\n"
     ]
    },
    {
     "name": "stdout",
     "output_type": "stream",
     "text": [
      "22:05 |    56 |     3.000e-04 |    51.9145 |         24.6443 |     2.6558 |          3.4314 |            4757\n"
     ]
    },
    {
     "name": "stderr",
     "output_type": "stream",
     "text": [
      " 92%|█████████▏| 11/12 [00:00<00:00, 18.09it/s]\n"
     ]
    },
    {
     "name": "stdout",
     "output_type": "stream",
     "text": [
      "22:06 |    57 |     3.000e-04 |    51.7110 |         24.3075 |     2.1792 |          3.4094 |            4757\n"
     ]
    },
    {
     "name": "stderr",
     "output_type": "stream",
     "text": [
      " 92%|█████████▏| 11/12 [00:00<00:00, 17.91it/s]\n"
     ]
    },
    {
     "name": "stdout",
     "output_type": "stream",
     "text": [
      "22:06 |    58 |     3.000e-04 |    50.0968 |         22.6336 |     2.0070 |          3.3159 |            4757\n"
     ]
    },
    {
     "name": "stderr",
     "output_type": "stream",
     "text": [
      " 92%|█████████▏| 11/12 [00:00<00:00, 17.93it/s]"
     ]
    },
    {
     "name": "stdout",
     "output_type": "stream",
     "text": [
      "22:07 |    59 |     3.000e-04 |    49.1753 |         23.2855 |     1.5850 |          3.3515 |            4757\n"
     ]
    },
    {
     "name": "stderr",
     "output_type": "stream",
     "text": [
      "\n",
      " 83%|████████▎ | 10/12 [00:00<00:00, 16.39it/s]\n"
     ]
    },
    {
     "name": "stdout",
     "output_type": "stream",
     "text": [
      "22:08 |    60 |     3.000e-04 |    50.0019 |         21.0441 |     1.4467 |          3.1858 |            4757\n"
     ]
    },
    {
     "name": "stderr",
     "output_type": "stream",
     "text": [
      " 83%|████████▎ | 10/12 [00:00<00:00, 16.53it/s]\n"
     ]
    },
    {
     "name": "stdout",
     "output_type": "stream",
     "text": [
      "22:09 |    61 |     3.000e-04 |    50.5450 |         21.3269 |     1.6560 |          3.2169 |            4757\n"
     ]
    },
    {
     "name": "stderr",
     "output_type": "stream",
     "text": [
      " 83%|████████▎ | 10/12 [00:00<00:00, 16.09it/s]\n"
     ]
    },
    {
     "name": "stdout",
     "output_type": "stream",
     "text": [
      "22:09 |    62 |     3.000e-04 |    48.4793 |         21.3034 |     1.4689 |          3.1942 |            4757\n"
     ]
    },
    {
     "name": "stderr",
     "output_type": "stream",
     "text": [
      " 75%|███████▌  | 9/12 [00:00<00:00, 14.88it/s]\n"
     ]
    },
    {
     "name": "stdout",
     "output_type": "stream",
     "text": [
      "22:10 |    63 |     3.000e-04 |    49.1544 |         22.4780 |     1.2521 |          3.3194 |            4757\n"
     ]
    },
    {
     "name": "stderr",
     "output_type": "stream",
     "text": [
      " 83%|████████▎ | 10/12 [00:00<00:00, 16.29it/s]\n"
     ]
    },
    {
     "name": "stdout",
     "output_type": "stream",
     "text": [
      "22:11 |    64 |     3.000e-04 |    47.9058 |         21.5463 |     1.1817 |          3.2261 |            4757\n"
     ]
    },
    {
     "name": "stderr",
     "output_type": "stream",
     "text": [
      " 83%|████████▎ | 10/12 [00:00<00:00, 16.81it/s]"
     ]
    },
    {
     "name": "stdout",
     "output_type": "stream",
     "text": [
      "22:12 |    65 |     3.000e-04 |    48.1717 |         21.2946 |     1.6990 |          3.2397 |            4757\n"
     ]
    },
    {
     "name": "stderr",
     "output_type": "stream",
     "text": [
      "\n",
      " 92%|█████████▏| 11/12 [00:00<00:00, 17.98it/s]"
     ]
    },
    {
     "name": "stdout",
     "output_type": "stream",
     "text": [
      "22:12 |    66 |     3.000e-04 |    47.0289 |         21.7609 |     1.3594 |          3.2483 |            4757\n"
     ]
    },
    {
     "name": "stderr",
     "output_type": "stream",
     "text": [
      "\n",
      " 83%|████████▎ | 10/12 [00:00<00:00, 16.15it/s]\n"
     ]
    },
    {
     "name": "stdout",
     "output_type": "stream",
     "text": [
      "22:13 |    67 |     3.000e-04 |    47.2235 |         21.1447 |     2.1467 |          3.1961 |            4757\n"
     ]
    },
    {
     "name": "stderr",
     "output_type": "stream",
     "text": [
      " 83%|████████▎ | 10/12 [00:00<00:00, 16.22it/s]\n"
     ]
    },
    {
     "name": "stdout",
     "output_type": "stream",
     "text": [
      "22:14 |    68 |     3.000e-04 |    45.7397 |         20.6076 |     1.4047 |          3.1396 |            4757\n"
     ]
    },
    {
     "name": "stderr",
     "output_type": "stream",
     "text": [
      " 83%|████████▎ | 10/12 [00:00<00:00, 15.96it/s]\n"
     ]
    },
    {
     "name": "stdout",
     "output_type": "stream",
     "text": [
      "22:15 |    69 |     3.000e-04 |    46.9609 |         21.9874 |     1.1233 |          3.2366 |            4757\n"
     ]
    },
    {
     "name": "stderr",
     "output_type": "stream",
     "text": [
      " 83%|████████▎ | 10/12 [00:00<00:00, 16.68it/s]\n"
     ]
    },
    {
     "name": "stdout",
     "output_type": "stream",
     "text": [
      "22:15 |    70 |     3.000e-04 |    43.7315 |         19.3390 |     1.8847 |          3.0750 |            4757\n"
     ]
    },
    {
     "name": "stderr",
     "output_type": "stream",
     "text": [
      " 75%|███████▌  | 9/12 [00:00<00:00, 14.78it/s]\n"
     ]
    },
    {
     "name": "stdout",
     "output_type": "stream",
     "text": [
      "22:16 |    71 |     3.000e-04 |    45.8097 |         19.8132 |     0.9671 |          3.0800 |            4757\n"
     ]
    },
    {
     "name": "stderr",
     "output_type": "stream",
     "text": [
      " 92%|█████████▏| 11/12 [00:00<00:00, 17.90it/s]\n"
     ]
    },
    {
     "name": "stdout",
     "output_type": "stream",
     "text": [
      "22:17 |    72 |     3.000e-04 |    45.2803 |         20.3236 |     1.3539 |          3.1604 |            4757\n"
     ]
    },
    {
     "name": "stderr",
     "output_type": "stream",
     "text": [
      " 92%|█████████▏| 11/12 [00:00<00:00, 17.88it/s]\n"
     ]
    },
    {
     "name": "stdout",
     "output_type": "stream",
     "text": [
      "22:17 |    73 |     3.000e-04 |    44.4597 |         18.5697 |     2.4345 |          2.9769 |            4757\n"
     ]
    },
    {
     "name": "stderr",
     "output_type": "stream",
     "text": [
      " 83%|████████▎ | 10/12 [00:00<00:00, 16.08it/s]\n"
     ]
    },
    {
     "name": "stdout",
     "output_type": "stream",
     "text": [
      "22:18 |    74 |     3.000e-04 |    45.4360 |         19.2525 |     1.5220 |          3.0507 |            4757\n"
     ]
    },
    {
     "name": "stderr",
     "output_type": "stream",
     "text": [
      " 83%|████████▎ | 10/12 [00:00<00:00, 16.73it/s]\n"
     ]
    },
    {
     "name": "stdout",
     "output_type": "stream",
     "text": [
      "22:19 |    75 |     3.000e-04 |    45.1074 |         19.1708 |     0.8445 |          3.0680 |            4757\n"
     ]
    },
    {
     "name": "stderr",
     "output_type": "stream",
     "text": [
      " 83%|████████▎ | 10/12 [00:00<00:00, 16.07it/s]\n"
     ]
    },
    {
     "name": "stdout",
     "output_type": "stream",
     "text": [
      "22:20 |    76 |     3.000e-04 |    43.7972 |         18.1188 |     2.4132 |          2.9509 |            4757\n"
     ]
    },
    {
     "name": "stderr",
     "output_type": "stream",
     "text": [
      " 83%|████████▎ | 10/12 [00:00<00:00, 16.53it/s]\n"
     ]
    },
    {
     "name": "stdout",
     "output_type": "stream",
     "text": [
      "22:20 |    77 |     3.000e-04 |    43.4008 |         19.6401 |     1.5919 |          3.0609 |            4757\n"
     ]
    },
    {
     "name": "stderr",
     "output_type": "stream",
     "text": [
      " 83%|████████▎ | 10/12 [00:00<00:00, 15.84it/s]\n"
     ]
    },
    {
     "name": "stdout",
     "output_type": "stream",
     "text": [
      "22:21 |    78 |     3.000e-04 |    42.2522 |         17.5308 |     1.5831 |          2.9011 |            4757\n"
     ]
    },
    {
     "name": "stderr",
     "output_type": "stream",
     "text": [
      " 83%|████████▎ | 10/12 [00:00<00:00, 16.19it/s]\n"
     ]
    },
    {
     "name": "stdout",
     "output_type": "stream",
     "text": [
      "22:22 |    79 |     3.000e-04 |    43.3382 |         18.8694 |     1.2003 |          2.9942 |            4757\n"
     ]
    },
    {
     "name": "stderr",
     "output_type": "stream",
     "text": [
      " 92%|█████████▏| 11/12 [00:00<00:00, 17.98it/s]"
     ]
    },
    {
     "name": "stdout",
     "output_type": "stream",
     "text": [
      "22:23 |    80 |     3.000e-04 |    41.5589 |         17.6943 |     1.8960 |          2.9554 |            4757\n"
     ]
    },
    {
     "name": "stderr",
     "output_type": "stream",
     "text": [
      "\n",
      " 83%|████████▎ | 10/12 [00:00<00:00, 16.44it/s]\n"
     ]
    },
    {
     "name": "stdout",
     "output_type": "stream",
     "text": [
      "22:23 |    81 |     3.000e-04 |    42.2584 |         17.9938 |     1.5618 |          2.9184 |            4757\n"
     ]
    },
    {
     "name": "stderr",
     "output_type": "stream",
     "text": [
      " 83%|████████▎ | 10/12 [00:00<00:00, 16.21it/s]\n"
     ]
    },
    {
     "name": "stdout",
     "output_type": "stream",
     "text": [
      "22:24 |    82 |     3.000e-04 |    41.9427 |         17.0740 |     2.2899 |          2.8735 |            4757\n"
     ]
    },
    {
     "name": "stderr",
     "output_type": "stream",
     "text": [
      " 83%|████████▎ | 10/12 [00:00<00:00, 16.53it/s]\n"
     ]
    },
    {
     "name": "stdout",
     "output_type": "stream",
     "text": [
      "22:25 |    83 |     3.000e-04 |    42.5678 |         17.4919 |     1.1226 |          2.9412 |            4757\n"
     ]
    },
    {
     "name": "stderr",
     "output_type": "stream",
     "text": [
      " 83%|████████▎ | 10/12 [00:00<00:00, 16.77it/s]\n"
     ]
    },
    {
     "name": "stdout",
     "output_type": "stream",
     "text": [
      "22:26 |    84 |     3.000e-04 |    42.9240 |         21.2907 |     2.6661 |          3.2243 |            4757\n"
     ]
    },
    {
     "name": "stderr",
     "output_type": "stream",
     "text": [
      " 92%|█████████▏| 11/12 [00:00<00:00, 18.00it/s]\n"
     ]
    },
    {
     "name": "stdout",
     "output_type": "stream",
     "text": [
      "22:26 |    85 |     3.000e-04 |    41.4207 |         20.2381 |     1.3391 |          3.1540 |            4757\n"
     ]
    },
    {
     "name": "stderr",
     "output_type": "stream",
     "text": [
      " 92%|█████████▏| 11/12 [00:00<00:00, 17.68it/s]\n"
     ]
    },
    {
     "name": "stdout",
     "output_type": "stream",
     "text": [
      "22:27 |    86 |     3.000e-04 |    41.1327 |         17.5980 |     1.8776 |          2.9001 |            4757\n"
     ]
    },
    {
     "name": "stderr",
     "output_type": "stream",
     "text": [
      " 92%|█████████▏| 11/12 [00:00<00:00, 18.64it/s]\n"
     ]
    },
    {
     "name": "stdout",
     "output_type": "stream",
     "text": [
      "22:28 |    87 |     3.000e-04 |    41.3816 |         16.6999 |     2.0992 |          2.8156 |            4757\n"
     ]
    },
    {
     "name": "stderr",
     "output_type": "stream",
     "text": [
      " 92%|█████████▏| 11/12 [00:00<00:00, 17.96it/s]"
     ]
    },
    {
     "name": "stdout",
     "output_type": "stream",
     "text": [
      "22:29 |    88 |     3.000e-04 |    41.5637 |         18.7294 |     2.1388 |          3.0530 |            4757\n"
     ]
    },
    {
     "name": "stderr",
     "output_type": "stream",
     "text": [
      "\n",
      " 92%|█████████▏| 11/12 [00:00<00:00, 18.10it/s]\n"
     ]
    },
    {
     "name": "stdout",
     "output_type": "stream",
     "text": [
      "22:29 |    89 |     3.000e-04 |    40.5919 |         18.2738 |     1.9600 |          2.9726 |            4757\n"
     ]
    },
    {
     "name": "stderr",
     "output_type": "stream",
     "text": [
      " 83%|████████▎ | 10/12 [00:00<00:00, 16.50it/s]\n"
     ]
    },
    {
     "name": "stdout",
     "output_type": "stream",
     "text": [
      "22:30 |    90 |     3.000e-04 |    40.2755 |         16.2177 |     1.8105 |          2.7847 |            4757\n"
     ]
    },
    {
     "name": "stderr",
     "output_type": "stream",
     "text": [
      " 92%|█████████▏| 11/12 [00:00<00:00, 17.81it/s]\n"
     ]
    },
    {
     "name": "stdout",
     "output_type": "stream",
     "text": [
      "22:31 |    91 |     3.000e-04 |    40.7195 |         17.2499 |     1.6185 |          2.8850 |            4757\n"
     ]
    },
    {
     "name": "stderr",
     "output_type": "stream",
     "text": [
      " 75%|███████▌  | 9/12 [00:00<00:00, 14.73it/s]\n"
     ]
    },
    {
     "name": "stdout",
     "output_type": "stream",
     "text": [
      "22:31 |    92 |     3.000e-04 |    39.8900 |         17.9464 |     2.1883 |          2.9318 |            4757\n"
     ]
    },
    {
     "name": "stderr",
     "output_type": "stream",
     "text": [
      " 92%|█████████▏| 11/12 [00:00<00:00, 17.97it/s]"
     ]
    },
    {
     "name": "stdout",
     "output_type": "stream",
     "text": [
      "22:32 |    93 |     3.000e-04 |    41.7045 |         15.7792 |     1.9819 |          2.7323 |            4757\n"
     ]
    },
    {
     "name": "stderr",
     "output_type": "stream",
     "text": [
      "\n",
      " 92%|█████████▏| 11/12 [00:00<00:00, 17.89it/s]\n"
     ]
    },
    {
     "name": "stdout",
     "output_type": "stream",
     "text": [
      "22:33 |    94 |     3.000e-04 |    39.6776 |         15.2515 |     2.0271 |          2.6889 |            4757\n"
     ]
    },
    {
     "name": "stderr",
     "output_type": "stream",
     "text": [
      " 83%|████████▎ | 10/12 [00:00<00:00, 15.90it/s]\n"
     ]
    },
    {
     "name": "stdout",
     "output_type": "stream",
     "text": [
      "22:34 |    95 |     3.000e-04 |    40.0679 |         18.8966 |     1.4959 |          2.9896 |            4757\n"
     ]
    },
    {
     "name": "stderr",
     "output_type": "stream",
     "text": [
      " 92%|█████████▏| 11/12 [00:00<00:00, 17.78it/s]\n"
     ]
    },
    {
     "name": "stdout",
     "output_type": "stream",
     "text": [
      "22:34 |    96 |     3.000e-04 |    39.6887 |         15.7775 |     1.7754 |          2.7433 |            4757\n"
     ]
    },
    {
     "name": "stderr",
     "output_type": "stream",
     "text": [
      " 75%|███████▌  | 9/12 [00:00<00:00, 15.07it/s]\n"
     ]
    },
    {
     "name": "stdout",
     "output_type": "stream",
     "text": [
      "22:35 |    97 |     3.000e-04 |    38.2312 |         15.2951 |     0.8489 |          2.6981 |            4757\n"
     ]
    },
    {
     "name": "stderr",
     "output_type": "stream",
     "text": [
      " 92%|█████████▏| 11/12 [00:00<00:00, 18.04it/s]\n"
     ]
    },
    {
     "name": "stdout",
     "output_type": "stream",
     "text": [
      "22:36 |    98 |     3.000e-04 |    36.8509 |         15.2424 |     2.0087 |          2.6863 |            4757\n"
     ]
    },
    {
     "name": "stderr",
     "output_type": "stream",
     "text": [
      " 83%|████████▎ | 10/12 [00:00<00:00, 15.93it/s]\n"
     ]
    },
    {
     "name": "stdout",
     "output_type": "stream",
     "text": [
      "22:37 |    99 |     3.000e-04 |    37.7593 |         15.1979 |     1.9839 |          2.6797 |            4757\n"
     ]
    },
    {
     "name": "stderr",
     "output_type": "stream",
     "text": [
      " 92%|█████████▏| 11/12 [00:00<00:00, 17.61it/s]\n"
     ]
    },
    {
     "name": "stdout",
     "output_type": "stream",
     "text": [
      "22:37 |   100 |     3.000e-04 |    37.5842 |         15.4931 |     1.5114 |          2.6978 |            4757\n"
     ]
    }
   ],
   "source": [
    "T.train(device=DEVICE, n_epochs=100)"
   ]
  },
  {
   "cell_type": "markdown",
   "metadata": {
    "id": "rdhcCud3XTRu"
   },
   "source": [
    "### Evaluating the model on the test set\n",
    "\n",
    "Now we have a brand new model trained and validated. We can use the best model from this training to evaluate its performance on the test set. `results` contains the predictions of properties for the whole test dataset. `targets` contains the ground truth for such data. `test_loss` is the loss, calculated with the same function used during the training part."
   ]
  },
  {
   "cell_type": "code",
   "execution_count": 195,
   "metadata": {
    "id": "RisYQrM5XPVn"
   },
   "outputs": [],
   "source": [
    "results, targets, val_loss = evaluate(T.get_best_model(), test_loader, loss_fn, device=DEVICE)"
   ]
  },
  {
   "cell_type": "code",
   "execution_count": 196,
   "metadata": {
    "colab": {
     "base_uri": "https://localhost:8080/"
    },
    "id": "uN2exz2ZXfb9",
    "outputId": "fdaac959-96d8-4ef3-f341-bd7ac902be2b"
   },
   "outputs": [
    {
     "data": {
      "text/plain": [
       "torch.Size([200, 1])"
      ]
     },
     "execution_count": 196,
     "metadata": {
      "tags": []
     },
     "output_type": "execute_result"
    }
   ],
   "source": [
    "to_tensor(results['energy'], stack=True).shape"
   ]
  },
  {
   "cell_type": "markdown",
   "metadata": {
    "id": "fJmZbELLXk2I"
   },
   "source": [
    "Finally, we can plot our results to observe how well is our model performing:"
   ]
  },
  {
   "cell_type": "code",
   "execution_count": 197,
   "metadata": {
    "colab": {
     "base_uri": "https://localhost:8080/",
     "height": 392
    },
    "id": "SsfbrH58XjGi",
    "outputId": "b4880401-e320-4b1c-eb86-466f1e92f823"
   },
   "outputs": [
    {
     "data": {
      "image/png": "[encoded data removed]",
      "text/plain": [
       "<Figure size 864x432 with 2 Axes>"
      ]
     },
     "metadata": {
      "needs_background": "light",
      "tags": []
     },
     "output_type": "display_data"
    }
   ],
   "source": [
    "units = {\n",
    "    'energy_grad': r'kcal/mol/$\\AA$',\n",
    "    'energy': 'kcal/mol'\n",
    "}\n",
    "\n",
    "fig, ax_fig = plt.subplots(1, 2, figsize=(12, 6))\n",
    "\n",
    "for ax, key in zip(ax_fig, units.keys()):\n",
    "    pred = torch.stack(results[key], dim=0).view(-1).detach().cpu().numpy()\n",
    "    targ = torch.stack(targets[key], dim=0).view(-1).detach().cpu().numpy()\n",
    "    mae = abs(pred-targ).mean()\n",
    "\n",
    "    ax.scatter(pred, targ, color='#ff7f0e', alpha=0.3)\n",
    "    \n",
    "    lim_min = min(np.min(pred), np.min(targ)) * 1.1\n",
    "    lim_max = max(np.max(pred), np.max(targ)) * 1.1\n",
    "    \n",
    "    ax.set_xlim(lim_min, lim_max)\n",
    "    ax.set_ylim(lim_min, lim_max)\n",
    "    ax.set_aspect('equal')\n",
    "    \n",
    "    ax.plot((lim_min, lim_max),\n",
    "            (lim_min, lim_max),\n",
    "            color='#000000',\n",
    "            zorder=-1,\n",
    "            linewidth=0.5)\n",
    "    \n",
    "    ax.set_title(key.upper(), fontsize=14)\n",
    "    ax.set_xlabel('predicted %s (%s)' % (key, units[key]), fontsize=12)\n",
    "    ax.set_ylabel('target %s (%s)' % (key, units[key]), fontsize=12)\n",
    "    ax.text(0.1, 0.9, 'MAE: %.2f %s' % (mae, units[key]), \n",
    "           transform=ax.transAxes, fontsize=14)\n",
    "    \n",
    "plt.show()"
   ]
  },
  {
   "cell_type": "markdown",
   "metadata": {
    "id": "Dc8A_bgJXtKS"
   },
   "source": [
    "The model is performing quite well."
   ]
  },
  {
   "cell_type": "markdown",
   "metadata": {
    "id": "PYmXBw2qX6aT"
   },
   "source": [
    "### Interface of Neural Force Field to ASE\n",
    "\n",
    "This tutorial shows how the `nff` package interfaces with the Atomistic Simulation Environment (ASE). We assume the user went through the last tutorial, so we can load the pretrained models without having to train them again.\n",
    "\n",
    "As before, importing the dependencies:"
   ]
  },
  {
   "cell_type": "code",
   "execution_count": 198,
   "metadata": {
    "id": "7UOF8lVDXqnJ"
   },
   "outputs": [],
   "source": [
    "%reload_ext autoreload\n",
    "%autoreload 2\n",
    "\n",
    "import sys"
   ]
  },
  {
   "cell_type": "code",
   "execution_count": 199,
   "metadata": {
    "id": "yrWp3HHaX_tZ"
   },
   "outputs": [],
   "source": [
    "import numpy as np\n",
    "import matplotlib.pyplot as plt\n",
    "\n",
    "import torch\n",
    "from torch.utils.data import DataLoader\n",
    "\n",
    "from nff.io import NeuralFF, AtomsBatch\n",
    "from nff.data import Dataset\n",
    "from nff.train import load_model, evaluate\n",
    "import nff.utils.constants as const"
   ]
  },
  {
   "cell_type": "markdown",
   "metadata": {
    "id": "GSLb15lFYLNJ"
   },
   "source": [
    "### Loading the relevant data\n",
    "We reload the dataset and create a GraphLoader as we did last time"
   ]
  },
  {
   "cell_type": "code",
   "execution_count": 200,
   "metadata": {
    "id": "_rgPGeJ3YDjJ"
   },
   "outputs": [],
   "source": [
    "dataset = Dataset.from_file('data/dataset.pth.tar')"
   ]
  },
  {
   "cell_type": "markdown",
   "metadata": {
    "id": "JcC6iK_GYQiG"
   },
   "source": [
    "#### Creating Atoms\n",
    "\n",
    "As an example, we can create an `Atoms` object from any element of the dataset. Let's take the first one, for simplicity:"
   ]
  },
  {
   "cell_type": "code",
   "execution_count": 201,
   "metadata": {
    "id": "H73gzjWYYlvT"
   },
   "outputs": [],
   "source": [
    "props = dataset[0].copy()\n",
    "atoms = AtomsBatch(positions=props['nxyz'][:, 1:], numbers=props['nxyz'][:, 0], props=props)"
   ]
  },
  {
   "cell_type": "markdown",
   "metadata": {
    "id": "R5-SYC5tYV19"
   },
   "source": [
    "### Creating the ASE calculator\n",
    "\n",
    "Now we just have to load the ASE calculator from a pretrained model. One way of doing so is through the in-build `from_file` method. You just have to specify the folder where the model was trained and subsequently stored."
   ]
  },
  {
   "cell_type": "code",
   "execution_count": 203,
   "metadata": {
    "id": "RhhvUDvyYOTW"
   },
   "outputs": [],
   "source": [
    "nff_ase = NeuralFF.from_file('sandbox/', device='cuda:0')"
   ]
  },
  {
   "cell_type": "markdown",
   "metadata": {
    "id": "kTV0lMA2YeV4"
   },
   "source": [
    "Assigning this calculator to `atoms` is easy:"
   ]
  },
  {
   "cell_type": "code",
   "execution_count": 204,
   "metadata": {
    "id": "8P6Qezc4Ya3x"
   },
   "outputs": [],
   "source": [
    "atoms.set_calculator(nff_ase)"
   ]
  },
  {
   "cell_type": "markdown",
   "metadata": {
    "id": "uj2WSw5nYpK4"
   },
   "source": [
    "### Calculating with ASE\n",
    "\n",
    "Now, we just have to calculate the energies of interest, such as the potential energy of the system. As ASE uses eV as units of energy, we have to convert that information from our database. Calculating is as easy as doing the following:"
   ]
  },
  {
   "cell_type": "code",
   "execution_count": 205,
   "metadata": {
    "colab": {
     "base_uri": "https://localhost:8080/"
    },
    "id": "T221X5oqYhJY",
    "outputId": "55ed9fdf-aaaa-4207-d87f-2bec841e20d4"
   },
   "outputs": [
    {
     "name": "stdout",
     "output_type": "stream",
     "text": [
      "result: -0.22976 eV\n",
      "  true: -0.18951 eV\n"
     ]
    }
   ],
   "source": [
    "print('result: %.5f eV' % atoms.get_potential_energy())\n",
    "print('  true: %.5f eV' % (props['energy'] / const.EV_TO_KCAL_MOL))"
   ]
  },
  {
   "cell_type": "markdown",
   "metadata": {
    "id": "ZiHgKozeYuJr"
   },
   "source": [
    "Comparing forces is as easy as running `get_forces`. For better visualization, we can plot the components of the forces and see the accuracy of our calculation:"
   ]
  },
  {
   "cell_type": "code",
   "execution_count": 206,
   "metadata": {
    "id": "yGT2IDX2YsTL"
   },
   "outputs": [],
   "source": [
    "targets = -props['energy_grad'].numpy() / const.EV_TO_KCAL_MOL\n",
    "results = atoms.get_forces()"
   ]
  },
  {
   "cell_type": "code",
   "execution_count": 207,
   "metadata": {
    "colab": {
     "base_uri": "https://localhost:8080/",
     "height": 414
    },
    "id": "ByHpqRGbYxsm",
    "outputId": "bc933d27-8312-4533-fd4a-45dc96fddb4a"
   },
   "outputs": [
    {
     "data": {
      "image/png": "[encoded data removed]",
      "text/plain": [
       "<Figure size 432x432 with 1 Axes>"
      ]
     },
     "metadata": {
      "needs_background": "light",
      "tags": []
     },
     "output_type": "display_data"
    }
   ],
   "source": [
    "units = {\n",
    "    'force': r'kcal/mol/$\\AA$',\n",
    "    'energy': 'kcal/mol'\n",
    "}\n",
    "\n",
    "fig, ax = plt.subplots(1, 1, figsize=(6, 6))\n",
    "\n",
    "pred = results.reshape(-1)\n",
    "targ = targets.reshape(-1)\n",
    "\n",
    "ax.scatter(pred, targ, color='#ff7f0e', alpha=0.5)\n",
    "\n",
    "lim_min = min(np.min(pred), np.min(targ)) * 1.1\n",
    "lim_max = max(np.max(pred), np.max(targ)) * 1.1\n",
    "\n",
    "ax.set_xlim(lim_min, lim_max)\n",
    "ax.set_ylim(lim_min, lim_max)\n",
    "ax.set_aspect('equal')\n",
    "\n",
    "ax.plot((lim_min, lim_max),\n",
    "        (lim_min, lim_max),\n",
    "        color='#000000',\n",
    "        zorder=-1,\n",
    "        linewidth=0.5)\n",
    "\n",
    "ax.set_title('FORCES', fontsize=14)\n",
    "ax.set_xlabel('predicted force (eV/$\\\\AA$)', fontsize=12)\n",
    "ax.set_ylabel('target force (eV/$\\\\AA$)', fontsize=12)\n",
    "\n",
    "plt.show()"
   ]
  },
  {
   "cell_type": "markdown",
   "metadata": {
    "id": "wPO6W0SDY-ud"
   },
   "source": [
    "### Running MD simulations using nff and ASE\n",
    "\n",
    "This tutorial shows how the `nff` package interfaces with the Atomistic Simulation Environment (ASE). We assume the user went through tutorial `01_training`, so we can load the pretrained models without having to train them again.\n",
    "\n",
    "As before, importing the dependencies:\n",
    "\n"
   ]
  },
  {
   "cell_type": "code",
   "execution_count": 208,
   "metadata": {
    "id": "VlvLvpaWY0Pu"
   },
   "outputs": [],
   "source": [
    "import sys\n",
    "\n",
    "import numpy as np\n",
    "import matplotlib.pyplot as plt\n",
    "\n",
    "import torch\n",
    "\n",
    "from ase import Atoms\n",
    "from ase.md.verlet import VelocityVerlet\n",
    "\n",
    "from nff.md.nve import Dynamics\n",
    "from nff.data import Dataset\n",
    "from nff.train import load_model, evaluate\n",
    "\n",
    "import nff.utils.constants as const\n",
    "\n",
    "from ase import units\n",
    "from nff.io import NeuralFF, AtomsBatch"
   ]
  },
  {
   "cell_type": "markdown",
   "metadata": {
    "id": "Tu54S1G8ZM9U"
   },
   "source": [
    "### Loading the relevant data\n",
    "\n",
    "We reload the dataset and create a `GraphLoader` as we did last time:"
   ]
  },
  {
   "cell_type": "code",
   "execution_count": 209,
   "metadata": {
    "id": "8N_qE5ayZGVP"
   },
   "outputs": [],
   "source": [
    "dataset = Dataset.from_file('data/dataset.pth.tar')"
   ]
  },
  {
   "cell_type": "markdown",
   "metadata": {
    "id": "_dYsUfLlZTAQ"
   },
   "source": [
    "#### Creating Atoms\n",
    "As before, we can create an `Atoms` object from any element of the dataset. Let's take the first one, for simplicity:"
   ]
  },
  {
   "cell_type": "code",
   "execution_count": 210,
   "metadata": {
    "id": "wc9m9EKwZQHz"
   },
   "outputs": [],
   "source": [
    "props = dataset[0].copy()\n",
    "atoms = AtomsBatch(positions=props['nxyz'][:, 1:], numbers=props['nxyz'][:, 0], props=props)"
   ]
  },
  {
   "cell_type": "markdown",
   "metadata": {
    "id": "LlZCCQqWZaOd"
   },
   "source": [
    "#### Creating the ASE calculator\n",
    "\n",
    "Now we just have to load the ASE calculator from a pretrained model. One way of doing so is through the in-build `from_file` method. You just have to specify the folder where the model was trained and subsequently stored."
   ]
  },
  {
   "cell_type": "code",
   "execution_count": 211,
   "metadata": {
    "id": "qvMJckelZXTp"
   },
   "outputs": [],
   "source": [
    "nff_ase = NeuralFF.from_file('sandbox/', device=0)"
   ]
  },
  {
   "cell_type": "markdown",
   "metadata": {
    "id": "NeMq99qNZniJ"
   },
   "source": [
    "Assigning this calculator to `atoms` is easy:"
   ]
  },
  {
   "cell_type": "code",
   "execution_count": 212,
   "metadata": {
    "id": "cLuwEjXnZjOh"
   },
   "outputs": [],
   "source": [
    "atoms.set_calculator(nff_ase)"
   ]
  },
  {
   "cell_type": "markdown",
   "metadata": {
    "id": "NXqKntjlZtLB"
   },
   "source": [
    "#### Configuring the dynamics for the system\n",
    "\n",
    "In this example, we will run an NVE dynamics simulation. We will use the default parameters there implemented to run a trajectory for an ethanol molecule. The parameters we will specify are the following:\n",
    "\n",
    "* `T_init`: initial temperature of the simulation\n",
    "* `time_step`: time step in femtoseconds\n",
    "* `thermostat`: ASE integrator to use when performing the simulation\n",
    "* `thermostat_params`: keyword arguments for ase.Integrator class, will be different case-by-case\n",
    "* `steps`: number of steps to simulate\n",
    "* `save_frequency`: how often (in steps) save the pose of the molecule in a file\n",
    "* `nbr_list_update_freq`: how often (in steps) to update the neighbor list (not yet implemented)\n",
    "* `thermo_filename`: output file for the thermodynamics log\n",
    "* `traj_filename`: output file for the ASE trajectory file\n",
    "* `skip`: number of initial frames to skip when recording the trajectory"
   ]
  },
  {
   "cell_type": "code",
   "execution_count": 213,
   "metadata": {
    "id": "x2MQqSQEZrJo"
   },
   "outputs": [],
   "source": [
    "md_params = {\n",
    "    'T_init': 450,\n",
    "    'time_step': 0.5,\n",
    "#     'thermostat': NoseHoover,   # or Langevin or NPT or NVT or Thermodynamic Integration\n",
    "#     'thermostat_params': {'timestep': 0.5 * units.fs, \"temperature\": 120.0 * units.kB,  \"ttime\": 20.0}\n",
    "    'thermostat': VelocityVerlet,  \n",
    "    'thermostat_params': {'timestep': 0.5 * units.fs},\n",
    "    'steps': 200,\n",
    "    'save_frequency': 10,\n",
    "    'nbr_list_update_freq': 20,\n",
    "    'thermo_filename': 'thermo.log',\n",
    "    'traj_filename': 'atoms.traj',\n",
    "    'skip': 0\n",
    "}"
   ]
  },
  {
   "cell_type": "code",
   "execution_count": 214,
   "metadata": {
    "colab": {
     "base_uri": "https://localhost:8080/"
    },
    "id": "-jPsz9VvaEe1",
    "outputId": "59ad10d4-6580-4666-8840-545726bcba82"
   },
   "outputs": [
    {
     "name": "stdout",
     "output_type": "stream",
     "text": [
      "Time[ps]      Etot[eV]     Epot[eV]     Ekin[eV]    T[K]\n"
     ]
    },
    {
     "name": "stderr",
     "output_type": "stream",
     "text": [
      "/usr/local/lib/python3.7/dist-packages/ase/atoms.py:921: VisibleDeprecationWarning: Use get_global_number_of_atoms() instead\n",
      "  np.VisibleDeprecationWarning)\n"
     ]
    },
    {
     "name": "stdout",
     "output_type": "stream",
     "text": [
      "0.0000           0.1013      -0.2298       0.3311   284.6\n",
      "\n",
      "0.0050           0.1006      -0.3005       0.4011   344.8\n",
      "\n",
      "0.0100           0.1007      -0.2416       0.3423   294.2\n",
      "\n",
      "0.0150           0.1004      -0.3261       0.4265   366.6\n",
      "\n",
      "0.0200           0.1014      -0.1972       0.2986   256.7\n",
      "\n",
      "0.0250           0.1017      -0.2804       0.3822   328.5\n",
      "\n",
      "0.0300           0.1018      -0.2111       0.3129   269.0\n",
      "\n",
      "0.0350           0.1011      -0.1999       0.3010   258.7\n",
      "\n",
      "0.0400           0.1000      -0.3911       0.4912   422.2\n",
      "\n",
      "0.0450           0.1000      -0.2160       0.3160   271.6\n",
      "\n",
      "0.0500           0.1001      -0.2587       0.3587   308.4\n",
      "\n",
      "0.0550           0.0999      -0.4008       0.5008   430.4\n",
      "\n",
      "0.0600           0.1004      -0.2454       0.3458   297.2\n",
      "\n",
      "0.0650           0.1006      -0.3905       0.4911   422.2\n",
      "\n",
      "0.0700           0.1013      -0.2464       0.3477   298.9\n",
      "\n",
      "0.0750           0.1014      -0.1802       0.2815   242.0\n",
      "\n",
      "0.0800           0.1013      -0.3388       0.4400   378.3\n",
      "\n",
      "0.0850           0.1022      -0.2382       0.3404   292.6\n",
      "\n",
      "0.0900           0.1016      -0.2540       0.3557   305.7\n",
      "\n",
      "0.0950           0.1020      -0.2094       0.3114   267.6\n",
      "\n",
      "0.1000           0.1004      -0.3343       0.4348   373.7\n",
      "\n"
     ]
    }
   ],
   "source": [
    "nve = Dynamics(atoms, md_params)\n",
    "nve.run()"
   ]
  },
  {
   "cell_type": "markdown",
   "metadata": {
    "id": "1anU4kSIaNII"
   },
   "source": [
    "The dynamics conserved the energy. The temperature varied throughout the simulation, as expected."
   ]
  },
  {
   "cell_type": "markdown",
   "metadata": {
    "id": "s29cYaG4aQ_B"
   },
   "source": [
    "### Visualizing the trajectory\n",
    "\n",
    "To visualize the trajectory in this tutorial, you will have to install the package `nglview`."
   ]
  },
  {
   "cell_type": "code",
   "execution_count": null,
   "metadata": {
    "id": "vyZJCIFKaUtB"
   },
   "outputs": [],
   "source": [
    "# install nglview\n",
    "!pip install nglview"
   ]
  },
  {
   "cell_type": "code",
   "execution_count": 216,
   "metadata": {
    "id": "QZTsyCpyaHG_"
   },
   "outputs": [],
   "source": [
    "import nglview as nv\n",
    "from ase.io import Trajectory"
   ]
  },
  {
   "cell_type": "markdown",
   "metadata": {
    "id": "cRKGERbGaexH"
   },
   "source": [
    "Displaying the trajectory:"
   ]
  },
  {
   "cell_type": "code",
   "execution_count": 217,
   "metadata": {
    "colab": {
     "base_uri": "https://localhost:8080/",
     "height": 72,
     "referenced_widgets": [
      "52b06dde1ba84ebcaffc53ce81bc9c71"
     ]
    },
    "id": "HVYU7vLfadHW",
    "outputId": "a91667cf-22a4-4fac-de28-ee3fd285ffaf"
   },
   "outputs": [
    {
     "name": "stderr",
     "output_type": "stream",
     "text": [
      "/usr/local/lib/python3.7/dist-packages/ase/io/jsonio.py:122: VisibleDeprecationWarning: Creating an ndarray from ragged nested sequences (which is a list-or-tuple of lists-or-tuples-or ndarrays with different lengths or shapes) is deprecated. If you meant to do this, you must specify 'dtype=object' when creating the ndarray\n",
      "  a = np.array(obj)\n"
     ]
    },
    {
     "data": {
      "application/vnd.jupyter.widget-view+json": {
       "model_id": "52b06dde1ba84ebcaffc53ce81bc9c71",
       "version_major": 2,
       "version_minor": 0
      },
      "text/plain": [
       "NGLWidget(max_frame=20)"
      ]
     },
     "metadata": {
      "tags": []
     },
     "output_type": "display_data"
    }
   ],
   "source": [
    "%matplotlib notebook\n",
    "\n",
    "traj = Trajectory('atoms.traj')\n",
    "nv.show_asetraj(traj)"
   ]
  },
  {
   "cell_type": "markdown",
   "metadata": {
    "id": "NibcFe5DajgZ"
   },
   "source": [
    "Looks like the atoms are still together. Visual inspection says that the trajectory is reasonable. Yay for `nff`!"
   ]
  },
  {
   "cell_type": "markdown",
   "metadata": {
    "id": "ygwB_ENqbNmG"
   },
   "source": [
    "### Transfer learning with the Neural Force Field\n",
    "\n",
    "This tutorial contains a demonstration on how to use the `nff` package to transfer learning between different methods. Most of it is similar to the first tutorial, and we'll go through the same steps when setting it up. The difference, however, is that we'll now train one model and later retrain its last layers to learn the new energies/forces."
   ]
  },
  {
   "cell_type": "code",
   "execution_count": 218,
   "metadata": {
    "id": "uhkRrOUEahbn"
   },
   "outputs": [],
   "source": [
    "import sys\n",
    "\n",
    "import os\n",
    "import shutil\n",
    "import numpy as np\n",
    "import matplotlib.pyplot as plt\n",
    "\n",
    "from sklearn.metrics import mean_absolute_error\n",
    "\n",
    "import torch\n",
    "\n",
    "from torch.optim import Adam\n",
    "from torch.utils.data import DataLoader\n",
    "\n",
    "from nff.data import Dataset, split_train_validation_test, collate_dicts\n",
    "from nff.train import Trainer, get_trainer, get_model, loss, hooks, metrics, evaluate\n",
    "from nff.train.transfer import freeze_parameters, unfreeze_readout"
   ]
  },
  {
   "cell_type": "code",
   "execution_count": 219,
   "metadata": {
    "id": "ZijFN7N_bTTq"
   },
   "outputs": [],
   "source": [
    "DEVICE = 0\n",
    "INDIR = './sandbox'\n",
    "OUTDIR = './sandbox/transfer'\n",
    "OUTDIR_2 = './sandbox/transfer2'\n",
    "BATCH_SIZE = 100\n",
    "\n",
    "if os.path.exists(OUTDIR):\n",
    "    shutil.rmtree(OUTDIR)\n",
    "    os.mkdir(OUTDIR)\n",
    "    \n",
    "if os.path.exists(OUTDIR_2):\n",
    "    shutil.rmtree(OUTDIR_2)\n",
    "    os.mkdir(OUTDIR_2)"
   ]
  },
  {
   "cell_type": "markdown",
   "metadata": {
    "id": "RqrYzJcObZIb"
   },
   "source": [
    "#### Loading the relevant data\n",
    "\n",
    "The dataset we'll work with contains ~500 geometries of ethanol, each calculated with the DLPNO-CCSD(T) level of theory. The procedure to create the validation sets will be exactly the same."
   ]
  },
  {
   "cell_type": "code",
   "execution_count": 220,
   "metadata": {
    "id": "xh1RL89vbWOk"
   },
   "outputs": [],
   "source": [
    "dataset = Dataset.from_file('./data/dataset_dlpno.pth.tar')"
   ]
  },
  {
   "cell_type": "code",
   "execution_count": 221,
   "metadata": {
    "id": "PkWDu2Ghbb04"
   },
   "outputs": [],
   "source": [
    "dset_train = dataset.copy()\n",
    "dset_train.props['energy'] = dset_train.props.pop('energy_gga')\n",
    "dset_train.props['energy_grad'] = dset_train.props.pop('energy_gga_grad')\n",
    "\n",
    "dset_transf = dataset.copy()\n",
    "dset_transf.props['energy'] = dset_transf.props.pop('energy_dlpno')\n",
    "dset_transf.props['energy_grad'] = dset_transf.props.pop('energy_dlpno_grad')"
   ]
  },
  {
   "cell_type": "code",
   "execution_count": 222,
   "metadata": {
    "id": "uMIRfyVmbdhw"
   },
   "outputs": [],
   "source": [
    "split_datasets = {\n",
    "    'normal': split_train_validation_test(dset_train, val_size=0.2, test_size=0.2),\n",
    "    'transf': split_train_validation_test(dset_transf, val_size=0.2, test_size=0.7)\n",
    "}\n",
    "\n",
    "split_loaders = {\n",
    "    key: {\n",
    "        'train': DataLoader(train, batch_size=BATCH_SIZE, collate_fn=collate_dicts),\n",
    "        'val': DataLoader(val, batch_size=BATCH_SIZE, collate_fn=collate_dicts),\n",
    "        'test': DataLoader(test, batch_size=BATCH_SIZE, collate_fn=collate_dicts)\n",
    "    }\n",
    "    for key, (train, val, test) in split_datasets.items()\n",
    "}"
   ]
  },
  {
   "cell_type": "markdown",
   "metadata": {
    "id": "No7lUvpebjIx"
   },
   "source": [
    "#### Loading the pretrained model and freezing its convolution layers\n",
    "\n",
    "The dataset we'll work with contains ~500 geometries of ethanol, each calculated with the DLPNO-CCSD(T) level of theory. The procedure to create the validation sets will be exactly the same."
   ]
  },
  {
   "cell_type": "code",
   "execution_count": 223,
   "metadata": {
    "id": "IChkkOYUbgiB"
   },
   "outputs": [],
   "source": [
    "dataset = Dataset.from_file('./data/dataset_dlpno.pth.tar')"
   ]
  },
  {
   "cell_type": "code",
   "execution_count": 224,
   "metadata": {
    "id": "rt8bi0F4bmyU"
   },
   "outputs": [],
   "source": [
    "dset_train = dataset.copy()\n",
    "dset_train.props['energy'] = dset_train.props.pop('energy_gga')\n",
    "dset_train.props['energy_grad'] = dset_train.props.pop('energy_gga_grad')\n",
    "\n",
    "dset_transf = dataset.copy()\n",
    "dset_transf.props['energy'] = dset_transf.props.pop('energy_dlpno')\n",
    "dset_transf.props['energy_grad'] = dset_transf.props.pop('energy_dlpno_grad')"
   ]
  },
  {
   "cell_type": "code",
   "execution_count": 225,
   "metadata": {
    "id": "XjQ6dQY1bodT"
   },
   "outputs": [],
   "source": [
    "split_datasets = {\n",
    "    'normal': split_train_validation_test(dset_train, val_size=0.2, test_size=0.2),\n",
    "    'transf': split_train_validation_test(dset_transf, val_size=0.2, test_size=0.7)\n",
    "}\n",
    "\n",
    "split_loaders = {\n",
    "    key: {\n",
    "        'train': DataLoader(train, batch_size=BATCH_SIZE, collate_fn=collate_dicts),\n",
    "        'val': DataLoader(val, batch_size=BATCH_SIZE, collate_fn=collate_dicts),\n",
    "        'test': DataLoader(test, batch_size=BATCH_SIZE, collate_fn=collate_dicts)\n",
    "    }\n",
    "    for key, (train, val, test) in split_datasets.items()\n",
    "}"
   ]
  },
  {
   "cell_type": "markdown",
   "metadata": {
    "id": "VtB364-mbroq"
   },
   "source": [
    "#### Loading the pretrained model and freezing its convolution layers"
   ]
  },
  {
   "cell_type": "code",
   "execution_count": 226,
   "metadata": {
    "id": "4H1aRRABbp_O"
   },
   "outputs": [],
   "source": [
    "params = {\n",
    "    'n_atom_basis': 256,\n",
    "    'n_filters': 256,\n",
    "    'n_gaussians': 32,\n",
    "    'n_convolutions': 4,\n",
    "    'cutoff': 5.0,\n",
    "    'trainable_gauss': True\n",
    "}\n",
    "\n",
    "model = get_model(params)"
   ]
  },
  {
   "cell_type": "markdown",
   "metadata": {
    "id": "i2AWT0Drbv99"
   },
   "source": [
    "The model will be trained on GGA energies and forces. To do so, we just have to create a loss function for these parameters:"
   ]
  },
  {
   "cell_type": "code",
   "execution_count": 227,
   "metadata": {
    "id": "4euZ027Ibuef"
   },
   "outputs": [],
   "source": [
    "loss_fn = loss.build_mse_loss(loss_coef={'energy': 0.01, 'energy_grad': 1})"
   ]
  },
  {
   "cell_type": "markdown",
   "metadata": {
    "id": "Z0VpL188bzSC"
   },
   "source": [
    "We should also select an optimizer for our recently created model:"
   ]
  },
  {
   "cell_type": "code",
   "execution_count": 228,
   "metadata": {
    "id": "eu7iMRl1bxjF"
   },
   "outputs": [],
   "source": [
    "trainable_params = filter(lambda p: p.requires_grad, model.parameters())\n",
    "optimizer = Adam(trainable_params, lr=3e-4)"
   ]
  },
  {
   "cell_type": "markdown",
   "metadata": {
    "id": "aKbZUi53b4Qk"
   },
   "source": [
    "#### Metrics and hooks"
   ]
  },
  {
   "cell_type": "code",
   "execution_count": 229,
   "metadata": {
    "id": "IsdN_UqDb1Yw"
   },
   "outputs": [],
   "source": [
    "train_metrics = [\n",
    "    metrics.MeanAbsoluteError('energy'),\n",
    "    metrics.MeanAbsoluteError('energy_grad')\n",
    "]"
   ]
  },
  {
   "cell_type": "code",
   "execution_count": 230,
   "metadata": {
    "id": "V9Q-tBtPb6Yy"
   },
   "outputs": [],
   "source": [
    "train_hooks = [\n",
    "    hooks.MaxEpochHook(200),\n",
    "    hooks.CSVHook(\n",
    "        OUTDIR,\n",
    "        metrics=train_metrics,\n",
    "    ),\n",
    "    hooks.PrintingHook(\n",
    "        OUTDIR,\n",
    "        metrics=train_metrics,\n",
    "        separator = ' | ',\n",
    "        time_strf='%M:%S',\n",
    "        log_memory=False\n",
    "    ),\n",
    "    hooks.ReduceLROnPlateauHook(\n",
    "        optimizer=optimizer,\n",
    "        patience=30,\n",
    "        factor=0.5,\n",
    "        min_lr=1e-7,\n",
    "        window_length=1,\n",
    "        stop_after_min=True\n",
    "    )\n",
    "]"
   ]
  },
  {
   "cell_type": "markdown",
   "metadata": {
    "id": "UbSRWzxsb_eR"
   },
   "source": [
    "#### Trainer wrapper"
   ]
  },
  {
   "cell_type": "code",
   "execution_count": 231,
   "metadata": {
    "id": "dUx7QMlmb8R-"
   },
   "outputs": [],
   "source": [
    "T = Trainer(\n",
    "    model_path=OUTDIR,\n",
    "    model=model,\n",
    "    loss_fn=loss_fn,\n",
    "    optimizer=optimizer,\n",
    "    train_loader=split_loaders['normal']['train'],\n",
    "    validation_loader=split_loaders['normal']['val'],\n",
    "    checkpoint_interval=1,\n",
    "    hooks=train_hooks\n",
    ")"
   ]
  },
  {
   "cell_type": "markdown",
   "metadata": {
    "id": "QonVT_-fcDZZ"
   },
   "source": [
    "Now we can finally train the model using the method `train` from the `Trainer`:"
   ]
  },
  {
   "cell_type": "code",
   "execution_count": 232,
   "metadata": {
    "colab": {
     "base_uri": "https://localhost:8080/"
    },
    "id": "iX4v3h-_cB9p",
    "outputId": "2cdf8074-8452-4047-fe1e-572c3615c712"
   },
   "outputs": [
    {
     "name": "stdout",
     "output_type": "stream",
     "text": [
      " Time | Epoch | Learning rate | Train loss | Validation loss | MAE_energy | MAE_energy_grad | \n"
     ]
    },
    {
     "name": "stderr",
     "output_type": "stream",
     "text": [
      " 92%|█████████▏| 22/24 [00:01<00:00, 16.66it/s]\n"
     ]
    },
    {
     "name": "stdout",
     "output_type": "stream",
     "text": [
      "24:55 |     1 |     3.000e-04 |   275.4406 |         94.7222 |     3.3320 |          7.2276 | \n"
     ]
    },
    {
     "name": "stderr",
     "output_type": "stream",
     "text": [
      " 92%|█████████▏| 22/24 [00:01<00:00, 17.14it/s]\n"
     ]
    },
    {
     "name": "stdout",
     "output_type": "stream",
     "text": [
      "24:57 |     2 |     3.000e-04 |    56.4361 |         32.7216 |     0.7324 |          4.1785 | \n"
     ]
    },
    {
     "name": "stderr",
     "output_type": "stream",
     "text": [
      " 92%|█████████▏| 22/24 [00:01<00:00, 16.71it/s]\n"
     ]
    },
    {
     "name": "stdout",
     "output_type": "stream",
     "text": [
      "24:58 |     3 |     3.000e-04 |    22.4274 |         14.2275 |     3.9696 |          2.6771 | \n"
     ]
    },
    {
     "name": "stderr",
     "output_type": "stream",
     "text": [
      " 92%|█████████▏| 22/24 [00:01<00:00, 17.01it/s]\n"
     ]
    },
    {
     "name": "stdout",
     "output_type": "stream",
     "text": [
      "25:00 |     4 |     3.000e-04 |    10.0306 |          7.7599 |     0.3523 |          1.9813 | \n"
     ]
    },
    {
     "name": "stderr",
     "output_type": "stream",
     "text": [
      " 92%|█████████▏| 22/24 [00:01<00:00, 16.89it/s]\n"
     ]
    },
    {
     "name": "stdout",
     "output_type": "stream",
     "text": [
      "25:01 |     5 |     3.000e-04 |     6.0722 |          4.9698 |     0.7112 |          1.5584 | \n"
     ]
    },
    {
     "name": "stderr",
     "output_type": "stream",
     "text": [
      " 92%|█████████▏| 22/24 [00:01<00:00, 16.91it/s]\n"
     ]
    },
    {
     "name": "stdout",
     "output_type": "stream",
     "text": [
      "25:03 |     6 |     3.000e-04 |     4.7012 |          4.3708 |     0.4208 |          1.4666 | \n"
     ]
    },
    {
     "name": "stderr",
     "output_type": "stream",
     "text": [
      " 92%|█████████▏| 22/24 [00:01<00:00, 17.06it/s]\n"
     ]
    },
    {
     "name": "stdout",
     "output_type": "stream",
     "text": [
      "25:04 |     7 |     3.000e-04 |     4.0118 |          3.9632 |     0.5862 |          1.3968 | \n"
     ]
    },
    {
     "name": "stderr",
     "output_type": "stream",
     "text": [
      " 92%|█████████▏| 22/24 [00:01<00:00, 16.93it/s]\n"
     ]
    },
    {
     "name": "stdout",
     "output_type": "stream",
     "text": [
      "25:06 |     8 |     3.000e-04 |     3.5853 |          3.3620 |     0.5056 |          1.2826 | \n"
     ]
    },
    {
     "name": "stderr",
     "output_type": "stream",
     "text": [
      " 92%|█████████▏| 22/24 [00:01<00:00, 16.84it/s]\n"
     ]
    },
    {
     "name": "stdout",
     "output_type": "stream",
     "text": [
      "25:07 |     9 |     3.000e-04 |     3.2515 |          3.1200 |     0.3700 |          1.2356 | \n"
     ]
    },
    {
     "name": "stderr",
     "output_type": "stream",
     "text": [
      " 92%|█████████▏| 22/24 [00:01<00:00, 16.81it/s]\n"
     ]
    },
    {
     "name": "stdout",
     "output_type": "stream",
     "text": [
      "25:09 |    10 |     3.000e-04 |     2.8169 |          3.0663 |     0.3126 |          1.2563 | \n"
     ]
    },
    {
     "name": "stderr",
     "output_type": "stream",
     "text": [
      " 92%|█████████▏| 22/24 [00:01<00:00, 17.00it/s]\n"
     ]
    },
    {
     "name": "stdout",
     "output_type": "stream",
     "text": [
      "25:11 |    11 |     3.000e-04 |     2.9103 |          2.8656 |     0.6481 |          1.2111 | \n"
     ]
    },
    {
     "name": "stderr",
     "output_type": "stream",
     "text": [
      " 92%|█████████▏| 22/24 [00:01<00:00, 16.94it/s]\n"
     ]
    },
    {
     "name": "stdout",
     "output_type": "stream",
     "text": [
      "25:12 |    12 |     3.000e-04 |     2.3948 |          2.5873 |     0.5663 |          1.1447 | \n"
     ]
    },
    {
     "name": "stderr",
     "output_type": "stream",
     "text": [
      " 92%|█████████▏| 22/24 [00:01<00:00, 17.10it/s]\n"
     ]
    },
    {
     "name": "stdout",
     "output_type": "stream",
     "text": [
      "25:14 |    13 |     3.000e-04 |     2.0580 |          1.9026 |     0.6602 |          0.9608 | \n"
     ]
    },
    {
     "name": "stderr",
     "output_type": "stream",
     "text": [
      " 92%|█████████▏| 22/24 [00:01<00:00, 17.08it/s]\n"
     ]
    },
    {
     "name": "stdout",
     "output_type": "stream",
     "text": [
      "25:15 |    14 |     3.000e-04 |     2.0614 |          1.7680 |     0.6764 |          0.9311 | \n"
     ]
    },
    {
     "name": "stderr",
     "output_type": "stream",
     "text": [
      " 92%|█████████▏| 22/24 [00:01<00:00, 16.86it/s]\n"
     ]
    },
    {
     "name": "stdout",
     "output_type": "stream",
     "text": [
      "25:17 |    15 |     3.000e-04 |     1.7681 |          2.2402 |     0.8303 |          1.0960 | \n"
     ]
    },
    {
     "name": "stderr",
     "output_type": "stream",
     "text": [
      " 92%|█████████▏| 22/24 [00:01<00:00, 16.72it/s]\n"
     ]
    },
    {
     "name": "stdout",
     "output_type": "stream",
     "text": [
      "25:18 |    16 |     3.000e-04 |     1.7327 |          1.7239 |     0.6017 |          0.9452 | \n"
     ]
    },
    {
     "name": "stderr",
     "output_type": "stream",
     "text": [
      " 92%|█████████▏| 22/24 [00:01<00:00, 16.94it/s]\n"
     ]
    },
    {
     "name": "stdout",
     "output_type": "stream",
     "text": [
      "25:20 |    17 |     3.000e-04 |     1.6391 |          1.3352 |     0.4767 |          0.7922 | \n"
     ]
    },
    {
     "name": "stderr",
     "output_type": "stream",
     "text": [
      " 92%|█████████▏| 22/24 [00:01<00:00, 16.58it/s]\n"
     ]
    },
    {
     "name": "stdout",
     "output_type": "stream",
     "text": [
      "25:21 |    18 |     3.000e-04 |     1.4430 |          1.3996 |     0.1438 |          0.8270 | \n"
     ]
    },
    {
     "name": "stderr",
     "output_type": "stream",
     "text": [
      " 92%|█████████▏| 22/24 [00:01<00:00, 16.86it/s]\n"
     ]
    },
    {
     "name": "stdout",
     "output_type": "stream",
     "text": [
      "25:23 |    19 |     3.000e-04 |     1.5470 |          1.6617 |     0.4325 |          0.9173 | \n"
     ]
    },
    {
     "name": "stderr",
     "output_type": "stream",
     "text": [
      " 92%|█████████▏| 22/24 [00:01<00:00, 16.88it/s]\n"
     ]
    },
    {
     "name": "stdout",
     "output_type": "stream",
     "text": [
      "25:24 |    20 |     3.000e-04 |     1.3949 |          1.2124 |     0.5213 |          0.7580 | \n"
     ]
    },
    {
     "name": "stderr",
     "output_type": "stream",
     "text": [
      " 92%|█████████▏| 22/24 [00:01<00:00, 16.86it/s]\n"
     ]
    },
    {
     "name": "stdout",
     "output_type": "stream",
     "text": [
      "25:26 |    21 |     3.000e-04 |     1.3188 |          1.2084 |     0.3605 |          0.7484 | \n"
     ]
    },
    {
     "name": "stderr",
     "output_type": "stream",
     "text": [
      " 92%|█████████▏| 22/24 [00:01<00:00, 17.07it/s]\n"
     ]
    },
    {
     "name": "stdout",
     "output_type": "stream",
     "text": [
      "25:28 |    22 |     3.000e-04 |     1.4560 |          1.6488 |     0.3038 |          0.9253 | \n"
     ]
    },
    {
     "name": "stderr",
     "output_type": "stream",
     "text": [
      " 92%|█████████▏| 22/24 [00:01<00:00, 16.76it/s]\n"
     ]
    },
    {
     "name": "stdout",
     "output_type": "stream",
     "text": [
      "25:29 |    23 |     3.000e-04 |     1.3129 |          1.0875 |     0.4441 |          0.7151 | \n"
     ]
    },
    {
     "name": "stderr",
     "output_type": "stream",
     "text": [
      " 92%|█████████▏| 22/24 [00:01<00:00, 16.97it/s]\n"
     ]
    },
    {
     "name": "stdout",
     "output_type": "stream",
     "text": [
      "25:31 |    24 |     3.000e-04 |     1.1492 |          0.9819 |     0.2849 |          0.6717 | \n"
     ]
    },
    {
     "name": "stderr",
     "output_type": "stream",
     "text": [
      " 92%|█████████▏| 22/24 [00:01<00:00, 16.95it/s]\n"
     ]
    },
    {
     "name": "stdout",
     "output_type": "stream",
     "text": [
      "25:32 |    25 |     3.000e-04 |     1.1298 |          1.0187 |     0.3062 |          0.6874 | \n"
     ]
    },
    {
     "name": "stderr",
     "output_type": "stream",
     "text": [
      " 92%|█████████▏| 22/24 [00:01<00:00, 16.91it/s]\n"
     ]
    },
    {
     "name": "stdout",
     "output_type": "stream",
     "text": [
      "25:34 |    26 |     3.000e-04 |     1.2990 |          1.3820 |     0.2579 |          0.8418 | \n"
     ]
    },
    {
     "name": "stderr",
     "output_type": "stream",
     "text": [
      " 92%|█████████▏| 22/24 [00:01<00:00, 17.03it/s]\n"
     ]
    },
    {
     "name": "stdout",
     "output_type": "stream",
     "text": [
      "25:35 |    27 |     3.000e-04 |     1.1461 |          0.9873 |     0.3894 |          0.6790 | \n"
     ]
    },
    {
     "name": "stderr",
     "output_type": "stream",
     "text": [
      " 92%|█████████▏| 22/24 [00:01<00:00, 16.84it/s]\n"
     ]
    },
    {
     "name": "stdout",
     "output_type": "stream",
     "text": [
      "25:37 |    28 |     3.000e-04 |     1.0129 |          0.9420 |     0.2762 |          0.6668 | \n"
     ]
    },
    {
     "name": "stderr",
     "output_type": "stream",
     "text": [
      " 92%|█████████▏| 22/24 [00:01<00:00, 16.76it/s]\n"
     ]
    },
    {
     "name": "stdout",
     "output_type": "stream",
     "text": [
      "25:38 |    29 |     3.000e-04 |     1.0387 |          0.9191 |     0.1951 |          0.6512 | \n"
     ]
    },
    {
     "name": "stderr",
     "output_type": "stream",
     "text": [
      " 92%|█████████▏| 22/24 [00:01<00:00, 16.78it/s]\n"
     ]
    },
    {
     "name": "stdout",
     "output_type": "stream",
     "text": [
      "25:40 |    30 |     3.000e-04 |     1.1184 |          1.1861 |     0.1423 |          0.7820 | \n"
     ]
    },
    {
     "name": "stderr",
     "output_type": "stream",
     "text": [
      " 92%|█████████▏| 22/24 [00:01<00:00, 16.87it/s]\n"
     ]
    },
    {
     "name": "stdout",
     "output_type": "stream",
     "text": [
      "25:41 |    31 |     3.000e-04 |     0.9618 |          0.8068 |     0.1134 |          0.6117 | \n"
     ]
    },
    {
     "name": "stderr",
     "output_type": "stream",
     "text": [
      " 92%|█████████▏| 22/24 [00:01<00:00, 16.94it/s]\n"
     ]
    },
    {
     "name": "stdout",
     "output_type": "stream",
     "text": [
      "25:43 |    32 |     3.000e-04 |     0.9100 |          0.7574 |     0.1351 |          0.5870 | \n"
     ]
    },
    {
     "name": "stderr",
     "output_type": "stream",
     "text": [
      " 92%|█████████▏| 22/24 [00:01<00:00, 16.88it/s]\n"
     ]
    },
    {
     "name": "stdout",
     "output_type": "stream",
     "text": [
      "25:45 |    33 |     3.000e-04 |     1.0889 |          1.0532 |     0.1664 |          0.7396 | \n"
     ]
    },
    {
     "name": "stderr",
     "output_type": "stream",
     "text": [
      " 92%|█████████▏| 22/24 [00:01<00:00, 16.86it/s]\n"
     ]
    },
    {
     "name": "stdout",
     "output_type": "stream",
     "text": [
      "25:46 |    34 |     3.000e-04 |     0.9329 |          0.7319 |     0.1266 |          0.5760 | \n"
     ]
    },
    {
     "name": "stderr",
     "output_type": "stream",
     "text": [
      " 92%|█████████▏| 22/24 [00:01<00:00, 16.83it/s]\n"
     ]
    },
    {
     "name": "stdout",
     "output_type": "stream",
     "text": [
      "25:48 |    35 |     3.000e-04 |     0.8424 |          0.7616 |     0.1477 |          0.5990 | \n"
     ]
    },
    {
     "name": "stderr",
     "output_type": "stream",
     "text": [
      " 92%|█████████▏| 22/24 [00:01<00:00, 16.57it/s]\n"
     ]
    },
    {
     "name": "stdout",
     "output_type": "stream",
     "text": [
      "25:49 |    36 |     3.000e-04 |     1.0411 |          0.9615 |     0.1510 |          0.7198 | \n"
     ]
    },
    {
     "name": "stderr",
     "output_type": "stream",
     "text": [
      " 92%|█████████▏| 22/24 [00:01<00:00, 16.99it/s]\n"
     ]
    },
    {
     "name": "stdout",
     "output_type": "stream",
     "text": [
      "25:51 |    37 |     3.000e-04 |     0.8952 |          0.7243 |     0.0982 |          0.5791 | \n"
     ]
    },
    {
     "name": "stderr",
     "output_type": "stream",
     "text": [
      " 92%|█████████▏| 22/24 [00:01<00:00, 16.81it/s]\n"
     ]
    },
    {
     "name": "stdout",
     "output_type": "stream",
     "text": [
      "25:52 |    38 |     3.000e-04 |     0.8290 |          0.7067 |     0.0933 |          0.5730 | \n"
     ]
    },
    {
     "name": "stderr",
     "output_type": "stream",
     "text": [
      " 92%|█████████▏| 22/24 [00:01<00:00, 16.80it/s]\n"
     ]
    },
    {
     "name": "stdout",
     "output_type": "stream",
     "text": [
      "25:54 |    39 |     3.000e-04 |     0.9718 |          0.8660 |     0.1557 |          0.6786 | \n"
     ]
    },
    {
     "name": "stderr",
     "output_type": "stream",
     "text": [
      " 92%|█████████▏| 22/24 [00:01<00:00, 16.80it/s]\n"
     ]
    },
    {
     "name": "stdout",
     "output_type": "stream",
     "text": [
      "25:55 |    40 |     3.000e-04 |     0.8384 |          0.6831 |     0.0890 |          0.5636 | \n"
     ]
    },
    {
     "name": "stderr",
     "output_type": "stream",
     "text": [
      " 92%|█████████▏| 22/24 [00:01<00:00, 16.79it/s]\n"
     ]
    },
    {
     "name": "stdout",
     "output_type": "stream",
     "text": [
      "25:57 |    41 |     3.000e-04 |     0.8561 |          0.7161 |     0.1555 |          0.5902 | \n"
     ]
    },
    {
     "name": "stderr",
     "output_type": "stream",
     "text": [
      " 92%|█████████▏| 22/24 [00:01<00:00, 16.80it/s]\n"
     ]
    },
    {
     "name": "stdout",
     "output_type": "stream",
     "text": [
      "25:58 |    42 |     3.000e-04 |     0.8768 |          0.8062 |     0.1288 |          0.6495 | \n"
     ]
    },
    {
     "name": "stderr",
     "output_type": "stream",
     "text": [
      " 92%|█████████▏| 22/24 [00:01<00:00, 17.11it/s]\n"
     ]
    },
    {
     "name": "stdout",
     "output_type": "stream",
     "text": [
      "26:00 |    43 |     3.000e-04 |     0.8154 |          0.7489 |     0.0931 |          0.6166 | \n"
     ]
    },
    {
     "name": "stderr",
     "output_type": "stream",
     "text": [
      " 92%|█████████▏| 22/24 [00:01<00:00, 16.77it/s]\n"
     ]
    },
    {
     "name": "stdout",
     "output_type": "stream",
     "text": [
      "26:02 |    44 |     3.000e-04 |     0.8693 |          0.8905 |     0.1058 |          0.6990 | \n"
     ]
    },
    {
     "name": "stderr",
     "output_type": "stream",
     "text": [
      " 92%|█████████▏| 22/24 [00:01<00:00, 16.91it/s]\n"
     ]
    },
    {
     "name": "stdout",
     "output_type": "stream",
     "text": [
      "26:03 |    45 |     3.000e-04 |     0.7836 |          0.7543 |     0.0942 |          0.6233 | \n"
     ]
    },
    {
     "name": "stderr",
     "output_type": "stream",
     "text": [
      " 92%|█████████▏| 22/24 [00:01<00:00, 16.76it/s]\n"
     ]
    },
    {
     "name": "stdout",
     "output_type": "stream",
     "text": [
      "26:05 |    46 |     3.000e-04 |     0.8488 |          0.8797 |     0.1261 |          0.6961 | \n"
     ]
    },
    {
     "name": "stderr",
     "output_type": "stream",
     "text": [
      " 92%|█████████▏| 22/24 [00:01<00:00, 16.99it/s]\n"
     ]
    },
    {
     "name": "stdout",
     "output_type": "stream",
     "text": [
      "26:06 |    47 |     3.000e-04 |     0.7717 |          0.7055 |     0.0996 |          0.5961 | \n"
     ]
    },
    {
     "name": "stderr",
     "output_type": "stream",
     "text": [
      " 92%|█████████▏| 22/24 [00:01<00:00, 16.79it/s]\n"
     ]
    },
    {
     "name": "stdout",
     "output_type": "stream",
     "text": [
      "26:08 |    48 |     3.000e-04 |     0.8016 |          0.7240 |     0.1456 |          0.6097 | \n"
     ]
    },
    {
     "name": "stderr",
     "output_type": "stream",
     "text": [
      " 92%|█████████▏| 22/24 [00:01<00:00, 16.67it/s]\n"
     ]
    },
    {
     "name": "stdout",
     "output_type": "stream",
     "text": [
      "26:09 |    49 |     3.000e-04 |     0.7741 |          0.6770 |     0.1242 |          0.5799 | \n"
     ]
    },
    {
     "name": "stderr",
     "output_type": "stream",
     "text": [
      " 92%|█████████▏| 22/24 [00:01<00:00, 16.67it/s]\n"
     ]
    },
    {
     "name": "stdout",
     "output_type": "stream",
     "text": [
      "26:11 |    50 |     3.000e-04 |     0.7772 |          0.6563 |     0.1380 |          0.5672 | \n"
     ]
    }
   ],
   "source": [
    "T.train(device=DEVICE, n_epochs=50)"
   ]
  },
  {
   "cell_type": "markdown",
   "metadata": {
    "id": "dTBPjM_hcMFL"
   },
   "source": [
    "#### Evaluating the model on the test set\n",
    "Evaluate the model on predictions using the recently transfer-learned energies. First, we define a function to help us visualize the results:"
   ]
  },
  {
   "cell_type": "code",
   "execution_count": 233,
   "metadata": {
    "id": "NighTf8McIBp"
   },
   "outputs": [],
   "source": [
    "units = {\n",
    "    'energy_grad': r'kcal/mol/$\\AA$',\n",
    "    'energy': 'kcal/mol'\n",
    "}\n",
    "\n",
    "method = {\n",
    "    'normal': 'GGA',\n",
    "    'transf': 'DLPNO'\n",
    "}\n",
    "\n",
    "def plot_hexbin(pred, targ, ax, key, scale='log'): \n",
    "    \n",
    "    units = {\n",
    "        'energy_grad': r'kcal/mol/$\\AA$',\n",
    "        'energy': 'kcal/mol'\n",
    "    }\n",
    "\n",
    "    mae = mean_absolute_error(targ, pred)\n",
    "    \n",
    "    if scale == 'log':\n",
    "        pred = np.abs(pred) + 1e-8\n",
    "        targ = np.abs(targ) + 1e-8\n",
    "    \n",
    "    hb = ax.hexbin(\n",
    "        pred, targ,\n",
    "        cmap='viridis',\n",
    "        gridsize=60,\n",
    "        bins='log',\n",
    "        mincnt=1,\n",
    "        edgecolors=None,\n",
    "        linewidths=(0.1,),\n",
    "        xscale=scale,\n",
    "        yscale=scale,\n",
    "    )\n",
    "    \n",
    "    lim_min = min(np.min(pred), np.min(targ)) * 1.1\n",
    "    lim_max = max(np.max(pred), np.max(targ)) * 1.1\n",
    "    \n",
    "    ax.set_xlim(lim_min, lim_max)\n",
    "    ax.set_ylim(lim_min, lim_max)\n",
    "    ax.set_aspect('equal')\n",
    "\n",
    "    ax.plot((lim_min, lim_max),\n",
    "            (lim_min, lim_max),\n",
    "            color='#000000',\n",
    "            zorder=-1,\n",
    "            linewidth=0.5)\n",
    "    \n",
    "    ax.set_xlabel('predicted (%s)' % (units[key]), fontsize=12)\n",
    "    ax.set_ylabel('target (%s)' % (units[key]), fontsize=12)\n",
    "    \n",
    "    ax.annotate('MAE: %.3f %s' % (mae, units[key]),\n",
    "                (0.03, 0.95),\n",
    "                xycoords='axes fraction',\n",
    "                fontsize=12)\n",
    "    \n",
    "    return ax, hb"
   ]
  },
  {
   "cell_type": "markdown",
   "metadata": {
    "id": "f-eDUnf5cUc4"
   },
   "source": [
    "#### Evaluating"
   ]
  },
  {
   "cell_type": "code",
   "execution_count": 234,
   "metadata": {
    "colab": {
     "base_uri": "https://localhost:8080/",
     "height": 17
    },
    "id": "WVG0AUDOcVBl",
    "outputId": "ae38541a-3d74-4b21-e355-3cff6047dea9"
   },
   "outputs": [
    {
     "data": {
      "application/javascript": [
       "/* Put everything inside the global mpl namespace */\n",
       "window.mpl = {};\n",
       "\n",
       "\n",
       "mpl.get_websocket_type = function() {\n",
       "    if (typeof(WebSocket) !== 'undefined') {\n",
       "        return WebSocket;\n",
       "    } else if (typeof(MozWebSocket) !== 'undefined') {\n",
       "        return MozWebSocket;\n",
       "    } else {\n",
       "        alert('Your browser does not have WebSocket support. ' +\n",
       "              'Please try Chrome, Safari or Firefox ≥ 6. ' +\n",
       "              'Firefox 4 and 5 are also supported but you ' +\n",
       "              'have to enable WebSockets in about:config.');\n",
       "    };\n",
       "}\n",
       "\n",
       "mpl.figure = function(figure_id, websocket, ondownload, parent_element) {\n",
       "    this.id = figure_id;\n",
       "\n",
       "    this.ws = websocket;\n",
       "\n",
       "    this.supports_binary = (this.ws.binaryType != undefined);\n",
       "\n",
       "    if (!this.supports_binary) {\n",
       "        var warnings = document.getElementById(\"mpl-warnings\");\n",
       "        if (warnings) {\n",
       "            warnings.style.display = 'block';\n",
       "            warnings.textContent = (\n",
       "                \"This browser does not support binary websocket messages. \" +\n",
       "                    \"Performance may be slow.\");\n",
       "        }\n",
       "    }\n",
       "\n",
       "    this.imageObj = new Image();\n",
       "\n",
       "    this.context = undefined;\n",
       "    this.message = undefined;\n",
       "    this.canvas = undefined;\n",
       "    this.rubberband_canvas = undefined;\n",
       "    this.rubberband_context = undefined;\n",
       "    this.format_dropdown = undefined;\n",
       "\n",
       "    this.image_mode = 'full';\n",
       "\n",
       "    this.root = $('<div/>');\n",
       "    this._root_extra_style(this.root)\n",
       "    this.root.attr('style', 'display: inline-block');\n",
       "\n",
       "    $(parent_element).append(this.root);\n",
       "\n",
       "    this._init_header(this);\n",
       "    this._init_canvas(this);\n",
       "    this._init_toolbar(this);\n",
       "\n",
       "    var fig = this;\n",
       "\n",
       "    this.waiting = false;\n",
       "\n",
       "    this.ws.onopen =  function () {\n",
       "            fig.send_message(\"supports_binary\", {value: fig.supports_binary});\n",
       "            fig.send_message(\"send_image_mode\", {});\n",
       "            if (mpl.ratio != 1) {\n",
       "                fig.send_message(\"set_dpi_ratio\", {'dpi_ratio': mpl.ratio});\n",
       "            }\n",
       "            fig.send_message(\"refresh\", {});\n",
       "        }\n",
       "\n",
       "    this.imageObj.onload = function() {\n",
       "            if (fig.image_mode == 'full') {\n",
       "                // Full images could contain transparency (where diff images\n",
       "                // almost always do), so we need to clear the canvas so that\n",
       "                // there is no ghosting.\n",
       "                fig.context.clearRect(0, 0, fig.canvas.width, fig.canvas.height);\n",
       "            }\n",
       "            fig.context.drawImage(fig.imageObj, 0, 0);\n",
       "        };\n",
       "\n",
       "    this.imageObj.onunload = function() {\n",
       "        fig.ws.close();\n",
       "    }\n",
       "\n",
       "    this.ws.onmessage = this._make_on_message_function(this);\n",
       "\n",
       "    this.ondownload = ondownload;\n",
       "}\n",
       "\n",
       "mpl.figure.prototype._init_header = function() {\n",
       "    var titlebar = $(\n",
       "        '<div class=\"ui-dialog-titlebar ui-widget-header ui-corner-all ' +\n",
       "        'ui-helper-clearfix\"/>');\n",
       "    var titletext = $(\n",
       "        '<div class=\"ui-dialog-title\" style=\"width: 100%; ' +\n",
       "        'text-align: center; padding: 3px;\"/>');\n",
       "    titlebar.append(titletext)\n",
       "    this.root.append(titlebar);\n",
       "    this.header = titletext[0];\n",
       "}\n",
       "\n",
       "\n",
       "\n",
       "mpl.figure.prototype._canvas_extra_style = function(canvas_div) {\n",
       "\n",
       "}\n",
       "\n",
       "\n",
       "mpl.figure.prototype._root_extra_style = function(canvas_div) {\n",
       "\n",
       "}\n",
       "\n",
       "mpl.figure.prototype._init_canvas = function() {\n",
       "    var fig = this;\n",
       "\n",
       "    var canvas_div = $('<div/>');\n",
       "\n",
       "    canvas_div.attr('style', 'position: relative; clear: both; outline: 0');\n",
       "\n",
       "    function canvas_keyboard_event(event) {\n",
       "        return fig.key_event(event, event['data']);\n",
       "    }\n",
       "\n",
       "    canvas_div.keydown('key_press', canvas_keyboard_event);\n",
       "    canvas_div.keyup('key_release', canvas_keyboard_event);\n",
       "    this.canvas_div = canvas_div\n",
       "    this._canvas_extra_style(canvas_div)\n",
       "    this.root.append(canvas_div);\n",
       "\n",
       "    var canvas = $('<canvas/>');\n",
       "    canvas.addClass('mpl-canvas');\n",
       "    canvas.attr('style', \"left: 0; top: 0; z-index: 0; outline: 0\")\n",
       "\n",
       "    this.canvas = canvas[0];\n",
       "    this.context = canvas[0].getContext(\"2d\");\n",
       "\n",
       "    var backingStore = this.context.backingStorePixelRatio ||\n",
       "\tthis.context.webkitBackingStorePixelRatio ||\n",
       "\tthis.context.mozBackingStorePixelRatio ||\n",
       "\tthis.context.msBackingStorePixelRatio ||\n",
       "\tthis.context.oBackingStorePixelRatio ||\n",
       "\tthis.context.backingStorePixelRatio || 1;\n",
       "\n",
       "    mpl.ratio = (window.devicePixelRatio || 1) / backingStore;\n",
       "\n",
       "    var rubberband = $('<canvas/>');\n",
       "    rubberband.attr('style', \"position: absolute; left: 0; top: 0; z-index: 1;\")\n",
       "\n",
       "    var pass_mouse_events = true;\n",
       "\n",
       "    canvas_div.resizable({\n",
       "        start: function(event, ui) {\n",
       "            pass_mouse_events = false;\n",
       "        },\n",
       "        resize: function(event, ui) {\n",
       "            fig.request_resize(ui.size.width, ui.size.height);\n",
       "        },\n",
       "        stop: function(event, ui) {\n",
       "            pass_mouse_events = true;\n",
       "            fig.request_resize(ui.size.width, ui.size.height);\n",
       "        },\n",
       "    });\n",
       "\n",
       "    function mouse_event_fn(event) {\n",
       "        if (pass_mouse_events)\n",
       "            return fig.mouse_event(event, event['data']);\n",
       "    }\n",
       "\n",
       "    rubberband.mousedown('button_press', mouse_event_fn);\n",
       "    rubberband.mouseup('button_release', mouse_event_fn);\n",
       "    // Throttle sequential mouse events to 1 every 20ms.\n",
       "    rubberband.mousemove('motion_notify', mouse_event_fn);\n",
       "\n",
       "    rubberband.mouseenter('figure_enter', mouse_event_fn);\n",
       "    rubberband.mouseleave('figure_leave', mouse_event_fn);\n",
       "\n",
       "    canvas_div.on(\"wheel\", function (event) {\n",
       "        event = event.originalEvent;\n",
       "        event['data'] = 'scroll'\n",
       "        if (event.deltaY < 0) {\n",
       "            event.step = 1;\n",
       "        } else {\n",
       "            event.step = -1;\n",
       "        }\n",
       "        mouse_event_fn(event);\n",
       "    });\n",
       "\n",
       "    canvas_div.append(canvas);\n",
       "    canvas_div.append(rubberband);\n",
       "\n",
       "    this.rubberband = rubberband;\n",
       "    this.rubberband_canvas = rubberband[0];\n",
       "    this.rubberband_context = rubberband[0].getContext(\"2d\");\n",
       "    this.rubberband_context.strokeStyle = \"#000000\";\n",
       "\n",
       "    this._resize_canvas = function(width, height) {\n",
       "        // Keep the size of the canvas, canvas container, and rubber band\n",
       "        // canvas in synch.\n",
       "        canvas_div.css('width', width)\n",
       "        canvas_div.css('height', height)\n",
       "\n",
       "        canvas.attr('width', width * mpl.ratio);\n",
       "        canvas.attr('height', height * mpl.ratio);\n",
       "        canvas.attr('style', 'width: ' + width + 'px; height: ' + height + 'px;');\n",
       "\n",
       "        rubberband.attr('width', width);\n",
       "        rubberband.attr('height', height);\n",
       "    }\n",
       "\n",
       "    // Set the figure to an initial 600x600px, this will subsequently be updated\n",
       "    // upon first draw.\n",
       "    this._resize_canvas(600, 600);\n",
       "\n",
       "    // Disable right mouse context menu.\n",
       "    $(this.rubberband_canvas).bind(\"contextmenu\",function(e){\n",
       "        return false;\n",
       "    });\n",
       "\n",
       "    function set_focus () {\n",
       "        canvas.focus();\n",
       "        canvas_div.focus();\n",
       "    }\n",
       "\n",
       "    window.setTimeout(set_focus, 100);\n",
       "}\n",
       "\n",
       "mpl.figure.prototype._init_toolbar = function() {\n",
       "    var fig = this;\n",
       "\n",
       "    var nav_element = $('<div/>');\n",
       "    nav_element.attr('style', 'width: 100%');\n",
       "    this.root.append(nav_element);\n",
       "\n",
       "    // Define a callback function for later on.\n",
       "    function toolbar_event(event) {\n",
       "        return fig.toolbar_button_onclick(event['data']);\n",
       "    }\n",
       "    function toolbar_mouse_event(event) {\n",
       "        return fig.toolbar_button_onmouseover(event['data']);\n",
       "    }\n",
       "\n",
       "    for(var toolbar_ind in mpl.toolbar_items) {\n",
       "        var name = mpl.toolbar_items[toolbar_ind][0];\n",
       "        var tooltip = mpl.toolbar_items[toolbar_ind][1];\n",
       "        var image = mpl.toolbar_items[toolbar_ind][2];\n",
       "        var method_name = mpl.toolbar_items[toolbar_ind][3];\n",
       "\n",
       "        if (!name) {\n",
       "            // put a spacer in here.\n",
       "            continue;\n",
       "        }\n",
       "        var button = $('<button/>');\n",
       "        button.addClass('ui-button ui-widget ui-state-default ui-corner-all ' +\n",
       "                        'ui-button-icon-only');\n",
       "        button.attr('role', 'button');\n",
       "        button.attr('aria-disabled', 'false');\n",
       "        button.click(method_name, toolbar_event);\n",
       "        button.mouseover(tooltip, toolbar_mouse_event);\n",
       "\n",
       "        var icon_img = $('<span/>');\n",
       "        icon_img.addClass('ui-button-icon-primary ui-icon');\n",
       "        icon_img.addClass(image);\n",
       "        icon_img.addClass('ui-corner-all');\n",
       "\n",
       "        var tooltip_span = $('<span/>');\n",
       "        tooltip_span.addClass('ui-button-text');\n",
       "        tooltip_span.html(tooltip);\n",
       "\n",
       "        button.append(icon_img);\n",
       "        button.append(tooltip_span);\n",
       "\n",
       "        nav_element.append(button);\n",
       "    }\n",
       "\n",
       "    var fmt_picker_span = $('<span/>');\n",
       "\n",
       "    var fmt_picker = $('<select/>');\n",
       "    fmt_picker.addClass('mpl-toolbar-option ui-widget ui-widget-content');\n",
       "    fmt_picker_span.append(fmt_picker);\n",
       "    nav_element.append(fmt_picker_span);\n",
       "    this.format_dropdown = fmt_picker[0];\n",
       "\n",
       "    for (var ind in mpl.extensions) {\n",
       "        var fmt = mpl.extensions[ind];\n",
       "        var option = $(\n",
       "            '<option/>', {selected: fmt === mpl.default_extension}).html(fmt);\n",
       "        fmt_picker.append(option);\n",
       "    }\n",
       "\n",
       "    // Add hover states to the ui-buttons\n",
       "    $( \".ui-button\" ).hover(\n",
       "        function() { $(this).addClass(\"ui-state-hover\");},\n",
       "        function() { $(this).removeClass(\"ui-state-hover\");}\n",
       "    );\n",
       "\n",
       "    var status_bar = $('<span class=\"mpl-message\"/>');\n",
       "    nav_element.append(status_bar);\n",
       "    this.message = status_bar[0];\n",
       "}\n",
       "\n",
       "mpl.figure.prototype.request_resize = function(x_pixels, y_pixels) {\n",
       "    // Request matplotlib to resize the figure. Matplotlib will then trigger a resize in the client,\n",
       "    // which will in turn request a refresh of the image.\n",
       "    this.send_message('resize', {'width': x_pixels, 'height': y_pixels});\n",
       "}\n",
       "\n",
       "mpl.figure.prototype.send_message = function(type, properties) {\n",
       "    properties['type'] = type;\n",
       "    properties['figure_id'] = this.id;\n",
       "    this.ws.send(JSON.stringify(properties));\n",
       "}\n",
       "\n",
       "mpl.figure.prototype.send_draw_message = function() {\n",
       "    if (!this.waiting) {\n",
       "        this.waiting = true;\n",
       "        this.ws.send(JSON.stringify({type: \"draw\", figure_id: this.id}));\n",
       "    }\n",
       "}\n",
       "\n",
       "\n",
       "mpl.figure.prototype.handle_save = function(fig, msg) {\n",
       "    var format_dropdown = fig.format_dropdown;\n",
       "    var format = format_dropdown.options[format_dropdown.selectedIndex].value;\n",
       "    fig.ondownload(fig, format);\n",
       "}\n",
       "\n",
       "\n",
       "mpl.figure.prototype.handle_resize = function(fig, msg) {\n",
       "    var size = msg['size'];\n",
       "    if (size[0] != fig.canvas.width || size[1] != fig.canvas.height) {\n",
       "        fig._resize_canvas(size[0], size[1]);\n",
       "        fig.send_message(\"refresh\", {});\n",
       "    };\n",
       "}\n",
       "\n",
       "mpl.figure.prototype.handle_rubberband = function(fig, msg) {\n",
       "    var x0 = msg['x0'] / mpl.ratio;\n",
       "    var y0 = (fig.canvas.height - msg['y0']) / mpl.ratio;\n",
       "    var x1 = msg['x1'] / mpl.ratio;\n",
       "    var y1 = (fig.canvas.height - msg['y1']) / mpl.ratio;\n",
       "    x0 = Math.floor(x0) + 0.5;\n",
       "    y0 = Math.floor(y0) + 0.5;\n",
       "    x1 = Math.floor(x1) + 0.5;\n",
       "    y1 = Math.floor(y1) + 0.5;\n",
       "    var min_x = Math.min(x0, x1);\n",
       "    var min_y = Math.min(y0, y1);\n",
       "    var width = Math.abs(x1 - x0);\n",
       "    var height = Math.abs(y1 - y0);\n",
       "\n",
       "    fig.rubberband_context.clearRect(\n",
       "        0, 0, fig.canvas.width / mpl.ratio, fig.canvas.height / mpl.ratio);\n",
       "\n",
       "    fig.rubberband_context.strokeRect(min_x, min_y, width, height);\n",
       "}\n",
       "\n",
       "mpl.figure.prototype.handle_figure_label = function(fig, msg) {\n",
       "    // Updates the figure title.\n",
       "    fig.header.textContent = msg['label'];\n",
       "}\n",
       "\n",
       "mpl.figure.prototype.handle_cursor = function(fig, msg) {\n",
       "    var cursor = msg['cursor'];\n",
       "    switch(cursor)\n",
       "    {\n",
       "    case 0:\n",
       "        cursor = 'pointer';\n",
       "        break;\n",
       "    case 1:\n",
       "        cursor = 'default';\n",
       "        break;\n",
       "    case 2:\n",
       "        cursor = 'crosshair';\n",
       "        break;\n",
       "    case 3:\n",
       "        cursor = 'move';\n",
       "        break;\n",
       "    }\n",
       "    fig.rubberband_canvas.style.cursor = cursor;\n",
       "}\n",
       "\n",
       "mpl.figure.prototype.handle_message = function(fig, msg) {\n",
       "    fig.message.textContent = msg['message'];\n",
       "}\n",
       "\n",
       "mpl.figure.prototype.handle_draw = function(fig, msg) {\n",
       "    // Request the server to send over a new figure.\n",
       "    fig.send_draw_message();\n",
       "}\n",
       "\n",
       "mpl.figure.prototype.handle_image_mode = function(fig, msg) {\n",
       "    fig.image_mode = msg['mode'];\n",
       "}\n",
       "\n",
       "mpl.figure.prototype.updated_canvas_event = function() {\n",
       "    // Called whenever the canvas gets updated.\n",
       "    this.send_message(\"ack\", {});\n",
       "}\n",
       "\n",
       "// A function to construct a web socket function for onmessage handling.\n",
       "// Called in the figure constructor.\n",
       "mpl.figure.prototype._make_on_message_function = function(fig) {\n",
       "    return function socket_on_message(evt) {\n",
       "        if (evt.data instanceof Blob) {\n",
       "            /* FIXME: We get \"Resource interpreted as Image but\n",
       "             * transferred with MIME type text/plain:\" errors on\n",
       "             * Chrome.  But how to set the MIME type?  It doesn't seem\n",
       "             * to be part of the websocket stream */\n",
       "            evt.data.type = \"image/png\";\n",
       "\n",
       "            /* Free the memory for the previous frames */\n",
       "            if (fig.imageObj.src) {\n",
       "                (window.URL || window.webkitURL).revokeObjectURL(\n",
       "                    fig.imageObj.src);\n",
       "            }\n",
       "\n",
       "            fig.imageObj.src = (window.URL || window.webkitURL).createObjectURL(\n",
       "                evt.data);\n",
       "            fig.updated_canvas_event();\n",
       "            fig.waiting = false;\n",
       "            return;\n",
       "        }\n",
       "        else if (typeof evt.data === 'string' && evt.data.slice(0, 21) == \"data:image/png;base64\") {\n",
       "            fig.imageObj.src = evt.data;\n",
       "            fig.updated_canvas_event();\n",
       "            fig.waiting = false;\n",
       "            return;\n",
       "        }\n",
       "\n",
       "        var msg = JSON.parse(evt.data);\n",
       "        var msg_type = msg['type'];\n",
       "\n",
       "        // Call the  \"handle_{type}\" callback, which takes\n",
       "        // the figure and JSON message as its only arguments.\n",
       "        try {\n",
       "            var callback = fig[\"handle_\" + msg_type];\n",
       "        } catch (e) {\n",
       "            console.log(\"No handler for the '\" + msg_type + \"' message type: \", msg);\n",
       "            return;\n",
       "        }\n",
       "\n",
       "        if (callback) {\n",
       "            try {\n",
       "                // console.log(\"Handling '\" + msg_type + \"' message: \", msg);\n",
       "                callback(fig, msg);\n",
       "            } catch (e) {\n",
       "                console.log(\"Exception inside the 'handler_\" + msg_type + \"' callback:\", e, e.stack, msg);\n",
       "            }\n",
       "        }\n",
       "    };\n",
       "}\n",
       "\n",
       "// from http://stackoverflow.com/questions/1114465/getting-mouse-location-in-canvas\n",
       "mpl.findpos = function(e) {\n",
       "    //this section is from http://www.quirksmode.org/js/events_properties.html\n",
       "    var targ;\n",
       "    if (!e)\n",
       "        e = window.event;\n",
       "    if (e.target)\n",
       "        targ = e.target;\n",
       "    else if (e.srcElement)\n",
       "        targ = e.srcElement;\n",
       "    if (targ.nodeType == 3) // defeat Safari bug\n",
       "        targ = targ.parentNode;\n",
       "\n",
       "    // jQuery normalizes the pageX and pageY\n",
       "    // pageX,Y are the mouse positions relative to the document\n",
       "    // offset() returns the position of the element relative to the document\n",
       "    var x = e.pageX - $(targ).offset().left;\n",
       "    var y = e.pageY - $(targ).offset().top;\n",
       "\n",
       "    return {\"x\": x, \"y\": y};\n",
       "};\n",
       "\n",
       "/*\n",
       " * return a copy of an object with only non-object keys\n",
       " * we need this to avoid circular references\n",
       " * http://stackoverflow.com/a/24161582/3208463\n",
       " */\n",
       "function simpleKeys (original) {\n",
       "  return Object.keys(original).reduce(function (obj, key) {\n",
       "    if (typeof original[key] !== 'object')\n",
       "        obj[key] = original[key]\n",
       "    return obj;\n",
       "  }, {});\n",
       "}\n",
       "\n",
       "mpl.figure.prototype.mouse_event = function(event, name) {\n",
       "    var canvas_pos = mpl.findpos(event)\n",
       "\n",
       "    if (name === 'button_press')\n",
       "    {\n",
       "        this.canvas.focus();\n",
       "        this.canvas_div.focus();\n",
       "    }\n",
       "\n",
       "    var x = canvas_pos.x * mpl.ratio;\n",
       "    var y = canvas_pos.y * mpl.ratio;\n",
       "\n",
       "    this.send_message(name, {x: x, y: y, button: event.button,\n",
       "                             step: event.step,\n",
       "                             guiEvent: simpleKeys(event)});\n",
       "\n",
       "    /* This prevents the web browser from automatically changing to\n",
       "     * the text insertion cursor when the button is pressed.  We want\n",
       "     * to control all of the cursor setting manually through the\n",
       "     * 'cursor' event from matplotlib */\n",
       "    event.preventDefault();\n",
       "    return false;\n",
       "}\n",
       "\n",
       "mpl.figure.prototype._key_event_extra = function(event, name) {\n",
       "    // Handle any extra behaviour associated with a key event\n",
       "}\n",
       "\n",
       "mpl.figure.prototype.key_event = function(event, name) {\n",
       "\n",
       "    // Prevent repeat events\n",
       "    if (name == 'key_press')\n",
       "    {\n",
       "        if (event.which === this._key)\n",
       "            return;\n",
       "        else\n",
       "            this._key = event.which;\n",
       "    }\n",
       "    if (name == 'key_release')\n",
       "        this._key = null;\n",
       "\n",
       "    var value = '';\n",
       "    if (event.ctrlKey && event.which != 17)\n",
       "        value += \"ctrl+\";\n",
       "    if (event.altKey && event.which != 18)\n",
       "        value += \"alt+\";\n",
       "    if (event.shiftKey && event.which != 16)\n",
       "        value += \"shift+\";\n",
       "\n",
       "    value += 'k';\n",
       "    value += event.which.toString();\n",
       "\n",
       "    this._key_event_extra(event, name);\n",
       "\n",
       "    this.send_message(name, {key: value,\n",
       "                             guiEvent: simpleKeys(event)});\n",
       "    return false;\n",
       "}\n",
       "\n",
       "mpl.figure.prototype.toolbar_button_onclick = function(name) {\n",
       "    if (name == 'download') {\n",
       "        this.handle_save(this, null);\n",
       "    } else {\n",
       "        this.send_message(\"toolbar_button\", {name: name});\n",
       "    }\n",
       "};\n",
       "\n",
       "mpl.figure.prototype.toolbar_button_onmouseover = function(tooltip) {\n",
       "    this.message.textContent = tooltip;\n",
       "};\n",
       "mpl.toolbar_items = [[\"Home\", \"Reset original view\", \"fa fa-home icon-home\", \"home\"], [\"Back\", \"Back to previous view\", \"fa fa-arrow-left icon-arrow-left\", \"back\"], [\"Forward\", \"Forward to next view\", \"fa fa-arrow-right icon-arrow-right\", \"forward\"], [\"\", \"\", \"\", \"\"], [\"Pan\", \"Pan axes with left mouse, zoom with right\", \"fa fa-arrows icon-move\", \"pan\"], [\"Zoom\", \"Zoom to rectangle\", \"fa fa-square-o icon-check-empty\", \"zoom\"], [\"\", \"\", \"\", \"\"], [\"Download\", \"Download plot\", \"fa fa-floppy-o icon-save\", \"download\"]];\n",
       "\n",
       "mpl.extensions = [\"eps\", \"jpeg\", \"pdf\", \"png\", \"ps\", \"raw\", \"svg\", \"tif\"];\n",
       "\n",
       "mpl.default_extension = \"png\";var comm_websocket_adapter = function(comm) {\n",
       "    // Create a \"websocket\"-like object which calls the given IPython comm\n",
       "    // object with the appropriate methods. Currently this is a non binary\n",
       "    // socket, so there is still some room for performance tuning.\n",
       "    var ws = {};\n",
       "\n",
       "    ws.close = function() {\n",
       "        comm.close()\n",
       "    };\n",
       "    ws.send = function(m) {\n",
       "        //console.log('sending', m);\n",
       "        comm.send(m);\n",
       "    };\n",
       "    // Register the callback with on_msg.\n",
       "    comm.on_msg(function(msg) {\n",
       "        //console.log('receiving', msg['content']['data'], msg);\n",
       "        // Pass the mpl event to the overridden (by mpl) onmessage function.\n",
       "        ws.onmessage(msg['content']['data'])\n",
       "    });\n",
       "    return ws;\n",
       "}\n",
       "\n",
       "mpl.mpl_figure_comm = function(comm, msg) {\n",
       "    // This is the function which gets called when the mpl process\n",
       "    // starts-up an IPython Comm through the \"matplotlib\" channel.\n",
       "\n",
       "    var id = msg.content.data.id;\n",
       "    // Get hold of the div created by the display call when the Comm\n",
       "    // socket was opened in Python.\n",
       "    var element = $(\"#\" + id);\n",
       "    var ws_proxy = comm_websocket_adapter(comm)\n",
       "\n",
       "    function ondownload(figure, format) {\n",
       "        window.open(figure.imageObj.src);\n",
       "    }\n",
       "\n",
       "    var fig = new mpl.figure(id, ws_proxy,\n",
       "                           ondownload,\n",
       "                           element.get(0));\n",
       "\n",
       "    // Call onopen now - mpl needs it, as it is assuming we've passed it a real\n",
       "    // web socket which is closed, not our websocket->open comm proxy.\n",
       "    ws_proxy.onopen();\n",
       "\n",
       "    fig.parent_element = element.get(0);\n",
       "    fig.cell_info = mpl.find_output_cell(\"<div id='\" + id + \"'></div>\");\n",
       "    if (!fig.cell_info) {\n",
       "        console.error(\"Failed to find cell for figure\", id, fig);\n",
       "        return;\n",
       "    }\n",
       "\n",
       "    var output_index = fig.cell_info[2]\n",
       "    var cell = fig.cell_info[0];\n",
       "\n",
       "};\n",
       "\n",
       "mpl.figure.prototype.handle_close = function(fig, msg) {\n",
       "    var width = fig.canvas.width/mpl.ratio\n",
       "    fig.root.unbind('remove')\n",
       "\n",
       "    // Update the output cell to use the data from the current canvas.\n",
       "    fig.push_to_output();\n",
       "    var dataURL = fig.canvas.toDataURL();\n",
       "    // Re-enable the keyboard manager in IPython - without this line, in FF,\n",
       "    // the notebook keyboard shortcuts fail.\n",
       "    IPython.keyboard_manager.enable()\n",
       "    $(fig.parent_element).html('<img src=\"' + dataURL + '\" width=\"' + width + '\">');\n",
       "    fig.close_ws(fig, msg);\n",
       "}\n",
       "\n",
       "mpl.figure.prototype.close_ws = function(fig, msg){\n",
       "    fig.send_message('closing', msg);\n",
       "    // fig.ws.close()\n",
       "}\n",
       "\n",
       "mpl.figure.prototype.push_to_output = function(remove_interactive) {\n",
       "    // Turn the data on the canvas into data in the output cell.\n",
       "    var width = this.canvas.width/mpl.ratio\n",
       "    var dataURL = this.canvas.toDataURL();\n",
       "    this.cell_info[1]['text/html'] = '<img src=\"' + dataURL + '\" width=\"' + width + '\">';\n",
       "}\n",
       "\n",
       "mpl.figure.prototype.updated_canvas_event = function() {\n",
       "    // Tell IPython that the notebook contents must change.\n",
       "    IPython.notebook.set_dirty(true);\n",
       "    this.send_message(\"ack\", {});\n",
       "    var fig = this;\n",
       "    // Wait a second, then push the new image to the DOM so\n",
       "    // that it is saved nicely (might be nice to debounce this).\n",
       "    setTimeout(function () { fig.push_to_output() }, 1000);\n",
       "}\n",
       "\n",
       "mpl.figure.prototype._init_toolbar = function() {\n",
       "    var fig = this;\n",
       "\n",
       "    var nav_element = $('<div/>');\n",
       "    nav_element.attr('style', 'width: 100%');\n",
       "    this.root.append(nav_element);\n",
       "\n",
       "    // Define a callback function for later on.\n",
       "    function toolbar_event(event) {\n",
       "        return fig.toolbar_button_onclick(event['data']);\n",
       "    }\n",
       "    function toolbar_mouse_event(event) {\n",
       "        return fig.toolbar_button_onmouseover(event['data']);\n",
       "    }\n",
       "\n",
       "    for(var toolbar_ind in mpl.toolbar_items){\n",
       "        var name = mpl.toolbar_items[toolbar_ind][0];\n",
       "        var tooltip = mpl.toolbar_items[toolbar_ind][1];\n",
       "        var image = mpl.toolbar_items[toolbar_ind][2];\n",
       "        var method_name = mpl.toolbar_items[toolbar_ind][3];\n",
       "\n",
       "        if (!name) { continue; };\n",
       "\n",
       "        var button = $('<button class=\"btn btn-default\" href=\"#\" title=\"' + name + '\"><i class=\"fa ' + image + ' fa-lg\"></i></button>');\n",
       "        button.click(method_name, toolbar_event);\n",
       "        button.mouseover(tooltip, toolbar_mouse_event);\n",
       "        nav_element.append(button);\n",
       "    }\n",
       "\n",
       "    // Add the status bar.\n",
       "    var status_bar = $('<span class=\"mpl-message\" style=\"text-align:right; float: right;\"/>');\n",
       "    nav_element.append(status_bar);\n",
       "    this.message = status_bar[0];\n",
       "\n",
       "    // Add the close button to the window.\n",
       "    var buttongrp = $('<div class=\"btn-group inline pull-right\"></div>');\n",
       "    var button = $('<button class=\"btn btn-mini btn-primary\" href=\"#\" title=\"Stop Interaction\"><i class=\"fa fa-power-off icon-remove icon-large\"></i></button>');\n",
       "    button.click(function (evt) { fig.handle_close(fig, {}); } );\n",
       "    button.mouseover('Stop Interaction', toolbar_mouse_event);\n",
       "    buttongrp.append(button);\n",
       "    var titlebar = this.root.find($('.ui-dialog-titlebar'));\n",
       "    titlebar.prepend(buttongrp);\n",
       "}\n",
       "\n",
       "mpl.figure.prototype._root_extra_style = function(el){\n",
       "    var fig = this\n",
       "    el.on(\"remove\", function(){\n",
       "\tfig.close_ws(fig, {});\n",
       "    });\n",
       "}\n",
       "\n",
       "mpl.figure.prototype._canvas_extra_style = function(el){\n",
       "    // this is important to make the div 'focusable\n",
       "    el.attr('tabindex', 0)\n",
       "    // reach out to IPython and tell the keyboard manager to turn it's self\n",
       "    // off when our div gets focus\n",
       "\n",
       "    // location in version 3\n",
       "    if (IPython.notebook.keyboard_manager) {\n",
       "        IPython.notebook.keyboard_manager.register_events(el);\n",
       "    }\n",
       "    else {\n",
       "        // location in version 2\n",
       "        IPython.keyboard_manager.register_events(el);\n",
       "    }\n",
       "\n",
       "}\n",
       "\n",
       "mpl.figure.prototype._key_event_extra = function(event, name) {\n",
       "    var manager = IPython.notebook.keyboard_manager;\n",
       "    if (!manager)\n",
       "        manager = IPython.keyboard_manager;\n",
       "\n",
       "    // Check for shift+enter\n",
       "    if (event.shiftKey && event.which == 13) {\n",
       "        this.canvas_div.blur();\n",
       "        // select the cell after this one\n",
       "        var index = IPython.notebook.find_cell_index(this.cell_info[0]);\n",
       "        IPython.notebook.select(index + 1);\n",
       "    }\n",
       "}\n",
       "\n",
       "mpl.figure.prototype.handle_save = function(fig, msg) {\n",
       "    fig.ondownload(fig, null);\n",
       "}\n",
       "\n",
       "\n",
       "mpl.find_output_cell = function(html_output) {\n",
       "    // Return the cell and output element which can be found *uniquely* in the notebook.\n",
       "    // Note - this is a bit hacky, but it is done because the \"notebook_saving.Notebook\"\n",
       "    // IPython event is triggered only after the cells have been serialised, which for\n",
       "    // our purposes (turning an active figure into a static one), is too late.\n",
       "    var cells = IPython.notebook.get_cells();\n",
       "    var ncells = cells.length;\n",
       "    for (var i=0; i<ncells; i++) {\n",
       "        var cell = cells[i];\n",
       "        if (cell.cell_type === 'code'){\n",
       "            for (var j=0; j<cell.output_area.outputs.length; j++) {\n",
       "                var data = cell.output_area.outputs[j];\n",
       "                if (data.data) {\n",
       "                    // IPython >= 3 moved mimebundle to data attribute of output\n",
       "                    data = data.data;\n",
       "                }\n",
       "                if (data['text/html'] == html_output) {\n",
       "                    return [cell, data, j];\n",
       "                }\n",
       "            }\n",
       "        }\n",
       "    }\n",
       "}\n",
       "\n",
       "// Register the function which deals with the matplotlib target/channel.\n",
       "// The kernel may be null if the page has been refreshed.\n",
       "if (IPython.notebook.kernel != null) {\n",
       "    IPython.notebook.kernel.comm_manager.register_target('matplotlib', mpl.mpl_figure_comm);\n",
       "}\n"
      ],
      "text/plain": [
       "<IPython.core.display.Javascript object>"
      ]
     },
     "metadata": {
      "tags": []
     },
     "output_type": "display_data"
    },
    {
     "data": {
      "text/html": [
       "<div id='6e3ead77-1c8b-4dce-8756-60e624e2517e'></div>"
      ],
      "text/plain": [
       "<IPython.core.display.HTML object>"
      ]
     },
     "metadata": {
      "tags": []
     },
     "output_type": "display_data"
    },
    {
     "data": {
      "application/javascript": [
       "/* Put everything inside the global mpl namespace */\n",
       "window.mpl = {};\n",
       "\n",
       "\n",
       "mpl.get_websocket_type = function() {\n",
       "    if (typeof(WebSocket) !== 'undefined') {\n",
       "        return WebSocket;\n",
       "    } else if (typeof(MozWebSocket) !== 'undefined') {\n",
       "        return MozWebSocket;\n",
       "    } else {\n",
       "        alert('Your browser does not have WebSocket support. ' +\n",
       "              'Please try Chrome, Safari or Firefox ≥ 6. ' +\n",
       "              'Firefox 4 and 5 are also supported but you ' +\n",
       "              'have to enable WebSockets in about:config.');\n",
       "    };\n",
       "}\n",
       "\n",
       "mpl.figure = function(figure_id, websocket, ondownload, parent_element) {\n",
       "    this.id = figure_id;\n",
       "\n",
       "    this.ws = websocket;\n",
       "\n",
       "    this.supports_binary = (this.ws.binaryType != undefined);\n",
       "\n",
       "    if (!this.supports_binary) {\n",
       "        var warnings = document.getElementById(\"mpl-warnings\");\n",
       "        if (warnings) {\n",
       "            warnings.style.display = 'block';\n",
       "            warnings.textContent = (\n",
       "                \"This browser does not support binary websocket messages. \" +\n",
       "                    \"Performance may be slow.\");\n",
       "        }\n",
       "    }\n",
       "\n",
       "    this.imageObj = new Image();\n",
       "\n",
       "    this.context = undefined;\n",
       "    this.message = undefined;\n",
       "    this.canvas = undefined;\n",
       "    this.rubberband_canvas = undefined;\n",
       "    this.rubberband_context = undefined;\n",
       "    this.format_dropdown = undefined;\n",
       "\n",
       "    this.image_mode = 'full';\n",
       "\n",
       "    this.root = $('<div/>');\n",
       "    this._root_extra_style(this.root)\n",
       "    this.root.attr('style', 'display: inline-block');\n",
       "\n",
       "    $(parent_element).append(this.root);\n",
       "\n",
       "    this._init_header(this);\n",
       "    this._init_canvas(this);\n",
       "    this._init_toolbar(this);\n",
       "\n",
       "    var fig = this;\n",
       "\n",
       "    this.waiting = false;\n",
       "\n",
       "    this.ws.onopen =  function () {\n",
       "            fig.send_message(\"supports_binary\", {value: fig.supports_binary});\n",
       "            fig.send_message(\"send_image_mode\", {});\n",
       "            if (mpl.ratio != 1) {\n",
       "                fig.send_message(\"set_dpi_ratio\", {'dpi_ratio': mpl.ratio});\n",
       "            }\n",
       "            fig.send_message(\"refresh\", {});\n",
       "        }\n",
       "\n",
       "    this.imageObj.onload = function() {\n",
       "            if (fig.image_mode == 'full') {\n",
       "                // Full images could contain transparency (where diff images\n",
       "                // almost always do), so we need to clear the canvas so that\n",
       "                // there is no ghosting.\n",
       "                fig.context.clearRect(0, 0, fig.canvas.width, fig.canvas.height);\n",
       "            }\n",
       "            fig.context.drawImage(fig.imageObj, 0, 0);\n",
       "        };\n",
       "\n",
       "    this.imageObj.onunload = function() {\n",
       "        fig.ws.close();\n",
       "    }\n",
       "\n",
       "    this.ws.onmessage = this._make_on_message_function(this);\n",
       "\n",
       "    this.ondownload = ondownload;\n",
       "}\n",
       "\n",
       "mpl.figure.prototype._init_header = function() {\n",
       "    var titlebar = $(\n",
       "        '<div class=\"ui-dialog-titlebar ui-widget-header ui-corner-all ' +\n",
       "        'ui-helper-clearfix\"/>');\n",
       "    var titletext = $(\n",
       "        '<div class=\"ui-dialog-title\" style=\"width: 100%; ' +\n",
       "        'text-align: center; padding: 3px;\"/>');\n",
       "    titlebar.append(titletext)\n",
       "    this.root.append(titlebar);\n",
       "    this.header = titletext[0];\n",
       "}\n",
       "\n",
       "\n",
       "\n",
       "mpl.figure.prototype._canvas_extra_style = function(canvas_div) {\n",
       "\n",
       "}\n",
       "\n",
       "\n",
       "mpl.figure.prototype._root_extra_style = function(canvas_div) {\n",
       "\n",
       "}\n",
       "\n",
       "mpl.figure.prototype._init_canvas = function() {\n",
       "    var fig = this;\n",
       "\n",
       "    var canvas_div = $('<div/>');\n",
       "\n",
       "    canvas_div.attr('style', 'position: relative; clear: both; outline: 0');\n",
       "\n",
       "    function canvas_keyboard_event(event) {\n",
       "        return fig.key_event(event, event['data']);\n",
       "    }\n",
       "\n",
       "    canvas_div.keydown('key_press', canvas_keyboard_event);\n",
       "    canvas_div.keyup('key_release', canvas_keyboard_event);\n",
       "    this.canvas_div = canvas_div\n",
       "    this._canvas_extra_style(canvas_div)\n",
       "    this.root.append(canvas_div);\n",
       "\n",
       "    var canvas = $('<canvas/>');\n",
       "    canvas.addClass('mpl-canvas');\n",
       "    canvas.attr('style', \"left: 0; top: 0; z-index: 0; outline: 0\")\n",
       "\n",
       "    this.canvas = canvas[0];\n",
       "    this.context = canvas[0].getContext(\"2d\");\n",
       "\n",
       "    var backingStore = this.context.backingStorePixelRatio ||\n",
       "\tthis.context.webkitBackingStorePixelRatio ||\n",
       "\tthis.context.mozBackingStorePixelRatio ||\n",
       "\tthis.context.msBackingStorePixelRatio ||\n",
       "\tthis.context.oBackingStorePixelRatio ||\n",
       "\tthis.context.backingStorePixelRatio || 1;\n",
       "\n",
       "    mpl.ratio = (window.devicePixelRatio || 1) / backingStore;\n",
       "\n",
       "    var rubberband = $('<canvas/>');\n",
       "    rubberband.attr('style', \"position: absolute; left: 0; top: 0; z-index: 1;\")\n",
       "\n",
       "    var pass_mouse_events = true;\n",
       "\n",
       "    canvas_div.resizable({\n",
       "        start: function(event, ui) {\n",
       "            pass_mouse_events = false;\n",
       "        },\n",
       "        resize: function(event, ui) {\n",
       "            fig.request_resize(ui.size.width, ui.size.height);\n",
       "        },\n",
       "        stop: function(event, ui) {\n",
       "            pass_mouse_events = true;\n",
       "            fig.request_resize(ui.size.width, ui.size.height);\n",
       "        },\n",
       "    });\n",
       "\n",
       "    function mouse_event_fn(event) {\n",
       "        if (pass_mouse_events)\n",
       "            return fig.mouse_event(event, event['data']);\n",
       "    }\n",
       "\n",
       "    rubberband.mousedown('button_press', mouse_event_fn);\n",
       "    rubberband.mouseup('button_release', mouse_event_fn);\n",
       "    // Throttle sequential mouse events to 1 every 20ms.\n",
       "    rubberband.mousemove('motion_notify', mouse_event_fn);\n",
       "\n",
       "    rubberband.mouseenter('figure_enter', mouse_event_fn);\n",
       "    rubberband.mouseleave('figure_leave', mouse_event_fn);\n",
       "\n",
       "    canvas_div.on(\"wheel\", function (event) {\n",
       "        event = event.originalEvent;\n",
       "        event['data'] = 'scroll'\n",
       "        if (event.deltaY < 0) {\n",
       "            event.step = 1;\n",
       "        } else {\n",
       "            event.step = -1;\n",
       "        }\n",
       "        mouse_event_fn(event);\n",
       "    });\n",
       "\n",
       "    canvas_div.append(canvas);\n",
       "    canvas_div.append(rubberband);\n",
       "\n",
       "    this.rubberband = rubberband;\n",
       "    this.rubberband_canvas = rubberband[0];\n",
       "    this.rubberband_context = rubberband[0].getContext(\"2d\");\n",
       "    this.rubberband_context.strokeStyle = \"#000000\";\n",
       "\n",
       "    this._resize_canvas = function(width, height) {\n",
       "        // Keep the size of the canvas, canvas container, and rubber band\n",
       "        // canvas in synch.\n",
       "        canvas_div.css('width', width)\n",
       "        canvas_div.css('height', height)\n",
       "\n",
       "        canvas.attr('width', width * mpl.ratio);\n",
       "        canvas.attr('height', height * mpl.ratio);\n",
       "        canvas.attr('style', 'width: ' + width + 'px; height: ' + height + 'px;');\n",
       "\n",
       "        rubberband.attr('width', width);\n",
       "        rubberband.attr('height', height);\n",
       "    }\n",
       "\n",
       "    // Set the figure to an initial 600x600px, this will subsequently be updated\n",
       "    // upon first draw.\n",
       "    this._resize_canvas(600, 600);\n",
       "\n",
       "    // Disable right mouse context menu.\n",
       "    $(this.rubberband_canvas).bind(\"contextmenu\",function(e){\n",
       "        return false;\n",
       "    });\n",
       "\n",
       "    function set_focus () {\n",
       "        canvas.focus();\n",
       "        canvas_div.focus();\n",
       "    }\n",
       "\n",
       "    window.setTimeout(set_focus, 100);\n",
       "}\n",
       "\n",
       "mpl.figure.prototype._init_toolbar = function() {\n",
       "    var fig = this;\n",
       "\n",
       "    var nav_element = $('<div/>');\n",
       "    nav_element.attr('style', 'width: 100%');\n",
       "    this.root.append(nav_element);\n",
       "\n",
       "    // Define a callback function for later on.\n",
       "    function toolbar_event(event) {\n",
       "        return fig.toolbar_button_onclick(event['data']);\n",
       "    }\n",
       "    function toolbar_mouse_event(event) {\n",
       "        return fig.toolbar_button_onmouseover(event['data']);\n",
       "    }\n",
       "\n",
       "    for(var toolbar_ind in mpl.toolbar_items) {\n",
       "        var name = mpl.toolbar_items[toolbar_ind][0];\n",
       "        var tooltip = mpl.toolbar_items[toolbar_ind][1];\n",
       "        var image = mpl.toolbar_items[toolbar_ind][2];\n",
       "        var method_name = mpl.toolbar_items[toolbar_ind][3];\n",
       "\n",
       "        if (!name) {\n",
       "            // put a spacer in here.\n",
       "            continue;\n",
       "        }\n",
       "        var button = $('<button/>');\n",
       "        button.addClass('ui-button ui-widget ui-state-default ui-corner-all ' +\n",
       "                        'ui-button-icon-only');\n",
       "        button.attr('role', 'button');\n",
       "        button.attr('aria-disabled', 'false');\n",
       "        button.click(method_name, toolbar_event);\n",
       "        button.mouseover(tooltip, toolbar_mouse_event);\n",
       "\n",
       "        var icon_img = $('<span/>');\n",
       "        icon_img.addClass('ui-button-icon-primary ui-icon');\n",
       "        icon_img.addClass(image);\n",
       "        icon_img.addClass('ui-corner-all');\n",
       "\n",
       "        var tooltip_span = $('<span/>');\n",
       "        tooltip_span.addClass('ui-button-text');\n",
       "        tooltip_span.html(tooltip);\n",
       "\n",
       "        button.append(icon_img);\n",
       "        button.append(tooltip_span);\n",
       "\n",
       "        nav_element.append(button);\n",
       "    }\n",
       "\n",
       "    var fmt_picker_span = $('<span/>');\n",
       "\n",
       "    var fmt_picker = $('<select/>');\n",
       "    fmt_picker.addClass('mpl-toolbar-option ui-widget ui-widget-content');\n",
       "    fmt_picker_span.append(fmt_picker);\n",
       "    nav_element.append(fmt_picker_span);\n",
       "    this.format_dropdown = fmt_picker[0];\n",
       "\n",
       "    for (var ind in mpl.extensions) {\n",
       "        var fmt = mpl.extensions[ind];\n",
       "        var option = $(\n",
       "            '<option/>', {selected: fmt === mpl.default_extension}).html(fmt);\n",
       "        fmt_picker.append(option);\n",
       "    }\n",
       "\n",
       "    // Add hover states to the ui-buttons\n",
       "    $( \".ui-button\" ).hover(\n",
       "        function() { $(this).addClass(\"ui-state-hover\");},\n",
       "        function() { $(this).removeClass(\"ui-state-hover\");}\n",
       "    );\n",
       "\n",
       "    var status_bar = $('<span class=\"mpl-message\"/>');\n",
       "    nav_element.append(status_bar);\n",
       "    this.message = status_bar[0];\n",
       "}\n",
       "\n",
       "mpl.figure.prototype.request_resize = function(x_pixels, y_pixels) {\n",
       "    // Request matplotlib to resize the figure. Matplotlib will then trigger a resize in the client,\n",
       "    // which will in turn request a refresh of the image.\n",
       "    this.send_message('resize', {'width': x_pixels, 'height': y_pixels});\n",
       "}\n",
       "\n",
       "mpl.figure.prototype.send_message = function(type, properties) {\n",
       "    properties['type'] = type;\n",
       "    properties['figure_id'] = this.id;\n",
       "    this.ws.send(JSON.stringify(properties));\n",
       "}\n",
       "\n",
       "mpl.figure.prototype.send_draw_message = function() {\n",
       "    if (!this.waiting) {\n",
       "        this.waiting = true;\n",
       "        this.ws.send(JSON.stringify({type: \"draw\", figure_id: this.id}));\n",
       "    }\n",
       "}\n",
       "\n",
       "\n",
       "mpl.figure.prototype.handle_save = function(fig, msg) {\n",
       "    var format_dropdown = fig.format_dropdown;\n",
       "    var format = format_dropdown.options[format_dropdown.selectedIndex].value;\n",
       "    fig.ondownload(fig, format);\n",
       "}\n",
       "\n",
       "\n",
       "mpl.figure.prototype.handle_resize = function(fig, msg) {\n",
       "    var size = msg['size'];\n",
       "    if (size[0] != fig.canvas.width || size[1] != fig.canvas.height) {\n",
       "        fig._resize_canvas(size[0], size[1]);\n",
       "        fig.send_message(\"refresh\", {});\n",
       "    };\n",
       "}\n",
       "\n",
       "mpl.figure.prototype.handle_rubberband = function(fig, msg) {\n",
       "    var x0 = msg['x0'] / mpl.ratio;\n",
       "    var y0 = (fig.canvas.height - msg['y0']) / mpl.ratio;\n",
       "    var x1 = msg['x1'] / mpl.ratio;\n",
       "    var y1 = (fig.canvas.height - msg['y1']) / mpl.ratio;\n",
       "    x0 = Math.floor(x0) + 0.5;\n",
       "    y0 = Math.floor(y0) + 0.5;\n",
       "    x1 = Math.floor(x1) + 0.5;\n",
       "    y1 = Math.floor(y1) + 0.5;\n",
       "    var min_x = Math.min(x0, x1);\n",
       "    var min_y = Math.min(y0, y1);\n",
       "    var width = Math.abs(x1 - x0);\n",
       "    var height = Math.abs(y1 - y0);\n",
       "\n",
       "    fig.rubberband_context.clearRect(\n",
       "        0, 0, fig.canvas.width / mpl.ratio, fig.canvas.height / mpl.ratio);\n",
       "\n",
       "    fig.rubberband_context.strokeRect(min_x, min_y, width, height);\n",
       "}\n",
       "\n",
       "mpl.figure.prototype.handle_figure_label = function(fig, msg) {\n",
       "    // Updates the figure title.\n",
       "    fig.header.textContent = msg['label'];\n",
       "}\n",
       "\n",
       "mpl.figure.prototype.handle_cursor = function(fig, msg) {\n",
       "    var cursor = msg['cursor'];\n",
       "    switch(cursor)\n",
       "    {\n",
       "    case 0:\n",
       "        cursor = 'pointer';\n",
       "        break;\n",
       "    case 1:\n",
       "        cursor = 'default';\n",
       "        break;\n",
       "    case 2:\n",
       "        cursor = 'crosshair';\n",
       "        break;\n",
       "    case 3:\n",
       "        cursor = 'move';\n",
       "        break;\n",
       "    }\n",
       "    fig.rubberband_canvas.style.cursor = cursor;\n",
       "}\n",
       "\n",
       "mpl.figure.prototype.handle_message = function(fig, msg) {\n",
       "    fig.message.textContent = msg['message'];\n",
       "}\n",
       "\n",
       "mpl.figure.prototype.handle_draw = function(fig, msg) {\n",
       "    // Request the server to send over a new figure.\n",
       "    fig.send_draw_message();\n",
       "}\n",
       "\n",
       "mpl.figure.prototype.handle_image_mode = function(fig, msg) {\n",
       "    fig.image_mode = msg['mode'];\n",
       "}\n",
       "\n",
       "mpl.figure.prototype.updated_canvas_event = function() {\n",
       "    // Called whenever the canvas gets updated.\n",
       "    this.send_message(\"ack\", {});\n",
       "}\n",
       "\n",
       "// A function to construct a web socket function for onmessage handling.\n",
       "// Called in the figure constructor.\n",
       "mpl.figure.prototype._make_on_message_function = function(fig) {\n",
       "    return function socket_on_message(evt) {\n",
       "        if (evt.data instanceof Blob) {\n",
       "            /* FIXME: We get \"Resource interpreted as Image but\n",
       "             * transferred with MIME type text/plain:\" errors on\n",
       "             * Chrome.  But how to set the MIME type?  It doesn't seem\n",
       "             * to be part of the websocket stream */\n",
       "            evt.data.type = \"image/png\";\n",
       "\n",
       "            /* Free the memory for the previous frames */\n",
       "            if (fig.imageObj.src) {\n",
       "                (window.URL || window.webkitURL).revokeObjectURL(\n",
       "                    fig.imageObj.src);\n",
       "            }\n",
       "\n",
       "            fig.imageObj.src = (window.URL || window.webkitURL).createObjectURL(\n",
       "                evt.data);\n",
       "            fig.updated_canvas_event();\n",
       "            fig.waiting = false;\n",
       "            return;\n",
       "        }\n",
       "        else if (typeof evt.data === 'string' && evt.data.slice(0, 21) == \"data:image/png;base64\") {\n",
       "            fig.imageObj.src = evt.data;\n",
       "            fig.updated_canvas_event();\n",
       "            fig.waiting = false;\n",
       "            return;\n",
       "        }\n",
       "\n",
       "        var msg = JSON.parse(evt.data);\n",
       "        var msg_type = msg['type'];\n",
       "\n",
       "        // Call the  \"handle_{type}\" callback, which takes\n",
       "        // the figure and JSON message as its only arguments.\n",
       "        try {\n",
       "            var callback = fig[\"handle_\" + msg_type];\n",
       "        } catch (e) {\n",
       "            console.log(\"No handler for the '\" + msg_type + \"' message type: \", msg);\n",
       "            return;\n",
       "        }\n",
       "\n",
       "        if (callback) {\n",
       "            try {\n",
       "                // console.log(\"Handling '\" + msg_type + \"' message: \", msg);\n",
       "                callback(fig, msg);\n",
       "            } catch (e) {\n",
       "                console.log(\"Exception inside the 'handler_\" + msg_type + \"' callback:\", e, e.stack, msg);\n",
       "            }\n",
       "        }\n",
       "    };\n",
       "}\n",
       "\n",
       "// from http://stackoverflow.com/questions/1114465/getting-mouse-location-in-canvas\n",
       "mpl.findpos = function(e) {\n",
       "    //this section is from http://www.quirksmode.org/js/events_properties.html\n",
       "    var targ;\n",
       "    if (!e)\n",
       "        e = window.event;\n",
       "    if (e.target)\n",
       "        targ = e.target;\n",
       "    else if (e.srcElement)\n",
       "        targ = e.srcElement;\n",
       "    if (targ.nodeType == 3) // defeat Safari bug\n",
       "        targ = targ.parentNode;\n",
       "\n",
       "    // jQuery normalizes the pageX and pageY\n",
       "    // pageX,Y are the mouse positions relative to the document\n",
       "    // offset() returns the position of the element relative to the document\n",
       "    var x = e.pageX - $(targ).offset().left;\n",
       "    var y = e.pageY - $(targ).offset().top;\n",
       "\n",
       "    return {\"x\": x, \"y\": y};\n",
       "};\n",
       "\n",
       "/*\n",
       " * return a copy of an object with only non-object keys\n",
       " * we need this to avoid circular references\n",
       " * http://stackoverflow.com/a/24161582/3208463\n",
       " */\n",
       "function simpleKeys (original) {\n",
       "  return Object.keys(original).reduce(function (obj, key) {\n",
       "    if (typeof original[key] !== 'object')\n",
       "        obj[key] = original[key]\n",
       "    return obj;\n",
       "  }, {});\n",
       "}\n",
       "\n",
       "mpl.figure.prototype.mouse_event = function(event, name) {\n",
       "    var canvas_pos = mpl.findpos(event)\n",
       "\n",
       "    if (name === 'button_press')\n",
       "    {\n",
       "        this.canvas.focus();\n",
       "        this.canvas_div.focus();\n",
       "    }\n",
       "\n",
       "    var x = canvas_pos.x * mpl.ratio;\n",
       "    var y = canvas_pos.y * mpl.ratio;\n",
       "\n",
       "    this.send_message(name, {x: x, y: y, button: event.button,\n",
       "                             step: event.step,\n",
       "                             guiEvent: simpleKeys(event)});\n",
       "\n",
       "    /* This prevents the web browser from automatically changing to\n",
       "     * the text insertion cursor when the button is pressed.  We want\n",
       "     * to control all of the cursor setting manually through the\n",
       "     * 'cursor' event from matplotlib */\n",
       "    event.preventDefault();\n",
       "    return false;\n",
       "}\n",
       "\n",
       "mpl.figure.prototype._key_event_extra = function(event, name) {\n",
       "    // Handle any extra behaviour associated with a key event\n",
       "}\n",
       "\n",
       "mpl.figure.prototype.key_event = function(event, name) {\n",
       "\n",
       "    // Prevent repeat events\n",
       "    if (name == 'key_press')\n",
       "    {\n",
       "        if (event.which === this._key)\n",
       "            return;\n",
       "        else\n",
       "            this._key = event.which;\n",
       "    }\n",
       "    if (name == 'key_release')\n",
       "        this._key = null;\n",
       "\n",
       "    var value = '';\n",
       "    if (event.ctrlKey && event.which != 17)\n",
       "        value += \"ctrl+\";\n",
       "    if (event.altKey && event.which != 18)\n",
       "        value += \"alt+\";\n",
       "    if (event.shiftKey && event.which != 16)\n",
       "        value += \"shift+\";\n",
       "\n",
       "    value += 'k';\n",
       "    value += event.which.toString();\n",
       "\n",
       "    this._key_event_extra(event, name);\n",
       "\n",
       "    this.send_message(name, {key: value,\n",
       "                             guiEvent: simpleKeys(event)});\n",
       "    return false;\n",
       "}\n",
       "\n",
       "mpl.figure.prototype.toolbar_button_onclick = function(name) {\n",
       "    if (name == 'download') {\n",
       "        this.handle_save(this, null);\n",
       "    } else {\n",
       "        this.send_message(\"toolbar_button\", {name: name});\n",
       "    }\n",
       "};\n",
       "\n",
       "mpl.figure.prototype.toolbar_button_onmouseover = function(tooltip) {\n",
       "    this.message.textContent = tooltip;\n",
       "};\n",
       "mpl.toolbar_items = [[\"Home\", \"Reset original view\", \"fa fa-home icon-home\", \"home\"], [\"Back\", \"Back to previous view\", \"fa fa-arrow-left icon-arrow-left\", \"back\"], [\"Forward\", \"Forward to next view\", \"fa fa-arrow-right icon-arrow-right\", \"forward\"], [\"\", \"\", \"\", \"\"], [\"Pan\", \"Pan axes with left mouse, zoom with right\", \"fa fa-arrows icon-move\", \"pan\"], [\"Zoom\", \"Zoom to rectangle\", \"fa fa-square-o icon-check-empty\", \"zoom\"], [\"\", \"\", \"\", \"\"], [\"Download\", \"Download plot\", \"fa fa-floppy-o icon-save\", \"download\"]];\n",
       "\n",
       "mpl.extensions = [\"eps\", \"jpeg\", \"pdf\", \"png\", \"ps\", \"raw\", \"svg\", \"tif\"];\n",
       "\n",
       "mpl.default_extension = \"png\";var comm_websocket_adapter = function(comm) {\n",
       "    // Create a \"websocket\"-like object which calls the given IPython comm\n",
       "    // object with the appropriate methods. Currently this is a non binary\n",
       "    // socket, so there is still some room for performance tuning.\n",
       "    var ws = {};\n",
       "\n",
       "    ws.close = function() {\n",
       "        comm.close()\n",
       "    };\n",
       "    ws.send = function(m) {\n",
       "        //console.log('sending', m);\n",
       "        comm.send(m);\n",
       "    };\n",
       "    // Register the callback with on_msg.\n",
       "    comm.on_msg(function(msg) {\n",
       "        //console.log('receiving', msg['content']['data'], msg);\n",
       "        // Pass the mpl event to the overridden (by mpl) onmessage function.\n",
       "        ws.onmessage(msg['content']['data'])\n",
       "    });\n",
       "    return ws;\n",
       "}\n",
       "\n",
       "mpl.mpl_figure_comm = function(comm, msg) {\n",
       "    // This is the function which gets called when the mpl process\n",
       "    // starts-up an IPython Comm through the \"matplotlib\" channel.\n",
       "\n",
       "    var id = msg.content.data.id;\n",
       "    // Get hold of the div created by the display call when the Comm\n",
       "    // socket was opened in Python.\n",
       "    var element = $(\"#\" + id);\n",
       "    var ws_proxy = comm_websocket_adapter(comm)\n",
       "\n",
       "    function ondownload(figure, format) {\n",
       "        window.open(figure.imageObj.src);\n",
       "    }\n",
       "\n",
       "    var fig = new mpl.figure(id, ws_proxy,\n",
       "                           ondownload,\n",
       "                           element.get(0));\n",
       "\n",
       "    // Call onopen now - mpl needs it, as it is assuming we've passed it a real\n",
       "    // web socket which is closed, not our websocket->open comm proxy.\n",
       "    ws_proxy.onopen();\n",
       "\n",
       "    fig.parent_element = element.get(0);\n",
       "    fig.cell_info = mpl.find_output_cell(\"<div id='\" + id + \"'></div>\");\n",
       "    if (!fig.cell_info) {\n",
       "        console.error(\"Failed to find cell for figure\", id, fig);\n",
       "        return;\n",
       "    }\n",
       "\n",
       "    var output_index = fig.cell_info[2]\n",
       "    var cell = fig.cell_info[0];\n",
       "\n",
       "};\n",
       "\n",
       "mpl.figure.prototype.handle_close = function(fig, msg) {\n",
       "    var width = fig.canvas.width/mpl.ratio\n",
       "    fig.root.unbind('remove')\n",
       "\n",
       "    // Update the output cell to use the data from the current canvas.\n",
       "    fig.push_to_output();\n",
       "    var dataURL = fig.canvas.toDataURL();\n",
       "    // Re-enable the keyboard manager in IPython - without this line, in FF,\n",
       "    // the notebook keyboard shortcuts fail.\n",
       "    IPython.keyboard_manager.enable()\n",
       "    $(fig.parent_element).html('<img src=\"' + dataURL + '\" width=\"' + width + '\">');\n",
       "    fig.close_ws(fig, msg);\n",
       "}\n",
       "\n",
       "mpl.figure.prototype.close_ws = function(fig, msg){\n",
       "    fig.send_message('closing', msg);\n",
       "    // fig.ws.close()\n",
       "}\n",
       "\n",
       "mpl.figure.prototype.push_to_output = function(remove_interactive) {\n",
       "    // Turn the data on the canvas into data in the output cell.\n",
       "    var width = this.canvas.width/mpl.ratio\n",
       "    var dataURL = this.canvas.toDataURL();\n",
       "    this.cell_info[1]['text/html'] = '<img src=\"' + dataURL + '\" width=\"' + width + '\">';\n",
       "}\n",
       "\n",
       "mpl.figure.prototype.updated_canvas_event = function() {\n",
       "    // Tell IPython that the notebook contents must change.\n",
       "    IPython.notebook.set_dirty(true);\n",
       "    this.send_message(\"ack\", {});\n",
       "    var fig = this;\n",
       "    // Wait a second, then push the new image to the DOM so\n",
       "    // that it is saved nicely (might be nice to debounce this).\n",
       "    setTimeout(function () { fig.push_to_output() }, 1000);\n",
       "}\n",
       "\n",
       "mpl.figure.prototype._init_toolbar = function() {\n",
       "    var fig = this;\n",
       "\n",
       "    var nav_element = $('<div/>');\n",
       "    nav_element.attr('style', 'width: 100%');\n",
       "    this.root.append(nav_element);\n",
       "\n",
       "    // Define a callback function for later on.\n",
       "    function toolbar_event(event) {\n",
       "        return fig.toolbar_button_onclick(event['data']);\n",
       "    }\n",
       "    function toolbar_mouse_event(event) {\n",
       "        return fig.toolbar_button_onmouseover(event['data']);\n",
       "    }\n",
       "\n",
       "    for(var toolbar_ind in mpl.toolbar_items){\n",
       "        var name = mpl.toolbar_items[toolbar_ind][0];\n",
       "        var tooltip = mpl.toolbar_items[toolbar_ind][1];\n",
       "        var image = mpl.toolbar_items[toolbar_ind][2];\n",
       "        var method_name = mpl.toolbar_items[toolbar_ind][3];\n",
       "\n",
       "        if (!name) { continue; };\n",
       "\n",
       "        var button = $('<button class=\"btn btn-default\" href=\"#\" title=\"' + name + '\"><i class=\"fa ' + image + ' fa-lg\"></i></button>');\n",
       "        button.click(method_name, toolbar_event);\n",
       "        button.mouseover(tooltip, toolbar_mouse_event);\n",
       "        nav_element.append(button);\n",
       "    }\n",
       "\n",
       "    // Add the status bar.\n",
       "    var status_bar = $('<span class=\"mpl-message\" style=\"text-align:right; float: right;\"/>');\n",
       "    nav_element.append(status_bar);\n",
       "    this.message = status_bar[0];\n",
       "\n",
       "    // Add the close button to the window.\n",
       "    var buttongrp = $('<div class=\"btn-group inline pull-right\"></div>');\n",
       "    var button = $('<button class=\"btn btn-mini btn-primary\" href=\"#\" title=\"Stop Interaction\"><i class=\"fa fa-power-off icon-remove icon-large\"></i></button>');\n",
       "    button.click(function (evt) { fig.handle_close(fig, {}); } );\n",
       "    button.mouseover('Stop Interaction', toolbar_mouse_event);\n",
       "    buttongrp.append(button);\n",
       "    var titlebar = this.root.find($('.ui-dialog-titlebar'));\n",
       "    titlebar.prepend(buttongrp);\n",
       "}\n",
       "\n",
       "mpl.figure.prototype._root_extra_style = function(el){\n",
       "    var fig = this\n",
       "    el.on(\"remove\", function(){\n",
       "\tfig.close_ws(fig, {});\n",
       "    });\n",
       "}\n",
       "\n",
       "mpl.figure.prototype._canvas_extra_style = function(el){\n",
       "    // this is important to make the div 'focusable\n",
       "    el.attr('tabindex', 0)\n",
       "    // reach out to IPython and tell the keyboard manager to turn it's self\n",
       "    // off when our div gets focus\n",
       "\n",
       "    // location in version 3\n",
       "    if (IPython.notebook.keyboard_manager) {\n",
       "        IPython.notebook.keyboard_manager.register_events(el);\n",
       "    }\n",
       "    else {\n",
       "        // location in version 2\n",
       "        IPython.keyboard_manager.register_events(el);\n",
       "    }\n",
       "\n",
       "}\n",
       "\n",
       "mpl.figure.prototype._key_event_extra = function(event, name) {\n",
       "    var manager = IPython.notebook.keyboard_manager;\n",
       "    if (!manager)\n",
       "        manager = IPython.keyboard_manager;\n",
       "\n",
       "    // Check for shift+enter\n",
       "    if (event.shiftKey && event.which == 13) {\n",
       "        this.canvas_div.blur();\n",
       "        // select the cell after this one\n",
       "        var index = IPython.notebook.find_cell_index(this.cell_info[0]);\n",
       "        IPython.notebook.select(index + 1);\n",
       "    }\n",
       "}\n",
       "\n",
       "mpl.figure.prototype.handle_save = function(fig, msg) {\n",
       "    fig.ondownload(fig, null);\n",
       "}\n",
       "\n",
       "\n",
       "mpl.find_output_cell = function(html_output) {\n",
       "    // Return the cell and output element which can be found *uniquely* in the notebook.\n",
       "    // Note - this is a bit hacky, but it is done because the \"notebook_saving.Notebook\"\n",
       "    // IPython event is triggered only after the cells have been serialised, which for\n",
       "    // our purposes (turning an active figure into a static one), is too late.\n",
       "    var cells = IPython.notebook.get_cells();\n",
       "    var ncells = cells.length;\n",
       "    for (var i=0; i<ncells; i++) {\n",
       "        var cell = cells[i];\n",
       "        if (cell.cell_type === 'code'){\n",
       "            for (var j=0; j<cell.output_area.outputs.length; j++) {\n",
       "                var data = cell.output_area.outputs[j];\n",
       "                if (data.data) {\n",
       "                    // IPython >= 3 moved mimebundle to data attribute of output\n",
       "                    data = data.data;\n",
       "                }\n",
       "                if (data['text/html'] == html_output) {\n",
       "                    return [cell, data, j];\n",
       "                }\n",
       "            }\n",
       "        }\n",
       "    }\n",
       "}\n",
       "\n",
       "// Register the function which deals with the matplotlib target/channel.\n",
       "// The kernel may be null if the page has been refreshed.\n",
       "if (IPython.notebook.kernel != null) {\n",
       "    IPython.notebook.kernel.comm_manager.register_target('matplotlib', mpl.mpl_figure_comm);\n",
       "}\n"
      ],
      "text/plain": [
       "<IPython.core.display.Javascript object>"
      ]
     },
     "metadata": {
      "tags": []
     },
     "output_type": "display_data"
    },
    {
     "data": {
      "text/html": [
       "<div id='e2d46d33-6ccf-484e-80d1-9351e9559ec7'></div>"
      ],
      "text/plain": [
       "<IPython.core.display.HTML object>"
      ]
     },
     "metadata": {
      "tags": []
     },
     "output_type": "display_data"
    }
   ],
   "source": [
    "fig, ax_fig = plt.subplots(2, 2, figsize=(12, 12))\n",
    "\n",
    "for ax_row, (method_key, method_loader) in zip(ax_fig, split_loaders.items()):\n",
    "    \n",
    "    results, targets, val_loss = evaluate(T.get_best_model(), method_loader['test'], loss_fn, device=DEVICE)\n",
    "    \n",
    "    for ax, key in zip(ax_row, units.keys()):\n",
    "        pred_op = torch.cat\n",
    "        targ_op = torch.cat\n",
    "        \n",
    "        if all([len(i.shape) == 0 for i in results[key]]):\n",
    "            pred_op = torch.stack\n",
    "        if all([len(i.shape) == 0 for i in targets[key]]):\n",
    "            targ_op = torch.stack\n",
    "            \n",
    "        pred = pred_op(results[key], dim=0).detach().cpu().numpy().reshape(-1)\n",
    "        targ = targ_op(targets[key], dim=0).detach().cpu().numpy().reshape(-1)\n",
    "\n",
    "        plot_hexbin(pred, targ, ax, key, scale='linear')\n",
    "\n",
    "        ax.set_title('%s: %s' % (method[method_key], key.upper()), fontsize=14)\n",
    "\n",
    "plt.show()"
   ]
  },
  {
   "cell_type": "markdown",
   "metadata": {
    "id": "8c5pxaI3cZgK"
   },
   "source": [
    "#### Transfer learning\n",
    "Now we just have to freeze its convolution layers and unfreeze the last layers. In our case, the readout layers are those which make the prediction possible."
   ]
  },
  {
   "cell_type": "code",
   "execution_count": 235,
   "metadata": {
    "id": "pWKKFRFjcaeW"
   },
   "outputs": [],
   "source": [
    "model = T.get_best_model()\n",
    "model = freeze_parameters(model)\n",
    "\n",
    "unfreeze_readout(model)"
   ]
  },
  {
   "cell_type": "code",
   "execution_count": 236,
   "metadata": {
    "id": "Oz7MadIscdlm"
   },
   "outputs": [],
   "source": [
    "trainable_params = filter(lambda p: p.requires_grad, model.parameters())\n",
    "optimizer = Adam(trainable_params, lr=3e-4)"
   ]
  },
  {
   "cell_type": "markdown",
   "metadata": {
    "id": "2CpMw35ccfP6"
   },
   "source": [
    "Retraining the model for a couple more epochs to use the transfer learning strategy:\n",
    "\n"
   ]
  },
  {
   "cell_type": "code",
   "execution_count": 237,
   "metadata": {
    "id": "Fzvq5Yv-ch3k"
   },
   "outputs": [],
   "source": [
    "T_transf = Trainer(\n",
    "    model_path=OUTDIR_2,\n",
    "    model=model,\n",
    "    loss_fn=loss_fn,\n",
    "    optimizer=optimizer,\n",
    "    train_loader=split_loaders['transf']['train'],\n",
    "    validation_loader=split_loaders['transf']['val'],\n",
    "    checkpoint_interval=1,\n",
    "    hooks=train_hooks\n",
    ")"
   ]
  },
  {
   "cell_type": "code",
   "execution_count": 238,
   "metadata": {
    "colab": {
     "base_uri": "https://localhost:8080/"
    },
    "id": "cJd5nTKGcjyF",
    "outputId": "c85f12e9-cd0f-4e17-e336-0881828f44e5"
   },
   "outputs": [
    {
     "name": "stdout",
     "output_type": "stream",
     "text": [
      " Time | Epoch | Learning rate | Train loss | Validation loss | MAE_energy | MAE_energy_grad | \n"
     ]
    },
    {
     "name": "stderr",
     "output_type": "stream",
     "text": [
      " 75%|███████▌  | 3/4 [00:00<00:00, 18.65it/s]\n"
     ]
    },
    {
     "name": "stdout",
     "output_type": "stream",
     "text": [
      "26:33 |     1 |     3.000e-04 |    53.3167 |         29.9549 |     1.0103 |          4.5157 | \n"
     ]
    },
    {
     "name": "stderr",
     "output_type": "stream",
     "text": [
      "  0%|          | 0/4 [00:00<?, ?it/s]\n"
     ]
    },
    {
     "name": "stdout",
     "output_type": "stream",
     "text": [
      "26:34 |     2 |     3.000e-04 |    21.3731 |         10.0823 |     1.5702 |          2.4800 | \n"
     ]
    },
    {
     "name": "stderr",
     "output_type": "stream",
     "text": [
      " 75%|███████▌  | 3/4 [00:00<00:00, 20.53it/s]\n"
     ]
    },
    {
     "name": "stdout",
     "output_type": "stream",
     "text": [
      "26:34 |     3 |     3.000e-04 |     7.5335 |          5.1791 |     1.9063 |          1.7871 | \n"
     ]
    },
    {
     "name": "stderr",
     "output_type": "stream",
     "text": [
      " 75%|███████▌  | 3/4 [00:00<00:00, 21.35it/s]\n"
     ]
    },
    {
     "name": "stdout",
     "output_type": "stream",
     "text": [
      "26:35 |     4 |     3.000e-04 |     5.7167 |          6.6643 |     2.0454 |          2.0325 | \n"
     ]
    },
    {
     "name": "stderr",
     "output_type": "stream",
     "text": [
      " 75%|███████▌  | 3/4 [00:00<00:00, 22.18it/s]\n"
     ]
    },
    {
     "name": "stdout",
     "output_type": "stream",
     "text": [
      "26:35 |     5 |     3.000e-04 |     7.0872 |          6.9368 |     2.1509 |          2.0474 | \n"
     ]
    },
    {
     "name": "stderr",
     "output_type": "stream",
     "text": [
      " 75%|███████▌  | 3/4 [00:00<00:00, 21.48it/s]\n"
     ]
    },
    {
     "name": "stdout",
     "output_type": "stream",
     "text": [
      "26:35 |     6 |     3.000e-04 |     6.4525 |          5.1425 |     2.1825 |          1.7136 | \n"
     ]
    },
    {
     "name": "stderr",
     "output_type": "stream",
     "text": [
      " 75%|███████▌  | 3/4 [00:00<00:00, 21.49it/s]\n"
     ]
    },
    {
     "name": "stdout",
     "output_type": "stream",
     "text": [
      "26:36 |     7 |     3.000e-04 |     4.6285 |          3.5590 |     2.0135 |          1.3911 | \n"
     ]
    },
    {
     "name": "stderr",
     "output_type": "stream",
     "text": [
      " 75%|███████▌  | 3/4 [00:00<00:00, 20.82it/s]\n"
     ]
    },
    {
     "name": "stdout",
     "output_type": "stream",
     "text": [
      "26:36 |     8 |     3.000e-04 |     3.4788 |          2.9835 |     1.6157 |          1.2671 | \n"
     ]
    },
    {
     "name": "stderr",
     "output_type": "stream",
     "text": [
      " 75%|███████▌  | 3/4 [00:00<00:00, 21.19it/s]\n"
     ]
    },
    {
     "name": "stdout",
     "output_type": "stream",
     "text": [
      "26:36 |     9 |     3.000e-04 |     3.1608 |          2.8642 |     1.1149 |          1.2429 | \n"
     ]
    },
    {
     "name": "stderr",
     "output_type": "stream",
     "text": [
      " 75%|███████▌  | 3/4 [00:00<00:00, 20.52it/s]\n"
     ]
    },
    {
     "name": "stdout",
     "output_type": "stream",
     "text": [
      "26:37 |    10 |     3.000e-04 |     3.0288 |          2.6527 |     0.6635 |          1.1811 | \n"
     ]
    },
    {
     "name": "stderr",
     "output_type": "stream",
     "text": [
      " 75%|███████▌  | 3/4 [00:00<00:00, 21.42it/s]\n"
     ]
    },
    {
     "name": "stdout",
     "output_type": "stream",
     "text": [
      "26:37 |    11 |     3.000e-04 |     2.7416 |          2.3359 |     0.3575 |          1.0993 | \n"
     ]
    },
    {
     "name": "stderr",
     "output_type": "stream",
     "text": [
      " 75%|███████▌  | 3/4 [00:00<00:00, 20.36it/s]\n"
     ]
    },
    {
     "name": "stdout",
     "output_type": "stream",
     "text": [
      "26:38 |    12 |     3.000e-04 |     2.4155 |          2.0962 |     0.2597 |          1.0548 | \n"
     ]
    },
    {
     "name": "stderr",
     "output_type": "stream",
     "text": [
      " 75%|███████▌  | 3/4 [00:00<00:00, 21.57it/s]\n"
     ]
    },
    {
     "name": "stdout",
     "output_type": "stream",
     "text": [
      "26:38 |    13 |     3.000e-04 |     2.1963 |          1.9617 |     0.3403 |          1.0262 | \n"
     ]
    },
    {
     "name": "stderr",
     "output_type": "stream",
     "text": [
      "  0%|          | 0/4 [00:00<?, ?it/s]\n"
     ]
    },
    {
     "name": "stdout",
     "output_type": "stream",
     "text": [
      "26:38 |    14 |     3.000e-04 |     2.0525 |          1.8431 |     0.5550 |          0.9852 | \n"
     ]
    },
    {
     "name": "stderr",
     "output_type": "stream",
     "text": [
      "  0%|          | 0/4 [00:00<?, ?it/s]\n"
     ]
    },
    {
     "name": "stdout",
     "output_type": "stream",
     "text": [
      "26:39 |    15 |     3.000e-04 |     1.9188 |          1.7278 |     0.6891 |          0.9385 | \n"
     ]
    }
   ],
   "source": [
    "T_transf.train(device=DEVICE, n_epochs=15)"
   ]
  },
  {
   "cell_type": "code",
   "execution_count": 239,
   "metadata": {
    "colab": {
     "base_uri": "https://localhost:8080/",
     "height": 17
    },
    "id": "RYq0fyzTcmtP",
    "outputId": "5badb934-cabf-4270-96b5-6949bcf6ed5d"
   },
   "outputs": [
    {
     "data": {
      "application/javascript": [
       "/* Put everything inside the global mpl namespace */\n",
       "window.mpl = {};\n",
       "\n",
       "\n",
       "mpl.get_websocket_type = function() {\n",
       "    if (typeof(WebSocket) !== 'undefined') {\n",
       "        return WebSocket;\n",
       "    } else if (typeof(MozWebSocket) !== 'undefined') {\n",
       "        return MozWebSocket;\n",
       "    } else {\n",
       "        alert('Your browser does not have WebSocket support. ' +\n",
       "              'Please try Chrome, Safari or Firefox ≥ 6. ' +\n",
       "              'Firefox 4 and 5 are also supported but you ' +\n",
       "              'have to enable WebSockets in about:config.');\n",
       "    };\n",
       "}\n",
       "\n",
       "mpl.figure = function(figure_id, websocket, ondownload, parent_element) {\n",
       "    this.id = figure_id;\n",
       "\n",
       "    this.ws = websocket;\n",
       "\n",
       "    this.supports_binary = (this.ws.binaryType != undefined);\n",
       "\n",
       "    if (!this.supports_binary) {\n",
       "        var warnings = document.getElementById(\"mpl-warnings\");\n",
       "        if (warnings) {\n",
       "            warnings.style.display = 'block';\n",
       "            warnings.textContent = (\n",
       "                \"This browser does not support binary websocket messages. \" +\n",
       "                    \"Performance may be slow.\");\n",
       "        }\n",
       "    }\n",
       "\n",
       "    this.imageObj = new Image();\n",
       "\n",
       "    this.context = undefined;\n",
       "    this.message = undefined;\n",
       "    this.canvas = undefined;\n",
       "    this.rubberband_canvas = undefined;\n",
       "    this.rubberband_context = undefined;\n",
       "    this.format_dropdown = undefined;\n",
       "\n",
       "    this.image_mode = 'full';\n",
       "\n",
       "    this.root = $('<div/>');\n",
       "    this._root_extra_style(this.root)\n",
       "    this.root.attr('style', 'display: inline-block');\n",
       "\n",
       "    $(parent_element).append(this.root);\n",
       "\n",
       "    this._init_header(this);\n",
       "    this._init_canvas(this);\n",
       "    this._init_toolbar(this);\n",
       "\n",
       "    var fig = this;\n",
       "\n",
       "    this.waiting = false;\n",
       "\n",
       "    this.ws.onopen =  function () {\n",
       "            fig.send_message(\"supports_binary\", {value: fig.supports_binary});\n",
       "            fig.send_message(\"send_image_mode\", {});\n",
       "            if (mpl.ratio != 1) {\n",
       "                fig.send_message(\"set_dpi_ratio\", {'dpi_ratio': mpl.ratio});\n",
       "            }\n",
       "            fig.send_message(\"refresh\", {});\n",
       "        }\n",
       "\n",
       "    this.imageObj.onload = function() {\n",
       "            if (fig.image_mode == 'full') {\n",
       "                // Full images could contain transparency (where diff images\n",
       "                // almost always do), so we need to clear the canvas so that\n",
       "                // there is no ghosting.\n",
       "                fig.context.clearRect(0, 0, fig.canvas.width, fig.canvas.height);\n",
       "            }\n",
       "            fig.context.drawImage(fig.imageObj, 0, 0);\n",
       "        };\n",
       "\n",
       "    this.imageObj.onunload = function() {\n",
       "        fig.ws.close();\n",
       "    }\n",
       "\n",
       "    this.ws.onmessage = this._make_on_message_function(this);\n",
       "\n",
       "    this.ondownload = ondownload;\n",
       "}\n",
       "\n",
       "mpl.figure.prototype._init_header = function() {\n",
       "    var titlebar = $(\n",
       "        '<div class=\"ui-dialog-titlebar ui-widget-header ui-corner-all ' +\n",
       "        'ui-helper-clearfix\"/>');\n",
       "    var titletext = $(\n",
       "        '<div class=\"ui-dialog-title\" style=\"width: 100%; ' +\n",
       "        'text-align: center; padding: 3px;\"/>');\n",
       "    titlebar.append(titletext)\n",
       "    this.root.append(titlebar);\n",
       "    this.header = titletext[0];\n",
       "}\n",
       "\n",
       "\n",
       "\n",
       "mpl.figure.prototype._canvas_extra_style = function(canvas_div) {\n",
       "\n",
       "}\n",
       "\n",
       "\n",
       "mpl.figure.prototype._root_extra_style = function(canvas_div) {\n",
       "\n",
       "}\n",
       "\n",
       "mpl.figure.prototype._init_canvas = function() {\n",
       "    var fig = this;\n",
       "\n",
       "    var canvas_div = $('<div/>');\n",
       "\n",
       "    canvas_div.attr('style', 'position: relative; clear: both; outline: 0');\n",
       "\n",
       "    function canvas_keyboard_event(event) {\n",
       "        return fig.key_event(event, event['data']);\n",
       "    }\n",
       "\n",
       "    canvas_div.keydown('key_press', canvas_keyboard_event);\n",
       "    canvas_div.keyup('key_release', canvas_keyboard_event);\n",
       "    this.canvas_div = canvas_div\n",
       "    this._canvas_extra_style(canvas_div)\n",
       "    this.root.append(canvas_div);\n",
       "\n",
       "    var canvas = $('<canvas/>');\n",
       "    canvas.addClass('mpl-canvas');\n",
       "    canvas.attr('style', \"left: 0; top: 0; z-index: 0; outline: 0\")\n",
       "\n",
       "    this.canvas = canvas[0];\n",
       "    this.context = canvas[0].getContext(\"2d\");\n",
       "\n",
       "    var backingStore = this.context.backingStorePixelRatio ||\n",
       "\tthis.context.webkitBackingStorePixelRatio ||\n",
       "\tthis.context.mozBackingStorePixelRatio ||\n",
       "\tthis.context.msBackingStorePixelRatio ||\n",
       "\tthis.context.oBackingStorePixelRatio ||\n",
       "\tthis.context.backingStorePixelRatio || 1;\n",
       "\n",
       "    mpl.ratio = (window.devicePixelRatio || 1) / backingStore;\n",
       "\n",
       "    var rubberband = $('<canvas/>');\n",
       "    rubberband.attr('style', \"position: absolute; left: 0; top: 0; z-index: 1;\")\n",
       "\n",
       "    var pass_mouse_events = true;\n",
       "\n",
       "    canvas_div.resizable({\n",
       "        start: function(event, ui) {\n",
       "            pass_mouse_events = false;\n",
       "        },\n",
       "        resize: function(event, ui) {\n",
       "            fig.request_resize(ui.size.width, ui.size.height);\n",
       "        },\n",
       "        stop: function(event, ui) {\n",
       "            pass_mouse_events = true;\n",
       "            fig.request_resize(ui.size.width, ui.size.height);\n",
       "        },\n",
       "    });\n",
       "\n",
       "    function mouse_event_fn(event) {\n",
       "        if (pass_mouse_events)\n",
       "            return fig.mouse_event(event, event['data']);\n",
       "    }\n",
       "\n",
       "    rubberband.mousedown('button_press', mouse_event_fn);\n",
       "    rubberband.mouseup('button_release', mouse_event_fn);\n",
       "    // Throttle sequential mouse events to 1 every 20ms.\n",
       "    rubberband.mousemove('motion_notify', mouse_event_fn);\n",
       "\n",
       "    rubberband.mouseenter('figure_enter', mouse_event_fn);\n",
       "    rubberband.mouseleave('figure_leave', mouse_event_fn);\n",
       "\n",
       "    canvas_div.on(\"wheel\", function (event) {\n",
       "        event = event.originalEvent;\n",
       "        event['data'] = 'scroll'\n",
       "        if (event.deltaY < 0) {\n",
       "            event.step = 1;\n",
       "        } else {\n",
       "            event.step = -1;\n",
       "        }\n",
       "        mouse_event_fn(event);\n",
       "    });\n",
       "\n",
       "    canvas_div.append(canvas);\n",
       "    canvas_div.append(rubberband);\n",
       "\n",
       "    this.rubberband = rubberband;\n",
       "    this.rubberband_canvas = rubberband[0];\n",
       "    this.rubberband_context = rubberband[0].getContext(\"2d\");\n",
       "    this.rubberband_context.strokeStyle = \"#000000\";\n",
       "\n",
       "    this._resize_canvas = function(width, height) {\n",
       "        // Keep the size of the canvas, canvas container, and rubber band\n",
       "        // canvas in synch.\n",
       "        canvas_div.css('width', width)\n",
       "        canvas_div.css('height', height)\n",
       "\n",
       "        canvas.attr('width', width * mpl.ratio);\n",
       "        canvas.attr('height', height * mpl.ratio);\n",
       "        canvas.attr('style', 'width: ' + width + 'px; height: ' + height + 'px;');\n",
       "\n",
       "        rubberband.attr('width', width);\n",
       "        rubberband.attr('height', height);\n",
       "    }\n",
       "\n",
       "    // Set the figure to an initial 600x600px, this will subsequently be updated\n",
       "    // upon first draw.\n",
       "    this._resize_canvas(600, 600);\n",
       "\n",
       "    // Disable right mouse context menu.\n",
       "    $(this.rubberband_canvas).bind(\"contextmenu\",function(e){\n",
       "        return false;\n",
       "    });\n",
       "\n",
       "    function set_focus () {\n",
       "        canvas.focus();\n",
       "        canvas_div.focus();\n",
       "    }\n",
       "\n",
       "    window.setTimeout(set_focus, 100);\n",
       "}\n",
       "\n",
       "mpl.figure.prototype._init_toolbar = function() {\n",
       "    var fig = this;\n",
       "\n",
       "    var nav_element = $('<div/>');\n",
       "    nav_element.attr('style', 'width: 100%');\n",
       "    this.root.append(nav_element);\n",
       "\n",
       "    // Define a callback function for later on.\n",
       "    function toolbar_event(event) {\n",
       "        return fig.toolbar_button_onclick(event['data']);\n",
       "    }\n",
       "    function toolbar_mouse_event(event) {\n",
       "        return fig.toolbar_button_onmouseover(event['data']);\n",
       "    }\n",
       "\n",
       "    for(var toolbar_ind in mpl.toolbar_items) {\n",
       "        var name = mpl.toolbar_items[toolbar_ind][0];\n",
       "        var tooltip = mpl.toolbar_items[toolbar_ind][1];\n",
       "        var image = mpl.toolbar_items[toolbar_ind][2];\n",
       "        var method_name = mpl.toolbar_items[toolbar_ind][3];\n",
       "\n",
       "        if (!name) {\n",
       "            // put a spacer in here.\n",
       "            continue;\n",
       "        }\n",
       "        var button = $('<button/>');\n",
       "        button.addClass('ui-button ui-widget ui-state-default ui-corner-all ' +\n",
       "                        'ui-button-icon-only');\n",
       "        button.attr('role', 'button');\n",
       "        button.attr('aria-disabled', 'false');\n",
       "        button.click(method_name, toolbar_event);\n",
       "        button.mouseover(tooltip, toolbar_mouse_event);\n",
       "\n",
       "        var icon_img = $('<span/>');\n",
       "        icon_img.addClass('ui-button-icon-primary ui-icon');\n",
       "        icon_img.addClass(image);\n",
       "        icon_img.addClass('ui-corner-all');\n",
       "\n",
       "        var tooltip_span = $('<span/>');\n",
       "        tooltip_span.addClass('ui-button-text');\n",
       "        tooltip_span.html(tooltip);\n",
       "\n",
       "        button.append(icon_img);\n",
       "        button.append(tooltip_span);\n",
       "\n",
       "        nav_element.append(button);\n",
       "    }\n",
       "\n",
       "    var fmt_picker_span = $('<span/>');\n",
       "\n",
       "    var fmt_picker = $('<select/>');\n",
       "    fmt_picker.addClass('mpl-toolbar-option ui-widget ui-widget-content');\n",
       "    fmt_picker_span.append(fmt_picker);\n",
       "    nav_element.append(fmt_picker_span);\n",
       "    this.format_dropdown = fmt_picker[0];\n",
       "\n",
       "    for (var ind in mpl.extensions) {\n",
       "        var fmt = mpl.extensions[ind];\n",
       "        var option = $(\n",
       "            '<option/>', {selected: fmt === mpl.default_extension}).html(fmt);\n",
       "        fmt_picker.append(option);\n",
       "    }\n",
       "\n",
       "    // Add hover states to the ui-buttons\n",
       "    $( \".ui-button\" ).hover(\n",
       "        function() { $(this).addClass(\"ui-state-hover\");},\n",
       "        function() { $(this).removeClass(\"ui-state-hover\");}\n",
       "    );\n",
       "\n",
       "    var status_bar = $('<span class=\"mpl-message\"/>');\n",
       "    nav_element.append(status_bar);\n",
       "    this.message = status_bar[0];\n",
       "}\n",
       "\n",
       "mpl.figure.prototype.request_resize = function(x_pixels, y_pixels) {\n",
       "    // Request matplotlib to resize the figure. Matplotlib will then trigger a resize in the client,\n",
       "    // which will in turn request a refresh of the image.\n",
       "    this.send_message('resize', {'width': x_pixels, 'height': y_pixels});\n",
       "}\n",
       "\n",
       "mpl.figure.prototype.send_message = function(type, properties) {\n",
       "    properties['type'] = type;\n",
       "    properties['figure_id'] = this.id;\n",
       "    this.ws.send(JSON.stringify(properties));\n",
       "}\n",
       "\n",
       "mpl.figure.prototype.send_draw_message = function() {\n",
       "    if (!this.waiting) {\n",
       "        this.waiting = true;\n",
       "        this.ws.send(JSON.stringify({type: \"draw\", figure_id: this.id}));\n",
       "    }\n",
       "}\n",
       "\n",
       "\n",
       "mpl.figure.prototype.handle_save = function(fig, msg) {\n",
       "    var format_dropdown = fig.format_dropdown;\n",
       "    var format = format_dropdown.options[format_dropdown.selectedIndex].value;\n",
       "    fig.ondownload(fig, format);\n",
       "}\n",
       "\n",
       "\n",
       "mpl.figure.prototype.handle_resize = function(fig, msg) {\n",
       "    var size = msg['size'];\n",
       "    if (size[0] != fig.canvas.width || size[1] != fig.canvas.height) {\n",
       "        fig._resize_canvas(size[0], size[1]);\n",
       "        fig.send_message(\"refresh\", {});\n",
       "    };\n",
       "}\n",
       "\n",
       "mpl.figure.prototype.handle_rubberband = function(fig, msg) {\n",
       "    var x0 = msg['x0'] / mpl.ratio;\n",
       "    var y0 = (fig.canvas.height - msg['y0']) / mpl.ratio;\n",
       "    var x1 = msg['x1'] / mpl.ratio;\n",
       "    var y1 = (fig.canvas.height - msg['y1']) / mpl.ratio;\n",
       "    x0 = Math.floor(x0) + 0.5;\n",
       "    y0 = Math.floor(y0) + 0.5;\n",
       "    x1 = Math.floor(x1) + 0.5;\n",
       "    y1 = Math.floor(y1) + 0.5;\n",
       "    var min_x = Math.min(x0, x1);\n",
       "    var min_y = Math.min(y0, y1);\n",
       "    var width = Math.abs(x1 - x0);\n",
       "    var height = Math.abs(y1 - y0);\n",
       "\n",
       "    fig.rubberband_context.clearRect(\n",
       "        0, 0, fig.canvas.width / mpl.ratio, fig.canvas.height / mpl.ratio);\n",
       "\n",
       "    fig.rubberband_context.strokeRect(min_x, min_y, width, height);\n",
       "}\n",
       "\n",
       "mpl.figure.prototype.handle_figure_label = function(fig, msg) {\n",
       "    // Updates the figure title.\n",
       "    fig.header.textContent = msg['label'];\n",
       "}\n",
       "\n",
       "mpl.figure.prototype.handle_cursor = function(fig, msg) {\n",
       "    var cursor = msg['cursor'];\n",
       "    switch(cursor)\n",
       "    {\n",
       "    case 0:\n",
       "        cursor = 'pointer';\n",
       "        break;\n",
       "    case 1:\n",
       "        cursor = 'default';\n",
       "        break;\n",
       "    case 2:\n",
       "        cursor = 'crosshair';\n",
       "        break;\n",
       "    case 3:\n",
       "        cursor = 'move';\n",
       "        break;\n",
       "    }\n",
       "    fig.rubberband_canvas.style.cursor = cursor;\n",
       "}\n",
       "\n",
       "mpl.figure.prototype.handle_message = function(fig, msg) {\n",
       "    fig.message.textContent = msg['message'];\n",
       "}\n",
       "\n",
       "mpl.figure.prototype.handle_draw = function(fig, msg) {\n",
       "    // Request the server to send over a new figure.\n",
       "    fig.send_draw_message();\n",
       "}\n",
       "\n",
       "mpl.figure.prototype.handle_image_mode = function(fig, msg) {\n",
       "    fig.image_mode = msg['mode'];\n",
       "}\n",
       "\n",
       "mpl.figure.prototype.updated_canvas_event = function() {\n",
       "    // Called whenever the canvas gets updated.\n",
       "    this.send_message(\"ack\", {});\n",
       "}\n",
       "\n",
       "// A function to construct a web socket function for onmessage handling.\n",
       "// Called in the figure constructor.\n",
       "mpl.figure.prototype._make_on_message_function = function(fig) {\n",
       "    return function socket_on_message(evt) {\n",
       "        if (evt.data instanceof Blob) {\n",
       "            /* FIXME: We get \"Resource interpreted as Image but\n",
       "             * transferred with MIME type text/plain:\" errors on\n",
       "             * Chrome.  But how to set the MIME type?  It doesn't seem\n",
       "             * to be part of the websocket stream */\n",
       "            evt.data.type = \"image/png\";\n",
       "\n",
       "            /* Free the memory for the previous frames */\n",
       "            if (fig.imageObj.src) {\n",
       "                (window.URL || window.webkitURL).revokeObjectURL(\n",
       "                    fig.imageObj.src);\n",
       "            }\n",
       "\n",
       "            fig.imageObj.src = (window.URL || window.webkitURL).createObjectURL(\n",
       "                evt.data);\n",
       "            fig.updated_canvas_event();\n",
       "            fig.waiting = false;\n",
       "            return;\n",
       "        }\n",
       "        else if (typeof evt.data === 'string' && evt.data.slice(0, 21) == \"data:image/png;base64\") {\n",
       "            fig.imageObj.src = evt.data;\n",
       "            fig.updated_canvas_event();\n",
       "            fig.waiting = false;\n",
       "            return;\n",
       "        }\n",
       "\n",
       "        var msg = JSON.parse(evt.data);\n",
       "        var msg_type = msg['type'];\n",
       "\n",
       "        // Call the  \"handle_{type}\" callback, which takes\n",
       "        // the figure and JSON message as its only arguments.\n",
       "        try {\n",
       "            var callback = fig[\"handle_\" + msg_type];\n",
       "        } catch (e) {\n",
       "            console.log(\"No handler for the '\" + msg_type + \"' message type: \", msg);\n",
       "            return;\n",
       "        }\n",
       "\n",
       "        if (callback) {\n",
       "            try {\n",
       "                // console.log(\"Handling '\" + msg_type + \"' message: \", msg);\n",
       "                callback(fig, msg);\n",
       "            } catch (e) {\n",
       "                console.log(\"Exception inside the 'handler_\" + msg_type + \"' callback:\", e, e.stack, msg);\n",
       "            }\n",
       "        }\n",
       "    };\n",
       "}\n",
       "\n",
       "// from http://stackoverflow.com/questions/1114465/getting-mouse-location-in-canvas\n",
       "mpl.findpos = function(e) {\n",
       "    //this section is from http://www.quirksmode.org/js/events_properties.html\n",
       "    var targ;\n",
       "    if (!e)\n",
       "        e = window.event;\n",
       "    if (e.target)\n",
       "        targ = e.target;\n",
       "    else if (e.srcElement)\n",
       "        targ = e.srcElement;\n",
       "    if (targ.nodeType == 3) // defeat Safari bug\n",
       "        targ = targ.parentNode;\n",
       "\n",
       "    // jQuery normalizes the pageX and pageY\n",
       "    // pageX,Y are the mouse positions relative to the document\n",
       "    // offset() returns the position of the element relative to the document\n",
       "    var x = e.pageX - $(targ).offset().left;\n",
       "    var y = e.pageY - $(targ).offset().top;\n",
       "\n",
       "    return {\"x\": x, \"y\": y};\n",
       "};\n",
       "\n",
       "/*\n",
       " * return a copy of an object with only non-object keys\n",
       " * we need this to avoid circular references\n",
       " * http://stackoverflow.com/a/24161582/3208463\n",
       " */\n",
       "function simpleKeys (original) {\n",
       "  return Object.keys(original).reduce(function (obj, key) {\n",
       "    if (typeof original[key] !== 'object')\n",
       "        obj[key] = original[key]\n",
       "    return obj;\n",
       "  }, {});\n",
       "}\n",
       "\n",
       "mpl.figure.prototype.mouse_event = function(event, name) {\n",
       "    var canvas_pos = mpl.findpos(event)\n",
       "\n",
       "    if (name === 'button_press')\n",
       "    {\n",
       "        this.canvas.focus();\n",
       "        this.canvas_div.focus();\n",
       "    }\n",
       "\n",
       "    var x = canvas_pos.x * mpl.ratio;\n",
       "    var y = canvas_pos.y * mpl.ratio;\n",
       "\n",
       "    this.send_message(name, {x: x, y: y, button: event.button,\n",
       "                             step: event.step,\n",
       "                             guiEvent: simpleKeys(event)});\n",
       "\n",
       "    /* This prevents the web browser from automatically changing to\n",
       "     * the text insertion cursor when the button is pressed.  We want\n",
       "     * to control all of the cursor setting manually through the\n",
       "     * 'cursor' event from matplotlib */\n",
       "    event.preventDefault();\n",
       "    return false;\n",
       "}\n",
       "\n",
       "mpl.figure.prototype._key_event_extra = function(event, name) {\n",
       "    // Handle any extra behaviour associated with a key event\n",
       "}\n",
       "\n",
       "mpl.figure.prototype.key_event = function(event, name) {\n",
       "\n",
       "    // Prevent repeat events\n",
       "    if (name == 'key_press')\n",
       "    {\n",
       "        if (event.which === this._key)\n",
       "            return;\n",
       "        else\n",
       "            this._key = event.which;\n",
       "    }\n",
       "    if (name == 'key_release')\n",
       "        this._key = null;\n",
       "\n",
       "    var value = '';\n",
       "    if (event.ctrlKey && event.which != 17)\n",
       "        value += \"ctrl+\";\n",
       "    if (event.altKey && event.which != 18)\n",
       "        value += \"alt+\";\n",
       "    if (event.shiftKey && event.which != 16)\n",
       "        value += \"shift+\";\n",
       "\n",
       "    value += 'k';\n",
       "    value += event.which.toString();\n",
       "\n",
       "    this._key_event_extra(event, name);\n",
       "\n",
       "    this.send_message(name, {key: value,\n",
       "                             guiEvent: simpleKeys(event)});\n",
       "    return false;\n",
       "}\n",
       "\n",
       "mpl.figure.prototype.toolbar_button_onclick = function(name) {\n",
       "    if (name == 'download') {\n",
       "        this.handle_save(this, null);\n",
       "    } else {\n",
       "        this.send_message(\"toolbar_button\", {name: name});\n",
       "    }\n",
       "};\n",
       "\n",
       "mpl.figure.prototype.toolbar_button_onmouseover = function(tooltip) {\n",
       "    this.message.textContent = tooltip;\n",
       "};\n",
       "mpl.toolbar_items = [[\"Home\", \"Reset original view\", \"fa fa-home icon-home\", \"home\"], [\"Back\", \"Back to previous view\", \"fa fa-arrow-left icon-arrow-left\", \"back\"], [\"Forward\", \"Forward to next view\", \"fa fa-arrow-right icon-arrow-right\", \"forward\"], [\"\", \"\", \"\", \"\"], [\"Pan\", \"Pan axes with left mouse, zoom with right\", \"fa fa-arrows icon-move\", \"pan\"], [\"Zoom\", \"Zoom to rectangle\", \"fa fa-square-o icon-check-empty\", \"zoom\"], [\"\", \"\", \"\", \"\"], [\"Download\", \"Download plot\", \"fa fa-floppy-o icon-save\", \"download\"]];\n",
       "\n",
       "mpl.extensions = [\"eps\", \"jpeg\", \"pdf\", \"png\", \"ps\", \"raw\", \"svg\", \"tif\"];\n",
       "\n",
       "mpl.default_extension = \"png\";var comm_websocket_adapter = function(comm) {\n",
       "    // Create a \"websocket\"-like object which calls the given IPython comm\n",
       "    // object with the appropriate methods. Currently this is a non binary\n",
       "    // socket, so there is still some room for performance tuning.\n",
       "    var ws = {};\n",
       "\n",
       "    ws.close = function() {\n",
       "        comm.close()\n",
       "    };\n",
       "    ws.send = function(m) {\n",
       "        //console.log('sending', m);\n",
       "        comm.send(m);\n",
       "    };\n",
       "    // Register the callback with on_msg.\n",
       "    comm.on_msg(function(msg) {\n",
       "        //console.log('receiving', msg['content']['data'], msg);\n",
       "        // Pass the mpl event to the overridden (by mpl) onmessage function.\n",
       "        ws.onmessage(msg['content']['data'])\n",
       "    });\n",
       "    return ws;\n",
       "}\n",
       "\n",
       "mpl.mpl_figure_comm = function(comm, msg) {\n",
       "    // This is the function which gets called when the mpl process\n",
       "    // starts-up an IPython Comm through the \"matplotlib\" channel.\n",
       "\n",
       "    var id = msg.content.data.id;\n",
       "    // Get hold of the div created by the display call when the Comm\n",
       "    // socket was opened in Python.\n",
       "    var element = $(\"#\" + id);\n",
       "    var ws_proxy = comm_websocket_adapter(comm)\n",
       "\n",
       "    function ondownload(figure, format) {\n",
       "        window.open(figure.imageObj.src);\n",
       "    }\n",
       "\n",
       "    var fig = new mpl.figure(id, ws_proxy,\n",
       "                           ondownload,\n",
       "                           element.get(0));\n",
       "\n",
       "    // Call onopen now - mpl needs it, as it is assuming we've passed it a real\n",
       "    // web socket which is closed, not our websocket->open comm proxy.\n",
       "    ws_proxy.onopen();\n",
       "\n",
       "    fig.parent_element = element.get(0);\n",
       "    fig.cell_info = mpl.find_output_cell(\"<div id='\" + id + \"'></div>\");\n",
       "    if (!fig.cell_info) {\n",
       "        console.error(\"Failed to find cell for figure\", id, fig);\n",
       "        return;\n",
       "    }\n",
       "\n",
       "    var output_index = fig.cell_info[2]\n",
       "    var cell = fig.cell_info[0];\n",
       "\n",
       "};\n",
       "\n",
       "mpl.figure.prototype.handle_close = function(fig, msg) {\n",
       "    var width = fig.canvas.width/mpl.ratio\n",
       "    fig.root.unbind('remove')\n",
       "\n",
       "    // Update the output cell to use the data from the current canvas.\n",
       "    fig.push_to_output();\n",
       "    var dataURL = fig.canvas.toDataURL();\n",
       "    // Re-enable the keyboard manager in IPython - without this line, in FF,\n",
       "    // the notebook keyboard shortcuts fail.\n",
       "    IPython.keyboard_manager.enable()\n",
       "    $(fig.parent_element).html('<img src=\"' + dataURL + '\" width=\"' + width + '\">');\n",
       "    fig.close_ws(fig, msg);\n",
       "}\n",
       "\n",
       "mpl.figure.prototype.close_ws = function(fig, msg){\n",
       "    fig.send_message('closing', msg);\n",
       "    // fig.ws.close()\n",
       "}\n",
       "\n",
       "mpl.figure.prototype.push_to_output = function(remove_interactive) {\n",
       "    // Turn the data on the canvas into data in the output cell.\n",
       "    var width = this.canvas.width/mpl.ratio\n",
       "    var dataURL = this.canvas.toDataURL();\n",
       "    this.cell_info[1]['text/html'] = '<img src=\"' + dataURL + '\" width=\"' + width + '\">';\n",
       "}\n",
       "\n",
       "mpl.figure.prototype.updated_canvas_event = function() {\n",
       "    // Tell IPython that the notebook contents must change.\n",
       "    IPython.notebook.set_dirty(true);\n",
       "    this.send_message(\"ack\", {});\n",
       "    var fig = this;\n",
       "    // Wait a second, then push the new image to the DOM so\n",
       "    // that it is saved nicely (might be nice to debounce this).\n",
       "    setTimeout(function () { fig.push_to_output() }, 1000);\n",
       "}\n",
       "\n",
       "mpl.figure.prototype._init_toolbar = function() {\n",
       "    var fig = this;\n",
       "\n",
       "    var nav_element = $('<div/>');\n",
       "    nav_element.attr('style', 'width: 100%');\n",
       "    this.root.append(nav_element);\n",
       "\n",
       "    // Define a callback function for later on.\n",
       "    function toolbar_event(event) {\n",
       "        return fig.toolbar_button_onclick(event['data']);\n",
       "    }\n",
       "    function toolbar_mouse_event(event) {\n",
       "        return fig.toolbar_button_onmouseover(event['data']);\n",
       "    }\n",
       "\n",
       "    for(var toolbar_ind in mpl.toolbar_items){\n",
       "        var name = mpl.toolbar_items[toolbar_ind][0];\n",
       "        var tooltip = mpl.toolbar_items[toolbar_ind][1];\n",
       "        var image = mpl.toolbar_items[toolbar_ind][2];\n",
       "        var method_name = mpl.toolbar_items[toolbar_ind][3];\n",
       "\n",
       "        if (!name) { continue; };\n",
       "\n",
       "        var button = $('<button class=\"btn btn-default\" href=\"#\" title=\"' + name + '\"><i class=\"fa ' + image + ' fa-lg\"></i></button>');\n",
       "        button.click(method_name, toolbar_event);\n",
       "        button.mouseover(tooltip, toolbar_mouse_event);\n",
       "        nav_element.append(button);\n",
       "    }\n",
       "\n",
       "    // Add the status bar.\n",
       "    var status_bar = $('<span class=\"mpl-message\" style=\"text-align:right; float: right;\"/>');\n",
       "    nav_element.append(status_bar);\n",
       "    this.message = status_bar[0];\n",
       "\n",
       "    // Add the close button to the window.\n",
       "    var buttongrp = $('<div class=\"btn-group inline pull-right\"></div>');\n",
       "    var button = $('<button class=\"btn btn-mini btn-primary\" href=\"#\" title=\"Stop Interaction\"><i class=\"fa fa-power-off icon-remove icon-large\"></i></button>');\n",
       "    button.click(function (evt) { fig.handle_close(fig, {}); } );\n",
       "    button.mouseover('Stop Interaction', toolbar_mouse_event);\n",
       "    buttongrp.append(button);\n",
       "    var titlebar = this.root.find($('.ui-dialog-titlebar'));\n",
       "    titlebar.prepend(buttongrp);\n",
       "}\n",
       "\n",
       "mpl.figure.prototype._root_extra_style = function(el){\n",
       "    var fig = this\n",
       "    el.on(\"remove\", function(){\n",
       "\tfig.close_ws(fig, {});\n",
       "    });\n",
       "}\n",
       "\n",
       "mpl.figure.prototype._canvas_extra_style = function(el){\n",
       "    // this is important to make the div 'focusable\n",
       "    el.attr('tabindex', 0)\n",
       "    // reach out to IPython and tell the keyboard manager to turn it's self\n",
       "    // off when our div gets focus\n",
       "\n",
       "    // location in version 3\n",
       "    if (IPython.notebook.keyboard_manager) {\n",
       "        IPython.notebook.keyboard_manager.register_events(el);\n",
       "    }\n",
       "    else {\n",
       "        // location in version 2\n",
       "        IPython.keyboard_manager.register_events(el);\n",
       "    }\n",
       "\n",
       "}\n",
       "\n",
       "mpl.figure.prototype._key_event_extra = function(event, name) {\n",
       "    var manager = IPython.notebook.keyboard_manager;\n",
       "    if (!manager)\n",
       "        manager = IPython.keyboard_manager;\n",
       "\n",
       "    // Check for shift+enter\n",
       "    if (event.shiftKey && event.which == 13) {\n",
       "        this.canvas_div.blur();\n",
       "        // select the cell after this one\n",
       "        var index = IPython.notebook.find_cell_index(this.cell_info[0]);\n",
       "        IPython.notebook.select(index + 1);\n",
       "    }\n",
       "}\n",
       "\n",
       "mpl.figure.prototype.handle_save = function(fig, msg) {\n",
       "    fig.ondownload(fig, null);\n",
       "}\n",
       "\n",
       "\n",
       "mpl.find_output_cell = function(html_output) {\n",
       "    // Return the cell and output element which can be found *uniquely* in the notebook.\n",
       "    // Note - this is a bit hacky, but it is done because the \"notebook_saving.Notebook\"\n",
       "    // IPython event is triggered only after the cells have been serialised, which for\n",
       "    // our purposes (turning an active figure into a static one), is too late.\n",
       "    var cells = IPython.notebook.get_cells();\n",
       "    var ncells = cells.length;\n",
       "    for (var i=0; i<ncells; i++) {\n",
       "        var cell = cells[i];\n",
       "        if (cell.cell_type === 'code'){\n",
       "            for (var j=0; j<cell.output_area.outputs.length; j++) {\n",
       "                var data = cell.output_area.outputs[j];\n",
       "                if (data.data) {\n",
       "                    // IPython >= 3 moved mimebundle to data attribute of output\n",
       "                    data = data.data;\n",
       "                }\n",
       "                if (data['text/html'] == html_output) {\n",
       "                    return [cell, data, j];\n",
       "                }\n",
       "            }\n",
       "        }\n",
       "    }\n",
       "}\n",
       "\n",
       "// Register the function which deals with the matplotlib target/channel.\n",
       "// The kernel may be null if the page has been refreshed.\n",
       "if (IPython.notebook.kernel != null) {\n",
       "    IPython.notebook.kernel.comm_manager.register_target('matplotlib', mpl.mpl_figure_comm);\n",
       "}\n"
      ],
      "text/plain": [
       "<IPython.core.display.Javascript object>"
      ]
     },
     "metadata": {
      "tags": []
     },
     "output_type": "display_data"
    },
    {
     "data": {
      "text/html": [
       "<div id='9a195031-5335-4fed-8161-b3d07f02fd99'></div>"
      ],
      "text/plain": [
       "<IPython.core.display.HTML object>"
      ]
     },
     "metadata": {
      "tags": []
     },
     "output_type": "display_data"
    },
    {
     "data": {
      "application/javascript": [
       "/* Put everything inside the global mpl namespace */\n",
       "window.mpl = {};\n",
       "\n",
       "\n",
       "mpl.get_websocket_type = function() {\n",
       "    if (typeof(WebSocket) !== 'undefined') {\n",
       "        return WebSocket;\n",
       "    } else if (typeof(MozWebSocket) !== 'undefined') {\n",
       "        return MozWebSocket;\n",
       "    } else {\n",
       "        alert('Your browser does not have WebSocket support. ' +\n",
       "              'Please try Chrome, Safari or Firefox ≥ 6. ' +\n",
       "              'Firefox 4 and 5 are also supported but you ' +\n",
       "              'have to enable WebSockets in about:config.');\n",
       "    };\n",
       "}\n",
       "\n",
       "mpl.figure = function(figure_id, websocket, ondownload, parent_element) {\n",
       "    this.id = figure_id;\n",
       "\n",
       "    this.ws = websocket;\n",
       "\n",
       "    this.supports_binary = (this.ws.binaryType != undefined);\n",
       "\n",
       "    if (!this.supports_binary) {\n",
       "        var warnings = document.getElementById(\"mpl-warnings\");\n",
       "        if (warnings) {\n",
       "            warnings.style.display = 'block';\n",
       "            warnings.textContent = (\n",
       "                \"This browser does not support binary websocket messages. \" +\n",
       "                    \"Performance may be slow.\");\n",
       "        }\n",
       "    }\n",
       "\n",
       "    this.imageObj = new Image();\n",
       "\n",
       "    this.context = undefined;\n",
       "    this.message = undefined;\n",
       "    this.canvas = undefined;\n",
       "    this.rubberband_canvas = undefined;\n",
       "    this.rubberband_context = undefined;\n",
       "    this.format_dropdown = undefined;\n",
       "\n",
       "    this.image_mode = 'full';\n",
       "\n",
       "    this.root = $('<div/>');\n",
       "    this._root_extra_style(this.root)\n",
       "    this.root.attr('style', 'display: inline-block');\n",
       "\n",
       "    $(parent_element).append(this.root);\n",
       "\n",
       "    this._init_header(this);\n",
       "    this._init_canvas(this);\n",
       "    this._init_toolbar(this);\n",
       "\n",
       "    var fig = this;\n",
       "\n",
       "    this.waiting = false;\n",
       "\n",
       "    this.ws.onopen =  function () {\n",
       "            fig.send_message(\"supports_binary\", {value: fig.supports_binary});\n",
       "            fig.send_message(\"send_image_mode\", {});\n",
       "            if (mpl.ratio != 1) {\n",
       "                fig.send_message(\"set_dpi_ratio\", {'dpi_ratio': mpl.ratio});\n",
       "            }\n",
       "            fig.send_message(\"refresh\", {});\n",
       "        }\n",
       "\n",
       "    this.imageObj.onload = function() {\n",
       "            if (fig.image_mode == 'full') {\n",
       "                // Full images could contain transparency (where diff images\n",
       "                // almost always do), so we need to clear the canvas so that\n",
       "                // there is no ghosting.\n",
       "                fig.context.clearRect(0, 0, fig.canvas.width, fig.canvas.height);\n",
       "            }\n",
       "            fig.context.drawImage(fig.imageObj, 0, 0);\n",
       "        };\n",
       "\n",
       "    this.imageObj.onunload = function() {\n",
       "        fig.ws.close();\n",
       "    }\n",
       "\n",
       "    this.ws.onmessage = this._make_on_message_function(this);\n",
       "\n",
       "    this.ondownload = ondownload;\n",
       "}\n",
       "\n",
       "mpl.figure.prototype._init_header = function() {\n",
       "    var titlebar = $(\n",
       "        '<div class=\"ui-dialog-titlebar ui-widget-header ui-corner-all ' +\n",
       "        'ui-helper-clearfix\"/>');\n",
       "    var titletext = $(\n",
       "        '<div class=\"ui-dialog-title\" style=\"width: 100%; ' +\n",
       "        'text-align: center; padding: 3px;\"/>');\n",
       "    titlebar.append(titletext)\n",
       "    this.root.append(titlebar);\n",
       "    this.header = titletext[0];\n",
       "}\n",
       "\n",
       "\n",
       "\n",
       "mpl.figure.prototype._canvas_extra_style = function(canvas_div) {\n",
       "\n",
       "}\n",
       "\n",
       "\n",
       "mpl.figure.prototype._root_extra_style = function(canvas_div) {\n",
       "\n",
       "}\n",
       "\n",
       "mpl.figure.prototype._init_canvas = function() {\n",
       "    var fig = this;\n",
       "\n",
       "    var canvas_div = $('<div/>');\n",
       "\n",
       "    canvas_div.attr('style', 'position: relative; clear: both; outline: 0');\n",
       "\n",
       "    function canvas_keyboard_event(event) {\n",
       "        return fig.key_event(event, event['data']);\n",
       "    }\n",
       "\n",
       "    canvas_div.keydown('key_press', canvas_keyboard_event);\n",
       "    canvas_div.keyup('key_release', canvas_keyboard_event);\n",
       "    this.canvas_div = canvas_div\n",
       "    this._canvas_extra_style(canvas_div)\n",
       "    this.root.append(canvas_div);\n",
       "\n",
       "    var canvas = $('<canvas/>');\n",
       "    canvas.addClass('mpl-canvas');\n",
       "    canvas.attr('style', \"left: 0; top: 0; z-index: 0; outline: 0\")\n",
       "\n",
       "    this.canvas = canvas[0];\n",
       "    this.context = canvas[0].getContext(\"2d\");\n",
       "\n",
       "    var backingStore = this.context.backingStorePixelRatio ||\n",
       "\tthis.context.webkitBackingStorePixelRatio ||\n",
       "\tthis.context.mozBackingStorePixelRatio ||\n",
       "\tthis.context.msBackingStorePixelRatio ||\n",
       "\tthis.context.oBackingStorePixelRatio ||\n",
       "\tthis.context.backingStorePixelRatio || 1;\n",
       "\n",
       "    mpl.ratio = (window.devicePixelRatio || 1) / backingStore;\n",
       "\n",
       "    var rubberband = $('<canvas/>');\n",
       "    rubberband.attr('style', \"position: absolute; left: 0; top: 0; z-index: 1;\")\n",
       "\n",
       "    var pass_mouse_events = true;\n",
       "\n",
       "    canvas_div.resizable({\n",
       "        start: function(event, ui) {\n",
       "            pass_mouse_events = false;\n",
       "        },\n",
       "        resize: function(event, ui) {\n",
       "            fig.request_resize(ui.size.width, ui.size.height);\n",
       "        },\n",
       "        stop: function(event, ui) {\n",
       "            pass_mouse_events = true;\n",
       "            fig.request_resize(ui.size.width, ui.size.height);\n",
       "        },\n",
       "    });\n",
       "\n",
       "    function mouse_event_fn(event) {\n",
       "        if (pass_mouse_events)\n",
       "            return fig.mouse_event(event, event['data']);\n",
       "    }\n",
       "\n",
       "    rubberband.mousedown('button_press', mouse_event_fn);\n",
       "    rubberband.mouseup('button_release', mouse_event_fn);\n",
       "    // Throttle sequential mouse events to 1 every 20ms.\n",
       "    rubberband.mousemove('motion_notify', mouse_event_fn);\n",
       "\n",
       "    rubberband.mouseenter('figure_enter', mouse_event_fn);\n",
       "    rubberband.mouseleave('figure_leave', mouse_event_fn);\n",
       "\n",
       "    canvas_div.on(\"wheel\", function (event) {\n",
       "        event = event.originalEvent;\n",
       "        event['data'] = 'scroll'\n",
       "        if (event.deltaY < 0) {\n",
       "            event.step = 1;\n",
       "        } else {\n",
       "            event.step = -1;\n",
       "        }\n",
       "        mouse_event_fn(event);\n",
       "    });\n",
       "\n",
       "    canvas_div.append(canvas);\n",
       "    canvas_div.append(rubberband);\n",
       "\n",
       "    this.rubberband = rubberband;\n",
       "    this.rubberband_canvas = rubberband[0];\n",
       "    this.rubberband_context = rubberband[0].getContext(\"2d\");\n",
       "    this.rubberband_context.strokeStyle = \"#000000\";\n",
       "\n",
       "    this._resize_canvas = function(width, height) {\n",
       "        // Keep the size of the canvas, canvas container, and rubber band\n",
       "        // canvas in synch.\n",
       "        canvas_div.css('width', width)\n",
       "        canvas_div.css('height', height)\n",
       "\n",
       "        canvas.attr('width', width * mpl.ratio);\n",
       "        canvas.attr('height', height * mpl.ratio);\n",
       "        canvas.attr('style', 'width: ' + width + 'px; height: ' + height + 'px;');\n",
       "\n",
       "        rubberband.attr('width', width);\n",
       "        rubberband.attr('height', height);\n",
       "    }\n",
       "\n",
       "    // Set the figure to an initial 600x600px, this will subsequently be updated\n",
       "    // upon first draw.\n",
       "    this._resize_canvas(600, 600);\n",
       "\n",
       "    // Disable right mouse context menu.\n",
       "    $(this.rubberband_canvas).bind(\"contextmenu\",function(e){\n",
       "        return false;\n",
       "    });\n",
       "\n",
       "    function set_focus () {\n",
       "        canvas.focus();\n",
       "        canvas_div.focus();\n",
       "    }\n",
       "\n",
       "    window.setTimeout(set_focus, 100);\n",
       "}\n",
       "\n",
       "mpl.figure.prototype._init_toolbar = function() {\n",
       "    var fig = this;\n",
       "\n",
       "    var nav_element = $('<div/>');\n",
       "    nav_element.attr('style', 'width: 100%');\n",
       "    this.root.append(nav_element);\n",
       "\n",
       "    // Define a callback function for later on.\n",
       "    function toolbar_event(event) {\n",
       "        return fig.toolbar_button_onclick(event['data']);\n",
       "    }\n",
       "    function toolbar_mouse_event(event) {\n",
       "        return fig.toolbar_button_onmouseover(event['data']);\n",
       "    }\n",
       "\n",
       "    for(var toolbar_ind in mpl.toolbar_items) {\n",
       "        var name = mpl.toolbar_items[toolbar_ind][0];\n",
       "        var tooltip = mpl.toolbar_items[toolbar_ind][1];\n",
       "        var image = mpl.toolbar_items[toolbar_ind][2];\n",
       "        var method_name = mpl.toolbar_items[toolbar_ind][3];\n",
       "\n",
       "        if (!name) {\n",
       "            // put a spacer in here.\n",
       "            continue;\n",
       "        }\n",
       "        var button = $('<button/>');\n",
       "        button.addClass('ui-button ui-widget ui-state-default ui-corner-all ' +\n",
       "                        'ui-button-icon-only');\n",
       "        button.attr('role', 'button');\n",
       "        button.attr('aria-disabled', 'false');\n",
       "        button.click(method_name, toolbar_event);\n",
       "        button.mouseover(tooltip, toolbar_mouse_event);\n",
       "\n",
       "        var icon_img = $('<span/>');\n",
       "        icon_img.addClass('ui-button-icon-primary ui-icon');\n",
       "        icon_img.addClass(image);\n",
       "        icon_img.addClass('ui-corner-all');\n",
       "\n",
       "        var tooltip_span = $('<span/>');\n",
       "        tooltip_span.addClass('ui-button-text');\n",
       "        tooltip_span.html(tooltip);\n",
       "\n",
       "        button.append(icon_img);\n",
       "        button.append(tooltip_span);\n",
       "\n",
       "        nav_element.append(button);\n",
       "    }\n",
       "\n",
       "    var fmt_picker_span = $('<span/>');\n",
       "\n",
       "    var fmt_picker = $('<select/>');\n",
       "    fmt_picker.addClass('mpl-toolbar-option ui-widget ui-widget-content');\n",
       "    fmt_picker_span.append(fmt_picker);\n",
       "    nav_element.append(fmt_picker_span);\n",
       "    this.format_dropdown = fmt_picker[0];\n",
       "\n",
       "    for (var ind in mpl.extensions) {\n",
       "        var fmt = mpl.extensions[ind];\n",
       "        var option = $(\n",
       "            '<option/>', {selected: fmt === mpl.default_extension}).html(fmt);\n",
       "        fmt_picker.append(option);\n",
       "    }\n",
       "\n",
       "    // Add hover states to the ui-buttons\n",
       "    $( \".ui-button\" ).hover(\n",
       "        function() { $(this).addClass(\"ui-state-hover\");},\n",
       "        function() { $(this).removeClass(\"ui-state-hover\");}\n",
       "    );\n",
       "\n",
       "    var status_bar = $('<span class=\"mpl-message\"/>');\n",
       "    nav_element.append(status_bar);\n",
       "    this.message = status_bar[0];\n",
       "}\n",
       "\n",
       "mpl.figure.prototype.request_resize = function(x_pixels, y_pixels) {\n",
       "    // Request matplotlib to resize the figure. Matplotlib will then trigger a resize in the client,\n",
       "    // which will in turn request a refresh of the image.\n",
       "    this.send_message('resize', {'width': x_pixels, 'height': y_pixels});\n",
       "}\n",
       "\n",
       "mpl.figure.prototype.send_message = function(type, properties) {\n",
       "    properties['type'] = type;\n",
       "    properties['figure_id'] = this.id;\n",
       "    this.ws.send(JSON.stringify(properties));\n",
       "}\n",
       "\n",
       "mpl.figure.prototype.send_draw_message = function() {\n",
       "    if (!this.waiting) {\n",
       "        this.waiting = true;\n",
       "        this.ws.send(JSON.stringify({type: \"draw\", figure_id: this.id}));\n",
       "    }\n",
       "}\n",
       "\n",
       "\n",
       "mpl.figure.prototype.handle_save = function(fig, msg) {\n",
       "    var format_dropdown = fig.format_dropdown;\n",
       "    var format = format_dropdown.options[format_dropdown.selectedIndex].value;\n",
       "    fig.ondownload(fig, format);\n",
       "}\n",
       "\n",
       "\n",
       "mpl.figure.prototype.handle_resize = function(fig, msg) {\n",
       "    var size = msg['size'];\n",
       "    if (size[0] != fig.canvas.width || size[1] != fig.canvas.height) {\n",
       "        fig._resize_canvas(size[0], size[1]);\n",
       "        fig.send_message(\"refresh\", {});\n",
       "    };\n",
       "}\n",
       "\n",
       "mpl.figure.prototype.handle_rubberband = function(fig, msg) {\n",
       "    var x0 = msg['x0'] / mpl.ratio;\n",
       "    var y0 = (fig.canvas.height - msg['y0']) / mpl.ratio;\n",
       "    var x1 = msg['x1'] / mpl.ratio;\n",
       "    var y1 = (fig.canvas.height - msg['y1']) / mpl.ratio;\n",
       "    x0 = Math.floor(x0) + 0.5;\n",
       "    y0 = Math.floor(y0) + 0.5;\n",
       "    x1 = Math.floor(x1) + 0.5;\n",
       "    y1 = Math.floor(y1) + 0.5;\n",
       "    var min_x = Math.min(x0, x1);\n",
       "    var min_y = Math.min(y0, y1);\n",
       "    var width = Math.abs(x1 - x0);\n",
       "    var height = Math.abs(y1 - y0);\n",
       "\n",
       "    fig.rubberband_context.clearRect(\n",
       "        0, 0, fig.canvas.width / mpl.ratio, fig.canvas.height / mpl.ratio);\n",
       "\n",
       "    fig.rubberband_context.strokeRect(min_x, min_y, width, height);\n",
       "}\n",
       "\n",
       "mpl.figure.prototype.handle_figure_label = function(fig, msg) {\n",
       "    // Updates the figure title.\n",
       "    fig.header.textContent = msg['label'];\n",
       "}\n",
       "\n",
       "mpl.figure.prototype.handle_cursor = function(fig, msg) {\n",
       "    var cursor = msg['cursor'];\n",
       "    switch(cursor)\n",
       "    {\n",
       "    case 0:\n",
       "        cursor = 'pointer';\n",
       "        break;\n",
       "    case 1:\n",
       "        cursor = 'default';\n",
       "        break;\n",
       "    case 2:\n",
       "        cursor = 'crosshair';\n",
       "        break;\n",
       "    case 3:\n",
       "        cursor = 'move';\n",
       "        break;\n",
       "    }\n",
       "    fig.rubberband_canvas.style.cursor = cursor;\n",
       "}\n",
       "\n",
       "mpl.figure.prototype.handle_message = function(fig, msg) {\n",
       "    fig.message.textContent = msg['message'];\n",
       "}\n",
       "\n",
       "mpl.figure.prototype.handle_draw = function(fig, msg) {\n",
       "    // Request the server to send over a new figure.\n",
       "    fig.send_draw_message();\n",
       "}\n",
       "\n",
       "mpl.figure.prototype.handle_image_mode = function(fig, msg) {\n",
       "    fig.image_mode = msg['mode'];\n",
       "}\n",
       "\n",
       "mpl.figure.prototype.updated_canvas_event = function() {\n",
       "    // Called whenever the canvas gets updated.\n",
       "    this.send_message(\"ack\", {});\n",
       "}\n",
       "\n",
       "// A function to construct a web socket function for onmessage handling.\n",
       "// Called in the figure constructor.\n",
       "mpl.figure.prototype._make_on_message_function = function(fig) {\n",
       "    return function socket_on_message(evt) {\n",
       "        if (evt.data instanceof Blob) {\n",
       "            /* FIXME: We get \"Resource interpreted as Image but\n",
       "             * transferred with MIME type text/plain:\" errors on\n",
       "             * Chrome.  But how to set the MIME type?  It doesn't seem\n",
       "             * to be part of the websocket stream */\n",
       "            evt.data.type = \"image/png\";\n",
       "\n",
       "            /* Free the memory for the previous frames */\n",
       "            if (fig.imageObj.src) {\n",
       "                (window.URL || window.webkitURL).revokeObjectURL(\n",
       "                    fig.imageObj.src);\n",
       "            }\n",
       "\n",
       "            fig.imageObj.src = (window.URL || window.webkitURL).createObjectURL(\n",
       "                evt.data);\n",
       "            fig.updated_canvas_event();\n",
       "            fig.waiting = false;\n",
       "            return;\n",
       "        }\n",
       "        else if (typeof evt.data === 'string' && evt.data.slice(0, 21) == \"data:image/png;base64\") {\n",
       "            fig.imageObj.src = evt.data;\n",
       "            fig.updated_canvas_event();\n",
       "            fig.waiting = false;\n",
       "            return;\n",
       "        }\n",
       "\n",
       "        var msg = JSON.parse(evt.data);\n",
       "        var msg_type = msg['type'];\n",
       "\n",
       "        // Call the  \"handle_{type}\" callback, which takes\n",
       "        // the figure and JSON message as its only arguments.\n",
       "        try {\n",
       "            var callback = fig[\"handle_\" + msg_type];\n",
       "        } catch (e) {\n",
       "            console.log(\"No handler for the '\" + msg_type + \"' message type: \", msg);\n",
       "            return;\n",
       "        }\n",
       "\n",
       "        if (callback) {\n",
       "            try {\n",
       "                // console.log(\"Handling '\" + msg_type + \"' message: \", msg);\n",
       "                callback(fig, msg);\n",
       "            } catch (e) {\n",
       "                console.log(\"Exception inside the 'handler_\" + msg_type + \"' callback:\", e, e.stack, msg);\n",
       "            }\n",
       "        }\n",
       "    };\n",
       "}\n",
       "\n",
       "// from http://stackoverflow.com/questions/1114465/getting-mouse-location-in-canvas\n",
       "mpl.findpos = function(e) {\n",
       "    //this section is from http://www.quirksmode.org/js/events_properties.html\n",
       "    var targ;\n",
       "    if (!e)\n",
       "        e = window.event;\n",
       "    if (e.target)\n",
       "        targ = e.target;\n",
       "    else if (e.srcElement)\n",
       "        targ = e.srcElement;\n",
       "    if (targ.nodeType == 3) // defeat Safari bug\n",
       "        targ = targ.parentNode;\n",
       "\n",
       "    // jQuery normalizes the pageX and pageY\n",
       "    // pageX,Y are the mouse positions relative to the document\n",
       "    // offset() returns the position of the element relative to the document\n",
       "    var x = e.pageX - $(targ).offset().left;\n",
       "    var y = e.pageY - $(targ).offset().top;\n",
       "\n",
       "    return {\"x\": x, \"y\": y};\n",
       "};\n",
       "\n",
       "/*\n",
       " * return a copy of an object with only non-object keys\n",
       " * we need this to avoid circular references\n",
       " * http://stackoverflow.com/a/24161582/3208463\n",
       " */\n",
       "function simpleKeys (original) {\n",
       "  return Object.keys(original).reduce(function (obj, key) {\n",
       "    if (typeof original[key] !== 'object')\n",
       "        obj[key] = original[key]\n",
       "    return obj;\n",
       "  }, {});\n",
       "}\n",
       "\n",
       "mpl.figure.prototype.mouse_event = function(event, name) {\n",
       "    var canvas_pos = mpl.findpos(event)\n",
       "\n",
       "    if (name === 'button_press')\n",
       "    {\n",
       "        this.canvas.focus();\n",
       "        this.canvas_div.focus();\n",
       "    }\n",
       "\n",
       "    var x = canvas_pos.x * mpl.ratio;\n",
       "    var y = canvas_pos.y * mpl.ratio;\n",
       "\n",
       "    this.send_message(name, {x: x, y: y, button: event.button,\n",
       "                             step: event.step,\n",
       "                             guiEvent: simpleKeys(event)});\n",
       "\n",
       "    /* This prevents the web browser from automatically changing to\n",
       "     * the text insertion cursor when the button is pressed.  We want\n",
       "     * to control all of the cursor setting manually through the\n",
       "     * 'cursor' event from matplotlib */\n",
       "    event.preventDefault();\n",
       "    return false;\n",
       "}\n",
       "\n",
       "mpl.figure.prototype._key_event_extra = function(event, name) {\n",
       "    // Handle any extra behaviour associated with a key event\n",
       "}\n",
       "\n",
       "mpl.figure.prototype.key_event = function(event, name) {\n",
       "\n",
       "    // Prevent repeat events\n",
       "    if (name == 'key_press')\n",
       "    {\n",
       "        if (event.which === this._key)\n",
       "            return;\n",
       "        else\n",
       "            this._key = event.which;\n",
       "    }\n",
       "    if (name == 'key_release')\n",
       "        this._key = null;\n",
       "\n",
       "    var value = '';\n",
       "    if (event.ctrlKey && event.which != 17)\n",
       "        value += \"ctrl+\";\n",
       "    if (event.altKey && event.which != 18)\n",
       "        value += \"alt+\";\n",
       "    if (event.shiftKey && event.which != 16)\n",
       "        value += \"shift+\";\n",
       "\n",
       "    value += 'k';\n",
       "    value += event.which.toString();\n",
       "\n",
       "    this._key_event_extra(event, name);\n",
       "\n",
       "    this.send_message(name, {key: value,\n",
       "                             guiEvent: simpleKeys(event)});\n",
       "    return false;\n",
       "}\n",
       "\n",
       "mpl.figure.prototype.toolbar_button_onclick = function(name) {\n",
       "    if (name == 'download') {\n",
       "        this.handle_save(this, null);\n",
       "    } else {\n",
       "        this.send_message(\"toolbar_button\", {name: name});\n",
       "    }\n",
       "};\n",
       "\n",
       "mpl.figure.prototype.toolbar_button_onmouseover = function(tooltip) {\n",
       "    this.message.textContent = tooltip;\n",
       "};\n",
       "mpl.toolbar_items = [[\"Home\", \"Reset original view\", \"fa fa-home icon-home\", \"home\"], [\"Back\", \"Back to previous view\", \"fa fa-arrow-left icon-arrow-left\", \"back\"], [\"Forward\", \"Forward to next view\", \"fa fa-arrow-right icon-arrow-right\", \"forward\"], [\"\", \"\", \"\", \"\"], [\"Pan\", \"Pan axes with left mouse, zoom with right\", \"fa fa-arrows icon-move\", \"pan\"], [\"Zoom\", \"Zoom to rectangle\", \"fa fa-square-o icon-check-empty\", \"zoom\"], [\"\", \"\", \"\", \"\"], [\"Download\", \"Download plot\", \"fa fa-floppy-o icon-save\", \"download\"]];\n",
       "\n",
       "mpl.extensions = [\"eps\", \"jpeg\", \"pdf\", \"png\", \"ps\", \"raw\", \"svg\", \"tif\"];\n",
       "\n",
       "mpl.default_extension = \"png\";var comm_websocket_adapter = function(comm) {\n",
       "    // Create a \"websocket\"-like object which calls the given IPython comm\n",
       "    // object with the appropriate methods. Currently this is a non binary\n",
       "    // socket, so there is still some room for performance tuning.\n",
       "    var ws = {};\n",
       "\n",
       "    ws.close = function() {\n",
       "        comm.close()\n",
       "    };\n",
       "    ws.send = function(m) {\n",
       "        //console.log('sending', m);\n",
       "        comm.send(m);\n",
       "    };\n",
       "    // Register the callback with on_msg.\n",
       "    comm.on_msg(function(msg) {\n",
       "        //console.log('receiving', msg['content']['data'], msg);\n",
       "        // Pass the mpl event to the overridden (by mpl) onmessage function.\n",
       "        ws.onmessage(msg['content']['data'])\n",
       "    });\n",
       "    return ws;\n",
       "}\n",
       "\n",
       "mpl.mpl_figure_comm = function(comm, msg) {\n",
       "    // This is the function which gets called when the mpl process\n",
       "    // starts-up an IPython Comm through the \"matplotlib\" channel.\n",
       "\n",
       "    var id = msg.content.data.id;\n",
       "    // Get hold of the div created by the display call when the Comm\n",
       "    // socket was opened in Python.\n",
       "    var element = $(\"#\" + id);\n",
       "    var ws_proxy = comm_websocket_adapter(comm)\n",
       "\n",
       "    function ondownload(figure, format) {\n",
       "        window.open(figure.imageObj.src);\n",
       "    }\n",
       "\n",
       "    var fig = new mpl.figure(id, ws_proxy,\n",
       "                           ondownload,\n",
       "                           element.get(0));\n",
       "\n",
       "    // Call onopen now - mpl needs it, as it is assuming we've passed it a real\n",
       "    // web socket which is closed, not our websocket->open comm proxy.\n",
       "    ws_proxy.onopen();\n",
       "\n",
       "    fig.parent_element = element.get(0);\n",
       "    fig.cell_info = mpl.find_output_cell(\"<div id='\" + id + \"'></div>\");\n",
       "    if (!fig.cell_info) {\n",
       "        console.error(\"Failed to find cell for figure\", id, fig);\n",
       "        return;\n",
       "    }\n",
       "\n",
       "    var output_index = fig.cell_info[2]\n",
       "    var cell = fig.cell_info[0];\n",
       "\n",
       "};\n",
       "\n",
       "mpl.figure.prototype.handle_close = function(fig, msg) {\n",
       "    var width = fig.canvas.width/mpl.ratio\n",
       "    fig.root.unbind('remove')\n",
       "\n",
       "    // Update the output cell to use the data from the current canvas.\n",
       "    fig.push_to_output();\n",
       "    var dataURL = fig.canvas.toDataURL();\n",
       "    // Re-enable the keyboard manager in IPython - without this line, in FF,\n",
       "    // the notebook keyboard shortcuts fail.\n",
       "    IPython.keyboard_manager.enable()\n",
       "    $(fig.parent_element).html('<img src=\"' + dataURL + '\" width=\"' + width + '\">');\n",
       "    fig.close_ws(fig, msg);\n",
       "}\n",
       "\n",
       "mpl.figure.prototype.close_ws = function(fig, msg){\n",
       "    fig.send_message('closing', msg);\n",
       "    // fig.ws.close()\n",
       "}\n",
       "\n",
       "mpl.figure.prototype.push_to_output = function(remove_interactive) {\n",
       "    // Turn the data on the canvas into data in the output cell.\n",
       "    var width = this.canvas.width/mpl.ratio\n",
       "    var dataURL = this.canvas.toDataURL();\n",
       "    this.cell_info[1]['text/html'] = '<img src=\"' + dataURL + '\" width=\"' + width + '\">';\n",
       "}\n",
       "\n",
       "mpl.figure.prototype.updated_canvas_event = function() {\n",
       "    // Tell IPython that the notebook contents must change.\n",
       "    IPython.notebook.set_dirty(true);\n",
       "    this.send_message(\"ack\", {});\n",
       "    var fig = this;\n",
       "    // Wait a second, then push the new image to the DOM so\n",
       "    // that it is saved nicely (might be nice to debounce this).\n",
       "    setTimeout(function () { fig.push_to_output() }, 1000);\n",
       "}\n",
       "\n",
       "mpl.figure.prototype._init_toolbar = function() {\n",
       "    var fig = this;\n",
       "\n",
       "    var nav_element = $('<div/>');\n",
       "    nav_element.attr('style', 'width: 100%');\n",
       "    this.root.append(nav_element);\n",
       "\n",
       "    // Define a callback function for later on.\n",
       "    function toolbar_event(event) {\n",
       "        return fig.toolbar_button_onclick(event['data']);\n",
       "    }\n",
       "    function toolbar_mouse_event(event) {\n",
       "        return fig.toolbar_button_onmouseover(event['data']);\n",
       "    }\n",
       "\n",
       "    for(var toolbar_ind in mpl.toolbar_items){\n",
       "        var name = mpl.toolbar_items[toolbar_ind][0];\n",
       "        var tooltip = mpl.toolbar_items[toolbar_ind][1];\n",
       "        var image = mpl.toolbar_items[toolbar_ind][2];\n",
       "        var method_name = mpl.toolbar_items[toolbar_ind][3];\n",
       "\n",
       "        if (!name) { continue; };\n",
       "\n",
       "        var button = $('<button class=\"btn btn-default\" href=\"#\" title=\"' + name + '\"><i class=\"fa ' + image + ' fa-lg\"></i></button>');\n",
       "        button.click(method_name, toolbar_event);\n",
       "        button.mouseover(tooltip, toolbar_mouse_event);\n",
       "        nav_element.append(button);\n",
       "    }\n",
       "\n",
       "    // Add the status bar.\n",
       "    var status_bar = $('<span class=\"mpl-message\" style=\"text-align:right; float: right;\"/>');\n",
       "    nav_element.append(status_bar);\n",
       "    this.message = status_bar[0];\n",
       "\n",
       "    // Add the close button to the window.\n",
       "    var buttongrp = $('<div class=\"btn-group inline pull-right\"></div>');\n",
       "    var button = $('<button class=\"btn btn-mini btn-primary\" href=\"#\" title=\"Stop Interaction\"><i class=\"fa fa-power-off icon-remove icon-large\"></i></button>');\n",
       "    button.click(function (evt) { fig.handle_close(fig, {}); } );\n",
       "    button.mouseover('Stop Interaction', toolbar_mouse_event);\n",
       "    buttongrp.append(button);\n",
       "    var titlebar = this.root.find($('.ui-dialog-titlebar'));\n",
       "    titlebar.prepend(buttongrp);\n",
       "}\n",
       "\n",
       "mpl.figure.prototype._root_extra_style = function(el){\n",
       "    var fig = this\n",
       "    el.on(\"remove\", function(){\n",
       "\tfig.close_ws(fig, {});\n",
       "    });\n",
       "}\n",
       "\n",
       "mpl.figure.prototype._canvas_extra_style = function(el){\n",
       "    // this is important to make the div 'focusable\n",
       "    el.attr('tabindex', 0)\n",
       "    // reach out to IPython and tell the keyboard manager to turn it's self\n",
       "    // off when our div gets focus\n",
       "\n",
       "    // location in version 3\n",
       "    if (IPython.notebook.keyboard_manager) {\n",
       "        IPython.notebook.keyboard_manager.register_events(el);\n",
       "    }\n",
       "    else {\n",
       "        // location in version 2\n",
       "        IPython.keyboard_manager.register_events(el);\n",
       "    }\n",
       "\n",
       "}\n",
       "\n",
       "mpl.figure.prototype._key_event_extra = function(event, name) {\n",
       "    var manager = IPython.notebook.keyboard_manager;\n",
       "    if (!manager)\n",
       "        manager = IPython.keyboard_manager;\n",
       "\n",
       "    // Check for shift+enter\n",
       "    if (event.shiftKey && event.which == 13) {\n",
       "        this.canvas_div.blur();\n",
       "        // select the cell after this one\n",
       "        var index = IPython.notebook.find_cell_index(this.cell_info[0]);\n",
       "        IPython.notebook.select(index + 1);\n",
       "    }\n",
       "}\n",
       "\n",
       "mpl.figure.prototype.handle_save = function(fig, msg) {\n",
       "    fig.ondownload(fig, null);\n",
       "}\n",
       "\n",
       "\n",
       "mpl.find_output_cell = function(html_output) {\n",
       "    // Return the cell and output element which can be found *uniquely* in the notebook.\n",
       "    // Note - this is a bit hacky, but it is done because the \"notebook_saving.Notebook\"\n",
       "    // IPython event is triggered only after the cells have been serialised, which for\n",
       "    // our purposes (turning an active figure into a static one), is too late.\n",
       "    var cells = IPython.notebook.get_cells();\n",
       "    var ncells = cells.length;\n",
       "    for (var i=0; i<ncells; i++) {\n",
       "        var cell = cells[i];\n",
       "        if (cell.cell_type === 'code'){\n",
       "            for (var j=0; j<cell.output_area.outputs.length; j++) {\n",
       "                var data = cell.output_area.outputs[j];\n",
       "                if (data.data) {\n",
       "                    // IPython >= 3 moved mimebundle to data attribute of output\n",
       "                    data = data.data;\n",
       "                }\n",
       "                if (data['text/html'] == html_output) {\n",
       "                    return [cell, data, j];\n",
       "                }\n",
       "            }\n",
       "        }\n",
       "    }\n",
       "}\n",
       "\n",
       "// Register the function which deals with the matplotlib target/channel.\n",
       "// The kernel may be null if the page has been refreshed.\n",
       "if (IPython.notebook.kernel != null) {\n",
       "    IPython.notebook.kernel.comm_manager.register_target('matplotlib', mpl.mpl_figure_comm);\n",
       "}\n"
      ],
      "text/plain": [
       "<IPython.core.display.Javascript object>"
      ]
     },
     "metadata": {
      "tags": []
     },
     "output_type": "display_data"
    },
    {
     "data": {
      "text/html": [
       "<div id='06a00ad0-eef2-412a-bd0f-69076bd44ee6'></div>"
      ],
      "text/plain": [
       "<IPython.core.display.HTML object>"
      ]
     },
     "metadata": {
      "tags": []
     },
     "output_type": "display_data"
    }
   ],
   "source": [
    "fig, ax_fig = plt.subplots(2, 2, figsize=(12, 12))\n",
    "\n",
    "for ax_row, (method_key, method_loader) in zip(ax_fig, split_loaders.items()):\n",
    "    \n",
    "    results, targets, val_loss = evaluate(T_transf.get_best_model(), method_loader['test'], loss_fn, device=DEVICE)\n",
    "    \n",
    "    for ax, key in zip(ax_row, units.keys()):\n",
    "        \n",
    "        pred_op = torch.cat\n",
    "        targ_op = torch.cat\n",
    "        \n",
    "        if all([len(i.shape) == 0 for i in results[key]]):\n",
    "            pred_op = torch.stack\n",
    "        if all([len(i.shape) == 0 for i in targets[key]]):\n",
    "            targ_op = torch.stack\n",
    "            \n",
    "        pred = pred_op(results[key], dim=0).detach().cpu().numpy().reshape(-1)\n",
    "        targ = targ_op(targets[key], dim=0).detach().cpu().numpy().reshape(-1)\n",
    "\n",
    "        plot_hexbin(pred, targ, ax, key, scale='linear')\n",
    "\n",
    "        ax.set_title('%s: %s' % (method[method_key], key.upper()), fontsize=14)\n",
    "\n",
    "plt.show()"
   ]
  },
  {
   "cell_type": "markdown",
   "metadata": {
    "id": "V9KCRgrmduzU"
   },
   "source": [
    "### Training With DimeNet\n",
    "\n",
    "This tutorial gives an example of how to build and train DimeNet. DimeNet uses both atom distances and angles to generate a more powerful molecular representation than SchNet, though at higher computational cost.\n",
    "\n",
    "First we import dependencies for the tutorial:"
   ]
  },
  {
   "cell_type": "code",
   "execution_count": 240,
   "metadata": {
    "id": "Ezlm81bXc5qL"
   },
   "outputs": [],
   "source": [
    "import sys\n",
    "from pathlib import Path\n",
    "\n",
    "import os\n",
    "import shutil\n",
    "import numpy as np\n",
    "import matplotlib.pyplot as plt\n",
    "\n",
    "%matplotlib inline\n",
    "\n",
    "import torch\n",
    "from torch.optim import Adam\n",
    "from torch.utils.data import DataLoader\n",
    "\n",
    "from nff.data import Dataset, split_train_validation_test, collate_dicts, to_tensor\n",
    "from nff.train import Trainer, get_trainer, get_model, load_model, loss, hooks, metrics, evaluate"
   ]
  },
  {
   "cell_type": "markdown",
   "metadata": {
    "id": "5nnmxi6Id3mZ"
   },
   "source": [
    "To instantiate the model, we need to specify:\n",
    "\n",
    "* `n_rbf`: number of radial basis functions\n",
    "* `cutoff`: neighbor list cutoff\n",
    "* `envelope_p`: exponent in the envelope function\n",
    "* `n_spher`: maximum n value for the spherical basis functions\n",
    "* `l_spher`: maximum l value for the spherical basis functions\n",
    "* `embed_dim`: embedding dimension for the atomic numbers\n",
    "* `n_bilinear`: dimension of the vector into which we transform the angles in the spherical basis\n",
    "* `activation`: name of non-linear activation function\n",
    "* `n_convolutions`: number of convolutions (or interaction blocks)\n",
    "* `output_keys`: names of the values we want our model to predict\n",
    "* `grad_keys`: names of the gradients we want out model to take\n",
    "\n",
    "Note that instantiating the model takes around 10 seconds. This is mainly because the spherical Bessel functions and spherical harmonics need to be translated from `scipy` into `lambda` expresasions with analytical gradients in PyTorch."
   ]
  },
  {
   "cell_type": "code",
   "execution_count": 241,
   "metadata": {
    "id": "rSiljtv2d0qp"
   },
   "outputs": [],
   "source": [
    "modelparams = {\"n_rbf\": 6,\n",
    "               \"cutoff\": 5.0,\n",
    "               \"envelope_p\": 5,\n",
    "               \"n_spher\": 6,\n",
    "               \"l_spher\": 7,\n",
    "               \"embed_dim\": 128,\n",
    "               \"n_bilinear\": 8,\n",
    "               \"activation\": \"swish\",\n",
    "               \"n_convolutions\": 6,\n",
    "               \"output_keys\": [\"energy\"],\n",
    "               \"grad_keys\": [\"energy_grad\"]}\n",
    "\n",
    "model = get_model(modelparams, model_type=\"DimeNet\")"
   ]
  },
  {
   "cell_type": "markdown",
   "metadata": {
    "id": "rOKHW5xAeVb2"
   },
   "source": [
    "Next we make a directory for our work and load the ethanol dataset:"
   ]
  },
  {
   "cell_type": "code",
   "execution_count": 242,
   "metadata": {
    "id": "Tjb9whIgeTdl"
   },
   "outputs": [],
   "source": [
    "DEVICE = 0\n",
    "OUTDIR = './sandbox'\n",
    "BATCH_SIZE = 40\n",
    "\n",
    "if os.path.exists(OUTDIR):\n",
    "    newpath = os.path.join(os.path.dirname(OUTDIR), 'backup')\n",
    "    if os.path.exists(newpath):\n",
    "        shutil.rmtree(newpath)\n",
    "        \n",
    "    shutil.move(OUTDIR, newpath)\n",
    "    \n",
    "dataset = Dataset.from_file('./data/dataset.pth.tar')"
   ]
  },
  {
   "cell_type": "markdown",
   "metadata": {
    "id": "uruA3nxcecsU"
   },
   "source": [
    "Because DimeNet uses angles as well as distances, we need to generate an angle list in addition to a neighbor list:"
   ]
  },
  {
   "cell_type": "code",
   "execution_count": 243,
   "metadata": {
    "colab": {
     "base_uri": "https://localhost:8080/"
    },
    "id": "wfOxUCfTebVr",
    "outputId": "99271c1d-32ac-4170-a95c-fc5000023355"
   },
   "outputs": [
    {
     "name": "stderr",
     "output_type": "stream",
     "text": [
      "100%|██████████| 1000/1000 [00:03<00:00, 254.13it/s]\n"
     ]
    },
    {
     "data": {
      "text/plain": [
       "tensor([[0, 1, 2],\n",
       "        [0, 1, 3],\n",
       "        [0, 1, 4],\n",
       "        ...,\n",
       "        [8, 7, 4],\n",
       "        [8, 7, 5],\n",
       "        [8, 7, 6]])"
      ]
     },
     "execution_count": 243,
     "metadata": {
      "tags": []
     },
     "output_type": "execute_result"
    }
   ],
   "source": [
    "angles = dataset.generate_angle_list()\n",
    "angles[0]"
   ]
  },
  {
   "cell_type": "markdown",
   "metadata": {
    "id": "lN0sxy8xef4w"
   },
   "source": [
    "Next we make the training splits, loaders, and trainer:"
   ]
  },
  {
   "cell_type": "code",
   "execution_count": 244,
   "metadata": {
    "id": "-cyjD5vZeeV0"
   },
   "outputs": [],
   "source": [
    "train, val, test = split_train_validation_test(dataset, val_size=0.2, test_size=0.2)\n",
    "\n",
    "train_loader = DataLoader(train, batch_size=BATCH_SIZE, collate_fn=collate_dicts)\n",
    "val_loader = DataLoader(val, batch_size=BATCH_SIZE, collate_fn=collate_dicts)\n",
    "test_loader = DataLoader(test, batch_size=BATCH_SIZE, collate_fn=collate_dicts)\n",
    "\n",
    "loss_fn = loss.build_mse_loss(loss_coef={'energy': 0.1, 'energy_grad': 1})\n",
    "trainable_params = filter(lambda p: p.requires_grad, model.parameters())\n",
    "optimizer = Adam(trainable_params, lr=3e-4)\n",
    "\n",
    "train_metrics = [\n",
    "    metrics.MeanAbsoluteError('energy'),\n",
    "    metrics.MeanAbsoluteError('energy_grad')\n",
    "]\n",
    "\n",
    "train_hooks = [\n",
    "    hooks.MaxEpochHook(100),\n",
    "    hooks.CSVHook(\n",
    "        OUTDIR,\n",
    "        metrics=train_metrics,\n",
    "    ),\n",
    "    hooks.PrintingHook(\n",
    "        OUTDIR,\n",
    "        metrics=train_metrics,\n",
    "        separator = ' | ',\n",
    "        time_strf='%M:%S'\n",
    "    ),\n",
    "    hooks.ReduceLROnPlateauHook(\n",
    "        optimizer=optimizer,\n",
    "        patience=30,\n",
    "        factor=0.5,\n",
    "        min_lr=1e-7,\n",
    "        window_length=1,\n",
    "        stop_after_min=True\n",
    "    )\n",
    "]\n",
    "\n",
    "T = Trainer(\n",
    "    model_path=OUTDIR,\n",
    "    model=model,\n",
    "    loss_fn=loss_fn,\n",
    "    optimizer=optimizer,\n",
    "    train_loader=train_loader,\n",
    "    validation_loader=val_loader,\n",
    "    checkpoint_interval=1,\n",
    "    hooks=train_hooks\n",
    ")"
   ]
  },
  {
   "cell_type": "markdown",
   "metadata": {
    "id": "FVdlCJqBelqH"
   },
   "source": [
    "Now we train and see the results!"
   ]
  },
  {
   "cell_type": "code",
   "execution_count": 245,
   "metadata": {
    "colab": {
     "base_uri": "https://localhost:8080/"
    },
    "id": "xG7zmUrQejYb",
    "outputId": "e2ccb059-4cc4-43f9-ed74-b4b3a348f2cb"
   },
   "outputs": [
    {
     "name": "stdout",
     "output_type": "stream",
     "text": [
      " Time | Epoch | Learning rate | Train loss | Validation loss | MAE_energy | MAE_energy_grad | GPU Memory (MB)\n"
     ]
    },
    {
     "name": "stderr",
     "output_type": "stream",
     "text": [
      " 93%|█████████▎| 14/15 [00:05<00:00,  2.34it/s]\n"
     ]
    },
    {
     "name": "stdout",
     "output_type": "stream",
     "text": [
      "27:46 |     1 |     3.000e-04 |   759.6707 |        641.5498 |     8.7056 |         18.4237 |            4757\n"
     ]
    },
    {
     "name": "stderr",
     "output_type": "stream",
     "text": [
      " 93%|█████████▎| 14/15 [00:05<00:00,  2.35it/s]\n"
     ]
    },
    {
     "name": "stdout",
     "output_type": "stream",
     "text": [
      "27:53 |     2 |     3.000e-04 |   406.2576 |        161.0972 |     4.5775 |          8.6816 |            4757\n"
     ]
    },
    {
     "name": "stderr",
     "output_type": "stream",
     "text": [
      " 93%|█████████▎| 14/15 [00:05<00:00,  2.35it/s]\n"
     ]
    },
    {
     "name": "stdout",
     "output_type": "stream",
     "text": [
      "28:00 |     3 |     3.000e-04 |    99.8620 |         64.3901 |     2.9223 |          5.2742 |            4757\n"
     ]
    },
    {
     "name": "stderr",
     "output_type": "stream",
     "text": [
      " 93%|█████████▎| 14/15 [00:06<00:00,  2.33it/s]\n"
     ]
    },
    {
     "name": "stdout",
     "output_type": "stream",
     "text": [
      "28:07 |     4 |     3.000e-04 |    41.8773 |         32.2830 |     2.2661 |          3.7592 |            4757\n"
     ]
    },
    {
     "name": "stderr",
     "output_type": "stream",
     "text": [
      " 93%|█████████▎| 14/15 [00:05<00:00,  2.34it/s]\n"
     ]
    },
    {
     "name": "stdout",
     "output_type": "stream",
     "text": [
      "28:14 |     5 |     3.000e-04 |    23.7512 |         23.4219 |     4.5635 |          3.0684 |            4757\n"
     ]
    },
    {
     "name": "stderr",
     "output_type": "stream",
     "text": [
      " 93%|█████████▎| 14/15 [00:05<00:00,  2.36it/s]\n"
     ]
    },
    {
     "name": "stdout",
     "output_type": "stream",
     "text": [
      "28:21 |     6 |     3.000e-04 |    15.3478 |         16.7747 |     2.3442 |          2.6228 |            4757\n"
     ]
    },
    {
     "name": "stderr",
     "output_type": "stream",
     "text": [
      " 93%|█████████▎| 14/15 [00:05<00:00,  2.35it/s]\n"
     ]
    },
    {
     "name": "stdout",
     "output_type": "stream",
     "text": [
      "28:27 |     7 |     3.000e-04 |    10.8232 |         13.2960 |     0.9170 |          2.3165 |            4757\n"
     ]
    },
    {
     "name": "stderr",
     "output_type": "stream",
     "text": [
      " 93%|█████████▎| 14/15 [00:05<00:00,  2.35it/s]\n"
     ]
    },
    {
     "name": "stdout",
     "output_type": "stream",
     "text": [
      "28:34 |     8 |     3.000e-04 |     8.4306 |         11.5697 |     0.7646 |          2.1348 |            4757\n"
     ]
    },
    {
     "name": "stderr",
     "output_type": "stream",
     "text": [
      " 93%|█████████▎| 14/15 [00:05<00:00,  2.34it/s]\n"
     ]
    },
    {
     "name": "stdout",
     "output_type": "stream",
     "text": [
      "28:41 |     9 |     3.000e-04 |     7.0442 |         10.3794 |     0.7021 |          2.0005 |            4757\n"
     ]
    },
    {
     "name": "stderr",
     "output_type": "stream",
     "text": [
      " 93%|█████████▎| 14/15 [00:05<00:00,  2.35it/s]\n"
     ]
    },
    {
     "name": "stdout",
     "output_type": "stream",
     "text": [
      "28:48 |    10 |     3.000e-04 |     5.9531 |          9.1403 |     0.8090 |          1.8591 |            4757\n"
     ]
    },
    {
     "name": "stderr",
     "output_type": "stream",
     "text": [
      " 93%|█████████▎| 14/15 [00:05<00:00,  2.34it/s]\n"
     ]
    },
    {
     "name": "stdout",
     "output_type": "stream",
     "text": [
      "28:55 |    11 |     3.000e-04 |     5.3818 |          8.5391 |     1.3793 |          1.7606 |            4757\n"
     ]
    },
    {
     "name": "stderr",
     "output_type": "stream",
     "text": [
      " 93%|█████████▎| 14/15 [00:05<00:00,  2.34it/s]\n"
     ]
    },
    {
     "name": "stdout",
     "output_type": "stream",
     "text": [
      "29:02 |    12 |     3.000e-04 |     5.0953 |          8.0246 |     2.1970 |          1.6296 |            4757\n"
     ]
    },
    {
     "name": "stderr",
     "output_type": "stream",
     "text": [
      " 93%|█████████▎| 14/15 [00:05<00:00,  2.33it/s]\n"
     ]
    },
    {
     "name": "stdout",
     "output_type": "stream",
     "text": [
      "29:09 |    13 |     3.000e-04 |     4.6419 |          7.5200 |     2.4596 |          1.5303 |            4757\n"
     ]
    },
    {
     "name": "stderr",
     "output_type": "stream",
     "text": [
      " 93%|█████████▎| 14/15 [00:06<00:00,  2.33it/s]\n"
     ]
    },
    {
     "name": "stdout",
     "output_type": "stream",
     "text": [
      "29:16 |    14 |     3.000e-04 |     4.0538 |          6.7616 |     2.0679 |          1.4533 |            4757\n"
     ]
    },
    {
     "name": "stderr",
     "output_type": "stream",
     "text": [
      " 93%|█████████▎| 14/15 [00:05<00:00,  2.34it/s]\n"
     ]
    },
    {
     "name": "stdout",
     "output_type": "stream",
     "text": [
      "29:23 |    15 |     3.000e-04 |     3.5674 |          5.9504 |     1.4231 |          1.3683 |            4757\n"
     ]
    },
    {
     "name": "stderr",
     "output_type": "stream",
     "text": [
      " 93%|█████████▎| 14/15 [00:05<00:00,  2.34it/s]\n"
     ]
    },
    {
     "name": "stdout",
     "output_type": "stream",
     "text": [
      "29:30 |    16 |     3.000e-04 |     3.2523 |          5.4306 |     0.6804 |          1.3116 |            4757\n"
     ]
    },
    {
     "name": "stderr",
     "output_type": "stream",
     "text": [
      " 93%|█████████▎| 14/15 [00:05<00:00,  2.36it/s]\n"
     ]
    },
    {
     "name": "stdout",
     "output_type": "stream",
     "text": [
      "29:37 |    17 |     3.000e-04 |     2.8695 |          5.1664 |     0.3312 |          1.2800 |            4757\n"
     ]
    },
    {
     "name": "stderr",
     "output_type": "stream",
     "text": [
      " 93%|█████████▎| 14/15 [00:06<00:00,  2.31it/s]\n"
     ]
    },
    {
     "name": "stdout",
     "output_type": "stream",
     "text": [
      "29:44 |    18 |     3.000e-04 |     2.5012 |          4.8193 |     0.3470 |          1.2472 |            4757\n"
     ]
    },
    {
     "name": "stderr",
     "output_type": "stream",
     "text": [
      " 93%|█████████▎| 14/15 [00:06<00:00,  2.29it/s]\n"
     ]
    },
    {
     "name": "stdout",
     "output_type": "stream",
     "text": [
      "29:51 |    19 |     3.000e-04 |     2.5753 |          4.7335 |     0.3504 |          1.2632 |            4757\n"
     ]
    },
    {
     "name": "stderr",
     "output_type": "stream",
     "text": [
      " 93%|█████████▎| 14/15 [00:06<00:00,  2.31it/s]\n"
     ]
    },
    {
     "name": "stdout",
     "output_type": "stream",
     "text": [
      "29:58 |    20 |     3.000e-04 |     2.6507 |          4.7500 |     0.4086 |          1.2998 |            4757\n"
     ]
    },
    {
     "name": "stderr",
     "output_type": "stream",
     "text": [
      " 93%|█████████▎| 14/15 [00:06<00:00,  2.33it/s]\n"
     ]
    },
    {
     "name": "stdout",
     "output_type": "stream",
     "text": [
      "30:04 |    21 |     3.000e-04 |     2.6146 |          4.9729 |     0.3307 |          1.3827 |            4757\n"
     ]
    },
    {
     "name": "stderr",
     "output_type": "stream",
     "text": [
      " 93%|█████████▎| 14/15 [00:06<00:00,  2.32it/s]\n"
     ]
    },
    {
     "name": "stdout",
     "output_type": "stream",
     "text": [
      "30:11 |    22 |     3.000e-04 |     2.3582 |          4.5194 |     0.4256 |          1.2809 |            4757\n"
     ]
    },
    {
     "name": "stderr",
     "output_type": "stream",
     "text": [
      " 93%|█████████▎| 14/15 [00:06<00:00,  2.31it/s]\n"
     ]
    },
    {
     "name": "stdout",
     "output_type": "stream",
     "text": [
      "30:18 |    23 |     3.000e-04 |     2.0339 |          4.1693 |     0.4317 |          1.2038 |            4757\n"
     ]
    },
    {
     "name": "stderr",
     "output_type": "stream",
     "text": [
      " 93%|█████████▎| 14/15 [00:06<00:00,  2.32it/s]\n"
     ]
    },
    {
     "name": "stdout",
     "output_type": "stream",
     "text": [
      "30:25 |    24 |     3.000e-04 |     1.9258 |          3.9674 |     1.0085 |          1.0985 |            4757\n"
     ]
    },
    {
     "name": "stderr",
     "output_type": "stream",
     "text": [
      " 93%|█████████▎| 14/15 [00:05<00:00,  2.33it/s]\n"
     ]
    },
    {
     "name": "stdout",
     "output_type": "stream",
     "text": [
      "30:32 |    25 |     3.000e-04 |     2.1087 |          3.7854 |     0.7663 |          1.0738 |            4757\n"
     ]
    },
    {
     "name": "stderr",
     "output_type": "stream",
     "text": [
      " 93%|█████████▎| 14/15 [00:06<00:00,  2.32it/s]\n"
     ]
    },
    {
     "name": "stdout",
     "output_type": "stream",
     "text": [
      "30:39 |    26 |     3.000e-04 |     1.7282 |          3.9790 |     1.1408 |          1.0666 |            4757\n"
     ]
    },
    {
     "name": "stderr",
     "output_type": "stream",
     "text": [
      " 93%|█████████▎| 14/15 [00:06<00:00,  2.31it/s]\n"
     ]
    },
    {
     "name": "stdout",
     "output_type": "stream",
     "text": [
      "30:46 |    27 |     3.000e-04 |     1.6884 |          3.4089 |     0.2720 |          1.0028 |            4757\n"
     ]
    },
    {
     "name": "stderr",
     "output_type": "stream",
     "text": [
      " 93%|█████████▎| 14/15 [00:06<00:00,  2.31it/s]\n"
     ]
    },
    {
     "name": "stdout",
     "output_type": "stream",
     "text": [
      "30:53 |    28 |     3.000e-04 |     2.2095 |          4.5120 |     1.2210 |          1.1983 |            4757\n"
     ]
    },
    {
     "name": "stderr",
     "output_type": "stream",
     "text": [
      " 93%|█████████▎| 14/15 [00:06<00:00,  2.32it/s]\n"
     ]
    },
    {
     "name": "stdout",
     "output_type": "stream",
     "text": [
      "31:00 |    29 |     3.000e-04 |     1.6647 |          4.0296 |     0.9771 |          1.0988 |            4757\n"
     ]
    },
    {
     "name": "stderr",
     "output_type": "stream",
     "text": [
      " 93%|█████████▎| 14/15 [00:06<00:00,  2.32it/s]\n"
     ]
    },
    {
     "name": "stdout",
     "output_type": "stream",
     "text": [
      "31:07 |    30 |     3.000e-04 |     2.4752 |          3.6913 |     0.2925 |          1.0752 |            4757\n"
     ]
    },
    {
     "name": "stderr",
     "output_type": "stream",
     "text": [
      " 93%|█████████▎| 14/15 [00:05<00:00,  2.33it/s]\n"
     ]
    },
    {
     "name": "stdout",
     "output_type": "stream",
     "text": [
      "31:14 |    31 |     3.000e-04 |     2.3805 |          4.1365 |     1.1399 |          1.0963 |            4757\n"
     ]
    },
    {
     "name": "stderr",
     "output_type": "stream",
     "text": [
      " 93%|█████████▎| 14/15 [00:06<00:00,  2.33it/s]\n"
     ]
    },
    {
     "name": "stdout",
     "output_type": "stream",
     "text": [
      "31:20 |    32 |     3.000e-04 |     1.5258 |          3.5740 |     0.6714 |          1.0755 |            4757\n"
     ]
    },
    {
     "name": "stderr",
     "output_type": "stream",
     "text": [
      " 93%|█████████▎| 14/15 [00:06<00:00,  2.32it/s]\n"
     ]
    },
    {
     "name": "stdout",
     "output_type": "stream",
     "text": [
      "31:27 |    33 |     3.000e-04 |     1.4799 |          3.2694 |     0.2427 |          0.9536 |            4757\n"
     ]
    },
    {
     "name": "stderr",
     "output_type": "stream",
     "text": [
      " 93%|█████████▎| 14/15 [00:06<00:00,  2.32it/s]\n"
     ]
    },
    {
     "name": "stdout",
     "output_type": "stream",
     "text": [
      "31:34 |    34 |     3.000e-04 |     1.1793 |          3.0548 |     0.2943 |          0.9313 |            4757\n"
     ]
    },
    {
     "name": "stderr",
     "output_type": "stream",
     "text": [
      " 93%|█████████▎| 14/15 [00:05<00:00,  2.34it/s]\n"
     ]
    },
    {
     "name": "stdout",
     "output_type": "stream",
     "text": [
      "31:41 |    35 |     3.000e-04 |     1.2088 |          2.9753 |     0.4806 |          0.8997 |            4757\n"
     ]
    },
    {
     "name": "stderr",
     "output_type": "stream",
     "text": [
      " 93%|█████████▎| 14/15 [00:06<00:00,  2.33it/s]\n"
     ]
    },
    {
     "name": "stdout",
     "output_type": "stream",
     "text": [
      "31:48 |    36 |     3.000e-04 |     1.0600 |          2.8777 |     0.2548 |          0.8908 |            4757\n"
     ]
    },
    {
     "name": "stderr",
     "output_type": "stream",
     "text": [
      " 93%|█████████▎| 14/15 [00:06<00:00,  2.32it/s]\n"
     ]
    },
    {
     "name": "stdout",
     "output_type": "stream",
     "text": [
      "31:55 |    37 |     3.000e-04 |     1.0496 |          3.1382 |     0.6307 |          0.9730 |            4757\n"
     ]
    },
    {
     "name": "stderr",
     "output_type": "stream",
     "text": [
      " 93%|█████████▎| 14/15 [00:06<00:00,  2.32it/s]\n"
     ]
    },
    {
     "name": "stdout",
     "output_type": "stream",
     "text": [
      "32:02 |    38 |     3.000e-04 |     1.0801 |          2.8558 |     0.2437 |          0.9044 |            4757\n"
     ]
    },
    {
     "name": "stderr",
     "output_type": "stream",
     "text": [
      " 93%|█████████▎| 14/15 [00:05<00:00,  2.34it/s]\n"
     ]
    },
    {
     "name": "stdout",
     "output_type": "stream",
     "text": [
      "32:09 |    39 |     3.000e-04 |     1.1681 |          3.1483 |     0.2355 |          1.0058 |            4757\n"
     ]
    },
    {
     "name": "stderr",
     "output_type": "stream",
     "text": [
      " 93%|█████████▎| 14/15 [00:06<00:00,  2.33it/s]\n"
     ]
    },
    {
     "name": "stdout",
     "output_type": "stream",
     "text": [
      "32:16 |    40 |     3.000e-04 |     1.1347 |          3.4973 |     0.4491 |          1.1087 |            4757\n"
     ]
    },
    {
     "name": "stderr",
     "output_type": "stream",
     "text": [
      " 93%|█████████▎| 14/15 [00:06<00:00,  2.33it/s]\n"
     ]
    },
    {
     "name": "stdout",
     "output_type": "stream",
     "text": [
      "32:23 |    41 |     3.000e-04 |     1.2012 |          3.4254 |     0.2762 |          1.1106 |            4757\n"
     ]
    },
    {
     "name": "stderr",
     "output_type": "stream",
     "text": [
      " 93%|█████████▎| 14/15 [00:05<00:00,  2.36it/s]\n"
     ]
    },
    {
     "name": "stdout",
     "output_type": "stream",
     "text": [
      "32:29 |    42 |     3.000e-04 |     1.6874 |          2.7743 |     0.2887 |          0.8778 |            4757\n"
     ]
    },
    {
     "name": "stderr",
     "output_type": "stream",
     "text": [
      " 93%|█████████▎| 14/15 [00:05<00:00,  2.35it/s]\n"
     ]
    },
    {
     "name": "stdout",
     "output_type": "stream",
     "text": [
      "32:36 |    43 |     3.000e-04 |     1.8237 |          4.3763 |     3.4461 |          1.0077 |            4757\n"
     ]
    },
    {
     "name": "stderr",
     "output_type": "stream",
     "text": [
      " 93%|█████████▎| 14/15 [00:05<00:00,  2.38it/s]\n"
     ]
    },
    {
     "name": "stdout",
     "output_type": "stream",
     "text": [
      "32:43 |    44 |     3.000e-04 |     1.4328 |          3.4434 |     2.5690 |          0.8825 |            4757\n"
     ]
    },
    {
     "name": "stderr",
     "output_type": "stream",
     "text": [
      " 93%|█████████▎| 14/15 [00:05<00:00,  2.36it/s]\n"
     ]
    },
    {
     "name": "stdout",
     "output_type": "stream",
     "text": [
      "32:50 |    45 |     3.000e-04 |     1.6205 |          3.2713 |     1.8155 |          0.9153 |            4757\n"
     ]
    },
    {
     "name": "stderr",
     "output_type": "stream",
     "text": [
      " 93%|█████████▎| 14/15 [00:05<00:00,  2.37it/s]\n"
     ]
    },
    {
     "name": "stdout",
     "output_type": "stream",
     "text": [
      "32:56 |    46 |     3.000e-04 |     1.9288 |          4.3955 |     1.8135 |          1.1990 |            4757\n"
     ]
    },
    {
     "name": "stderr",
     "output_type": "stream",
     "text": [
      " 93%|█████████▎| 14/15 [00:05<00:00,  2.37it/s]\n"
     ]
    },
    {
     "name": "stdout",
     "output_type": "stream",
     "text": [
      "33:03 |    47 |     3.000e-04 |     1.6942 |          2.9689 |     1.0320 |          0.8704 |            4757\n"
     ]
    },
    {
     "name": "stderr",
     "output_type": "stream",
     "text": [
      " 93%|█████████▎| 14/15 [00:05<00:00,  2.36it/s]\n"
     ]
    },
    {
     "name": "stdout",
     "output_type": "stream",
     "text": [
      "33:10 |    48 |     3.000e-04 |     0.9488 |          2.7072 |     0.3735 |          0.8477 |            4757\n"
     ]
    },
    {
     "name": "stderr",
     "output_type": "stream",
     "text": [
      " 93%|█████████▎| 14/15 [00:05<00:00,  2.35it/s]\n"
     ]
    },
    {
     "name": "stdout",
     "output_type": "stream",
     "text": [
      "33:17 |    49 |     3.000e-04 |     0.9056 |          2.4647 |     0.2487 |          0.7927 |            4757\n"
     ]
    },
    {
     "name": "stderr",
     "output_type": "stream",
     "text": [
      " 93%|█████████▎| 14/15 [00:05<00:00,  2.36it/s]\n"
     ]
    },
    {
     "name": "stdout",
     "output_type": "stream",
     "text": [
      "33:24 |    50 |     3.000e-04 |     0.8089 |          2.4792 |     0.5119 |          0.7888 |            4757\n"
     ]
    },
    {
     "name": "stderr",
     "output_type": "stream",
     "text": [
      " 93%|█████████▎| 14/15 [00:05<00:00,  2.36it/s]\n"
     ]
    },
    {
     "name": "stdout",
     "output_type": "stream",
     "text": [
      "33:30 |    51 |     3.000e-04 |     0.7565 |          2.3930 |     0.3167 |          0.7751 |            4757\n"
     ]
    },
    {
     "name": "stderr",
     "output_type": "stream",
     "text": [
      " 93%|█████████▎| 14/15 [00:05<00:00,  2.36it/s]\n"
     ]
    },
    {
     "name": "stdout",
     "output_type": "stream",
     "text": [
      "33:37 |    52 |     3.000e-04 |     0.7584 |          2.3634 |     0.2197 |          0.7706 |            4757\n"
     ]
    },
    {
     "name": "stderr",
     "output_type": "stream",
     "text": [
      " 93%|█████████▎| 14/15 [00:05<00:00,  2.36it/s]\n"
     ]
    },
    {
     "name": "stdout",
     "output_type": "stream",
     "text": [
      "33:44 |    53 |     3.000e-04 |     0.8145 |          2.3527 |     0.5253 |          0.7587 |            4757\n"
     ]
    },
    {
     "name": "stderr",
     "output_type": "stream",
     "text": [
      " 93%|█████████▎| 14/15 [00:05<00:00,  2.35it/s]\n"
     ]
    },
    {
     "name": "stdout",
     "output_type": "stream",
     "text": [
      "33:51 |    54 |     3.000e-04 |     0.9260 |          2.4249 |     0.8231 |          0.7684 |            4757\n"
     ]
    },
    {
     "name": "stderr",
     "output_type": "stream",
     "text": [
      " 93%|█████████▎| 14/15 [00:05<00:00,  2.36it/s]\n"
     ]
    },
    {
     "name": "stdout",
     "output_type": "stream",
     "text": [
      "33:58 |    55 |     3.000e-04 |     1.0484 |          2.5374 |     0.5380 |          0.8261 |            4757\n"
     ]
    },
    {
     "name": "stderr",
     "output_type": "stream",
     "text": [
      " 93%|█████████▎| 14/15 [00:05<00:00,  2.37it/s]\n"
     ]
    },
    {
     "name": "stdout",
     "output_type": "stream",
     "text": [
      "34:04 |    56 |     3.000e-04 |     1.0448 |          3.0264 |     0.4277 |          1.0005 |            4757\n"
     ]
    },
    {
     "name": "stderr",
     "output_type": "stream",
     "text": [
      " 93%|█████████▎| 14/15 [00:05<00:00,  2.36it/s]\n"
     ]
    },
    {
     "name": "stdout",
     "output_type": "stream",
     "text": [
      "34:11 |    57 |     3.000e-04 |     1.3808 |          2.7430 |     0.5284 |          0.8764 |            4757\n"
     ]
    },
    {
     "name": "stderr",
     "output_type": "stream",
     "text": [
      " 93%|█████████▎| 14/15 [00:05<00:00,  2.37it/s]\n"
     ]
    },
    {
     "name": "stdout",
     "output_type": "stream",
     "text": [
      "34:18 |    58 |     3.000e-04 |     1.4460 |          2.5361 |     0.2671 |          0.8446 |            4757\n"
     ]
    },
    {
     "name": "stderr",
     "output_type": "stream",
     "text": [
      " 93%|█████████▎| 14/15 [00:05<00:00,  2.38it/s]\n"
     ]
    },
    {
     "name": "stdout",
     "output_type": "stream",
     "text": [
      "34:24 |    59 |     3.000e-04 |     0.9838 |          2.4913 |     0.7541 |          0.8222 |            4757\n"
     ]
    },
    {
     "name": "stderr",
     "output_type": "stream",
     "text": [
      " 93%|█████████▎| 14/15 [00:05<00:00,  2.37it/s]\n"
     ]
    },
    {
     "name": "stdout",
     "output_type": "stream",
     "text": [
      "34:31 |    60 |     3.000e-04 |     0.8499 |          2.4264 |     0.9810 |          0.8145 |            4757\n"
     ]
    },
    {
     "name": "stderr",
     "output_type": "stream",
     "text": [
      " 93%|█████████▎| 14/15 [00:05<00:00,  2.37it/s]\n"
     ]
    },
    {
     "name": "stdout",
     "output_type": "stream",
     "text": [
      "34:38 |    61 |     3.000e-04 |     0.8299 |          2.2196 |     0.3988 |          0.7319 |            4757\n"
     ]
    },
    {
     "name": "stderr",
     "output_type": "stream",
     "text": [
      " 93%|█████████▎| 14/15 [00:05<00:00,  2.37it/s]\n"
     ]
    },
    {
     "name": "stdout",
     "output_type": "stream",
     "text": [
      "34:45 |    62 |     3.000e-04 |     0.7198 |          2.3708 |     1.3956 |          0.7394 |            4757\n"
     ]
    },
    {
     "name": "stderr",
     "output_type": "stream",
     "text": [
      " 93%|█████████▎| 14/15 [00:05<00:00,  2.36it/s]\n"
     ]
    },
    {
     "name": "stdout",
     "output_type": "stream",
     "text": [
      "34:52 |    63 |     3.000e-04 |     0.8037 |          2.3870 |     1.2861 |          0.7392 |            4757\n"
     ]
    },
    {
     "name": "stderr",
     "output_type": "stream",
     "text": [
      " 93%|█████████▎| 14/15 [00:05<00:00,  2.36it/s]\n"
     ]
    },
    {
     "name": "stdout",
     "output_type": "stream",
     "text": [
      "34:59 |    64 |     3.000e-04 |     0.8348 |          2.5538 |     1.5260 |          0.7781 |            4757\n"
     ]
    },
    {
     "name": "stderr",
     "output_type": "stream",
     "text": [
      " 93%|█████████▎| 14/15 [00:05<00:00,  2.38it/s]\n"
     ]
    },
    {
     "name": "stdout",
     "output_type": "stream",
     "text": [
      "35:05 |    65 |     3.000e-04 |     0.8356 |          2.4168 |     0.4838 |          0.7964 |            4757\n"
     ]
    },
    {
     "name": "stderr",
     "output_type": "stream",
     "text": [
      " 93%|█████████▎| 14/15 [00:05<00:00,  2.35it/s]\n"
     ]
    },
    {
     "name": "stdout",
     "output_type": "stream",
     "text": [
      "35:12 |    66 |     3.000e-04 |     0.8328 |          2.4392 |     0.2819 |          0.8148 |            4757\n"
     ]
    },
    {
     "name": "stderr",
     "output_type": "stream",
     "text": [
      " 93%|█████████▎| 14/15 [00:05<00:00,  2.35it/s]\n"
     ]
    },
    {
     "name": "stdout",
     "output_type": "stream",
     "text": [
      "35:19 |    67 |     3.000e-04 |     0.8149 |          2.1447 |     0.2859 |          0.7194 |            4757\n"
     ]
    },
    {
     "name": "stderr",
     "output_type": "stream",
     "text": [
      " 93%|█████████▎| 14/15 [00:05<00:00,  2.34it/s]\n"
     ]
    },
    {
     "name": "stdout",
     "output_type": "stream",
     "text": [
      "35:26 |    68 |     3.000e-04 |     0.8223 |          2.1531 |     0.7986 |          0.6954 |            4757\n"
     ]
    },
    {
     "name": "stderr",
     "output_type": "stream",
     "text": [
      " 93%|█████████▎| 14/15 [00:05<00:00,  2.34it/s]\n"
     ]
    },
    {
     "name": "stdout",
     "output_type": "stream",
     "text": [
      "35:32 |    69 |     3.000e-04 |     0.8915 |          3.0126 |     2.2509 |          0.8454 |            4757\n"
     ]
    },
    {
     "name": "stderr",
     "output_type": "stream",
     "text": [
      " 93%|█████████▎| 14/15 [00:05<00:00,  2.36it/s]\n"
     ]
    },
    {
     "name": "stdout",
     "output_type": "stream",
     "text": [
      "35:39 |    70 |     3.000e-04 |     0.8577 |          2.2032 |     0.2625 |          0.7434 |            4757\n"
     ]
    },
    {
     "name": "stderr",
     "output_type": "stream",
     "text": [
      " 93%|█████████▎| 14/15 [00:05<00:00,  2.37it/s]\n"
     ]
    },
    {
     "name": "stdout",
     "output_type": "stream",
     "text": [
      "35:46 |    71 |     3.000e-04 |     0.8044 |          2.6109 |     1.8021 |          0.8066 |            4757\n"
     ]
    },
    {
     "name": "stderr",
     "output_type": "stream",
     "text": [
      " 93%|█████████▎| 14/15 [00:05<00:00,  2.34it/s]\n"
     ]
    },
    {
     "name": "stdout",
     "output_type": "stream",
     "text": [
      "35:53 |    72 |     3.000e-04 |     0.7478 |          2.5425 |     1.4308 |          0.8314 |            4757\n"
     ]
    },
    {
     "name": "stderr",
     "output_type": "stream",
     "text": [
      " 93%|█████████▎| 14/15 [00:05<00:00,  2.38it/s]\n"
     ]
    },
    {
     "name": "stdout",
     "output_type": "stream",
     "text": [
      "35:59 |    73 |     3.000e-04 |     0.7398 |          2.5216 |     1.5136 |          0.8106 |            4757\n"
     ]
    },
    {
     "name": "stderr",
     "output_type": "stream",
     "text": [
      " 93%|█████████▎| 14/15 [00:05<00:00,  2.37it/s]\n"
     ]
    },
    {
     "name": "stdout",
     "output_type": "stream",
     "text": [
      "36:06 |    74 |     3.000e-04 |     0.7686 |          2.5110 |     1.4755 |          0.7921 |            4757\n"
     ]
    },
    {
     "name": "stderr",
     "output_type": "stream",
     "text": [
      " 93%|█████████▎| 14/15 [00:05<00:00,  2.36it/s]\n"
     ]
    },
    {
     "name": "stdout",
     "output_type": "stream",
     "text": [
      "36:13 |    75 |     3.000e-04 |     0.7275 |          2.3959 |     0.9235 |          0.7947 |            4757\n"
     ]
    },
    {
     "name": "stderr",
     "output_type": "stream",
     "text": [
      " 93%|█████████▎| 14/15 [00:05<00:00,  2.37it/s]\n"
     ]
    },
    {
     "name": "stdout",
     "output_type": "stream",
     "text": [
      "36:20 |    76 |     3.000e-04 |     0.7432 |          2.1666 |     0.5850 |          0.7395 |            4757\n"
     ]
    },
    {
     "name": "stderr",
     "output_type": "stream",
     "text": [
      " 93%|█████████▎| 14/15 [00:05<00:00,  2.35it/s]\n"
     ]
    },
    {
     "name": "stdout",
     "output_type": "stream",
     "text": [
      "36:26 |    77 |     3.000e-04 |     0.7241 |          2.1091 |     0.5617 |          0.7352 |            4757\n"
     ]
    },
    {
     "name": "stderr",
     "output_type": "stream",
     "text": [
      " 93%|█████████▎| 14/15 [00:05<00:00,  2.37it/s]\n"
     ]
    },
    {
     "name": "stdout",
     "output_type": "stream",
     "text": [
      "36:33 |    78 |     3.000e-04 |     0.6377 |          2.3983 |     1.5797 |          0.7922 |            4757\n"
     ]
    },
    {
     "name": "stderr",
     "output_type": "stream",
     "text": [
      " 93%|█████████▎| 14/15 [00:05<00:00,  2.38it/s]\n"
     ]
    },
    {
     "name": "stdout",
     "output_type": "stream",
     "text": [
      "36:40 |    79 |     3.000e-04 |     1.3891 |          2.6436 |     1.8508 |          0.8155 |            4757\n"
     ]
    },
    {
     "name": "stderr",
     "output_type": "stream",
     "text": [
      " 93%|█████████▎| 14/15 [00:05<00:00,  2.39it/s]\n"
     ]
    },
    {
     "name": "stdout",
     "output_type": "stream",
     "text": [
      "36:47 |    80 |     3.000e-04 |     0.8724 |          2.3465 |     0.7486 |          0.8029 |            4757\n"
     ]
    },
    {
     "name": "stderr",
     "output_type": "stream",
     "text": [
      " 93%|█████████▎| 14/15 [00:05<00:00,  2.35it/s]\n"
     ]
    },
    {
     "name": "stdout",
     "output_type": "stream",
     "text": [
      "36:53 |    81 |     3.000e-04 |     0.8051 |          2.2993 |     1.0269 |          0.8069 |            4757\n"
     ]
    },
    {
     "name": "stderr",
     "output_type": "stream",
     "text": [
      " 93%|█████████▎| 14/15 [00:05<00:00,  2.37it/s]\n"
     ]
    },
    {
     "name": "stdout",
     "output_type": "stream",
     "text": [
      "37:00 |    82 |     3.000e-04 |     0.6987 |          2.3484 |     0.9145 |          0.8430 |            4757\n"
     ]
    },
    {
     "name": "stderr",
     "output_type": "stream",
     "text": [
      " 93%|█████████▎| 14/15 [00:05<00:00,  2.34it/s]\n"
     ]
    },
    {
     "name": "stdout",
     "output_type": "stream",
     "text": [
      "37:07 |    83 |     3.000e-04 |     0.7850 |          2.2713 |     0.9628 |          0.8061 |            4757\n"
     ]
    },
    {
     "name": "stderr",
     "output_type": "stream",
     "text": [
      " 93%|█████████▎| 14/15 [00:05<00:00,  2.37it/s]\n"
     ]
    },
    {
     "name": "stdout",
     "output_type": "stream",
     "text": [
      "37:14 |    84 |     3.000e-04 |     0.7849 |          2.0114 |     0.5862 |          0.7066 |            4757\n"
     ]
    },
    {
     "name": "stderr",
     "output_type": "stream",
     "text": [
      " 93%|█████████▎| 14/15 [00:05<00:00,  2.37it/s]\n"
     ]
    },
    {
     "name": "stdout",
     "output_type": "stream",
     "text": [
      "37:20 |    85 |     3.000e-04 |     0.8047 |          2.0217 |     0.9899 |          0.6727 |            4757\n"
     ]
    },
    {
     "name": "stderr",
     "output_type": "stream",
     "text": [
      " 93%|█████████▎| 14/15 [00:05<00:00,  2.35it/s]\n"
     ]
    },
    {
     "name": "stdout",
     "output_type": "stream",
     "text": [
      "37:27 |    86 |     3.000e-04 |     0.8873 |          2.3372 |     0.3927 |          0.8309 |            4757\n"
     ]
    },
    {
     "name": "stderr",
     "output_type": "stream",
     "text": [
      " 93%|█████████▎| 14/15 [00:05<00:00,  2.37it/s]\n"
     ]
    },
    {
     "name": "stdout",
     "output_type": "stream",
     "text": [
      "37:34 |    87 |     3.000e-04 |     0.9246 |          2.3987 |     0.5960 |          0.8587 |            4757\n"
     ]
    },
    {
     "name": "stderr",
     "output_type": "stream",
     "text": [
      " 93%|█████████▎| 14/15 [00:05<00:00,  2.38it/s]\n"
     ]
    },
    {
     "name": "stdout",
     "output_type": "stream",
     "text": [
      "37:41 |    88 |     3.000e-04 |     0.8627 |          2.0396 |     0.1969 |          0.7196 |            4757\n"
     ]
    },
    {
     "name": "stderr",
     "output_type": "stream",
     "text": [
      " 93%|█████████▎| 14/15 [00:05<00:00,  2.37it/s]\n"
     ]
    },
    {
     "name": "stdout",
     "output_type": "stream",
     "text": [
      "37:47 |    89 |     3.000e-04 |     0.8066 |          2.1638 |     1.3472 |          0.6921 |            4757\n"
     ]
    },
    {
     "name": "stderr",
     "output_type": "stream",
     "text": [
      " 93%|█████████▎| 14/15 [00:05<00:00,  2.36it/s]\n"
     ]
    },
    {
     "name": "stdout",
     "output_type": "stream",
     "text": [
      "37:54 |    90 |     3.000e-04 |     0.6124 |          2.0402 |     0.1709 |          0.7121 |            4757\n"
     ]
    },
    {
     "name": "stderr",
     "output_type": "stream",
     "text": [
      " 93%|█████████▎| 14/15 [00:05<00:00,  2.38it/s]\n"
     ]
    },
    {
     "name": "stdout",
     "output_type": "stream",
     "text": [
      "38:01 |    91 |     3.000e-04 |     0.6637 |          1.9603 |     0.4647 |          0.6724 |            4757\n"
     ]
    },
    {
     "name": "stderr",
     "output_type": "stream",
     "text": [
      " 93%|█████████▎| 14/15 [00:05<00:00,  2.36it/s]\n"
     ]
    },
    {
     "name": "stdout",
     "output_type": "stream",
     "text": [
      "38:07 |    92 |     3.000e-04 |     0.5948 |          1.9345 |     0.5482 |          0.6565 |            4757\n"
     ]
    },
    {
     "name": "stderr",
     "output_type": "stream",
     "text": [
      " 93%|█████████▎| 14/15 [00:05<00:00,  2.36it/s]\n"
     ]
    },
    {
     "name": "stdout",
     "output_type": "stream",
     "text": [
      "38:14 |    93 |     3.000e-04 |     0.6070 |          2.0218 |     0.9178 |          0.6619 |            4757\n"
     ]
    },
    {
     "name": "stderr",
     "output_type": "stream",
     "text": [
      " 93%|█████████▎| 14/15 [00:05<00:00,  2.38it/s]\n"
     ]
    },
    {
     "name": "stdout",
     "output_type": "stream",
     "text": [
      "38:21 |    94 |     3.000e-04 |     0.6031 |          2.0564 |     0.9151 |          0.6673 |            4757\n"
     ]
    },
    {
     "name": "stderr",
     "output_type": "stream",
     "text": [
      " 93%|█████████▎| 14/15 [00:05<00:00,  2.38it/s]\n"
     ]
    },
    {
     "name": "stdout",
     "output_type": "stream",
     "text": [
      "38:28 |    95 |     3.000e-04 |     0.6251 |          2.0942 |     0.9007 |          0.6812 |            4757\n"
     ]
    },
    {
     "name": "stderr",
     "output_type": "stream",
     "text": [
      " 93%|█████████▎| 14/15 [00:05<00:00,  2.37it/s]\n"
     ]
    },
    {
     "name": "stdout",
     "output_type": "stream",
     "text": [
      "38:34 |    96 |     3.000e-04 |     0.6661 |          2.1495 |     0.9569 |          0.6991 |            4757\n"
     ]
    },
    {
     "name": "stderr",
     "output_type": "stream",
     "text": [
      " 93%|█████████▎| 14/15 [00:05<00:00,  2.36it/s]\n"
     ]
    },
    {
     "name": "stdout",
     "output_type": "stream",
     "text": [
      "38:41 |    97 |     3.000e-04 |     0.7183 |          2.1692 |     0.9214 |          0.7096 |            4757\n"
     ]
    },
    {
     "name": "stderr",
     "output_type": "stream",
     "text": [
      " 93%|█████████▎| 14/15 [00:05<00:00,  2.37it/s]\n"
     ]
    },
    {
     "name": "stdout",
     "output_type": "stream",
     "text": [
      "38:48 |    98 |     3.000e-04 |     0.7845 |          2.1290 |     0.6690 |          0.7080 |            4757\n"
     ]
    },
    {
     "name": "stderr",
     "output_type": "stream",
     "text": [
      " 93%|█████████▎| 14/15 [00:05<00:00,  2.38it/s]\n"
     ]
    },
    {
     "name": "stdout",
     "output_type": "stream",
     "text": [
      "38:55 |    99 |     3.000e-04 |     0.8422 |          2.1819 |     0.3472 |          0.7402 |            4757\n"
     ]
    },
    {
     "name": "stderr",
     "output_type": "stream",
     "text": [
      " 93%|█████████▎| 14/15 [00:05<00:00,  2.39it/s]\n"
     ]
    },
    {
     "name": "stdout",
     "output_type": "stream",
     "text": [
      "39:01 |   100 |     3.000e-04 |     0.9787 |          4.2175 |     1.9054 |          1.2269 |            4757\n"
     ]
    }
   ],
   "source": [
    "T.train(device=DEVICE, n_epochs=100)"
   ]
  },
  {
   "cell_type": "markdown",
   "metadata": {
    "id": "IO8u9VW4erqR"
   },
   "source": [
    "We pick the model that got the best validation score and evaluate it on the test set:"
   ]
  },
  {
   "cell_type": "code",
   "execution_count": 246,
   "metadata": {
    "colab": {
     "base_uri": "https://localhost:8080/",
     "height": 392
    },
    "id": "CmGq1cg_eo11",
    "outputId": "c6ba4b0f-59ec-4fd3-b3e1-7e076295535a"
   },
   "outputs": [
    {
     "data": {
      "image/png": "[encoded data removed]",
      "text/plain": [
       "<Figure size 864x432 with 2 Axes>"
      ]
     },
     "metadata": {
      "needs_background": "light",
      "tags": []
     },
     "output_type": "display_data"
    }
   ],
   "source": [
    "results, targets, val_loss = evaluate(T.get_best_model(), test_loader, loss_fn, device=DEVICE)\n",
    "\n",
    "units = {\n",
    "    'energy_grad': r'kcal/mol/$\\AA$',\n",
    "    'energy': 'kcal/mol'\n",
    "}\n",
    "\n",
    "fig, ax_fig = plt.subplots(1, 2, figsize=(12, 6))\n",
    "\n",
    "for ax, key in zip(ax_fig, units.keys()):\n",
    "    pred = torch.stack(results[key], dim=0).view(-1).detach().cpu().numpy()\n",
    "    targ = torch.stack(targets[key], dim=0).view(-1).detach().cpu().numpy()\n",
    "    mae = abs(pred-targ).mean()\n",
    "    \n",
    "    ax.scatter(pred, targ, color='#ff7f0e', alpha=0.3)\n",
    "    \n",
    "    lim_min = min(np.min(pred), np.min(targ)) * 1.1\n",
    "    lim_max = max(np.max(pred), np.max(targ)) * 1.1\n",
    "    \n",
    "    ax.set_xlim(lim_min, lim_max)\n",
    "    ax.set_ylim(lim_min, lim_max)\n",
    "    ax.set_aspect('equal')\n",
    "    \n",
    "    ax.plot((lim_min, lim_max),\n",
    "            (lim_min, lim_max),\n",
    "            color='#000000',\n",
    "            zorder=-1,\n",
    "            linewidth=0.5)\n",
    "    \n",
    "    ax.set_title(key.upper(), fontsize=14)\n",
    "    ax.set_xlabel('predicted %s (%s)' % (key, units[key]), fontsize=12)\n",
    "    ax.set_ylabel('target %s (%s)' % (key, units[key]), fontsize=12)\n",
    "    ax.text(0.1, 0.9, 'MAE: %.2f %s' % (mae, units[key]), \n",
    "           transform=ax.transAxes, fontsize=14)\n",
    "\n",
    "plt.show()"
   ]
  },
  {
   "cell_type": "markdown",
   "metadata": {
    "id": "xem52Bsvexvn"
   },
   "source": [
    "The force and energy errors are respectively 2.5$\\times$ and 3.5$\\times$ smaller than the SchNet errors trained on the same data (0.62 vs. 1.55 kcal/mol/A and 0.24 vs. 0.86 kcal/mol)!"
   ]
  },
  {
   "cell_type": "markdown",
   "metadata": {
    "id": "FqGSP0ape0g9"
   },
   "source": [
    "#### For fun: visualizing the basis functions\n",
    "\n",
    "We can look at the radial and spherical basis functions to see what they look like. We can build the radial functions ourselves and compare them with and without the polynomial envelope:"
   ]
  },
  {
   "cell_type": "code",
   "execution_count": 247,
   "metadata": {
    "id": "-n5bKGEOeyFK"
   },
   "outputs": [],
   "source": [
    "from nff.nn.layers import Envelope\n",
    "\n",
    "envelope_p = 5\n",
    "envelope = Envelope(envelope_p)"
   ]
  },
  {
   "cell_type": "markdown",
   "metadata": {
    "id": "SB_SaAbre5_W"
   },
   "source": [
    "Layers with and without envelope function:"
   ]
  },
  {
   "cell_type": "code",
   "execution_count": 248,
   "metadata": {
    "colab": {
     "base_uri": "https://localhost:8080/",
     "height": 551
    },
    "id": "5zfDlXW2e6UT",
    "outputId": "4342f49e-64b6-4091-9a86-69ec2572b278"
   },
   "outputs": [
    {
     "data": {
      "image/png": "[encoded data removed]",
      "text/plain": [
       "<Figure size 432x288 with 1 Axes>"
      ]
     },
     "metadata": {
      "needs_background": "light",
      "tags": []
     },
     "output_type": "display_data"
    },
    {
     "data": {
      "image/png": "[encoded data removed]",
      "text/plain": [
       "<Figure size 432x288 with 1 Axes>"
      ]
     },
     "metadata": {
      "needs_background": "light",
      "tags": []
     },
     "output_type": "display_data"
    }
   ],
   "source": [
    "cutoff = 5.0\n",
    "\n",
    "n_rbf = 5\n",
    "\n",
    "d = torch.arange(0, cutoff, 0.05).reshape(-1, 1)\n",
    "n = torch.arange(1, n_rbf + 1).float()\n",
    "\n",
    "k_n = n * np.pi / cutoff\n",
    "env = envelope(d / 5)\n",
    "\n",
    "arg = torch.sin(k_n * d) / d\n",
    "\n",
    "plt.plot(d, arg)\n",
    "plt.xlabel(\"r ($\\AA$)\")\n",
    "plt.show()\n",
    "\n",
    "plt.plot(d, arg *env)\n",
    "plt.xlabel(\"r ($\\AA$)\")\n",
    "\n",
    "plt.show()"
   ]
  },
  {
   "cell_type": "markdown",
   "metadata": {
    "id": "TIAQ4TEZe9x-"
   },
   "source": [
    "We can also get the layers directly from the module `DimeNetRadialBasis`:"
   ]
  },
  {
   "cell_type": "code",
   "execution_count": 249,
   "metadata": {
    "colab": {
     "base_uri": "https://localhost:8080/",
     "height": 284
    },
    "id": "5zu3WKmEe-5E",
    "outputId": "ebd0bdb4-6aa7-408b-9b88-b357367ff0d4"
   },
   "outputs": [
    {
     "data": {
      "image/png": "[encoded data removed]",
      "text/plain": [
       "<Figure size 432x288 with 1 Axes>"
      ]
     },
     "metadata": {
      "needs_background": "light",
      "tags": []
     },
     "output_type": "display_data"
    }
   ],
   "source": [
    "from nff.nn.layers import DimeNetRadialBasis, DimeNetSphericalBasis\n",
    "\n",
    "dime_rbf = DimeNetRadialBasis(n_rbf=n_rbf,\n",
    "                 cutoff=cutoff,\n",
    "                 envelope_p=envelope_p)\n",
    "out = dime_rbf(d)\n",
    "\n",
    "plt.plot(d, out.detach().numpy())\n",
    "plt.xlabel(\"r ($\\AA$)\")\n",
    "plt.show()"
   ]
  },
  {
   "cell_type": "markdown",
   "metadata": {
    "id": "uQtHQ_apfCQU"
   },
   "source": [
    "Let's take a look at spherical basis functions, which we get from the `DimeNetSphericalBasis` module. First instantiate the module:"
   ]
  },
  {
   "cell_type": "code",
   "execution_count": 250,
   "metadata": {
    "id": "YRJgYtJEfDxx"
   },
   "outputs": [],
   "source": [
    "n_spher = 4\n",
    "l_spher = 4\n",
    "\n",
    "dime_sbf = DimeNetSphericalBasis(l_spher=l_spher,\n",
    "                 n_spher=n_spher,\n",
    "                 cutoff=5.0,\n",
    "                 envelope_p=6)"
   ]
  },
  {
   "cell_type": "markdown",
   "metadata": {
    "id": "O8_B9Nc-fGsG"
   },
   "source": [
    "Then make an x-y grid, calculate the distances and angles at each point on the grid, get the radial and angular parts of the spherical basis functions, and plot their product:"
   ]
  },
  {
   "cell_type": "code",
   "execution_count": 251,
   "metadata": {
    "id": "FSafbQKCfHDa"
   },
   "outputs": [],
   "source": [
    "self = dime_sbf\n",
    "\n",
    "pos_x = torch.arange(0.05, self.cutoff * 1.2, 0.05)\n",
    "neg_x = torch.arange(-self.cutoff * 1.2, -0.05, 0.05)\n",
    "\n",
    "x = torch.cat([neg_x, pos_x])\n",
    "y = torch.cat([neg_x, pos_x])\n",
    "\n",
    "xv, yv = np.meshgrid(x, y)\n",
    "xv = torch.Tensor(xv)\n",
    "yv = torch.Tensor(yv)\n",
    "                     \n",
    "angles = torch.atan2(input=xv, other=yv)\n",
    "d = (xv ** 2 + yv ** 2) ** 0.5\n",
    "\n",
    "d_scaled = d / self.cutoff\n",
    "rbf = [f(d_scaled) for f in self.bessel_funcs]\n",
    "rbf = torch.stack(rbf, dim=1)\n",
    "\n",
    "u = self.envelope(d_scaled)\n",
    "cbf = [f(angles) for f in self.sph_funcs]\n",
    "cbf = torch.stack(cbf, dim=1)"
   ]
  },
  {
   "cell_type": "code",
   "execution_count": 252,
   "metadata": {
    "colab": {
     "base_uri": "https://localhost:8080/",
     "height": 721
    },
    "id": "rZgpkCMWfLuf",
    "outputId": "4976856a-9b23-46e2-f7ac-782eb5ae438f"
   },
   "outputs": [
    {
     "data": {
      "image/png": "[encoded data removed]",
      "text/plain": [
       "<Figure size 864x432 with 4 Axes>"
      ]
     },
     "metadata": {
      "needs_background": "light",
      "tags": []
     },
     "output_type": "display_data"
    },
    {
     "data": {
      "image/png": "[encoded data removed]",
      "text/plain": [
       "<Figure size 864x432 with 4 Axes>"
      ]
     },
     "metadata": {
      "needs_background": "light",
      "tags": []
     },
     "output_type": "display_data"
    },
    {
     "data": {
      "image/png": "[encoded data removed]",
      "text/plain": [
       "<Figure size 864x432 with 4 Axes>"
      ]
     },
     "metadata": {
      "needs_background": "light",
      "tags": []
     },
     "output_type": "display_data"
    },
    {
     "data": {
      "image/png": "[encoded data removed]",
      "text/plain": [
       "<Figure size 864x432 with 4 Axes>"
      ]
     },
     "metadata": {
      "needs_background": "light",
      "tags": []
     },
     "output_type": "display_data"
    }
   ],
   "source": [
    "for l in range(l_spher):\n",
    "    totals = []\n",
    "    for n in range(n_spher):\n",
    "        total = cbf[:, l, :] * rbf[:, n, :] * u\n",
    "        mask = np.heaviside(cutoff - d, 0)\n",
    "        totals.append(total * mask)\n",
    "        \n",
    "    fig, ax_fig = plt.subplots(1, n_spher, figsize=(12, 6))\n",
    "\n",
    "    \n",
    "    for i, ax in enumerate(ax_fig):\n",
    "        z = -totals[i].numpy() \n",
    "        mesh = ax.pcolormesh(xv, yv, z, cmap='RdBu',\n",
    "                            vmin=-3,\n",
    "                            vmax=3)\n",
    "        ax.set_aspect(1)"
   ]
  },
  {
   "cell_type": "markdown",
   "metadata": {
    "id": "v7RZxYFWhTX7"
   },
   "source": [
    "### Property predictions using 3D conformer geometries\n",
    "\n",
    "This tutorial takes you through 3D-based property predictions. The README in `cp3d/scripts` gives an in-depth description of how to run the necessary scripts, while this tutorial is more focused on exploring what goes on behind the scripts."
   ]
  },
  {
   "cell_type": "markdown",
   "metadata": {
    "id": "YBBL6WwMhcOW"
   },
   "source": [
    "#### Some preliminaries\n",
    "Automatically reload any changes made to files:"
   ]
  },
  {
   "cell_type": "code",
   "execution_count": 253,
   "metadata": {
    "id": "_3tcGUI1hQom"
   },
   "outputs": [],
   "source": [
    "%reload_ext autoreload\n",
    "%autoreload 2"
   ]
  },
  {
   "cell_type": "markdown",
   "metadata": {
    "id": "Bz3rbt2ThiBM"
   },
   "source": [
    "Make sure that `nff` is in your path:"
   ]
  },
  {
   "cell_type": "code",
   "execution_count": 254,
   "metadata": {
    "id": "2fzEHNijhef9"
   },
   "outputs": [],
   "source": [
    "import sys\n",
    "\n",
    "sys.path.insert(0, \"..\")\n",
    "sys.path.insert(0, \"../..\")"
   ]
  },
  {
   "cell_type": "markdown",
   "metadata": {
    "id": "6Ze7G14ThoVt"
   },
   "source": [
    "### Making a dataset\n",
    "To make a dataset we'll need two things. First, we need a folder consisting of pickle files, one for each species. Second we'll need a `JSON` file that summarizes the information about each of the species. If you only have SMILES strings and properties and you need to generate 3D structures, please see the section \"Generating 3D structures\" in `scripts/cp3d/README.md`.\n",
    "\n",
    "This tutorial will use the GEOM dataset as an example. To follow along, download the file `rdkit_folder.tar.gz` from <a href=\"https://dataverse.harvard.edu/file.xhtml?fileId=4327252&version=2.0\">this page</a>. Untar the file by running\n"
   ]
  },
  {
   "cell_type": "code",
   "execution_count": 105,
   "metadata": {
    "id": "Llmmldgyhk8t"
   },
   "outputs": [],
   "source": [
    "# Download rdkit_folder.tar.gz and untar the file\n",
    "!wget -c https://dataverse.harvard.edu/api/access/datafile/4327252 -O rdkit_folder.tar.gz\n",
    "!tar -xf rdkit_folder.tar.gz"
   ]
  },
  {
   "cell_type": "markdown",
   "metadata": {
    "id": "wHTqtU5ZiZll"
   },
   "source": [
    "in the command line. This should generate a folder called `rdkit_folder`. We'll start by getting familiar with the contents of this folder."
   ]
  },
  {
   "cell_type": "markdown",
   "metadata": {
    "id": "Q8KKaeUDigay"
   },
   "source": [
    "### Getting acquainted with the pickle folder\n",
    "\n",
    "We'll define `pickle_folder` as the full path to this RDKit folder, and `summary_path` as the full path to the summary file:"
   ]
  },
  {
   "cell_type": "code",
   "execution_count": 255,
   "metadata": {
    "id": "aQqLUqY3iZ7p"
   },
   "outputs": [],
   "source": [
    "import os\n",
    "\n",
    "# change to wherever you have downloaded the zip file\n",
    "directory = \"NeuralForceField/tutorials\"\n",
    "\n",
    "rd_folder = os.path.join(directory, \"rdkit_folder\")\n",
    "summary_path = os.path.join(rd_folder, \"summary_drugs.json\")"
   ]
  },
  {
   "cell_type": "markdown",
   "metadata": {
    "id": "9pdPThiAjHEU"
   },
   "source": [
    "\n",
    "You can find more information about the structure of the GEOM dataset and loading the files <a href=\"https://github.com/learningmatter-mit/geom\">here</a>. For now we'll take a quick look at the summary file and a sample pickle file.\n",
    "\n",
    "First we'll load the summary dictionary:"
   ]
  },
  {
   "cell_type": "code",
   "execution_count": 256,
   "metadata": {
    "id": "KYotsAMsjHdc"
   },
   "outputs": [],
   "source": [
    "import json\n",
    "with open(summary_path, \"r\") as f:\n",
    "    summary = json.load(f)"
   ]
  },
  {
   "cell_type": "markdown",
   "metadata": {
    "id": "9zC46eUHjWb2"
   },
   "source": [
    "Now let's look at a sample SMILES string:"
   ]
  },
  {
   "cell_type": "code",
   "execution_count": 257,
   "metadata": {
    "colab": {
     "base_uri": "https://localhost:8080/"
    },
    "id": "YTJhshMnjXBO",
    "outputId": "186c23a1-7a94-41ce-f0e5-0af61eb6df23"
   },
   "outputs": [
    {
     "name": "stdout",
     "output_type": "stream",
     "text": [
      "CC(=O)N1CCN(C(=O)CCl)CC1\n"
     ]
    },
    {
     "data": {
      "text/plain": [
       "{'charge': 0,\n",
       " 'datasets': ['mpro_xchem'],\n",
       " 'ensembleenergy': 0.224,\n",
       " 'ensembleentropy': 5.131,\n",
       " 'ensemblefreeenergy': -1.53,\n",
       " 'lowestenergy': -42.33811,\n",
       " 'pickle_path': 'drugs/CC(=O)N1CCN(C(=O)CCl)CC1.pickle',\n",
       " 'poplowestpct': 66.181,\n",
       " 'sars_cov_two_cl_protease_active': 1,\n",
       " 'temperature': 298.15,\n",
       " 'totalconfs': 67,\n",
       " 'uniqueconfs': 16}"
      ]
     },
     "execution_count": 257,
     "metadata": {
      "tags": []
     },
     "output_type": "execute_result"
    }
   ],
   "source": [
    "smiles = list(summary.keys())[10078]\n",
    "print(smiles)\n",
    "dic = summary[smiles]\n",
    "dic"
   ]
  },
  {
   "cell_type": "markdown",
   "metadata": {
    "id": "Ie7fyVUpja9g"
   },
   "source": [
    "Say we want to create a dataset for a set of species with the known property `sars_cov_two_cl_protease_active`. Then the most important two things in this dictionary are the value of `sars_cov_two_cl_protease_active`, and the key `pickle_path`, which tells us where to find the associated pickle file with 3D conformer information.\n",
    "\n",
    "Let's load the associated pickle file and take a look at it:"
   ]
  },
  {
   "cell_type": "code",
   "execution_count": 258,
   "metadata": {
    "id": "iL37DLmIjeRR"
   },
   "outputs": [],
   "source": [
    "import pickle\n",
    "\n",
    "pickle_path = os.path.join(rd_folder, dic['pickle_path'])\n",
    "\n",
    "with open(pickle_path, \"rb\") as f:\n",
    "    conf_dic = pickle.load(f)"
   ]
  },
  {
   "cell_type": "markdown",
   "metadata": {
    "id": "He4SYfE5joLK"
   },
   "source": [
    "The key conformers gives a list of dictionaries, one for each conformer. The most important part of that dictionary is `rd_mol`, an RDKit mol object. This `mol` object contains 3D information as well as bond information. It will allow us to create our dataset for training."
   ]
  },
  {
   "cell_type": "code",
   "execution_count": 259,
   "metadata": {
    "colab": {
     "base_uri": "https://localhost:8080/",
     "height": 1000
    },
    "id": "DlQQNNXEjrVQ",
    "outputId": "f4ef7bd0-da3e-4873-8c22-f0695cbd23ed"
   },
   "outputs": [
    {
     "data": {
      "text/plain": [
       "{'boltzmannweight': 0.00968,\n",
       " 'conformerweights': [0.00161, 0.00161, 0.00161, 0.00161, 0.00161, 0.00161],\n",
       " 'degeneracy': 6,\n",
       " 'geom_id': 133329555,\n",
       " 'rd_mol': <rdkit.Chem.rdchem.Mol at 0x7f6bb2b76230>,\n",
       " 'relativeenergy': 2.505,\n",
       " 'set': 4,\n",
       " 'totalenergy': -42.33411442}"
      ]
     },
     "metadata": {
      "tags": []
     },
     "output_type": "display_data"
    },
    {
     "name": "stdout",
     "output_type": "stream",
     "text": [
      "Statistical weight: 9.68e-03\n"
     ]
    },
    {
     "data": {
      "image/png": "[encoded data removed]",
      "text/plain": [
       "<PIL.PngImagePlugin.PngImageFile image mode=RGB size=600x200 at 0x7F6BA4FA03D0>"
      ]
     },
     "metadata": {
      "tags": []
     },
     "output_type": "display_data"
    },
    {
     "name": "stdout",
     "output_type": "stream",
     "text": [
      "Statistical weight: 7.07e-03\n"
     ]
    },
    {
     "data": {
      "image/png": "[encoded data removed]",
      "text/plain": [
       "<PIL.PngImagePlugin.PngImageFile image mode=RGB size=600x200 at 0x7F6BA4FA0550>"
      ]
     },
     "metadata": {
      "tags": []
     },
     "output_type": "display_data"
    },
    {
     "name": "stdout",
     "output_type": "stream",
     "text": [
      "Statistical weight: 2.42e-03\n"
     ]
    },
    {
     "data": {
      "image/png": "[encoded data removed]",
      "text/plain": [
       "<PIL.PngImagePlugin.PngImageFile image mode=RGB size=600x200 at 0x7F6BA4FA0750>"
      ]
     },
     "metadata": {
      "tags": []
     },
     "output_type": "display_data"
    },
    {
     "name": "stdout",
     "output_type": "stream",
     "text": [
      "Statistical weight: 7.20e-04\n"
     ]
    },
    {
     "data": {
      "image/png": "[encoded data removed]",
      "text/plain": [
       "<PIL.PngImagePlugin.PngImageFile image mode=RGB size=600x200 at 0x7F6BA4FA08D0>"
      ]
     },
     "metadata": {
      "tags": []
     },
     "output_type": "display_data"
    },
    {
     "name": "stdout",
     "output_type": "stream",
     "text": [
      "Statistical weight: 2.40e-04\n"
     ]
    },
    {
     "data": {
      "image/png": "[encoded data removed]",
      "text/plain": [
       "<PIL.PngImagePlugin.PngImageFile image mode=RGB size=600x200 at 0x7F6BA4FA0190>"
      ]
     },
     "metadata": {
      "tags": []
     },
     "output_type": "display_data"
    },
    {
     "name": "stdout",
     "output_type": "stream",
     "text": [
      "Statistical weight: 1.70e-04\n"
     ]
    },
    {
     "data": {
      "image/png": "[encoded data removed]",
      "text/plain": [
       "<PIL.PngImagePlugin.PngImageFile image mode=RGB size=600x200 at 0x7F6BA4FA04D0>"
      ]
     },
     "metadata": {
      "tags": []
     },
     "output_type": "display_data"
    },
    {
     "name": "stdout",
     "output_type": "stream",
     "text": [
      "Statistical weight: 1.60e-04\n"
     ]
    },
    {
     "data": {
      "image/png": "[encoded data removed]",
      "text/plain": [
       "<PIL.PngImagePlugin.PngImageFile image mode=RGB size=600x200 at 0x7F6BA4FA0710>"
      ]
     },
     "metadata": {
      "tags": []
     },
     "output_type": "display_data"
    },
    {
     "name": "stdout",
     "output_type": "stream",
     "text": [
      "Statistical weight: 4.00e-05\n"
     ]
    },
    {
     "data": {
      "image/png": "[encoded data removed]",
      "text/plain": [
       "<PIL.PngImagePlugin.PngImageFile image mode=RGB size=600x200 at 0x7F6BA4FA0790>"
      ]
     },
     "metadata": {
      "tags": []
     },
     "output_type": "display_data"
    },
    {
     "name": "stdout",
     "output_type": "stream",
     "text": [
      "Statistical weight: 2.00e-05\n"
     ]
    },
    {
     "data": {
      "image/png": "[encoded data removed]",
      "text/plain": [
       "<PIL.PngImagePlugin.PngImageFile image mode=RGB size=600x200 at 0x7F6BA4FA0150>"
      ]
     },
     "metadata": {
      "tags": []
     },
     "output_type": "display_data"
    },
    {
     "name": "stdout",
     "output_type": "stream",
     "text": [
      "Statistical weight: 8.00e-05\n"
     ]
    },
    {
     "data": {
      "image/png": "[encoded data removed]",
      "text/plain": [
       "<PIL.PngImagePlugin.PngImageFile image mode=RGB size=600x200 at 0x7F6BA4FA0190>"
      ]
     },
     "metadata": {
      "tags": []
     },
     "output_type": "display_data"
    },
    {
     "name": "stdout",
     "output_type": "stream",
     "text": [
      "Statistical weight: 2.00e-05\n"
     ]
    },
    {
     "data": {
      "image/png": "[encoded data removed]",
      "text/plain": [
       "<PIL.PngImagePlugin.PngImageFile image mode=RGB size=600x200 at 0x7F6BA4FA02D0>"
      ]
     },
     "metadata": {
      "tags": []
     },
     "output_type": "display_data"
    },
    {
     "name": "stdout",
     "output_type": "stream",
     "text": [
      "Statistical weight: 5.00e-05\n"
     ]
    },
    {
     "data": {
      "image/png": "[encoded data removed]",
      "text/plain": [
       "<PIL.PngImagePlugin.PngImageFile image mode=RGB size=600x200 at 0x7F6BB29C25D0>"
      ]
     },
     "metadata": {
      "tags": []
     },
     "output_type": "display_data"
    },
    {
     "name": "stdout",
     "output_type": "stream",
     "text": [
      "Statistical weight: 5.00e-05\n"
     ]
    },
    {
     "data": {
      "image/png": "[encoded data removed]",
      "text/plain": [
       "<PIL.PngImagePlugin.PngImageFile image mode=RGB size=600x200 at 0x7F6BA4FA01D0>"
      ]
     },
     "metadata": {
      "tags": []
     },
     "output_type": "display_data"
    },
    {
     "name": "stdout",
     "output_type": "stream",
     "text": [
      "Statistical weight: 6.62e-01\n"
     ]
    },
    {
     "data": {
      "image/png": "[encoded data removed]",
      "text/plain": [
       "<PIL.PngImagePlugin.PngImageFile image mode=RGB size=600x200 at 0x7F6BB29C25D0>"
      ]
     },
     "metadata": {
      "tags": []
     },
     "output_type": "display_data"
    },
    {
     "name": "stdout",
     "output_type": "stream",
     "text": [
      "Statistical weight: 3.07e-01\n"
     ]
    },
    {
     "data": {
      "image/png": "[encoded data removed]",
      "text/plain": [
       "<PIL.PngImagePlugin.PngImageFile image mode=RGB size=600x200 at 0x7F6BA4FA0090>"
      ]
     },
     "metadata": {
      "tags": []
     },
     "output_type": "display_data"
    },
    {
     "name": "stdout",
     "output_type": "stream",
     "text": [
      "Statistical weight: 1.08e-02\n"
     ]
    },
    {
     "data": {
      "image/png": "[encoded data removed]",
      "text/plain": [
       "<PIL.PngImagePlugin.PngImageFile image mode=RGB size=600x200 at 0x7F6BB29C2050>"
      ]
     },
     "metadata": {
      "tags": []
     },
     "output_type": "display_data"
    }
   ],
   "source": [
    "from rdkit.Chem.Draw import MolsToGridImage\n",
    "\n",
    "display(conf_dic[\"conformers\"][0])\n",
    "\n",
    "for conf in conf_dic[\"conformers\"]:\n",
    "    weight = conf[\"boltzmannweight\"]\n",
    "    print(\"Statistical weight: %.2e\" % weight)\n",
    "    display(MolsToGridImage([conf[\"rd_mol\"]]))"
   ]
  },
  {
   "cell_type": "markdown",
   "metadata": {
    "id": "tdVroyM0jwEY"
   },
   "source": [
    "### Generating training splits\n",
    "\n",
    "Now that we have a pickle folder with pickle files and a summary, let's navigate to `scripts/cp3d/make_dset/splits` to generate training splits.\n",
    "\n",
    "First we'll want to modify the config file. Here we use `config/cov_2_3cl_test.json`. A detailed description of the keys can be found in the README file. The most important things for us are `summary_path`, which we've located, `csv_folder`, the folder in which we want to save our splits, and props, the properties we'll want to predict (`sars_cov_two_cl_protease_active` for us).\n",
    "\n",
    "Now let's run the script itself:"
   ]
  },
  {
   "cell_type": "code",
   "execution_count": 260,
   "metadata": {
    "colab": {
     "base_uri": "https://localhost:8080/"
    },
    "id": "6qGKUJxEj3Ib",
    "outputId": "25bfb347-5eb9-456d-f9e0-b38030d59410"
   },
   "outputs": [
    {
     "name": "stdout",
     "output_type": "stream",
     "text": [
      "/content/NeuralForceField/scripts/cp3d/make_dset/splits\n"
     ]
    }
   ],
   "source": [
    "%cd NeuralForceField/scripts/cp3d/make_dset/splits"
   ]
  },
  {
   "cell_type": "code",
   "execution_count": 169,
   "metadata": {
    "id": "bwMS7jFb6nrW"
   },
   "outputs": [],
   "source": [
    "# !cp -a NeuralForceField/nff NeuralForceField/scripts/cp3d/make_dset/splits"
   ]
  },
  {
   "cell_type": "code",
   "execution_count": null,
   "metadata": {
    "id": "0TDwI8nKwKTu"
   },
   "outputs": [],
   "source": [
    "!bash split.sh"
   ]
  },
  {
   "cell_type": "markdown",
   "metadata": {
    "id": "9MlJ1nLJkJj9"
   },
   "source": [
    "We see that the script has generated CSV files with dataset splits for us, finding a total of 816 species with the property we want, including 78 hits. In this example we've used a scaffold split, so that the different sets do not have molecules that share a scaffold. We can see that the files are saved in `/content/NeuralForceField/tutorials/models/cov_2_cl`:"
   ]
  },
  {
   "cell_type": "code",
   "execution_count": 173,
   "metadata": {
    "colab": {
     "base_uri": "https://localhost:8080/"
    },
    "id": "u9rZDiX0kLNP",
    "outputId": "543f8b17-576c-4187-cf62-97efbc00f22d"
   },
   "outputs": [
    {
     "data": {
      "text/plain": [
       "['all.csv']"
      ]
     },
     "execution_count": 173,
     "metadata": {
      "tags": []
     },
     "output_type": "execute_result"
    }
   ],
   "source": [
    "# change to your folder\n",
    "csv_folder = \"NeuralForceField/scripts/cp3d/make_dset/splits/models/cov_2_cl\"\n",
    "os.listdir(csv_folder)"
   ]
  },
  {
   "cell_type": "markdown",
   "metadata": {
    "id": "l6OlsCfUnHN_"
   },
   "source": [
    "### Creating the dataset from the pickle files and the splits\n",
    "Now that we've created splits, we can use the splits together with the pickle files to generate a dataset. To do so, we run"
   ]
  },
  {
   "cell_type": "code",
   "execution_count": null,
   "metadata": {
    "id": "5uXvm9e80Gvt"
   },
   "outputs": [],
   "source": [
    "# first, let's install jq\n",
    "!apt-get install jq\n",
    "!which jq"
   ]
  },
  {
   "cell_type": "code",
   "execution_count": 149,
   "metadata": {
    "colab": {
     "base_uri": "https://localhost:8080/"
    },
    "id": "tqXIhpb7nIa2",
    "outputId": "c12112ea-dfff-44ef-ae02-907a8689d097"
   },
   "outputs": [
    {
     "name": "stdout",
     "output_type": "stream",
     "text": [
      "/content/NeuralForceField/scripts/cp3d/make_dset/get_dset\n"
     ]
    }
   ],
   "source": [
    "%cd scripts/cp3d/make_dset/get_dset"
   ]
  },
  {
   "cell_type": "code",
   "execution_count": 168,
   "metadata": {
    "id": "MN1-slsm5BGa"
   },
   "outputs": [],
   "source": [
    "# !cp -a NeuralForceField/nff NeuralForceField/scripts/cp3d/make_dset/get_dset"
   ]
  },
  {
   "cell_type": "code",
   "execution_count": null,
   "metadata": {
    "id": "hjq32Cft4EO0"
   },
   "outputs": [],
   "source": [
    "!python dset_from_pickles.py --summary_path 'NeuralForceField/tutorials/rdkit_folder/summary_drugs.json' --thread 2000 --config_file 'NeuralForceField/scripts/cp3d/make_dset/get_dset/config/cov_2_3cl_test.json'"
   ]
  },
  {
   "cell_type": "code",
   "execution_count": null,
   "metadata": {
    "id": "dJdGatVDvx4-"
   },
   "outputs": [],
   "source": [
    "!sh dset_from_pickles.sh"
   ]
  },
  {
   "cell_type": "markdown",
   "metadata": {
    "id": "6N6Pcgj2nodc"
   },
   "source": [
    "on the command line. The details for this job are in `config/cov_2_3cl_test.json`, and are described in detail in the `README`. Here we choose to save the dataset in two chunks."
   ]
  },
  {
   "cell_type": "markdown",
   "metadata": {
    "id": "hGZBrMXfoR6l"
   },
   "source": [
    "A few notes:\n",
    "\n",
    "1. In the config file we chose to make the features with 40 parallel processes. This works for a small dataset, but for bigger datasets like CoV 3CL, this inexplicably fails. The feature generation either hangs indefinitely or fails with the error OSError: [Errno 24] Too many open files. I haven't been able to figure out why yet, but if you're making a big dataset you may have to just use one process.\n",
    "\n",
    "2. In the config file we set strict_conformers to true, which means the dataset excludes any species for which the conformers don't all have the same graph. The script also modifies the CSV files to remove these species. This way we can train a 2D model with the CSV files and know that we're using the same species as in the 3D models.\n",
    "\n",
    "3. Making the dataset is pretty quick for our small dataset with only 816 species. But for a big dataset (e.g. for SARS-CoV, which has 289,000 species), it can take much longer. We recommend running the script in tmux so that it can go on in the background, or submitting it as a job on a cluster. The slowest part of this job is adding the edge indices (kj and ji indices). See more details about this in the scripts/README.md file. This saves a significant amount of memory for ChemProp3D models, but also takes up a huge amount of disk space and slows down dataset generation. It will take up WAY to much disk space for the CoV 3CL dataset, so you probably won't be able to do it (we didn't do it either).\n",
    "\n",
    "The datasets are saved in the folder `dataset_folder` specified in the config file. Let's see what these folders look like:\n",
    "\n",
    "![image.png](data:image/png;base64,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)\n",
    "\n",
    "We see that two folders have been created, one for each dataset split. Each folder contains its own training, validation, and test splits. This division of datasets is useful if the dataset is too large to be loaded into memory on its own (this is the case with the SARS-CoV dataset).\n",
    "\n",
    "If you save the dataset into N separate folders, then when you train over M different GPUs, it will load data from the first M folders. That means that if you separate it into 4 folders and train over 4 GPUs, you will be training on the whole dataset. But if you divide it into 8 folders and train on 4 GPUs, you will only be training on half the dataset. Finally, if you don't divide the dataset, and store it in `<model_path>` (rather than `<model_path/0>`, you can train on as many GPUs as you want."
   ]
  },
  {
   "cell_type": "markdown",
   "metadata": {
    "id": "PMcVkDrLpayk"
   },
   "source": [
    "#### Getting acquainted with the dataset\n",
    "\n",
    "Now that we have our datasets, let's see what they actually look like and what they can do. First let's load one:"
   ]
  },
  {
   "cell_type": "code",
   "execution_count": null,
   "metadata": {
    "id": "CznR85XKnm6D"
   },
   "outputs": [],
   "source": [
    "from nff.data import Dataset\n",
    "\n",
    "# change to your folder\n",
    "dset_folder = \"NeuralForceField/scripts/cp3d/make_dset/splits/models/cov_2_cl\"\n",
    "\n",
    "train_0_path = os.path.join(dset_folder, \"0/train.pth.tar\")\n",
    "train_0 = Dataset.from_file(train_0_path)"
   ]
  },
  {
   "cell_type": "markdown",
   "metadata": {
    "id": "h1iRsKUHp32T"
   },
   "source": [
    "The defining attribute of a dataset is props, its dictionary of properties:"
   ]
  },
  {
   "cell_type": "code",
   "execution_count": null,
   "metadata": {
    "id": "NJ1Cql8np4SZ"
   },
   "outputs": [],
   "source": [
    "props = train_0.props\n",
    "props.keys()"
   ]
  },
  {
   "cell_type": "markdown",
   "metadata": {
    "id": "umefiP55p81T"
   },
   "source": [
    "These keys can be more or less divided into four categories:\n",
    "\n",
    "1. Properties you want to predict\n",
    "2. Extra properties that you don't care about\n",
    "3. Species attributes that are used to predict properties\n",
    "4. Auxiliary properties used to help in training\n",
    "\n",
    "Many of the keys fall into category 2 (`totalenergy`, `uniqueconfs`, etc.). As for category 1, here we're interested in `sars_cov_two_cl_protease_active`. Most molecules are inactive, but some are active:"
   ]
  },
  {
   "cell_type": "code",
   "execution_count": null,
   "metadata": {
    "id": "cL6hDfrEqCIs"
   },
   "outputs": [],
   "source": [
    "props['sars_cov_two_cl_protease_active']"
   ]
  },
  {
   "cell_type": "markdown",
   "metadata": {
    "id": "nAz42H1KqM-q"
   },
   "source": [
    "Category 3 includes `atom_features` (graph-based atomic features), `bond_features` (graph-based bond features), and `nxyz` (geometry of the conformers):"
   ]
  },
  {
   "cell_type": "code",
   "execution_count": null,
   "metadata": {
    "id": "yGaspoKsqNbX"
   },
   "outputs": [],
   "source": [
    "display(props['atom_features'][3])\n",
    "display(props['nxyz'][3])\n",
    "display(props[\"uniqueconfs\"][3])"
   ]
  },
  {
   "cell_type": "markdown",
   "metadata": {
    "id": "uCEqirK8qVo2"
   },
   "source": [
    "The atom features and xyz coordinates are a set of N vectors, where `N` is the total number of atoms of <i>all conformers</i>:"
   ]
  },
  {
   "cell_type": "code",
   "execution_count": null,
   "metadata": {
    "id": "0cN129uRqWna"
   },
   "outputs": [],
   "source": [
    "print(props['atom_features'][4].shape)\n",
    "print(props['nxyz'][4].shape)\n",
    "\n",
    "# mol_size is the number of atoms in one conformer\n",
    "print((props[\"uniqueconfs\"][4] * props[\"mol_size\"][4]).item())"
   ]
  },
  {
   "cell_type": "markdown",
   "metadata": {
    "id": "FnO5-rNoqdBX"
   },
   "source": [
    "By having `mol_size` (the number of atoms in one conformer) as a property, we can easily split these into per-conformer properties:"
   ]
  },
  {
   "cell_type": "code",
   "execution_count": null,
   "metadata": {
    "id": "FoLHFXOiqeFj"
   },
   "outputs": [],
   "source": [
    "import torch\n",
    "\n",
    "nxyz = props['nxyz'][4]\n",
    "mol_size = props[\"mol_size\"][4].item()\n",
    "num_confs = nxyz.shape[0] // mol_size\n",
    "\n",
    "nxyz_by_conformer = torch.split(props['nxyz'][4], [mol_size] * num_confs)\n",
    "len(nxyz_by_conformer)"
   ]
  },
  {
   "cell_type": "markdown",
   "metadata": {
    "id": "cm-L0Wr6qhr-"
   },
   "source": [
    "Category 4 includes keys like `nbr_list` and `bonded_nbr_list`. Each of these is a set of pairs that tell you which atoms are within 5 Angstroms of each other, or bonded to each other, respectively:"
   ]
  },
  {
   "cell_type": "code",
   "execution_count": null,
   "metadata": {
    "id": "_5FdCYqdqjhO"
   },
   "outputs": [],
   "source": [
    "props['nbr_list'][4][:10]"
   ]
  },
  {
   "cell_type": "code",
   "execution_count": null,
   "metadata": {
    "id": "ES5b-uo0qm6k"
   },
   "outputs": [],
   "source": [
    "props['bonded_nbr_list'][4][:10]"
   ]
  },
  {
   "cell_type": "markdown",
   "metadata": {
    "id": "MyuO6dGBqpGs"
   },
   "source": [
    "#### Adding extra features\n",
    "We can also add extra features to the dataset, like Morgan fingerprints. Here we add Morgan fingerprints of size 100:"
   ]
  },
  {
   "cell_type": "code",
   "execution_count": null,
   "metadata": {
    "id": "7-SZxhSoqqTF"
   },
   "outputs": [],
   "source": [
    "train_0.add_morgan(100)\n",
    "\n",
    "print(train_0.props[\"morgan\"][4])"
   ]
  },
  {
   "cell_type": "markdown",
   "metadata": {
    "id": "ooSbEn2gqtyV"
   },
   "source": [
    "We can add 3D features, like WHIM or 3D autocorrelations:"
   ]
  },
  {
   "cell_type": "code",
   "execution_count": null,
   "metadata": {
    "id": "c1kd8hswquSQ"
   },
   "outputs": [],
   "source": [
    "# add whim descriptors\n",
    "train_0.featurize_rdkit('whim')\n",
    "\n",
    "# add autocorrelation_3d descriptors\n",
    "train_0.featurize_rdkit('autocorrelation_3d')"
   ]
  },
  {
   "cell_type": "code",
   "execution_count": null,
   "metadata": {
    "id": "dvtBKucQqzEt"
   },
   "outputs": [],
   "source": [
    "import numpy as np\n",
    "from matplotlib import pyplot as plt\n",
    "\n",
    "# look at the RMSDS between conformers of species 2\n",
    "\n",
    "whims = train_0.props['whim'][4]\n",
    "autcorr = train_0.props['autocorrelation_3d'][4]\n",
    "\n",
    "num_fps = whims.shape[0]\n",
    "\n",
    "whim_rmsds = ((whims.expand(num_fps, num_fps, -1) \n",
    "              - whims.expand(num_fps, num_fps, -1).transpose(0, 1)) ** 2).mean(-1)\n",
    "\n",
    "corr_rmsds = ((autcorr.expand(num_fps, num_fps, -1) \n",
    "              - autcorr.expand(num_fps, num_fps, -1).transpose(0, 1)) ** 2).mean(-1)\n",
    "\n",
    "plt.matshow(whim_rmsds)\n",
    "plt.colorbar()\n",
    "plt.xlabel(\"\\nConformer index\")\n",
    "plt.ylabel(\"Conformer index\")\n",
    "plt.title(\"Conformer WHIM RMSDs\\n\")\n",
    "plt.show()\n",
    "\n",
    "plt.matshow(corr_rmsds)\n",
    "plt.colorbar()\n",
    "plt.xlabel(\"\\nConformer index\")\n",
    "plt.ylabel(\"Conformer index\")\n",
    "plt.title(\"Conformer Autocorrelation RMSDs\\n\")\n",
    "plt.show()"
   ]
  },
  {
   "cell_type": "markdown",
   "metadata": {
    "id": "Ii3RzU33q2YW"
   },
   "source": [
    "We can add E3FP fingerprints, which contain both 3D and graph information (note: using `num_procs > 1` seems to have issues on some computers. Creating the fingerprints with one process takes a few minutes for this dataset, so you can comment out these cells to avoid slowing down the tutorial.)"
   ]
  },
  {
   "cell_type": "code",
   "execution_count": null,
   "metadata": {
    "id": "TUSjEW5Xq3ir"
   },
   "outputs": [],
   "source": [
    "train_0.add_e3fp(256, num_procs=1)"
   ]
  },
  {
   "cell_type": "markdown",
   "metadata": {
    "id": "PhZLtqv_q6jK"
   },
   "source": [
    "We can plot RMSDs for E3FP as well:"
   ]
  },
  {
   "cell_type": "code",
   "execution_count": null,
   "metadata": {
    "id": "pjKhsV60q67t"
   },
   "outputs": [],
   "source": [
    "e3fp = train_0.props['e3fp'][4]\n",
    "e3fp_rmsds = ((e3fp.expand(num_fps, num_fps, -1) \n",
    "              - e3fp.expand(num_fps, num_fps, -1).transpose(0, 1)) ** 2).mean(-1) ** 0.5\n",
    "\n",
    "plt.matshow(e3fp_rmsds)\n",
    "plt.colorbar()\n",
    "plt.xlabel(\"\\nConformer index\")\n",
    "plt.ylabel(\"Conformer index\")\n",
    "plt.title(\"Conformer E3FP RMSDs\\n\")\n",
    "plt.show()"
   ]
  },
  {
   "cell_type": "markdown",
   "metadata": {
    "id": "nQZsyjeBq-Sm"
   },
   "source": [
    "#### Training a model\n",
    "The script for training a model is `cp3d/train/train_parallel.sh`. Details about the config file, parallelizing over GPUs, submitting to a cluster, and so on can be found in the README file. When it comes to running the script it is most helpful to use the README file. Here we'll look at some of what goes on underneath the hood of the scripts, so that you have a better understanding of the process.\n",
    "\n",
    "##### Making a model and seeing how it works\n",
    "\n",
    "Let's first look at creating the model. Here we'll the model type `OnlyBondUpdateCP3D`, which means that ChemProp edge updates are used for bond features, but Gaussian-embedded distance features are not updated. They are simply concatenated with the updated bond features.\n",
    "\n",
    "For this we'll use some of the parameters in the config file:"
   ]
  },
  {
   "cell_type": "code",
   "execution_count": null,
   "metadata": {
    "id": "1O537GcxrA-d"
   },
   "outputs": [],
   "source": [
    "morgan_len = 100\n",
    "whim_len = 114\n",
    "\n",
    "modelparams =  {\n",
    "    \n",
    "        \"model_type\": \"OnlyBondUpdateCP3D\",\n",
    "\n",
    "        \"mol_basis\": 300,\n",
    "        \"cp_dropout\": 0.02,\n",
    "        \"schnet_dropout\": 0.2,\n",
    "        \"activation\": \"ReLU\",\n",
    "        \"n_atom_basis\": 133,\n",
    "        \"n_bond_features\": 26,\n",
    "        \"n_bond_hidden\": 300,\n",
    "        \"n_convolutions\": 2,\n",
    "        \"n_filters\": 64,\n",
    "        \"n_gaussians\": 10,\n",
    "        \"cutoff\": 5.0,\n",
    "\n",
    "        \"input_layers\": [\n",
    "            {\n",
    "                \"name\": \"linear\",\n",
    "                \"param\": {\n",
    "                    \"in_features\": 159,\n",
    "                    \"out_features\": 300\n",
    "                }\n",
    "            },\n",
    "            {\n",
    "                \"name\": \"ReLU\",\n",
    "                \"param\": {}\n",
    "            }\n",
    "        ],\n",
    "\n",
    "        \"output_layers\": [\n",
    "            {\n",
    "                \"name\": \"linear\",\n",
    "                \"param\": {\n",
    "                    # 497 node features from 300 ChemProp hidden features\n",
    "                    # + 133 node features + 64 distance features\n",
    "                    \"in_features\": 497,\n",
    "                    \"out_features\": 300\n",
    "                }\n",
    "            },\n",
    "            {\n",
    "                \"name\": \"ReLU\",\n",
    "                \"param\": {}\n",
    "            }\n",
    "        ],\n",
    "\n",
    "        \"mol_fp_layers\": [],\n",
    "\n",
    "        \"boltzmann_dict\": {\n",
    "            \"boltz_basis\": 10,\n",
    "            \"dropout_rate\": 0.1,\n",
    "            \"final_act\": \"ReLU\",\n",
    "            \"head_pool\": \"concatenate\",\n",
    "            \n",
    "            # add the length of the whim fingerprint\n",
    "            # here, as it will be concatenated with the\n",
    "            # learned 3D fingerprint\n",
    "            \n",
    "            \"mol_basis\": (300 + whim_len),\n",
    "            \"num_heads\": 3,\n",
    "            \"type\": \"linear_attention\"\n",
    "        },\n",
    "\n",
    "        \"readoutdict\": {\n",
    "            \"sars_cov_two_cl_protease_active\": [\n",
    "                {\n",
    "                    \"name\": \"linear\",\n",
    "                    \"param\": {\n",
    "                        \n",
    "                        # add the length of the whim fingerprint\n",
    "                        # since it gets concatenated with the learned fingerprint,\n",
    "                        # and multiply the total by 3 for 3 heads. Then add\n",
    "                        # the Morgan fingerprint length at the end (only one\n",
    "                        # for the whole species, so not multiplied by 3)\n",
    "                        \n",
    "                        \"in_features\": (300 + whim_len ) * 3 + morgan_len,\n",
    "                        \"out_features\": 450\n",
    "                    }\n",
    "                },\n",
    "                {\n",
    "                    \"name\": \"Dropout\",\n",
    "                    \"param\": {\n",
    "                        \"p\": 0.02\n",
    "                    }\n",
    "                },\n",
    "                {\n",
    "                    \"name\": \"ReLU\",\n",
    "                    \"param\": {}\n",
    "                },\n",
    "                {\n",
    "                    \"name\": \"linear\",\n",
    "                    \"param\": {\n",
    "                        \"in_features\": 450,\n",
    "                        \"out_features\": 1\n",
    "                    }\n",
    "                },\n",
    "                {\n",
    "                    \"name\": \"Dropout\",\n",
    "                    \"param\": {\n",
    "                        \"p\": 0.02\n",
    "                    }\n",
    "                }\n",
    "            ]\n",
    "        },\n",
    "    \n",
    "        \"classifier\": True,\n",
    "        \"gauss_embed\": True,\n",
    "        \"same_filters\": True,\n",
    "        \"trainable_gauss\": False,\n",
    "        \"base_keys\": [\"sars_cov_two_cl_protease_active\"],\n",
    "        \"grad_keys\": [],\n",
    "    \n",
    "        \"extra_features\": [\"whim\", \"morgan\"],\n",
    "        \"ext_feat_types\": [\"conformer\", \"species\"],\n",
    "    \n",
    "        \"use_mpnn\": True   \n",
    "}"
   ]
  },
  {
   "cell_type": "markdown",
   "metadata": {
    "id": "1NNf_3dWrYVm"
   },
   "source": [
    "For this demonstration we've changed the `extra_features` and `extra_feat_types` parameters from the config file. Before they were set to None, but here we add Whim and Morgan fingerprints to show how you can add non-learned fingerprints in training. We set `extra_features` to [\"whim\", \"morgan\"], and ext_feat_types to [\"conformer\", \"species\"], meaning that the whim fingerprint applies to conformers separately, and Morgan to the entire species.\n",
    "\n",
    "We've also changed some input dimensions in the layers. The pooling dictionary `boltzmann_dict` now pools molecular fingerprints of size (`300 + whim_len`), as the learned fingerprint gets concatenated with the whim fingerprint. And the readout dictionary also acquires the length of the Morgan fingerprint. Three attention heads leads to an input dimension of size `(300 + whim_len) * 3 + morgan_len`.\n",
    "\n",
    "Now we create a model with these parameters:"
   ]
  },
  {
   "cell_type": "code",
   "execution_count": null,
   "metadata": {
    "id": "T-mcxrLcrjg4"
   },
   "outputs": [],
   "source": [
    "from nff.train import get_model\n",
    "import torch\n",
    "\n",
    "torch.manual_seed(0)\n",
    "model = get_model(params=modelparams,\n",
    "                  model_type=modelparams[\"model_type\"])"
   ]
  },
  {
   "cell_type": "markdown",
   "metadata": {
    "id": "xeLxaCdcroiw"
   },
   "source": [
    "Here's what the model looks like:"
   ]
  },
  {
   "cell_type": "code",
   "execution_count": null,
   "metadata": {
    "id": "u5D1P3wIrqsM"
   },
   "outputs": [],
   "source": [
    "model"
   ]
  },
  {
   "cell_type": "markdown",
   "metadata": {
    "id": "rQO4SA_1rs5d"
   },
   "source": [
    "The input module `W_i` first converts the concatenation of atomic features with edge features into hidden edge vectors:"
   ]
  },
  {
   "cell_type": "code",
   "execution_count": null,
   "metadata": {
    "id": "ULB5JGl4ruSK"
   },
   "outputs": [],
   "source": [
    "model.W_i # dimension (133 + 26 x 300)"
   ]
  },
  {
   "cell_type": "markdown",
   "metadata": {
    "id": "OiWPRAmtr37w"
   },
   "source": [
    "The model then consists of two convolutions to generate atomic fingerprints. Each convolution involves a dense (linear) layer with dropout acting on the atomic features, a Gaussian smearing layre for the distances, and a dense layer to conver them to dimension 64. These edge features are then concatenated and updated. You can look at the source code for `CpSchNetConv` (in `nff/modules.py`) for more details."
   ]
  },
  {
   "cell_type": "code",
   "execution_count": null,
   "metadata": {
    "id": "RtCNw-m9r6bl"
   },
   "outputs": [],
   "source": [
    "print(len(model.convolutions))\n",
    "model.convolutions[0]"
   ]
  },
  {
   "cell_type": "markdown",
   "metadata": {
    "id": "De6Z8AJasA6G"
   },
   "source": [
    "The edge vectors are turned back into atomic feature vectors before summation through `W_o`:"
   ]
  },
  {
   "cell_type": "code",
   "execution_count": null,
   "metadata": {
    "id": "k6nZsypJsB00"
   },
   "outputs": [],
   "source": [
    "model.W_o # dimension (133 + 64 + 300 x 300)"
   ]
  },
  {
   "cell_type": "markdown",
   "metadata": {
    "id": "VwxSZNicsE_q"
   },
   "source": [
    "Next an empty set of layers `mol_fp_nn` acts on the sum of the atomic fingerprints (this is necessary if the atomic fingerprints have a different dimension than the desired dimension for the molecular fingeprint).\n",
    "\n",
    "`boltz_nns` is a set of three linear attention modules to pool the fingerprints together:"
   ]
  },
  {
   "cell_type": "code",
   "execution_count": null,
   "metadata": {
    "id": "IQBpq48IsG5k"
   },
   "outputs": [],
   "source": [
    "print(len(model.boltz_nns))\n",
    "\n",
    "# layer to convert boltzmann weight to vector\n",
    "print(model.boltz_nns[0].boltz_lin)\n",
    "\n",
    "# activation function that follows\n",
    "print(model.boltz_nns[0].boltz_act)\n",
    "\n",
    "# linear layer to convert cat([fingerprint, boltz_vec])\n",
    "# back to original dimension\n",
    "print(model.boltz_nns[0].fp_linear)\n",
    "\n",
    "# linear layer applied to this fingerprint\n",
    "print(model.boltz_nns[0].W)\n",
    "\n",
    "# numbers that multiply W.fp before getting summed and turned into\n",
    "# weights through a softmax\n",
    "\n",
    "print(model.boltz_nns[0].att_weight.shape)"
   ]
  },
  {
   "cell_type": "markdown",
   "metadata": {
    "id": "t3os8jylsKvR"
   },
   "source": [
    "The readout module converts the concatenation of the three sets of pooled fingerprints into a prediction. <b>Caution</b>: do not add a sigmoid layer for a classifier. This will automatically be added in `eval` mode and automatically <b>not added</b> when in train mode. This allows us to use the more stable logits cross entropy loss in `train` mode."
   ]
  },
  {
   "cell_type": "code",
   "execution_count": null,
   "metadata": {
    "id": "5dCawWvYsNWU"
   },
   "outputs": [],
   "source": [
    "model.readout"
   ]
  },
  {
   "cell_type": "markdown",
   "metadata": {
    "id": "n30Dldp0sXMm"
   },
   "source": [
    "We can make a data loader to sample a batch from the dataset and apply our model to it. We can use a custom balanced sampler to make sure we get approximately equal amounts of positive and negative binders:"
   ]
  },
  {
   "cell_type": "code",
   "execution_count": null,
   "metadata": {
    "id": "u1IW0chtsXnE"
   },
   "outputs": [],
   "source": [
    "from nff.data import collate_dicts\n",
    "\n",
    "from torch.utils.data import DataLoader\n",
    "from torch import sigmoid\n",
    "\n",
    "from nff.data.loader import ImbalancedDatasetSampler\n",
    "from nff.data import concatenate_dict\n",
    "from nff.utils.cuda import batch_detach\n",
    "\n",
    "torch.manual_seed(0)\n",
    "\n",
    "sampler = ImbalancedDatasetSampler(target_name=\"sars_cov_two_cl_protease_active\",\n",
    "                                   props=train_0.props)\n",
    "\n",
    "loader = DataLoader(dataset=train_0,\n",
    "                    batch_size=1,\n",
    "                    collate_fn=collate_dicts,\n",
    "                    shuffle=False,\n",
    "                    sampler=sampler)\n",
    "\n",
    "all_results = []\n",
    "all_batches = []\n",
    "key = 'sars_cov_two_cl_protease_active'\n",
    "\n",
    "for i, batch in enumerate(loader):\n",
    "\n",
    "    # get batch\n",
    "    batch = next(iter(loader))\n",
    "\n",
    "    # put model in evaluation mode and apply it\n",
    "    # note that if it's not in evaluation mode\n",
    "    # then the sigmoid layer won't be applied!\n",
    "    model.eval()\n",
    "    results = model(batch, sub_batch_size=7)\n",
    "\n",
    "    # detach computational graph\n",
    "    all_results.append(batch_detach(results))\n",
    "\n",
    "    all_batches.append(batch_detach(batch))\n",
    "\n",
    "    if i >= 19:\n",
    "        break\n",
    "\n",
    "# convert from list of dictionaries to dictionary of lists\n",
    "\n",
    "all_batches = concatenate_dict(*all_batches)\n",
    "all_results =  concatenate_dict(*all_results)"
   ]
  },
  {
   "cell_type": "markdown",
   "metadata": {
    "id": "aP3tpUqNsbbN"
   },
   "source": [
    "Around half of the molecules seen are indeed active:"
   ]
  },
  {
   "cell_type": "code",
   "execution_count": null,
   "metadata": {
    "id": "wn1pjhzpsbzu"
   },
   "outputs": [],
   "source": [
    "display(torch.stack(all_batches[key]))\n",
    "display(sum(all_batches[key]))"
   ]
  },
  {
   "cell_type": "markdown",
   "metadata": {
    "id": "2ZM78e9CsfpP"
   },
   "source": [
    "The predictions include both property predictions and the learned conformer weights:"
   ]
  },
  {
   "cell_type": "code",
   "execution_count": null,
   "metadata": {
    "id": "1zH1ZMqYsgDP"
   },
   "outputs": [],
   "source": [
    "learned_weights = all_results['learned_weights']\n",
    "pred = torch.cat(all_results[key]).reshape(-1)\n",
    "\n",
    "# 7 weights for 7 conformers, x 3 for the 3 attention heads\n",
    "\n",
    "print(f\"Conformer weights for second species:\\n {learned_weights[2].reshape(3, -1)}\")\n",
    "\n",
    "# all predictions\n",
    "print(f\"All predicted {key} values:\\n {pred}\")"
   ]
  },
  {
   "cell_type": "markdown",
   "metadata": {
    "id": "_GpA0PeFsjrQ"
   },
   "source": [
    "#### Training a model\n",
    "Now that we're familiar with how the model works, we can train it. To prepare the trainer class, we'll first need a train loader. We'll load both of the train splits and combine them into one dataset so we can train on overything. If we were training on multiple GPUs then we wouldn't need to do this, but to keep things simple we'll combine them all into one here:"
   ]
  },
  {
   "cell_type": "code",
   "execution_count": null,
   "metadata": {
    "id": "6_K95HaPslJF"
   },
   "outputs": [],
   "source": [
    "dset_folder"
   ]
  },
  {
   "cell_type": "code",
   "execution_count": null,
   "metadata": {
    "id": "PFwFQLo6sppd"
   },
   "outputs": [],
   "source": [
    "# train\n",
    "train_0_path = os.path.join(dset_folder, \"0/train.pth.tar\")\n",
    "train_0 = Dataset.from_file(train_0_path)\n",
    "\n",
    "train_1_path = os.path.join(dset_folder, \"1/train.pth.tar\")\n",
    "train_1 = Dataset.from_file(train_1_path)\n",
    "\n",
    "# validation\n",
    "\n",
    "val_0_path = os.path.join(dset_folder, \"0/val.pth.tar\")\n",
    "val_0 = Dataset.from_file(val_0_path)\n",
    "\n",
    "val_1_path = os.path.join(dset_folder, \"1/val.pth.tar\")\n",
    "val_1 = Dataset.from_file(val_1_path)\n",
    "\n",
    "# test\n",
    "test_0_path = os.path.join(dset_folder, \"0/test.pth.tar\")\n",
    "test_0 = Dataset.from_file(test_0_path)\n",
    "\n",
    "test_1_path = os.path.join(dset_folder, \"1/test.pth.tar\")\n",
    "test_1 = Dataset.from_file(test_1_path)\n",
    "    \n",
    "# add custom features\n",
    "\n",
    "dsets = [train_0, train_1, val_0, val_1, test_0, test_1]\n",
    "paths = [train_0_path, train_1_path,\n",
    "         val_0_path, val_1_path,\n",
    "         test_0_path, test_1_path]\n",
    "    \n",
    "for dset, path in zip(dsets, paths):\n",
    "    dset.featurize_rdkit('whim')\n",
    "    dset.add_morgan(100)\n",
    "    dset.save(path)\n",
    "\n",
    "# datasets can be added!\n",
    "\n",
    "train = train_0 + train_1\n",
    "val = val_0 + val_1"
   ]
  },
  {
   "cell_type": "markdown",
   "metadata": {
    "id": "aJmUSnr_stEK"
   },
   "source": [
    "Now we make data loaders, a loss function, and an optimizer:"
   ]
  },
  {
   "cell_type": "code",
   "execution_count": null,
   "metadata": {
    "id": "TSR1jWL9swJ1"
   },
   "outputs": [],
   "source": [
    "from nff.train import Trainer, loss, hooks, metrics\n",
    "from torch.optim import Adam\n",
    "\n",
    "# make loaders\n",
    "sampler = ImbalancedDatasetSampler(target_name=\"sars_cov_two_cl_protease_active\",\n",
    "                                   props=train.props)\n",
    "train_loader = DataLoader(dataset=train,\n",
    "                          batch_size=1,\n",
    "                          collate_fn=collate_dicts,\n",
    "                          shuffle=False,\n",
    "                          sampler=sampler)\n",
    "\n",
    "# Make the validation loader.\n",
    "# Unlike the train loader, we don't use an equal sampler here\n",
    "# because we want to know the performance on a realistic sample\n",
    "# of the data\n",
    "\n",
    "val_loader = DataLoader(dataset=val,\n",
    "                       batch_size=1,\n",
    "                       collate_fn=collate_dicts,\n",
    "                       shuffle=False,)\n",
    "\n",
    "# build the loss function\n",
    "loss_fn = loss.build_logits_cross_entropy_loss({key: 1})\n",
    "\n",
    "# make an Adam optimizer\n",
    "trainable_params = filter(lambda p: p.requires_grad, model.parameters())\n",
    "optimizer = Adam(trainable_params, lr=1e-4)"
   ]
  },
  {
   "cell_type": "markdown",
   "metadata": {
    "id": "UqfSG07XAfrk"
   },
   "source": [
    "Next we add some custom hooks to the training process. One reduces the learning rate after the validation score plateau, one limits the total training to 100 epochs, and one creates as CSV log file of the training process:"
   ]
  }
 ],
 "metadata": {
  "accelerator": "GPU",
  "colab": {
   "collapsed_sections": [],
   "machine_shape": "hm",
   "name": "NeuralForceField.ipynb",
   "provenance": []
  },
  "kernelspec": {
   "display_name": "Python 3",
   "language": "python",
   "name": "python3"
  },
  "language_info": {
   "codemirror_mode": {
    "name": "ipython",
    "version": 3
   },
   "file_extension": ".py",
   "mimetype": "text/x-python",
   "name": "python",
   "nbconvert_exporter": "python",
   "pygments_lexer": "ipython3",
   "version": "3.8.10"
  },
  "widgets": {
   "application/vnd.jupyter.widget-state+json": {
    "52b06dde1ba84ebcaffc53ce81bc9c71": {
     "model_module": "nglview-js-widgets",
     "model_name": "NGLModel",
     "state": {
      "_camera_orientation": [],
      "_camera_str": "orthographic",
      "_dom_classes": [],
      "_gui_theme": null,
      "_ibtn_fullscreen": "IPY_MODEL_270efaaeaef046cfa38b7916bd5ef5f7",
      "_igui": null,
      "_iplayer": "IPY_MODEL_aeaf04dcc8214ee5b55b27c9d1993cf3",
      "_model_module": "nglview-js-widgets",
      "_model_module_version": "3.0.1",
      "_model_name": "NGLModel",
      "_ngl_color_dict": {},
      "_ngl_coordinate_resource": {},
      "_ngl_full_stage_parameters": {},
      "_ngl_msg_archive": [
       {
        "args": [
         {
          "binary": false,
          "data": "MODEL     1\nATOM      0    C MOL     1       0.006   0.591  -0.001  1.00  0.00           C  \nATOM      1    C MOL     1      -1.254  -0.255  -0.030  1.00  0.00           C  \nATOM      2    O MOL     1       1.088  -0.308   0.048  1.00  0.00           O  \nATOM      3    H MOL     1       0.063   1.284  -0.843  1.00  0.00           H  \nATOM      4    H MOL     1       0.006   1.230   0.885  1.00  0.00           H  \nATOM      5    H MOL     1      -2.218   0.190  -0.058  1.00  0.00           H  \nATOM      6    H MOL     1      -0.911  -1.054  -0.782  1.00  0.00           H  \nATOM      7    H MOL     1      -1.192  -0.742   0.922  1.00  0.00           H  \nATOM      8    H MOL     1       1.849  -0.029  -0.526  1.00  0.00           H  \nENDMDL\n",
          "type": "blob"
         }
        ],
        "kwargs": {
         "defaultRepresentation": true,
         "ext": "pdb"
        },
        "methodName": "loadFile",
        "reconstruc_color_scheme": false,
        "target": "Stage",
        "type": "call_method"
       }
      ],
      "_ngl_original_stage_parameters": {},
      "_ngl_repr_dict": {},
      "_ngl_serialize": false,
      "_ngl_version": "",
      "_ngl_view_id": [],
      "_player_dict": {},
      "_scene_position": {},
      "_scene_rotation": {},
      "_synced_model_ids": [],
      "_synced_repr_model_ids": [],
      "_view_count": null,
      "_view_height": "",
      "_view_module": "nglview-js-widgets",
      "_view_module_version": "3.0.1",
      "_view_name": "NGLView",
      "_view_width": "",
      "background": "white",
      "frame": 0,
      "gui_style": null,
      "layout": "IPY_MODEL_ac4b1094090843b8895c1c2657b9de46",
      "max_frame": 20,
      "n_components": 0,
      "picked": {}
     }
    }
   }
  }
 },
 "nbformat": 4,
 "nbformat_minor": 1
}
