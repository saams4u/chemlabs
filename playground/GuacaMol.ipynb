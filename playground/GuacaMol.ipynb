{
 "cells": [
  {
   "cell_type": "markdown",
   "metadata": {
    "id": "iCtldzzHVhg3"
   },
   "source": [
    "## GuacaMol: Benchmarking Models for de Novo Molecular Design\n",
    "\n",
    "ABSTRACT: De novo design seeks to generate molecules with required property profiles by virtual design-make-test cycles.\n",
    "With the emergence of deep learning and neural generative models in many application areas, models for molecular design based on neural networks appeared recently and show\n",
    "promising results. However, the new models have not been profiled on consistent tasks, and comparative studies to well-established algorithms have only seldom been performed. To\n",
    "standardize the assessment of both classical and neural models for de novo molecular design, we propose an evaluation framework, GuacaMol, based on a suite of standardized benchmarks. The benchmark tasks encompass measuring the\n",
    "fidelity of the models to reproduce the property distribution of the training sets, the ability to generate novel molecules, the exploration and exploitation of chemical space, and a variety of single and multiobjective optimization tasks. The benchmarking open-source Python code and a leaderboard can be found on https://benevolent.ai/guacamol.\n",
    "\n",
    "Link to paper: https://pubs.acs.org/doi/pdf/10.1021/acs.jcim.8b00839\n",
    "\n",
    "Credit: https://github.com/BenevolentAI/guacamol"
   ]
  },
  {
   "cell_type": "code",
   "execution_count": 1,
   "metadata": {
    "colab": {
     "base_uri": "https://localhost:8080/"
    },
    "id": "JFO8BG7QVXvS",
    "outputId": "d6255f6c-7229-45d8-e662-00ead93048d9"
   },
   "outputs": [
    {
     "name": "stdout",
     "output_type": "stream",
     "text": [
      "Cloning into 'guacamol'...\n",
      "remote: Enumerating objects: 454, done.\u001b[K\n",
      "remote: Counting objects: 100% (57/57), done.\u001b[K\n",
      "remote: Compressing objects: 100% (43/43), done.\u001b[K\n",
      "remote: Total 454 (delta 29), reused 26 (delta 11), pack-reused 397\u001b[K\n",
      "Receiving objects: 100% (454/454), 107.64 KiB | 8.97 MiB/s, done.\n",
      "Resolving deltas: 100% (284/284), done.\n",
      "/content/guacamol\n"
     ]
    }
   ],
   "source": [
    "# Clone the repository and cd into directory\n",
    "!git clone https://github.com/BenevolentAI/guacamol.git\n",
    "%cd guacamol"
   ]
  },
  {
   "cell_type": "code",
   "execution_count": null,
   "metadata": {
    "id": "MuPboWaGV0Uz"
   },
   "outputs": [],
   "source": [
    "# Install RDKit\n",
    "!pip install rdkit-pypi==2021.3.1.5\n",
    "\n",
    "# The easiest way to install guacamol is with pip\n",
    "!pip install guacamol"
   ]
  },
  {
   "cell_type": "code",
   "execution_count": null,
   "metadata": {
    "id": "6vDgYWIZWCUH"
   },
   "outputs": [],
   "source": [
    "# install requirements / dependencies\n",
    "!pip install -r requirements.txt"
   ]
  },
  {
   "cell_type": "markdown",
   "metadata": {
    "id": "tDWxI2yIWwaG"
   },
   "source": [
    "### Benchmarking models\n",
    "\n",
    "For the distribution-learning benchmarks, specialize <code>DistributionMatchingGenerator</code> (from <code>guacamol.distribution_matching_generator</code>) for your model. Instances of this class must be able to generate molecules similar to the training set.\n",
    "\n",
    "For the actual benchmarks, call <code>assess_distribution_learning</code> (from <code>guacamol.assess_distribution_learning</code>) with an instance of your class. You must also provide the location of the training set file (See section \"Data\" below).\n",
    "\n",
    "For the goal-directed benchmarks, specialize <code>GoalDirectedGenerator</code> (from <code>guacamol.goal_directed_generator</code>) for your model. Instances of this class must be able to generate a specified number of molecules that achieve high scores for a given scoring function.\n",
    "\n",
    "For the actual benchmarks, call <code>assess_goal_directed_generation</code> (from <code>guacamol.assess_goal_directed_generation</code>) with an instance of your class.\n",
    "\n",
    "Example implementations for baseline methods are available from https://github.com/BenevolentAI/guacamol_baselines."
   ]
  },
  {
   "cell_type": "code",
   "execution_count": 5,
   "metadata": {
    "colab": {
     "base_uri": "https://localhost:8080/"
    },
    "id": "KjOl5vD7WnIE",
    "outputId": "9ef926ea-5dad-4dda-a45b-774d5d5a9dc5"
   },
   "outputs": [
    {
     "name": "stdout",
     "output_type": "stream",
     "text": [
      "Cloning into 'guacamol_baselines'...\n",
      "remote: Enumerating objects: 193, done.\u001b[K\n",
      "remote: Counting objects: 100% (17/17), done.\u001b[K\n",
      "remote: Compressing objects: 100% (15/15), done.\u001b[K\n",
      "remote: Total 193 (delta 6), reused 6 (delta 2), pack-reused 176\u001b[K\n",
      "Receiving objects: 100% (193/193), 120.96 MiB | 26.41 MiB/s, done.\n",
      "Resolving deltas: 100% (84/84), done.\n",
      "Checking out files: 100% (64/64), done.\n",
      "/content/guacamol/guacamol_baselines\n"
     ]
    }
   ],
   "source": [
    "# Download guacamol_baselines repo\n",
    "!git clone https://github.com/BenevolentAI/guacamol_baselines.git\n",
    "%cd guacamol_baselines"
   ]
  },
  {
   "cell_type": "markdown",
   "metadata": {
    "id": "L5_IXPpfYO21"
   },
   "source": [
    "Some baselines require the guacamol dataset to run, to get it run:"
   ]
  },
  {
   "cell_type": "code",
   "execution_count": null,
   "metadata": {
    "id": "N8BP329kYSXN"
   },
   "outputs": [],
   "source": [
    "!bash fetch_guacamol_dataset.sh"
   ]
  },
  {
   "cell_type": "markdown",
   "metadata": {
    "id": "v6a9u0o_XokT"
   },
   "source": [
    "#### Random Sampler\n",
    "\n",
    "Dummy baseline, always returning random molecules form the guacamol training set.\n",
    "\n",
    "To execute the goal-directed generation benchmarks:"
   ]
  },
  {
   "cell_type": "code",
   "execution_count": 7,
   "metadata": {
    "colab": {
     "base_uri": "https://localhost:8080/"
    },
    "id": "zjfCiwYnXpEd",
    "outputId": "d5279f76-c98f-4a64-fe53-1c3563636fec"
   },
   "outputs": [
    {
     "name": "stdout",
     "output_type": "stream",
     "text": [
      "Using TensorFlow backend.\n",
      "INFO : Benchmarking goal-directed molecule generation, version v1\n",
      "INFO : Number of benchmarks: 20\n",
      "INFO : Running benchmark 1/20: C11H24\n",
      "INFO : Results for the benchmark \"C11H24\":\n",
      "INFO :   Score: 0.092990\n",
      "INFO :   Execution time: 0:00:00\n",
      "INFO :   Metadata: {'top_159': 0.09298979816729333, 'internal_similarity_max': 0.37681159420289856, 'internal_similarity_mean': 0.11010675021320677, 'internal_similarity_histogram_density': ([4.226494205134291, 5.514022388354891, 0.2523634349907044, 0.007119971520113921, 0.0, 0.0, 0.0, 0.0, 0.0, 0.0],), 'internal_similarity_histogram_bins': ([0.0, 0.1, 0.2, 0.30000000000000004, 0.4, 0.5, 0.6000000000000001, 0.7000000000000001, 0.8, 0.9, 1.0],)}\n",
      "INFO : Running benchmark 2/20: C7H8N2O2\n",
      "INFO : Results for the benchmark \"C7H8N2O2\":\n",
      "INFO :   Score: 0.177531\n",
      "INFO :   Execution time: 0:00:00\n",
      "INFO :   Metadata: {'top_100': 0.17753116188008472, 'internal_similarity_max': 0.34375, 'internal_similarity_mean': 0.10715941223721612, 'internal_similarity_histogram_density': ([4.412, 5.414, 0.17199999999999993, 0.0020000000000000005, 0.0, 0.0, 0.0, 0.0, 0.0, 0.0],), 'internal_similarity_histogram_bins': ([0.0, 0.1, 0.2, 0.30000000000000004, 0.4, 0.5, 0.6000000000000001, 0.7000000000000001, 0.8, 0.9, 1.0],)}\n",
      "INFO : Running benchmark 3/20: C9H10N2O2PF2Cl\n",
      "INFO : Results for the benchmark \"C9H10N2O2PF2Cl\":\n",
      "INFO :   Score: 0.319224\n",
      "INFO :   Execution time: 0:00:00\n",
      "INFO :   Metadata: {'top_100': 0.3192236938407323, 'internal_similarity_max': 0.41379310344827586, 'internal_similarity_mean': 0.10559792920744206, 'internal_similarity_histogram_density': ([4.62, 5.18, 0.19199999999999992, 0.006000000000000001, 0.0020000000000000005, 0.0, 0.0, 0.0, 0.0, 0.0],), 'internal_similarity_histogram_bins': ([0.0, 0.1, 0.2, 0.30000000000000004, 0.4, 0.5, 0.6000000000000001, 0.7000000000000001, 0.8, 0.9, 1.0],)}\n",
      "INFO : Running benchmark 4/20: Cobimetinib MPO\n",
      "INFO : Results for the benchmark \"Cobimetinib MPO\":\n",
      "INFO :   Score: 0.797431\n",
      "INFO :   Execution time: 0:00:00\n",
      "INFO :   Metadata: {'top_1': 0.8943809877633363, 'top_10': 0.8567806091673, 'top_100': 0.6411315682595482, 'internal_similarity_max': 0.43478260869565216, 'internal_similarity_mean': 0.10773988335730186, 'internal_similarity_histogram_density': ([4.394, 5.42, 0.18199999999999994, 0.0, 0.004000000000000001, 0.0, 0.0, 0.0, 0.0, 0.0],), 'internal_similarity_histogram_bins': ([0.0, 0.1, 0.2, 0.30000000000000004, 0.4, 0.5, 0.6000000000000001, 0.7000000000000001, 0.8, 0.9, 1.0],)}\n",
      "INFO : Running benchmark 5/20: Osimertinib MPO\n",
      "INFO : Results for the benchmark \"Osimertinib MPO\":\n",
      "INFO :   Score: 0.705986\n",
      "INFO :   Execution time: 0:00:00\n",
      "INFO :   Metadata: {'top_1': 0.8303210204670484, 'top_10': 0.7918360576143769, 'top_100': 0.4958009931418822, 'internal_similarity_max': 0.391304347826087, 'internal_similarity_mean': 0.10179345975450556, 'internal_similarity_histogram_density': ([5.114, 4.678, 0.20199999999999993, 0.006000000000000001, 0.0, 0.0, 0.0, 0.0, 0.0, 0.0],), 'internal_similarity_histogram_bins': ([0.0, 0.1, 0.2, 0.30000000000000004, 0.4, 0.5, 0.6000000000000001, 0.7000000000000001, 0.8, 0.9, 1.0],)}\n",
      "INFO : Running benchmark 6/20: Fexofenadine MPO\n",
      "INFO : Results for the benchmark \"Fexofenadine MPO\":\n",
      "INFO :   Score: 0.655271\n",
      "INFO :   Execution time: 0:00:00\n",
      "INFO :   Metadata: {'top_1': 0.7615026921194321, 'top_10': 0.7393152599530937, 'top_100': 0.4649947034317702, 'internal_similarity_max': 0.3188405797101449, 'internal_similarity_mean': 0.103454722661247, 'internal_similarity_histogram_density': ([4.97, 4.826, 0.19599999999999992, 0.008000000000000002, 0.0, 0.0, 0.0, 0.0, 0.0, 0.0],), 'internal_similarity_histogram_bins': ([0.0, 0.1, 0.2, 0.30000000000000004, 0.4, 0.5, 0.6000000000000001, 0.7000000000000001, 0.8, 0.9, 1.0],)}\n",
      "INFO : Running benchmark 7/20: Physchem MPO\n",
      "INFO : Results for the benchmark \"Physchem MPO\":\n",
      "INFO :   Score: 0.512957\n",
      "INFO :   Execution time: 0:00:00\n",
      "INFO :   Metadata: {'top_1': 0.5454290902471174, 'top_10': 0.5241013869462117, 'top_100': 0.4693399675872506, 'internal_similarity_max': 0.34615384615384615, 'internal_similarity_mean': 0.10586988742852085, 'internal_similarity_histogram_density': ([4.664, 5.086, 0.2399999999999999, 0.010000000000000004, 0.0, 0.0, 0.0, 0.0, 0.0, 0.0],), 'internal_similarity_histogram_bins': ([0.0, 0.1, 0.2, 0.30000000000000004, 0.4, 0.5, 0.6000000000000001, 0.7000000000000001, 0.8, 0.9, 1.0],)}\n",
      "INFO : Running benchmark 8/20: Ranolazine MPO\n",
      "INFO : Results for the benchmark \"Ranolazine MPO\":\n",
      "INFO :   Score: 0.441960\n",
      "INFO :   Execution time: 0:00:00\n",
      "INFO :   Metadata: {'top_1': 0.5143027789195905, 'top_10': 0.48267134924453836, 'top_100': 0.3289060768423089, 'internal_similarity_max': 0.40217391304347827, 'internal_similarity_mean': 0.10834384274825225, 'internal_similarity_histogram_density': ([4.386, 5.402, 0.2079999999999999, 0.0020000000000000005, 0.0020000000000000005, 0.0, 0.0, 0.0, 0.0, 0.0],), 'internal_similarity_histogram_bins': ([0.0, 0.1, 0.2, 0.30000000000000004, 0.4, 0.5, 0.6000000000000001, 0.7000000000000001, 0.8, 0.9, 1.0],)}\n",
      "INFO : Running benchmark 9/20: Celecoxib rediscovery\n",
      "INFO : Results for the benchmark \"Celecoxib rediscovery\":\n",
      "INFO :   Score: 0.135338\n",
      "INFO :   Execution time: 0:00:00\n",
      "INFO :   Metadata: {'top_1': 0.13533834586466165, 'internal_similarity_max': 0.0, 'internal_similarity_mean': 0.0, 'internal_similarity_histogram_density': ([10.0, 0.0, 0.0, 0.0, 0.0, 0.0, 0.0, 0.0, 0.0, 0.0],), 'internal_similarity_histogram_bins': ([0.0, 0.1, 0.2, 0.30000000000000004, 0.4, 0.5, 0.6000000000000001, 0.7000000000000001, 0.8, 0.9, 1.0],)}\n",
      "INFO : Running benchmark 10/20: Troglitazone rediscovery\n",
      "INFO : Results for the benchmark \"Troglitazone rediscovery\":\n",
      "INFO :   Score: 0.100000\n",
      "INFO :   Execution time: 0:00:00\n",
      "INFO :   Metadata: {'top_1': 0.1, 'internal_similarity_max': 0.0, 'internal_similarity_mean': 0.0, 'internal_similarity_histogram_density': ([10.0, 0.0, 0.0, 0.0, 0.0, 0.0, 0.0, 0.0, 0.0, 0.0],), 'internal_similarity_histogram_bins': ([0.0, 0.1, 0.2, 0.30000000000000004, 0.4, 0.5, 0.6000000000000001, 0.7000000000000001, 0.8, 0.9, 1.0],)}\n",
      "INFO : Running benchmark 11/20: Thiothixene rediscovery\n",
      "INFO : Results for the benchmark \"Thiothixene rediscovery\":\n",
      "INFO :   Score: 0.194444\n",
      "INFO :   Execution time: 0:00:00\n",
      "INFO :   Metadata: {'top_1': 0.19444444444444445, 'internal_similarity_max': 0.0, 'internal_similarity_mean': 0.0, 'internal_similarity_histogram_density': ([10.0, 0.0, 0.0, 0.0, 0.0, 0.0, 0.0, 0.0, 0.0, 0.0],), 'internal_similarity_histogram_bins': ([0.0, 0.1, 0.2, 0.30000000000000004, 0.4, 0.5, 0.6000000000000001, 0.7000000000000001, 0.8, 0.9, 1.0],)}\n",
      "INFO : Running benchmark 12/20: Aripiprazole similarity\n",
      "INFO : Results for the benchmark \"Aripiprazole similarity\":\n",
      "INFO :   Score: 0.511824\n",
      "INFO :   Execution time: 0:00:00\n",
      "INFO :   Metadata: {'top_1': 0.6381766381766382, 'top_10': 0.5424898575859798, 'top_100': 0.35480519702695573, 'internal_similarity_max': 0.45161290322580644, 'internal_similarity_mean': 0.10614798217488397, 'internal_similarity_histogram_density': ([4.768, 4.902, 0.30199999999999994, 0.026000000000000006, 0.0020000000000000005, 0.0, 0.0, 0.0, 0.0, 0.0],), 'internal_similarity_histogram_bins': ([0.0, 0.1, 0.2, 0.30000000000000004, 0.4, 0.5, 0.6000000000000001, 0.7000000000000001, 0.8, 0.9, 1.0],)}\n",
      "INFO : Running benchmark 13/20: Albuterol similarity\n",
      "INFO : Results for the benchmark \"Albuterol similarity\":\n",
      "INFO :   Score: 0.308891\n",
      "INFO :   Execution time: 0:00:00\n",
      "INFO :   Metadata: {'top_1': 0.368421052631579, 'top_10': 0.33188440351234877, 'top_100': 0.2263683060927074, 'internal_similarity_max': 0.4925373134328358, 'internal_similarity_mean': 0.09733237912044412, 'internal_similarity_histogram_density': ([5.626, 4.254, 0.11199999999999996, 0.006000000000000001, 0.0020000000000000005, 0.0, 0.0, 0.0, 0.0, 0.0],), 'internal_similarity_histogram_bins': ([0.0, 0.1, 0.2, 0.30000000000000004, 0.4, 0.5, 0.6000000000000001, 0.7000000000000001, 0.8, 0.9, 1.0],)}\n",
      "INFO : Running benchmark 14/20: Mestranol similarity\n",
      "INFO : Results for the benchmark \"Mestranol similarity\":\n",
      "INFO :   Score: 0.288893\n",
      "INFO :   Execution time: 0:00:00\n",
      "INFO :   Metadata: {'top_1': 0.43831417624521074, 'top_10': 0.27448643503390346, 'top_100': 0.15387836220447024, 'internal_similarity_max': 0.34146341463414637, 'internal_similarity_mean': 0.1078882071245534, 'internal_similarity_histogram_density': ([4.308, 5.468, 0.21599999999999991, 0.008000000000000002, 0.0, 0.0, 0.0, 0.0, 0.0, 0.0],), 'internal_similarity_histogram_bins': ([0.0, 0.1, 0.2, 0.30000000000000004, 0.4, 0.5, 0.6000000000000001, 0.7000000000000001, 0.8, 0.9, 1.0],)}\n",
      "INFO : Running benchmark 15/20: logP (target: -1.0)\n",
      "INFO : Results for the benchmark \"logP (target: -1.0)\":\n",
      "INFO :   Score: 0.437004\n",
      "INFO :   Execution time: 0:00:00\n",
      "INFO :   Metadata: {'top_1': 0.9606378577531849, 'top_10': 0.31470388145989436, 'top_100': 0.03566882656904152, 'internal_similarity_max': 0.35135135135135137, 'internal_similarity_mean': 0.09955014806348352, 'internal_similarity_histogram_density': ([5.142, 4.71, 0.13999999999999996, 0.008000000000000002, 0.0, 0.0, 0.0, 0.0, 0.0, 0.0],), 'internal_similarity_histogram_bins': ([0.0, 0.1, 0.2, 0.30000000000000004, 0.4, 0.5, 0.6000000000000001, 0.7000000000000001, 0.8, 0.9, 1.0],)}\n",
      "INFO : Running benchmark 16/20: logP (target: 8.0)\n",
      "INFO : Results for the benchmark \"logP (target: 8.0)\":\n",
      "INFO :   Score: 0.241351\n",
      "INFO :   Execution time: 0:00:00\n",
      "INFO :   Metadata: {'top_1': 0.5121728465477775, 'top_10': 0.19031797372687997, 'top_100': 0.021562489626746312, 'internal_similarity_max': 0.3246753246753247, 'internal_similarity_mean': 0.10086606785544928, 'internal_similarity_histogram_density': ([5.234, 4.62, 0.14199999999999996, 0.004000000000000001, 0.0, 0.0, 0.0, 0.0, 0.0, 0.0],), 'internal_similarity_histogram_bins': ([0.0, 0.1, 0.2, 0.30000000000000004, 0.4, 0.5, 0.6000000000000001, 0.7000000000000001, 0.8, 0.9, 1.0],)}\n",
      "INFO : Running benchmark 17/20: TPSA (target: 150.0)\n",
      "INFO : Results for the benchmark \"TPSA (target: 150.0)\":\n",
      "INFO :   Score: 0.563745\n",
      "INFO :   Execution time: 0:00:00\n",
      "INFO :   Metadata: {'top_1': 0.9306979410988697, 'top_10': 0.6712679452514877, 'top_100': 0.08926912044805946, 'internal_similarity_max': 0.47191011235955055, 'internal_similarity_mean': 0.0981913430615706, 'internal_similarity_histogram_density': ([5.556, 4.278, 0.15999999999999995, 0.004000000000000001, 0.0020000000000000005, 0.0, 0.0, 0.0, 0.0, 0.0],), 'internal_similarity_histogram_bins': ([0.0, 0.1, 0.2, 0.30000000000000004, 0.4, 0.5, 0.6000000000000001, 0.7000000000000001, 0.8, 0.9, 1.0],)}\n",
      "INFO : Running benchmark 18/20: CNS MPO\n",
      "INFO : Results for the benchmark \"CNS MPO\":\n",
      "INFO :   Score: 0.931961\n",
      "INFO :   Execution time: 0:00:00\n",
      "INFO :   Metadata: {'top_1': 0.9935773630377295, 'top_10': 0.9798387611859433, 'top_100': 0.8224674149081767, 'internal_similarity_max': 0.38461538461538464, 'internal_similarity_mean': 0.09966035476617707, 'internal_similarity_histogram_density': ([5.324, 4.514, 0.15799999999999995, 0.004000000000000001, 0.0, 0.0, 0.0, 0.0, 0.0, 0.0],), 'internal_similarity_histogram_bins': ([0.0, 0.1, 0.2, 0.30000000000000004, 0.4, 0.5, 0.6000000000000001, 0.7000000000000001, 0.8, 0.9, 1.0],)}\n",
      "INFO : Running benchmark 19/20: QED\n",
      "INFO : Results for the benchmark \"QED\":\n",
      "INFO :   Score: 0.801354\n",
      "INFO :   Execution time: 0:00:00\n",
      "INFO :   Metadata: {'top_1': 0.9410988358595881, 'top_10': 0.8906649626028909, 'top_100': 0.5722993416777253, 'internal_similarity_max': 0.3625, 'internal_similarity_mean': 0.1004756954033498, 'internal_similarity_histogram_density': ([5.138, 4.714, 0.14399999999999996, 0.004000000000000001, 0.0, 0.0, 0.0, 0.0, 0.0, 0.0],), 'internal_similarity_histogram_bins': ([0.0, 0.1, 0.2, 0.30000000000000004, 0.4, 0.5, 0.6000000000000001, 0.7000000000000001, 0.8, 0.9, 1.0],)}\n",
      "INFO : Running benchmark 20/20: Median molecules 1\n",
      "INFO : Results for the benchmark \"Median molecules 1\":\n",
      "INFO :   Score: 0.106582\n",
      "INFO :   Execution time: 0:00:00\n",
      "INFO :   Metadata: {'top_1': 0.15384615384615385, 'top_10': 0.11697397144081667, 'top_100': 0.04892583077211045, 'internal_similarity_max': 0.515625, 'internal_similarity_mean': 0.10657859131716049, 'internal_similarity_histogram_density': ([4.73, 4.928, 0.3179999999999999, 0.020000000000000007, 0.0020000000000000005, 0.0019999999999999983, 0.0, 0.0, 0.0, 0.0],), 'internal_similarity_histogram_bins': ([0.0, 0.1, 0.2, 0.30000000000000004, 0.4, 0.5, 0.6000000000000001, 0.7000000000000001, 0.8, 0.9, 1.0],)}\n",
      "INFO : Finished execution of the benchmarks\n",
      "INFO : Save results to file /content/guacamol/guacamol_baselines/random_smiles_sampler/goal_directed_results.json\n"
     ]
    }
   ],
   "source": [
    "!python -m random_smiles_sampler.goal_directed_generation"
   ]
  },
  {
   "cell_type": "markdown",
   "metadata": {
    "id": "LFndMoqbYfxx"
   },
   "source": [
    "To execute the distribution learning benchmarks:"
   ]
  },
  {
   "cell_type": "code",
   "execution_count": 8,
   "metadata": {
    "colab": {
     "base_uri": "https://localhost:8080/"
    },
    "id": "gEj1-wfEYYfg",
    "outputId": "f78a934f-c23d-4455-b8c9-beafce180f0d"
   },
   "outputs": [
    {
     "name": "stdout",
     "output_type": "stream",
     "text": [
      "Using TensorFlow backend.\n",
      "INFO : Benchmarking distribution learning, version v2\n",
      "INFO : Number of benchmarks: 5\n",
      "INFO : Running benchmark 1/5: Validity\n",
      "INFO : Results for the benchmark \"Validity\":\n",
      "INFO :   Score: 1.000000\n",
      "INFO :   Sampling time: 0:00:00\n",
      "INFO :   Metadata: {'number_samples': 10000, 'number_valid': 10000}\n",
      "INFO : Running benchmark 2/5: Uniqueness\n",
      "INFO : Results for the benchmark \"Uniqueness\":\n",
      "INFO :   Score: 0.997300\n",
      "INFO :   Sampling time: 0:00:01\n",
      "INFO :   Metadata: {'number_samples': 10000, 'number_unique': 9973}\n",
      "INFO : Running benchmark 3/5: Novelty\n",
      "INFO : Results for the benchmark \"Novelty\":\n",
      "INFO :   Score: 0.000000\n",
      "INFO :   Sampling time: 0:00:02\n",
      "INFO :   Metadata: {'number_samples': 10000, 'number_novel': 0}\n",
      "INFO : Running benchmark 4/5: KL divergence\n",
      "INFO : Results for the benchmark \"KL divergence\":\n",
      "INFO :   Score: 0.997969\n",
      "INFO :   Sampling time: 0:00:02\n",
      "INFO :   Metadata: {'number_samples': 10000, 'kl_divs': {'BertzCT': 0.0012015463424993604, 'MolLogP': 0.0024355549401267954, 'MolWt': 0.0016357127643657162, 'TPSA': 0.0020343779426826615, 'NumHAcceptors': 0.0006817182427284512, 'NumHDonors': 0.001991097422345216, 'NumRotatableBonds': 0.00432276938378636, 'NumAliphaticRings': 0.0016621140538980186, 'NumAromaticRings': 0.0014409021219740706, 'internal_similarity': 0.002930312891500725}}\n",
      "INFO : Running benchmark 5/5: Frechet ChemNet Distance\n",
      "INFO : Saved ChemNet model to '/tmp/ChemNet_v0.13_pretrained.h5'\n",
      "WARNING:tensorflow:From /usr/local/lib/python3.7/dist-packages/keras/backend/tensorflow_backend.py:63: The name tf.get_default_graph is deprecated. Please use tf.compat.v1.get_default_graph instead.\n",
      "\n",
      "WARNING : From /usr/local/lib/python3.7/dist-packages/keras/backend/tensorflow_backend.py:63: The name tf.get_default_graph is deprecated. Please use tf.compat.v1.get_default_graph instead.\n",
      "\n",
      "WARNING:tensorflow:From /usr/local/lib/python3.7/dist-packages/keras/backend/tensorflow_backend.py:492: The name tf.placeholder is deprecated. Please use tf.compat.v1.placeholder instead.\n",
      "\n",
      "WARNING : From /usr/local/lib/python3.7/dist-packages/keras/backend/tensorflow_backend.py:492: The name tf.placeholder is deprecated. Please use tf.compat.v1.placeholder instead.\n",
      "\n",
      "WARNING:tensorflow:From /usr/local/lib/python3.7/dist-packages/keras/backend/tensorflow_backend.py:3013: calling dropout (from tensorflow.python.ops.nn_ops) with keep_prob is deprecated and will be removed in a future version.\n",
      "Instructions for updating:\n",
      "Please use `rate` instead of `keep_prob`. Rate should be set to `rate = 1 - keep_prob`.\n",
      "WARNING : From /usr/local/lib/python3.7/dist-packages/keras/backend/tensorflow_backend.py:3013: calling dropout (from tensorflow.python.ops.nn_ops) with keep_prob is deprecated and will be removed in a future version.\n",
      "Instructions for updating:\n",
      "Please use `rate` instead of `keep_prob`. Rate should be set to `rate = 1 - keep_prob`.\n",
      "WARNING:tensorflow:From /usr/local/lib/python3.7/dist-packages/keras/backend/tensorflow_backend.py:3677: The name tf.truncated_normal is deprecated. Please use tf.random.truncated_normal instead.\n",
      "\n",
      "WARNING : From /usr/local/lib/python3.7/dist-packages/keras/backend/tensorflow_backend.py:3677: The name tf.truncated_normal is deprecated. Please use tf.random.truncated_normal instead.\n",
      "\n",
      "WARNING:tensorflow:From /usr/local/lib/python3.7/dist-packages/keras/backend/tensorflow_backend.py:2821: where (from tensorflow.python.ops.array_ops) is deprecated and will be removed in a future version.\n",
      "Instructions for updating:\n",
      "Use tf.where in 2.0, which has the same broadcast rule as np.where\n",
      "WARNING : From /usr/local/lib/python3.7/dist-packages/keras/backend/tensorflow_backend.py:2821: where (from tensorflow.python.ops.array_ops) is deprecated and will be removed in a future version.\n",
      "Instructions for updating:\n",
      "Use tf.where in 2.0, which has the same broadcast rule as np.where\n",
      "WARNING:tensorflow:From /usr/local/lib/python3.7/dist-packages/keras/backend/tensorflow_backend.py:3630: The name tf.random_uniform is deprecated. Please use tf.random.uniform instead.\n",
      "\n",
      "WARNING : From /usr/local/lib/python3.7/dist-packages/keras/backend/tensorflow_backend.py:3630: The name tf.random_uniform is deprecated. Please use tf.random.uniform instead.\n",
      "\n",
      "WARNING:tensorflow:From /usr/local/lib/python3.7/dist-packages/keras/backend/tensorflow_backend.py:1242: calling reduce_sum_v1 (from tensorflow.python.ops.math_ops) with keep_dims is deprecated and will be removed in a future version.\n",
      "Instructions for updating:\n",
      "keep_dims is deprecated, use keepdims instead\n",
      "WARNING : From /usr/local/lib/python3.7/dist-packages/keras/backend/tensorflow_backend.py:1242: calling reduce_sum_v1 (from tensorflow.python.ops.math_ops) with keep_dims is deprecated and will be removed in a future version.\n",
      "Instructions for updating:\n",
      "keep_dims is deprecated, use keepdims instead\n",
      "WARNING:tensorflow:From /usr/local/lib/python3.7/dist-packages/keras/backend/tensorflow_backend.py:158: The name tf.get_default_session is deprecated. Please use tf.compat.v1.get_default_session instead.\n",
      "\n",
      "WARNING : From /usr/local/lib/python3.7/dist-packages/keras/backend/tensorflow_backend.py:158: The name tf.get_default_session is deprecated. Please use tf.compat.v1.get_default_session instead.\n",
      "\n",
      "WARNING:tensorflow:From /usr/local/lib/python3.7/dist-packages/keras/backend/tensorflow_backend.py:163: The name tf.ConfigProto is deprecated. Please use tf.compat.v1.ConfigProto instead.\n",
      "\n",
      "WARNING : From /usr/local/lib/python3.7/dist-packages/keras/backend/tensorflow_backend.py:163: The name tf.ConfigProto is deprecated. Please use tf.compat.v1.ConfigProto instead.\n",
      "\n",
      "WARNING:tensorflow:From /usr/local/lib/python3.7/dist-packages/keras/backend/tensorflow_backend.py:168: The name tf.Session is deprecated. Please use tf.compat.v1.Session instead.\n",
      "\n",
      "WARNING : From /usr/local/lib/python3.7/dist-packages/keras/backend/tensorflow_backend.py:168: The name tf.Session is deprecated. Please use tf.compat.v1.Session instead.\n",
      "\n",
      "2021-05-23 18:06:52.685091: I tensorflow/core/platform/cpu_feature_guard.cc:142] Your CPU supports instructions that this TensorFlow binary was not compiled to use: AVX2 AVX512F FMA\n",
      "2021-05-23 18:06:52.688565: I tensorflow/core/platform/profile_utils/cpu_utils.cc:94] CPU Frequency: 2000155000 Hz\n",
      "2021-05-23 18:06:52.688840: I tensorflow/compiler/xla/service/service.cc:168] XLA service 0x55e5fb4a7800 initialized for platform Host (this does not guarantee that XLA will be used). Devices:\n",
      "2021-05-23 18:06:52.688877: I tensorflow/compiler/xla/service/service.cc:176]   StreamExecutor device (0): Host, Default Version\n",
      "WARNING:tensorflow:From /usr/local/lib/python3.7/dist-packages/keras/backend/tensorflow_backend.py:172: The name tf.global_variables is deprecated. Please use tf.compat.v1.global_variables instead.\n",
      "\n",
      "WARNING : From /usr/local/lib/python3.7/dist-packages/keras/backend/tensorflow_backend.py:172: The name tf.global_variables is deprecated. Please use tf.compat.v1.global_variables instead.\n",
      "\n",
      "WARNING:tensorflow:From /usr/local/lib/python3.7/dist-packages/keras/backend/tensorflow_backend.py:181: The name tf.is_variable_initialized is deprecated. Please use tf.compat.v1.is_variable_initialized instead.\n",
      "\n",
      "WARNING : From /usr/local/lib/python3.7/dist-packages/keras/backend/tensorflow_backend.py:181: The name tf.is_variable_initialized is deprecated. Please use tf.compat.v1.is_variable_initialized instead.\n",
      "\n",
      "WARNING:tensorflow:From /usr/local/lib/python3.7/dist-packages/keras/backend/tensorflow_backend.py:188: The name tf.variables_initializer is deprecated. Please use tf.compat.v1.variables_initializer instead.\n",
      "\n",
      "WARNING : From /usr/local/lib/python3.7/dist-packages/keras/backend/tensorflow_backend.py:188: The name tf.variables_initializer is deprecated. Please use tf.compat.v1.variables_initializer instead.\n",
      "\n",
      "WARNING:tensorflow:From /usr/local/lib/python3.7/dist-packages/keras/optimizers.py:711: The name tf.train.Optimizer is deprecated. Please use tf.compat.v1.train.Optimizer instead.\n",
      "\n",
      "WARNING : From /usr/local/lib/python3.7/dist-packages/keras/optimizers.py:711: The name tf.train.Optimizer is deprecated. Please use tf.compat.v1.train.Optimizer instead.\n",
      "\n",
      "WARNING:tensorflow:From /usr/local/lib/python3.7/dist-packages/keras/backend/tensorflow_backend.py:2944: The name tf.log is deprecated. Please use tf.math.log instead.\n",
      "\n",
      "WARNING : From /usr/local/lib/python3.7/dist-packages/keras/backend/tensorflow_backend.py:2944: The name tf.log is deprecated. Please use tf.math.log instead.\n",
      "\n",
      "WARNING:tensorflow:From /usr/local/lib/python3.7/dist-packages/keras/backend/tensorflow_backend.py:953: The name tf.assign_add is deprecated. Please use tf.compat.v1.assign_add instead.\n",
      "\n",
      "WARNING : From /usr/local/lib/python3.7/dist-packages/keras/backend/tensorflow_backend.py:953: The name tf.assign_add is deprecated. Please use tf.compat.v1.assign_add instead.\n",
      "\n",
      "WARNING:tensorflow:From /usr/local/lib/python3.7/dist-packages/keras/backend/tensorflow_backend.py:675: calling Constant.__init__ (from tensorflow.python.ops.init_ops) with dtype is deprecated and will be removed in a future version.\n",
      "Instructions for updating:\n",
      "Call initializer instance with the dtype argument instead of passing it to the constructor\n",
      "WARNING : From /usr/local/lib/python3.7/dist-packages/keras/backend/tensorflow_backend.py:675: calling Constant.__init__ (from tensorflow.python.ops.init_ops) with dtype is deprecated and will be removed in a future version.\n",
      "Instructions for updating:\n",
      "Call initializer instance with the dtype argument instead of passing it to the constructor\n",
      "WARNING:tensorflow:From /usr/local/lib/python3.7/dist-packages/keras/backend/tensorflow_backend.py:940: The name tf.assign is deprecated. Please use tf.compat.v1.assign instead.\n",
      "\n",
      "WARNING : From /usr/local/lib/python3.7/dist-packages/keras/backend/tensorflow_backend.py:940: The name tf.assign is deprecated. Please use tf.compat.v1.assign instead.\n",
      "\n",
      "INFO : Results for the benchmark \"Frechet ChemNet Distance\":\n",
      "INFO :   Score: 0.927235\n",
      "INFO :   Sampling time: 0:00:01\n",
      "INFO :   Metadata: {'number_reference_molecules': 10000, 'number_generated_molecules': 10000, 'FCD': 0.377741544591089}\n",
      "INFO : Finished execution of the benchmarks\n",
      "INFO : Save results to file /content/guacamol/guacamol_baselines/random_smiles_sampler/distribution_learning_results.json\n"
     ]
    }
   ],
   "source": [
    "!python -m random_smiles_sampler.distribution_learning"
   ]
  },
  {
   "cell_type": "markdown",
   "metadata": {
    "id": "8iuC28ycYoqK"
   },
   "source": [
    "#### Best from ChEMBL\n",
    "\n",
    "Dummy baseline that simply returns the molecules from the guacamol training set that best satisfy the score of a goal-directed benchmark.\n",
    "There is no model nor training, its only purpose is to establish a lower bound on the benchmark scores.\n",
    "\n",
    "To execute the goal-directed generation benchmarks:"
   ]
  },
  {
   "cell_type": "code",
   "execution_count": null,
   "metadata": {
    "id": "LKBTqOgSYi_a"
   },
   "outputs": [],
   "source": [
    "!python -m best_from_chembl.goal_directed_generation"
   ]
  },
  {
   "cell_type": "markdown",
   "metadata": {
    "id": "C1bjz_1VYwqO"
   },
   "source": [
    "No distribution learning benchmark available."
   ]
  },
  {
   "cell_type": "markdown",
   "metadata": {
    "id": "lH3liMNJbU-T"
   },
   "source": [
    "#### SMILES GA\n",
    "Genetic algorithm on SMILES as described in: https://www.journal.csj.jp/doi/10.1246/cl.180665\n",
    "\n",
    "Implementation adapted from: https://github.com/tsudalab/ChemGE\n",
    "\n",
    "To execute the goal-directed generation benchmarks:"
   ]
  },
  {
   "cell_type": "code",
   "execution_count": null,
   "metadata": {
    "id": "HTlxxBQSYxSS"
   },
   "outputs": [],
   "source": [
    "!python -m smiles_ga.goal_directed_generation"
   ]
  },
  {
   "cell_type": "markdown",
   "metadata": {
    "id": "-to9FS8mbaaQ"
   },
   "source": [
    "No distribution learning benchmark available."
   ]
  },
  {
   "cell_type": "markdown",
   "metadata": {
    "id": "0n8Nvxpkbd7F"
   },
   "source": [
    "#### Graph MCTS\n",
    "\n",
    "Monte Carlo Tree Search on molecule graphs as described in: https://doi.org/10.26434/chemrxiv.7240751\n",
    "\n",
    "Implementation adapted from: https://github.com/jensengroup/GB-GB\n",
    "\n",
    "To execute the goal-directed generation benchmarks:"
   ]
  },
  {
   "cell_type": "code",
   "execution_count": null,
   "metadata": {
    "id": "a1ZkKzgWba3c"
   },
   "outputs": [],
   "source": [
    "!python -m graph_mcts.goal_directed_generation"
   ]
  },
  {
   "cell_type": "markdown",
   "metadata": {
    "id": "Zd5AsMHybh0z"
   },
   "source": [
    "To execute the distribution learning benchmarks:"
   ]
  },
  {
   "cell_type": "code",
   "execution_count": null,
   "metadata": {
    "id": "_ipWu-TPbkme"
   },
   "outputs": [],
   "source": [
    "!python -m graph_mcts.distribution_learning"
   ]
  },
  {
   "cell_type": "markdown",
   "metadata": {
    "id": "tUBa8WbMbm6E"
   },
   "source": [
    "To re-generate the distribution statistics as pickle files:"
   ]
  },
  {
   "cell_type": "code",
   "execution_count": null,
   "metadata": {
    "id": "dT1rDBTIbogI"
   },
   "outputs": [],
   "source": [
    "!python -m graph_mcts.analyze_dataset"
   ]
  },
  {
   "cell_type": "markdown",
   "metadata": {
    "id": "5WF_n1Elbr_t"
   },
   "source": [
    "#### SMILES LSTM Hill Climbing\n",
    "Long-short term memory on SMILES as described in: https://arxiv.org/abs/1701.01329\n",
    "\n",
    "This implementation optimizes using hill climbing algorithm.\n",
    "\n",
    "Implementation by BenevolentAI\n",
    "\n",
    "A pre-trained model is provided in: smiles_lstm/pretrained_model\n",
    "\n",
    "To execute the goal-directed generation benchmarks:"
   ]
  },
  {
   "cell_type": "code",
   "execution_count": null,
   "metadata": {
    "id": "xIr1IlyUbs9o"
   },
   "outputs": [],
   "source": [
    "!python -m smiles_lstm_hc.goal_directed_generation"
   ]
  },
  {
   "cell_type": "markdown",
   "metadata": {
    "id": "W0ChWKCpbvO9"
   },
   "source": [
    "To execute the distribution learning benchmark:"
   ]
  },
  {
   "cell_type": "code",
   "execution_count": null,
   "metadata": {
    "id": "hjNZOXOzbwva"
   },
   "outputs": [],
   "source": [
    "!python -m smiles_lstm_hc.distribution_learning"
   ]
  },
  {
   "cell_type": "markdown",
   "metadata": {
    "id": "evTr9bK1bzyr"
   },
   "source": [
    "To train a model from scratch:"
   ]
  },
  {
   "cell_type": "code",
   "execution_count": null,
   "metadata": {
    "id": "hbcu14Pob0OB"
   },
   "outputs": [],
   "source": [
    "!python -m smiles_lstm_hc.train_smiles_lstm_model"
   ]
  },
  {
   "cell_type": "markdown",
   "metadata": {
    "id": "iAvnL0u3b4rB"
   },
   "source": [
    "#### SMILES LSTM PPO\n",
    "\n",
    "Long-short term memory on SMILES as described in: https://arxiv.org/abs/1701.01329\n",
    "\n",
    "This implementation optimizes using proximal policy optimization algorithm.\n",
    "\n",
    "Implementation by BenevolentAI\n",
    "\n",
    "A pre-trained model is provided in: smiles_lstm/pretrained_model\n",
    "\n",
    "To execute the goal-directed generation benchmarks:"
   ]
  },
  {
   "cell_type": "code",
   "execution_count": null,
   "metadata": {
    "id": "gX92_HWrb5k0"
   },
   "outputs": [],
   "source": [
    "!python -m smiles_lstm_ppo.goal_directed_generation"
   ]
  }
 ],
 "metadata": {
  "accelerator": "GPU",
  "colab": {
   "collapsed_sections": [],
   "machine_shape": "hm",
   "name": "GuacaMol.ipynb",
   "provenance": []
  },
  "kernelspec": {
   "display_name": "Python 3",
   "language": "python",
   "name": "python3"
  },
  "language_info": {
   "codemirror_mode": {
    "name": "ipython",
    "version": 3
   },
   "file_extension": ".py",
   "mimetype": "text/x-python",
   "name": "python",
   "nbconvert_exporter": "python",
   "pygments_lexer": "ipython3",
   "version": "3.8.10"
  }
 },
 "nbformat": 4,
 "nbformat_minor": 1
}
